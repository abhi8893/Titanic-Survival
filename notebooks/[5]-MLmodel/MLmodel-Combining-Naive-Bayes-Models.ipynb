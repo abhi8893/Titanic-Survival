{
 "cells": [
  {
   "cell_type": "markdown",
   "metadata": {},
   "source": [
    "# Combining Naive Bayes Models"
   ]
  },
  {
   "cell_type": "markdown",
   "metadata": {},
   "source": [
    "Here I will \n",
    "1. Combine GaussianNB, MultinomialNB, BernoulliNB by fitting each model with the appropriate data type. \n",
    "2. I will try a power transformation to make the data more Gaussian or \n",
    "3. I will write a custom NonParametricNB to model using the KernelDensity KernelDensityNB or\n",
    "4. I will fit an appropriate skewed distribution "
   ]
  },
  {
   "cell_type": "code",
   "execution_count": 1,
   "metadata": {},
   "outputs": [],
   "source": [
    "from sklearn.naive_bayes import GaussianNB, MultinomialNB, BernoulliNB"
   ]
  },
  {
   "cell_type": "code",
   "execution_count": 49,
   "metadata": {},
   "outputs": [],
   "source": [
    "import pandas as pd\n",
    "import numpy as np"
   ]
  },
  {
   "cell_type": "code",
   "execution_count": 64,
   "metadata": {},
   "outputs": [],
   "source": [
    "import sys\n",
    "sys.path.append(\"../\")\n",
    "\n",
    "from src.preprocessing import NaNDropper"
   ]
  },
  {
   "cell_type": "code",
   "execution_count": 6,
   "metadata": {},
   "outputs": [],
   "source": [
    "df = pd.read_csv(\"../data/raw/train.csv\").drop('PassengerId', axis=1)\n",
    "dfX = df.drop('Survived', axis=1)\n",
    "dfy = df.Survived"
   ]
  },
  {
   "cell_type": "code",
   "execution_count": 68,
   "metadata": {},
   "outputs": [],
   "source": [
    "from sklearn.preprocessing import power_transform\n",
    "from sklearn.base import BaseEstimator, ClassifierMixin\n",
    "from sklearn.preprocessing import PowerTransformer, StandardScaler, OneHotEncoder\n",
    "from sklearn.pipeline import Pipeline, make_pipeline\n",
    "from sklearn.compose import ColumnTransformer\n",
    "from sklearn.impute import SimpleImputer\n",
    "from sklearn.neighbors import KernelDensity"
   ]
  },
  {
   "cell_type": "code",
   "execution_count": 70,
   "metadata": {},
   "outputs": [],
   "source": [
    "class KernelDensityNB(BaseEstimator, ClassifierMixin):\n",
    "    \"\"\"Bayesian generative classification based on KDE\n",
    "    \n",
    "    Parameters\n",
    "    ----------\n",
    "    bandwidth : float\n",
    "        the kernel bandwidth within each class\n",
    "    kernel : str\n",
    "        the kernel name, passed to KernelDensity\n",
    "    \"\"\"\n",
    "    def __init__(self, bandwidth=1.0, kernel='gaussian'):\n",
    "        self.bandwidth = bandwidth\n",
    "        self.kernel = kernel\n",
    "        \n",
    "    def fit(self, X, y):\n",
    "        self.classes_ = np.sort(np.unique(y))\n",
    "        training_sets = [X[y == yi] for yi in self.classes_]\n",
    "        self.models_ = [KernelDensity(bandwidth=self.bandwidth,\n",
    "                                      kernel=self.kernel).fit(Xi)\n",
    "                        for Xi in training_sets]\n",
    "        self.logpriors_ = [np.log(Xi.shape[0] / X.shape[0])\n",
    "                           for Xi in training_sets]\n",
    "        return self\n",
    "        \n",
    "    def predict_proba(self, X):\n",
    "        logprobs = np.array([model.score_samples(X)\n",
    "                             for model in self.models_]).T\n",
    "        result = np.exp(logprobs + self.logpriors_)\n",
    "        return result / result.sum(1, keepdims=True)\n",
    "        \n",
    "    def predict(self, X):\n",
    "        return self.classes_[np.argmax(self.predict_proba(X), 1)]"
   ]
  },
  {
   "cell_type": "code",
   "execution_count": 65,
   "metadata": {},
   "outputs": [],
   "source": [
    "pre1 = Pipeline([\n",
    "    ('nan_drpr', NaNDropper(['Embarked']))\n",
    "])\n",
    "\n",
    "dfX, dfy = pre1.fit_transform(dfX, dfy)"
   ]
  },
  {
   "cell_type": "markdown",
   "metadata": {},
   "source": [
    "## Preprocessing"
   ]
  },
  {
   "cell_type": "code",
   "execution_count": 69,
   "metadata": {},
   "outputs": [],
   "source": [
    "pre2 = Pipeline([\n",
    "    ('imp', SimpleImputer()),\n",
    "    ('powtrans', PowerTransformer(method='box-cox'))\n",
    "], 'passthrough')\n",
    "\n",
    "precomb = ColumnTransformer([\n",
    "    ('clmn_drpr', 'drop', ['Name', 'Ticket', 'Cabin']),\n",
    "    ('enc', OneHotEncoder(drop='first'), ['Sex', 'Embarked']),\n",
    "    ('imp_powtrans', pre2, ['Age'])\n",
    "], 'passthrough')"
   ]
  },
  {
   "cell_type": "markdown",
   "metadata": {},
   "source": [
    "I will \n",
    "1. Use the boxcox transformation for Age and model GaussianNB on it\n",
    "2. Fit KernelDensityNB on Fare \n",
    "3. MultinomialNB on Parch, and SibSp\n",
    "4. BernoulliNB on Sex and Embarked after OneHotEncoding"
   ]
  },
  {
   "cell_type": "code",
   "execution_count": null,
   "metadata": {},
   "outputs": [],
   "source": [
    "GaussianNB()"
   ]
  },
  {
   "cell_type": "code",
   "execution_count": null,
   "metadata": {},
   "outputs": [],
   "source": [
    "MultinomialNB()"
   ]
  },
  {
   "cell_type": "code",
   "execution_count": null,
   "metadata": {},
   "outputs": [],
   "source": [
    "BernoulliNB()"
   ]
  },
  {
   "cell_type": "code",
   "execution_count": null,
   "metadata": {},
   "outputs": [],
   "source": [
    "KernelDensityNB()"
   ]
  },
  {
   "cell_type": "code",
   "execution_count": null,
   "metadata": {},
   "outputs": [],
   "source": [
    "class HybridNB(BaseEstimator, ClassifierMixin):\n",
    "    \n",
    "    def __init__(self, \n",
    "                gcols, mcols, bcols, kcols,\n",
    "                gpriors=None, gvar_smoothing=1e-09,\n",
    "                mfit_prior=True, mclass_prior=None, \n",
    "                balpha=1.0, bbinarize=0.0, bfit_prior=True, bclass_prior=None,\n",
    "                kbandwidth=1.0, kkernel='gaussian'):\n",
    "        \n",
    "        self.gcols, self.mcols, self.bcols, self.kcols = gcols, mcols, bcols, kcols\n",
    "        self.gpriors, self.gvar_smoothing = gpriors, gvar_smoothing\n",
    "        self.mfit_prior, self.mclass_prior = mfit_prior, mclass_prior\n",
    "        self.balpha, self.bbinarize, self.bfit_prior, self.bclass_prior"
   ]
  }
 ],
 "metadata": {
  "kernelspec": {
   "display_name": "Python [conda env:titansurv] *",
   "language": "python",
   "name": "conda-env-titansurv-py"
  },
  "language_info": {
   "codemirror_mode": {
    "name": "ipython",
    "version": 3
   },
   "file_extension": ".py",
   "mimetype": "text/x-python",
   "name": "python",
   "nbconvert_exporter": "python",
   "pygments_lexer": "ipython3",
   "version": "3.8.2"
  }
 },
 "nbformat": 4,
 "nbformat_minor": 4
}
