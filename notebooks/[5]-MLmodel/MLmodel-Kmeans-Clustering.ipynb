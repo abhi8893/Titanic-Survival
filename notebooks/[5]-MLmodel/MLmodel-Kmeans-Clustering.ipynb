{
 "cells": [
  {
   "cell_type": "markdown",
   "metadata": {},
   "source": [
    "# Classification using Clustering : KMeans "
   ]
  },
  {
   "cell_type": "markdown",
   "metadata": {},
   "source": [
    "Here I will design a pipeline to first do clustering with Kmeans and then apply a classification algorithm on the labels"
   ]
  },
  {
   "cell_type": "code",
   "execution_count": 1,
   "metadata": {
    "ExecuteTime": {
     "end_time": "2020-05-14T19:39:39.302503Z",
     "start_time": "2020-05-14T19:39:39.225144Z"
    }
   },
   "outputs": [
    {
     "name": "stderr",
     "output_type": "stream",
     "text": [
      "<frozen importlib._bootstrap>:219: RuntimeWarning: numpy.ufunc size changed, may indicate binary incompatibility. Expected 192 from C header, got 216 from PyObject\n",
      "<frozen importlib._bootstrap>:219: RuntimeWarning: numpy.ufunc size changed, may indicate binary incompatibility. Expected 192 from C header, got 216 from PyObject\n",
      "<frozen importlib._bootstrap>:219: RuntimeWarning: numpy.ufunc size changed, may indicate binary incompatibility. Expected 192 from C header, got 216 from PyObject\n"
     ]
    }
   ],
   "source": [
    "from sklearn.cluster import KMeans\n",
    "from sklearn.pipeline import Pipeline\n",
    "from sklearn.compose import ColumnTransformer\n",
    "\n",
    "import pandas as pd\n",
    "from src.utils import load_data"
   ]
  },
  {
   "cell_type": "code",
   "execution_count": 2,
   "metadata": {
    "ExecuteTime": {
     "end_time": "2020-05-14T19:39:58.788867Z",
     "start_time": "2020-05-14T19:39:58.775753Z"
    }
   },
   "outputs": [],
   "source": [
    "dfX, dfy = load_data(return_X_y=True)"
   ]
  },
  {
   "cell_type": "code",
   "execution_count": 3,
   "metadata": {
    "ExecuteTime": {
     "end_time": "2020-05-14T19:40:00.459322Z",
     "start_time": "2020-05-14T19:40:00.450026Z"
    }
   },
   "outputs": [],
   "source": [
    "from src.preprocessing import NaNDropper"
   ]
  },
  {
   "cell_type": "code",
   "execution_count": 6,
   "metadata": {
    "ExecuteTime": {
     "end_time": "2020-05-14T19:41:17.133379Z",
     "start_time": "2020-05-14T19:41:17.114653Z"
    }
   },
   "outputs": [],
   "source": [
    "pre1 = Pipeline([\n",
    "    ('nan_drpr', NaNDropper(['Embarked']))\n",
    "])\n",
    "\n",
    "dfX_pre, dfy_pre = pre1.fit_transform(dfX, dfy)"
   ]
  },
  {
   "cell_type": "markdown",
   "metadata": {},
   "source": [
    "## Preprocessing"
   ]
  },
  {
   "cell_type": "code",
   "execution_count": 7,
   "metadata": {
    "ExecuteTime": {
     "end_time": "2020-05-14T19:41:19.633652Z",
     "start_time": "2020-05-14T19:41:19.626430Z"
    }
   },
   "outputs": [],
   "source": [
    "from sklearn.preprocessing import OneHotEncoder, StandardScaler\n",
    "from sklearn.impute import SimpleImputer\n",
    "from sklearn.compose import ColumnTransformer"
   ]
  },
  {
   "cell_type": "code",
   "execution_count": 8,
   "metadata": {
    "ExecuteTime": {
     "end_time": "2020-05-14T19:41:20.041413Z",
     "start_time": "2020-05-14T19:41:20.009187Z"
    }
   },
   "outputs": [],
   "source": [
    "class KMeansPredictor(KMeans):\n",
    "    \n",
    "    def __init__(self, n_clusters=8, init='k-means++', n_init=10,\n",
    "                 max_iter=300, tol=1e-4, precompute_distances='auto',\n",
    "                 verbose=0, random_state=None, copy_x=True,\n",
    "                 n_jobs=None, algorithm='auto'):\n",
    "        \n",
    "        super().__init__(\n",
    "            n_clusters, \n",
    "            init, \n",
    "            n_init, \n",
    "            max_iter,\n",
    "            tol,\n",
    "            precompute_distances,\n",
    "            verbose,\n",
    "            random_state,\n",
    "            copy_x,\n",
    "            n_jobs, \n",
    "            algorithm)\n",
    "        \n",
    "    \n",
    "    def transform(self, X, y=None):\n",
    "        return self.predict(X).reshape(-1, 1)\n",
    "    \n",
    "    def fit_transform(self, X, y=None):\n",
    "        return self.fit_predict(X).reshape(-1, 1)\n",
    "        \n",
    "        "
   ]
  },
  {
   "cell_type": "code",
   "execution_count": 104,
   "metadata": {
    "ExecuteTime": {
     "end_time": "2020-05-14T19:52:12.074035Z",
     "start_time": "2020-05-14T19:52:12.049384Z"
    }
   },
   "outputs": [],
   "source": [
    "pre2 = Pipeline([\n",
    "    ('imp', SimpleImputer()),\n",
    "    ('scaler', StandardScaler()),\n",
    "    ('cluster', KMeansPredictor(n_clusters=8)),\n",
    "    ('enc', OneHotEncoder(drop='first'))\n",
    "], 'passthrough')\n",
    "\n",
    "\n",
    "\n",
    "precomb2 = ColumnTransformer([\n",
    "    ('clmn_drpr', 'drop', ['Name', 'Ticket', 'Cabin']),\n",
    "    ('enc', OneHotEncoder(drop='first'), ['Sex', 'Embarked']),\n",
    "    ('imp_scaler', pre2, ['Age', 'Fare'])\n",
    "], 'passthrough')\n"
   ]
  },
  {
   "cell_type": "markdown",
   "metadata": {},
   "source": [
    "## Cluster and Classify"
   ]
  },
  {
   "cell_type": "code",
   "execution_count": 105,
   "metadata": {
    "ExecuteTime": {
     "end_time": "2020-05-14T19:52:12.528576Z",
     "start_time": "2020-05-14T19:52:12.511949Z"
    }
   },
   "outputs": [],
   "source": [
    "from sklearn.linear_model import LogisticRegression\n",
    "from sklearn.neighbors import KNeighborsClassifier\n",
    "from sklearn.ensemble import RandomForestClassifier\n",
    "from sklearn.svm import SVC"
   ]
  },
  {
   "cell_type": "code",
   "execution_count": 106,
   "metadata": {
    "ExecuteTime": {
     "end_time": "2020-05-14T19:52:12.723427Z",
     "start_time": "2020-05-14T19:52:12.707219Z"
    }
   },
   "outputs": [],
   "source": [
    "pipe = Pipeline([\n",
    "    ('preprocess', precomb2),\n",
    "    ('scale', StandardScaler()),\n",
    "    ('ml', KNeighborsClassifier())\n",
    "])"
   ]
  },
  {
   "cell_type": "code",
   "execution_count": 107,
   "metadata": {
    "ExecuteTime": {
     "end_time": "2020-05-14T19:52:12.916867Z",
     "start_time": "2020-05-14T19:52:12.879088Z"
    }
   },
   "outputs": [
    {
     "data": {
      "text/plain": [
       "[('preprocess',\n",
       "  ColumnTransformer(n_jobs=None, remainder='passthrough', sparse_threshold=0.3,\n",
       "                    transformer_weights=None,\n",
       "                    transformers=[('clmn_drpr', 'drop',\n",
       "                                   ['Name', 'Ticket', 'Cabin']),\n",
       "                                  ('enc',\n",
       "                                   OneHotEncoder(categories='auto', drop='first',\n",
       "                                                 dtype=<class 'numpy.float64'>,\n",
       "                                                 handle_unknown='error',\n",
       "                                                 sparse=True),\n",
       "                                   ['Sex', 'Embarked']),\n",
       "                                  ('imp_scaler',\n",
       "                                   Pipeline(memory='passthrough',\n",
       "                                            steps=[(...\n",
       "                                                   ('cluster',\n",
       "                                                    KMeansPredictor(algorithm='auto',\n",
       "                                                                    copy_x=True,\n",
       "                                                                    init='k-means++',\n",
       "                                                                    max_iter=300,\n",
       "                                                                    n_clusters=8,\n",
       "                                                                    n_init=10,\n",
       "                                                                    n_jobs=None,\n",
       "                                                                    precompute_distances='auto',\n",
       "                                                                    random_state=None,\n",
       "                                                                    tol=0.0001,\n",
       "                                                                    verbose=0)),\n",
       "                                                   ('enc',\n",
       "                                                    OneHotEncoder(categories='auto',\n",
       "                                                                  drop='first',\n",
       "                                                                  dtype=<class 'numpy.float64'>,\n",
       "                                                                  handle_unknown='error',\n",
       "                                                                  sparse=True))],\n",
       "                                            verbose=False),\n",
       "                                   ['Age', 'Fare'])],\n",
       "                    verbose=False)),\n",
       " ('scale', StandardScaler(copy=True, with_mean=True, with_std=True)),\n",
       " ('ml',\n",
       "  KNeighborsClassifier(algorithm='auto', leaf_size=30, metric='minkowski',\n",
       "                       metric_params=None, n_jobs=None, n_neighbors=5, p=2,\n",
       "                       weights='uniform'))]"
      ]
     },
     "execution_count": 107,
     "metadata": {},
     "output_type": "execute_result"
    }
   ],
   "source": [
    "pipe.steps"
   ]
  },
  {
   "cell_type": "code",
   "execution_count": 108,
   "metadata": {
    "ExecuteTime": {
     "end_time": "2020-05-14T19:52:13.182847Z",
     "start_time": "2020-05-14T19:52:13.076811Z"
    }
   },
   "outputs": [
    {
     "data": {
      "text/plain": [
       "Pipeline(memory=None,\n",
       "         steps=[('preprocess',\n",
       "                 ColumnTransformer(n_jobs=None, remainder='passthrough',\n",
       "                                   sparse_threshold=0.3,\n",
       "                                   transformer_weights=None,\n",
       "                                   transformers=[('clmn_drpr', 'drop',\n",
       "                                                  ['Name', 'Ticket', 'Cabin']),\n",
       "                                                 ('enc',\n",
       "                                                  OneHotEncoder(categories='auto',\n",
       "                                                                drop='first',\n",
       "                                                                dtype=<class 'numpy.float64'>,\n",
       "                                                                handle_unknown='error',\n",
       "                                                                sparse=True),\n",
       "                                                  ['Sex', 'Embarked']),\n",
       "                                                 ('imp_scal...\n",
       "                                                                                 drop='first',\n",
       "                                                                                 dtype=<class 'numpy.float64'>,\n",
       "                                                                                 handle_unknown='error',\n",
       "                                                                                 sparse=True))],\n",
       "                                                           verbose=False),\n",
       "                                                  ['Age', 'Fare'])],\n",
       "                                   verbose=False)),\n",
       "                ('scale',\n",
       "                 StandardScaler(copy=True, with_mean=True, with_std=True)),\n",
       "                ('ml',\n",
       "                 KNeighborsClassifier(algorithm='auto', leaf_size=30,\n",
       "                                      metric='minkowski', metric_params=None,\n",
       "                                      n_jobs=None, n_neighbors=5, p=2,\n",
       "                                      weights='uniform'))],\n",
       "         verbose=False)"
      ]
     },
     "execution_count": 108,
     "metadata": {},
     "output_type": "execute_result"
    }
   ],
   "source": [
    "pipe.fit(dfX_pre, dfy_pre)"
   ]
  },
  {
   "cell_type": "code",
   "execution_count": 109,
   "metadata": {
    "ExecuteTime": {
     "end_time": "2020-05-14T19:52:13.435947Z",
     "start_time": "2020-05-14T19:52:13.416958Z"
    }
   },
   "outputs": [],
   "source": [
    "from sklearn.model_selection import cross_val_score"
   ]
  },
  {
   "cell_type": "code",
   "execution_count": 110,
   "metadata": {
    "ExecuteTime": {
     "end_time": "2020-05-14T19:52:13.897010Z",
     "start_time": "2020-05-14T19:52:13.812151Z"
    }
   },
   "outputs": [
    {
     "data": {
      "text/plain": [
       "0.8447694038245219"
      ]
     },
     "execution_count": 110,
     "metadata": {},
     "output_type": "execute_result"
    }
   ],
   "source": [
    "pipe.score(dfX_pre, dfy_pre)"
   ]
  },
  {
   "cell_type": "code",
   "execution_count": 111,
   "metadata": {
    "ExecuteTime": {
     "end_time": "2020-05-14T19:52:14.552360Z",
     "start_time": "2020-05-14T19:52:14.365330Z"
    }
   },
   "outputs": [
    {
     "data": {
      "text/plain": [
       "0.8054592775979179"
      ]
     },
     "execution_count": 111,
     "metadata": {},
     "output_type": "execute_result"
    }
   ],
   "source": [
    "cross_val_score(pipe, dfX_pre, dfy_pre).mean()"
   ]
  },
  {
   "cell_type": "code",
   "execution_count": 185,
   "metadata": {},
   "outputs": [],
   "source": [
    "from src.utils import print_params"
   ]
  },
  {
   "cell_type": "markdown",
   "metadata": {},
   "source": [
    "## Tune the Hyperparameters"
   ]
  },
  {
   "cell_type": "code",
   "execution_count": 186,
   "metadata": {
    "collapsed": true
   },
   "outputs": [
    {
     "name": "stdout",
     "output_type": "stream",
     "text": [
      "['memory',\n",
      " 'steps',\n",
      " 'verbose',\n",
      " 'preprocess',\n",
      " 'clf',\n",
      " 'preprocess__n_jobs',\n",
      " 'preprocess__remainder',\n",
      " 'preprocess__sparse_threshold',\n",
      " 'preprocess__transformer_weights',\n",
      " 'preprocess__transformers',\n",
      " 'preprocess__verbose',\n",
      " 'preprocess__clmn_drpr',\n",
      " 'preprocess__enc',\n",
      " 'preprocess__imp_scaler',\n",
      " 'preprocess__enc__categories',\n",
      " 'preprocess__enc__drop',\n",
      " 'preprocess__enc__dtype',\n",
      " 'preprocess__enc__handle_unknown',\n",
      " 'preprocess__enc__sparse',\n",
      " 'preprocess__imp_scaler__memory',\n",
      " 'preprocess__imp_scaler__steps',\n",
      " 'preprocess__imp_scaler__verbose',\n",
      " 'preprocess__imp_scaler__imp',\n",
      " 'preprocess__imp_scaler__scaler',\n",
      " 'preprocess__imp_scaler__cluster',\n",
      " 'preprocess__imp_scaler__enc',\n",
      " 'preprocess__imp_scaler__imp__add_indicator',\n",
      " 'preprocess__imp_scaler__imp__copy',\n",
      " 'preprocess__imp_scaler__imp__fill_value',\n",
      " 'preprocess__imp_scaler__imp__missing_values',\n",
      " 'preprocess__imp_scaler__imp__strategy',\n",
      " 'preprocess__imp_scaler__imp__verbose',\n",
      " 'preprocess__imp_scaler__scaler__copy',\n",
      " 'preprocess__imp_scaler__scaler__with_mean',\n",
      " 'preprocess__imp_scaler__scaler__with_std',\n",
      " 'preprocess__imp_scaler__cluster__algorithm',\n",
      " 'preprocess__imp_scaler__cluster__copy_x',\n",
      " 'preprocess__imp_scaler__cluster__init',\n",
      " 'preprocess__imp_scaler__cluster__max_iter',\n",
      " 'preprocess__imp_scaler__cluster__n_clusters',\n",
      " 'preprocess__imp_scaler__cluster__n_init',\n",
      " 'preprocess__imp_scaler__cluster__n_jobs',\n",
      " 'preprocess__imp_scaler__cluster__precompute_distances',\n",
      " 'preprocess__imp_scaler__cluster__random_state',\n",
      " 'preprocess__imp_scaler__cluster__tol',\n",
      " 'preprocess__imp_scaler__cluster__verbose',\n",
      " 'preprocess__imp_scaler__enc__categories',\n",
      " 'preprocess__imp_scaler__enc__drop',\n",
      " 'preprocess__imp_scaler__enc__dtype',\n",
      " 'preprocess__imp_scaler__enc__handle_unknown',\n",
      " 'preprocess__imp_scaler__enc__sparse',\n",
      " 'clf__C',\n",
      " 'clf__class_weight',\n",
      " 'clf__dual',\n",
      " 'clf__fit_intercept',\n",
      " 'clf__intercept_scaling',\n",
      " 'clf__l1_ratio',\n",
      " 'clf__max_iter',\n",
      " 'clf__multi_class',\n",
      " 'clf__n_jobs',\n",
      " 'clf__penalty',\n",
      " 'clf__random_state',\n",
      " 'clf__solver',\n",
      " 'clf__tol',\n",
      " 'clf__verbose',\n",
      " 'clf__warm_start']\n"
     ]
    }
   ],
   "source": [
    "print_params(pipe)"
   ]
  },
  {
   "cell_type": "code",
   "execution_count": 69,
   "metadata": {
    "ExecuteTime": {
     "end_time": "2020-05-14T19:46:20.732132Z",
     "start_time": "2020-05-14T19:46:20.723266Z"
    }
   },
   "outputs": [],
   "source": [
    "from sklearn.model_selection import GridSearchCV"
   ]
  },
  {
   "cell_type": "code",
   "execution_count": 71,
   "metadata": {
    "ExecuteTime": {
     "end_time": "2020-05-14T19:46:31.956611Z",
     "start_time": "2020-05-14T19:46:30.112954Z"
    }
   },
   "outputs": [
    {
     "name": "stdout",
     "output_type": "stream",
     "text": [
      "CPU times: user 3.35 s, sys: 53.4 ms, total: 3.41 s\n",
      "Wall time: 1.79 s\n"
     ]
    },
    {
     "data": {
      "text/plain": [
       "GridSearchCV(cv=None, error_score=nan,\n",
       "             estimator=Pipeline(memory=None,\n",
       "                                steps=[('preprocess',\n",
       "                                        ColumnTransformer(n_jobs=None,\n",
       "                                                          remainder='passthrough',\n",
       "                                                          sparse_threshold=0.3,\n",
       "                                                          transformer_weights=None,\n",
       "                                                          transformers=[('clmn_drpr',\n",
       "                                                                         'drop',\n",
       "                                                                         ['Name',\n",
       "                                                                          'Ticket',\n",
       "                                                                          'Cabin']),\n",
       "                                                                        ('enc',\n",
       "                                                                         OneHotEncoder(categories='auto',\n",
       "                                                                                       drop='first',\n",
       "                                                                                       dtype=<class 'numpy.float64'>,\n",
       "                                                                                       handle_unknown='err...\n",
       "                                            decision_function_shape='ovr',\n",
       "                                            degree=3, gamma='scale',\n",
       "                                            kernel='rbf', max_iter=-1,\n",
       "                                            probability=False,\n",
       "                                            random_state=None, shrinking=True,\n",
       "                                            tol=0.001, verbose=False))],\n",
       "                                verbose=False),\n",
       "             iid='deprecated', n_jobs=None,\n",
       "             param_grid={'preprocess__imp_scaler__cluster__n_clusters': range(2, 12, 2)},\n",
       "             pre_dispatch='2*n_jobs', refit=True, return_train_score=False,\n",
       "             scoring=None, verbose=0)"
      ]
     },
     "execution_count": 71,
     "metadata": {},
     "output_type": "execute_result"
    }
   ],
   "source": [
    "%%time\n",
    "param_grid = {'preprocess__imp_scaler__cluster__n_clusters': range(2, 12, 2)}\n",
    "grid = GridSearchCV(pipe, param_grid)\n",
    "grid.fit(dfX_pre, dfy_pre)"
   ]
  },
  {
   "cell_type": "code",
   "execution_count": 72,
   "metadata": {
    "ExecuteTime": {
     "end_time": "2020-05-14T19:46:32.952458Z",
     "start_time": "2020-05-14T19:46:32.940074Z"
    }
   },
   "outputs": [
    {
     "name": "stdout",
     "output_type": "stream",
     "text": [
      "0.8324192217355424\n",
      "{'preprocess__imp_scaler__cluster__n_clusters': 8}\n"
     ]
    }
   ],
   "source": [
    "print(grid.best_score_)\n",
    "print(grid.best_params_)"
   ]
  },
  {
   "cell_type": "markdown",
   "metadata": {},
   "source": [
    "## Augment KMeans Features using FeatureUnioun"
   ]
  },
  {
   "cell_type": "markdown",
   "metadata": {},
   "source": [
    "Augment the Feature set using cluster labels"
   ]
  },
  {
   "cell_type": "code",
   "execution_count": 73,
   "metadata": {
    "ExecuteTime": {
     "end_time": "2020-05-14T19:46:40.308254Z",
     "start_time": "2020-05-14T19:46:40.300198Z"
    }
   },
   "outputs": [],
   "source": [
    "from sklearn.base import BaseEstimator, ClassifierMixin"
   ]
  },
  {
   "cell_type": "code",
   "execution_count": 74,
   "metadata": {
    "ExecuteTime": {
     "end_time": "2020-05-14T19:46:40.829006Z",
     "start_time": "2020-05-14T19:46:40.817045Z"
    }
   },
   "outputs": [],
   "source": [
    "class ColumnSelector(BaseEstimator, ClassifierMixin):\n",
    "    \n",
    "    def __init__(self):\n",
    "        pass\n",
    "    \n",
    "    def fit(self, X, y=None):\n",
    "        return self\n",
    "    \n",
    "    def transform(self, X):\n",
    "        return X\n"
   ]
  },
  {
   "cell_type": "code",
   "execution_count": 75,
   "metadata": {
    "ExecuteTime": {
     "end_time": "2020-05-14T19:46:41.552034Z",
     "start_time": "2020-05-14T19:46:41.528481Z"
    }
   },
   "outputs": [],
   "source": [
    "from sklearn.pipeline import FeatureUnion\n",
    "\n",
    "\n",
    "kmeans_augment = FeatureUnion([\n",
    "    (\"cluster\", KMeansPredictor()),\n",
    "    (\"original\", ColumnSelector())\n",
    "])\n",
    "\n",
    "\n",
    "pre2 = Pipeline([\n",
    "    ('imp', SimpleImputer()),\n",
    "    ('scaler', StandardScaler()),\n",
    "#     ('augment', kmeans_augment)\n",
    "], 'passthrough')\n",
    "\n",
    "\n",
    "\n",
    "precomb2 = ColumnTransformer([\n",
    "    ('clmn_drpr', 'drop', ['Name', 'Ticket', 'Cabin']),\n",
    "    ('enc', OneHotEncoder(drop='first'), ['Sex', 'Embarked']),\n",
    "    ('imp_scale_augment', pre2, ['Age', 'Fare'])\n",
    "], 'passthrough')\n"
   ]
  },
  {
   "cell_type": "code",
   "execution_count": 77,
   "metadata": {
    "ExecuteTime": {
     "end_time": "2020-05-14T19:47:03.377111Z",
     "start_time": "2020-05-14T19:47:03.263959Z"
    }
   },
   "outputs": [
    {
     "data": {
      "text/plain": [
       "(889, 9)"
      ]
     },
     "execution_count": 77,
     "metadata": {},
     "output_type": "execute_result"
    }
   ],
   "source": [
    "precomb2.fit_transform(dfX_pre, dfy_pre).shape"
   ]
  },
  {
   "cell_type": "code",
   "execution_count": 85,
   "metadata": {
    "ExecuteTime": {
     "end_time": "2020-05-14T19:48:29.627874Z",
     "start_time": "2020-05-14T19:48:29.617225Z"
    }
   },
   "outputs": [],
   "source": [
    "pipe = Pipeline([\n",
    "    ('preprocess', precomb2),\n",
    "    ('scale', StandardScaler()),\n",
    "    ('ml', SVC())\n",
    "])"
   ]
  },
  {
   "cell_type": "code",
   "execution_count": 86,
   "metadata": {
    "ExecuteTime": {
     "end_time": "2020-05-14T19:48:30.349858Z",
     "start_time": "2020-05-14T19:48:30.136996Z"
    }
   },
   "outputs": [
    {
     "data": {
      "text/plain": [
       "Pipeline(memory=None,\n",
       "         steps=[('preprocess',\n",
       "                 ColumnTransformer(n_jobs=None, remainder='passthrough',\n",
       "                                   sparse_threshold=0.3,\n",
       "                                   transformer_weights=None,\n",
       "                                   transformers=[('clmn_drpr', 'drop',\n",
       "                                                  ['Name', 'Ticket', 'Cabin']),\n",
       "                                                 ('enc',\n",
       "                                                  OneHotEncoder(categories='auto',\n",
       "                                                                drop='first',\n",
       "                                                                dtype=<class 'numpy.float64'>,\n",
       "                                                                handle_unknown='error',\n",
       "                                                                sparse=True),\n",
       "                                                  ['Sex', 'Embarked']),\n",
       "                                                 ('imp_scal...\n",
       "                                                           verbose=False),\n",
       "                                                  ['Age', 'Fare'])],\n",
       "                                   verbose=False)),\n",
       "                ('scale',\n",
       "                 StandardScaler(copy=True, with_mean=True, with_std=True)),\n",
       "                ('clf',\n",
       "                 SVC(C=1.0, break_ties=False, cache_size=200, class_weight=None,\n",
       "                     coef0=0.0, decision_function_shape='ovr', degree=3,\n",
       "                     gamma='scale', kernel='rbf', max_iter=-1,\n",
       "                     probability=False, random_state=None, shrinking=True,\n",
       "                     tol=0.001, verbose=False))],\n",
       "         verbose=False)"
      ]
     },
     "execution_count": 86,
     "metadata": {},
     "output_type": "execute_result"
    }
   ],
   "source": [
    "pipe.fit(dfX_pre, dfy_pre)"
   ]
  },
  {
   "cell_type": "code",
   "execution_count": 87,
   "metadata": {
    "ExecuteTime": {
     "end_time": "2020-05-14T19:48:30.963229Z",
     "start_time": "2020-05-14T19:48:30.881871Z"
    }
   },
   "outputs": [
    {
     "data": {
      "text/plain": [
       "0.84251968503937"
      ]
     },
     "execution_count": 87,
     "metadata": {},
     "output_type": "execute_result"
    }
   ],
   "source": [
    "pipe.score(dfX_pre, dfy_pre)"
   ]
  },
  {
   "cell_type": "code",
   "execution_count": 88,
   "metadata": {
    "ExecuteTime": {
     "end_time": "2020-05-14T19:48:32.470728Z",
     "start_time": "2020-05-14T19:48:31.984253Z"
    }
   },
   "outputs": [
    {
     "data": {
      "text/plain": [
       "0.8301847267187202"
      ]
     },
     "execution_count": 88,
     "metadata": {},
     "output_type": "execute_result"
    }
   ],
   "source": [
    "cross_val_score(pipe, dfX_pre, dfy_pre, cv=5).mean()"
   ]
  },
  {
   "cell_type": "code",
   "execution_count": 199,
   "metadata": {},
   "outputs": [
    {
     "name": "stdout",
     "output_type": "stream",
     "text": [
      "['memory',\n",
      " 'steps',\n",
      " 'verbose',\n",
      " 'preprocess',\n",
      " 'clf',\n",
      " 'preprocess__n_jobs',\n",
      " 'preprocess__remainder',\n",
      " 'preprocess__sparse_threshold',\n",
      " 'preprocess__transformer_weights',\n",
      " 'preprocess__transformers',\n",
      " 'preprocess__verbose',\n",
      " 'preprocess__clmn_drpr',\n",
      " 'preprocess__enc',\n",
      " 'preprocess__imp_scale_augment',\n",
      " 'preprocess__enc__categories',\n",
      " 'preprocess__enc__drop',\n",
      " 'preprocess__enc__dtype',\n",
      " 'preprocess__enc__handle_unknown',\n",
      " 'preprocess__enc__sparse',\n",
      " 'preprocess__imp_scale_augment__memory',\n",
      " 'preprocess__imp_scale_augment__steps',\n",
      " 'preprocess__imp_scale_augment__verbose',\n",
      " 'preprocess__imp_scale_augment__imp',\n",
      " 'preprocess__imp_scale_augment__scaler',\n",
      " 'preprocess__imp_scale_augment__augment',\n",
      " 'preprocess__imp_scale_augment__imp__add_indicator',\n",
      " 'preprocess__imp_scale_augment__imp__copy',\n",
      " 'preprocess__imp_scale_augment__imp__fill_value',\n",
      " 'preprocess__imp_scale_augment__imp__missing_values',\n",
      " 'preprocess__imp_scale_augment__imp__strategy',\n",
      " 'preprocess__imp_scale_augment__imp__verbose',\n",
      " 'preprocess__imp_scale_augment__scaler__copy',\n",
      " 'preprocess__imp_scale_augment__scaler__with_mean',\n",
      " 'preprocess__imp_scale_augment__scaler__with_std',\n",
      " 'preprocess__imp_scale_augment__augment__n_jobs',\n",
      " 'preprocess__imp_scale_augment__augment__transformer_list',\n",
      " 'preprocess__imp_scale_augment__augment__transformer_weights',\n",
      " 'preprocess__imp_scale_augment__augment__verbose',\n",
      " 'preprocess__imp_scale_augment__augment__cluster',\n",
      " 'preprocess__imp_scale_augment__augment__original',\n",
      " 'preprocess__imp_scale_augment__augment__cluster__algorithm',\n",
      " 'preprocess__imp_scale_augment__augment__cluster__copy_x',\n",
      " 'preprocess__imp_scale_augment__augment__cluster__init',\n",
      " 'preprocess__imp_scale_augment__augment__cluster__max_iter',\n",
      " 'preprocess__imp_scale_augment__augment__cluster__n_clusters',\n",
      " 'preprocess__imp_scale_augment__augment__cluster__n_init',\n",
      " 'preprocess__imp_scale_augment__augment__cluster__n_jobs',\n",
      " 'preprocess__imp_scale_augment__augment__cluster__precompute_distances',\n",
      " 'preprocess__imp_scale_augment__augment__cluster__random_state',\n",
      " 'preprocess__imp_scale_augment__augment__cluster__tol',\n",
      " 'preprocess__imp_scale_augment__augment__cluster__verbose',\n",
      " 'clf__bootstrap',\n",
      " 'clf__ccp_alpha',\n",
      " 'clf__class_weight',\n",
      " 'clf__criterion',\n",
      " 'clf__max_depth',\n",
      " 'clf__max_features',\n",
      " 'clf__max_leaf_nodes',\n",
      " 'clf__max_samples',\n",
      " 'clf__min_impurity_decrease',\n",
      " 'clf__min_impurity_split',\n",
      " 'clf__min_samples_leaf',\n",
      " 'clf__min_samples_split',\n",
      " 'clf__min_weight_fraction_leaf',\n",
      " 'clf__n_estimators',\n",
      " 'clf__n_jobs',\n",
      " 'clf__oob_score',\n",
      " 'clf__random_state',\n",
      " 'clf__verbose',\n",
      " 'clf__warm_start']\n"
     ]
    }
   ],
   "source": [
    "print_params(pipe)"
   ]
  },
  {
   "cell_type": "code",
   "execution_count": 200,
   "metadata": {},
   "outputs": [
    {
     "name": "stdout",
     "output_type": "stream",
     "text": [
      "CPU times: user 12.6 s, sys: 205 ms, total: 12.8 s\n",
      "Wall time: 5.54 s\n"
     ]
    },
    {
     "data": {
      "text/plain": [
       "GridSearchCV(cv=None, error_score=nan,\n",
       "             estimator=Pipeline(memory=None,\n",
       "                                steps=[('preprocess',\n",
       "                                        ColumnTransformer(n_jobs=None,\n",
       "                                                          remainder='passthrough',\n",
       "                                                          sparse_threshold=0.3,\n",
       "                                                          transformer_weights=None,\n",
       "                                                          transformers=[('clmn_drpr',\n",
       "                                                                         'drop',\n",
       "                                                                         ['Name',\n",
       "                                                                          'Ticket',\n",
       "                                                                          'Cabin']),\n",
       "                                                                        ('enc',\n",
       "                                                                         OneHotEncoder(categories='auto',\n",
       "                                                                                       drop='first',\n",
       "                                                                                       dtype=<class 'numpy.float64'>,\n",
       "                                                                                       handle_unknown='err...\n",
       "                                                               min_samples_split=2,\n",
       "                                                               min_weight_fraction_leaf=0.0,\n",
       "                                                               n_estimators=100,\n",
       "                                                               n_jobs=None,\n",
       "                                                               oob_score=False,\n",
       "                                                               random_state=None,\n",
       "                                                               verbose=0,\n",
       "                                                               warm_start=False))],\n",
       "                                verbose=False),\n",
       "             iid='deprecated', n_jobs=None,\n",
       "             param_grid={'preprocess__imp_scale_augment__augment__cluster__n_clusters': range(2, 12, 2)},\n",
       "             pre_dispatch='2*n_jobs', refit=True, return_train_score=False,\n",
       "             scoring=None, verbose=0)"
      ]
     },
     "execution_count": 200,
     "metadata": {},
     "output_type": "execute_result"
    }
   ],
   "source": [
    "%%time\n",
    "param_grid = {'preprocess__imp_scale_augment__augment__cluster__n_clusters': range(2, 12, 2)}\n",
    "grid = GridSearchCV(pipe, param_grid)\n",
    "grid.fit(dfX, dfy)"
   ]
  },
  {
   "cell_type": "code",
   "execution_count": 201,
   "metadata": {},
   "outputs": [
    {
     "data": {
      "text/plain": [
       "0.8122008506316257"
      ]
     },
     "execution_count": 201,
     "metadata": {},
     "output_type": "execute_result"
    }
   ],
   "source": [
    "grid.best_score_"
   ]
  },
  {
   "cell_type": "code",
   "execution_count": null,
   "metadata": {},
   "outputs": [],
   "source": []
  }
 ],
 "metadata": {
  "kernelspec": {
   "display_name": "Python [conda env:titansurv] *",
   "language": "python",
   "name": "conda-env-titansurv-py"
  },
  "language_info": {
   "codemirror_mode": {
    "name": "ipython",
    "version": 3
   },
   "file_extension": ".py",
   "mimetype": "text/x-python",
   "name": "python",
   "nbconvert_exporter": "python",
   "pygments_lexer": "ipython3",
   "version": "3.8.2"
  }
 },
 "nbformat": 4,
 "nbformat_minor": 4
}
