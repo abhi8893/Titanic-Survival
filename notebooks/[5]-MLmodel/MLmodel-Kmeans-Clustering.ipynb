{
 "cells": [
  {
   "cell_type": "markdown",
   "metadata": {},
   "source": [
    "# Classification using Clustering : KMeans "
   ]
  },
  {
   "cell_type": "markdown",
   "metadata": {},
   "source": [
    "Here I will design a pipeline to first do clustering with Kmeans and then apply a classification algorithm on the labels. In principle any other clustering algorithm could be used"
   ]
  },
  {
   "cell_type": "code",
   "execution_count": 1,
   "metadata": {
    "ExecuteTime": {
     "end_time": "2020-05-16T15:29:11.060501Z",
     "start_time": "2020-05-16T15:29:10.475344Z"
    }
   },
   "outputs": [],
   "source": [
    "from sklearn.cluster import KMeans\n",
    "from sklearn.pipeline import Pipeline\n",
    "from sklearn.compose import ColumnTransformer\n",
    "\n",
    "import pandas as pd\n",
    "from src.utils import load_data"
   ]
  },
  {
   "cell_type": "code",
   "execution_count": 2,
   "metadata": {
    "ExecuteTime": {
     "end_time": "2020-05-16T15:29:11.074583Z",
     "start_time": "2020-05-16T15:29:11.062371Z"
    }
   },
   "outputs": [],
   "source": [
    "dfX, dfy = load_data(return_X_y=True)"
   ]
  },
  {
   "cell_type": "code",
   "execution_count": 3,
   "metadata": {
    "ExecuteTime": {
     "end_time": "2020-05-16T15:29:11.087783Z",
     "start_time": "2020-05-16T15:29:11.079256Z"
    }
   },
   "outputs": [],
   "source": [
    "from src.preprocessing import NaNDropper"
   ]
  },
  {
   "cell_type": "code",
   "execution_count": 4,
   "metadata": {
    "ExecuteTime": {
     "end_time": "2020-05-16T15:29:11.100896Z",
     "start_time": "2020-05-16T15:29:11.090654Z"
    }
   },
   "outputs": [],
   "source": [
    "prepare_data = Pipeline([\n",
    "    ('nan_drpr', NaNDropper(['Embarked']))\n",
    "])\n",
    "\n",
    "dfX_pre, dfy_pre = prepare_data.fit_transform(dfX, dfy)"
   ]
  },
  {
   "cell_type": "markdown",
   "metadata": {},
   "source": [
    "## Preprocessing"
   ]
  },
  {
   "cell_type": "code",
   "execution_count": 5,
   "metadata": {
    "ExecuteTime": {
     "end_time": "2020-05-16T15:29:11.316720Z",
     "start_time": "2020-05-16T15:29:11.308368Z"
    }
   },
   "outputs": [],
   "source": [
    "from sklearn.preprocessing import OneHotEncoder, StandardScaler\n",
    "from sklearn.impute import SimpleImputer\n",
    "from sklearn.compose import ColumnTransformer\n",
    "from sklearn.base import BaseEstimator, TransformerMixin, clone\n",
    "from copy import deepcopy\n",
    "from src.featurization import NameTitleExtractor"
   ]
  },
  {
   "cell_type": "code",
   "execution_count": 6,
   "metadata": {
    "ExecuteTime": {
     "end_time": "2020-05-16T15:29:11.505489Z",
     "start_time": "2020-05-16T15:29:11.499564Z"
    }
   },
   "outputs": [],
   "source": [
    "class KMeansTransformer(KMeans):       \n",
    "    \n",
    "    def transform(self, X, y=None):\n",
    "        return self.predict(X).reshape(-1, 1)\n",
    "    \n",
    "    def fit_transform(self, X, y=None):\n",
    "        return self.fit_predict(X).reshape(-1, 1)\n",
    "        \n",
    "        "
   ]
  },
  {
   "cell_type": "code",
   "execution_count": 7,
   "metadata": {
    "ExecuteTime": {
     "end_time": "2020-05-16T15:29:11.694194Z",
     "start_time": "2020-05-16T15:29:11.685307Z"
    }
   },
   "outputs": [],
   "source": [
    "def make_predictor_transformer(predictor):\n",
    "    transformer = deepcopy(predictor)\n",
    "    \n",
    "    def transform(self, X, y=None):\n",
    "        return self.predict(X).reshape(-1, 1)\n",
    "\n",
    "    def fit_transform(self, X, y=None):\n",
    "        return self.fit_predict(X).reshape(-1, 1)\n",
    "    \n",
    "    transformer.transform = transform\n",
    "    transformer.fit_transform = fit_transform\n",
    "    \n",
    "    return transformer"
   ]
  },
  {
   "cell_type": "code",
   "execution_count": 8,
   "metadata": {
    "ExecuteTime": {
     "end_time": "2020-05-16T15:29:11.887989Z",
     "start_time": "2020-05-16T15:29:11.885039Z"
    }
   },
   "outputs": [],
   "source": [
    "KMeansTransformer = make_predictor_transformer(KMeans)"
   ]
  },
  {
   "cell_type": "code",
   "execution_count": 9,
   "metadata": {
    "ExecuteTime": {
     "end_time": "2020-05-16T15:29:12.104868Z",
     "start_time": "2020-05-16T15:29:12.076649Z"
    }
   },
   "outputs": [
    {
     "data": {
      "text/html": [
       "<div>\n",
       "<style scoped>\n",
       "    .dataframe tbody tr th:only-of-type {\n",
       "        vertical-align: middle;\n",
       "    }\n",
       "\n",
       "    .dataframe tbody tr th {\n",
       "        vertical-align: top;\n",
       "    }\n",
       "\n",
       "    .dataframe thead th {\n",
       "        text-align: right;\n",
       "    }\n",
       "</style>\n",
       "<table border=\"1\" class=\"dataframe\">\n",
       "  <thead>\n",
       "    <tr style=\"text-align: right;\">\n",
       "      <th></th>\n",
       "      <th>Name</th>\n",
       "    </tr>\n",
       "  </thead>\n",
       "  <tbody>\n",
       "    <tr>\n",
       "      <th>0</th>\n",
       "      <td>Braund, Mr. Owen Harris</td>\n",
       "    </tr>\n",
       "    <tr>\n",
       "      <th>1</th>\n",
       "      <td>Cumings, Mrs. John Bradley (Florence Briggs Th...</td>\n",
       "    </tr>\n",
       "    <tr>\n",
       "      <th>2</th>\n",
       "      <td>Heikkinen, Miss. Laina</td>\n",
       "    </tr>\n",
       "    <tr>\n",
       "      <th>3</th>\n",
       "      <td>Futrelle, Mrs. Jacques Heath (Lily May Peel)</td>\n",
       "    </tr>\n",
       "    <tr>\n",
       "      <th>4</th>\n",
       "      <td>Allen, Mr. William Henry</td>\n",
       "    </tr>\n",
       "    <tr>\n",
       "      <th>...</th>\n",
       "      <td>...</td>\n",
       "    </tr>\n",
       "    <tr>\n",
       "      <th>886</th>\n",
       "      <td>Montvila, Rev. Juozas</td>\n",
       "    </tr>\n",
       "    <tr>\n",
       "      <th>887</th>\n",
       "      <td>Graham, Miss. Margaret Edith</td>\n",
       "    </tr>\n",
       "    <tr>\n",
       "      <th>888</th>\n",
       "      <td>Johnston, Miss. Catherine Helen \"Carrie\"</td>\n",
       "    </tr>\n",
       "    <tr>\n",
       "      <th>889</th>\n",
       "      <td>Behr, Mr. Karl Howell</td>\n",
       "    </tr>\n",
       "    <tr>\n",
       "      <th>890</th>\n",
       "      <td>Dooley, Mr. Patrick</td>\n",
       "    </tr>\n",
       "  </tbody>\n",
       "</table>\n",
       "<p>891 rows × 1 columns</p>\n",
       "</div>"
      ],
      "text/plain": [
       "                                                  Name\n",
       "0                              Braund, Mr. Owen Harris\n",
       "1    Cumings, Mrs. John Bradley (Florence Briggs Th...\n",
       "2                               Heikkinen, Miss. Laina\n",
       "3         Futrelle, Mrs. Jacques Heath (Lily May Peel)\n",
       "4                             Allen, Mr. William Henry\n",
       "..                                                 ...\n",
       "886                              Montvila, Rev. Juozas\n",
       "887                       Graham, Miss. Margaret Edith\n",
       "888           Johnston, Miss. Catherine Helen \"Carrie\"\n",
       "889                              Behr, Mr. Karl Howell\n",
       "890                                Dooley, Mr. Patrick\n",
       "\n",
       "[891 rows x 1 columns]"
      ]
     },
     "execution_count": 9,
     "metadata": {},
     "output_type": "execute_result"
    }
   ],
   "source": [
    "dfX[['Name']]"
   ]
  },
  {
   "cell_type": "code",
   "execution_count": 10,
   "metadata": {
    "ExecuteTime": {
     "end_time": "2020-05-16T15:29:12.314954Z",
     "start_time": "2020-05-16T15:29:12.308851Z"
    }
   },
   "outputs": [],
   "source": [
    "imp_scale_cluster_enc = Pipeline([\n",
    "    ('imp', SimpleImputer()),\n",
    "    ('scale', StandardScaler()),\n",
    "    ('cluster', KMeansTransformer()),\n",
    "    ('enc', OneHotEncoder(drop='first'))\n",
    "], 'passthrough')\n",
    "\n",
    "imp_enc = Pipeline([\n",
    "    ('imp', SimpleImputer(strategy='most_frequent')),\n",
    "    ('enc', OneHotEncoder())\n",
    "])\n",
    "\n",
    "clmn_trnsfrm = ColumnTransformer([\n",
    "    ('clmn_drpr', 'drop', ['Ticket', 'Cabin']), # Dropping PassengerId lowers the cv score\n",
    "    ('pre_Name', 'drop', 'Name'),\n",
    "    ('enc', OneHotEncoder(drop='first'), ['Sex']),\n",
    "    ('imp_clust_enc', imp_scale_cluster_enc, ['Age', 'Fare']),\n",
    "    ('imp_enc', imp_enc, ['Embarked'])\n",
    "], 'passthrough')\n",
    "\n",
    "preprocess = Pipeline([\n",
    "    ('clmn_trnsfrm', clmn_trnsfrm),\n",
    "    ('scale', StandardScaler())\n",
    "])"
   ]
  },
  {
   "cell_type": "code",
   "execution_count": 11,
   "metadata": {
    "ExecuteTime": {
     "end_time": "2020-05-16T15:29:12.521020Z",
     "start_time": "2020-05-16T15:29:12.516901Z"
    }
   },
   "outputs": [],
   "source": [
    "# from src.featurization import NameTitleExtractor, CabinTypeExtractor, TicketTypeExtractor\n",
    "# from src.featurization import SibSpBinner, ParchBinner \n",
    "# from src.featurization import family_size\n",
    "# from sklearn.feature_selection import SelectFromModel\n",
    "# from sklearn.svm import LinearSVC\n",
    "\n",
    "# imp_enc = Pipeline([\n",
    "#     ('imp', SimpleImputer(strategy='most_frequent')),\n",
    "#     ('enc', OneHotEncoder())\n",
    "# ])\n",
    "\n",
    "\n",
    "# preprocess_noscale = ColumnTransformer([\n",
    "#     ('enc', OneHotEncoder(drop='first'), ['Sex']),\n",
    "#     ('imp_enc', imp_enc, ['Embarked']),\n",
    "#     ('imp_clust_enc', imp_scale_cluster_enc, ['Age', 'Fare']),\n",
    "#     ('pre_Name', NameTitleExtractor(), 'Name'),\n",
    "#     ('pre_Cabin', CabinTypeExtractor(), 'Cabin'),\n",
    "#     ('pre_Ticket', TicketTypeExtractor(), 'Ticket'),\n",
    "#     ('pre_SibSp', SibSpBinner(), ['SibSp']),\n",
    "#     ('pre_Parch', ParchBinner(), ['Parch']),\n",
    "#     ('familysize', family_size, ['SibSp', 'Parch'])\n",
    "# ], \n",
    "#     'passthrough')\n",
    "\n",
    "# preprocess = Pipeline([\n",
    "#     ('clmn_trnsfrm', preprocess_noscale),\n",
    "#     ('scale', StandardScaler()),\n",
    "#     ('feat_sel', SelectFromModel(LinearSVC(penalty='l1', dual=False)))\n",
    "# ])"
   ]
  },
  {
   "cell_type": "code",
   "execution_count": 12,
   "metadata": {
    "ExecuteTime": {
     "end_time": "2020-05-16T15:29:12.809637Z",
     "start_time": "2020-05-16T15:29:12.763621Z"
    }
   },
   "outputs": [
    {
     "data": {
      "text/plain": [
       "(891, 15)"
      ]
     },
     "execution_count": 12,
     "metadata": {},
     "output_type": "execute_result"
    }
   ],
   "source": [
    "preprocess.fit_transform(dfX, dfy).shape"
   ]
  },
  {
   "cell_type": "code",
   "execution_count": 13,
   "metadata": {
    "ExecuteTime": {
     "end_time": "2020-05-16T15:29:13.130393Z",
     "start_time": "2020-05-16T15:29:13.124312Z"
    }
   },
   "outputs": [],
   "source": [
    "from sklearn.feature_selection import RFE"
   ]
  },
  {
   "cell_type": "markdown",
   "metadata": {},
   "source": [
    "## Cluster and Classify"
   ]
  },
  {
   "cell_type": "code",
   "execution_count": 14,
   "metadata": {
    "ExecuteTime": {
     "end_time": "2020-05-16T15:29:14.086955Z",
     "start_time": "2020-05-16T15:29:14.035503Z"
    }
   },
   "outputs": [],
   "source": [
    "from sklearn.linear_model import LogisticRegression\n",
    "from sklearn.neighbors import KNeighborsClassifier\n",
    "from sklearn.linear_model import RidgeClassifier\n",
    "from sklearn.ensemble import RandomForestClassifier\n",
    "from sklearn.svm import SVC\n",
    "from sklearn.model_selection import cross_val_score\n",
    "from sklearn.model_selection import StratifiedKFold\n",
    "\n",
    "skf = StratifiedKFold()"
   ]
  },
  {
   "cell_type": "code",
   "execution_count": 15,
   "metadata": {
    "ExecuteTime": {
     "end_time": "2020-05-16T15:29:14.508158Z",
     "start_time": "2020-05-16T15:29:14.501035Z"
    }
   },
   "outputs": [],
   "source": [
    "pipe = Pipeline([\n",
    "    ('preprocess', preprocess),\n",
    "    ('ml', SVC())\n",
    "])"
   ]
  },
  {
   "cell_type": "code",
   "execution_count": 16,
   "metadata": {
    "ExecuteTime": {
     "end_time": "2020-05-16T15:29:15.057802Z",
     "start_time": "2020-05-16T15:29:14.943495Z"
    }
   },
   "outputs": [
    {
     "data": {
      "text/plain": [
       "0.8473625140291807"
      ]
     },
     "execution_count": 16,
     "metadata": {},
     "output_type": "execute_result"
    }
   ],
   "source": [
    "pipe.fit(dfX, dfy)\n",
    "pipe.score(dfX, dfy)"
   ]
  },
  {
   "cell_type": "code",
   "execution_count": 17,
   "metadata": {
    "ExecuteTime": {
     "end_time": "2020-05-16T15:29:15.743836Z",
     "start_time": "2020-05-16T15:29:15.476849Z"
    }
   },
   "outputs": [
    {
     "data": {
      "text/plain": [
       "0.8271169418115625"
      ]
     },
     "execution_count": 17,
     "metadata": {},
     "output_type": "execute_result"
    }
   ],
   "source": [
    "cross_val_score(pipe, dfX, dfy, cv=skf).mean()"
   ]
  },
  {
   "cell_type": "code",
   "execution_count": 18,
   "metadata": {
    "ExecuteTime": {
     "end_time": "2020-05-16T15:29:16.214885Z",
     "start_time": "2020-05-16T15:29:16.210735Z"
    }
   },
   "outputs": [],
   "source": [
    "from src.utils import print_params"
   ]
  },
  {
   "cell_type": "markdown",
   "metadata": {},
   "source": [
    "## Try various models"
   ]
  },
  {
   "cell_type": "code",
   "execution_count": 19,
   "metadata": {
    "ExecuteTime": {
     "end_time": "2020-05-16T15:29:22.565884Z",
     "start_time": "2020-05-16T15:29:19.933687Z"
    }
   },
   "outputs": [
    {
     "name": "stdout",
     "output_type": "stream",
     "text": [
      "Best param: {'ml': SVC(C=1.0, break_ties=False, cache_size=200, class_weight=None, coef0=0.0,\n",
      "    decision_function_shape='ovr', degree=3, gamma='scale', kernel='rbf',\n",
      "    max_iter=-1, probability=False, random_state=None, shrinking=True,\n",
      "    tol=0.001, verbose=False)}\n",
      "\n",
      "Best score: 0.8271169418115625\n"
     ]
    },
    {
     "data": {
      "image/png": "[encoded data removed]",
      "text/plain": [
       "<Figure size 864x576 with 1 Axes>"
      ]
     },
     "metadata": {
      "needs_background": "light"
     },
     "output_type": "display_data"
    }
   ],
   "source": [
    "from src.tune import try_various_models\n",
    "search = try_various_models(pipe, dfX, dfy, plot=True)"
   ]
  },
  {
   "cell_type": "markdown",
   "metadata": {},
   "source": [
    "## Did clustering help improve score?"
   ]
  },
  {
   "cell_type": "code",
   "execution_count": 20,
   "metadata": {
    "ExecuteTime": {
     "end_time": "2020-05-16T15:29:24.654406Z",
     "start_time": "2020-05-16T15:29:24.646501Z"
    }
   },
   "outputs": [],
   "source": [
    "from src.tune import compare_param_effect_models"
   ]
  },
  {
   "cell_type": "code",
   "execution_count": 21,
   "metadata": {
    "ExecuteTime": {
     "end_time": "2020-05-16T15:29:29.167927Z",
     "start_time": "2020-05-16T15:29:25.151030Z"
    }
   },
   "outputs": [
    {
     "name": "stdout",
     "output_type": "stream",
     "text": [
      "Best param: {'ml': SVC(C=1.0, break_ties=False, cache_size=200, class_weight=None, coef0=0.0,\n",
      "    decision_function_shape='ovr', degree=3, gamma='scale', kernel='rbf',\n",
      "    max_iter=-1, probability=False, random_state=None, shrinking=True,\n",
      "    tol=0.001, verbose=False), 'preprocess__clmn_trnsfrm__imp_clust_enc': Pipeline(memory='passthrough',\n",
      "         steps=[('imp',\n",
      "                 SimpleImputer(add_indicator=False, copy=True, fill_value=None,\n",
      "                               missing_values=nan, strategy='mean',\n",
      "                               verbose=0)),\n",
      "                ('scale',\n",
      "                 StandardScaler(copy=True, with_mean=True, with_std=True)),\n",
      "                ('cluster',\n",
      "                 KMeans(algorithm='auto', copy_x=True, init='k-means++',\n",
      "                        max_iter=300, n_clusters=8, n_init=10, n_jobs=None,\n",
      "                        precompute_distances='auto', random_state=None,\n",
      "                        tol=0.0001, verbose=0)),\n",
      "                ('enc',\n",
      "                 OneHotEncoder(categories='auto', drop='first',\n",
      "                               dtype=<class 'numpy.float64'>,\n",
      "                               handle_unknown='error', sparse=True))],\n",
      "         verbose=False)}\n",
      "\n",
      "Best score: 0.8271169418115625\n"
     ]
    }
   ],
   "source": [
    "param_steps = ['preprocess__clmn_trnsfrm__imp_clust_enc']\n",
    "alt = SimpleImputer()\n",
    "search = compare_param_effect_models(pipe, dfX, dfy, param_steps, alt=alt)"
   ]
  },
  {
   "cell_type": "code",
   "execution_count": 22,
   "metadata": {
    "ExecuteTime": {
     "end_time": "2020-05-16T15:29:31.031708Z",
     "start_time": "2020-05-16T15:29:30.745742Z"
    }
   },
   "outputs": [
    {
     "data": {
      "image/png": "[encoded data removed]",
      "text/plain": [
       "<Figure size 864x576 with 1 Axes>"
      ]
     },
     "metadata": {
      "needs_background": "light"
     },
     "output_type": "display_data"
    }
   ],
   "source": [
    "from src.plotting import plot_param_effect_models\n",
    "g = plot_param_effect_models(search, 'preprocess__clmn_trnsfrm__imp_clust_enc', \n",
    "                             labels=['Kmeans Clustering', 'No clustering'])"
   ]
  },
  {
   "cell_type": "markdown",
   "metadata": {},
   "source": [
    "## `Intrinsic Evaluation`: Deciding the number of clusters "
   ]
  },
  {
   "cell_type": "code",
   "execution_count": 169,
   "metadata": {
    "ExecuteTime": {
     "end_time": "2020-05-15T20:52:33.332654Z",
     "start_time": "2020-05-15T20:52:33.323644Z"
    }
   },
   "outputs": [],
   "source": [
    "from sklearn.model_selection import GridSearchCV"
   ]
  },
  {
   "cell_type": "code",
   "execution_count": 171,
   "metadata": {
    "ExecuteTime": {
     "end_time": "2020-05-15T20:52:43.086126Z",
     "start_time": "2020-05-15T20:52:42.177786Z"
    }
   },
   "outputs": [
    {
     "name": "stdout",
     "output_type": "stream",
     "text": [
      "0.8335491652383672\n",
      "{'preprocess__clmn_trnsfrm__imp_cluster_enc__cluster__n_clusters': 8}\n",
      "CPU times: user 898 ms, sys: 20 µs, total: 898 ms\n",
      "Wall time: 898 ms\n"
     ]
    }
   ],
   "source": [
    "%%time\n",
    "param_grid = {'preprocess__clmn_trnsfrm__imp_cluster_enc__cluster__n_clusters': range(2, 12, 2)}\n",
    "\n",
    "grid = GridSearchCV(pipe, param_grid, cv=skf)\n",
    "grid.fit(dfX_pre, dfy_pre);\n",
    "print(grid.best_score_)\n",
    "print(grid.best_params_)"
   ]
  },
  {
   "cell_type": "markdown",
   "metadata": {},
   "source": [
    "## `Feature Augmentation`: Augment KMeans Features using `FeatureUnioun`"
   ]
  },
  {
   "cell_type": "code",
   "execution_count": 172,
   "metadata": {
    "ExecuteTime": {
     "end_time": "2020-05-15T20:52:44.277358Z",
     "start_time": "2020-05-15T20:52:44.272695Z"
    }
   },
   "outputs": [],
   "source": [
    "from sklearn.base import BaseEstimator, ClassifierMixin"
   ]
  },
  {
   "cell_type": "code",
   "execution_count": 173,
   "metadata": {
    "ExecuteTime": {
     "end_time": "2020-05-15T20:52:44.714804Z",
     "start_time": "2020-05-15T20:52:44.699433Z"
    }
   },
   "outputs": [],
   "source": [
    "class ColumnSelector(BaseEstimator, ClassifierMixin):\n",
    "    \n",
    "    def __init__(self):\n",
    "        pass\n",
    "    \n",
    "    def fit(self, X, y=None):\n",
    "        return self\n",
    "    \n",
    "    def transform(self, X):\n",
    "        return X\n"
   ]
  },
  {
   "cell_type": "markdown",
   "metadata": {},
   "source": [
    "### Cluster and Augment only continous features"
   ]
  },
  {
   "cell_type": "code",
   "execution_count": 224,
   "metadata": {
    "ExecuteTime": {
     "end_time": "2020-05-15T21:17:30.620466Z",
     "start_time": "2020-05-15T21:17:30.592638Z"
    }
   },
   "outputs": [],
   "source": [
    "from sklearn.pipeline import FeatureUnion\n",
    "\n",
    "cluster_enc = Pipeline([\n",
    "    (\"clust\", KMeansTransformer()),\n",
    "    ('enc', OneHotEncoder(drop='first'))\n",
    "])\n",
    "\n",
    "cluster_augment = FeatureUnion([\n",
    "    (\"clust_enc\",cluster_enc),\n",
    "    (\"orig\", ColumnSelector())\n",
    "])\n",
    "\n",
    "\n",
    "imp_scale_augment = Pipeline([\n",
    "    ('imp', SimpleImputer()),\n",
    "    ('scaler', StandardScaler()),\n",
    "    ('clust_aug', cluster_augment)\n",
    "], 'passthrough')\n",
    "\n",
    "imp_enc = Pipeline([\n",
    "    ('imp', SimpleImputer(strategy='most_frequent')),\n",
    "    ('enc', OneHotEncoder())\n",
    "])\n",
    "\n",
    "clmn_trnsfrm = ColumnTransformer([\n",
    "    ('clmn_drpr', 'drop', ['Name', 'Ticket', 'Cabin']),\n",
    "    ('enc', OneHotEncoder(drop='first'), ['Sex']),\n",
    "    ('imp_scale_aug', imp_scale_augment, ['Age', 'Fare']),\n",
    "    ('imp_enc', imp_enc, ['Embarked'])\n",
    "], 'passthrough')\n",
    "\n",
    "preprocess = Pipeline([\n",
    "    ('clmn_trnsfrm', clmn_trnsfrm),\n",
    "    ('scale', StandardScaler())\n",
    "])"
   ]
  },
  {
   "cell_type": "code",
   "execution_count": 229,
   "metadata": {
    "ExecuteTime": {
     "end_time": "2020-05-15T21:18:53.957077Z",
     "start_time": "2020-05-15T21:18:53.822430Z"
    }
   },
   "outputs": [
    {
     "data": {
      "text/plain": [
       "(889, 17)"
      ]
     },
     "execution_count": 229,
     "metadata": {},
     "output_type": "execute_result"
    }
   ],
   "source": [
    "preprocess.fit_transform(dfX_pre, dfy_pre).shape"
   ]
  },
  {
   "cell_type": "code",
   "execution_count": 226,
   "metadata": {
    "ExecuteTime": {
     "end_time": "2020-05-15T21:17:32.098567Z",
     "start_time": "2020-05-15T21:17:31.882713Z"
    }
   },
   "outputs": [
    {
     "data": {
      "text/plain": [
       "0.8458942632170978"
      ]
     },
     "execution_count": 226,
     "metadata": {},
     "output_type": "execute_result"
    }
   ],
   "source": [
    "pipe = Pipeline([\n",
    "    ('preprocess', preprocess),\n",
    "    ('ml', SVC())\n",
    "])\n",
    "pipe.fit(dfX_pre, dfy_pre)\n",
    "pipe.score(dfX_pre, dfy_pre)\n",
    "\n",
    "cross_val_score(pipe, dfX_pre, dfy_pre, cv=skf).mean()\n",
    "\n",
    "%%time\n",
    "param_grid = {\n",
    "    'preprocess__clmn_trnsfrm__imp_scale_augment__augment__cluster_enc__cluster__n_clusters': range(2, 12, 2)}\n",
    "grid = GridSearchCV(pipe, param_grid)\n",
    "grid.fit(dfX_pre, dfy_pre)\n",
    "grid.best_score_"
   ]
  },
  {
   "cell_type": "markdown",
   "metadata": {},
   "source": [
    "# Cluster and Augment the whole dataset"
   ]
  },
  {
   "cell_type": "code",
   "execution_count": 247,
   "metadata": {
    "ExecuteTime": {
     "end_time": "2020-05-15T21:26:07.612909Z",
     "start_time": "2020-05-15T21:26:07.590015Z"
    }
   },
   "outputs": [],
   "source": [
    "\n",
    "cluster_enc = Pipeline([\n",
    "    (\"clust\", KMeansTransformer()),\n",
    "    ('enc', OneHotEncoder(drop='first', sparse=False)),\n",
    "    ('scale', StandardScaler())\n",
    "])\n",
    "\n",
    "cluster_augment_scale = FeatureUnion([\n",
    "    (\"clust_enc\",cluster_enc),\n",
    "    (\"orig\", ColumnSelector())\n",
    "])\n",
    "\n",
    "imp_enc = Pipeline([\n",
    "    ('imp', SimpleImputer(strategy='most_frequent')),\n",
    "    ('enc', OneHotEncoder(sparse=False))\n",
    "])\n",
    "\n",
    "clmn_trnsfrm = ColumnTransformer([\n",
    "    ('clmn_drpr', 'drop', ['Name', 'Ticket', 'Cabin']),\n",
    "    ('enc', OneHotEncoder(drop='first', sparse=False), ['Sex']),\n",
    "    ('imp', SimpleImputer(), ['Age', 'Fare']),\n",
    "    ('imp_enc', imp_enc, ['Embarked'])\n",
    "], 'passthrough')\n",
    "\n",
    "preprocess = Pipeline([\n",
    "    ('clmn_trnsfrm', clmn_trnsfrm),\n",
    "    ('scale', StandardScaler()), # scale before clustering\n",
    "    ('clust_aug', cluster_augment)\n",
    "])"
   ]
  },
  {
   "cell_type": "code",
   "execution_count": 248,
   "metadata": {
    "ExecuteTime": {
     "end_time": "2020-05-15T21:26:08.411934Z",
     "start_time": "2020-05-15T21:26:08.265290Z"
    }
   },
   "outputs": [
    {
     "data": {
      "text/plain": [
       "(889, 17)"
      ]
     },
     "execution_count": 248,
     "metadata": {},
     "output_type": "execute_result"
    }
   ],
   "source": [
    "preprocess.fit_transform(dfX_pre).shape"
   ]
  },
  {
   "cell_type": "code",
   "execution_count": 249,
   "metadata": {
    "ExecuteTime": {
     "end_time": "2020-05-15T21:26:09.838603Z",
     "start_time": "2020-05-15T21:26:09.116475Z"
    }
   },
   "outputs": [
    {
     "name": "stdout",
     "output_type": "stream",
     "text": [
      "Trainig score: 0.8413948256467941\n",
      "crossvalidation score: 0.818923379673713\n"
     ]
    }
   ],
   "source": [
    "pipe = Pipeline([\n",
    "    ('preprocess', preprocess),\n",
    "    ('ml', SVC())\n",
    "])\n",
    "pipe.fit(dfX_pre, dfy_pre)\n",
    "print(f'Trainig score: {pipe.score(dfX_pre, dfy_pre)}')\n",
    "print(f'crossvalidation score: {cross_val_score(pipe, dfX_pre, dfy_pre, cv=skf).mean()}')"
   ]
  },
  {
   "cell_type": "code",
   "execution_count": 253,
   "metadata": {
    "ExecuteTime": {
     "end_time": "2020-05-15T21:27:52.495593Z",
     "start_time": "2020-05-15T21:27:50.091064Z"
    }
   },
   "outputs": [
    {
     "name": "stdout",
     "output_type": "stream",
     "text": [
      "CPU times: user 6.11 s, sys: 79.7 ms, total: 6.19 s\n",
      "Wall time: 2.39 s\n"
     ]
    },
    {
     "data": {
      "text/plain": [
       "0.8177997841680951"
      ]
     },
     "execution_count": 253,
     "metadata": {},
     "output_type": "execute_result"
    }
   ],
   "source": [
    "%%time\n",
    "param_grid = {\n",
    "    'preprocess__clust_aug__clust_enc__clust__n_clusters': range(2, 12, 2)}\n",
    "grid = GridSearchCV(pipe, param_grid, cv=skf)\n",
    "grid.fit(dfX_pre, dfy_pre)\n",
    "grid.best_score_"
   ]
  }
 ],
 "metadata": {
  "kernelspec": {
   "display_name": "Python [conda env:titansurv] *",
   "language": "python",
   "name": "conda-env-titansurv-py"
  },
  "language_info": {
   "codemirror_mode": {
    "name": "ipython",
    "version": 3
   },
   "file_extension": ".py",
   "mimetype": "text/x-python",
   "name": "python",
   "nbconvert_exporter": "python",
   "pygments_lexer": "ipython3",
   "version": "3.8.2"
  }
 },
 "nbformat": 4,
 "nbformat_minor": 4
}
