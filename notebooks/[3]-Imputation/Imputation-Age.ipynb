{
 "cells": [
  {
   "cell_type": "markdown",
   "metadata": {},
   "source": [
    "# Data Imputation - Age"
   ]
  },
  {
   "cell_type": "code",
   "execution_count": 1,
   "metadata": {
    "ExecuteTime": {
     "end_time": "2020-05-13T13:22:50.832013Z",
     "start_time": "2020-05-13T13:22:50.601624Z"
    }
   },
   "outputs": [],
   "source": [
    "import pandas as pd\n",
    "\n",
    "df = pd.read_csv(\"../../data/raw/train.csv\")\n",
    "dfX = df.drop(['Survived', 'PassengerId'], axis=1)\n",
    "dfy = df.Survived"
   ]
  },
  {
   "cell_type": "code",
   "execution_count": 2,
   "metadata": {
    "ExecuteTime": {
     "end_time": "2020-05-13T13:22:51.292755Z",
     "start_time": "2020-05-13T13:22:50.834014Z"
    }
   },
   "outputs": [],
   "source": [
    "from src.plotting import plot_missprop"
   ]
  },
  {
   "cell_type": "code",
   "execution_count": 3,
   "metadata": {
    "ExecuteTime": {
     "end_time": "2020-05-13T13:22:51.504620Z",
     "start_time": "2020-05-13T13:22:51.294198Z"
    }
   },
   "outputs": [
    {
     "data": {
      "text/plain": [
       "Pclass      0.000000\n",
       "Name        0.000000\n",
       "Sex         0.000000\n",
       "Age         0.198653\n",
       "SibSp       0.000000\n",
       "Parch       0.000000\n",
       "Ticket      0.000000\n",
       "Fare        0.000000\n",
       "Cabin       0.771044\n",
       "Embarked    0.002245\n",
       "dtype: float64"
      ]
     },
     "execution_count": 3,
     "metadata": {},
     "output_type": "execute_result"
    },
    {
     "data": {
      "image/png": "[encoded data removed]",
      "text/plain": [
       "<Figure size 864x576 with 1 Axes>"
      ]
     },
     "metadata": {
      "needs_background": "light"
     },
     "output_type": "display_data"
    }
   ],
   "source": [
    "plot_missprop(dfX)"
   ]
  },
  {
   "cell_type": "code",
   "execution_count": 4,
   "metadata": {
    "ExecuteTime": {
     "end_time": "2020-05-13T13:22:51.576479Z",
     "start_time": "2020-05-13T13:22:51.506580Z"
    }
   },
   "outputs": [],
   "source": [
    "from src.prepare import drop_NA_Embarked"
   ]
  },
  {
   "cell_type": "code",
   "execution_count": 5,
   "metadata": {
    "ExecuteTime": {
     "end_time": "2020-05-13T13:22:51.584035Z",
     "start_time": "2020-05-13T13:22:51.578526Z"
    }
   },
   "outputs": [],
   "source": [
    "from sklearn.impute import KNNImputer"
   ]
  },
  {
   "cell_type": "code",
   "execution_count": 6,
   "metadata": {
    "ExecuteTime": {
     "end_time": "2020-05-13T13:22:51.600483Z",
     "start_time": "2020-05-13T13:22:51.587065Z"
    }
   },
   "outputs": [],
   "source": [
    "from src.pipeline import dp1 as dp\n",
    "from src.utils import print_params"
   ]
  },
  {
   "cell_type": "code",
   "execution_count": 7,
   "metadata": {
    "ExecuteTime": {
     "end_time": "2020-05-13T13:22:51.702513Z",
     "start_time": "2020-05-13T13:22:51.696969Z"
    }
   },
   "outputs": [
    {
     "data": {
      "text/markdown": [
       "\n",
       "1. Drop Name, Ticket - requires Feature Engineering\n",
       "2. OneHotEncoder for Sex, Embarked\n",
       "3. Drop Cabin - requires Feature Engineering/(?And Not Imputation)\n",
       "4. Age : Applied Mean Imputation and Mean Normalization\n",
       "5. Drop NaN rows in Embarked\n",
       "6. Applied StandardScaler at the end to all features\n",
       "\n",
       "MLmodel: SVC"
      ],
      "text/plain": [
       "<IPython.core.display.Markdown object>"
      ]
     },
     "metadata": {},
     "output_type": "display_data"
    }
   ],
   "source": [
    "dp.get_description(markdown=True)"
   ]
  },
  {
   "cell_type": "code",
   "execution_count": 8,
   "metadata": {
    "ExecuteTime": {
     "end_time": "2020-05-13T13:22:51.933087Z",
     "start_time": "2020-05-13T13:22:51.922439Z"
    }
   },
   "outputs": [],
   "source": [
    "dp.set_data(df)"
   ]
  },
  {
   "cell_type": "code",
   "execution_count": 9,
   "metadata": {
    "ExecuteTime": {
     "end_time": "2020-05-13T13:22:52.167500Z",
     "start_time": "2020-05-13T13:22:52.138724Z"
    },
    "scrolled": true
   },
   "outputs": [
    {
     "name": "stdout",
     "output_type": "stream",
     "text": [
      "['data',\n",
      " 'description',\n",
      " 'mlmodel',\n",
      " 'prepare_data__memory',\n",
      " 'prepare_data__steps',\n",
      " 'prepare_data__verbose',\n",
      " 'prepare_data__nan_drpr',\n",
      " 'prepare_data__nan_drpr__key',\n",
      " 'prepare_data',\n",
      " 'preprocess_data',\n",
      " 'warn',\n",
      " 'ycol',\n",
      " 'preprocess',\n",
      " 'ml',\n",
      " 'preprocess__memory',\n",
      " 'preprocess__steps',\n",
      " 'preprocess__verbose',\n",
      " 'preprocess__clmn_trnsfrm',\n",
      " 'preprocess__scale',\n",
      " 'preprocess__clmn_trnsfrm__n_jobs',\n",
      " 'preprocess__clmn_trnsfrm__remainder',\n",
      " 'preprocess__clmn_trnsfrm__sparse_threshold',\n",
      " 'preprocess__clmn_trnsfrm__transformer_weights',\n",
      " 'preprocess__clmn_trnsfrm__transformers',\n",
      " 'preprocess__clmn_trnsfrm__verbose',\n",
      " 'preprocess__clmn_trnsfrm__clmn_drp',\n",
      " 'preprocess__clmn_trnsfrm__enc',\n",
      " 'preprocess__clmn_trnsfrm__imp',\n",
      " 'preprocess__clmn_trnsfrm__enc__categories',\n",
      " 'preprocess__clmn_trnsfrm__enc__drop',\n",
      " 'preprocess__clmn_trnsfrm__enc__dtype',\n",
      " 'preprocess__clmn_trnsfrm__enc__handle_unknown',\n",
      " 'preprocess__clmn_trnsfrm__enc__sparse',\n",
      " 'preprocess__clmn_trnsfrm__imp__add_indicator',\n",
      " 'preprocess__clmn_trnsfrm__imp__copy',\n",
      " 'preprocess__clmn_trnsfrm__imp__fill_value',\n",
      " 'preprocess__clmn_trnsfrm__imp__missing_values',\n",
      " 'preprocess__clmn_trnsfrm__imp__strategy',\n",
      " 'preprocess__clmn_trnsfrm__imp__verbose',\n",
      " 'preprocess__scale__copy',\n",
      " 'preprocess__scale__with_mean',\n",
      " 'preprocess__scale__with_std',\n",
      " 'ml__C',\n",
      " 'ml__break_ties',\n",
      " 'ml__cache_size',\n",
      " 'ml__class_weight',\n",
      " 'ml__coef0',\n",
      " 'ml__decision_function_shape',\n",
      " 'ml__degree',\n",
      " 'ml__gamma',\n",
      " 'ml__kernel',\n",
      " 'ml__max_iter',\n",
      " 'ml__probability',\n",
      " 'ml__random_state',\n",
      " 'ml__shrinking',\n",
      " 'ml__tol',\n",
      " 'ml__verbose']\n"
     ]
    }
   ],
   "source": [
    "print_params(dp)"
   ]
  },
  {
   "cell_type": "markdown",
   "metadata": {},
   "source": [
    "## Try different imputers for Age\n",
    "\n",
    "1. SimpleImputer\n",
    "2. KNNImputer\n",
    "3. IterativeImputer"
   ]
  },
  {
   "cell_type": "code",
   "execution_count": 10,
   "metadata": {
    "ExecuteTime": {
     "end_time": "2020-05-13T13:22:52.554264Z",
     "start_time": "2020-05-13T13:22:52.525353Z"
    }
   },
   "outputs": [],
   "source": [
    "from sklearn.ensemble import RandomForestClassifier\n",
    "from sklearn.experimental import enable_iterative_imputer\n",
    "from sklearn.impute import IterativeImputer, KNNImputer, SimpleImputer\n",
    "from sklearn.model_selection import GridSearchCV\n",
    "import numpy as np"
   ]
  },
  {
   "cell_type": "markdown",
   "metadata": {},
   "source": [
    "### Can't use IterativeImputer this way in the current pipeline"
   ]
  },
  {
   "cell_type": "code",
   "execution_count": 11,
   "metadata": {
    "ExecuteTime": {
     "end_time": "2020-05-13T13:22:52.943204Z",
     "start_time": "2020-05-13T13:22:52.938519Z"
    }
   },
   "outputs": [],
   "source": [
    "param_grid = [\n",
    "    {\n",
    "        'preprocess__clmn_trnsfrm__imp': [KNNImputer()],\n",
    "        'preprocess__clmn_trnsfrm__imp__n_neighbors': range(3, 15, 2)\n",
    "    }, \n",
    "    {\n",
    "        'preprocess__clmn_trnsfrm__imp': [SimpleImputer()],\n",
    "        'preprocess__clmn_trnsfrm__imp__strategy': ['mean', 'median']\n",
    "    }]"
   ]
  },
  {
   "cell_type": "code",
   "execution_count": 12,
   "metadata": {
    "ExecuteTime": {
     "end_time": "2020-05-13T13:22:54.401639Z",
     "start_time": "2020-05-13T13:22:53.178037Z"
    }
   },
   "outputs": [
    {
     "data": {
      "text/plain": [
       "GridSearchCV(cv=5, error_score=nan,\n",
       "             ('estimator', DataPipeline),\n",
       "             iid='deprecated', n_jobs=None,\n",
       "             param_grid=[{'preprocess__clmn_trnsfrm__imp': [KNNImputer(add_indicator=False,\n",
       "                                                                       copy=True,\n",
       "                                                                       metric='nan_euclidean',\n",
       "                                                                       missing_values=nan,\n",
       "                                                                       n_neighbors=3,\n",
       "                                                                       weights='uniform')],\n",
       "                          'preprocess__clmn_trnsfrm__imp__n_neighbors': range(3, 15, 2)},\n",
       "                         {'preprocess__clmn_trnsfrm__imp': [SimpleImputer(add_indicator=False,\n",
       "                                                                          copy=True,\n",
       "                                                                          fill_value=None,\n",
       "                                                                          missing_values=nan,\n",
       "                                                                          strategy='mean',\n",
       "                                                                          verbose=0)],\n",
       "                          'preprocess__clmn_trnsfrm__imp__strategy': ['mean',\n",
       "                                                                      'median']}],\n",
       "             pre_dispatch='2*n_jobs', refit=True, return_train_score=False,\n",
       "             scoring=None, verbose=0)"
      ]
     },
     "execution_count": 12,
     "metadata": {},
     "output_type": "execute_result"
    }
   ],
   "source": [
    "grid = GridSearchCV(dp, param_grid, cv=5)\n",
    "dfX_pre, dfy_pre = dp.prepare()\n",
    "grid.fit(dfX_pre, dfy_pre)"
   ]
  },
  {
   "cell_type": "code",
   "execution_count": 13,
   "metadata": {
    "ExecuteTime": {
     "end_time": "2020-05-13T13:22:54.407173Z",
     "start_time": "2020-05-13T13:22:54.403348Z"
    },
    "scrolled": true
   },
   "outputs": [
    {
     "name": "stdout",
     "output_type": "stream",
     "text": [
      "0.8200533231765377\n",
      "{'preprocess__clmn_trnsfrm__imp': KNNImputer(add_indicator=False, copy=True, metric='nan_euclidean',\n",
      "           missing_values=nan, n_neighbors=3, weights='uniform'), 'preprocess__clmn_trnsfrm__imp__n_neighbors': 3}\n"
     ]
    }
   ],
   "source": [
    "print(grid.best_score_)\n",
    "print(grid.best_params_)"
   ]
  },
  {
   "cell_type": "markdown",
   "metadata": {},
   "source": [
    "## Using IterativeImputer "
   ]
  },
  {
   "cell_type": "markdown",
   "metadata": {},
   "source": [
    "To enable this on our current ```DataPipeline```, we need to modify it as following:\n",
    "- ~Remove the ```NaNDropper``` step for the ```Embarked``` column as IterativeImputer will do it on it's own~ \n",
    "   We can't do that since we will be using OneHotEncoder on it\n",
    "- Remove the Imputation from the Age column or any subsequent steps\n",
    "- After the other columns are preprocessed, Use ```IterativeImputer``` on the whole dataset"
   ]
  },
  {
   "cell_type": "markdown",
   "metadata": {},
   "source": [
    "### Let's see the datapipeline we have"
   ]
  },
  {
   "cell_type": "code",
   "execution_count": 14,
   "metadata": {
    "ExecuteTime": {
     "end_time": "2020-05-13T13:22:55.095596Z",
     "start_time": "2020-05-13T13:22:55.087657Z"
    }
   },
   "outputs": [],
   "source": [
    "# print_params(dp)"
   ]
  },
  {
   "cell_type": "markdown",
   "metadata": {},
   "source": [
    "### Bypassing the ```NaNDropper``` step\n",
    "I can write a class that just takes in a dataframe and returns the dataframe intact"
   ]
  },
  {
   "cell_type": "code",
   "execution_count": 15,
   "metadata": {
    "ExecuteTime": {
     "end_time": "2020-05-13T13:22:55.637185Z",
     "start_time": "2020-05-13T13:22:55.631016Z"
    }
   },
   "outputs": [],
   "source": [
    "from sklearn.base import BaseEstimator\n",
    "from sklearn.pipeline import Pipeline\n"
   ]
  },
  {
   "cell_type": "code",
   "execution_count": 16,
   "metadata": {
    "ExecuteTime": {
     "end_time": "2020-05-13T13:22:55.846778Z",
     "start_time": "2020-05-13T13:22:55.837831Z"
    }
   },
   "outputs": [],
   "source": [
    "class NoPrepare(BaseEstimator):\n",
    "    \n",
    "    def __init__(self):\n",
    "        pass\n",
    "    \n",
    "    def fit(self, X, y=None):\n",
    "        return self\n",
    "    \n",
    "    def transform(self, X, y=None):\n",
    "        if y is None:\n",
    "            return X\n",
    "        else:\n",
    "            return X, y\n",
    "    \n",
    "    def fit_transform(self, X, y=None):\n",
    "        return self.fit(X, y).transform(X, y)"
   ]
  },
  {
   "cell_type": "code",
   "execution_count": 17,
   "metadata": {
    "ExecuteTime": {
     "end_time": "2020-05-13T13:22:56.120871Z",
     "start_time": "2020-05-13T13:22:56.112346Z"
    }
   },
   "outputs": [],
   "source": [
    "# NoPrepare().fit_transform(dfX)"
   ]
  },
  {
   "cell_type": "code",
   "execution_count": 18,
   "metadata": {
    "ExecuteTime": {
     "end_time": "2020-05-13T13:22:56.432716Z",
     "start_time": "2020-05-13T13:22:56.426002Z"
    }
   },
   "outputs": [],
   "source": [
    "# dp.prepare_data = Pipeline([\n",
    "#     ('no_prepare', NoPrepare())])"
   ]
  },
  {
   "cell_type": "code",
   "execution_count": 19,
   "metadata": {
    "ExecuteTime": {
     "end_time": "2020-05-13T13:22:56.718110Z",
     "start_time": "2020-05-13T13:22:56.709103Z"
    }
   },
   "outputs": [],
   "source": [
    "# dp.prepare()"
   ]
  },
  {
   "cell_type": "markdown",
   "metadata": {},
   "source": [
    "## Removing the ```impute_scaler``` step from the ```Age``` column"
   ]
  },
  {
   "cell_type": "code",
   "execution_count": 20,
   "metadata": {
    "ExecuteTime": {
     "end_time": "2020-05-13T13:22:57.184130Z",
     "start_time": "2020-05-13T13:22:57.169528Z"
    }
   },
   "outputs": [
    {
     "name": "stdout",
     "output_type": "stream",
     "text": [
      "['data',\n",
      " 'description',\n",
      " 'mlmodel',\n",
      " 'prepare_data__memory',\n",
      " 'prepare_data__steps',\n",
      " 'prepare_data__verbose',\n",
      " 'prepare_data__nan_drpr',\n",
      " 'prepare_data__nan_drpr__key',\n",
      " 'prepare_data',\n",
      " 'preprocess_data',\n",
      " 'warn',\n",
      " 'ycol',\n",
      " 'preprocess',\n",
      " 'ml',\n",
      " 'preprocess__memory',\n",
      " 'preprocess__steps',\n",
      " 'preprocess__verbose',\n",
      " 'preprocess__clmn_trnsfrm',\n",
      " 'preprocess__scale',\n",
      " 'preprocess__clmn_trnsfrm__n_jobs',\n",
      " 'preprocess__clmn_trnsfrm__remainder',\n",
      " 'preprocess__clmn_trnsfrm__sparse_threshold',\n",
      " 'preprocess__clmn_trnsfrm__transformer_weights',\n",
      " 'preprocess__clmn_trnsfrm__transformers',\n",
      " 'preprocess__clmn_trnsfrm__verbose',\n",
      " 'preprocess__clmn_trnsfrm__clmn_drp',\n",
      " 'preprocess__clmn_trnsfrm__enc',\n",
      " 'preprocess__clmn_trnsfrm__imp',\n",
      " 'preprocess__clmn_trnsfrm__enc__categories',\n",
      " 'preprocess__clmn_trnsfrm__enc__drop',\n",
      " 'preprocess__clmn_trnsfrm__enc__dtype',\n",
      " 'preprocess__clmn_trnsfrm__enc__handle_unknown',\n",
      " 'preprocess__clmn_trnsfrm__enc__sparse',\n",
      " 'preprocess__clmn_trnsfrm__imp__add_indicator',\n",
      " 'preprocess__clmn_trnsfrm__imp__copy',\n",
      " 'preprocess__clmn_trnsfrm__imp__fill_value',\n",
      " 'preprocess__clmn_trnsfrm__imp__missing_values',\n",
      " 'preprocess__clmn_trnsfrm__imp__strategy',\n",
      " 'preprocess__clmn_trnsfrm__imp__verbose',\n",
      " 'preprocess__scale__copy',\n",
      " 'preprocess__scale__with_mean',\n",
      " 'preprocess__scale__with_std',\n",
      " 'ml__C',\n",
      " 'ml__break_ties',\n",
      " 'ml__cache_size',\n",
      " 'ml__class_weight',\n",
      " 'ml__coef0',\n",
      " 'ml__decision_function_shape',\n",
      " 'ml__degree',\n",
      " 'ml__gamma',\n",
      " 'ml__kernel',\n",
      " 'ml__max_iter',\n",
      " 'ml__probability',\n",
      " 'ml__random_state',\n",
      " 'ml__shrinking',\n",
      " 'ml__tol',\n",
      " 'ml__verbose']\n"
     ]
    }
   ],
   "source": [
    "print_params(dp)"
   ]
  },
  {
   "cell_type": "code",
   "execution_count": 21,
   "metadata": {
    "ExecuteTime": {
     "end_time": "2020-05-13T13:22:57.707947Z",
     "start_time": "2020-05-13T13:22:57.692118Z"
    }
   },
   "outputs": [],
   "source": [
    "class NoPrepare(BaseEstimator):\n",
    "    \n",
    "    def __init__(self):\n",
    "        pass\n",
    "    \n",
    "    def fit(self, X, y=None):\n",
    "        return self\n",
    "    \n",
    "    def transform(self, X, y=None):\n",
    "        return X\n",
    "    \n",
    "    def fit_transform(self, X, y=None):\n",
    "        return self.fit(X, y).transform(X, y)"
   ]
  },
  {
   "cell_type": "code",
   "execution_count": 22,
   "metadata": {
    "ExecuteTime": {
     "end_time": "2020-05-13T13:22:58.305710Z",
     "start_time": "2020-05-13T13:22:58.296299Z"
    }
   },
   "outputs": [
    {
     "data": {
      "text/html": [
       "<div>\n",
       "<style scoped>\n",
       "    .dataframe tbody tr th:only-of-type {\n",
       "        vertical-align: middle;\n",
       "    }\n",
       "\n",
       "    .dataframe tbody tr th {\n",
       "        vertical-align: top;\n",
       "    }\n",
       "\n",
       "    .dataframe thead th {\n",
       "        text-align: right;\n",
       "    }\n",
       "</style>\n",
       "<table border=\"1\" class=\"dataframe\">\n",
       "  <thead>\n",
       "    <tr style=\"text-align: right;\">\n",
       "      <th></th>\n",
       "      <th>Age</th>\n",
       "    </tr>\n",
       "  </thead>\n",
       "  <tbody>\n",
       "    <tr>\n",
       "      <th>0</th>\n",
       "      <td>22.0</td>\n",
       "    </tr>\n",
       "    <tr>\n",
       "      <th>1</th>\n",
       "      <td>38.0</td>\n",
       "    </tr>\n",
       "    <tr>\n",
       "      <th>2</th>\n",
       "      <td>26.0</td>\n",
       "    </tr>\n",
       "    <tr>\n",
       "      <th>3</th>\n",
       "      <td>35.0</td>\n",
       "    </tr>\n",
       "    <tr>\n",
       "      <th>4</th>\n",
       "      <td>35.0</td>\n",
       "    </tr>\n",
       "    <tr>\n",
       "      <th>...</th>\n",
       "      <td>...</td>\n",
       "    </tr>\n",
       "    <tr>\n",
       "      <th>886</th>\n",
       "      <td>27.0</td>\n",
       "    </tr>\n",
       "    <tr>\n",
       "      <th>887</th>\n",
       "      <td>19.0</td>\n",
       "    </tr>\n",
       "    <tr>\n",
       "      <th>888</th>\n",
       "      <td>NaN</td>\n",
       "    </tr>\n",
       "    <tr>\n",
       "      <th>889</th>\n",
       "      <td>26.0</td>\n",
       "    </tr>\n",
       "    <tr>\n",
       "      <th>890</th>\n",
       "      <td>32.0</td>\n",
       "    </tr>\n",
       "  </tbody>\n",
       "</table>\n",
       "<p>891 rows × 1 columns</p>\n",
       "</div>"
      ],
      "text/plain": [
       "      Age\n",
       "0    22.0\n",
       "1    38.0\n",
       "2    26.0\n",
       "3    35.0\n",
       "4    35.0\n",
       "..    ...\n",
       "886  27.0\n",
       "887  19.0\n",
       "888   NaN\n",
       "889  26.0\n",
       "890  32.0\n",
       "\n",
       "[891 rows x 1 columns]"
      ]
     },
     "execution_count": 22,
     "metadata": {},
     "output_type": "execute_result"
    }
   ],
   "source": [
    "NoPrepare().fit_transform(df.loc[:, ['Age']])"
   ]
  },
  {
   "cell_type": "markdown",
   "metadata": {},
   "source": [
    "~```preprocessing__imp_scaler```~ ---**BUG** ---  ~```preprocess_data__imp_scaler```~ ---**BUG** --- is the specific hyperparameter we want to remove. \n",
    "\n",
    "We can do that using\n",
    "```NoPrepare```"
   ]
  },
  {
   "cell_type": "code",
   "execution_count": 23,
   "metadata": {
    "ExecuteTime": {
     "end_time": "2020-05-13T13:22:59.073609Z",
     "start_time": "2020-05-13T13:22:59.065199Z"
    }
   },
   "outputs": [],
   "source": [
    "# dp.set_params(**{'preprocessing__imp_scaler': NoPrepare()})"
   ]
  },
  {
   "cell_type": "markdown",
   "metadata": {},
   "source": [
    "We can modify the ```preprocess_data``` column transformer to set ```imp_scalar``` to ```NoPrepare()```\n"
   ]
  },
  {
   "cell_type": "code",
   "execution_count": 24,
   "metadata": {
    "ExecuteTime": {
     "end_time": "2020-05-13T13:22:59.963508Z",
     "start_time": "2020-05-13T13:22:59.945741Z"
    }
   },
   "outputs": [
    {
     "name": "stdout",
     "output_type": "stream",
     "text": [
      "['memory',\n",
      " 'steps',\n",
      " 'verbose',\n",
      " 'clmn_trnsfrm',\n",
      " 'scale',\n",
      " 'clmn_trnsfrm__n_jobs',\n",
      " 'clmn_trnsfrm__remainder',\n",
      " 'clmn_trnsfrm__sparse_threshold',\n",
      " 'clmn_trnsfrm__transformer_weights',\n",
      " 'clmn_trnsfrm__transformers',\n",
      " 'clmn_trnsfrm__verbose',\n",
      " 'clmn_trnsfrm__clmn_drp',\n",
      " 'clmn_trnsfrm__enc',\n",
      " 'clmn_trnsfrm__imp',\n",
      " 'clmn_trnsfrm__enc__categories',\n",
      " 'clmn_trnsfrm__enc__drop',\n",
      " 'clmn_trnsfrm__enc__dtype',\n",
      " 'clmn_trnsfrm__enc__handle_unknown',\n",
      " 'clmn_trnsfrm__enc__sparse',\n",
      " 'clmn_trnsfrm__imp__add_indicator',\n",
      " 'clmn_trnsfrm__imp__copy',\n",
      " 'clmn_trnsfrm__imp__fill_value',\n",
      " 'clmn_trnsfrm__imp__missing_values',\n",
      " 'clmn_trnsfrm__imp__strategy',\n",
      " 'clmn_trnsfrm__imp__verbose',\n",
      " 'scale__copy',\n",
      " 'scale__with_mean',\n",
      " 'scale__with_std']\n"
     ]
    }
   ],
   "source": [
    "print_params(dp.preprocess_data)"
   ]
  },
  {
   "cell_type": "code",
   "execution_count": 25,
   "metadata": {
    "ExecuteTime": {
     "end_time": "2020-05-13T13:23:00.447254Z",
     "start_time": "2020-05-13T13:23:00.444039Z"
    }
   },
   "outputs": [],
   "source": [
    "from src.preprocessing import modify_transformer_est"
   ]
  },
  {
   "cell_type": "code",
   "execution_count": 26,
   "metadata": {
    "ExecuteTime": {
     "end_time": "2020-05-13T13:23:00.954799Z",
     "start_time": "2020-05-13T13:23:00.939654Z"
    }
   },
   "outputs": [
    {
     "data": {
      "text/plain": [
       "Pipeline(memory=None,\n",
       "         steps=[('clmn_trnsfrm',\n",
       "                 ColumnTransformer(n_jobs=None, remainder='passthrough',\n",
       "                                   sparse_threshold=0.3,\n",
       "                                   transformer_weights=None,\n",
       "                                   transformers=[('clmn_drp', 'drop',\n",
       "                                                  ['Name', 'Ticket', 'Cabin']),\n",
       "                                                 ('enc',\n",
       "                                                  OneHotEncoder(categories='auto',\n",
       "                                                                drop='first',\n",
       "                                                                dtype=<class 'numpy.float64'>,\n",
       "                                                                handle_unknown='error',\n",
       "                                                                sparse=True),\n",
       "                                                  ['Sex', 'Embarked']),\n",
       "                                                 ('imp', NoPrepare(), ['Age'])],\n",
       "                                   verbose=False)),\n",
       "                ('scale',\n",
       "                 StandardScaler(copy=True, with_mean=True, with_std=True))],\n",
       "         verbose=False)"
      ]
     },
     "execution_count": 26,
     "metadata": {},
     "output_type": "execute_result"
    }
   ],
   "source": [
    "dp.preprocess_data.set_params(**{'clmn_trnsfrm__imp': NoPrepare()})"
   ]
  },
  {
   "cell_type": "code",
   "execution_count": 27,
   "metadata": {
    "ExecuteTime": {
     "end_time": "2020-05-13T13:23:01.563049Z",
     "start_time": "2020-05-13T13:23:01.552420Z"
    }
   },
   "outputs": [
    {
     "data": {
      "text/plain": [
       "array([[ 0.73534203, -0.30794088,  0.61679395, ...,  0.43135024,\n",
       "        -0.47432585, -0.50023975],\n",
       "       [-1.35991138, -0.30794088, -1.62128697, ...,  0.43135024,\n",
       "        -0.47432585,  0.78894661],\n",
       "       [-1.35991138, -0.30794088,  0.61679395, ..., -0.47519908,\n",
       "        -0.47432585, -0.48664993],\n",
       "       ...,\n",
       "       [-1.35991138, -0.30794088,  0.61679395, ...,  0.43135024,\n",
       "         2.00611934, -0.17408416],\n",
       "       [ 0.73534203, -0.30794088, -1.62128697, ..., -0.47519908,\n",
       "        -0.47432585, -0.0422126 ],\n",
       "       [ 0.73534203,  3.24737656, -1.62128697, ..., -0.47519908,\n",
       "        -0.47432585, -0.49017322]])"
      ]
     },
     "execution_count": 27,
     "metadata": {},
     "output_type": "execute_result"
    }
   ],
   "source": [
    "dp.prepare()\n",
    "dp.preprocess()"
   ]
  },
  {
   "cell_type": "markdown",
   "metadata": {},
   "source": [
    "Let's check if the preprocessed data has ```NaN``` values as expected in the ```Age``` column"
   ]
  },
  {
   "cell_type": "code",
   "execution_count": 28,
   "metadata": {
    "ExecuteTime": {
     "end_time": "2020-05-13T13:23:03.987239Z",
     "start_time": "2020-05-13T13:23:03.974325Z"
    }
   },
   "outputs": [
    {
     "data": {
      "text/plain": [
       "True"
      ]
     },
     "execution_count": 28,
     "metadata": {},
     "output_type": "execute_result"
    }
   ],
   "source": [
    "np.isnan(dp.preprocess()).any()"
   ]
  },
  {
   "cell_type": "markdown",
   "metadata": {},
   "source": [
    "So the ```prepare``` and ```preprocess``` steps are working fine. "
   ]
  },
  {
   "cell_type": "markdown",
   "metadata": {},
   "source": [
    "### Now we need to add an extra step of ```IterativeImputer``` after the ```preprocess``` step."
   ]
  },
  {
   "cell_type": "markdown",
   "metadata": {},
   "source": [
    "You can use any regressor as an ```estimator``` in ```IterativeImputer``` like ```LinearRegression```, ```Ridge```, ```RandomForestRegressor``` etc"
   ]
  },
  {
   "cell_type": "code",
   "execution_count": 29,
   "metadata": {
    "ExecuteTime": {
     "end_time": "2020-05-13T13:23:10.210651Z",
     "start_time": "2020-05-13T13:23:10.202855Z"
    }
   },
   "outputs": [],
   "source": [
    "from sklearn.tree import DecisionTreeRegressor\n",
    "from sklearn.compose import make_column_transformer\n",
    "from sklearn.preprocessing import StandardScaler"
   ]
  },
  {
   "cell_type": "code",
   "execution_count": 30,
   "metadata": {
    "ExecuteTime": {
     "end_time": "2020-05-13T13:23:27.374367Z",
     "start_time": "2020-05-13T13:23:27.371692Z"
    }
   },
   "outputs": [],
   "source": [
    "preprocess_data = dp.preprocess_data\n",
    "modified_preprocess = Pipeline([\n",
    "    ('preprocess', preprocess_data),\n",
    "    ('impute', IterativeImputer(DecisionTreeRegressor()))\n",
    "]\n",
    ")\n",
    "\n",
    "dp.preprocess_data = modified_preprocess"
   ]
  },
  {
   "cell_type": "code",
   "execution_count": 31,
   "metadata": {
    "ExecuteTime": {
     "end_time": "2020-05-13T13:23:27.860914Z",
     "start_time": "2020-05-13T13:23:27.785570Z"
    }
   },
   "outputs": [
    {
     "data": {
      "text/plain": [
       "array([[ 0.73534203, -0.30794088,  0.61679395, ...,  0.43135024,\n",
       "        -0.47432585, -0.50023975],\n",
       "       [-1.35991138, -0.30794088, -1.62128697, ...,  0.43135024,\n",
       "        -0.47432585,  0.78894661],\n",
       "       [-1.35991138, -0.30794088,  0.61679395, ..., -0.47519908,\n",
       "        -0.47432585, -0.48664993],\n",
       "       ...,\n",
       "       [-1.35991138, -0.30794088,  0.61679395, ...,  0.43135024,\n",
       "         2.00611934, -0.17408416],\n",
       "       [ 0.73534203, -0.30794088, -1.62128697, ..., -0.47519908,\n",
       "        -0.47432585, -0.0422126 ],\n",
       "       [ 0.73534203,  3.24737656, -1.62128697, ..., -0.47519908,\n",
       "        -0.47432585, -0.49017322]])"
      ]
     },
     "execution_count": 31,
     "metadata": {},
     "output_type": "execute_result"
    }
   ],
   "source": [
    "dp.prepare()\n",
    "dp.preprocess()"
   ]
  },
  {
   "cell_type": "markdown",
   "metadata": {},
   "source": [
    "Let's check if the preprocessed data has no ```NaN``` values as expected after applying ```IterativeImputer```"
   ]
  },
  {
   "cell_type": "code",
   "execution_count": 32,
   "metadata": {
    "ExecuteTime": {
     "end_time": "2020-05-13T13:23:32.398413Z",
     "start_time": "2020-05-13T13:23:32.394638Z"
    }
   },
   "outputs": [
    {
     "data": {
      "text/plain": [
       "False"
      ]
     },
     "execution_count": 32,
     "metadata": {},
     "output_type": "execute_result"
    }
   ],
   "source": [
    "np.isnan(dp.preprocess()).any()"
   ]
  },
  {
   "cell_type": "markdown",
   "metadata": {},
   "source": [
    "### Now let us try fitting our modified ```DataPipeline``` "
   ]
  },
  {
   "cell_type": "code",
   "execution_count": 33,
   "metadata": {
    "ExecuteTime": {
     "end_time": "2020-05-13T13:23:34.816973Z",
     "start_time": "2020-05-13T13:23:34.695618Z"
    }
   },
   "outputs": [
    {
     "data": {
      "text/plain": [
       "0.8447694038245219"
      ]
     },
     "execution_count": 33,
     "metadata": {},
     "output_type": "execute_result"
    }
   ],
   "source": [
    "dp.fit()\n",
    "dp.score()"
   ]
  },
  {
   "cell_type": "markdown",
   "metadata": {},
   "source": [
    "So this works!"
   ]
  },
  {
   "cell_type": "markdown",
   "metadata": {},
   "source": [
    "#### Let's check our crossvalidated accuracy"
   ]
  },
  {
   "cell_type": "code",
   "execution_count": 34,
   "metadata": {
    "ExecuteTime": {
     "end_time": "2020-05-13T13:23:39.524015Z",
     "start_time": "2020-05-13T13:23:39.516374Z"
    }
   },
   "outputs": [],
   "source": [
    "dfX_pre, dfy_pre = dp.prepare()"
   ]
  },
  {
   "cell_type": "code",
   "execution_count": 35,
   "metadata": {
    "ExecuteTime": {
     "end_time": "2020-05-13T13:23:40.943054Z",
     "start_time": "2020-05-13T13:23:40.613171Z"
    }
   },
   "outputs": [
    {
     "data": {
      "text/plain": [
       "0.8166761886624769"
      ]
     },
     "execution_count": 35,
     "metadata": {},
     "output_type": "execute_result"
    }
   ],
   "source": [
    "from sklearn.model_selection import cross_val_score\n",
    "cross_val_score(dp,dfX_pre, dfy_pre).mean()"
   ]
  },
  {
   "cell_type": "markdown",
   "metadata": {},
   "source": [
    "## Hyperparamater tuning using ```GridSearchCV```"
   ]
  },
  {
   "cell_type": "code",
   "execution_count": 33,
   "metadata": {},
   "outputs": [],
   "source": [
    "%%time \n",
    "\n",
    "from sklearn.model_selection import GridSearchCV\n",
    "\n",
    "max_features = [2, 4, 6]\n",
    "n_estimators = [10, 50, 100, 125]\n",
    "min_samples_split = [2, 5, 10, 20]\n",
    "max_depth = [None, 5, 10, 25]\n",
    "min_samples_leaf = [1, 2, 5]\n",
    "\n",
    "param_grid = {\n",
    "    'train': [RandomForestClassifier()],\n",
    "    'train__max_features': max_features,\n",
    "    'train__n_estimators': n_estimators,\n",
    "    'train__min_samples_split': min_samples_split,\n",
    "    'train__max_depth': max_depth,\n",
    "    'train__min_samples_leaf': min_samples_leaf\n",
    "}\n",
    "\n",
    "grid = GridSearchCV(dp, param_grid)\n",
    "grid.fit(dfX, dfy)\n",
    "\n",
    "print(grid.best_score)\n",
    "print(grid.best_params_)\n"
   ]
  },
  {
   "cell_type": "markdown",
   "metadata": {},
   "source": [
    "## Custom Imputation Strategy by Regressing \n",
    "\n",
    " - I will use the ```DataFrameMapper``` from the ```sklearn-pandas``` library.\n",
    " - Using the ```DataFrameMapper``` will allow me to preserve the names of the dataframe.\n",
    " - Then I can easily impute the ```Age``` column by regressing against the other columns (leaving out predictant i.e. ```Survived```)\n",
    " \n",
    "  To impute the ```Age``` column we need to \n",
    "  - Generate a preprocessed ```DataFrame``` using the ```DataFrameMapper``` so that I can identify the Age column\n",
    "  - Divide the preprocessed ```DataFrame``` into two parts,\n",
    "       - ```train``` set contains all rows with  ```No NA``` Age in them\n",
    "       - ```test``` set contains the rows with ```NA``` Age in them \n",
    "  - ```Age``` is our ```y```, and the rest of the columns ```X```"
   ]
  },
  {
   "cell_type": "code",
   "execution_count": 38,
   "metadata": {
    "ExecuteTime": {
     "end_time": "2020-05-13T13:24:23.975327Z",
     "start_time": "2020-05-13T13:24:23.966003Z"
    }
   },
   "outputs": [],
   "source": [
    "from sklearn.preprocessing import StandardScaler, FunctionTransformer, OneHotEncoder\n",
    "from sklearn.compose import ColumnTransformer\n",
    "\n",
    "from sklearn_pandas import DataFrameMapper"
   ]
  },
  {
   "cell_type": "code",
   "execution_count": 39,
   "metadata": {
    "ExecuteTime": {
     "end_time": "2020-05-13T13:24:24.915026Z",
     "start_time": "2020-05-13T13:24:24.908006Z"
    }
   },
   "outputs": [],
   "source": [
    "from sklearn_pandas import DataFrameMapper\n",
    "from src.utils import clmn_trnsfrmr_to_dfmapper"
   ]
  },
  {
   "cell_type": "code",
   "execution_count": 40,
   "metadata": {
    "ExecuteTime": {
     "end_time": "2020-05-13T13:24:25.306970Z",
     "start_time": "2020-05-13T13:24:25.299789Z"
    }
   },
   "outputs": [],
   "source": [
    "preprocess_data_dfm = clmn_trnsfrmr_to_dfmapper(preprocess_data.named_steps['clmn_trnsfrm'], \n",
    "                                                df_out=True, input_df=True)"
   ]
  },
  {
   "cell_type": "markdown",
   "metadata": {},
   "source": [
    "BUG: When sparse=True"
   ]
  },
  {
   "cell_type": "code",
   "execution_count": 51,
   "metadata": {
    "ExecuteTime": {
     "end_time": "2020-05-13T13:28:28.994192Z",
     "start_time": "2020-05-13T13:28:28.978940Z"
    }
   },
   "outputs": [
    {
     "data": {
      "text/plain": [
       "OneHotEncoder(categories='auto', drop='first', dtype=<class 'numpy.float64'>,\n",
       "              handle_unknown='error', sparse=False)"
      ]
     },
     "execution_count": 51,
     "metadata": {},
     "output_type": "execute_result"
    }
   ],
   "source": [
    "preprocess_data_dfm.features[0][1].set_params(sparse=False)"
   ]
  },
  {
   "cell_type": "markdown",
   "metadata": {},
   "source": [
    "Since the ```remainder='passthrough'``` is not yet implemented, we need to explicity \n",
    "append the passthrough step for ```Age``` by setting the transformer to ```None```"
   ]
  },
  {
   "cell_type": "code",
   "execution_count": 52,
   "metadata": {
    "ExecuteTime": {
     "end_time": "2020-05-13T13:28:30.763997Z",
     "start_time": "2020-05-13T13:28:30.729602Z"
    }
   },
   "outputs": [
    {
     "data": {
      "text/html": [
       "<div>\n",
       "<style scoped>\n",
       "    .dataframe tbody tr th:only-of-type {\n",
       "        vertical-align: middle;\n",
       "    }\n",
       "\n",
       "    .dataframe tbody tr th {\n",
       "        vertical-align: top;\n",
       "    }\n",
       "\n",
       "    .dataframe thead th {\n",
       "        text-align: right;\n",
       "    }\n",
       "</style>\n",
       "<table border=\"1\" class=\"dataframe\">\n",
       "  <thead>\n",
       "    <tr style=\"text-align: right;\">\n",
       "      <th></th>\n",
       "      <th>PassengerId</th>\n",
       "      <th>Pclass</th>\n",
       "      <th>Name</th>\n",
       "      <th>Sex</th>\n",
       "      <th>Age</th>\n",
       "      <th>SibSp</th>\n",
       "      <th>Parch</th>\n",
       "      <th>Ticket</th>\n",
       "      <th>Fare</th>\n",
       "      <th>Cabin</th>\n",
       "      <th>Embarked</th>\n",
       "    </tr>\n",
       "  </thead>\n",
       "  <tbody>\n",
       "    <tr>\n",
       "      <th>0</th>\n",
       "      <td>1</td>\n",
       "      <td>3</td>\n",
       "      <td>Braund, Mr. Owen Harris</td>\n",
       "      <td>male</td>\n",
       "      <td>22.0</td>\n",
       "      <td>1</td>\n",
       "      <td>0</td>\n",
       "      <td>A/5 21171</td>\n",
       "      <td>7.2500</td>\n",
       "      <td>NaN</td>\n",
       "      <td>S</td>\n",
       "    </tr>\n",
       "    <tr>\n",
       "      <th>1</th>\n",
       "      <td>2</td>\n",
       "      <td>1</td>\n",
       "      <td>Cumings, Mrs. John Bradley (Florence Briggs Th...</td>\n",
       "      <td>female</td>\n",
       "      <td>38.0</td>\n",
       "      <td>1</td>\n",
       "      <td>0</td>\n",
       "      <td>PC 17599</td>\n",
       "      <td>71.2833</td>\n",
       "      <td>C85</td>\n",
       "      <td>C</td>\n",
       "    </tr>\n",
       "    <tr>\n",
       "      <th>2</th>\n",
       "      <td>3</td>\n",
       "      <td>3</td>\n",
       "      <td>Heikkinen, Miss. Laina</td>\n",
       "      <td>female</td>\n",
       "      <td>26.0</td>\n",
       "      <td>0</td>\n",
       "      <td>0</td>\n",
       "      <td>STON/O2. 3101282</td>\n",
       "      <td>7.9250</td>\n",
       "      <td>NaN</td>\n",
       "      <td>S</td>\n",
       "    </tr>\n",
       "    <tr>\n",
       "      <th>3</th>\n",
       "      <td>4</td>\n",
       "      <td>1</td>\n",
       "      <td>Futrelle, Mrs. Jacques Heath (Lily May Peel)</td>\n",
       "      <td>female</td>\n",
       "      <td>35.0</td>\n",
       "      <td>1</td>\n",
       "      <td>0</td>\n",
       "      <td>113803</td>\n",
       "      <td>53.1000</td>\n",
       "      <td>C123</td>\n",
       "      <td>S</td>\n",
       "    </tr>\n",
       "    <tr>\n",
       "      <th>4</th>\n",
       "      <td>5</td>\n",
       "      <td>3</td>\n",
       "      <td>Allen, Mr. William Henry</td>\n",
       "      <td>male</td>\n",
       "      <td>35.0</td>\n",
       "      <td>0</td>\n",
       "      <td>0</td>\n",
       "      <td>373450</td>\n",
       "      <td>8.0500</td>\n",
       "      <td>NaN</td>\n",
       "      <td>S</td>\n",
       "    </tr>\n",
       "    <tr>\n",
       "      <th>...</th>\n",
       "      <td>...</td>\n",
       "      <td>...</td>\n",
       "      <td>...</td>\n",
       "      <td>...</td>\n",
       "      <td>...</td>\n",
       "      <td>...</td>\n",
       "      <td>...</td>\n",
       "      <td>...</td>\n",
       "      <td>...</td>\n",
       "      <td>...</td>\n",
       "      <td>...</td>\n",
       "    </tr>\n",
       "    <tr>\n",
       "      <th>886</th>\n",
       "      <td>887</td>\n",
       "      <td>2</td>\n",
       "      <td>Montvila, Rev. Juozas</td>\n",
       "      <td>male</td>\n",
       "      <td>27.0</td>\n",
       "      <td>0</td>\n",
       "      <td>0</td>\n",
       "      <td>211536</td>\n",
       "      <td>13.0000</td>\n",
       "      <td>NaN</td>\n",
       "      <td>S</td>\n",
       "    </tr>\n",
       "    <tr>\n",
       "      <th>887</th>\n",
       "      <td>888</td>\n",
       "      <td>1</td>\n",
       "      <td>Graham, Miss. Margaret Edith</td>\n",
       "      <td>female</td>\n",
       "      <td>19.0</td>\n",
       "      <td>0</td>\n",
       "      <td>0</td>\n",
       "      <td>112053</td>\n",
       "      <td>30.0000</td>\n",
       "      <td>B42</td>\n",
       "      <td>S</td>\n",
       "    </tr>\n",
       "    <tr>\n",
       "      <th>888</th>\n",
       "      <td>889</td>\n",
       "      <td>3</td>\n",
       "      <td>Johnston, Miss. Catherine Helen \"Carrie\"</td>\n",
       "      <td>female</td>\n",
       "      <td>NaN</td>\n",
       "      <td>1</td>\n",
       "      <td>2</td>\n",
       "      <td>W./C. 6607</td>\n",
       "      <td>23.4500</td>\n",
       "      <td>NaN</td>\n",
       "      <td>S</td>\n",
       "    </tr>\n",
       "    <tr>\n",
       "      <th>889</th>\n",
       "      <td>890</td>\n",
       "      <td>1</td>\n",
       "      <td>Behr, Mr. Karl Howell</td>\n",
       "      <td>male</td>\n",
       "      <td>26.0</td>\n",
       "      <td>0</td>\n",
       "      <td>0</td>\n",
       "      <td>111369</td>\n",
       "      <td>30.0000</td>\n",
       "      <td>C148</td>\n",
       "      <td>C</td>\n",
       "    </tr>\n",
       "    <tr>\n",
       "      <th>890</th>\n",
       "      <td>891</td>\n",
       "      <td>3</td>\n",
       "      <td>Dooley, Mr. Patrick</td>\n",
       "      <td>male</td>\n",
       "      <td>32.0</td>\n",
       "      <td>0</td>\n",
       "      <td>0</td>\n",
       "      <td>370376</td>\n",
       "      <td>7.7500</td>\n",
       "      <td>NaN</td>\n",
       "      <td>Q</td>\n",
       "    </tr>\n",
       "  </tbody>\n",
       "</table>\n",
       "<p>889 rows × 11 columns</p>\n",
       "</div>"
      ],
      "text/plain": [
       "     PassengerId  Pclass                                               Name  \\\n",
       "0              1       3                            Braund, Mr. Owen Harris   \n",
       "1              2       1  Cumings, Mrs. John Bradley (Florence Briggs Th...   \n",
       "2              3       3                             Heikkinen, Miss. Laina   \n",
       "3              4       1       Futrelle, Mrs. Jacques Heath (Lily May Peel)   \n",
       "4              5       3                           Allen, Mr. William Henry   \n",
       "..           ...     ...                                                ...   \n",
       "886          887       2                              Montvila, Rev. Juozas   \n",
       "887          888       1                       Graham, Miss. Margaret Edith   \n",
       "888          889       3           Johnston, Miss. Catherine Helen \"Carrie\"   \n",
       "889          890       1                              Behr, Mr. Karl Howell   \n",
       "890          891       3                                Dooley, Mr. Patrick   \n",
       "\n",
       "        Sex   Age  SibSp  Parch            Ticket     Fare Cabin Embarked  \n",
       "0      male  22.0      1      0         A/5 21171   7.2500   NaN        S  \n",
       "1    female  38.0      1      0          PC 17599  71.2833   C85        C  \n",
       "2    female  26.0      0      0  STON/O2. 3101282   7.9250   NaN        S  \n",
       "3    female  35.0      1      0            113803  53.1000  C123        S  \n",
       "4      male  35.0      0      0            373450   8.0500   NaN        S  \n",
       "..      ...   ...    ...    ...               ...      ...   ...      ...  \n",
       "886    male  27.0      0      0            211536  13.0000   NaN        S  \n",
       "887  female  19.0      0      0            112053  30.0000   B42        S  \n",
       "888  female   NaN      1      2        W./C. 6607  23.4500   NaN        S  \n",
       "889    male  26.0      0      0            111369  30.0000  C148        C  \n",
       "890    male  32.0      0      0            370376   7.7500   NaN        Q  \n",
       "\n",
       "[889 rows x 11 columns]"
      ]
     },
     "execution_count": 52,
     "metadata": {},
     "output_type": "execute_result"
    }
   ],
   "source": [
    "dfX_pre"
   ]
  },
  {
   "cell_type": "code",
   "execution_count": null,
   "metadata": {},
   "outputs": [],
   "source": [
    "DataFrameMapper()"
   ]
  },
  {
   "cell_type": "code",
   "execution_count": 53,
   "metadata": {
    "ExecuteTime": {
     "end_time": "2020-05-13T13:28:31.957927Z",
     "start_time": "2020-05-13T13:28:31.913812Z"
    }
   },
   "outputs": [
    {
     "data": {
      "text/html": [
       "<div>\n",
       "<style scoped>\n",
       "    .dataframe tbody tr th:only-of-type {\n",
       "        vertical-align: middle;\n",
       "    }\n",
       "\n",
       "    .dataframe tbody tr th {\n",
       "        vertical-align: top;\n",
       "    }\n",
       "\n",
       "    .dataframe thead th {\n",
       "        text-align: right;\n",
       "    }\n",
       "</style>\n",
       "<table border=\"1\" class=\"dataframe\">\n",
       "  <thead>\n",
       "    <tr style=\"text-align: right;\">\n",
       "      <th></th>\n",
       "      <th>Sex_Embarked_x0_male</th>\n",
       "      <th>Sex_Embarked_x1_Q</th>\n",
       "      <th>Sex_Embarked_x1_S</th>\n",
       "      <th>Age</th>\n",
       "      <th>PassengerId</th>\n",
       "      <th>Pclass</th>\n",
       "      <th>Name</th>\n",
       "      <th>SibSp</th>\n",
       "      <th>Parch</th>\n",
       "      <th>Ticket</th>\n",
       "      <th>Fare</th>\n",
       "      <th>Cabin</th>\n",
       "    </tr>\n",
       "  </thead>\n",
       "  <tbody>\n",
       "    <tr>\n",
       "      <th>0</th>\n",
       "      <td>1.0</td>\n",
       "      <td>0.0</td>\n",
       "      <td>1.0</td>\n",
       "      <td>22.0</td>\n",
       "      <td>1</td>\n",
       "      <td>3</td>\n",
       "      <td>Braund, Mr. Owen Harris</td>\n",
       "      <td>1</td>\n",
       "      <td>0</td>\n",
       "      <td>A/5 21171</td>\n",
       "      <td>7.2500</td>\n",
       "      <td>NaN</td>\n",
       "    </tr>\n",
       "    <tr>\n",
       "      <th>1</th>\n",
       "      <td>0.0</td>\n",
       "      <td>0.0</td>\n",
       "      <td>0.0</td>\n",
       "      <td>38.0</td>\n",
       "      <td>2</td>\n",
       "      <td>1</td>\n",
       "      <td>Cumings, Mrs. John Bradley (Florence Briggs Th...</td>\n",
       "      <td>1</td>\n",
       "      <td>0</td>\n",
       "      <td>PC 17599</td>\n",
       "      <td>71.2833</td>\n",
       "      <td>C85</td>\n",
       "    </tr>\n",
       "    <tr>\n",
       "      <th>2</th>\n",
       "      <td>0.0</td>\n",
       "      <td>0.0</td>\n",
       "      <td>1.0</td>\n",
       "      <td>26.0</td>\n",
       "      <td>3</td>\n",
       "      <td>3</td>\n",
       "      <td>Heikkinen, Miss. Laina</td>\n",
       "      <td>0</td>\n",
       "      <td>0</td>\n",
       "      <td>STON/O2. 3101282</td>\n",
       "      <td>7.9250</td>\n",
       "      <td>NaN</td>\n",
       "    </tr>\n",
       "    <tr>\n",
       "      <th>3</th>\n",
       "      <td>0.0</td>\n",
       "      <td>0.0</td>\n",
       "      <td>1.0</td>\n",
       "      <td>35.0</td>\n",
       "      <td>4</td>\n",
       "      <td>1</td>\n",
       "      <td>Futrelle, Mrs. Jacques Heath (Lily May Peel)</td>\n",
       "      <td>1</td>\n",
       "      <td>0</td>\n",
       "      <td>113803</td>\n",
       "      <td>53.1000</td>\n",
       "      <td>C123</td>\n",
       "    </tr>\n",
       "    <tr>\n",
       "      <th>4</th>\n",
       "      <td>1.0</td>\n",
       "      <td>0.0</td>\n",
       "      <td>1.0</td>\n",
       "      <td>35.0</td>\n",
       "      <td>5</td>\n",
       "      <td>3</td>\n",
       "      <td>Allen, Mr. William Henry</td>\n",
       "      <td>0</td>\n",
       "      <td>0</td>\n",
       "      <td>373450</td>\n",
       "      <td>8.0500</td>\n",
       "      <td>NaN</td>\n",
       "    </tr>\n",
       "    <tr>\n",
       "      <th>...</th>\n",
       "      <td>...</td>\n",
       "      <td>...</td>\n",
       "      <td>...</td>\n",
       "      <td>...</td>\n",
       "      <td>...</td>\n",
       "      <td>...</td>\n",
       "      <td>...</td>\n",
       "      <td>...</td>\n",
       "      <td>...</td>\n",
       "      <td>...</td>\n",
       "      <td>...</td>\n",
       "      <td>...</td>\n",
       "    </tr>\n",
       "    <tr>\n",
       "      <th>886</th>\n",
       "      <td>1.0</td>\n",
       "      <td>0.0</td>\n",
       "      <td>1.0</td>\n",
       "      <td>27.0</td>\n",
       "      <td>887</td>\n",
       "      <td>2</td>\n",
       "      <td>Montvila, Rev. Juozas</td>\n",
       "      <td>0</td>\n",
       "      <td>0</td>\n",
       "      <td>211536</td>\n",
       "      <td>13.0000</td>\n",
       "      <td>NaN</td>\n",
       "    </tr>\n",
       "    <tr>\n",
       "      <th>887</th>\n",
       "      <td>0.0</td>\n",
       "      <td>0.0</td>\n",
       "      <td>1.0</td>\n",
       "      <td>19.0</td>\n",
       "      <td>888</td>\n",
       "      <td>1</td>\n",
       "      <td>Graham, Miss. Margaret Edith</td>\n",
       "      <td>0</td>\n",
       "      <td>0</td>\n",
       "      <td>112053</td>\n",
       "      <td>30.0000</td>\n",
       "      <td>B42</td>\n",
       "    </tr>\n",
       "    <tr>\n",
       "      <th>888</th>\n",
       "      <td>0.0</td>\n",
       "      <td>0.0</td>\n",
       "      <td>1.0</td>\n",
       "      <td>NaN</td>\n",
       "      <td>889</td>\n",
       "      <td>3</td>\n",
       "      <td>Johnston, Miss. Catherine Helen \"Carrie\"</td>\n",
       "      <td>1</td>\n",
       "      <td>2</td>\n",
       "      <td>W./C. 6607</td>\n",
       "      <td>23.4500</td>\n",
       "      <td>NaN</td>\n",
       "    </tr>\n",
       "    <tr>\n",
       "      <th>889</th>\n",
       "      <td>1.0</td>\n",
       "      <td>0.0</td>\n",
       "      <td>0.0</td>\n",
       "      <td>26.0</td>\n",
       "      <td>890</td>\n",
       "      <td>1</td>\n",
       "      <td>Behr, Mr. Karl Howell</td>\n",
       "      <td>0</td>\n",
       "      <td>0</td>\n",
       "      <td>111369</td>\n",
       "      <td>30.0000</td>\n",
       "      <td>C148</td>\n",
       "    </tr>\n",
       "    <tr>\n",
       "      <th>890</th>\n",
       "      <td>1.0</td>\n",
       "      <td>1.0</td>\n",
       "      <td>0.0</td>\n",
       "      <td>32.0</td>\n",
       "      <td>891</td>\n",
       "      <td>3</td>\n",
       "      <td>Dooley, Mr. Patrick</td>\n",
       "      <td>0</td>\n",
       "      <td>0</td>\n",
       "      <td>370376</td>\n",
       "      <td>7.7500</td>\n",
       "      <td>NaN</td>\n",
       "    </tr>\n",
       "  </tbody>\n",
       "</table>\n",
       "<p>889 rows × 12 columns</p>\n",
       "</div>"
      ],
      "text/plain": [
       "     Sex_Embarked_x0_male  Sex_Embarked_x1_Q  Sex_Embarked_x1_S   Age  \\\n",
       "0                     1.0                0.0                1.0  22.0   \n",
       "1                     0.0                0.0                0.0  38.0   \n",
       "2                     0.0                0.0                1.0  26.0   \n",
       "3                     0.0                0.0                1.0  35.0   \n",
       "4                     1.0                0.0                1.0  35.0   \n",
       "..                    ...                ...                ...   ...   \n",
       "886                   1.0                0.0                1.0  27.0   \n",
       "887                   0.0                0.0                1.0  19.0   \n",
       "888                   0.0                0.0                1.0   NaN   \n",
       "889                   1.0                0.0                0.0  26.0   \n",
       "890                   1.0                1.0                0.0  32.0   \n",
       "\n",
       "     PassengerId  Pclass                                               Name  \\\n",
       "0              1       3                            Braund, Mr. Owen Harris   \n",
       "1              2       1  Cumings, Mrs. John Bradley (Florence Briggs Th...   \n",
       "2              3       3                             Heikkinen, Miss. Laina   \n",
       "3              4       1       Futrelle, Mrs. Jacques Heath (Lily May Peel)   \n",
       "4              5       3                           Allen, Mr. William Henry   \n",
       "..           ...     ...                                                ...   \n",
       "886          887       2                              Montvila, Rev. Juozas   \n",
       "887          888       1                       Graham, Miss. Margaret Edith   \n",
       "888          889       3           Johnston, Miss. Catherine Helen \"Carrie\"   \n",
       "889          890       1                              Behr, Mr. Karl Howell   \n",
       "890          891       3                                Dooley, Mr. Patrick   \n",
       "\n",
       "     SibSp  Parch            Ticket     Fare Cabin  \n",
       "0        1      0         A/5 21171   7.2500   NaN  \n",
       "1        1      0          PC 17599  71.2833   C85  \n",
       "2        0      0  STON/O2. 3101282   7.9250   NaN  \n",
       "3        1      0            113803  53.1000  C123  \n",
       "4        0      0            373450   8.0500   NaN  \n",
       "..     ...    ...               ...      ...   ...  \n",
       "886      0      0            211536  13.0000   NaN  \n",
       "887      0      0            112053  30.0000   B42  \n",
       "888      1      2        W./C. 6607  23.4500   NaN  \n",
       "889      0      0            111369  30.0000  C148  \n",
       "890      0      0            370376   7.7500   NaN  \n",
       "\n",
       "[889 rows x 12 columns]"
      ]
     },
     "execution_count": 53,
     "metadata": {},
     "output_type": "execute_result"
    }
   ],
   "source": [
    "dfX_preproc = preprocess_data_dfm.fit_transform(dfX_pre)\n",
    "dfX_preproc"
   ]
  },
  {
   "cell_type": "markdown",
   "metadata": {},
   "source": [
    "**Note:** Since in the original ```preprocess_data``` ```ColumnTransformer```, since \n",
    "we performed the ```OneHotEncoding``` jointly for ```Sex``` and ```Embarked```, as \n",
    "```python  \n",
    "('enc', OneHotEncoder(drop='first'), ['Sex', 'Embarked'])\n",
    "```\n",
    "So the column names we get are \n",
    "- ```Sex_Embarked_x0_male``` - which actually refers just ```Sex='Male'``` \n",
    "- ```Sex_Embarked_x1_Q``` - which actually refers just ```Embarked='Q'```"
   ]
  },
  {
   "cell_type": "markdown",
   "metadata": {},
   "source": [
    "**WOW! This actually worked!!!** But we can make our transformers more suited for these tasks by implementing a ```get_feature_names``` for each transformer we define"
   ]
  },
  {
   "cell_type": "markdown",
   "metadata": {},
   "source": [
    "### Create an estimator to impute  missing values based on supervised methods"
   ]
  },
  {
   "cell_type": "markdown",
   "metadata": {},
   "source": [
    "```cross_val_score``` doesn't take input as a ```DataFrame```, so we need to provide a ```df_out``` argument"
   ]
  },
  {
   "cell_type": "code",
   "execution_count": 115,
   "metadata": {},
   "outputs": [],
   "source": [
    "from sklearn.base import BaseEstimator\n",
    "\n",
    "# TODO: Add support for lower and upper bounds?\n",
    "class SupervisedImputer(BaseEstimator):\n",
    "    '''Perform supervised imputation using any estimator\n",
    "    \n",
    "    Note: Currently only one column imputation is supported\n",
    "    \n",
    "    Parameters\n",
    "    ----------\n",
    "    \n",
    "    estimator: an estimator object\n",
    "    \n",
    "    key_NA: str\n",
    "        the column to impute provided as a string\n",
    "        \n",
    "    keys_nonNA: list\n",
    "        the regressors for the imputation provided as a list of column keys\n",
    "        \n",
    "    df_out: bool default=False\n",
    "        whether to return a dataframe or not\n",
    "    '''\n",
    "    \n",
    "    def __init__(self ,estimator, key_NA, keys_nonNA=None, df_out=False):\n",
    "        self.estimator = estimator\n",
    "        self.key_NA = key_NA\n",
    "        self.keys_nonNA = keys_nonNA\n",
    "        self._has_no_NA = False\n",
    "        self.df_out = df_out\n",
    "        \n",
    "        \n",
    "    def fit(self, X, y=None, *args, **kwargs):\n",
    "        \n",
    "        X = X.dropna(subset=[self.key_NA])\n",
    "        y = X.loc[:, self.key_NA]\n",
    "        \n",
    "        if self.keys_nonNA is None:\n",
    "            X = X.drop(self.key_NA, axis=1)\n",
    "        else:\n",
    "            X = X.loc[:, self.keys_nonNA]\n",
    "                    \n",
    "        self.estimator.fit(X, y)\n",
    "        \n",
    "        return self\n",
    "        \n",
    "        \n",
    "    def transform(self, X, y=None, *args, **kwargs):\n",
    "        y = X.loc[:, self.key_NA]\n",
    "        y_is_NA = y.isna()\n",
    "        \n",
    "        if not y_is_NA.any():\n",
    "            return X        \n",
    "        \n",
    "        X =  X.copy()\n",
    "        X_NA = X.loc[y_is_NA, :].drop(self.key_NA, axis=1)\n",
    "        X.loc[y_is_NA, self.key_NA] = self.estimator.predict(X_NA)\n",
    "        \n",
    "        if not self.df_out:\n",
    "            return X.values\n",
    "        \n",
    "        return X\n",
    "    \n",
    "    def fit_transform(self, X, y=None, *args, **kwargs):\n",
    "        return self.fit(X, y, *args, **kwargs).transform(X, y, *args, **kwargs)"
   ]
  },
  {
   "cell_type": "code",
   "execution_count": 116,
   "metadata": {},
   "outputs": [],
   "source": [
    "from sklearn.linear_model import Ridge"
   ]
  },
  {
   "cell_type": "markdown",
   "metadata": {},
   "source": [
    "Supervised imputation with ```Ridge``` regression. We should possibly be able to tune it's ```hyperparameters``` too."
   ]
  },
  {
   "cell_type": "code",
   "execution_count": 117,
   "metadata": {},
   "outputs": [
    {
     "data": {
      "text/plain": [
       "SupervisedImputer(df_out=False,\n",
       "                  estimator=Ridge(alpha=1.0, copy_X=True, fit_intercept=True,\n",
       "                                  max_iter=None, normalize=False,\n",
       "                                  random_state=None, solver='auto', tol=0.001),\n",
       "                  key_NA='Age', keys_nonNA=None)"
      ]
     },
     "execution_count": 117,
     "metadata": {},
     "output_type": "execute_result"
    }
   ],
   "source": [
    "sup_imp = SupervisedImputer(Ridge(), 'Age')\n",
    "sup_imp"
   ]
  },
  {
   "cell_type": "code",
   "execution_count": 118,
   "metadata": {},
   "outputs": [
    {
     "data": {
      "text/plain": [
       "array([[ 1.        ,  0.        ,  1.        , ...,  0.        ,\n",
       "         0.        , 22.        ],\n",
       "       [ 0.        ,  0.        ,  0.        , ...,  0.        ,\n",
       "         0.        , 38.        ],\n",
       "       [ 0.        ,  0.        ,  1.        , ...,  0.        ,\n",
       "         0.        , 26.        ],\n",
       "       ...,\n",
       "       [ 0.        ,  0.        ,  1.        , ...,  0.        ,\n",
       "         1.        , 16.48266917],\n",
       "       [ 1.        ,  0.        ,  0.        , ...,  0.        ,\n",
       "         0.        , 26.        ],\n",
       "       [ 1.        ,  1.        ,  0.        , ...,  0.        ,\n",
       "         0.        , 32.        ]])"
      ]
     },
     "execution_count": 118,
     "metadata": {},
     "output_type": "execute_result"
    }
   ],
   "source": [
    "sup_imp.fit_transform(dfX_preproc)"
   ]
  },
  {
   "cell_type": "code",
   "execution_count": 133,
   "metadata": {},
   "outputs": [],
   "source": [
    "from sklearn.ensemble import RandomForestRegressor"
   ]
  },
  {
   "cell_type": "markdown",
   "metadata": {},
   "source": [
    "Supervised imputation with ```RandomForestRegressor```"
   ]
  },
  {
   "cell_type": "code",
   "execution_count": 134,
   "metadata": {},
   "outputs": [
    {
     "data": {
      "text/plain": [
       "array([[ 1.        ,  0.        ,  1.        , ...,  0.        ,\n",
       "         0.        , 22.        ],\n",
       "       [ 0.        ,  0.        ,  0.        , ...,  0.        ,\n",
       "         0.        , 38.        ],\n",
       "       [ 0.        ,  0.        ,  1.        , ...,  0.        ,\n",
       "         0.        , 26.        ],\n",
       "       ...,\n",
       "       [ 0.        ,  0.        ,  1.        , ...,  0.        ,\n",
       "         1.        ,  8.38516667],\n",
       "       [ 1.        ,  0.        ,  0.        , ...,  0.        ,\n",
       "         0.        , 26.        ],\n",
       "       [ 1.        ,  1.        ,  0.        , ...,  0.        ,\n",
       "         0.        , 32.        ]])"
      ]
     },
     "execution_count": 134,
     "metadata": {},
     "output_type": "execute_result"
    }
   ],
   "source": [
    "modified = Pipeline([\n",
    "    ('preprocess', preprocess_data_dfm),\n",
    "    ('impute', SupervisedImputer(RandomForestRegressor(), 'Age'))\n",
    "])\n",
    "\n",
    "modified.fit_transform(dfX_pre)"
   ]
  },
  {
   "cell_type": "code",
   "execution_count": 135,
   "metadata": {},
   "outputs": [],
   "source": [
    "dp.preprocess_data = modified"
   ]
  },
  {
   "cell_type": "code",
   "execution_count": 136,
   "metadata": {},
   "outputs": [
    {
     "data": {
      "text/plain": [
       "array([[ 1.    ,  0.    ,  1.    , ...,  0.    ,  0.    , 22.    ],\n",
       "       [ 0.    ,  0.    ,  0.    , ...,  0.    ,  0.    , 38.    ],\n",
       "       [ 0.    ,  0.    ,  1.    , ...,  0.    ,  0.    , 26.    ],\n",
       "       ...,\n",
       "       [ 0.    ,  0.    ,  1.    , ...,  0.    ,  1.    ,  7.7265],\n",
       "       [ 1.    ,  0.    ,  0.    , ...,  0.    ,  0.    , 26.    ],\n",
       "       [ 1.    ,  1.    ,  0.    , ...,  0.    ,  0.    , 32.    ]])"
      ]
     },
     "execution_count": 136,
     "metadata": {},
     "output_type": "execute_result"
    }
   ],
   "source": [
    "dfX_pre, dfy_pre = dp.prepare()\n",
    "dp.preprocess()"
   ]
  },
  {
   "cell_type": "markdown",
   "metadata": {},
   "source": [
    "```train score```"
   ]
  },
  {
   "cell_type": "code",
   "execution_count": 137,
   "metadata": {},
   "outputs": [
    {
     "data": {
      "text/plain": [
       "0.9910011248593926"
      ]
     },
     "execution_count": 137,
     "metadata": {},
     "output_type": "execute_result"
    }
   ],
   "source": [
    "dp.fit().score()"
   ]
  },
  {
   "cell_type": "markdown",
   "metadata": {},
   "source": [
    "```crossvalidated accuracy```"
   ]
  },
  {
   "cell_type": "code",
   "execution_count": 138,
   "metadata": {},
   "outputs": [
    {
     "data": {
      "text/plain": [
       "0.8065511331175014"
      ]
     },
     "execution_count": 138,
     "metadata": {},
     "output_type": "execute_result"
    }
   ],
   "source": [
    "cross_val_score(dp, dfX_pre, dfy_pre).mean()"
   ]
  },
  {
   "cell_type": "markdown",
   "metadata": {},
   "source": [
    "Looks like ```DataFrameMapper``` doesn't include ```hyperparameters``` of the ```nested transformers```"
   ]
  },
  {
   "cell_type": "code",
   "execution_count": 147,
   "metadata": {},
   "outputs": [
    {
     "name": "stdout",
     "output_type": "stream",
     "text": [
      "['data',\n",
      " 'description',\n",
      " 'mlmodel',\n",
      " 'prepare_data__memory',\n",
      " 'prepare_data__steps',\n",
      " 'prepare_data__verbose',\n",
      " 'prepare_data__nan_drpr',\n",
      " 'prepare_data__nan_drpr__key',\n",
      " 'prepare_data',\n",
      " 'preprocess_data',\n",
      " 'ycol',\n",
      " 'preprocessing',\n",
      " 'train',\n",
      " 'preprocessing__memory',\n",
      " 'preprocessing__steps',\n",
      " 'preprocessing__verbose',\n",
      " 'preprocessing__preprocess',\n",
      " 'preprocessing__impute',\n",
      " 'preprocessing__preprocess__default',\n",
      " 'preprocessing__preprocess__df_out',\n",
      " 'preprocessing__preprocess__features',\n",
      " 'preprocessing__preprocess__input_df',\n",
      " 'preprocessing__preprocess__sparse',\n",
      " 'preprocessing__impute__df_out',\n",
      " 'preprocessing__impute__estimator__bootstrap',\n",
      " 'preprocessing__impute__estimator__ccp_alpha',\n",
      " 'preprocessing__impute__estimator__criterion',\n",
      " 'preprocessing__impute__estimator__max_depth',\n",
      " 'preprocessing__impute__estimator__max_features',\n",
      " 'preprocessing__impute__estimator__max_leaf_nodes',\n",
      " 'preprocessing__impute__estimator__max_samples',\n",
      " 'preprocessing__impute__estimator__min_impurity_decrease',\n",
      " 'preprocessing__impute__estimator__min_impurity_split',\n",
      " 'preprocessing__impute__estimator__min_samples_leaf',\n",
      " 'preprocessing__impute__estimator__min_samples_split',\n",
      " 'preprocessing__impute__estimator__min_weight_fraction_leaf',\n",
      " 'preprocessing__impute__estimator__n_estimators',\n",
      " 'preprocessing__impute__estimator__n_jobs',\n",
      " 'preprocessing__impute__estimator__oob_score',\n",
      " 'preprocessing__impute__estimator__random_state',\n",
      " 'preprocessing__impute__estimator__verbose',\n",
      " 'preprocessing__impute__estimator__warm_start',\n",
      " 'preprocessing__impute__estimator',\n",
      " 'preprocessing__impute__key_NA',\n",
      " 'preprocessing__impute__keys_nonNA',\n",
      " 'train__bootstrap',\n",
      " 'train__ccp_alpha',\n",
      " 'train__class_weight',\n",
      " 'train__criterion',\n",
      " 'train__max_depth',\n",
      " 'train__max_features',\n",
      " 'train__max_leaf_nodes',\n",
      " 'train__max_samples',\n",
      " 'train__min_impurity_decrease',\n",
      " 'train__min_impurity_split',\n",
      " 'train__min_samples_leaf',\n",
      " 'train__min_samples_split',\n",
      " 'train__min_weight_fraction_leaf',\n",
      " 'train__n_estimators',\n",
      " 'train__n_jobs',\n",
      " 'train__oob_score',\n",
      " 'train__random_state',\n",
      " 'train__verbose',\n",
      " 'train__warm_start']\n"
     ]
    }
   ],
   "source": [
    "print_params(dp)"
   ]
  },
  {
   "cell_type": "code",
   "execution_count": 146,
   "metadata": {},
   "outputs": [],
   "source": [
    "%autoreload 2"
   ]
  }
 ],
 "metadata": {
  "kernelspec": {
   "display_name": "Python [conda env:titansurv] *",
   "language": "python",
   "name": "conda-env-titansurv-py"
  },
  "language_info": {
   "codemirror_mode": {
    "name": "ipython",
    "version": 3
   },
   "file_extension": ".py",
   "mimetype": "text/x-python",
   "name": "python",
   "nbconvert_exporter": "python",
   "pygments_lexer": "ipython3",
   "version": "3.8.2"
  },
  "toc": {
   "base_numbering": 1,
   "nav_menu": {},
   "number_sections": true,
   "sideBar": true,
   "skip_h1_title": false,
   "title_cell": "Table of Contents",
   "title_sidebar": "Contents",
   "toc_cell": false,
   "toc_position": {},
   "toc_section_display": true,
   "toc_window_display": false
  }
 },
 "nbformat": 4,
 "nbformat_minor": 2
}
