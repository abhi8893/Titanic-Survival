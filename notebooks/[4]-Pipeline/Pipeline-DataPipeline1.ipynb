{
 "cells": [
  {
   "cell_type": "markdown",
   "metadata": {},
   "source": [
    "# `DataPipeline1`- Basic Crude pipeline"
   ]
  },
  {
   "cell_type": "code",
   "execution_count": 1,
   "metadata": {
    "ExecuteTime": {
     "end_time": "2020-05-15T11:47:30.385709Z",
     "start_time": "2020-05-15T11:47:29.841987Z"
    }
   },
   "outputs": [],
   "source": [
    "import sys\n",
    "import os\n",
    "import pandas as pd\n",
    "import numpy as np\n",
    "from src.preprocessing import *"
   ]
  },
  {
   "cell_type": "code",
   "execution_count": 2,
   "metadata": {
    "ExecuteTime": {
     "end_time": "2020-05-15T11:47:30.404264Z",
     "start_time": "2020-05-15T11:47:30.387540Z"
    }
   },
   "outputs": [],
   "source": [
    "from sklearn.linear_model import LogisticRegression\n",
    "from sklearn.linear_model import RidgeClassifier\n",
    "from sklearn.neighbors import KNeighborsClassifier\n",
    "from sklearn.tree import DecisionTreeClassifier\n",
    "from sklearn.naive_bayes import GaussianNB\n",
    "from sklearn.ensemble import RandomForestClassifier, BaggingClassifier\n",
    "from sklearn.svm import SVC"
   ]
  },
  {
   "cell_type": "code",
   "execution_count": 3,
   "metadata": {
    "ExecuteTime": {
     "end_time": "2020-05-15T11:47:30.415421Z",
     "start_time": "2020-05-15T11:47:30.413033Z"
    }
   },
   "outputs": [],
   "source": [
    "from sklearn.model_selection import cross_val_score\n",
    "from sklearn.model_selection import StratifiedKFold, RepeatedStratifiedKFold"
   ]
  },
  {
   "cell_type": "code",
   "execution_count": 4,
   "metadata": {
    "ExecuteTime": {
     "end_time": "2020-05-15T11:47:30.459656Z",
     "start_time": "2020-05-15T11:47:30.416702Z"
    }
   },
   "outputs": [],
   "source": [
    "from sklearn.pipeline import Pipeline\n",
    "from src.utils import print_params\n",
    "from src.preprocessing import Passthrough"
   ]
  },
  {
   "cell_type": "code",
   "execution_count": 5,
   "metadata": {
    "ExecuteTime": {
     "end_time": "2020-05-15T11:47:30.467938Z",
     "start_time": "2020-05-15T11:47:30.461968Z"
    }
   },
   "outputs": [],
   "source": [
    "from sklearn.preprocessing import OneHotEncoder, StandardScaler\n",
    "from sklearn.impute import SimpleImputer\n",
    "from sklearn.compose import ColumnTransformer\n"
   ]
  },
  {
   "cell_type": "code",
   "execution_count": 6,
   "metadata": {
    "ExecuteTime": {
     "end_time": "2020-05-15T11:47:30.531579Z",
     "start_time": "2020-05-15T11:47:30.514216Z"
    }
   },
   "outputs": [],
   "source": [
    "from src.utils import load_data\n",
    "dfX, dfy = load_data(return_X_y=True)\n",
    "df_test = load_data('test')\n",
    "dfX_test = df_test.drop('PassengerId', axis=1)"
   ]
  },
  {
   "cell_type": "code",
   "execution_count": 7,
   "metadata": {
    "ExecuteTime": {
     "end_time": "2020-05-15T11:47:30.871743Z",
     "start_time": "2020-05-15T11:47:30.867850Z"
    }
   },
   "outputs": [],
   "source": [
    "def missing_clmns(df):\n",
    "    df_na_count = df.isna().sum(axis=0)\n",
    "    return df_na_count[df_na_count > 0]"
   ]
  },
  {
   "cell_type": "code",
   "execution_count": 8,
   "metadata": {
    "ExecuteTime": {
     "end_time": "2020-05-15T11:47:31.176381Z",
     "start_time": "2020-05-15T11:47:31.161874Z"
    }
   },
   "outputs": [
    {
     "data": {
      "text/plain": [
       "Age         177\n",
       "Cabin       687\n",
       "Embarked      2\n",
       "dtype: int64"
      ]
     },
     "execution_count": 8,
     "metadata": {},
     "output_type": "execute_result"
    }
   ],
   "source": [
    "train_miss = missing_clmns(dfX)\n",
    "train_miss"
   ]
  },
  {
   "cell_type": "code",
   "execution_count": 9,
   "metadata": {
    "ExecuteTime": {
     "end_time": "2020-05-15T11:47:31.603806Z",
     "start_time": "2020-05-15T11:47:31.589123Z"
    }
   },
   "outputs": [
    {
     "data": {
      "text/plain": [
       "Age       86\n",
       "Fare       1\n",
       "Cabin    327\n",
       "dtype: int64"
      ]
     },
     "execution_count": 9,
     "metadata": {},
     "output_type": "execute_result"
    }
   ],
   "source": [
    "test_miss = missing_clmns(dfX_test)\n",
    "test_miss"
   ]
  },
  {
   "cell_type": "code",
   "execution_count": 10,
   "metadata": {
    "ExecuteTime": {
     "end_time": "2020-05-15T11:47:32.073719Z",
     "start_time": "2020-05-15T11:47:32.062498Z"
    }
   },
   "outputs": [
    {
     "data": {
      "text/plain": [
       "Index(['Age', 'Cabin', 'Embarked', 'Fare'], dtype='object')"
      ]
     },
     "execution_count": 10,
     "metadata": {},
     "output_type": "execute_result"
    }
   ],
   "source": [
    "train_miss.index.union(test_miss.index)"
   ]
  },
  {
   "cell_type": "markdown",
   "metadata": {},
   "source": [
    "So we need to \n",
    "- implement `Imputer` for these columns or \n",
    "- drop them altogether or \n",
    "- encode the missing value with a different category\n",
    "- in the `prepare_data` transformer, we can choose to drop the NaN values and then train the model\n",
    "    - or is it more advised to add a missing indicator and train the model?\n",
    "   "
   ]
  },
  {
   "cell_type": "markdown",
   "metadata": {},
   "source": [
    "# Pipeline outline:\n",
    "\n",
    "1. Drop Name, Ticket - requires Feature Engineering\n",
    "2. OneHotEncoder for Sex, Embarked\n",
    "3. Drop Cabin - requires Feature Engineering/(?And Not Imputation)\n",
    "4. Impute Age with mean\n",
    "5. Drop NaN rows in Embarked\n",
    "6. Scaling Age and Fare\n",
    "\n",
    "MLModel: RandomForestClassifer"
   ]
  },
  {
   "cell_type": "markdown",
   "metadata": {},
   "source": [
    "## Prepare data\n",
    "These steps include the sample size altering steps."
   ]
  },
  {
   "cell_type": "markdown",
   "metadata": {},
   "source": [
    "## `prepare`"
   ]
  },
  {
   "cell_type": "code",
   "execution_count": 11,
   "metadata": {
    "ExecuteTime": {
     "end_time": "2020-05-15T11:47:34.065609Z",
     "start_time": "2020-05-15T11:47:34.031522Z"
    }
   },
   "outputs": [],
   "source": [
    "prepare_data = Pipeline([\n",
    "    ('nan_drpr', NaNDropper(['Embarked']))\n",
    "])\n",
    "\n",
    "dfX_pre, dfy_pre = prepare_data.fit_transform(dfX, dfy)"
   ]
  },
  {
   "cell_type": "markdown",
   "metadata": {},
   "source": [
    "### Hyperparameters"
   ]
  },
  {
   "cell_type": "code",
   "execution_count": 12,
   "metadata": {
    "ExecuteTime": {
     "end_time": "2020-05-15T11:47:36.598476Z",
     "start_time": "2020-05-15T11:47:36.594648Z"
    }
   },
   "outputs": [
    {
     "name": "stdout",
     "output_type": "stream",
     "text": [
      "['memory', 'steps', 'verbose', 'nan_drpr', 'nan_drpr__key']\n"
     ]
    }
   ],
   "source": [
    "print_params(prepare_data)"
   ]
  },
  {
   "cell_type": "markdown",
   "metadata": {},
   "source": [
    "## `preprocess`\n",
    "These include the sklearn compatible steps but can be divided into sequential and parallel steps"
   ]
  },
  {
   "cell_type": "markdown",
   "metadata": {},
   "source": [
    "## Variant 1\n",
    "### Scaling applied to only continuous columns"
   ]
  },
  {
   "cell_type": "code",
   "execution_count": 13,
   "metadata": {
    "ExecuteTime": {
     "end_time": "2020-05-15T11:47:37.682007Z",
     "start_time": "2020-05-15T11:47:37.677871Z"
    }
   },
   "outputs": [],
   "source": [
    "imp_scale = Pipeline([\n",
    "    ('imp', SimpleImputer()),\n",
    "    ('scale', StandardScaler())\n",
    "], 'passthrough')\n",
    "\n",
    "imp_enc = Pipeline([\n",
    "    ('imp', SimpleImputer(strategy='most_frequent')),\n",
    "    ('enc', OneHotEncoder(drop='first'))\n",
    "])\n",
    "\n",
    "preprocess_data = ColumnTransformer([\n",
    "    ('clmn_drp', 'drop', ['Name', 'Ticket', 'Cabin', 'PassengerId']),\n",
    "    ('enc', OneHotEncoder(drop='first'), ['Sex']),\n",
    "    ('imp_enc', imp_enc, ['Embarked']),\n",
    "    ('imp_scale', imp_scale, ['Age', 'Fare']),\n",
    "], 'passthrough')"
   ]
  },
  {
   "cell_type": "markdown",
   "metadata": {},
   "source": [
    "## Variant 2 (I will choose this one for further analyses)\n",
    "### Scaling applied to all columns as well as OneHot columns"
   ]
  },
  {
   "cell_type": "code",
   "execution_count": 14,
   "metadata": {
    "ExecuteTime": {
     "end_time": "2020-05-15T11:47:38.533549Z",
     "start_time": "2020-05-15T11:47:38.502866Z"
    }
   },
   "outputs": [],
   "source": [
    "\n",
    "imp_enc = Pipeline([\n",
    "    ('imp', SimpleImputer(strategy='most_frequent'), ),\n",
    "    ('enc', OneHotEncoder(drop='first'))\n",
    "])\n",
    "\n",
    "\n",
    "clmn_trnsfrm = ColumnTransformer([\n",
    "    ('clmn_drp', 'drop', ['Name', 'Ticket', 'Cabin']),\n",
    "    ('enc', OneHotEncoder(drop='first'), ['Sex']),\n",
    "    ('imp_enc', imp_enc, ['Embarked']),\n",
    "    ('imp', SimpleImputer(), ['Age', 'Fare'])\n",
    "], 'passthrough')\n",
    "\n",
    "\n",
    "preprocess_data = Pipeline([\n",
    "    ('clmn_trnsfrm', clmn_trnsfrm),\n",
    "    ('scale', StandardScaler())\n",
    "])\n"
   ]
  },
  {
   "cell_type": "markdown",
   "metadata": {},
   "source": [
    "### This would be an interesting functionality to add, wherein, just to experiment, initially we apply scaling to select columns, and then have `modify` option to apply it to all columns just at the end before fitting the model\n"
   ]
  },
  {
   "cell_type": "markdown",
   "metadata": {},
   "source": [
    "### Repeat the below process with `unprepared ` i.e. dfX, dfy and `prepared` i.e. dfX_pre, dfy_pre data"
   ]
  },
  {
   "cell_type": "markdown",
   "metadata": {},
   "source": [
    "## `pipeline`"
   ]
  },
  {
   "cell_type": "code",
   "execution_count": 34,
   "metadata": {
    "ExecuteTime": {
     "end_time": "2020-05-15T11:55:46.908510Z",
     "start_time": "2020-05-15T11:55:46.855084Z"
    }
   },
   "outputs": [],
   "source": [
    "pipe = Pipeline([\n",
    "    ('preprocess', preprocess_data),\n",
    "    ('ml', KNeighborsClassifier())\n",
    "])\n",
    "pipe.fit(dfX, dfy);"
   ]
  },
  {
   "cell_type": "markdown",
   "metadata": {},
   "source": [
    "### Training score"
   ]
  },
  {
   "cell_type": "code",
   "execution_count": 37,
   "metadata": {
    "ExecuteTime": {
     "end_time": "2020-05-15T11:56:01.214080Z",
     "start_time": "2020-05-15T11:56:01.112365Z"
    }
   },
   "outputs": [
    {
     "data": {
      "text/plain": [
       "0.8653198653198653"
      ]
     },
     "execution_count": 37,
     "metadata": {},
     "output_type": "execute_result"
    }
   ],
   "source": [
    "pipe.score(dfX, dfy)"
   ]
  },
  {
   "cell_type": "markdown",
   "metadata": {},
   "source": [
    "### Crossvalidation score"
   ]
  },
  {
   "cell_type": "code",
   "execution_count": 38,
   "metadata": {
    "ExecuteTime": {
     "end_time": "2020-05-15T11:56:47.104324Z",
     "start_time": "2020-05-15T11:56:46.896051Z"
    }
   },
   "outputs": [
    {
     "data": {
      "text/plain": [
       "0.8080660347749671"
      ]
     },
     "execution_count": 38,
     "metadata": {},
     "output_type": "execute_result"
    }
   ],
   "source": [
    "from sklearn.model_selection import cross_val_score, StratifiedKFold\n",
    "skf = StratifiedKFold(n_splits=5)\n",
    "cross_val_score(pipe, dfX, dfy).mean()"
   ]
  },
  {
   "cell_type": "markdown",
   "metadata": {},
   "source": [
    "### Hyperparameters"
   ]
  },
  {
   "cell_type": "code",
   "execution_count": 39,
   "metadata": {
    "ExecuteTime": {
     "end_time": "2020-05-15T11:56:51.253702Z",
     "start_time": "2020-05-15T11:56:51.215314Z"
    }
   },
   "outputs": [
    {
     "name": "stdout",
     "output_type": "stream",
     "text": [
      "['memory',\n",
      " 'steps',\n",
      " 'verbose',\n",
      " 'clmn_trnsfrm',\n",
      " 'scale',\n",
      " 'clmn_trnsfrm__n_jobs',\n",
      " 'clmn_trnsfrm__remainder',\n",
      " 'clmn_trnsfrm__sparse_threshold',\n",
      " 'clmn_trnsfrm__transformer_weights',\n",
      " 'clmn_trnsfrm__transformers',\n",
      " 'clmn_trnsfrm__verbose',\n",
      " 'clmn_trnsfrm__clmn_drp',\n",
      " 'clmn_trnsfrm__enc',\n",
      " 'clmn_trnsfrm__imp_enc',\n",
      " 'clmn_trnsfrm__imp',\n",
      " 'clmn_trnsfrm__enc__categories',\n",
      " 'clmn_trnsfrm__enc__drop',\n",
      " 'clmn_trnsfrm__enc__dtype',\n",
      " 'clmn_trnsfrm__enc__handle_unknown',\n",
      " 'clmn_trnsfrm__enc__sparse',\n",
      " 'clmn_trnsfrm__imp_enc__memory',\n",
      " 'clmn_trnsfrm__imp_enc__steps',\n",
      " 'clmn_trnsfrm__imp_enc__verbose',\n",
      " 'clmn_trnsfrm__imp_enc__imp',\n",
      " 'clmn_trnsfrm__imp_enc__enc',\n",
      " 'clmn_trnsfrm__imp_enc__imp__add_indicator',\n",
      " 'clmn_trnsfrm__imp_enc__imp__copy',\n",
      " 'clmn_trnsfrm__imp_enc__imp__fill_value',\n",
      " 'clmn_trnsfrm__imp_enc__imp__missing_values',\n",
      " 'clmn_trnsfrm__imp_enc__imp__strategy',\n",
      " 'clmn_trnsfrm__imp_enc__imp__verbose',\n",
      " 'clmn_trnsfrm__imp_enc__enc__categories',\n",
      " 'clmn_trnsfrm__imp_enc__enc__drop',\n",
      " 'clmn_trnsfrm__imp_enc__enc__dtype',\n",
      " 'clmn_trnsfrm__imp_enc__enc__handle_unknown',\n",
      " 'clmn_trnsfrm__imp_enc__enc__sparse',\n",
      " 'clmn_trnsfrm__imp__add_indicator',\n",
      " 'clmn_trnsfrm__imp__copy',\n",
      " 'clmn_trnsfrm__imp__fill_value',\n",
      " 'clmn_trnsfrm__imp__missing_values',\n",
      " 'clmn_trnsfrm__imp__strategy',\n",
      " 'clmn_trnsfrm__imp__verbose',\n",
      " 'scale__copy',\n",
      " 'scale__with_mean',\n",
      " 'scale__with_std']\n"
     ]
    }
   ],
   "source": [
    "print_params(preprocess_data)"
   ]
  },
  {
   "cell_type": "markdown",
   "metadata": {},
   "source": [
    "### Should I use `StratifiedKfold`?\n",
    "\n",
    "If the distribution of the test dataset is sufficiently different from the train, I **SHOULD NOT** use `StratifiedKfold`\n",
    "\n",
    "\n",
    "Refer : \n",
    "- [Stackexchange: When to use stratified k-fold](https://stats.stackexchange.com/questions/401526/when-to-use-stratified-k-fold)\n",
    "- [Difference between stratifiedkfold and stratifiedshufflesplit](https://stackoverflow.com/questions/45969390/difference-between-stratifiedkfold-and-stratifiedshufflesplit-in-sklearn)"
   ]
  },
  {
   "cell_type": "markdown",
   "metadata": {},
   "source": [
    "### Let's see if this is the case"
   ]
  },
  {
   "cell_type": "code",
   "execution_count": 40,
   "metadata": {
    "ExecuteTime": {
     "end_time": "2020-05-15T11:56:54.360899Z",
     "start_time": "2020-05-15T11:56:54.324564Z"
    }
   },
   "outputs": [
    {
     "data": {
      "text/html": [
       "<div>\n",
       "<style scoped>\n",
       "    .dataframe tbody tr th:only-of-type {\n",
       "        vertical-align: middle;\n",
       "    }\n",
       "\n",
       "    .dataframe tbody tr th {\n",
       "        vertical-align: top;\n",
       "    }\n",
       "\n",
       "    .dataframe thead th {\n",
       "        text-align: right;\n",
       "    }\n",
       "</style>\n",
       "<table border=\"1\" class=\"dataframe\">\n",
       "  <thead>\n",
       "    <tr style=\"text-align: right;\">\n",
       "      <th></th>\n",
       "      <th>PassengerId</th>\n",
       "      <th>Pclass</th>\n",
       "      <th>Name</th>\n",
       "      <th>Sex</th>\n",
       "      <th>Age</th>\n",
       "      <th>SibSp</th>\n",
       "      <th>Parch</th>\n",
       "      <th>Ticket</th>\n",
       "      <th>Fare</th>\n",
       "      <th>Cabin</th>\n",
       "      <th>Embarked</th>\n",
       "    </tr>\n",
       "  </thead>\n",
       "  <tbody>\n",
       "    <tr>\n",
       "      <th>0</th>\n",
       "      <td>892</td>\n",
       "      <td>3</td>\n",
       "      <td>Kelly, Mr. James</td>\n",
       "      <td>male</td>\n",
       "      <td>34.5</td>\n",
       "      <td>0</td>\n",
       "      <td>0</td>\n",
       "      <td>330911</td>\n",
       "      <td>7.8292</td>\n",
       "      <td>NaN</td>\n",
       "      <td>Q</td>\n",
       "    </tr>\n",
       "    <tr>\n",
       "      <th>1</th>\n",
       "      <td>893</td>\n",
       "      <td>3</td>\n",
       "      <td>Wilkes, Mrs. James (Ellen Needs)</td>\n",
       "      <td>female</td>\n",
       "      <td>47.0</td>\n",
       "      <td>1</td>\n",
       "      <td>0</td>\n",
       "      <td>363272</td>\n",
       "      <td>7.0000</td>\n",
       "      <td>NaN</td>\n",
       "      <td>S</td>\n",
       "    </tr>\n",
       "    <tr>\n",
       "      <th>2</th>\n",
       "      <td>894</td>\n",
       "      <td>2</td>\n",
       "      <td>Myles, Mr. Thomas Francis</td>\n",
       "      <td>male</td>\n",
       "      <td>62.0</td>\n",
       "      <td>0</td>\n",
       "      <td>0</td>\n",
       "      <td>240276</td>\n",
       "      <td>9.6875</td>\n",
       "      <td>NaN</td>\n",
       "      <td>Q</td>\n",
       "    </tr>\n",
       "    <tr>\n",
       "      <th>3</th>\n",
       "      <td>895</td>\n",
       "      <td>3</td>\n",
       "      <td>Wirz, Mr. Albert</td>\n",
       "      <td>male</td>\n",
       "      <td>27.0</td>\n",
       "      <td>0</td>\n",
       "      <td>0</td>\n",
       "      <td>315154</td>\n",
       "      <td>8.6625</td>\n",
       "      <td>NaN</td>\n",
       "      <td>S</td>\n",
       "    </tr>\n",
       "    <tr>\n",
       "      <th>4</th>\n",
       "      <td>896</td>\n",
       "      <td>3</td>\n",
       "      <td>Hirvonen, Mrs. Alexander (Helga E Lindqvist)</td>\n",
       "      <td>female</td>\n",
       "      <td>22.0</td>\n",
       "      <td>1</td>\n",
       "      <td>1</td>\n",
       "      <td>3101298</td>\n",
       "      <td>12.2875</td>\n",
       "      <td>NaN</td>\n",
       "      <td>S</td>\n",
       "    </tr>\n",
       "  </tbody>\n",
       "</table>\n",
       "</div>"
      ],
      "text/plain": [
       "   PassengerId  Pclass                                          Name     Sex  \\\n",
       "0          892       3                              Kelly, Mr. James    male   \n",
       "1          893       3              Wilkes, Mrs. James (Ellen Needs)  female   \n",
       "2          894       2                     Myles, Mr. Thomas Francis    male   \n",
       "3          895       3                              Wirz, Mr. Albert    male   \n",
       "4          896       3  Hirvonen, Mrs. Alexander (Helga E Lindqvist)  female   \n",
       "\n",
       "    Age  SibSp  Parch   Ticket     Fare Cabin Embarked  \n",
       "0  34.5      0      0   330911   7.8292   NaN        Q  \n",
       "1  47.0      1      0   363272   7.0000   NaN        S  \n",
       "2  62.0      0      0   240276   9.6875   NaN        Q  \n",
       "3  27.0      0      0   315154   8.6625   NaN        S  \n",
       "4  22.0      1      1  3101298  12.2875   NaN        S  "
      ]
     },
     "execution_count": 40,
     "metadata": {},
     "output_type": "execute_result"
    }
   ],
   "source": [
    "dfX_test = load_data('test')\n",
    "dfX_test.head()"
   ]
  },
  {
   "cell_type": "markdown",
   "metadata": {},
   "source": [
    "### First check if the pipeline can predict on the test dataset"
   ]
  },
  {
   "cell_type": "code",
   "execution_count": 53,
   "metadata": {
    "ExecuteTime": {
     "end_time": "2020-05-15T12:06:52.016738Z",
     "start_time": "2020-05-15T12:06:51.923123Z"
    }
   },
   "outputs": [
    {
     "data": {
      "text/plain": [
       "array([0, 1, 0, 0, 0, 0, 1, 0, 1, 0, 0, 0, 1, 0, 1, 1, 0, 0, 0, 0, 1, 0,\n",
       "       1, 1, 1, 0, 1, 0, 0, 0, 0, 0, 0, 1, 1, 0, 0, 0, 0, 0, 0, 0, 0, 1,\n",
       "       1, 0, 0, 0, 1, 1, 0, 0, 1, 1, 0, 0, 0, 0, 0, 1, 0, 0, 0, 0, 1, 1,\n",
       "       0, 0, 1, 1, 1, 0, 0, 1, 1, 0, 0, 1, 0, 1, 1, 1, 0, 0, 0, 0, 1, 0,\n",
       "       1, 1, 0, 0, 1, 0, 1, 0, 1, 0, 0, 0, 1, 0, 0, 0, 1, 0, 0, 0, 0, 0,\n",
       "       0, 1, 1, 0, 1, 0, 0, 1, 0, 1, 1, 0, 1, 0, 0, 1, 0, 1, 0, 0, 0, 1,\n",
       "       0, 0, 0, 0, 0, 0, 0, 0, 0, 1, 0, 0, 0, 0, 0, 0, 0, 0, 1, 0, 0, 1,\n",
       "       0, 0, 1, 0, 0, 1, 1, 1, 1, 0, 0, 1, 0, 0, 1, 0, 0, 0, 0, 0, 0, 1,\n",
       "       1, 1, 1, 1, 0, 0, 1, 0, 1, 0, 1, 0, 0, 0, 0, 0, 1, 0, 1, 0, 1, 0,\n",
       "       0, 0, 1, 1, 0, 1, 0, 1, 1, 0, 1, 0, 0, 0, 0, 1, 0, 0, 1, 1, 1, 0,\n",
       "       1, 0, 1, 0, 1, 0, 0, 1, 0, 0, 0, 1, 0, 0, 0, 0, 1, 0, 1, 1, 1, 1,\n",
       "       0, 0, 0, 0, 1, 0, 1, 1, 1, 0, 1, 0, 0, 0, 0, 0, 1, 0, 0, 0, 1, 1,\n",
       "       0, 0, 0, 0, 0, 0, 0, 0, 1, 1, 0, 1, 0, 0, 0, 0, 0, 1, 1, 1, 1, 0,\n",
       "       0, 0, 0, 0, 0, 1, 0, 0, 0, 0, 1, 0, 0, 0, 0, 0, 0, 0, 1, 1, 1, 1,\n",
       "       1, 0, 0, 0, 0, 1, 1, 0, 0, 0, 0, 0, 0, 0, 0, 0, 1, 0, 1, 0, 0, 0,\n",
       "       1, 0, 0, 1, 0, 0, 0, 0, 0, 0, 0, 0, 0, 1, 0, 0, 0, 1, 0, 1, 1, 0,\n",
       "       0, 0, 1, 0, 1, 0, 0, 0, 0, 1, 1, 0, 1, 0, 0, 0, 1, 0, 0, 1, 0, 0,\n",
       "       1, 1, 0, 0, 0, 0, 0, 0, 0, 0, 0, 1, 0, 0, 0, 0, 0, 1, 1, 0, 0, 1,\n",
       "       0, 1, 0, 0, 1, 0, 1, 0, 0, 1, 0, 0, 1, 1, 1, 1, 0, 0, 1, 0, 0, 0])"
      ]
     },
     "execution_count": 53,
     "metadata": {},
     "output_type": "execute_result"
    }
   ],
   "source": [
    "pred = pipe.predict(dfX_test)\n",
    "pred"
   ]
  },
  {
   "cell_type": "markdown",
   "metadata": {},
   "source": [
    "### Function to create a submission dataframe and a file "
   ]
  },
  {
   "cell_type": "code",
   "execution_count": 103,
   "metadata": {
    "ExecuteTime": {
     "end_time": "2020-05-15T13:21:11.103529Z",
     "start_time": "2020-05-15T13:21:11.082370Z"
    }
   },
   "outputs": [],
   "source": [
    "from src.config import get_config\n",
    "from src.utils import load_data\n",
    "import pandas as pd\n",
    "from datetime import datetime \n",
    "import os\n",
    "\n",
    "config_params = get_config()\n",
    "\n",
    "def get_submission_name(dp, add_time=False):\n",
    "    if not add_time:\n",
    "        return '_'.join([dp.name, \"submission.csv\"])\n",
    "    else:\n",
    "        now = datetime.now()\n",
    "        now = now.strftime(\"%d%m%y%H%M\")\n",
    "        return  '_'.join([dp.name, now, \"submission.csv\"])\n",
    "        \n",
    "        \n",
    "\n",
    "def create_submission(pred, outname=None, outdir=None):\n",
    "    ''' \n",
    "    Create submission dataframe and optionally write out a file\n",
    "    \n",
    "    '''\n",
    "    psngr_id = load_data('test')['PassengerId']\n",
    "    sub_df = pd.DataFrame({'PassengerId': psngr_id, 'Survived': pred})\n",
    "    \n",
    "    if outname is not None:\n",
    "        if outdir is None:\n",
    "            submission_dir = config_params['SUBMISSION_DIR']\n",
    "        else:\n",
    "            submission_dir = outdir\n",
    "            \n",
    "    elif outdir is not None:\n",
    "        raise ValueError('Please provide outname')\n",
    "            \n",
    "    outfile = os.path.join(submission_dir, outname)    \n",
    "    sub_df.to_csv(outfile, index=False)\n",
    "    print(f'Created submission file at {outfile}')\n",
    "        \n",
    "    return sub_df"
   ]
  },
  {
   "cell_type": "code",
   "execution_count": 102,
   "metadata": {
    "ExecuteTime": {
     "end_time": "2020-05-15T13:20:29.526488Z",
     "start_time": "2020-05-15T13:20:29.517285Z"
    }
   },
   "outputs": [
    {
     "data": {
      "text/plain": [
       "'dp1_1505201850_submission.csv'"
      ]
     },
     "execution_count": 102,
     "metadata": {},
     "output_type": "execute_result"
    }
   ],
   "source": [
    "get_submission_name(dp1, add_time=True)"
   ]
  },
  {
   "cell_type": "code",
   "execution_count": 89,
   "metadata": {
    "ExecuteTime": {
     "end_time": "2020-05-15T13:03:51.982455Z",
     "start_time": "2020-05-15T13:03:51.969559Z"
    }
   },
   "outputs": [
    {
     "data": {
      "text/plain": [
       "False"
      ]
     },
     "execution_count": 89,
     "metadata": {},
     "output_type": "execute_result"
    }
   ],
   "source": [
    "all([False])"
   ]
  },
  {
   "cell_type": "code",
   "execution_count": 84,
   "metadata": {
    "ExecuteTime": {
     "end_time": "2020-05-15T13:01:47.880486Z",
     "start_time": "2020-05-15T13:01:47.872637Z"
    }
   },
   "outputs": [],
   "source": [
    "from src.pipeline import dp1"
   ]
  },
  {
   "cell_type": "code",
   "execution_count": 63,
   "metadata": {
    "ExecuteTime": {
     "end_time": "2020-05-15T12:28:18.433493Z",
     "start_time": "2020-05-15T12:28:18.377734Z"
    }
   },
   "outputs": [
    {
     "data": {
      "text/html": [
       "<div>\n",
       "<style scoped>\n",
       "    .dataframe tbody tr th:only-of-type {\n",
       "        vertical-align: middle;\n",
       "    }\n",
       "\n",
       "    .dataframe tbody tr th {\n",
       "        vertical-align: top;\n",
       "    }\n",
       "\n",
       "    .dataframe thead th {\n",
       "        text-align: right;\n",
       "    }\n",
       "</style>\n",
       "<table border=\"1\" class=\"dataframe\">\n",
       "  <thead>\n",
       "    <tr style=\"text-align: right;\">\n",
       "      <th></th>\n",
       "      <th>PassengerId</th>\n",
       "      <th>Survived</th>\n",
       "    </tr>\n",
       "  </thead>\n",
       "  <tbody>\n",
       "    <tr>\n",
       "      <th>0</th>\n",
       "      <td>892</td>\n",
       "      <td>0</td>\n",
       "    </tr>\n",
       "    <tr>\n",
       "      <th>1</th>\n",
       "      <td>893</td>\n",
       "      <td>1</td>\n",
       "    </tr>\n",
       "    <tr>\n",
       "      <th>2</th>\n",
       "      <td>894</td>\n",
       "      <td>0</td>\n",
       "    </tr>\n",
       "    <tr>\n",
       "      <th>3</th>\n",
       "      <td>895</td>\n",
       "      <td>0</td>\n",
       "    </tr>\n",
       "    <tr>\n",
       "      <th>4</th>\n",
       "      <td>896</td>\n",
       "      <td>0</td>\n",
       "    </tr>\n",
       "    <tr>\n",
       "      <th>...</th>\n",
       "      <td>...</td>\n",
       "      <td>...</td>\n",
       "    </tr>\n",
       "    <tr>\n",
       "      <th>413</th>\n",
       "      <td>1305</td>\n",
       "      <td>0</td>\n",
       "    </tr>\n",
       "    <tr>\n",
       "      <th>414</th>\n",
       "      <td>1306</td>\n",
       "      <td>1</td>\n",
       "    </tr>\n",
       "    <tr>\n",
       "      <th>415</th>\n",
       "      <td>1307</td>\n",
       "      <td>0</td>\n",
       "    </tr>\n",
       "    <tr>\n",
       "      <th>416</th>\n",
       "      <td>1308</td>\n",
       "      <td>0</td>\n",
       "    </tr>\n",
       "    <tr>\n",
       "      <th>417</th>\n",
       "      <td>1309</td>\n",
       "      <td>0</td>\n",
       "    </tr>\n",
       "  </tbody>\n",
       "</table>\n",
       "<p>418 rows × 2 columns</p>\n",
       "</div>"
      ],
      "text/plain": [
       "     PassengerId  Survived\n",
       "0            892         0\n",
       "1            893         1\n",
       "2            894         0\n",
       "3            895         0\n",
       "4            896         0\n",
       "..           ...       ...\n",
       "413         1305         0\n",
       "414         1306         1\n",
       "415         1307         0\n",
       "416         1308         0\n",
       "417         1309         0\n",
       "\n",
       "[418 rows x 2 columns]"
      ]
     },
     "execution_count": 63,
     "metadata": {},
     "output_type": "execute_result"
    }
   ],
   "source": [
    "create_submission(pred, outfile=\"../../data/submission/dp1_submission.csv\")"
   ]
  },
  {
   "cell_type": "code",
   "execution_count": 55,
   "metadata": {
    "ExecuteTime": {
     "end_time": "2020-05-15T12:06:58.294105Z",
     "start_time": "2020-05-15T12:06:58.231125Z"
    }
   },
   "outputs": [
    {
     "data": {
      "text/html": [
       "<div>\n",
       "<style scoped>\n",
       "    .dataframe tbody tr th:only-of-type {\n",
       "        vertical-align: middle;\n",
       "    }\n",
       "\n",
       "    .dataframe tbody tr th {\n",
       "        vertical-align: top;\n",
       "    }\n",
       "\n",
       "    .dataframe thead th {\n",
       "        text-align: right;\n",
       "    }\n",
       "</style>\n",
       "<table border=\"1\" class=\"dataframe\">\n",
       "  <thead>\n",
       "    <tr style=\"text-align: right;\">\n",
       "      <th></th>\n",
       "      <th>PassengerId</th>\n",
       "      <th>Survived</th>\n",
       "    </tr>\n",
       "  </thead>\n",
       "  <tbody>\n",
       "    <tr>\n",
       "      <th>0</th>\n",
       "      <td>892</td>\n",
       "      <td>0</td>\n",
       "    </tr>\n",
       "    <tr>\n",
       "      <th>1</th>\n",
       "      <td>893</td>\n",
       "      <td>1</td>\n",
       "    </tr>\n",
       "    <tr>\n",
       "      <th>2</th>\n",
       "      <td>894</td>\n",
       "      <td>0</td>\n",
       "    </tr>\n",
       "    <tr>\n",
       "      <th>3</th>\n",
       "      <td>895</td>\n",
       "      <td>0</td>\n",
       "    </tr>\n",
       "    <tr>\n",
       "      <th>4</th>\n",
       "      <td>896</td>\n",
       "      <td>0</td>\n",
       "    </tr>\n",
       "    <tr>\n",
       "      <th>...</th>\n",
       "      <td>...</td>\n",
       "      <td>...</td>\n",
       "    </tr>\n",
       "    <tr>\n",
       "      <th>413</th>\n",
       "      <td>1305</td>\n",
       "      <td>0</td>\n",
       "    </tr>\n",
       "    <tr>\n",
       "      <th>414</th>\n",
       "      <td>1306</td>\n",
       "      <td>1</td>\n",
       "    </tr>\n",
       "    <tr>\n",
       "      <th>415</th>\n",
       "      <td>1307</td>\n",
       "      <td>0</td>\n",
       "    </tr>\n",
       "    <tr>\n",
       "      <th>416</th>\n",
       "      <td>1308</td>\n",
       "      <td>0</td>\n",
       "    </tr>\n",
       "    <tr>\n",
       "      <th>417</th>\n",
       "      <td>1309</td>\n",
       "      <td>0</td>\n",
       "    </tr>\n",
       "  </tbody>\n",
       "</table>\n",
       "<p>418 rows × 2 columns</p>\n",
       "</div>"
      ],
      "text/plain": [
       "     PassengerId  Survived\n",
       "0            892         0\n",
       "1            893         1\n",
       "2            894         0\n",
       "3            895         0\n",
       "4            896         0\n",
       "..           ...       ...\n",
       "413         1305         0\n",
       "414         1306         1\n",
       "415         1307         0\n",
       "416         1308         0\n",
       "417         1309         0\n",
       "\n",
       "[418 rows x 2 columns]"
      ]
     },
     "execution_count": 55,
     "metadata": {},
     "output_type": "execute_result"
    }
   ],
   "source": [
    "get_submission_df(pred)"
   ]
  },
  {
   "cell_type": "markdown",
   "metadata": {},
   "source": [
    "### Concat the train and test datasets to compare them"
   ]
  },
  {
   "cell_type": "code",
   "execution_count": 90,
   "metadata": {
    "ExecuteTime": {
     "end_time": "2020-05-14T12:27:28.953147Z",
     "start_time": "2020-05-14T12:27:28.916804Z"
    }
   },
   "outputs": [
    {
     "data": {
      "text/html": [
       "<div>\n",
       "<style scoped>\n",
       "    .dataframe tbody tr th:only-of-type {\n",
       "        vertical-align: middle;\n",
       "    }\n",
       "\n",
       "    .dataframe tbody tr th {\n",
       "        vertical-align: top;\n",
       "    }\n",
       "\n",
       "    .dataframe thead th {\n",
       "        text-align: right;\n",
       "    }\n",
       "</style>\n",
       "<table border=\"1\" class=\"dataframe\">\n",
       "  <thead>\n",
       "    <tr style=\"text-align: right;\">\n",
       "      <th></th>\n",
       "      <th>dataset</th>\n",
       "      <th>PassengerId</th>\n",
       "      <th>Survived</th>\n",
       "      <th>Pclass</th>\n",
       "      <th>Name</th>\n",
       "      <th>Sex</th>\n",
       "      <th>Age</th>\n",
       "      <th>SibSp</th>\n",
       "      <th>Parch</th>\n",
       "      <th>Ticket</th>\n",
       "      <th>Fare</th>\n",
       "      <th>Cabin</th>\n",
       "      <th>Embarked</th>\n",
       "    </tr>\n",
       "  </thead>\n",
       "  <tbody>\n",
       "    <tr>\n",
       "      <th>0</th>\n",
       "      <td>train</td>\n",
       "      <td>1</td>\n",
       "      <td>0.0</td>\n",
       "      <td>3</td>\n",
       "      <td>Braund, Mr. Owen Harris</td>\n",
       "      <td>male</td>\n",
       "      <td>22.0</td>\n",
       "      <td>1</td>\n",
       "      <td>0</td>\n",
       "      <td>A/5 21171</td>\n",
       "      <td>7.2500</td>\n",
       "      <td>NaN</td>\n",
       "      <td>S</td>\n",
       "    </tr>\n",
       "    <tr>\n",
       "      <th>1</th>\n",
       "      <td>train</td>\n",
       "      <td>2</td>\n",
       "      <td>1.0</td>\n",
       "      <td>1</td>\n",
       "      <td>Cumings, Mrs. John Bradley (Florence Briggs Th...</td>\n",
       "      <td>female</td>\n",
       "      <td>38.0</td>\n",
       "      <td>1</td>\n",
       "      <td>0</td>\n",
       "      <td>PC 17599</td>\n",
       "      <td>71.2833</td>\n",
       "      <td>C85</td>\n",
       "      <td>C</td>\n",
       "    </tr>\n",
       "    <tr>\n",
       "      <th>2</th>\n",
       "      <td>train</td>\n",
       "      <td>3</td>\n",
       "      <td>1.0</td>\n",
       "      <td>3</td>\n",
       "      <td>Heikkinen, Miss. Laina</td>\n",
       "      <td>female</td>\n",
       "      <td>26.0</td>\n",
       "      <td>0</td>\n",
       "      <td>0</td>\n",
       "      <td>STON/O2. 3101282</td>\n",
       "      <td>7.9250</td>\n",
       "      <td>NaN</td>\n",
       "      <td>S</td>\n",
       "    </tr>\n",
       "    <tr>\n",
       "      <th>3</th>\n",
       "      <td>train</td>\n",
       "      <td>4</td>\n",
       "      <td>1.0</td>\n",
       "      <td>1</td>\n",
       "      <td>Futrelle, Mrs. Jacques Heath (Lily May Peel)</td>\n",
       "      <td>female</td>\n",
       "      <td>35.0</td>\n",
       "      <td>1</td>\n",
       "      <td>0</td>\n",
       "      <td>113803</td>\n",
       "      <td>53.1000</td>\n",
       "      <td>C123</td>\n",
       "      <td>S</td>\n",
       "    </tr>\n",
       "    <tr>\n",
       "      <th>4</th>\n",
       "      <td>train</td>\n",
       "      <td>5</td>\n",
       "      <td>0.0</td>\n",
       "      <td>3</td>\n",
       "      <td>Allen, Mr. William Henry</td>\n",
       "      <td>male</td>\n",
       "      <td>35.0</td>\n",
       "      <td>0</td>\n",
       "      <td>0</td>\n",
       "      <td>373450</td>\n",
       "      <td>8.0500</td>\n",
       "      <td>NaN</td>\n",
       "      <td>S</td>\n",
       "    </tr>\n",
       "  </tbody>\n",
       "</table>\n",
       "</div>"
      ],
      "text/plain": [
       "  dataset  PassengerId  Survived  Pclass  \\\n",
       "0   train            1       0.0       3   \n",
       "1   train            2       1.0       1   \n",
       "2   train            3       1.0       3   \n",
       "3   train            4       1.0       1   \n",
       "4   train            5       0.0       3   \n",
       "\n",
       "                                                Name     Sex   Age  SibSp  \\\n",
       "0                            Braund, Mr. Owen Harris    male  22.0      1   \n",
       "1  Cumings, Mrs. John Bradley (Florence Briggs Th...  female  38.0      1   \n",
       "2                             Heikkinen, Miss. Laina  female  26.0      0   \n",
       "3       Futrelle, Mrs. Jacques Heath (Lily May Peel)  female  35.0      1   \n",
       "4                           Allen, Mr. William Henry    male  35.0      0   \n",
       "\n",
       "   Parch            Ticket     Fare Cabin Embarked  \n",
       "0      0         A/5 21171   7.2500   NaN        S  \n",
       "1      0          PC 17599  71.2833   C85        C  \n",
       "2      0  STON/O2. 3101282   7.9250   NaN        S  \n",
       "3      0            113803  53.1000  C123        S  \n",
       "4      0            373450   8.0500   NaN        S  "
      ]
     },
     "execution_count": 90,
     "metadata": {},
     "output_type": "execute_result"
    }
   ],
   "source": [
    "df_all = pd.concat([df, dfX_test], keys=['train', 'test'], names=['dataset'], axis=0).droplevel(1).reset_index()\n",
    "df_all.head()"
   ]
  },
  {
   "cell_type": "markdown",
   "metadata": {},
   "source": [
    "#### Let's first compare `Age`, `Fare`"
   ]
  },
  {
   "cell_type": "code",
   "execution_count": 91,
   "metadata": {
    "ExecuteTime": {
     "end_time": "2020-05-14T12:27:29.295177Z",
     "start_time": "2020-05-14T12:27:29.292160Z"
    }
   },
   "outputs": [],
   "source": [
    "import matplotlib.pyplot as plt\n",
    "import seaborn as sns"
   ]
  },
  {
   "cell_type": "code",
   "execution_count": 92,
   "metadata": {
    "ExecuteTime": {
     "end_time": "2020-05-14T12:27:29.789978Z",
     "start_time": "2020-05-14T12:27:29.474116Z"
    }
   },
   "outputs": [
    {
     "data": {
      "image/png": "[encoded data removed]",
      "text/plain": [
       "<Figure size 864x288 with 2 Axes>"
      ]
     },
     "metadata": {
      "needs_background": "light"
     },
     "output_type": "display_data"
    }
   ],
   "source": [
    "fig, axn = plt.subplots(1, 2, figsize=(12, 4))\n",
    "\n",
    "for ax, clmn in zip(axn, ['Age', 'Fare']):\n",
    "    sns.boxplot(x='dataset', y=clmn, data=df_all, ax=ax);\n",
    "    ax.set_title(clmn, fontdict={'weight': 'bold', 'size': 20})\n",
    "    \n",
    "fig.suptitle('Comparing train and test datasets')\n",
    "fig.subplots_adjust(top=0.8)"
   ]
  },
  {
   "cell_type": "markdown",
   "metadata": {},
   "source": [
    "Both of the distributions look pretty similiar"
   ]
  },
  {
   "cell_type": "code",
   "execution_count": 93,
   "metadata": {
    "ExecuteTime": {
     "end_time": "2020-05-14T12:27:29.885283Z",
     "start_time": "2020-05-14T12:27:29.874503Z"
    }
   },
   "outputs": [],
   "source": [
    "def boxplot_compare(df1, df2, clmns: list, nrow, ncol, keys=None, figsize=None, **kwargs):\n",
    "    \n",
    "    fig, axn = plt.subplots(nrow, ncol, figsize=figsize)\n",
    "    \n",
    "    if len(clmns) == 1:\n",
    "        axn = [axn]\n",
    "        \n",
    "    if keys is None:\n",
    "        keys = ['df1', 'df2']\n",
    "    \n",
    "        \n",
    "    df_all = pd.concat([df1[clmns], df2[clmns]], keys=keys, \n",
    "                       names=['dataset'], axis=0).droplevel(1).reset_index()\n",
    "    \n",
    "\n",
    "    for ax, clmn in zip(axn, clmns):\n",
    "        sns.boxplot(x='dataset', y=clmn, data=df_all, ax=ax, **kwargs);\n",
    "        ax.set_title(clmn, fontdict={'weight': 'bold', 'size': 20})\n",
    "        \n",
    "        \n",
    "    title = 'Comparing {} and {} datasets'.format(*keys)\n",
    "    fig.suptitle(title)\n",
    "    fig.subplots_adjust(top=0.8)\n",
    "    \n",
    "    return fig, axn"
   ]
  },
  {
   "cell_type": "code",
   "execution_count": 94,
   "metadata": {
    "ExecuteTime": {
     "end_time": "2020-05-14T12:27:30.306657Z",
     "start_time": "2020-05-14T12:27:30.086727Z"
    }
   },
   "outputs": [
    {
     "data": {
      "image/png": "[encoded data removed]",
      "text/plain": [
       "<Figure size 864x288 with 1 Axes>"
      ]
     },
     "metadata": {
      "needs_background": "light"
     },
     "output_type": "display_data"
    }
   ],
   "source": [
    "boxplot_compare(df, dfX_test, ['Age'], 1, 1, keys=['train', 'test'], figsize=(12, 4));"
   ]
  },
  {
   "cell_type": "code",
   "execution_count": 95,
   "metadata": {
    "ExecuteTime": {
     "end_time": "2020-05-14T12:27:30.538229Z",
     "start_time": "2020-05-14T12:27:30.308449Z"
    }
   },
   "outputs": [
    {
     "data": {
      "text/plain": [
       "<matplotlib.axes._subplots.AxesSubplot at 0x7f0d79cc1130>"
      ]
     },
     "execution_count": 95,
     "metadata": {},
     "output_type": "execute_result"
    },
    {
     "data": {
      "image/png": "[encoded data removed]",
      "text/plain": [
       "<Figure size 432x288 with 1 Axes>"
      ]
     },
     "metadata": {
      "needs_background": "light"
     },
     "output_type": "display_data"
    }
   ],
   "source": [
    "(df_all\n",
    " .groupby('dataset')['Sex']\n",
    " .value_counts(normalize=True)\n",
    " .rename('proportion')\n",
    " .reset_index()\n",
    " .pipe((sns.barplot, 'data'), x='dataset', y='proportion', hue='Sex'))"
   ]
  },
  {
   "cell_type": "code",
   "execution_count": 96,
   "metadata": {
    "ExecuteTime": {
     "end_time": "2020-05-14T12:27:30.555708Z",
     "start_time": "2020-05-14T12:27:30.540346Z"
    }
   },
   "outputs": [],
   "source": [
    "def barplot_compare(df1, df2, clmns: list, nrow, ncol, keys=None, figsize=None, **kwargs):\n",
    "    fig, axn = plt.subplots(nrow, ncol, figsize=figsize)\n",
    "    \n",
    "    if len(clmns) == 1:\n",
    "        axn = [axn]\n",
    "        \n",
    "    if keys is None:\n",
    "        keys = ['df1', 'df2']\n",
    "    \n",
    "        \n",
    "    df_all = pd.concat([df1[clmns], df2[clmns]], keys=keys, \n",
    "                       names=['dataset'], axis=0).droplevel(1).reset_index()\n",
    "    \n",
    "\n",
    "    for ax, clmn in zip(axn, clmns):\n",
    "        (df_all\n",
    "         .groupby('dataset')[clmn]\n",
    "         .value_counts(normalize=True)\n",
    "         .rename('proportion')\n",
    "         .reset_index()\n",
    "         .pipe((sns.barplot, 'data'), x='dataset', y='proportion', hue=clmn, ax=ax))\n",
    "        \n",
    "        ax.set_title(clmn, fontdict={'weight': 'bold', 'size': 20})\n",
    "        \n",
    "        \n",
    "    title = 'Comparing {} and {} datasets'.format(*keys)\n",
    "    fig.suptitle(title)\n",
    "    fig.subplots_adjust(top=0.8)\n",
    "    \n",
    "    return fig, axn\n",
    "    "
   ]
  },
  {
   "cell_type": "code",
   "execution_count": 97,
   "metadata": {
    "ExecuteTime": {
     "end_time": "2020-05-14T12:27:31.423462Z",
     "start_time": "2020-05-14T12:27:30.810495Z"
    }
   },
   "outputs": [
    {
     "data": {
      "image/png": "[encoded data removed]",
      "text/plain": [
       "<Figure size 1152x288 with 3 Axes>"
      ]
     },
     "metadata": {
      "needs_background": "light"
     },
     "output_type": "display_data"
    }
   ],
   "source": [
    "barplot_compare(df, dfX_test, ['Sex', 'Parch', 'Embarked'], 1, 3, keys=['train', 'test'], figsize=(16, 4));"
   ]
  },
  {
   "cell_type": "markdown",
   "metadata": {},
   "source": [
    "Here also the distributions look very similiar. So I think I can go ahead with `StratifiedKFold`"
   ]
  },
  {
   "cell_type": "markdown",
   "metadata": {},
   "source": [
    "## Create a `ComparisionPlotter` class"
   ]
  },
  {
   "cell_type": "code",
   "execution_count": 98,
   "metadata": {
    "ExecuteTime": {
     "end_time": "2020-05-14T12:27:31.502570Z",
     "start_time": "2020-05-14T12:27:31.499608Z"
    }
   },
   "outputs": [],
   "source": [
    "class ComparisionPlotter:\n",
    "    \n",
    "    # store concatenated df and reuse it to make plots\n",
    "    # but if the df is too large give the option of not concatenating\n",
    "    pass\n",
    "    "
   ]
  },
  {
   "cell_type": "markdown",
   "metadata": {},
   "source": [
    "## Perfrom `GridSearchCV`"
   ]
  },
  {
   "cell_type": "code",
   "execution_count": 99,
   "metadata": {
    "ExecuteTime": {
     "end_time": "2020-05-14T12:27:31.885849Z",
     "start_time": "2020-05-14T12:27:31.882314Z"
    }
   },
   "outputs": [],
   "source": [
    "from sklearn.model_selection import GridSearchCV"
   ]
  },
  {
   "cell_type": "code",
   "execution_count": 100,
   "metadata": {
    "ExecuteTime": {
     "end_time": "2020-05-14T12:27:32.275956Z",
     "start_time": "2020-05-14T12:27:32.133454Z"
    }
   },
   "outputs": [
    {
     "data": {
      "text/plain": [
       "0.8087919761315305"
      ]
     },
     "execution_count": 100,
     "metadata": {},
     "output_type": "execute_result"
    }
   ],
   "source": [
    "skf = StratifiedKFold(n_splits=5)\n",
    "rskf = RepeatedStratifiedKFold(n_splits=5, random_state=1)\n",
    "cross_val_score(pipe, dfX_pre, dfy_pre, cv=skf).mean()"
   ]
  },
  {
   "cell_type": "code",
   "execution_count": 101,
   "metadata": {
    "ExecuteTime": {
     "end_time": "2020-05-14T12:27:32.390525Z",
     "start_time": "2020-05-14T12:27:32.379461Z"
    }
   },
   "outputs": [
    {
     "name": "stdout",
     "output_type": "stream",
     "text": [
      "['memory',\n",
      " 'steps',\n",
      " 'verbose',\n",
      " 'preprocess',\n",
      " 'ml',\n",
      " 'preprocess__memory',\n",
      " 'preprocess__steps',\n",
      " 'preprocess__verbose',\n",
      " 'preprocess__clmn_trnsfrm',\n",
      " 'preprocess__scale',\n",
      " 'preprocess__clmn_trnsfrm__n_jobs',\n",
      " 'preprocess__clmn_trnsfrm__remainder',\n",
      " 'preprocess__clmn_trnsfrm__sparse_threshold',\n",
      " 'preprocess__clmn_trnsfrm__transformer_weights',\n",
      " 'preprocess__clmn_trnsfrm__transformers',\n",
      " 'preprocess__clmn_trnsfrm__verbose',\n",
      " 'preprocess__clmn_trnsfrm__clmn_drp',\n",
      " 'preprocess__clmn_trnsfrm__enc',\n",
      " 'preprocess__clmn_trnsfrm__imp',\n",
      " 'preprocess__clmn_trnsfrm__enc__categories',\n",
      " 'preprocess__clmn_trnsfrm__enc__drop',\n",
      " 'preprocess__clmn_trnsfrm__enc__dtype',\n",
      " 'preprocess__clmn_trnsfrm__enc__handle_unknown',\n",
      " 'preprocess__clmn_trnsfrm__enc__sparse',\n",
      " 'preprocess__clmn_trnsfrm__imp__add_indicator',\n",
      " 'preprocess__clmn_trnsfrm__imp__copy',\n",
      " 'preprocess__clmn_trnsfrm__imp__fill_value',\n",
      " 'preprocess__clmn_trnsfrm__imp__missing_values',\n",
      " 'preprocess__clmn_trnsfrm__imp__strategy',\n",
      " 'preprocess__clmn_trnsfrm__imp__verbose',\n",
      " 'preprocess__scale__copy',\n",
      " 'preprocess__scale__with_mean',\n",
      " 'preprocess__scale__with_std',\n",
      " 'ml__algorithm',\n",
      " 'ml__leaf_size',\n",
      " 'ml__metric',\n",
      " 'ml__metric_params',\n",
      " 'ml__n_jobs',\n",
      " 'ml__n_neighbors',\n",
      " 'ml__p',\n",
      " 'ml__weights']\n"
     ]
    }
   ],
   "source": [
    "print_params(pipe)"
   ]
  },
  {
   "cell_type": "code",
   "execution_count": 102,
   "metadata": {
    "ExecuteTime": {
     "end_time": "2020-05-14T12:27:32.601187Z",
     "start_time": "2020-05-14T12:27:32.596092Z"
    }
   },
   "outputs": [],
   "source": [
    "param_grid = {'ml__n_neighbors': range(1, 11, 2),\n",
    "              'ml__p': [1, 2, 3, 4],\n",
    "              'preprocess__clmn_trnsfrm__imp__strategy': ['median', 'mean']}"
   ]
  },
  {
   "cell_type": "code",
   "execution_count": 103,
   "metadata": {
    "ExecuteTime": {
     "end_time": "2020-05-14T12:27:38.669385Z",
     "start_time": "2020-05-14T12:27:32.796688Z"
    }
   },
   "outputs": [],
   "source": [
    "grid = GridSearchCV(pipe, param_grid, cv=skf)\n",
    "grid.fit(dfX_pre, dfy_pre);"
   ]
  },
  {
   "cell_type": "code",
   "execution_count": 104,
   "metadata": {
    "ExecuteTime": {
     "end_time": "2020-05-14T12:27:38.675952Z",
     "start_time": "2020-05-14T12:27:38.672093Z"
    }
   },
   "outputs": [
    {
     "name": "stdout",
     "output_type": "stream",
     "text": [
      "{'ml__n_neighbors': 9, 'ml__p': 1, 'preprocess__clmn_trnsfrm__imp__strategy': 'mean'}\n",
      "0.8166634926680633\n"
     ]
    }
   ],
   "source": [
    "print(grid.best_params_)\n",
    "print(grid.best_score_)"
   ]
  },
  {
   "cell_type": "markdown",
   "metadata": {},
   "source": [
    "## Try various models with the default hyperparameters"
   ]
  },
  {
   "cell_type": "code",
   "execution_count": 112,
   "metadata": {
    "ExecuteTime": {
     "end_time": "2020-05-14T12:46:13.321872Z",
     "start_time": "2020-05-14T12:46:13.294688Z"
    }
   },
   "outputs": [],
   "source": [
    "from src.pipeline import dp1\n",
    "pipe = dp1.get_pipeline()\n",
    "\n",
    "models = [\n",
    "    RidgeClassifier(),\n",
    "    LogisticRegression(solver=\"liblinear\"),  # liblinear is better for small datasets\n",
    "    KNeighborsClassifier(),\n",
    "    DecisionTreeClassifier(random_state=1),\n",
    "    SVC(),\n",
    "    RandomForestClassifier(random_state=1),\n",
    "    BaggingClassifier(random_state=1)\n",
    "]"
   ]
  },
  {
   "cell_type": "code",
   "execution_count": 113,
   "metadata": {
    "ExecuteTime": {
     "end_time": "2020-05-14T12:46:17.818289Z",
     "start_time": "2020-05-14T12:46:13.768570Z"
    }
   },
   "outputs": [
    {
     "name": "stdout",
     "output_type": "stream",
     "text": [
      "{'ml': SVC(C=100, break_ties=False, cache_size=200, class_weight=None, coef0=0.0,\n",
      "    decision_function_shape='ovr', degree=3, gamma=0.01, kernel='rbf',\n",
      "    max_iter=-1, probability=False, random_state=None, shrinking=True,\n",
      "    tol=0.001, verbose=False), 'ml__C': 100, 'ml__gamma': 0.01}\n",
      "0.8279438837046911\n"
     ]
    }
   ],
   "source": [
    "grid = GridSearchCV(pipe, param_grid, cv=skf)\n",
    "grid.fit(dfX_pre, dfy_pre);\n",
    "\n",
    "print(grid.best_params_)\n",
    "print(grid.best_score_)"
   ]
  },
  {
   "cell_type": "markdown",
   "metadata": {},
   "source": [
    "So I can get \\~82% accuracy by no hyperparameter tuning in the pipeline by using `SVC`. Nice! :D <br/>\n",
    "\n",
    "<font color='red'>DOUBT</font>: Do I need to separately see the OOB accuracy for `RandomForestClassifier`?"
   ]
  },
  {
   "cell_type": "code",
   "execution_count": 221,
   "metadata": {
    "ExecuteTime": {
     "end_time": "2020-05-10T05:02:58.873273Z",
     "start_time": "2020-05-10T05:02:58.867722Z"
    }
   },
   "outputs": [],
   "source": [
    "import seaborn as sns"
   ]
  },
  {
   "cell_type": "code",
   "execution_count": 222,
   "metadata": {
    "ExecuteTime": {
     "end_time": "2020-05-10T05:02:59.432385Z",
     "start_time": "2020-05-10T05:02:59.394662Z"
    }
   },
   "outputs": [
    {
     "data": {
      "text/html": [
       "<div>\n",
       "<style scoped>\n",
       "    .dataframe tbody tr th:only-of-type {\n",
       "        vertical-align: middle;\n",
       "    }\n",
       "\n",
       "    .dataframe tbody tr th {\n",
       "        vertical-align: top;\n",
       "    }\n",
       "\n",
       "    .dataframe thead th {\n",
       "        text-align: right;\n",
       "    }\n",
       "</style>\n",
       "<table border=\"1\" class=\"dataframe\">\n",
       "  <thead>\n",
       "    <tr style=\"text-align: right;\">\n",
       "      <th></th>\n",
       "      <th>mean_fit_time</th>\n",
       "      <th>std_fit_time</th>\n",
       "      <th>mean_score_time</th>\n",
       "      <th>std_score_time</th>\n",
       "      <th>param_clf</th>\n",
       "      <th>params</th>\n",
       "      <th>split0_test_score</th>\n",
       "      <th>split1_test_score</th>\n",
       "      <th>split2_test_score</th>\n",
       "      <th>split3_test_score</th>\n",
       "      <th>split4_test_score</th>\n",
       "      <th>mean_test_score</th>\n",
       "      <th>std_test_score</th>\n",
       "      <th>rank_test_score</th>\n",
       "    </tr>\n",
       "  </thead>\n",
       "  <tbody>\n",
       "    <tr>\n",
       "      <th>5</th>\n",
       "      <td>0.020877</td>\n",
       "      <td>0.000633</td>\n",
       "      <td>0.005900</td>\n",
       "      <td>0.000287</td>\n",
       "      <td>SVC(C=1.0, break_ties=False, cache_size=200, c...</td>\n",
       "      <td>{'clf': SVC(C=1.0, break_ties=False, cache_siz...</td>\n",
       "      <td>0.859551</td>\n",
       "      <td>0.848315</td>\n",
       "      <td>0.786517</td>\n",
       "      <td>0.820225</td>\n",
       "      <td>0.853107</td>\n",
       "      <td>0.833543</td>\n",
       "      <td>0.027078</td>\n",
       "      <td>1</td>\n",
       "    </tr>\n",
       "    <tr>\n",
       "      <th>2</th>\n",
       "      <td>0.011957</td>\n",
       "      <td>0.000992</td>\n",
       "      <td>0.011447</td>\n",
       "      <td>0.001087</td>\n",
       "      <td>KNeighborsClassifier(algorithm='auto', leaf_si...</td>\n",
       "      <td>{'clf': KNeighborsClassifier(algorithm='auto',...</td>\n",
       "      <td>0.831461</td>\n",
       "      <td>0.825843</td>\n",
       "      <td>0.769663</td>\n",
       "      <td>0.803371</td>\n",
       "      <td>0.813559</td>\n",
       "      <td>0.808779</td>\n",
       "      <td>0.021853</td>\n",
       "      <td>2</td>\n",
       "    </tr>\n",
       "    <tr>\n",
       "      <th>6</th>\n",
       "      <td>0.139687</td>\n",
       "      <td>0.002569</td>\n",
       "      <td>0.013279</td>\n",
       "      <td>0.000538</td>\n",
       "      <td>RandomForestClassifier(bootstrap=True, ccp_alp...</td>\n",
       "      <td>{'clf': RandomForestClassifier(bootstrap=True,...</td>\n",
       "      <td>0.786517</td>\n",
       "      <td>0.865169</td>\n",
       "      <td>0.764045</td>\n",
       "      <td>0.780899</td>\n",
       "      <td>0.819209</td>\n",
       "      <td>0.803168</td>\n",
       "      <td>0.035792</td>\n",
       "      <td>3</td>\n",
       "    </tr>\n",
       "    <tr>\n",
       "      <th>7</th>\n",
       "      <td>0.029854</td>\n",
       "      <td>0.004641</td>\n",
       "      <td>0.006119</td>\n",
       "      <td>0.000662</td>\n",
       "      <td>BaggingClassifier(base_estimator=None, bootstr...</td>\n",
       "      <td>{'clf': BaggingClassifier(base_estimator=None,...</td>\n",
       "      <td>0.775281</td>\n",
       "      <td>0.848315</td>\n",
       "      <td>0.764045</td>\n",
       "      <td>0.780899</td>\n",
       "      <td>0.836158</td>\n",
       "      <td>0.800940</td>\n",
       "      <td>0.034368</td>\n",
       "      <td>4</td>\n",
       "    </tr>\n",
       "    <tr>\n",
       "      <th>1</th>\n",
       "      <td>0.012855</td>\n",
       "      <td>0.000117</td>\n",
       "      <td>0.005102</td>\n",
       "      <td>0.000109</td>\n",
       "      <td>LogisticRegression(C=1.0, class_weight=None, d...</td>\n",
       "      <td>{'clf': LogisticRegression(C=1.0, class_weight...</td>\n",
       "      <td>0.820225</td>\n",
       "      <td>0.786517</td>\n",
       "      <td>0.758427</td>\n",
       "      <td>0.814607</td>\n",
       "      <td>0.813559</td>\n",
       "      <td>0.798667</td>\n",
       "      <td>0.023270</td>\n",
       "      <td>5</td>\n",
       "    </tr>\n",
       "  </tbody>\n",
       "</table>\n",
       "</div>"
      ],
      "text/plain": [
       "   mean_fit_time  std_fit_time  mean_score_time  std_score_time  \\\n",
       "5       0.020877      0.000633         0.005900        0.000287   \n",
       "2       0.011957      0.000992         0.011447        0.001087   \n",
       "6       0.139687      0.002569         0.013279        0.000538   \n",
       "7       0.029854      0.004641         0.006119        0.000662   \n",
       "1       0.012855      0.000117         0.005102        0.000109   \n",
       "\n",
       "                                           param_clf  \\\n",
       "5  SVC(C=1.0, break_ties=False, cache_size=200, c...   \n",
       "2  KNeighborsClassifier(algorithm='auto', leaf_si...   \n",
       "6  RandomForestClassifier(bootstrap=True, ccp_alp...   \n",
       "7  BaggingClassifier(base_estimator=None, bootstr...   \n",
       "1  LogisticRegression(C=1.0, class_weight=None, d...   \n",
       "\n",
       "                                              params  split0_test_score  \\\n",
       "5  {'clf': SVC(C=1.0, break_ties=False, cache_siz...           0.859551   \n",
       "2  {'clf': KNeighborsClassifier(algorithm='auto',...           0.831461   \n",
       "6  {'clf': RandomForestClassifier(bootstrap=True,...           0.786517   \n",
       "7  {'clf': BaggingClassifier(base_estimator=None,...           0.775281   \n",
       "1  {'clf': LogisticRegression(C=1.0, class_weight...           0.820225   \n",
       "\n",
       "   split1_test_score  split2_test_score  split3_test_score  split4_test_score  \\\n",
       "5           0.848315           0.786517           0.820225           0.853107   \n",
       "2           0.825843           0.769663           0.803371           0.813559   \n",
       "6           0.865169           0.764045           0.780899           0.819209   \n",
       "7           0.848315           0.764045           0.780899           0.836158   \n",
       "1           0.786517           0.758427           0.814607           0.813559   \n",
       "\n",
       "   mean_test_score  std_test_score  rank_test_score  \n",
       "5         0.833543        0.027078                1  \n",
       "2         0.808779        0.021853                2  \n",
       "6         0.803168        0.035792                3  \n",
       "7         0.800940        0.034368                4  \n",
       "1         0.798667        0.023270                5  "
      ]
     },
     "execution_count": 222,
     "metadata": {},
     "output_type": "execute_result"
    }
   ],
   "source": [
    "res = pd.DataFrame(grid.cv_results_).sort_values('rank_test_score')\n",
    "res.head()"
   ]
  },
  {
   "cell_type": "code",
   "execution_count": 223,
   "metadata": {
    "ExecuteTime": {
     "end_time": "2020-05-10T05:02:59.855783Z",
     "start_time": "2020-05-10T05:02:59.850966Z"
    }
   },
   "outputs": [],
   "source": [
    "from src.plotting import plot_grid_results"
   ]
  },
  {
   "cell_type": "code",
   "execution_count": 224,
   "metadata": {
    "ExecuteTime": {
     "end_time": "2020-05-10T05:03:00.602126Z",
     "start_time": "2020-05-10T05:03:00.425610Z"
    }
   },
   "outputs": [
    {
     "data": {
      "image/png": "[encoded data removed]",
      "text/plain": [
       "<Figure size 864x576 with 1 Axes>"
      ]
     },
     "metadata": {
      "needs_background": "light"
     },
     "output_type": "display_data"
    }
   ],
   "source": [
    "plot_grid_results(grid, 'ml', 'score');"
   ]
  },
  {
   "cell_type": "code",
   "execution_count": 225,
   "metadata": {
    "ExecuteTime": {
     "end_time": "2020-05-10T05:03:04.512822Z",
     "start_time": "2020-05-10T05:03:04.349376Z"
    }
   },
   "outputs": [
    {
     "data": {
      "image/png": "[encoded data removed]",
      "text/plain": [
       "<Figure size 864x576 with 1 Axes>"
      ]
     },
     "metadata": {
      "needs_background": "light"
     },
     "output_type": "display_data"
    }
   ],
   "source": [
    "plot_grid_results(grid, 'ml', 'time');"
   ]
  },
  {
   "cell_type": "markdown",
   "metadata": {},
   "source": [
    "Here is how I think performing the initial no tuning pipeline with different ML models could help:\n",
    "\n",
    "1. Examine top n models with the best score and the best time\n",
    "2. Discard absolute worst ML models"
   ]
  }
 ],
 "metadata": {
  "kernelspec": {
   "display_name": "Python [conda env:titansurv] *",
   "language": "python",
   "name": "conda-env-titansurv-py"
  },
  "language_info": {
   "codemirror_mode": {
    "name": "ipython",
    "version": 3
   },
   "file_extension": ".py",
   "mimetype": "text/x-python",
   "name": "python",
   "nbconvert_exporter": "python",
   "pygments_lexer": "ipython3",
   "version": "3.8.2"
  },
  "toc": {
   "base_numbering": 1,
   "nav_menu": {},
   "number_sections": true,
   "sideBar": true,
   "skip_h1_title": false,
   "title_cell": "Table of Contents",
   "title_sidebar": "Contents",
   "toc_cell": false,
   "toc_position": {},
   "toc_section_display": true,
   "toc_window_display": false
  }
 },
 "nbformat": 4,
 "nbformat_minor": 2
}
