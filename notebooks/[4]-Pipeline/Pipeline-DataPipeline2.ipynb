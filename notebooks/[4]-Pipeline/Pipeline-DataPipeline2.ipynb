{
 "cells": [
  {
   "cell_type": "markdown",
   "metadata": {},
   "source": [
    "# `DataPipeline2`"
   ]
  },
  {
   "cell_type": "markdown",
   "metadata": {},
   "source": [
    "1. `Embarked`: Dropped NA rows and applied OneHotEncoding\n",
    "2. `Age`: Mean imputation with SimpleImputer \n",
    "3. `Sex`: OneHotEncoding\n",
    "4. `Name`: Categorised into ['Mr', 'Mrs', 'Miss', 'Master', 'Special']<br/> \n",
    "    5.1 Rename [Mlle, Ms] -> Miss      \n",
    "    5.2 Rename [Mme] -> Mrs     \n",
    "    5.3 Put the Rest -> other     \n",
    "    Then performed OneHotEncoding\n",
    "5. `Ticket`: categorized into [1: numeric, 0: else] <br/>\n",
    "    6.1 Remove special characters but not space <br/>\n",
    "    6.2 Replace numeric strings by 'numeric' <br/>\n",
    "    6.3 Split on space and keep the first item <br/>\n",
    " Then applied binarizer for [1: numeric, 0: else]\n",
    "6. `SibSp`: binned into [0, 1, >1] using SibSpBinner\n",
    "7. `Parch`: binned into [0, 1, >1] using ParchBinner\n",
    "8. Scaling all features at the last\n",
    "\n",
    "**MLmodel:** `SVC`"
   ]
  },
  {
   "cell_type": "code",
   "execution_count": 1,
   "metadata": {
    "ExecuteTime": {
     "end_time": "2020-05-14T19:05:01.281140Z",
     "start_time": "2020-05-14T19:05:00.801976Z"
    }
   },
   "outputs": [],
   "source": [
    "import pandas as pd\n",
    "import numpy as np\n",
    "from src.utils import load_data\n",
    "dfX, dfy = load_data(return_X_y=True)"
   ]
  },
  {
   "cell_type": "code",
   "execution_count": 3,
   "metadata": {
    "ExecuteTime": {
     "end_time": "2020-05-14T19:05:19.119672Z",
     "start_time": "2020-05-14T19:05:19.081126Z"
    }
   },
   "outputs": [],
   "source": [
    "from sklearn.pipeline import Pipeline\n",
    "from src.preprocessing import NaNDropper"
   ]
  },
  {
   "cell_type": "markdown",
   "metadata": {},
   "source": [
    "## `prepare`"
   ]
  },
  {
   "cell_type": "code",
   "execution_count": 4,
   "metadata": {
    "ExecuteTime": {
     "end_time": "2020-05-14T19:05:20.012444Z",
     "start_time": "2020-05-14T19:05:19.989178Z"
    }
   },
   "outputs": [],
   "source": [
    "prepare_data = Pipeline([\n",
    "    ('nan_drpr', NaNDropper(['Embarked']))\n",
    "])\n",
    "\n",
    "dfX_pre, dfy_pre = prepare_data.fit_transform(dfX, dfy)"
   ]
  },
  {
   "cell_type": "markdown",
   "metadata": {},
   "source": [
    "## `preprocess`"
   ]
  },
  {
   "cell_type": "code",
   "execution_count": 5,
   "metadata": {
    "ExecuteTime": {
     "end_time": "2020-05-14T19:05:21.707471Z",
     "start_time": "2020-05-14T19:05:21.703038Z"
    }
   },
   "outputs": [],
   "source": [
    "from sklearn.impute import SimpleImputer\n",
    "from sklearn.compose import ColumnTransformer, make_column_transformer\n",
    "from sklearn.preprocessing import OneHotEncoder, StandardScaler, MinMaxScaler\n",
    "from sklearn_pandas import DataFrameMapper"
   ]
  },
  {
   "cell_type": "code",
   "execution_count": 6,
   "metadata": {
    "ExecuteTime": {
     "end_time": "2020-05-14T19:05:22.825509Z",
     "start_time": "2020-05-14T19:05:22.804613Z"
    }
   },
   "outputs": [],
   "source": [
    "from src.featurization import NameTitleExtractor, CabinTypeExtractor, TicketTypeExtractor\n",
    "from src.featurization import SibSpBinner, ParchBinner "
   ]
  },
  {
   "cell_type": "code",
   "execution_count": 26,
   "metadata": {
    "ExecuteTime": {
     "end_time": "2020-05-14T19:07:28.148474Z",
     "start_time": "2020-05-14T19:07:28.126671Z"
    }
   },
   "outputs": [],
   "source": [
    "\n",
    "preprocess_noscale = ColumnTransformer([\n",
    "    ('enc', OneHotEncoder(drop='first'), ['Sex', 'Embarked']),\n",
    "    ('imp', SimpleImputer(), ['Age']),\n",
    "    ('pre_Name', NameTitleExtractor(), 'Name'),\n",
    "    ('pre_Cabin', CabinTypeExtractor(), 'Cabin'),\n",
    "    ('pre_Ticket', TicketTypeExtractor(), 'Ticket'),\n",
    "    ('Pre_SibSp', SibSpBinner(), ['SibSp']),\n",
    "    ('Pre_Parch', ParchBinner(), ['Parch'])\n",
    "], \n",
    "    'passthrough')\n",
    "\n",
    "preprocess_data = Pipeline([\n",
    "    ('clmn_trnsfrm', preprocess_noscale),\n",
    "    ('scale', StandardScaler())\n",
    "])"
   ]
  },
  {
   "cell_type": "code",
   "execution_count": 27,
   "metadata": {
    "ExecuteTime": {
     "end_time": "2020-05-14T19:07:28.327133Z",
     "start_time": "2020-05-14T19:07:28.323639Z"
    }
   },
   "outputs": [],
   "source": [
    "from sklearn.linear_model import LogisticRegression\n",
    "from sklearn.linear_model import RidgeClassifier\n",
    "from sklearn.neighbors import KNeighborsClassifier\n",
    "from sklearn.tree import DecisionTreeClassifier\n",
    "from sklearn.naive_bayes import GaussianNB\n",
    "from sklearn.ensemble import RandomForestClassifier, BaggingClassifier\n",
    "from sklearn.svm import SVC, LinearSVC"
   ]
  },
  {
   "cell_type": "markdown",
   "metadata": {},
   "source": [
    "## `pipeline`"
   ]
  },
  {
   "cell_type": "code",
   "execution_count": 28,
   "metadata": {
    "ExecuteTime": {
     "end_time": "2020-05-14T19:07:28.841991Z",
     "start_time": "2020-05-14T19:07:28.728779Z"
    }
   },
   "outputs": [],
   "source": [
    "pipe = Pipeline([\n",
    "    ('preprocess', preprocess_data),\n",
    "    ('ml', SVC())\n",
    "])\n",
    "pipe.fit(dfX_pre, dfy_pre);"
   ]
  },
  {
   "cell_type": "markdown",
   "metadata": {},
   "source": [
    "## training score"
   ]
  },
  {
   "cell_type": "code",
   "execution_count": 29,
   "metadata": {
    "ExecuteTime": {
     "end_time": "2020-05-14T19:07:29.238529Z",
     "start_time": "2020-05-14T19:07:29.131183Z"
    }
   },
   "outputs": [
    {
     "data": {
      "text/plain": [
       "0.8571428571428571"
      ]
     },
     "execution_count": 29,
     "metadata": {},
     "output_type": "execute_result"
    }
   ],
   "source": [
    "pipe.score(dfX_pre, dfy_pre)"
   ]
  },
  {
   "cell_type": "markdown",
   "metadata": {},
   "source": [
    "## Crossvalidation score"
   ]
  },
  {
   "cell_type": "code",
   "execution_count": 30,
   "metadata": {
    "ExecuteTime": {
     "end_time": "2020-05-14T19:07:30.102325Z",
     "start_time": "2020-05-14T19:07:29.729215Z"
    }
   },
   "outputs": [
    {
     "data": {
      "text/plain": [
       "0.8346854567383991"
      ]
     },
     "execution_count": 30,
     "metadata": {},
     "output_type": "execute_result"
    }
   ],
   "source": [
    "from sklearn.model_selection import cross_val_score, StratifiedKFold\n",
    "skf = StratifiedKFold(n_splits=5)\n",
    "cross_val_score(pipe, dfX_pre, dfy_pre).mean()"
   ]
  },
  {
   "cell_type": "markdown",
   "metadata": {},
   "source": [
    "## Try various different ML models"
   ]
  },
  {
   "cell_type": "code",
   "execution_count": 31,
   "metadata": {
    "ExecuteTime": {
     "end_time": "2020-05-14T19:07:30.533166Z",
     "start_time": "2020-05-14T19:07:30.507698Z"
    }
   },
   "outputs": [],
   "source": [
    "from sklearn.model_selection import GridSearchCV\n",
    "from sklearn.linear_model import LogisticRegression, RidgeClassifier\n",
    "from sklearn.neighbors import KNeighborsClassifier\n",
    "from sklearn.tree import DecisionTreeClassifier\n",
    "from sklearn.svm import SVC\n",
    "from sklearn.ensemble import RandomForestClassifier, BaggingClassifier"
   ]
  },
  {
   "cell_type": "code",
   "execution_count": 32,
   "metadata": {
    "ExecuteTime": {
     "end_time": "2020-05-14T19:07:31.068150Z",
     "start_time": "2020-05-14T19:07:31.061532Z"
    }
   },
   "outputs": [],
   "source": [
    "from src.preprocessing import Passthrough"
   ]
  },
  {
   "cell_type": "code",
   "execution_count": 35,
   "metadata": {
    "ExecuteTime": {
     "end_time": "2020-05-14T19:07:47.039756Z",
     "start_time": "2020-05-14T19:07:47.026268Z"
    }
   },
   "outputs": [],
   "source": [
    "models = [\n",
    "    RidgeClassifier(),\n",
    "    LogisticRegression(solver=\"liblinear\"),  # liblinear is better for small datasets\n",
    "    KNeighborsClassifier(),\n",
    "    DecisionTreeClassifier(random_state=1),\n",
    "    SVC(),\n",
    "    RandomForestClassifier(random_state=1),\n",
    "    BaggingClassifier(random_state=1)\n",
    "]\n",
    "\n",
    "param_grid = {'ml': [SVC()], 'preprocess__scale': [StandardScaler(), Passthrough()]}"
   ]
  },
  {
   "cell_type": "code",
   "execution_count": 36,
   "metadata": {
    "ExecuteTime": {
     "end_time": "2020-05-14T19:07:48.115862Z",
     "start_time": "2020-05-14T19:07:47.368599Z"
    }
   },
   "outputs": [],
   "source": [
    "grid_search = GridSearchCV(pipe, param_grid, cv=skf)\n",
    "grid_search.fit(dfX_pre, dfy_pre);"
   ]
  },
  {
   "cell_type": "code",
   "execution_count": 37,
   "metadata": {
    "ExecuteTime": {
     "end_time": "2020-05-14T19:07:49.379878Z",
     "start_time": "2020-05-14T19:07:49.365838Z"
    }
   },
   "outputs": [
    {
     "name": "stdout",
     "output_type": "stream",
     "text": [
      "0.8346854567383991\n",
      "{'ml': SVC(C=1.0, break_ties=False, cache_size=200, class_weight=None, coef0=0.0,\n",
      "    decision_function_shape='ovr', degree=3, gamma='scale', kernel='rbf',\n",
      "    max_iter=-1, probability=False, random_state=None, shrinking=True,\n",
      "    tol=0.001, verbose=False), 'preprocess__scale': StandardScaler(copy=True, with_mean=True, with_std=True)}\n"
     ]
    }
   ],
   "source": [
    "print(grid_search.best_score_)\n",
    "print(grid_search.best_params_)"
   ]
  },
  {
   "cell_type": "code",
   "execution_count": 38,
   "metadata": {
    "ExecuteTime": {
     "end_time": "2020-05-14T19:07:51.132922Z",
     "start_time": "2020-05-14T19:07:51.097227Z"
    }
   },
   "outputs": [
    {
     "data": {
      "text/html": [
       "<div>\n",
       "<style scoped>\n",
       "    .dataframe tbody tr th:only-of-type {\n",
       "        vertical-align: middle;\n",
       "    }\n",
       "\n",
       "    .dataframe tbody tr th {\n",
       "        vertical-align: top;\n",
       "    }\n",
       "\n",
       "    .dataframe thead th {\n",
       "        text-align: right;\n",
       "    }\n",
       "</style>\n",
       "<table border=\"1\" class=\"dataframe\">\n",
       "  <thead>\n",
       "    <tr style=\"text-align: right;\">\n",
       "      <th></th>\n",
       "      <th>mean_fit_time</th>\n",
       "      <th>std_fit_time</th>\n",
       "      <th>mean_score_time</th>\n",
       "      <th>std_score_time</th>\n",
       "      <th>param_ml</th>\n",
       "      <th>param_preprocess__scale</th>\n",
       "      <th>params</th>\n",
       "      <th>split0_test_score</th>\n",
       "      <th>split1_test_score</th>\n",
       "      <th>split2_test_score</th>\n",
       "      <th>split3_test_score</th>\n",
       "      <th>split4_test_score</th>\n",
       "      <th>mean_test_score</th>\n",
       "      <th>std_test_score</th>\n",
       "      <th>rank_test_score</th>\n",
       "    </tr>\n",
       "  </thead>\n",
       "  <tbody>\n",
       "    <tr>\n",
       "      <th>0</th>\n",
       "      <td>0.044517</td>\n",
       "      <td>0.009092</td>\n",
       "      <td>0.018130</td>\n",
       "      <td>0.002114</td>\n",
       "      <td>SVC(C=1.0, break_ties=False, cache_size=200, c...</td>\n",
       "      <td>StandardScaler(copy=True, with_mean=True, with...</td>\n",
       "      <td>{'ml': SVC(C=1.0, break_ties=False, cache_size...</td>\n",
       "      <td>0.848315</td>\n",
       "      <td>0.814607</td>\n",
       "      <td>0.837079</td>\n",
       "      <td>0.803371</td>\n",
       "      <td>0.870056</td>\n",
       "      <td>0.834685</td>\n",
       "      <td>0.023775</td>\n",
       "      <td>1</td>\n",
       "    </tr>\n",
       "    <tr>\n",
       "      <th>1</th>\n",
       "      <td>0.051776</td>\n",
       "      <td>0.019803</td>\n",
       "      <td>0.018315</td>\n",
       "      <td>0.000833</td>\n",
       "      <td>SVC(C=1.0, break_ties=False, cache_size=200, c...</td>\n",
       "      <td>Passthrough()</td>\n",
       "      <td>{'ml': SVC(C=1.0, break_ties=False, cache_size...</td>\n",
       "      <td>0.584270</td>\n",
       "      <td>0.713483</td>\n",
       "      <td>0.685393</td>\n",
       "      <td>0.685393</td>\n",
       "      <td>0.689266</td>\n",
       "      <td>0.671561</td>\n",
       "      <td>0.044885</td>\n",
       "      <td>2</td>\n",
       "    </tr>\n",
       "  </tbody>\n",
       "</table>\n",
       "</div>"
      ],
      "text/plain": [
       "   mean_fit_time  std_fit_time  mean_score_time  std_score_time  \\\n",
       "0       0.044517      0.009092         0.018130        0.002114   \n",
       "1       0.051776      0.019803         0.018315        0.000833   \n",
       "\n",
       "                                            param_ml  \\\n",
       "0  SVC(C=1.0, break_ties=False, cache_size=200, c...   \n",
       "1  SVC(C=1.0, break_ties=False, cache_size=200, c...   \n",
       "\n",
       "                             param_preprocess__scale  \\\n",
       "0  StandardScaler(copy=True, with_mean=True, with...   \n",
       "1                                      Passthrough()   \n",
       "\n",
       "                                              params  split0_test_score  \\\n",
       "0  {'ml': SVC(C=1.0, break_ties=False, cache_size...           0.848315   \n",
       "1  {'ml': SVC(C=1.0, break_ties=False, cache_size...           0.584270   \n",
       "\n",
       "   split1_test_score  split2_test_score  split3_test_score  split4_test_score  \\\n",
       "0           0.814607           0.837079           0.803371           0.870056   \n",
       "1           0.713483           0.685393           0.685393           0.689266   \n",
       "\n",
       "   mean_test_score  std_test_score  rank_test_score  \n",
       "0         0.834685        0.023775                1  \n",
       "1         0.671561        0.044885                2  "
      ]
     },
     "execution_count": 38,
     "metadata": {},
     "output_type": "execute_result"
    }
   ],
   "source": [
    "res = pd.DataFrame(grid_search.cv_results_)\n",
    "res"
   ]
  },
  {
   "cell_type": "code",
   "execution_count": 45,
   "metadata": {
    "ExecuteTime": {
     "end_time": "2020-05-14T19:08:57.182875Z",
     "start_time": "2020-05-14T19:08:57.042238Z"
    }
   },
   "outputs": [
    {
     "data": {
      "text/plain": [
       "[Text(0, 0, 'Scaling'), Text(0, 0, 'No Scaling')]"
      ]
     },
     "execution_count": 45,
     "metadata": {},
     "output_type": "execute_result"
    },
    {
     "data": {
      "image/png": "[encoded data removed]",
      "text/plain": [
       "<Figure size 864x288 with 1 Axes>"
      ]
     },
     "metadata": {
      "needs_background": "light"
     },
     "output_type": "display_data"
    }
   ],
   "source": [
    "import seaborn as sns\n",
    "import matplotlib.pyplot as plt\n",
    "plt.figure(figsize=(12, 4))\n",
    "g = sns.barplot(x='param_preprocess__scale', y='mean_test_score', data=res)\n",
    "g.set_xticklabels(['Scaling', 'No Scaling'])"
   ]
  },
  {
   "cell_type": "code",
   "execution_count": null,
   "metadata": {},
   "outputs": [],
   "source": [
    "param_grid = {'ml': [KNeighborsClassifier()],\n",
    "              'ml__n_neighbors': range(1, 11, 2),\n",
    "              'ml__p': [1, 2, 3, 4],\n",
    "              'preprocess__imp__strategy': ['median', 'mean'],\n",
    "              'preprocess__Pre_SibSp': [Passthrough()]}"
   ]
  }
 ],
 "metadata": {
  "kernelspec": {
   "display_name": "Python [conda env:titansurv] *",
   "language": "python",
   "name": "conda-env-titansurv-py"
  },
  "language_info": {
   "codemirror_mode": {
    "name": "ipython",
    "version": 3
   },
   "file_extension": ".py",
   "mimetype": "text/x-python",
   "name": "python",
   "nbconvert_exporter": "python",
   "pygments_lexer": "ipython3",
   "version": "3.8.2"
  }
 },
 "nbformat": 4,
 "nbformat_minor": 4
}
