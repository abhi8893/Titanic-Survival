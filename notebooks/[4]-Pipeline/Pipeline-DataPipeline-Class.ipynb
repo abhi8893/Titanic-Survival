{
 "cells": [
  {
   "cell_type": "markdown",
   "metadata": {},
   "source": [
    "# `DataPipeline` - Ideas"
   ]
  },
  {
   "cell_type": "markdown",
   "metadata": {},
   "source": [
    "```python \n",
    "\n",
    "DataPipeline(prepare_data, preprocess_data, mlmodel)\n",
    "\n",
    "```"
   ]
  },
  {
   "cell_type": "markdown",
   "metadata": {},
   "source": [
    "1. Container for `prepare_data`, `preprocess_data`, `mlmodel` sklearn estimators\n",
    "2. A `get_pipeline()` method \n",
    "    - which simply returns a sklearn pipeline\n",
    "3. Should I attach the description to the pipeline?\n",
    "4. "
   ]
  },
  {
   "cell_type": "code",
   "execution_count": null,
   "metadata": {},
   "outputs": [],
   "source": [
    "from sklearn.pipeline import Pipeline\n",
    "from sklearn.base import clone\n",
    "from IPython.display import display, Markdown\n",
    "import warnings\n",
    "import pandas as pd\n",
    "import re\n",
    "\n",
    "\n",
    "class DataPipeline(Pipeline):\n",
    "\n",
    "    def __init__(self, prepare_data, preprocess_data, mlmodel):\n",
    "        self.prepare_data = prepare_data\n",
    "        self.preprocess_data = preprocess_data\n",
    "        self.mlmodel = mlmodel\n",
    "        \n",
    "        \n",
    "    def prepare(self)"
   ]
  }
 ],
 "metadata": {
  "kernelspec": {
   "display_name": "Python [conda env:titansurv] *",
   "language": "python",
   "name": "conda-env-titansurv-py"
  },
  "language_info": {
   "codemirror_mode": {
    "name": "ipython",
    "version": 3
   },
   "file_extension": ".py",
   "mimetype": "text/x-python",
   "name": "python",
   "nbconvert_exporter": "python",
   "pygments_lexer": "ipython3",
   "version": "3.8.2"
  }
 },
 "nbformat": 4,
 "nbformat_minor": 4
}
