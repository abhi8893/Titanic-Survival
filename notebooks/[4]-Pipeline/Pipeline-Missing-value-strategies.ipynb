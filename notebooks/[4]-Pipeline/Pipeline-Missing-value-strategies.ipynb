{
 "cells": [
  {
   "cell_type": "markdown",
   "metadata": {},
   "source": [
    "# `Missing Value` - Strategies for creating a pipeline"
   ]
  },
  {
   "cell_type": "markdown",
   "metadata": {},
   "source": [
    "Here are the things that confuse me:\n",
    "\n",
    "1. When productionizing a pipeline, the missing value can occur in a test set in any column\n",
    "2. Should I then have an Imputer for every column in the dataset?\n",
    "3. Or should I consider a minimum standard for a test observation to make a prediction?\n",
    "4. What if I want to make NaN prediction in case the minimum standard is not met?\n",
    "5. As a good rule of thumb for Kaggle competitions, I should implement Imputer for all columns in which\n",
    "NaN values occurs in train, and test datasets\n",
    "6. If I want to make a rule based model, i.e. if missing value occurs in this column, use the other columns to make a prediction, then what is the most efficient way of doing that?\n"
   ]
  },
  {
   "cell_type": "code",
   "execution_count": null,
   "metadata": {},
   "outputs": [],
   "source": [
    "\n"
   ]
  }
 ],
 "metadata": {
  "kernelspec": {
   "display_name": "Python [conda env:titansurv] *",
   "language": "python",
   "name": "conda-env-titansurv-py"
  },
  "language_info": {
   "codemirror_mode": {
    "name": "ipython",
    "version": 3
   },
   "file_extension": ".py",
   "mimetype": "text/x-python",
   "name": "python",
   "nbconvert_exporter": "python",
   "pygments_lexer": "ipython3",
   "version": "3.8.2"
  }
 },
 "nbformat": 4,
 "nbformat_minor": 4
}
