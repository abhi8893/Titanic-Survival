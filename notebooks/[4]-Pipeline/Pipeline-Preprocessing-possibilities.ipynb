{
 "cells": [
  {
   "cell_type": "markdown",
   "metadata": {},
   "source": [
    "# `Preprocessing` pipeline possibilities"
   ]
  },
  {
   "cell_type": "markdown",
   "metadata": {},
   "source": [
    "- [ ] Drop ```NA``` rows in ```Embarked``` \n",
    "- [ ] Not Drop ```NA``` rows in ```Embarked``` , and ```Impute``` them\n",
    "- [ ] Drop ```NA``` rows in ```Age```\n",
    "- [ ] Type of imputation strategy for ```Age``` in ```SimpleImputer```, ```strategy=['mean', 'median']```, ```add_indicator=[True, False]```\n",
    "- [ ] Using other imputers like ```KNNImputer```, ```IterativeImputer```\n",
    "- [ ] Type of normalization strategy for ```Age``` and ```Fare```, i.e. ```StandardScaler```, ```MinMaxScaler```,\n",
    "```MaxAbsScaler```\n",
    "- [ ] Categorisation of ```Name```, ```Ticket``` (by altering ```FunctionTransformer```)\n",
    "- [ ] Binning of ```SibSp```, ```Parch``` (by altering ```FunctionTransformer```) +  ```OneHotEncoder``` or ```LabelEncoder```\n",
    "- [ ] No Binning of ```SibSp```, ```Parch``` +  ```OneHotEncoder``` or ```LabelEncoder``` \n",
    "- [ ] Apply dimensionality reduction techniques like ```PCA```, ```LDA```, ```QDA``` \n",
    "    - maybe only on specific columns?\n",
    "    - After using `PolynomialFeatures`, since some variables may be correlated but not linearly?\n",
    "- [ ] Use Feature selection algorithms \n",
    "- [ ] Use Feature Augmentation by using clustering methods like ```KMeans```\n",
    "- [ ] Supervised binning of `Age`, `Fare` using classification algorithms like `DecisionTree` etc.\n",
    "- [ ] Unsupervised binning of `Age`, `Fare` using classification algorithms like `KBinsDiscretizer` etc.\n",
    "\n",
    "### **Note**\n",
    "\n",
    "- When applying ```OneHotEncoder``` check for parameter ```handle_unknown=['error', 'ignore']```\n",
    "- \n"
   ]
  },
  {
   "cell_type": "code",
   "execution_count": null,
   "metadata": {},
   "outputs": [],
   "source": []
  }
 ],
 "metadata": {
  "kernelspec": {
   "display_name": "Python [conda env:titansurv] *",
   "language": "python",
   "name": "conda-env-titansurv-py"
  },
  "language_info": {
   "codemirror_mode": {
    "name": "ipython",
    "version": 3
   },
   "file_extension": ".py",
   "mimetype": "text/x-python",
   "name": "python",
   "nbconvert_exporter": "python",
   "pygments_lexer": "ipython3",
   "version": "3.8.2"
  }
 },
 "nbformat": 4,
 "nbformat_minor": 4
}
