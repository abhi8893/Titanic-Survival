{
 "cells": [
  {
   "cell_type": "markdown",
   "metadata": {},
   "source": [
    "# `Pipeline`- helper functions"
   ]
  },
  {
   "cell_type": "code",
   "execution_count": 1,
   "metadata": {
    "ExecuteTime": {
     "end_time": "2020-05-14T19:23:57.624981Z",
     "start_time": "2020-05-14T19:23:57.138760Z"
    }
   },
   "outputs": [],
   "source": [
    "from src.pipeline import dp1\n",
    "from src.pipeline import dp2\n",
    "from src.pipeline import DataPipeline\n",
    "\n",
    "import joblib\n",
    "\n",
    "available_pipelines= {\n",
    "    'dp1': dp1,\n",
    "    'dp2': dp2\n",
    "}"
   ]
  },
  {
   "cell_type": "markdown",
   "metadata": {},
   "source": [
    "## `config_local`"
   ]
  },
  {
   "cell_type": "code",
   "execution_count": 3,
   "metadata": {
    "ExecuteTime": {
     "end_time": "2020-05-15T08:50:09.032812Z",
     "start_time": "2020-05-15T08:50:09.011455Z"
    }
   },
   "outputs": [],
   "source": [
    "import yaml\n",
    "import os\n",
    "\n",
    "HOME = os.environ.get('HOME')\n",
    "APP_NAME = 'titansurv'\n",
    "APP_CONFIG_FILE = os.path.join(HOME, f'.{APP_NAME}')\n",
    "\n",
    "def set_config_file_location(config_file):    \n",
    "    with open(APP_CONFIG_FILE, \"w\") as f:\n",
    "        yaml.dump({'CONFIG_FILE': config_file}, f, default_flow_style=False)\n",
    "\n",
    "def get_config():\n",
    "    with open(APP_CONFIG_FILE, \"r\") as f:\n",
    "        config_params = yaml.safe_load(f)\n",
    "\n",
    "    return config_params\n"
   ]
  },
  {
   "cell_type": "markdown",
   "metadata": {},
   "source": [
    "## `create_serialized_model`"
   ]
  },
  {
   "cell_type": "code",
   "execution_count": 4,
   "metadata": {
    "ExecuteTime": {
     "end_time": "2020-05-14T19:24:04.870296Z",
     "start_time": "2020-05-14T19:24:04.867870Z"
    }
   },
   "outputs": [],
   "source": [
    "def create_serialized_model(pipe_name, outfile, **kwargs):\n",
    "    dp = available_pipelines[pipe_name]\n",
    "    print(f'Creating serialized model in {outfile}')\n",
    "    joblib.dump(dp, outfile, **kwargs)"
   ]
  },
  {
   "cell_type": "code",
   "execution_count": 5,
   "metadata": {
    "ExecuteTime": {
     "end_time": "2020-05-14T19:24:05.290457Z",
     "start_time": "2020-05-14T19:24:05.265631Z"
    }
   },
   "outputs": [
    {
     "name": "stdout",
     "output_type": "stream",
     "text": [
      "Creating serialized model in ../../models/dp1.pkl\n"
     ]
    }
   ],
   "source": [
    "create_serialized_model('dp1', '../../models/dp1.pkl')"
   ]
  },
  {
   "cell_type": "markdown",
   "metadata": {},
   "source": [
    "## `get_available_datapipe`"
   ]
  },
  {
   "cell_type": "code",
   "execution_count": 1,
   "metadata": {
    "ExecuteTime": {
     "end_time": "2020-05-15T09:38:57.975699Z",
     "start_time": "2020-05-15T09:38:57.926544Z"
    }
   },
   "outputs": [],
   "source": [
    "from src.config import get_config"
   ]
  },
  {
   "cell_type": "code",
   "execution_count": 5,
   "metadata": {
    "ExecuteTime": {
     "end_time": "2020-05-15T10:06:07.214319Z",
     "start_time": "2020-05-15T10:06:07.200085Z"
    }
   },
   "outputs": [],
   "source": [
    "config_params = get_config()"
   ]
  },
  {
   "cell_type": "code",
   "execution_count": 6,
   "metadata": {
    "ExecuteTime": {
     "end_time": "2020-05-15T10:06:07.897582Z",
     "start_time": "2020-05-15T10:06:07.884675Z"
    }
   },
   "outputs": [
    {
     "data": {
      "text/plain": [
       "{'PROJECT_DIR': '/home/abhi/main/coding/Python-code/mygit/Titanic-Survival',\n",
       " 'RAW_TRAIN_DATA_FILE': '/home/abhi/main/coding/Python-code/mygit/Titanic-Survival/data/raw/train.csv',\n",
       " 'RAW_TEST_DATA_FILE': '/home/abhi/main/coding/Python-code/mygit/Titanic-Survival/data/raw/test.csv',\n",
       " 'MODELS_DIR': '/home/abhi/main/coding/Python-code/mygit/Titanic-Survival/pickled/models',\n",
       " 'SEARCH_DIR': '/home/abhi/main/coding/Python-code/mygit/Titanic-Survival/pickled/search',\n",
       " 'HYPERPARAMS_DIR': '/home/abhi/main/coding/Python-code/mygit/Titanic-Survival/pickled/hyperparams'}"
      ]
     },
     "execution_count": 6,
     "metadata": {},
     "output_type": "execute_result"
    }
   ],
   "source": [
    "config_params"
   ]
  },
  {
   "cell_type": "markdown",
   "metadata": {},
   "source": [
    "## `update_hyperparam_values`"
   ]
  },
  {
   "cell_type": "code",
   "execution_count": 6,
   "metadata": {
    "ExecuteTime": {
     "end_time": "2020-05-14T19:24:06.033132Z",
     "start_time": "2020-05-14T19:24:06.022347Z"
    }
   },
   "outputs": [],
   "source": [
    "import joblib\n",
    "def update_hyperparam_values(update_dict, file, **kwargs):\n",
    "    param_dict = joblib.load(file)\n",
    "    param_dict.update(update_dict)\n",
    "    joblib.dump(param_dict, file)\n"
   ]
  },
  {
   "cell_type": "code",
   "execution_count": 7,
   "metadata": {
    "ExecuteTime": {
     "end_time": "2020-05-14T19:24:06.421253Z",
     "start_time": "2020-05-14T19:24:06.406710Z"
    }
   },
   "outputs": [],
   "source": [
    "from src.utils import load_data"
   ]
  },
  {
   "cell_type": "code",
   "execution_count": 8,
   "metadata": {
    "ExecuteTime": {
     "end_time": "2020-05-14T19:24:07.467064Z",
     "start_time": "2020-05-14T19:24:07.380700Z"
    }
   },
   "outputs": [
    {
     "data": {
      "text/html": [
       "<div>\n",
       "<style scoped>\n",
       "    .dataframe tbody tr th:only-of-type {\n",
       "        vertical-align: middle;\n",
       "    }\n",
       "\n",
       "    .dataframe tbody tr th {\n",
       "        vertical-align: top;\n",
       "    }\n",
       "\n",
       "    .dataframe thead th {\n",
       "        text-align: right;\n",
       "    }\n",
       "</style>\n",
       "<table border=\"1\" class=\"dataframe\">\n",
       "  <thead>\n",
       "    <tr style=\"text-align: right;\">\n",
       "      <th></th>\n",
       "      <th>PassengerId</th>\n",
       "      <th>Survived</th>\n",
       "      <th>Pclass</th>\n",
       "      <th>Name</th>\n",
       "      <th>Sex</th>\n",
       "      <th>Age</th>\n",
       "      <th>SibSp</th>\n",
       "      <th>Parch</th>\n",
       "      <th>Ticket</th>\n",
       "      <th>Fare</th>\n",
       "      <th>Cabin</th>\n",
       "      <th>Embarked</th>\n",
       "    </tr>\n",
       "  </thead>\n",
       "  <tbody>\n",
       "    <tr>\n",
       "      <th>0</th>\n",
       "      <td>1</td>\n",
       "      <td>0</td>\n",
       "      <td>3</td>\n",
       "      <td>Braund, Mr. Owen Harris</td>\n",
       "      <td>male</td>\n",
       "      <td>22.0</td>\n",
       "      <td>1</td>\n",
       "      <td>0</td>\n",
       "      <td>A/5 21171</td>\n",
       "      <td>7.2500</td>\n",
       "      <td>NaN</td>\n",
       "      <td>S</td>\n",
       "    </tr>\n",
       "    <tr>\n",
       "      <th>1</th>\n",
       "      <td>2</td>\n",
       "      <td>1</td>\n",
       "      <td>1</td>\n",
       "      <td>Cumings, Mrs. John Bradley (Florence Briggs Th...</td>\n",
       "      <td>female</td>\n",
       "      <td>38.0</td>\n",
       "      <td>1</td>\n",
       "      <td>0</td>\n",
       "      <td>PC 17599</td>\n",
       "      <td>71.2833</td>\n",
       "      <td>C85</td>\n",
       "      <td>C</td>\n",
       "    </tr>\n",
       "    <tr>\n",
       "      <th>2</th>\n",
       "      <td>3</td>\n",
       "      <td>1</td>\n",
       "      <td>3</td>\n",
       "      <td>Heikkinen, Miss. Laina</td>\n",
       "      <td>female</td>\n",
       "      <td>26.0</td>\n",
       "      <td>0</td>\n",
       "      <td>0</td>\n",
       "      <td>STON/O2. 3101282</td>\n",
       "      <td>7.9250</td>\n",
       "      <td>NaN</td>\n",
       "      <td>S</td>\n",
       "    </tr>\n",
       "    <tr>\n",
       "      <th>3</th>\n",
       "      <td>4</td>\n",
       "      <td>1</td>\n",
       "      <td>1</td>\n",
       "      <td>Futrelle, Mrs. Jacques Heath (Lily May Peel)</td>\n",
       "      <td>female</td>\n",
       "      <td>35.0</td>\n",
       "      <td>1</td>\n",
       "      <td>0</td>\n",
       "      <td>113803</td>\n",
       "      <td>53.1000</td>\n",
       "      <td>C123</td>\n",
       "      <td>S</td>\n",
       "    </tr>\n",
       "    <tr>\n",
       "      <th>4</th>\n",
       "      <td>5</td>\n",
       "      <td>0</td>\n",
       "      <td>3</td>\n",
       "      <td>Allen, Mr. William Henry</td>\n",
       "      <td>male</td>\n",
       "      <td>35.0</td>\n",
       "      <td>0</td>\n",
       "      <td>0</td>\n",
       "      <td>373450</td>\n",
       "      <td>8.0500</td>\n",
       "      <td>NaN</td>\n",
       "      <td>S</td>\n",
       "    </tr>\n",
       "    <tr>\n",
       "      <th>...</th>\n",
       "      <td>...</td>\n",
       "      <td>...</td>\n",
       "      <td>...</td>\n",
       "      <td>...</td>\n",
       "      <td>...</td>\n",
       "      <td>...</td>\n",
       "      <td>...</td>\n",
       "      <td>...</td>\n",
       "      <td>...</td>\n",
       "      <td>...</td>\n",
       "      <td>...</td>\n",
       "      <td>...</td>\n",
       "    </tr>\n",
       "    <tr>\n",
       "      <th>886</th>\n",
       "      <td>887</td>\n",
       "      <td>0</td>\n",
       "      <td>2</td>\n",
       "      <td>Montvila, Rev. Juozas</td>\n",
       "      <td>male</td>\n",
       "      <td>27.0</td>\n",
       "      <td>0</td>\n",
       "      <td>0</td>\n",
       "      <td>211536</td>\n",
       "      <td>13.0000</td>\n",
       "      <td>NaN</td>\n",
       "      <td>S</td>\n",
       "    </tr>\n",
       "    <tr>\n",
       "      <th>887</th>\n",
       "      <td>888</td>\n",
       "      <td>1</td>\n",
       "      <td>1</td>\n",
       "      <td>Graham, Miss. Margaret Edith</td>\n",
       "      <td>female</td>\n",
       "      <td>19.0</td>\n",
       "      <td>0</td>\n",
       "      <td>0</td>\n",
       "      <td>112053</td>\n",
       "      <td>30.0000</td>\n",
       "      <td>B42</td>\n",
       "      <td>S</td>\n",
       "    </tr>\n",
       "    <tr>\n",
       "      <th>888</th>\n",
       "      <td>889</td>\n",
       "      <td>0</td>\n",
       "      <td>3</td>\n",
       "      <td>Johnston, Miss. Catherine Helen \"Carrie\"</td>\n",
       "      <td>female</td>\n",
       "      <td>NaN</td>\n",
       "      <td>1</td>\n",
       "      <td>2</td>\n",
       "      <td>W./C. 6607</td>\n",
       "      <td>23.4500</td>\n",
       "      <td>NaN</td>\n",
       "      <td>S</td>\n",
       "    </tr>\n",
       "    <tr>\n",
       "      <th>889</th>\n",
       "      <td>890</td>\n",
       "      <td>1</td>\n",
       "      <td>1</td>\n",
       "      <td>Behr, Mr. Karl Howell</td>\n",
       "      <td>male</td>\n",
       "      <td>26.0</td>\n",
       "      <td>0</td>\n",
       "      <td>0</td>\n",
       "      <td>111369</td>\n",
       "      <td>30.0000</td>\n",
       "      <td>C148</td>\n",
       "      <td>C</td>\n",
       "    </tr>\n",
       "    <tr>\n",
       "      <th>890</th>\n",
       "      <td>891</td>\n",
       "      <td>0</td>\n",
       "      <td>3</td>\n",
       "      <td>Dooley, Mr. Patrick</td>\n",
       "      <td>male</td>\n",
       "      <td>32.0</td>\n",
       "      <td>0</td>\n",
       "      <td>0</td>\n",
       "      <td>370376</td>\n",
       "      <td>7.7500</td>\n",
       "      <td>NaN</td>\n",
       "      <td>Q</td>\n",
       "    </tr>\n",
       "  </tbody>\n",
       "</table>\n",
       "<p>891 rows × 12 columns</p>\n",
       "</div>"
      ],
      "text/plain": [
       "     PassengerId  Survived  Pclass  \\\n",
       "0              1         0       3   \n",
       "1              2         1       1   \n",
       "2              3         1       3   \n",
       "3              4         1       1   \n",
       "4              5         0       3   \n",
       "..           ...       ...     ...   \n",
       "886          887         0       2   \n",
       "887          888         1       1   \n",
       "888          889         0       3   \n",
       "889          890         1       1   \n",
       "890          891         0       3   \n",
       "\n",
       "                                                  Name     Sex   Age  SibSp  \\\n",
       "0                              Braund, Mr. Owen Harris    male  22.0      1   \n",
       "1    Cumings, Mrs. John Bradley (Florence Briggs Th...  female  38.0      1   \n",
       "2                               Heikkinen, Miss. Laina  female  26.0      0   \n",
       "3         Futrelle, Mrs. Jacques Heath (Lily May Peel)  female  35.0      1   \n",
       "4                             Allen, Mr. William Henry    male  35.0      0   \n",
       "..                                                 ...     ...   ...    ...   \n",
       "886                              Montvila, Rev. Juozas    male  27.0      0   \n",
       "887                       Graham, Miss. Margaret Edith  female  19.0      0   \n",
       "888           Johnston, Miss. Catherine Helen \"Carrie\"  female   NaN      1   \n",
       "889                              Behr, Mr. Karl Howell    male  26.0      0   \n",
       "890                                Dooley, Mr. Patrick    male  32.0      0   \n",
       "\n",
       "     Parch            Ticket     Fare Cabin Embarked  \n",
       "0        0         A/5 21171   7.2500   NaN        S  \n",
       "1        0          PC 17599  71.2833   C85        C  \n",
       "2        0  STON/O2. 3101282   7.9250   NaN        S  \n",
       "3        0            113803  53.1000  C123        S  \n",
       "4        0            373450   8.0500   NaN        S  \n",
       "..     ...               ...      ...   ...      ...  \n",
       "886      0            211536  13.0000   NaN        S  \n",
       "887      0            112053  30.0000   B42        S  \n",
       "888      2        W./C. 6607  23.4500   NaN        S  \n",
       "889      0            111369  30.0000  C148        C  \n",
       "890      0            370376   7.7500   NaN        Q  \n",
       "\n",
       "[891 rows x 12 columns]"
      ]
     },
     "execution_count": 8,
     "metadata": {},
     "output_type": "execute_result"
    }
   ],
   "source": [
    "load_data()"
   ]
  },
  {
   "cell_type": "markdown",
   "metadata": {},
   "source": [
    "## `tune_mlmodel.py`"
   ]
  },
  {
   "cell_type": "code",
   "execution_count": null,
   "metadata": {},
   "outputs": [],
   "source": [
    "I want the following features:\n",
    "    \n",
    "1. Provide a datapipe"
   ]
  },
  {
   "cell_type": "code",
   "execution_count": 33,
   "metadata": {
    "ExecuteTime": {
     "end_time": "2020-05-14T19:36:21.334940Z",
     "start_time": "2020-05-14T19:36:21.321498Z"
    }
   },
   "outputs": [],
   "source": [
    "from sklearn.model_selection import GridSearchCV, RandomizedSearchCV\n",
    "\n",
    "import pandas as pd\n",
    "from src.pipeline import dp1\n",
    "from src.pipeline import dp2\n",
    "from src.config import RAW_TRAIN_DATA_FILE, RAW_TEST_DATA_FILE, HYPERPARAMS_MLMODEL_FILE\n",
    "from src.utils import load_data\n",
    "from sklearn.base import clone\n",
    "import joblib\n",
    "\n",
    "available_pipelines= {\n",
    "    'dp1': dp1,\n",
    "    'dp2': dp2\n",
    "}\n",
    "\n",
    "\n",
    "\n",
    "def load_hyperparams_mlmodel():        \n",
    "    return joblib.load(HYPERPARAMS_MLMODEL_FILE)\n",
    "\n",
    "def tune_mlmodel(datapipe, hyperparams='autoload',\n",
    "                 mlmodels='all', search_type='rand', data='autoload', **kwargs):\n",
    "    '''\n",
    "    Tune the machine learning model in a pipeline\n",
    "    \n",
    "    Parameters\n",
    "    ----------\n",
    "    datapipe: str or DataPipeline\n",
    "        if str is supplied available pipeline are loaded\n",
    "        \n",
    "    data: str or pd.DataFrame, default: 'autoreload'\n",
    "        \n",
    "    hyperparams: dict or list of dicts, default: 'autoload'\n",
    "        'autoload' will load the param_dict from the HYPERPARAMS_MLMODEL_FILE\n",
    "        else the supply a list of dicts\n",
    "        \n",
    "    mlmodels: list default: 'all'\n",
    "        provide a list of mlmodel names to tune\n",
    "        'all' will tune all mlmodels\n",
    "        \n",
    "    search: str default: 'rand'\n",
    "        the type of search to perform i.e. 'rand' -> RandomizedSearchCV, 'grid' -> GridSearchCV\n",
    "    '''\n",
    "    \n",
    "    if type(datapipe) is str:\n",
    "        dp = available_pipelines[datapipe]\n",
    "    else:\n",
    "        dp = clone(datapipe)\n",
    "        \n",
    "    if hyperparams == 'autoreload':\n",
    "        hyperparams = load_hyperparams_mlmodel()\n",
    "\n",
    "    if mlmodels != 'all':    \n",
    "        if type(hyperparams) is dict:\n",
    "            param_grid = [v for k, v in hyperparams.items() if k in mlmodels]\n",
    "        else:\n",
    "            param_grid = hyperparams\n",
    "\n",
    "    pipe = dp.get_pipeline()\n",
    "\n",
    "    if search_type == 'grid':\n",
    "        search = GridSearchCV(pipe, param_grid, **kwargs)\n",
    "    elif search_type == 'rand':\n",
    "        search = RandomizedSearchCV(pipe, param_grid, **kwargs)\n",
    "        \n",
    "        \n",
    "    if data == 'autoload':\n",
    "        df = load_data('train')\n",
    "        dp.set_data(df)\n",
    "    else:\n",
    "        dp.set_data(data)\n",
    "        \n",
    "    dfX_pre, dfy_pre = dp.prepare()\n",
    "    \n",
    "    return search.fit(dfX_pre, dfy_pre)\n",
    "\n",
    "\n"
   ]
  },
  {
   "cell_type": "code",
   "execution_count": 34,
   "metadata": {
    "ExecuteTime": {
     "end_time": "2020-05-14T19:36:21.568992Z",
     "start_time": "2020-05-14T19:36:21.563381Z"
    }
   },
   "outputs": [],
   "source": [
    "# from src.tune import tune_mlmodel\n",
    "from sklearn.model_selection import StratifiedKFold\n",
    "skf = StratifiedKFold()"
   ]
  },
  {
   "cell_type": "code",
   "execution_count": 35,
   "metadata": {
    "ExecuteTime": {
     "end_time": "2020-05-14T19:36:22.022366Z",
     "start_time": "2020-05-14T19:36:22.004269Z"
    }
   },
   "outputs": [],
   "source": [
    "from src.utils import print_params"
   ]
  },
  {
   "cell_type": "code",
   "execution_count": 36,
   "metadata": {
    "ExecuteTime": {
     "end_time": "2020-05-14T19:36:22.989586Z",
     "start_time": "2020-05-14T19:36:22.958063Z"
    }
   },
   "outputs": [
    {
     "name": "stdout",
     "output_type": "stream",
     "text": [
      "['data',\n",
      " 'description',\n",
      " 'mlmodel',\n",
      " 'prepare_data__memory',\n",
      " 'prepare_data__steps',\n",
      " 'prepare_data__verbose',\n",
      " 'prepare_data__nan_drpr',\n",
      " 'prepare_data__nan_drpr__key',\n",
      " 'prepare_data',\n",
      " 'preprocess_data',\n",
      " 'warn',\n",
      " 'ycol',\n",
      " 'preprocess',\n",
      " 'ml',\n",
      " 'preprocess__memory',\n",
      " 'preprocess__steps',\n",
      " 'preprocess__verbose',\n",
      " 'preprocess__clmn_trnsfrm',\n",
      " 'preprocess__scale',\n",
      " 'preprocess__clmn_trnsfrm__n_jobs',\n",
      " 'preprocess__clmn_trnsfrm__remainder',\n",
      " 'preprocess__clmn_trnsfrm__sparse_threshold',\n",
      " 'preprocess__clmn_trnsfrm__transformer_weights',\n",
      " 'preprocess__clmn_trnsfrm__transformers',\n",
      " 'preprocess__clmn_trnsfrm__verbose',\n",
      " 'preprocess__clmn_trnsfrm__enc',\n",
      " 'preprocess__clmn_trnsfrm__imp',\n",
      " 'preprocess__clmn_trnsfrm__pre_Name',\n",
      " 'preprocess__clmn_trnsfrm__pre_Cabin',\n",
      " 'preprocess__clmn_trnsfrm__pre_Ticket',\n",
      " 'preprocess__clmn_trnsfrm__Pre_SibSp',\n",
      " 'preprocess__clmn_trnsfrm__Pre_Parch',\n",
      " 'preprocess__clmn_trnsfrm__enc__categories',\n",
      " 'preprocess__clmn_trnsfrm__enc__drop',\n",
      " 'preprocess__clmn_trnsfrm__enc__dtype',\n",
      " 'preprocess__clmn_trnsfrm__enc__handle_unknown',\n",
      " 'preprocess__clmn_trnsfrm__enc__sparse',\n",
      " 'preprocess__clmn_trnsfrm__imp__add_indicator',\n",
      " 'preprocess__clmn_trnsfrm__imp__copy',\n",
      " 'preprocess__clmn_trnsfrm__imp__fill_value',\n",
      " 'preprocess__clmn_trnsfrm__imp__missing_values',\n",
      " 'preprocess__clmn_trnsfrm__imp__strategy',\n",
      " 'preprocess__clmn_trnsfrm__imp__verbose',\n",
      " 'preprocess__clmn_trnsfrm__pre_Name__exclude_cat_type',\n",
      " 'preprocess__clmn_trnsfrm__pre_Name__pattern',\n",
      " 'preprocess__clmn_trnsfrm__pre_Name__sparse',\n",
      " 'preprocess__clmn_trnsfrm__pre_Cabin__grp_cat',\n",
      " 'preprocess__clmn_trnsfrm__pre_Cabin__sparse',\n",
      " 'preprocess__clmn_trnsfrm__pre_Ticket__drop',\n",
      " 'preprocess__clmn_trnsfrm__pre_Ticket__exclude_thresh',\n",
      " 'preprocess__clmn_trnsfrm__pre_Ticket__handle_unknown',\n",
      " 'preprocess__clmn_trnsfrm__pre_Ticket__only_numeric',\n",
      " 'preprocess__clmn_trnsfrm__pre_Ticket__sparse',\n",
      " 'preprocess__clmn_trnsfrm__Pre_SibSp__encode',\n",
      " 'preprocess__clmn_trnsfrm__Pre_SibSp__sparse',\n",
      " 'preprocess__clmn_trnsfrm__Pre_SibSp__thresh',\n",
      " 'preprocess__clmn_trnsfrm__Pre_Parch__encode',\n",
      " 'preprocess__clmn_trnsfrm__Pre_Parch__sparse',\n",
      " 'preprocess__clmn_trnsfrm__Pre_Parch__thresh',\n",
      " 'preprocess__scale__copy',\n",
      " 'preprocess__scale__with_mean',\n",
      " 'preprocess__scale__with_std',\n",
      " 'ml__C',\n",
      " 'ml__break_ties',\n",
      " 'ml__cache_size',\n",
      " 'ml__class_weight',\n",
      " 'ml__coef0',\n",
      " 'ml__decision_function_shape',\n",
      " 'ml__degree',\n",
      " 'ml__gamma',\n",
      " 'ml__kernel',\n",
      " 'ml__max_iter',\n",
      " 'ml__probability',\n",
      " 'ml__random_state',\n",
      " 'ml__shrinking',\n",
      " 'ml__tol',\n",
      " 'ml__verbose']\n"
     ]
    }
   ],
   "source": [
    "print_params(dp2)"
   ]
  },
  {
   "cell_type": "code",
   "execution_count": 37,
   "metadata": {
    "ExecuteTime": {
     "end_time": "2020-05-14T19:36:23.383690Z",
     "start_time": "2020-05-14T19:36:23.376324Z"
    }
   },
   "outputs": [],
   "source": [
    "from sklearn.preprocessing import StandardScaler\n",
    "from sklearn.neighbors import KNeighborsClassifier"
   ]
  },
  {
   "cell_type": "code",
   "execution_count": 38,
   "metadata": {
    "ExecuteTime": {
     "end_time": "2020-05-14T19:36:24.647681Z",
     "start_time": "2020-05-14T19:36:24.051047Z"
    }
   },
   "outputs": [],
   "source": [
    "search = tune_mlmodel('dp2', [{'ml':[KNeighborsClassifier()], \n",
    "                               'preprocess__scale': ['passthrough', StandardScaler()]}], \n",
    "                      search_type='grid', cv=skf)"
   ]
  },
  {
   "cell_type": "code",
   "execution_count": 1,
   "metadata": {
    "ExecuteTime": {
     "end_time": "2020-05-14T19:36:50.162150Z",
     "start_time": "2020-05-14T19:36:49.694582Z"
    }
   },
   "outputs": [],
   "source": [
    "from src.tune import load_hyperparams_mlmodel"
   ]
  },
  {
   "cell_type": "code",
   "execution_count": 2,
   "metadata": {
    "ExecuteTime": {
     "end_time": "2020-05-14T19:36:58.393927Z",
     "start_time": "2020-05-14T19:36:58.310933Z"
    }
   },
   "outputs": [
    {
     "data": {
      "text/plain": [
       "{'LogisticRegression_NoReg': {'ml': [LogisticRegression(C=1.0, class_weight=None, dual=False, fit_intercept=True,\n",
       "                      intercept_scaling=1, l1_ratio=None, max_iter=100,\n",
       "                      multi_class='auto', n_jobs=None, penalty='l2',\n",
       "                      random_state=None, solver='lbfgs', tol=0.0001, verbose=0,\n",
       "                      warm_start=False)],\n",
       "  'ml__solver': ['liblinear']},\n",
       " 'LogisticRegression_l1l2': {'ml': [LogisticRegression(C=1.0, class_weight=None, dual=False, fit_intercept=True,\n",
       "                      intercept_scaling=1, l1_ratio=None, max_iter=100,\n",
       "                      multi_class='auto', n_jobs=None, penalty='l2',\n",
       "                      random_state=None, solver='lbfgs', tol=0.0001, verbose=0,\n",
       "                      warm_start=False)],\n",
       "  'ml__penalty': ['l1', 'l2'],\n",
       "  'ml__C': [0.01, 0.1, 1, 10, 100],\n",
       "  'ml__solver': ['liblinear']},\n",
       " 'LogisticRegression_elasnet': {'ml': [LogisticRegression(C=1.0, class_weight=None, dual=False, fit_intercept=True,\n",
       "                      intercept_scaling=1, l1_ratio=None, max_iter=10000,\n",
       "                      multi_class='auto', n_jobs=None, penalty='l2',\n",
       "                      random_state=None, solver='lbfgs', tol=0.0001, verbose=0,\n",
       "                      warm_start=False)],\n",
       "  'ml__penalty': ['elasticnet'],\n",
       "  'ml__C': [0.01, 0.1, 1, 10, 100],\n",
       "  'ml__l1_ratio': [0, 0.4, 0.8, 1],\n",
       "  'ml__solver': ['saga']},\n",
       " 'RidgeClassifier': {'ml': [RidgeClassifier(alpha=1.0, class_weight=None, copy_X=True, fit_intercept=True,\n",
       "                   max_iter=None, normalize=False, random_state=None,\n",
       "                   solver='auto', tol=0.001)],\n",
       "  'ml__alpha': [0.01, 0.1, 1, 10, 100]},\n",
       " 'SVC_linear': {'ml': [SVC(C=1.0, break_ties=False, cache_size=200, class_weight=None, coef0=0.0,\n",
       "       decision_function_shape='ovr', degree=3, gamma='scale', kernel='rbf',\n",
       "       max_iter=-1, probability=False, random_state=None, shrinking=True,\n",
       "       tol=0.001, verbose=False)],\n",
       "  'ml__C': [0.01, 0.1, 1, 10, 100],\n",
       "  'ml__gamma': [0.001, 0.01, 0.1, 1, 10, 'scale'],\n",
       "  'ml__kernel': ['linear']},\n",
       " 'SVC_rbf': {'ml': [SVC(C=1.0, break_ties=False, cache_size=200, class_weight=None, coef0=0.0,\n",
       "       decision_function_shape='ovr', degree=3, gamma='scale', kernel='rbf',\n",
       "       max_iter=-1, probability=False, random_state=None, shrinking=True,\n",
       "       tol=0.001, verbose=False)],\n",
       "  'ml__C': [0.01, 0.1, 1, 10, 100],\n",
       "  'ml__kernel': ['rbf'],\n",
       "  'ml__gamma': [0.001, 0.01, 0.1, 1, 10, 'scale']},\n",
       " 'SVC_poly': {'ml': [SVC(C=1.0, break_ties=False, cache_size=200, class_weight=None, coef0=0.0,\n",
       "       decision_function_shape='ovr', degree=3, gamma='scale', kernel='rbf',\n",
       "       max_iter=-1, probability=False, random_state=None, shrinking=True,\n",
       "       tol=0.001, verbose=False)],\n",
       "  'ml__C': [0.01, 0.1, 1, 10, 100],\n",
       "  'ml__kernel': ['poly'],\n",
       "  'ml__gamma': [0.001, 0.01, 0.1, 1, 10, 'scale'],\n",
       "  'ml__degree': [2, 3, 4]},\n",
       " 'SVC_sigmoid': {'ml': [SVC(C=1.0, break_ties=False, cache_size=200, class_weight=None, coef0=0.0,\n",
       "       decision_function_shape='ovr', degree=3, gamma='scale', kernel='rbf',\n",
       "       max_iter=-1, probability=False, random_state=None, shrinking=True,\n",
       "       tol=0.001, verbose=False)],\n",
       "  'ml__C': [0.01, 0.1, 1, 10, 100],\n",
       "  'ml__kernel': ['sigmoid'],\n",
       "  'ml__gamma': [0.001, 0.01, 0.1, 1, 10, 'scale']},\n",
       " 'DecisionTreeClassifier': {'ml': [DecisionTreeClassifier(ccp_alpha=0.0, class_weight=None, criterion='gini',\n",
       "                          max_depth=None, max_features=None, max_leaf_nodes=None,\n",
       "                          min_impurity_decrease=0.0, min_impurity_split=None,\n",
       "                          min_samples_leaf=1, min_samples_split=2,\n",
       "                          min_weight_fraction_leaf=0.0, presort='deprecated',\n",
       "                          random_state=None, splitter='best')],\n",
       "  'ml__max_depth': array([ 4.,  7., 12., 21., 35.]),\n",
       "  'ml__min_samples_split': [2, 5, 10, 20, 40, 0.1, 0.2, 0.3, 0.4, 0.5],\n",
       "  'ml__min_samples_leaf': [2, 5, 10, 20, 40],\n",
       "  'ml__max_features': ['sqrt', 'log2', None, 0.1, 0.3, 0.5, 0.7]},\n",
       " 'ExtraTreesClassifier': {'ml': [ExtraTreeClassifier(ccp_alpha=0.0, class_weight=None, criterion='gini',\n",
       "                       max_depth=None, max_features='auto', max_leaf_nodes=None,\n",
       "                       min_impurity_decrease=0.0, min_impurity_split=None,\n",
       "                       min_samples_leaf=1, min_samples_split=2,\n",
       "                       min_weight_fraction_leaf=0.0, random_state=None,\n",
       "                       splitter='random')],\n",
       "  'ml__max_depth': array([ 4.,  7., 12., 21., 35.]),\n",
       "  'ml__min_samples_split': [0.01, 0.03, 0.05, 0.07, 0.1, 0.2],\n",
       "  'ml__min_samples_leaf': [2, 5, 10, 20, 40],\n",
       "  'ml__max_features': ['sqrt', 'log2', None, 0.1, 0.3, 0.5, 0.7]},\n",
       " 'RandomForestClassifier': {'ml': [RandomForestClassifier(bootstrap=True, ccp_alpha=0.0, class_weight=None,\n",
       "                          criterion='gini', max_depth=None, max_features='auto',\n",
       "                          max_leaf_nodes=None, max_samples=None,\n",
       "                          min_impurity_decrease=0.0, min_impurity_split=None,\n",
       "                          min_samples_leaf=1, min_samples_split=2,\n",
       "                          min_weight_fraction_leaf=0.0, n_estimators=100,\n",
       "                          n_jobs=None, oob_score=False, random_state=None,\n",
       "                          verbose=0, warm_start=False)],\n",
       "  'ml__max_depth': array([ 4.,  7., 12., 21., 35.]),\n",
       "  'ml__min_samples_split': [0.01, 0.03, 0.05, 0.07, 0.1, 0.2],\n",
       "  'ml__min_samples_leaf': [2, 5, 10, 20, 40],\n",
       "  'ml__max_features': ['sqrt', 'log2', None, 0.1, 0.3, 0.5, 0.7],\n",
       "  'ml__bootstrap': [True, False],\n",
       "  'ml__n_estimators': [10, 50, 100, 500, 1000],\n",
       "  'ml__oob_score': [True, False]},\n",
       " 'AdaBoostClassifier_DT': {'ml': [AdaBoostClassifier(algorithm='SAMME.R', base_estimator=None, learning_rate=1.0,\n",
       "                      n_estimators=50, random_state=None)],\n",
       "  'ml__base_estimator': [DecisionTreeClassifier(ccp_alpha=0.0, class_weight=None, criterion='gini',\n",
       "                          max_depth=None, max_features=None, max_leaf_nodes=None,\n",
       "                          min_impurity_decrease=0.0, min_impurity_split=None,\n",
       "                          min_samples_leaf=1, min_samples_split=2,\n",
       "                          min_weight_fraction_leaf=0.0, presort='deprecated',\n",
       "                          random_state=None, splitter='best')],\n",
       "  'ml__base_estimator__max_depth': array([ 4.,  7., 12., 21., 35.]),\n",
       "  'ml__base_estimator__min_samples_split': [0.01, 0.03, 0.05, 0.07, 0.1, 0.2],\n",
       "  'ml__base_estimator__min_samples_leaf': [2, 5, 10, 20, 40],\n",
       "  'ml__base_estimator__max_features': ['sqrt',\n",
       "   'log2',\n",
       "   None,\n",
       "   0.1,\n",
       "   0.4,\n",
       "   0.5,\n",
       "   0.7],\n",
       "  'ml__n_estimators': [10, 50, 100, 500, 1000],\n",
       "  'ml__learning_rate': [0.01, 0.05, 0.1, 0.4, 0.7, 1]},\n",
       " 'AdaBoostClassifier_SVC_linear': {'ml': [AdaBoostClassifier(algorithm='SAMME.R', base_estimator=None, learning_rate=1.0,\n",
       "                      n_estimators=50, random_state=None)],\n",
       "  'ml__base_estimator': [SVC(C=1.0, break_ties=False, cache_size=200, class_weight=None, coef0=0.0,\n",
       "       decision_function_shape='ovr', degree=3, gamma='scale', kernel='rbf',\n",
       "       max_iter=-1, probability=False, random_state=None, shrinking=True,\n",
       "       tol=0.001, verbose=False)],\n",
       "  'ml__base_estimator__kernel': ['linear'],\n",
       "  'ml__base_estimator__C': [0.01, 0.1, 1, 10, 100],\n",
       "  'ml__base_estimator__gamma': [0.001, 0.01, 0.1, 1, 10],\n",
       "  'ml__n_estimators': [10, 50, 100, 500, 1000],\n",
       "  'ml__learning_rate': [0.01, 0.05, 0.1, 0.4, 0.7, 1]},\n",
       " 'AdaBoostClassifier_SVC_rbf': {'ml': [AdaBoostClassifier(algorithm='SAMME.R', base_estimator=None, learning_rate=1.0,\n",
       "                      n_estimators=50, random_state=None)],\n",
       "  'ml__base_estimator': [SVC(C=1.0, break_ties=False, cache_size=200, class_weight=None, coef0=0.0,\n",
       "       decision_function_shape='ovr', degree=3, gamma='scale', kernel='rbf',\n",
       "       max_iter=-1, probability=False, random_state=None, shrinking=True,\n",
       "       tol=0.001, verbose=False)],\n",
       "  'ml__base_estimator__C': [0.01, 0.1, 1, 10, 100],\n",
       "  'ml__base_estimator__kernel': ['rbf'],\n",
       "  'ml__base_estimator__gamma': [0.001, 0.01, 0.1, 1, 10],\n",
       "  'ml__n_estimators': [10, 50, 100, 500, 1000],\n",
       "  'ml__learning_rate': [0.01, 0.05, 0.1, 0.4, 0.7, 1]},\n",
       " 'AdaBoostClassifier_SVC_poly': {'ml': [AdaBoostClassifier(algorithm='SAMME.R', base_estimator=None, learning_rate=1.0,\n",
       "                      n_estimators=50, random_state=None)],\n",
       "  'ml__base_estimator': [SVC(C=1.0, break_ties=False, cache_size=200, class_weight=None, coef0=0.0,\n",
       "       decision_function_shape='ovr', degree=3, gamma='scale', kernel='rbf',\n",
       "       max_iter=-1, probability=False, random_state=None, shrinking=True,\n",
       "       tol=0.001, verbose=False)],\n",
       "  'ml__base_estimator__C': [0.01, 0.1, 1, 10, 100],\n",
       "  'ml__base_estimator__kernel': ['poly'],\n",
       "  'ml__base_estimator__gamma': [0.001, 0.01, 0.1, 1, 10],\n",
       "  'ml__base_estimator__degree': [2, 3, 4],\n",
       "  'ml__n_estimators': [10, 50, 100, 500, 1000],\n",
       "  'ml__learning_rate': [0.01, 0.05, 0.1, 0.4, 0.7, 1]},\n",
       " 'AdaBoostClassifier_SVC_sigmoid': {'ml': [AdaBoostClassifier(algorithm='SAMME.R', base_estimator=None, learning_rate=1.0,\n",
       "                      n_estimators=50, random_state=None)],\n",
       "  'ml__base_estimator': [SVC(C=1.0, break_ties=False, cache_size=200, class_weight=None, coef0=0.0,\n",
       "       decision_function_shape='ovr', degree=3, gamma='scale', kernel='rbf',\n",
       "       max_iter=-1, probability=False, random_state=None, shrinking=True,\n",
       "       tol=0.001, verbose=False)],\n",
       "  'ml__base_estimator__C': [0.01, 0.1, 1, 10, 100],\n",
       "  'ml__base_estimator__kernel': ['sigmoid'],\n",
       "  'ml__base_estimator__gamma': [0.001, 0.01, 0.1, 1, 10],\n",
       "  'ml__n_estimators': [10, 50, 100, 500, 1000],\n",
       "  'ml__learning_rate': [0.01, 0.05, 0.1, 0.4, 0.7, 1]},\n",
       " 'GradientBoostingClassifier': {'ml': [GradientBoostingClassifier(ccp_alpha=0.0, criterion='friedman_mse', init=None,\n",
       "                              learning_rate=0.1, loss='deviance', max_depth=3,\n",
       "                              max_features=None, max_leaf_nodes=None,\n",
       "                              min_impurity_decrease=0.0, min_impurity_split=None,\n",
       "                              min_samples_leaf=1, min_samples_split=2,\n",
       "                              min_weight_fraction_leaf=0.0, n_estimators=100,\n",
       "                              n_iter_no_change=None, presort='deprecated',\n",
       "                              random_state=None, subsample=1.0, tol=0.0001,\n",
       "                              validation_fraction=0.1, verbose=0,\n",
       "                              warm_start=False)],\n",
       "  'ml__max_depth': array([ 4.,  7., 12., 21., 35.]),\n",
       "  'ml__min_samples_split': [0.01, 0.03, 0.05, 0.07, 0.1, 0.2],\n",
       "  'ml__min_samples_leaf': [2, 5, 10, 20, 40],\n",
       "  'ml__max_features': ['sqrt', 'log2', None, 0.1, 0.4, 0.5, 0.7],\n",
       "  'ml__n_estimators': [10, 50, 100, 500, 1000],\n",
       "  'ml__learning_rate': [0.01, 0.05, 0.1, 0.2],\n",
       "  'ml__subsample': [0.5, 0.6, 0.7, 0.8, 0.9, 1]},\n",
       " 'KNeighborsClassifier': {'ml': [KNeighborsClassifier(algorithm='auto', leaf_size=30, metric='minkowski',\n",
       "                        metric_params=None, n_jobs=None, n_neighbors=5, p=2,\n",
       "                        weights='uniform')],\n",
       "  'ml__n_neighbors': range(1, 21, 2),\n",
       "  'ml__p': [1, 2, 3, 4]}}"
      ]
     },
     "execution_count": 2,
     "metadata": {},
     "output_type": "execute_result"
    }
   ],
   "source": [
    "load_hyperparams_mlmodel()"
   ]
  },
  {
   "cell_type": "code",
   "execution_count": 31,
   "metadata": {
    "ExecuteTime": {
     "end_time": "2020-05-14T19:30:50.977729Z",
     "start_time": "2020-05-14T19:30:50.965007Z"
    }
   },
   "outputs": [
    {
     "data": {
      "text/plain": [
       "0.8178251761569225"
      ]
     },
     "execution_count": 31,
     "metadata": {},
     "output_type": "execute_result"
    }
   ],
   "source": [
    "search.best_score_"
   ]
  },
  {
   "cell_type": "code",
   "execution_count": 32,
   "metadata": {
    "ExecuteTime": {
     "end_time": "2020-05-14T19:30:51.918230Z",
     "start_time": "2020-05-14T19:30:51.888234Z"
    }
   },
   "outputs": [
    {
     "data": {
      "text/html": [
       "<div>\n",
       "<style scoped>\n",
       "    .dataframe tbody tr th:only-of-type {\n",
       "        vertical-align: middle;\n",
       "    }\n",
       "\n",
       "    .dataframe tbody tr th {\n",
       "        vertical-align: top;\n",
       "    }\n",
       "\n",
       "    .dataframe thead th {\n",
       "        text-align: right;\n",
       "    }\n",
       "</style>\n",
       "<table border=\"1\" class=\"dataframe\">\n",
       "  <thead>\n",
       "    <tr style=\"text-align: right;\">\n",
       "      <th></th>\n",
       "      <th>mean_fit_time</th>\n",
       "      <th>std_fit_time</th>\n",
       "      <th>mean_score_time</th>\n",
       "      <th>std_score_time</th>\n",
       "      <th>param_ml</th>\n",
       "      <th>param_preprocess__scale</th>\n",
       "      <th>params</th>\n",
       "      <th>split0_test_score</th>\n",
       "      <th>split1_test_score</th>\n",
       "      <th>split2_test_score</th>\n",
       "      <th>split3_test_score</th>\n",
       "      <th>split4_test_score</th>\n",
       "      <th>mean_test_score</th>\n",
       "      <th>std_test_score</th>\n",
       "      <th>rank_test_score</th>\n",
       "    </tr>\n",
       "  </thead>\n",
       "  <tbody>\n",
       "    <tr>\n",
       "      <th>0</th>\n",
       "      <td>0.025353</td>\n",
       "      <td>0.003559</td>\n",
       "      <td>0.020757</td>\n",
       "      <td>0.000510</td>\n",
       "      <td>KNeighborsClassifier(algorithm='auto', leaf_si...</td>\n",
       "      <td>passthrough</td>\n",
       "      <td>{'ml': KNeighborsClassifier(algorithm='auto', ...</td>\n",
       "      <td>0.623596</td>\n",
       "      <td>0.455056</td>\n",
       "      <td>0.466292</td>\n",
       "      <td>0.477528</td>\n",
       "      <td>0.683616</td>\n",
       "      <td>0.541218</td>\n",
       "      <td>0.093976</td>\n",
       "      <td>2</td>\n",
       "    </tr>\n",
       "    <tr>\n",
       "      <th>1</th>\n",
       "      <td>0.024362</td>\n",
       "      <td>0.000783</td>\n",
       "      <td>0.023042</td>\n",
       "      <td>0.001091</td>\n",
       "      <td>KNeighborsClassifier(algorithm='auto', leaf_si...</td>\n",
       "      <td>StandardScaler(copy=True, with_mean=True, with...</td>\n",
       "      <td>{'ml': KNeighborsClassifier(algorithm='auto', ...</td>\n",
       "      <td>0.814607</td>\n",
       "      <td>0.814607</td>\n",
       "      <td>0.814607</td>\n",
       "      <td>0.780899</td>\n",
       "      <td>0.864407</td>\n",
       "      <td>0.817825</td>\n",
       "      <td>0.026700</td>\n",
       "      <td>1</td>\n",
       "    </tr>\n",
       "  </tbody>\n",
       "</table>\n",
       "</div>"
      ],
      "text/plain": [
       "   mean_fit_time  std_fit_time  mean_score_time  std_score_time  \\\n",
       "0       0.025353      0.003559         0.020757        0.000510   \n",
       "1       0.024362      0.000783         0.023042        0.001091   \n",
       "\n",
       "                                            param_ml  \\\n",
       "0  KNeighborsClassifier(algorithm='auto', leaf_si...   \n",
       "1  KNeighborsClassifier(algorithm='auto', leaf_si...   \n",
       "\n",
       "                             param_preprocess__scale  \\\n",
       "0                                        passthrough   \n",
       "1  StandardScaler(copy=True, with_mean=True, with...   \n",
       "\n",
       "                                              params  split0_test_score  \\\n",
       "0  {'ml': KNeighborsClassifier(algorithm='auto', ...           0.623596   \n",
       "1  {'ml': KNeighborsClassifier(algorithm='auto', ...           0.814607   \n",
       "\n",
       "   split1_test_score  split2_test_score  split3_test_score  split4_test_score  \\\n",
       "0           0.455056           0.466292           0.477528           0.683616   \n",
       "1           0.814607           0.814607           0.780899           0.864407   \n",
       "\n",
       "   mean_test_score  std_test_score  rank_test_score  \n",
       "0         0.541218        0.093976                2  \n",
       "1         0.817825        0.026700                1  "
      ]
     },
     "execution_count": 32,
     "metadata": {},
     "output_type": "execute_result"
    }
   ],
   "source": [
    "res = pd.DataFrame(search.cv_results_)\n",
    "res.head()"
   ]
  },
  {
   "cell_type": "code",
   "execution_count": null,
   "metadata": {},
   "outputs": [],
   "source": []
  }
 ],
 "metadata": {
  "kernelspec": {
   "display_name": "Python [conda env:titansurv] *",
   "language": "python",
   "name": "conda-env-titansurv-py"
  },
  "language_info": {
   "codemirror_mode": {
    "name": "ipython",
    "version": 3
   },
   "file_extension": ".py",
   "mimetype": "text/x-python",
   "name": "python",
   "nbconvert_exporter": "python",
   "pygments_lexer": "ipython3",
   "version": "3.8.2"
  }
 },
 "nbformat": 4,
 "nbformat_minor": 4
}
