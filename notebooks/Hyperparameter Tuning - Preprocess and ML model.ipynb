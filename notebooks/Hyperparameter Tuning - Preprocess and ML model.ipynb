{
 "cells": [
  {
   "cell_type": "markdown",
   "metadata": {},
   "source": [
    "# Hyperparameter tuning"
   ]
  },
  {
   "cell_type": "markdown",
   "metadata": {
    "ExecuteTime": {
     "end_time": "2020-05-06T09:07:44.291893Z",
     "start_time": "2020-05-06T09:07:44.266836Z"
    }
   },
   "source": [
    "Perform ```Hyperparameter tuning``` for the ```preprocessing``` step and ```machine learning classifier```"
   ]
  },
  {
   "cell_type": "markdown",
   "metadata": {},
   "source": [
    "## General approach to Hyperparameter tuning"
   ]
  },
  {
   "cell_type": "code",
   "execution_count": 7,
   "metadata": {
    "ExecuteTime": {
     "end_time": "2020-05-06T10:14:14.729248Z",
     "start_time": "2020-05-06T10:14:14.717716Z"
    }
   },
   "outputs": [],
   "source": [
    "import sys\n",
    "sys.path.append(\"../\")"
   ]
  },
  {
   "cell_type": "code",
   "execution_count": 11,
   "metadata": {
    "ExecuteTime": {
     "end_time": "2020-05-06T10:14:40.122463Z",
     "start_time": "2020-05-06T10:14:40.115864Z"
    }
   },
   "outputs": [],
   "source": [
    "from titansurv.pipeline import pipeline1 as dp\n",
    "from titansurv.utils import print_params"
   ]
  },
  {
   "cell_type": "code",
   "execution_count": 149,
   "metadata": {
    "ExecuteTime": {
     "end_time": "2020-05-06T15:56:09.285344Z",
     "start_time": "2020-05-06T15:56:09.253627Z"
    }
   },
   "outputs": [],
   "source": [
    "df = pd.read_csv('../data/raw/train.csv')\n",
    "dfX = df.drop('Survived', axis=1)\n",
    "dfy = df.Survived"
   ]
  },
  {
   "cell_type": "code",
   "execution_count": 150,
   "metadata": {
    "ExecuteTime": {
     "end_time": "2020-05-06T15:56:16.959470Z",
     "start_time": "2020-05-06T15:56:16.949436Z"
    }
   },
   "outputs": [],
   "source": [
    "dp.set_data(df)"
   ]
  },
  {
   "cell_type": "markdown",
   "metadata": {},
   "source": [
    "## Let's see the description "
   ]
  },
  {
   "cell_type": "code",
   "execution_count": 90,
   "metadata": {
    "ExecuteTime": {
     "end_time": "2020-05-06T13:37:05.187409Z",
     "start_time": "2020-05-06T13:37:05.173231Z"
    }
   },
   "outputs": [
    {
     "data": {
      "text/markdown": [
       "The following were the preprocessing steps used: \n",
       "1. **Embarked**: Dropped NA rows and applied OneHotEncoding\n",
       "2. **Age** : Applied Mean Imputation and Mean Normalization\n",
       "3. **Fare**: Mean Normalization\n",
       "4. **Sex**: OneHotEncoding\n",
       "5. **Name**: Categorised into ['Mr', 'Mrs', 'Miss', 'Master', 'Special']<br/> \n",
       "    5.1 Rename [Mlle, Ms] -> Miss      \n",
       "    5.2 Rename [Mme] -> Mrs     \n",
       "    5.3 Put the Rest -> Special     \n",
       "    Then performed OneHotEncoding\n",
       "6. **Ticket** categorized into [1: numeric, 0: else] <br/>\n",
       "    6.1 Remove special characters but not space <br/>\n",
       "    6.2 Replace numeric strings by 'numeric' <br/>\n",
       "    6.3 Split on space and keep the first item <br/>\n",
       " Then applied binarizer for [1: numeric, 0: else]\n",
       "7. **SibSp** binned into [0, 1, >1] and applied OneHotEncoding\n",
       "8. **Parch** binned into [0, 1, >1] and applied OneHotEncoding\n",
       "\n",
       "Tuned ML model: **RandomForestClassifier** using GridSearchCV"
      ],
      "text/plain": [
       "<IPython.core.display.Markdown object>"
      ]
     },
     "metadata": {},
     "output_type": "display_data"
    }
   ],
   "source": [
    "dp.get_description(markdown=True)"
   ]
  },
  {
   "cell_type": "markdown",
   "metadata": {},
   "source": [
    "## Let's see what all we change in the ```preprocessing``` step\n",
    "\n",
    "- [x] Can be readily implemented in current pipeline\n",
    "- [ ] Can't be implemented easily in current pipeline\n"
   ]
  },
  {
   "cell_type": "markdown",
   "metadata": {},
   "source": [
    "- [ ] Not Drop ```NA``` rows in ```Embarked``` , and ```Impute``` them\n",
    "- [ ] Drop ```NA``` rows in ```Age```, and use ``NoImputation``\n",
    "- [x] Type of imputation strategy for ```Age``` in ```SimpleImputer```, ```strategy=['mean', 'median']```, ```missing_indicator=[True, False]```\n",
    "- [ ] Using other imputers like ```KNNImputer```, ```IterativeImputer```\n",
    "- [x] Type of normalization strategy for ```Age``` and ```Fare```, i.e. ```StandardScaler```, ```MinMaxScaler```,\n",
    "```MaxAbsScaler```\n",
    "- [x] Categorisation of ```Name```, ```Ticket``` (by altering ```FunctionTransformer```)\n",
    "- [x] Binning of ```SibSp```, ```Parch``` (by altering ```FunctionTransformer```) +  ```OneHotEncoder``` or ```LabelEncoder```\n",
    "- [x] No Binning of ```SibSp```, ```Parch``` +  ```OneHotEncoder``` or ```LabelEncoder``` \n",
    "- [ ] Apply dimensionality reduction techniques like ```PCA```, ```LDA```, ```QDA``` maybe only on specific columns?\n",
    "- [ ] Use Feature selection algorithms\n",
    "- [ ] Use Feature Augmentation by using clustering methods like ```KMeans```\n",
    "- \n",
    "\n",
    "### **Note**\n",
    "\n",
    "- When applying ```OneHotEncoder``` check for parameter ```handle_unknown=['error', 'ignore']```\n",
    "\n"
   ]
  },
  {
   "cell_type": "markdown",
   "metadata": {},
   "source": [
    "## ```preprocessing``` hyperparameters"
   ]
  },
  {
   "cell_type": "code",
   "execution_count": 86,
   "metadata": {
    "ExecuteTime": {
     "end_time": "2020-05-06T13:35:00.650955Z",
     "start_time": "2020-05-06T13:35:00.605188Z"
    },
    "collapsed": true
   },
   "outputs": [
    {
     "name": "stdout",
     "output_type": "stream",
     "text": [
      "['data',\n",
      " 'description',\n",
      " 'mlmodel',\n",
      " 'prepare_data__memory',\n",
      " 'prepare_data__steps',\n",
      " 'prepare_data__verbose',\n",
      " 'prepare_data__nan_drpr',\n",
      " 'prepare_data__nan_drpr__key',\n",
      " 'prepare_data',\n",
      " 'preprocess_data',\n",
      " 'ycol',\n",
      " 'preprocessing',\n",
      " 'train',\n",
      " 'preprocessing__n_jobs',\n",
      " 'preprocessing__remainder',\n",
      " 'preprocessing__sparse_threshold',\n",
      " 'preprocessing__transformer_weights',\n",
      " 'preprocessing__transformers',\n",
      " 'preprocessing__verbose',\n",
      " 'preprocessing__enc',\n",
      " 'preprocessing__imp_scaler',\n",
      " 'preprocessing__scaler',\n",
      " 'preprocessing__pre_Name',\n",
      " 'preprocessing__pre_Cabin',\n",
      " 'preprocessing__pre_Ticket',\n",
      " 'preprocessing__Pre_SibSp',\n",
      " 'preprocessing__Pre_Parch',\n",
      " 'preprocessing__enc__categories',\n",
      " 'preprocessing__enc__drop',\n",
      " 'preprocessing__enc__dtype',\n",
      " 'preprocessing__enc__handle_unknown',\n",
      " 'preprocessing__enc__sparse',\n",
      " 'preprocessing__imp_scaler__memory',\n",
      " 'preprocessing__imp_scaler__steps',\n",
      " 'preprocessing__imp_scaler__verbose',\n",
      " 'preprocessing__imp_scaler__imp',\n",
      " 'preprocessing__imp_scaler__scaler',\n",
      " 'preprocessing__imp_scaler__imp__add_indicator',\n",
      " 'preprocessing__imp_scaler__imp__copy',\n",
      " 'preprocessing__imp_scaler__imp__fill_value',\n",
      " 'preprocessing__imp_scaler__imp__missing_values',\n",
      " 'preprocessing__imp_scaler__imp__strategy',\n",
      " 'preprocessing__imp_scaler__imp__verbose',\n",
      " 'preprocessing__imp_scaler__scaler__copy',\n",
      " 'preprocessing__imp_scaler__scaler__with_mean',\n",
      " 'preprocessing__imp_scaler__scaler__with_std',\n",
      " 'preprocessing__scaler__copy',\n",
      " 'preprocessing__scaler__with_mean',\n",
      " 'preprocessing__scaler__with_std',\n",
      " 'preprocessing__pre_Name__memory',\n",
      " 'preprocessing__pre_Name__steps',\n",
      " 'preprocessing__pre_Name__verbose',\n",
      " 'preprocessing__pre_Name__featurize',\n",
      " 'preprocessing__pre_Name__enc',\n",
      " 'preprocessing__pre_Name__featurize__accept_sparse',\n",
      " 'preprocessing__pre_Name__featurize__check_inverse',\n",
      " 'preprocessing__pre_Name__featurize__func',\n",
      " 'preprocessing__pre_Name__featurize__inv_kw_args',\n",
      " 'preprocessing__pre_Name__featurize__inverse_func',\n",
      " 'preprocessing__pre_Name__featurize__kw_args',\n",
      " 'preprocessing__pre_Name__featurize__validate',\n",
      " 'preprocessing__pre_Name__enc__categories',\n",
      " 'preprocessing__pre_Name__enc__drop',\n",
      " 'preprocessing__pre_Name__enc__dtype',\n",
      " 'preprocessing__pre_Name__enc__handle_unknown',\n",
      " 'preprocessing__pre_Name__enc__sparse',\n",
      " 'preprocessing__pre_Cabin__memory',\n",
      " 'preprocessing__pre_Cabin__steps',\n",
      " 'preprocessing__pre_Cabin__verbose',\n",
      " 'preprocessing__pre_Cabin__featurize',\n",
      " 'preprocessing__pre_Cabin__enc',\n",
      " 'preprocessing__pre_Cabin__featurize__accept_sparse',\n",
      " 'preprocessing__pre_Cabin__featurize__check_inverse',\n",
      " 'preprocessing__pre_Cabin__featurize__func',\n",
      " 'preprocessing__pre_Cabin__featurize__inv_kw_args',\n",
      " 'preprocessing__pre_Cabin__featurize__inverse_func',\n",
      " 'preprocessing__pre_Cabin__featurize__kw_args',\n",
      " 'preprocessing__pre_Cabin__featurize__validate',\n",
      " 'preprocessing__pre_Cabin__enc__categories',\n",
      " 'preprocessing__pre_Cabin__enc__drop',\n",
      " 'preprocessing__pre_Cabin__enc__dtype',\n",
      " 'preprocessing__pre_Cabin__enc__handle_unknown',\n",
      " 'preprocessing__pre_Cabin__enc__sparse',\n",
      " 'preprocessing__pre_Ticket__memory',\n",
      " 'preprocessing__pre_Ticket__steps',\n",
      " 'preprocessing__pre_Ticket__verbose',\n",
      " 'preprocessing__pre_Ticket__featurize',\n",
      " 'preprocessing__pre_Ticket__binarizer',\n",
      " 'preprocessing__pre_Ticket__featurize__accept_sparse',\n",
      " 'preprocessing__pre_Ticket__featurize__check_inverse',\n",
      " 'preprocessing__pre_Ticket__featurize__func',\n",
      " 'preprocessing__pre_Ticket__featurize__inv_kw_args',\n",
      " 'preprocessing__pre_Ticket__featurize__inverse_func',\n",
      " 'preprocessing__pre_Ticket__featurize__kw_args',\n",
      " 'preprocessing__pre_Ticket__featurize__validate',\n",
      " 'preprocessing__pre_Ticket__binarizer__accept_sparse',\n",
      " 'preprocessing__pre_Ticket__binarizer__check_inverse',\n",
      " 'preprocessing__pre_Ticket__binarizer__func',\n",
      " 'preprocessing__pre_Ticket__binarizer__inv_kw_args',\n",
      " 'preprocessing__pre_Ticket__binarizer__inverse_func',\n",
      " 'preprocessing__pre_Ticket__binarizer__kw_args',\n",
      " 'preprocessing__pre_Ticket__binarizer__validate',\n",
      " 'preprocessing__Pre_SibSp__memory',\n",
      " 'preprocessing__Pre_SibSp__steps',\n",
      " 'preprocessing__Pre_SibSp__verbose',\n",
      " 'preprocessing__Pre_SibSp__binner',\n",
      " 'preprocessing__Pre_SibSp__enc',\n",
      " 'preprocessing__Pre_SibSp__binner__accept_sparse',\n",
      " 'preprocessing__Pre_SibSp__binner__check_inverse',\n",
      " 'preprocessing__Pre_SibSp__binner__func',\n",
      " 'preprocessing__Pre_SibSp__binner__inv_kw_args',\n",
      " 'preprocessing__Pre_SibSp__binner__inverse_func',\n",
      " 'preprocessing__Pre_SibSp__binner__kw_args',\n",
      " 'preprocessing__Pre_SibSp__binner__validate',\n",
      " 'preprocessing__Pre_SibSp__enc__categories',\n",
      " 'preprocessing__Pre_SibSp__enc__drop',\n",
      " 'preprocessing__Pre_SibSp__enc__dtype',\n",
      " 'preprocessing__Pre_SibSp__enc__handle_unknown',\n",
      " 'preprocessing__Pre_SibSp__enc__sparse',\n",
      " 'preprocessing__Pre_Parch__memory',\n",
      " 'preprocessing__Pre_Parch__steps',\n",
      " 'preprocessing__Pre_Parch__verbose',\n",
      " 'preprocessing__Pre_Parch__binner',\n",
      " 'preprocessing__Pre_Parch__enc',\n",
      " 'preprocessing__Pre_Parch__binner__accept_sparse',\n",
      " 'preprocessing__Pre_Parch__binner__check_inverse',\n",
      " 'preprocessing__Pre_Parch__binner__func',\n",
      " 'preprocessing__Pre_Parch__binner__inv_kw_args',\n",
      " 'preprocessing__Pre_Parch__binner__inverse_func',\n",
      " 'preprocessing__Pre_Parch__binner__kw_args',\n",
      " 'preprocessing__Pre_Parch__binner__validate',\n",
      " 'preprocessing__Pre_Parch__enc__categories',\n",
      " 'preprocessing__Pre_Parch__enc__drop',\n",
      " 'preprocessing__Pre_Parch__enc__dtype',\n",
      " 'preprocessing__Pre_Parch__enc__handle_unknown',\n",
      " 'preprocessing__Pre_Parch__enc__sparse',\n",
      " 'train__bootstrap',\n",
      " 'train__ccp_alpha',\n",
      " 'train__class_weight',\n",
      " 'train__criterion',\n",
      " 'train__max_depth',\n",
      " 'train__max_features',\n",
      " 'train__max_leaf_nodes',\n",
      " 'train__max_samples',\n",
      " 'train__min_impurity_decrease',\n",
      " 'train__min_impurity_split',\n",
      " 'train__min_samples_leaf',\n",
      " 'train__min_samples_split',\n",
      " 'train__min_weight_fraction_leaf',\n",
      " 'train__n_estimators',\n",
      " 'train__n_jobs',\n",
      " 'train__oob_score',\n",
      " 'train__random_state',\n",
      " 'train__verbose',\n",
      " 'train__warm_start']\n"
     ]
    }
   ],
   "source": [
    "print_params(dp)"
   ]
  },
  {
   "cell_type": "code",
   "execution_count": 21,
   "metadata": {
    "ExecuteTime": {
     "end_time": "2020-05-06T10:35:23.893575Z",
     "start_time": "2020-05-06T10:35:23.885755Z"
    }
   },
   "outputs": [],
   "source": [
    "pg_preproc = {}"
   ]
  },
  {
   "cell_type": "code",
   "execution_count": 32,
   "metadata": {
    "ExecuteTime": {
     "end_time": "2020-05-06T10:49:03.825868Z",
     "start_time": "2020-05-06T10:49:03.815438Z"
    }
   },
   "outputs": [],
   "source": [
    "step = 'preprocessing' # just a shorthand s for step"
   ]
  },
  {
   "cell_type": "code",
   "execution_count": 39,
   "metadata": {
    "ExecuteTime": {
     "end_time": "2020-05-06T10:55:58.998436Z",
     "start_time": "2020-05-06T10:55:58.985751Z"
    }
   },
   "outputs": [],
   "source": [
    "from sklearn.impute import SimpleImputer\n",
    "from sklearn.base import BaseEstimator\n",
    "from copy import deepcopy"
   ]
  },
  {
   "cell_type": "code",
   "execution_count": 135,
   "metadata": {
    "ExecuteTime": {
     "end_time": "2020-05-06T15:03:08.148438Z",
     "start_time": "2020-05-06T15:03:08.107218Z"
    }
   },
   "outputs": [],
   "source": [
    "def gen_grid(temp_grid, step):\n",
    "    temp_grid = deepcopy(temp_grid) # Do I need this\n",
    "    \n",
    "    est_key = [k for k in temp_grid.keys() if k.startswith('__')][0].replace('__', '')\n",
    "    if step == '':\n",
    "        main_key = est_key\n",
    "    else:\n",
    "        main_key = f'{step}__{est_key}'\n",
    "        \n",
    "    res = {}\n",
    "    res[main_key] = temp_grid.pop(f'__{est_key}')\n",
    "    res.update({f'{main_key}__{k}': v for k, v in temp_grid.items()})\n",
    "    \n",
    "    return res"
   ]
  },
  {
   "cell_type": "code",
   "execution_count": 63,
   "metadata": {
    "ExecuteTime": {
     "end_time": "2020-05-06T11:01:16.212155Z",
     "start_time": "2020-05-06T11:01:16.199453Z"
    }
   },
   "outputs": [],
   "source": [
    "d = {'__imp': [SimpleImputer()] , 'strategy': ['mean', 'median']}"
   ]
  },
  {
   "cell_type": "code",
   "execution_count": 64,
   "metadata": {
    "ExecuteTime": {
     "end_time": "2020-05-06T11:01:16.437743Z",
     "start_time": "2020-05-06T11:01:16.428287Z"
    }
   },
   "outputs": [
    {
     "data": {
      "text/plain": [
       "{'preprocessing__imp': [SimpleImputer(add_indicator=False, copy=True, fill_value=None,\n",
       "                missing_values=nan, strategy='mean', verbose=0)],\n",
       " 'preprocessing__imp__strategy': ['mean', 'median']}"
      ]
     },
     "execution_count": 64,
     "metadata": {},
     "output_type": "execute_result"
    }
   ],
   "source": [
    "gen_grid(d, step='preprocessing')"
   ]
  },
  {
   "cell_type": "code",
   "execution_count": 66,
   "metadata": {
    "ExecuteTime": {
     "end_time": "2020-05-06T11:02:35.298805Z",
     "start_time": "2020-05-06T11:02:35.274510Z"
    }
   },
   "outputs": [],
   "source": [
    "# Type of imputation strategy for Age in SimpleImputer, \n",
    "# strategy=['mean', 'median'],  missing_indicator=[True, False]\n",
    "# This is mergable with ALL\n",
    "temp_preproc['SimpleImputer'] = {'__imp': [SimpleImputer()], 'strategy': ['mean', 'median']}\n",
    "pg_preproc['SimpleImputer'] = gen_grid(temp_preproc['SimpleImputer'], step='preprocessing')\n",
    "\n",
    "\n",
    "\n",
    "# Type of normalization strategy for Age i.e. StandardScaler, MinMaxScaler, MaxAbsScaler\n",
    "# This is mergable with ALL\n",
    "temp_preproc['StandardScaler__Age'] = {'__'}"
   ]
  },
  {
   "cell_type": "markdown",
   "metadata": {},
   "source": [
    "## Let's see what all we change in the ```train``` mlmodel step"
   ]
  },
  {
   "cell_type": "markdown",
   "metadata": {},
   "source": [
    "- [x] Apply various different classification algorithms directly first"
   ]
  },
  {
   "cell_type": "code",
   "execution_count": 217,
   "metadata": {
    "ExecuteTime": {
     "end_time": "2020-05-06T21:19:19.523610Z",
     "start_time": "2020-05-06T21:19:19.517171Z"
    }
   },
   "outputs": [],
   "source": [
    "from sklearn.linear_model import LogisticRegression, RidgeClassifier\n",
    "from sklearn.svm import SVC, LinearSVC\n",
    "from sklearn.tree import DecisionTreeClassifier, ExtraTreeClassifier\n",
    "from sklearn.ensemble import RandomForestClassifier, AdaBoostClassifier, GradientBoostingClassifier\n",
    "from sklearn.neighbors import KNeighborsClassifier"
   ]
  },
  {
   "cell_type": "code",
   "execution_count": 198,
   "metadata": {
    "ExecuteTime": {
     "end_time": "2020-05-06T20:37:37.663768Z",
     "start_time": "2020-05-06T20:37:37.654257Z"
    }
   },
   "outputs": [],
   "source": [
    "from IPython.display import Image"
   ]
  },
  {
   "cell_type": "markdown",
   "metadata": {},
   "source": [
    "## ```train``` mlmodel hyperparameters"
   ]
  },
  {
   "cell_type": "code",
   "execution_count": null,
   "metadata": {},
   "outputs": [],
   "source": [
    "param_grid = {}"
   ]
  },
  {
   "cell_type": "code",
   "execution_count": null,
   "metadata": {},
   "outputs": [],
   "source": [
    "classifiers = "
   ]
  },
  {
   "cell_type": "markdown",
   "metadata": {},
   "source": [
    "## ```LogisticRegression ```"
   ]
  },
  {
   "cell_type": "markdown",
   "metadata": {},
   "source": [
    "    The 'newton-cg', 'sag', and 'lbfgs' solvers support only L2 regularization\n",
    "    with primal formulation, or no regularization. The 'liblinear' solver\n",
    "    supports both L1 and L2 regularization, with a dual formulation only for\n",
    "    the L2 penalty. The Elastic-Net regularization is only supported by the\n",
    "    'saga' solver.\n",
    "    \n",
    "     - For small datasets, 'liblinear' is a good choice,"
   ]
  },
  {
   "cell_type": "code",
   "execution_count": 195,
   "metadata": {
    "ExecuteTime": {
     "end_time": "2020-05-06T19:39:57.805266Z",
     "start_time": "2020-05-06T19:39:57.789515Z"
    }
   },
   "outputs": [
    {
     "data": {
      "image/png": "[encoded data removed]",
      "text/plain": [
       "<IPython.core.display.Image object>"
      ]
     },
     "execution_count": 195,
     "metadata": {},
     "output_type": "execute_result"
    }
   ],
   "source": [
    "Image(\"../references/LogReg.png\")"
   ]
  },
  {
   "cell_type": "markdown",
   "metadata": {},
   "source": [
    "- `C` - Inverse of regularization strength \n",
    "    - Smaller value stronger regularization underfitting\n",
    "    - Good Default range to try - [0.01, 0.1, 1, 10]\n",
    "    - If features are highly correlated, try smaller values of ```C``` ?? (Really??)\n",
    "- `penalty` - Norm of regularization i.e. penalize squared norm L2 or absolute value L1 of parameters or both\n",
    "    - L1 will yield sparse solutions i.e. set certain parameters to zero and can also be used as \n",
    "    feature selection algorithm\n",
    "    - choices - {None, 'l1', 'l2', 'elasticnet'}\n",
    "    - None - no regularization\n",
    "    - elasticnet - both l1 and l2 are applied and relative strength is compared by `l1_ratio`\n",
    "        - `l1_ratio` - 1 is l1 (Lasso), and 0 is l2 (Ridge)\n",
    "        \n",
    "        $\\min_{w} \\frac{\\mathcal{C}}{2N} \\sum_{i=1}^{N} ||y - Xw ||^2_2 + \n",
    " l_1 \\text{ratio} ||w||_1 + 0.5 \\times (1 - l_1 \\text{ratio}) \\times ||w||_2^2$\n",
    " \n",
    " <font color=\"red\">**DOUBT**</font> : So do I need to specify `penalty` as l1 or l2 separately, or\n",
    " just setting the value of `l1_ratio` = 1 or 0 will do the trick?\n",
    "\n",
    "\n",
    "        \n",
    "- `class_weight` -  Weights associated with classes in the form {class_label: weight}\n",
    "    \n",
    "    - Default: None - all classes are supposed to have weight one.\n",
    "    - 'balanced'- Automatically adjust based on observed frquencies\n",
    "\n"
   ]
  },
  {
   "cell_type": "code",
   "execution_count": 110,
   "metadata": {
    "ExecuteTime": {
     "end_time": "2020-05-06T13:52:42.893932Z",
     "start_time": "2020-05-06T13:52:42.885700Z"
    }
   },
   "outputs": [],
   "source": [
    "def get_logreg_solver(penalty):\n",
    "    \n",
    "    # Yes None can be a dictionary key\n",
    "    # ref: t.ly/vZOv\n",
    "    {None: None}\n",
    "    \n",
    "    pass"
   ]
  },
  {
   "cell_type": "markdown",
   "metadata": {},
   "source": [
    "### Generate the param grid"
   ]
  },
  {
   "cell_type": "code",
   "execution_count": 147,
   "metadata": {
    "ExecuteTime": {
     "end_time": "2020-05-06T15:36:51.461559Z",
     "start_time": "2020-05-06T15:36:51.428296Z"
    }
   },
   "outputs": [],
   "source": [
    "temp_grid = {}\n",
    "\n",
    "# No regularization\n",
    "temp_grid['LogisticRegression_NoReg'] = {'__train': [LogisticRegression(max_iter=500)]}\n",
    "\n",
    "\n",
    "# L1 and L2 regularization\n",
    "# For small datasets, 'liblinear' is a good choice, \n",
    "# The 'liblinear' solver supports both L1 and L2 regularization\n",
    "C = [0.01, 0.1, 1, 10, 100]\n",
    "temp_grid['LogisticRegression_l1l2'] = {'__train': [LogisticRegression(max_iter=500)], \n",
    "                                        'penalty': ['l1', 'l2'], 'C': C, \n",
    "                                        'solver': ['liblinear']}\n",
    "\n",
    "# ElasticNet regularization\n",
    "temp_grid['LogisticRegression_elasnet'] = {'__train': [LogisticRegression(max_iter=500)],\n",
    "                                           'penalty': ['elasticnet'], 'C': C, 'l1_ratio': [0, 0.4, 0.8, 1],\n",
    "                                           'solver': ['saga']}\n"
   ]
  },
  {
   "cell_type": "code",
   "execution_count": 139,
   "metadata": {
    "ExecuteTime": {
     "end_time": "2020-05-06T15:13:40.969689Z",
     "start_time": "2020-05-06T15:13:40.949290Z"
    }
   },
   "outputs": [
    {
     "data": {
      "text/plain": [
       "{'train': LogisticRegression(C=1.0, class_weight=None, dual=False, fit_intercept=True,\n",
       "                    intercept_scaling=1, l1_ratio=None, max_iter=500,\n",
       "                    multi_class='auto', n_jobs=None, penalty='l2',\n",
       "                    random_state=None, solver='lbfgs', tol=0.0001, verbose=0,\n",
       "                    warm_start=False)}"
      ]
     },
     "execution_count": 139,
     "metadata": {},
     "output_type": "execute_result"
    }
   ],
   "source": [
    "gen_grid(temp_grid['LogisticRegression_NoReg'], step='')"
   ]
  },
  {
   "cell_type": "markdown",
   "metadata": {},
   "source": [
    "## ```RidgeClassifier```"
   ]
  },
  {
   "cell_type": "markdown",
   "metadata": {},
   "source": [
    "This classifier first converts the target values into `{-1, 1}` and\n",
    "then treats the problem as a regression task (multi-output regression in\n",
    "the multiclass case).\n",
    "\n",
    "    normalize : bool, default=False\n",
    "        This parameter is ignored when ``fit_intercept`` is set to False.\n",
    "        If True, the regressors X will be normalized before regression by\n",
    "        subtracting the mean and dividing by the l2-norm.\n",
    "        If you wish to standardize, please use\n",
    "        :class:`sklearn.preprocessing.StandardScaler` before calling ``fit``\n",
    "        on an estimator with ``normalize=False``.\n",
    "        \n",
    "**NOTE**- It is always advised to standardize before calling fit\n",
    "\n",
    "[Stackoverflow - What does sklearn RidgeClassifier do?](https://stackoverflow.com/questions/53911663/what-does-sklearn-ridgeclassifier-do/53912015)\n",
    "\n",
    "**[`RidgeClassifier()`](https://scikit-learn.org/stable/modules/generated/sklearn.linear_model.RidgeClassifier.html)** works differently compared to **[`LogisticRegression()`](https://scikit-learn.org/stable/modules/generated/sklearn.linear_model.LogisticRegression.html)** with l2 penalty. The loss function for `RidgeClassifier()` is not cross entropy. \n",
    "\n",
    "`RidgeClassifier()` uses [`Ridge()`](https://scikit-learn.org/stable/modules/generated/sklearn.linear_model.Ridge.html) regression model in the following way to create a classifier:\n",
    "\n",
    "Let us consider **binary classification** for simplicity.\n",
    "\n",
    "1.  Generate a target variable with value as `+1` or `-1` based on the class in which it belongs to. \n",
    "\n",
    "2.  Build a `Ridge()` regression model (which is a regression model) to predict our target variable. The loss function is `RMSE + l2 penality`\n",
    "\n",
    "3.  If the `Ridge()` regression's prediction value (calculated based on [**`decision_function()`**](https://github.com/scikit-learn/scikit-learn/blob/7389dbac82d362f296dc2746f10e43ffa1615660/sklearn/linear_model/base.py#L229) function) is greater than 0, then predict as positive class else negative class.\n",
    "\n",
    "For **multi-class classification**:\n",
    "\n",
    "1.  Use [**`LabelBinarizer()`**](https://scikit-learn.org/stable/modules/generated/sklearn.preprocessing.LabelBinarizer.html) to create a multi-output regression scenario, and then train independent `Ridge()` regression models, one for each class (One-Vs-Rest modelling). \n",
    "\n",
    "2.  Get prediction from each class's `Ridge()` regression model (a real number for each class) and then use `argmax` to predict the class."
   ]
  },
  {
   "cell_type": "markdown",
   "metadata": {},
   "source": [
    " - `alpha` - Strength of regularization\n",
    "     - higher value stronger regularization\n",
    "     - good default values - [0.01, 0.1, 1, 10, 100]\n",
    "     \n",
    " - `class_weight` -  Weights associated with classes in the form {class_label: weight}\n",
    "    \n",
    "    - Default: None - all classes are supposed to have weight one.\n",
    "    - 'balanced'- Automatically adjust based on observed frquencies\n"
   ]
  },
  {
   "cell_type": "markdown",
   "metadata": {},
   "source": [
    "### Generate param grid"
   ]
  },
  {
   "cell_type": "code",
   "execution_count": 148,
   "metadata": {
    "ExecuteTime": {
     "end_time": "2020-05-06T15:40:08.906296Z",
     "start_time": "2020-05-06T15:40:08.895790Z"
    }
   },
   "outputs": [],
   "source": [
    "alpha = [0.01, 0.1, 1, 10, 100]\n",
    "temp_grid['RidgeClassifier'] = {'__train': [RidgeClassifier()], 'alpha': [0.01, 0.1, 1, 10, 100]}"
   ]
  },
  {
   "cell_type": "markdown",
   "metadata": {},
   "source": [
    "## ```SVC``` - SupportVectorClassification\n",
    "\n",
    "The implementation is based on libsvm. The fit time scales at least\n",
    "quadratically with the number of samples and may be impractical\n",
    "beyond tens of thousands of samples. For large datasets\n",
    "consider using :class:`sklearn.svm.LinearSVC` or\n",
    ":class:`sklearn.linear_model.SGDClassifier` instead, possibly after a\n",
    ":class:`sklearn.kernel_approximation.Nystroem` transformer.\n",
    "\n",
    "- `C` - Inverse of regularization strength \n",
    "    - Smaller value stronger regularization\n",
    "    - Good Default range to try - [0.01, 0.1, 1, 10, 100]\n",
    "    - smaller value stronger regularization underfitting\n",
    "        - so smaller `C` implies harder margin as we penalize highly any\n",
    "        misclassified points in the margin\n",
    "        - larger `C` implies soft-margin\n",
    "        \n",
    "- `kernel` - Specifies the kernel type to be used in the algorithm.\n",
    "    - Default: 'rbf' - Choices ['linear', 'poly', 'rbf', 'sigmoid', 'precomputed'] or a callable\n",
    "    - So you can pass your own kernel as well\n",
    "    - linear is equivalent to `LinearSVC` but\n",
    "        - `LinearSVC` is more efficient for large datasets\n",
    "        \n",
    "- `gamma` -  how far the influence of a single training example reaches,\n",
    "    - with low values meaning ‘far’ and high values meaning ‘close’. \n",
    "    - inverse of the radius of influence of samples selected by the model as support vectors.\n",
    "    - good default values: [0.001, 0.01, 0.1, 1, 10]\n",
    "    - Kernel coefficient for 'rbf', 'poly' and 'sigmoid'.\n",
    "    \n",
    "- `class_weight` -  Weights associated with classes in the form {class_label: weight}\n",
    "    \n",
    "    - Default: None - all classes are supposed to have weight one.\n",
    "    - 'balanced'- Automatically adjust based on observed frquencies\n",
    "\n",
    "**NOTE:** \n",
    "- [RBF SVM parameters sklearn](https://scikit-learn.org/stable/auto_examples/svm/plot_rbf_parameters.html)\n",
    "- [coef0 parameter in SVM](https://stackoverflow.com/questions/21390570/scikit-learn-svc-coef0-parameter-range)\n"
   ]
  },
  {
   "cell_type": "markdown",
   "metadata": {},
   "source": [
    "[Why RandomizedSearch maybe useful](https://www.researchgate.net/post/Parameter_selection_for_RBF_and_polynomial_kernel_of_SVM-Is_the_best_c_Cost_parameter_the_same_for_both_kernels)"
   ]
  },
  {
   "cell_type": "markdown",
   "metadata": {},
   "source": [
    "### Generate param grid"
   ]
  },
  {
   "cell_type": "code",
   "execution_count": 211,
   "metadata": {
    "ExecuteTime": {
     "end_time": "2020-05-06T21:15:59.933477Z",
     "start_time": "2020-05-06T21:15:59.920109Z"
    }
   },
   "outputs": [],
   "source": [
    "# linear kernel\n",
    "temp_grid['SVC_linear'] = {'__train': SVC(), 'kernel': ['linear']}\n",
    "\n",
    "C = [0.01, 0.1, 1, 10, 100]\n",
    "gamma = [0.001, 0.01, 0.1, 1, 10]\n",
    "# rbf\n",
    "temp_grid['SVC_rbf'] = {'__train': SVC(), 'C': C, 'kernel': ['rbf'], 'gamma': gamma}\n",
    "\n",
    "# poly\n",
    "temp_grid['SVC_poly'] = {'__train': SVC(), 'C': C, 'kernel': ['poly'], 'gamma':gamma, 'degree':[2, 3, 4]}\n",
    "\n",
    "# sigmoid\n",
    "temp_grid['SVC_sigmoid'] = {'__train': SVC(), 'C': C, 'kernel': ['sigmoid'], 'gamma': gamma}"
   ]
  },
  {
   "cell_type": "markdown",
   "metadata": {},
   "source": [
    "## `DecisionTreeClassifier`"
   ]
  },
  {
   "cell_type": "markdown",
   "metadata": {},
   "source": [
    "[Medium - DecisionTree parameter tuning](https://medium.com/@mohtedibf/indepth-parameter-tuning-for-decision-tree-6753118a03c3)\n",
    "\n",
    "[Maximal Depth of a Decision Tree](https://stats.stackexchange.com/questions/65893/maximal-depth-of-a-decision-tree)\n",
    "The absolute maximum depth would be N−1, where N is the number of training samples. You can derive this by considering that the least effective split would be peeling off one training example per node.\n",
    "\n",
    "In practice, no sane algorithm would reach this point:\n",
    "\n",
    "* Most decision tree algorithms I've seen have multiple stopping criteria, including a user-defined depth and a minimum number of data points that it's willing to split on.  For example, [gbm](http://cran.r-project.org/web/packages/gbm/index.html)'s algorithm won't split nodes with 10 or fewer observations by default.\n",
    "\n",
    "* If the tree uses any reasonable splitting criterion, it will almost always split off more than one observation at a time.  That cuts down on the maximum depth pretty dramatically."
   ]
  },
  {
   "cell_type": "code",
   "execution_count": 154,
   "metadata": {
    "ExecuteTime": {
     "end_time": "2020-05-06T16:05:45.910271Z",
     "start_time": "2020-05-06T16:05:45.889569Z"
    }
   },
   "outputs": [
    {
     "data": {
      "text/plain": [
       "(889,)"
      ]
     },
     "execution_count": 154,
     "metadata": {},
     "output_type": "execute_result"
    }
   ],
   "source": [
    "dp.prepare()[1].shape"
   ]
  },
  {
   "cell_type": "markdown",
   "metadata": {},
   "source": [
    "So reasonable values for our `max_depth` would be [32, 64, 128, 256, None]?"
   ]
  },
  {
   "cell_type": "markdown",
   "metadata": {},
   "source": [
    "- `max_depth` : The maximum depth of the tree\n",
    "     - Default: None - nodes are expanded until all leaves are pure or until all\n",
    "     leaves contain less than `min_samples_split` samples\n",
    "     - How deep the tree can be\n",
    "     - deeper the tree more overfitting occurs, expanding till $N-1$ samples implies\n",
    "     it has memorized each and every sample\n",
    "     - Good default values - depends on the sample size\n",
    "     \n",
    "     \n",
    "- `min_samples_split`: Minimum number of samples required to split an internal node\n",
    "    - Default: 2 (`int`)\n",
    "    - Larger the threshold, the less overfitting occurs because it has to consider more\n",
    "    samples at each point\n",
    "    - if `int` is provided then it is the number of samples\n",
    "    - if `float` is provided then it the fraction of samples\n",
    "    - Good default values - [2, 5, 10, 20, 40]\n",
    "    - Good default values - [0.1, 0.2, ..., 0.5]\n",
    "    \n",
    "- `min_samples_leaf`: Minimum number of samples to consider it as a leaf node (hence stop splitting)\n",
    "    - a split point is considered only if leaves atleast `min_samples_leaf` samples\n",
    "    in each of the left and right branches\n",
    "    - Default: 1: since 2 samples can be split into 1 sample each in left and right branch\n",
    "    - if `int` is provided then it is the number of samples\n",
    "    - if `float` is provided then it the fraction of samples\n",
    "    - higher the thres\n",
    "    - Good default values - [2, 5, 10, 20, 40]\n",
    "    \n",
    "    \n",
    "- `max_features`: Maximum number of features to consider for a split\n",
    "    - candidate features are randomly sampled and best feature split point is chosen\n",
    "    using entropy or gini criteria\n",
    "    - Default: None - consider all features as candidate features\n",
    "    - Choices: ['sqrt', 'log2'] - sqrt or log2 of the total features\n",
    "    - Choice: ['auto'] - same as sqrt? (according to documentation)\n",
    "    - if `int` is provided then it is the number of features\n",
    "    - if `float` is provided then it the fraction of features\n",
    "    - Good default values - ['sqrt', 'log2', None, 0.1, 0.3, 0.5, 0.7]"
   ]
  },
  {
   "cell_type": "markdown",
   "metadata": {},
   "source": [
    "### Generate param grid"
   ]
  },
  {
   "cell_type": "code",
   "execution_count": 180,
   "metadata": {
    "ExecuteTime": {
     "end_time": "2020-05-06T18:24:36.979941Z",
     "start_time": "2020-05-06T18:24:36.974569Z"
    }
   },
   "outputs": [],
   "source": [
    "temp_grid['DecisionTreeClassifier'] = {'__train': [DecisionTreeClassifier()],\n",
    "                                       'max_depth': [32, 64, 128, 256, None],\n",
    "                                       'min_samples_split': [2, 5, 10, 20, 40, 0.1, 0.2, 0.3, 0.4, 0.5],\n",
    "                                       'min_samples_leaf': [2, 5, 10, 20, 40],\n",
    "                                       'max_features': ['sqrt', 'log2', None, 0.1, 0.3, 0.5, 0.7]}"
   ]
  },
  {
   "cell_type": "markdown",
   "metadata": {},
   "source": [
    "## `ExtraTreesClassifier`"
   ]
  },
  {
   "cell_type": "markdown",
   "metadata": {
    "ExecuteTime": {
     "end_time": "2020-05-06T20:05:10.714123Z",
     "start_time": "2020-05-06T20:05:10.704845Z"
    }
   },
   "source": [
    "    An extremely randomized tree classifier.\n",
    "\n",
    "    Extra-trees differ from classic decision trees in the way they are built.\n",
    "    When looking for the best split to separate the samples of a node into two\n",
    "    groups, random splits are drawn for each of the `max_features` randomly\n",
    "    selected features and the best split among those is chosen. When\n",
    "    `max_features` is set 1, this amounts to building a totally random\n",
    "    decision tree."
   ]
  },
  {
   "cell_type": "markdown",
   "metadata": {},
   "source": [
    "- `max_depth` : The maximum depth of the tree\n",
    "     - Default: None - nodes are expanded until all leaves are pure or until all\n",
    "     leaves contain less than `min_samples_split` samples\n",
    "     - How deep the tree can be\n",
    "     - deeper the tree more overfitting occurs, expanding till $N-1$ samples implies\n",
    "     it has memorized each and every sample\n",
    "     - Good default values - depends on the sample size\n",
    "     \n",
    "     \n",
    "- `min_samples_split`: Minimum number of samples required to split an internal node\n",
    "    - Default: 2 (`int`)\n",
    "    - Larger the threshold, the less overfitting occurs because it has to consider more\n",
    "    samples at each point\n",
    "    - if `int` is provided then it is the number of samples\n",
    "    - if `float` is provided then it the fraction of samples\n",
    "    - Good default values - [2, 5, 10, 20, 40]\n",
    "    - Good default values - [0.1, 0.2, 0.3, 0.4, 0.5]\n",
    "    \n",
    "- `min_samples_leaf`: Minimum number of samples to consider it as a leaf node (hence stop splitting)\n",
    "    - a split point is considered only if leaves atleast `min_samples_leaf` samples\n",
    "    in each of the left and right branches\n",
    "    - Default: 1: since 2 samples can be split into 1 sample each in left and right branch\n",
    "    - if `int` is provided then it is the number of samples\n",
    "    - if `float` is provided then it the fraction of samples\n",
    "    - higher the thres\n",
    "    - Good default values - [2, 5, 10, 20, 40]\n",
    "    \n",
    "    \n",
    "- `max_features`: Maximum number of features to consider for a split\n",
    "    - candidate features are randomly sampled and best feature split point is chosen\n",
    "    ~using entropy or gini criteria~ **by drawing (?many) random splits and selecting the best from them using the gini or entropy criteria**\n",
    "    - Faster than `RandomForestClassifier` and may even be better in case of Noise? (makes some sense)\n",
    "    - Default: None - consider all features as candidate features\n",
    "    - Choices: ['sqrt', 'log2'] - sqrt or log2 of the total features\n",
    "    - Choice: ['auto'] - same as sqrt? (according to documentation)\n",
    "    - if `int` is provided then it is the number of features\n",
    "    - if `float` is provided then it the fraction of features\n",
    "    - Good default values - ['sqrt', 'log2', None, 0.1, 0.3, 0.5, 0.7]\n",
    "    \n",
    "- `splitter`: Choose the best split or chose the best split from the randomly chosen splits\n",
    "    - Default: 'random' - Here it differs from the `DecisionTreeClassifier` which has the Default; 'best'\n"
   ]
  },
  {
   "cell_type": "markdown",
   "metadata": {},
   "source": [
    "### Generate param grid"
   ]
  },
  {
   "cell_type": "code",
   "execution_count": 180,
   "metadata": {
    "ExecuteTime": {
     "end_time": "2020-05-06T18:24:36.979941Z",
     "start_time": "2020-05-06T18:24:36.974569Z"
    }
   },
   "outputs": [],
   "source": [
    "temp_grid['ExtraTreesClassifier'] =   {'__train': [ExtraTreeClassifier()],\n",
    "                                       'max_depth': [32, 64, 128, 256, None],\n",
    "                                       'min_samples_split': [2, 5, 10, 20, 40, 0.1, 0.2, 0.3, 0.4, 0.5],\n",
    "                                       'min_samples_leaf': [2, 5, 10, 20, 40],\n",
    "                                       'max_features': ['sqrt', 'log2', None, 0.1, 0.3, 0.5, 0.7]}"
   ]
  },
  {
   "cell_type": "markdown",
   "metadata": {},
   "source": [
    "## `RandomForestClassifier`"
   ]
  },
  {
   "cell_type": "markdown",
   "metadata": {},
   "source": [
    "- `max_depth` : The maximum depth of the tree\n",
    "     - Default: None - nodes are expanded until all leaves are pure or until all\n",
    "     leaves contain less than `min_samples_split` samples\n",
    "     - How deep the tree can be\n",
    "     - deeper the tree more overfitting occurs, expanding till $N-1$ samples implies\n",
    "     it has memorized each and every sample\n",
    "     - Good default values - depends on the sample size \n",
    "     \n",
    "     \n",
    "- `min_samples_split`: Minimum number of samples required to split an internal node\n",
    "    - Default: 2 (`int`)\n",
    "    - Larger the threshold, the less overfitting occurs because it has to consider more\n",
    "    samples at each point\n",
    "    - if `int` is provided then it is the number of samples\n",
    "    - if `float` is provided then it the fraction of samples\n",
    "    - Good default values - [2, 5, 10, 20, 40]\n",
    "    - Good default values - [0.1, 0.2, ..., 0.5]\n",
    "    \n",
    "- `min_samples_leaf`: Minimum number of samples to consider it as a leaf node (hence stop splitting)\n",
    "    - a split point is considered only if leaves atleast `min_samples_leaf` samples\n",
    "    in each of the left and right branches\n",
    "    - Default: 1: since 2 samples can be split into 1 sample each in left and right branch\n",
    "    - if `int` is provided then it is the number of samples\n",
    "    - if `float` is provided then it the fraction of samples\n",
    "    - higher the thres\n",
    "    - Good default values - [2, 5, 10, 20, 40]\n",
    "    \n",
    "    \n",
    "- `max_features`: Maximum number of features to consider for a split\n",
    "    - candidate features are randomly sampled and best feature split point is chosen\n",
    "    using entropy or gini criteria\n",
    "    - Default: None - consider all features as candidate features\n",
    "    - Choices: ['sqrt', 'log2'] - sqrt or log2 of the total features\n",
    "    - Choice: ['auto'] - same as sqrt? (according to documentation)\n",
    "    - if `int` is provided then it is the number of features\n",
    "    - if `float` is provided then it the fraction of features\n",
    "    - Good default values - ['sqrt', 'log2', None, 0.1, 0.3, 0.5, 0.7]\n",
    "    \n",
    "- `n_estimators`- The number of trees in the forest\n",
    "    - Default: 100\n",
    "    - [No, more trees does not lead to overfitting](https://datascience.stackexchange.com/questions/1028/do-random-forest-overfit)\n",
    "    - After a certain point the generalization error doesn't reduce as much\n",
    "- `bootstrap` - Whether to use all the samples or take a bootstrapped sample\n",
    "    - Default: True"
   ]
  },
  {
   "cell_type": "code",
   "execution_count": 188,
   "metadata": {
    "ExecuteTime": {
     "end_time": "2020-05-06T19:13:17.695007Z",
     "start_time": "2020-05-06T19:13:17.676724Z"
    }
   },
   "outputs": [],
   "source": [
    "temp_grid['RandomForestClassifier'] = {'__train': [RandomForestClassifier()],\n",
    "                                       'max_depth': [32, 64, 128, 256, None],\n",
    "                                       'min_samples_split': [2, 5, 10, 20, 40, 0.1, 0.2, 0.3, 0.4, 0.5],\n",
    "                                       'min_samples_leaf': [2, 5, 10, 20, 40],\n",
    "                                       'max_features': ['sqrt', 'log2', None, 0.1, 0.3, 0.5, 0.7],\n",
    "                                       'bootstrap': [True, False],\n",
    "                                       'n_estimators': [10, 50, 100, 500, 1000],\n",
    "                                       'oob_score': [True, False]}"
   ]
  },
  {
   "cell_type": "markdown",
   "metadata": {},
   "source": [
    "## `AdaBoostClassifier`"
   ]
  },
  {
   "cell_type": "markdown",
   "metadata": {},
   "source": [
    "### Trade-off between learning rate and number of estimators\n",
    "In the 1999 paper “[Greedy Function Approximation: A Gradient Boosting Machine](https://statweb.stanford.edu/~jhf/ftp/trebst.pdf)“, Jerome Friedman comments on the trade-off between the number of trees (M) and the learning rate (v):\n",
    "\n",
    "> The v-M trade-off is clearly evident; smaller values of v give rise to larger optimal M-values. They also provide higher accuracy, with a diminishing return for v < 0.125. The misclassification error rate is very flat for M > 200, so that optimal M-values for it are unstable. …  the qualitative nature of these results is fairly universal."
   ]
  },
  {
   "cell_type": "markdown",
   "metadata": {},
   "source": [
    "- `base_estimator`: The base estimator from which the boosted ensemble is built.\n",
    "    - Default: None (`DecisionTreeClassifier`) - Could be any classifier, like `SVC`\n",
    "- `n_estimators` : The maximum number of estimators at which boosting is terminated\n",
    "    - In case of perfect fit, the learning procedure is stopped early.\n",
    "    - Default: 50\n",
    "- `learning_rate` : The fraction by which to shrink the contribution of each classifier\n",
    "    - There is a tradeoff between `learning_rate` and `n_estimators`\n",
    "    - more we shrink the contribution of each estimator, more estimators we are gonna require\n",
    "    - Good default values: [0.01, 0.05, 0.1, 0.3, 1]\n"
   ]
  },
  {
   "cell_type": "code",
   "execution_count": 202,
   "metadata": {
    "ExecuteTime": {
     "end_time": "2020-05-06T21:09:57.733156Z",
     "start_time": "2020-05-06T21:09:57.723036Z"
    }
   },
   "outputs": [],
   "source": [
    "from copy import deepcopy"
   ]
  },
  {
   "cell_type": "markdown",
   "metadata": {},
   "source": [
    "### Generate param grid"
   ]
  },
  {
   "cell_type": "code",
   "execution_count": 226,
   "metadata": {
    "ExecuteTime": {
     "end_time": "2020-05-06T21:24:52.974655Z",
     "start_time": "2020-05-06T21:24:52.953763Z"
    }
   },
   "outputs": [],
   "source": [
    "base_ada_grid = {\n",
    "                  'n_estimators': [10, 50, 100, 500, 1000],\n",
    "                  'learning_rate': [0.01, 0.05, 0.1, 0.3, 1]\n",
    "                }\n",
    "# base_estimator is DecisionTreeClassier\n",
    "temp_grid['AdaBoostClassifier_DT'] =   {'__train': [AdaBoostClassifier()],\n",
    "                                        'base_estimator': DecisionTreeClassifier(),\n",
    "                                        'base_estimator__max_depth': [32, 64, 128, 256, None],\n",
    "                                        'base_estimator__min_samples_split': [2, 5, 10, 20, 40, \n",
    "                                                                              0.1, 0.2, 0.3, 0.4, 0.5],\n",
    "                                        'base_estimator__min_samples_leaf': [2, 5, 10, 20, 40],\n",
    "                                        'base_estimator__max_features': ['sqrt', 'log2', None, 0.1, 0.3, 0.5, 0.7]}\n",
    "\n",
    "temp_grid['AdaBoostClassifier_DT'].update(deepcopy(base_ada_grid))\n",
    "\n",
    "\n",
    "# base_estimator is SVC\n",
    "ada_grid = {}\n",
    "# linear kernel\n",
    "ada_grid['SVC_linear'] = {'base_estimator': SVC(), 'kernel' : ['linear']}\n",
    "\n",
    "C = [0.01, 0.1, 1, 10, 100]\n",
    "gamma = [0.001, 0.01, 0.1, 1, 10]\n",
    "\n",
    "# rbf\n",
    "ada_grid['SVC_rbf'] = {'base_estimator': SVC(), 'base_estimator__C': C, \n",
    "                       'base_estimator__kernel': ['rbf'], 'base_estimator__gamma': gamma}\n",
    "\n",
    "# poly\n",
    "ada_grid['SVC_poly'] = {'base_estimator': SVC(), 'base_estimator__C': C, \n",
    "                        'base_estimator__kernel': ['poly'], 'base_estimator__gamma':gamma, \n",
    "                        'base_estimator__degree':[2, 3, 4]}\n",
    "\n",
    "# sigmoid\n",
    "ada_grid['SVC_sigmoid'] = {'base_estimator': SVC(), 'base_estimator__C': C, \n",
    "                           'base_estimator__kernel': ['sigmoid'], 'base_estimator__gamma': gamma}\n",
    "\n",
    "\n",
    "                                      \n",
    "\n",
    "for k, v in ada_grid.items():\n",
    "    v.update(deepcopy(base_ada_grid))\n",
    "    v.update({'__train': [AdaBoostClassifier()]})\n",
    "    temp_grid[f'AdaBoostClassifier_{k}'] = v"
   ]
  },
  {
   "cell_type": "markdown",
   "metadata": {},
   "source": [
    "## `KNeighborsClassifier`"
   ]
  },
  {
   "cell_type": "markdown",
   "metadata": {
    "ExecuteTime": {
     "end_time": "2020-05-06T21:31:59.545819Z",
     "start_time": "2020-05-06T21:31:59.542534Z"
    }
   },
   "source": [
    "- `n_neighbors` - Number of neighboring samples to consider\n",
    "    - Default: 5\n",
    "    - As `n_neighbors` increase, we tend to underfit, we have a high bias problem\n",
    "    - Too less `n_neighbors`, we overfit, and we have a high variance problem\n",
    "    - <font color=\"red\">**Doubt**</font>: Is `n_neighbors=1` ever a good choice?\n",
    "    - Good Default choices : [1, 3, 5, ...21], but consider odd neighbors\n",
    "    \n",
    "- `p` - The parameter for the Minkowski distance\n",
    "    - Default: 2 - Euclidian, 1 - Manhattan"
   ]
  },
  {
   "cell_type": "code",
   "execution_count": 233,
   "metadata": {
    "ExecuteTime": {
     "end_time": "2020-05-06T21:42:59.336555Z",
     "start_time": "2020-05-06T21:42:59.325574Z"
    }
   },
   "outputs": [],
   "source": [
    "temp_grid['KNeighborsClassifier'] = {'__train': [KNeighborsClassifier()],\n",
    "                                     'n_neighbors': range(1, 21, 2),\n",
    "                                     'p' : [1, 2, 3, 4]}"
   ]
  }
 ],
 "metadata": {
  "kernelspec": {
   "display_name": "Python [conda env:titansurv] *",
   "language": "python",
   "name": "conda-env-titansurv-py"
  },
  "language_info": {
   "codemirror_mode": {
    "name": "ipython",
    "version": 3
   },
   "file_extension": ".py",
   "mimetype": "text/x-python",
   "name": "python",
   "nbconvert_exporter": "python",
   "pygments_lexer": "ipython3",
   "version": "3.8.2"
  },
  "toc": {
   "base_numbering": 1,
   "nav_menu": {},
   "number_sections": true,
   "sideBar": true,
   "skip_h1_title": false,
   "title_cell": "Table of Contents",
   "title_sidebar": "Contents",
   "toc_cell": false,
   "toc_position": {},
   "toc_section_display": true,
   "toc_window_display": false
  }
 },
 "nbformat": 4,
 "nbformat_minor": 2
}
