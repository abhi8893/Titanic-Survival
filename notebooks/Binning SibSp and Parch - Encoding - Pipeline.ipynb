{
 "cells": [
  {
   "cell_type": "markdown",
   "metadata": {},
   "source": [
    "# Experimenting with binning SibSp and Parch"
   ]
  },
  {
   "cell_type": "code",
   "execution_count": 1,
   "metadata": {},
   "outputs": [],
   "source": [
    "from sklearn.base import BaseEstimator, ClassifierMixin\n",
    "import pandas as pd\n",
    "import numpy as np\n",
    "from sklearn.preprocessing import FunctionTransformer"
   ]
  },
  {
   "cell_type": "code",
   "execution_count": 2,
   "metadata": {},
   "outputs": [],
   "source": [
    "df = pd.read_csv(\"../data/raw/train.csv\").drop('PassengerId', axis=1)\n",
    "dfX = df.drop([\"Survived\"], axis=1)\n",
    "dfy = df.Survived\n"
   ]
  },
  {
   "cell_type": "code",
   "execution_count": 3,
   "metadata": {},
   "outputs": [
    {
     "data": {
      "text/html": [
       "<div>\n",
       "<style scoped>\n",
       "    .dataframe tbody tr th:only-of-type {\n",
       "        vertical-align: middle;\n",
       "    }\n",
       "\n",
       "    .dataframe tbody tr th {\n",
       "        vertical-align: top;\n",
       "    }\n",
       "\n",
       "    .dataframe thead th {\n",
       "        text-align: right;\n",
       "    }\n",
       "</style>\n",
       "<table border=\"1\" class=\"dataframe\">\n",
       "  <thead>\n",
       "    <tr style=\"text-align: right;\">\n",
       "      <th></th>\n",
       "      <th>Survived</th>\n",
       "      <th>Pclass</th>\n",
       "      <th>Name</th>\n",
       "      <th>Sex</th>\n",
       "      <th>Age</th>\n",
       "      <th>SibSp</th>\n",
       "      <th>Parch</th>\n",
       "      <th>Ticket</th>\n",
       "      <th>Fare</th>\n",
       "      <th>Cabin</th>\n",
       "      <th>Embarked</th>\n",
       "    </tr>\n",
       "  </thead>\n",
       "  <tbody>\n",
       "    <tr>\n",
       "      <th>0</th>\n",
       "      <td>0</td>\n",
       "      <td>3</td>\n",
       "      <td>Braund, Mr. Owen Harris</td>\n",
       "      <td>male</td>\n",
       "      <td>22.0</td>\n",
       "      <td>1</td>\n",
       "      <td>0</td>\n",
       "      <td>A/5 21171</td>\n",
       "      <td>7.2500</td>\n",
       "      <td>NaN</td>\n",
       "      <td>S</td>\n",
       "    </tr>\n",
       "    <tr>\n",
       "      <th>1</th>\n",
       "      <td>1</td>\n",
       "      <td>1</td>\n",
       "      <td>Cumings, Mrs. John Bradley (Florence Briggs Th...</td>\n",
       "      <td>female</td>\n",
       "      <td>38.0</td>\n",
       "      <td>1</td>\n",
       "      <td>0</td>\n",
       "      <td>PC 17599</td>\n",
       "      <td>71.2833</td>\n",
       "      <td>C85</td>\n",
       "      <td>C</td>\n",
       "    </tr>\n",
       "    <tr>\n",
       "      <th>2</th>\n",
       "      <td>1</td>\n",
       "      <td>3</td>\n",
       "      <td>Heikkinen, Miss. Laina</td>\n",
       "      <td>female</td>\n",
       "      <td>26.0</td>\n",
       "      <td>0</td>\n",
       "      <td>0</td>\n",
       "      <td>STON/O2. 3101282</td>\n",
       "      <td>7.9250</td>\n",
       "      <td>NaN</td>\n",
       "      <td>S</td>\n",
       "    </tr>\n",
       "    <tr>\n",
       "      <th>3</th>\n",
       "      <td>1</td>\n",
       "      <td>1</td>\n",
       "      <td>Futrelle, Mrs. Jacques Heath (Lily May Peel)</td>\n",
       "      <td>female</td>\n",
       "      <td>35.0</td>\n",
       "      <td>1</td>\n",
       "      <td>0</td>\n",
       "      <td>113803</td>\n",
       "      <td>53.1000</td>\n",
       "      <td>C123</td>\n",
       "      <td>S</td>\n",
       "    </tr>\n",
       "    <tr>\n",
       "      <th>4</th>\n",
       "      <td>0</td>\n",
       "      <td>3</td>\n",
       "      <td>Allen, Mr. William Henry</td>\n",
       "      <td>male</td>\n",
       "      <td>35.0</td>\n",
       "      <td>0</td>\n",
       "      <td>0</td>\n",
       "      <td>373450</td>\n",
       "      <td>8.0500</td>\n",
       "      <td>NaN</td>\n",
       "      <td>S</td>\n",
       "    </tr>\n",
       "    <tr>\n",
       "      <th>...</th>\n",
       "      <td>...</td>\n",
       "      <td>...</td>\n",
       "      <td>...</td>\n",
       "      <td>...</td>\n",
       "      <td>...</td>\n",
       "      <td>...</td>\n",
       "      <td>...</td>\n",
       "      <td>...</td>\n",
       "      <td>...</td>\n",
       "      <td>...</td>\n",
       "      <td>...</td>\n",
       "    </tr>\n",
       "    <tr>\n",
       "      <th>886</th>\n",
       "      <td>0</td>\n",
       "      <td>2</td>\n",
       "      <td>Montvila, Rev. Juozas</td>\n",
       "      <td>male</td>\n",
       "      <td>27.0</td>\n",
       "      <td>0</td>\n",
       "      <td>0</td>\n",
       "      <td>211536</td>\n",
       "      <td>13.0000</td>\n",
       "      <td>NaN</td>\n",
       "      <td>S</td>\n",
       "    </tr>\n",
       "    <tr>\n",
       "      <th>887</th>\n",
       "      <td>1</td>\n",
       "      <td>1</td>\n",
       "      <td>Graham, Miss. Margaret Edith</td>\n",
       "      <td>female</td>\n",
       "      <td>19.0</td>\n",
       "      <td>0</td>\n",
       "      <td>0</td>\n",
       "      <td>112053</td>\n",
       "      <td>30.0000</td>\n",
       "      <td>B42</td>\n",
       "      <td>S</td>\n",
       "    </tr>\n",
       "    <tr>\n",
       "      <th>888</th>\n",
       "      <td>0</td>\n",
       "      <td>3</td>\n",
       "      <td>Johnston, Miss. Catherine Helen \"Carrie\"</td>\n",
       "      <td>female</td>\n",
       "      <td>NaN</td>\n",
       "      <td>1</td>\n",
       "      <td>2</td>\n",
       "      <td>W./C. 6607</td>\n",
       "      <td>23.4500</td>\n",
       "      <td>NaN</td>\n",
       "      <td>S</td>\n",
       "    </tr>\n",
       "    <tr>\n",
       "      <th>889</th>\n",
       "      <td>1</td>\n",
       "      <td>1</td>\n",
       "      <td>Behr, Mr. Karl Howell</td>\n",
       "      <td>male</td>\n",
       "      <td>26.0</td>\n",
       "      <td>0</td>\n",
       "      <td>0</td>\n",
       "      <td>111369</td>\n",
       "      <td>30.0000</td>\n",
       "      <td>C148</td>\n",
       "      <td>C</td>\n",
       "    </tr>\n",
       "    <tr>\n",
       "      <th>890</th>\n",
       "      <td>0</td>\n",
       "      <td>3</td>\n",
       "      <td>Dooley, Mr. Patrick</td>\n",
       "      <td>male</td>\n",
       "      <td>32.0</td>\n",
       "      <td>0</td>\n",
       "      <td>0</td>\n",
       "      <td>370376</td>\n",
       "      <td>7.7500</td>\n",
       "      <td>NaN</td>\n",
       "      <td>Q</td>\n",
       "    </tr>\n",
       "  </tbody>\n",
       "</table>\n",
       "<p>891 rows × 11 columns</p>\n",
       "</div>"
      ],
      "text/plain": [
       "     Survived  Pclass                                               Name  \\\n",
       "0           0       3                            Braund, Mr. Owen Harris   \n",
       "1           1       1  Cumings, Mrs. John Bradley (Florence Briggs Th...   \n",
       "2           1       3                             Heikkinen, Miss. Laina   \n",
       "3           1       1       Futrelle, Mrs. Jacques Heath (Lily May Peel)   \n",
       "4           0       3                           Allen, Mr. William Henry   \n",
       "..        ...     ...                                                ...   \n",
       "886         0       2                              Montvila, Rev. Juozas   \n",
       "887         1       1                       Graham, Miss. Margaret Edith   \n",
       "888         0       3           Johnston, Miss. Catherine Helen \"Carrie\"   \n",
       "889         1       1                              Behr, Mr. Karl Howell   \n",
       "890         0       3                                Dooley, Mr. Patrick   \n",
       "\n",
       "        Sex   Age  SibSp  Parch            Ticket     Fare Cabin Embarked  \n",
       "0      male  22.0      1      0         A/5 21171   7.2500   NaN        S  \n",
       "1    female  38.0      1      0          PC 17599  71.2833   C85        C  \n",
       "2    female  26.0      0      0  STON/O2. 3101282   7.9250   NaN        S  \n",
       "3    female  35.0      1      0            113803  53.1000  C123        S  \n",
       "4      male  35.0      0      0            373450   8.0500   NaN        S  \n",
       "..      ...   ...    ...    ...               ...      ...   ...      ...  \n",
       "886    male  27.0      0      0            211536  13.0000   NaN        S  \n",
       "887  female  19.0      0      0            112053  30.0000   B42        S  \n",
       "888  female   NaN      1      2        W./C. 6607  23.4500   NaN        S  \n",
       "889    male  26.0      0      0            111369  30.0000  C148        C  \n",
       "890    male  32.0      0      0            370376   7.7500   NaN        Q  \n",
       "\n",
       "[891 rows x 11 columns]"
      ]
     },
     "execution_count": 3,
     "metadata": {},
     "output_type": "execute_result"
    }
   ],
   "source": [
    "df"
   ]
  },
  {
   "cell_type": "code",
   "execution_count": 5,
   "metadata": {},
   "outputs": [
    {
     "data": {
      "text/plain": [
       "0    608\n",
       "1    209\n",
       "2     28\n",
       "4     18\n",
       "3     16\n",
       "8      7\n",
       "5      5\n",
       "Name: SibSp, dtype: int64"
      ]
     },
     "execution_count": 5,
     "metadata": {},
     "output_type": "execute_result"
    }
   ],
   "source": [
    "df.SibSp.value_counts()"
   ]
  },
  {
   "cell_type": "code",
   "execution_count": 6,
   "metadata": {},
   "outputs": [],
   "source": [
    "def FE_SibSp(arr: np.array):\n",
    "    arr = arr.copy()\n",
    "    arr[arr>1] = 2\n",
    "    if len(arr.shape) == 1:\n",
    "        arr = arr.reshape(-1, 1)\n",
    "    return arr"
   ]
  },
  {
   "cell_type": "code",
   "execution_count": 7,
   "metadata": {},
   "outputs": [
    {
     "data": {
      "text/plain": [
       "0    678\n",
       "1    118\n",
       "2     80\n",
       "5      5\n",
       "3      5\n",
       "4      4\n",
       "6      1\n",
       "Name: Parch, dtype: int64"
      ]
     },
     "execution_count": 7,
     "metadata": {},
     "output_type": "execute_result"
    }
   ],
   "source": [
    "df.Parch.value_counts()"
   ]
  },
  {
   "cell_type": "code",
   "execution_count": 8,
   "metadata": {},
   "outputs": [],
   "source": [
    "def FE_Parch(arr: np.array):\n",
    "    arr = arr.copy()\n",
    "    arr[arr>1] = 2\n",
    "    if len(arr.shape) == 1:\n",
    "        arr = arr.reshape(-1, 1)\n",
    "    return arr"
   ]
  },
  {
   "cell_type": "code",
   "execution_count": 4,
   "metadata": {},
   "outputs": [],
   "source": [
    "import sys\n",
    "sys.path.append(\"../\")"
   ]
  },
  {
   "cell_type": "code",
   "execution_count": 9,
   "metadata": {},
   "outputs": [],
   "source": [
    "from titansurv.preprocessing import NaNDropper\n",
    "from sklearn.pipeline import Pipeline"
   ]
  },
  {
   "cell_type": "code",
   "execution_count": 10,
   "metadata": {},
   "outputs": [],
   "source": [
    "pre1 = Pipeline([\n",
    "    ('nan_drpr', NaNDropper(['Embarked']))\n",
    "])\n",
    "\n",
    "dfX, dfy = pre1.fit_transform(dfX, dfy)"
   ]
  },
  {
   "cell_type": "code",
   "execution_count": 11,
   "metadata": {},
   "outputs": [],
   "source": [
    "from sklearn.preprocessing import OneHotEncoder, StandardScaler\n",
    "from sklearn.impute import SimpleImputer\n",
    "from sklearn.compose import ColumnTransformer"
   ]
  },
  {
   "cell_type": "code",
   "execution_count": 12,
   "metadata": {},
   "outputs": [],
   "source": [
    "pre2 = Pipeline([\n",
    "    ('imp', SimpleImputer()),\n",
    "    ('scaler', StandardScaler())\n",
    "], 'passthrough')\n",
    "\n",
    "pre3 = Pipeline([\n",
    "    ('binner', FunctionTransformer(FE_SibSp)),\n",
    "    ('enc', OneHotEncoder(drop='first'))\n",
    "])\n",
    "\n",
    "pre4 = Pipeline([\n",
    "    ('binner', FunctionTransformer(FE_Parch)),\n",
    "    ('enc', OneHotEncoder(drop='first'))\n",
    "])\n",
    "\n",
    "\n",
    "\n",
    "precomb1 = ColumnTransformer([\n",
    "    ('clmn_drpr', 'drop', ['Name', 'Ticket', 'Cabin']),\n",
    "    ('enc', OneHotEncoder(drop='first'), ['Sex', 'Embarked']),\n",
    "    ('imp_scaler', pre2, ['Age', 'Fare']),\n",
    "    ('bin_enc_1', pre3, ['SibSp']),\n",
    "    ('bin_enc_2', pre4, ['Parch'])\n",
    "], 'passthrough')"
   ]
  },
  {
   "cell_type": "code",
   "execution_count": 13,
   "metadata": {},
   "outputs": [
    {
     "data": {
      "text/plain": [
       "(889, 10)"
      ]
     },
     "execution_count": 13,
     "metadata": {},
     "output_type": "execute_result"
    }
   ],
   "source": [
    "precomb1.fit_transform(dfX, dfy).shape"
   ]
  },
  {
   "cell_type": "code",
   "execution_count": 14,
   "metadata": {},
   "outputs": [],
   "source": [
    "from sklearn.linear_model import LogisticRegression\n",
    "from sklearn.ensemble import RandomForestClassifier"
   ]
  },
  {
   "cell_type": "code",
   "execution_count": 15,
   "metadata": {},
   "outputs": [],
   "source": [
    "pipe = Pipeline([\n",
    "    ('preprocess', precomb1),\n",
    "    ('clf', RandomForestClassifier())\n",
    "])"
   ]
  },
  {
   "cell_type": "code",
   "execution_count": 16,
   "metadata": {},
   "outputs": [],
   "source": [
    "pipe.fit(dfX, dfy);"
   ]
  },
  {
   "cell_type": "code",
   "execution_count": 17,
   "metadata": {},
   "outputs": [
    {
     "data": {
      "text/plain": [
       "0.9820022497187851"
      ]
     },
     "execution_count": 17,
     "metadata": {},
     "output_type": "execute_result"
    }
   ],
   "source": [
    "pipe.score(dfX, dfy)"
   ]
  },
  {
   "cell_type": "code",
   "execution_count": 18,
   "metadata": {},
   "outputs": [
    {
     "data": {
      "text/plain": [
       "0.8065384371230877"
      ]
     },
     "execution_count": 18,
     "metadata": {},
     "output_type": "execute_result"
    }
   ],
   "source": [
    "from sklearn.model_selection import cross_val_score\n",
    "cross_val_score(pipe, dfX, dfy).mean()"
   ]
  },
  {
   "cell_type": "code",
   "execution_count": 171,
   "metadata": {},
   "outputs": [],
   "source": [
    "from titansurv.utils import print_params"
   ]
  },
  {
   "cell_type": "code",
   "execution_count": 174,
   "metadata": {
    "collapsed": true
   },
   "outputs": [
    {
     "name": "stdout",
     "output_type": "stream",
     "text": [
      "['memory',\n",
      " 'steps',\n",
      " 'verbose',\n",
      " 'preprocess',\n",
      " 'clf',\n",
      " 'preprocess__n_jobs',\n",
      " 'preprocess__remainder',\n",
      " 'preprocess__sparse_threshold',\n",
      " 'preprocess__transformer_weights',\n",
      " 'preprocess__transformers',\n",
      " 'preprocess__verbose',\n",
      " 'preprocess__clmn_drpr',\n",
      " 'preprocess__enc',\n",
      " 'preprocess__imp_scaler',\n",
      " 'preprocess__bin_enc_1',\n",
      " 'preprocess__bin_enc_2',\n",
      " 'preprocess__enc__categories',\n",
      " 'preprocess__enc__drop',\n",
      " 'preprocess__enc__dtype',\n",
      " 'preprocess__enc__handle_unknown',\n",
      " 'preprocess__enc__sparse',\n",
      " 'preprocess__imp_scaler__memory',\n",
      " 'preprocess__imp_scaler__steps',\n",
      " 'preprocess__imp_scaler__verbose',\n",
      " 'preprocess__imp_scaler__imp',\n",
      " 'preprocess__imp_scaler__scaler',\n",
      " 'preprocess__imp_scaler__imp__add_indicator',\n",
      " 'preprocess__imp_scaler__imp__copy',\n",
      " 'preprocess__imp_scaler__imp__fill_value',\n",
      " 'preprocess__imp_scaler__imp__missing_values',\n",
      " 'preprocess__imp_scaler__imp__strategy',\n",
      " 'preprocess__imp_scaler__imp__verbose',\n",
      " 'preprocess__imp_scaler__scaler__copy',\n",
      " 'preprocess__imp_scaler__scaler__with_mean',\n",
      " 'preprocess__imp_scaler__scaler__with_std',\n",
      " 'preprocess__bin_enc_1__memory',\n",
      " 'preprocess__bin_enc_1__steps',\n",
      " 'preprocess__bin_enc_1__verbose',\n",
      " 'preprocess__bin_enc_1__binner',\n",
      " 'preprocess__bin_enc_1__enc',\n",
      " 'preprocess__bin_enc_1__binner__accept_sparse',\n",
      " 'preprocess__bin_enc_1__binner__check_inverse',\n",
      " 'preprocess__bin_enc_1__binner__func',\n",
      " 'preprocess__bin_enc_1__binner__inv_kw_args',\n",
      " 'preprocess__bin_enc_1__binner__inverse_func',\n",
      " 'preprocess__bin_enc_1__binner__kw_args',\n",
      " 'preprocess__bin_enc_1__binner__validate',\n",
      " 'preprocess__bin_enc_1__enc__categories',\n",
      " 'preprocess__bin_enc_1__enc__drop',\n",
      " 'preprocess__bin_enc_1__enc__dtype',\n",
      " 'preprocess__bin_enc_1__enc__handle_unknown',\n",
      " 'preprocess__bin_enc_1__enc__sparse',\n",
      " 'preprocess__bin_enc_2__memory',\n",
      " 'preprocess__bin_enc_2__steps',\n",
      " 'preprocess__bin_enc_2__verbose',\n",
      " 'preprocess__bin_enc_2__binner',\n",
      " 'preprocess__bin_enc_2__enc',\n",
      " 'preprocess__bin_enc_2__binner__accept_sparse',\n",
      " 'preprocess__bin_enc_2__binner__check_inverse',\n",
      " 'preprocess__bin_enc_2__binner__func',\n",
      " 'preprocess__bin_enc_2__binner__inv_kw_args',\n",
      " 'preprocess__bin_enc_2__binner__inverse_func',\n",
      " 'preprocess__bin_enc_2__binner__kw_args',\n",
      " 'preprocess__bin_enc_2__binner__validate',\n",
      " 'preprocess__bin_enc_2__enc__categories',\n",
      " 'preprocess__bin_enc_2__enc__drop',\n",
      " 'preprocess__bin_enc_2__enc__dtype',\n",
      " 'preprocess__bin_enc_2__enc__handle_unknown',\n",
      " 'preprocess__bin_enc_2__enc__sparse',\n",
      " 'clf__bootstrap',\n",
      " 'clf__ccp_alpha',\n",
      " 'clf__class_weight',\n",
      " 'clf__criterion',\n",
      " 'clf__max_depth',\n",
      " 'clf__max_features',\n",
      " 'clf__max_leaf_nodes',\n",
      " 'clf__max_samples',\n",
      " 'clf__min_impurity_decrease',\n",
      " 'clf__min_impurity_split',\n",
      " 'clf__min_samples_leaf',\n",
      " 'clf__min_samples_split',\n",
      " 'clf__min_weight_fraction_leaf',\n",
      " 'clf__n_estimators',\n",
      " 'clf__n_jobs',\n",
      " 'clf__oob_score',\n",
      " 'clf__random_state',\n",
      " 'clf__verbose',\n",
      " 'clf__warm_start']\n"
     ]
    }
   ],
   "source": [
    "print_params(pipe)"
   ]
  },
  {
   "cell_type": "code",
   "execution_count": null,
   "metadata": {},
   "outputs": [],
   "source": []
  }
 ],
 "metadata": {
  "kernelspec": {
   "display_name": "Python [conda env:titansurv] *",
   "language": "python",
   "name": "conda-env-titansurv-py"
  },
  "language_info": {
   "codemirror_mode": {
    "name": "ipython",
    "version": 3
   },
   "file_extension": ".py",
   "mimetype": "text/x-python",
   "name": "python",
   "nbconvert_exporter": "python",
   "pygments_lexer": "ipython3",
   "version": "3.8.2"
  }
 },
 "nbformat": 4,
 "nbformat_minor": 4
}
