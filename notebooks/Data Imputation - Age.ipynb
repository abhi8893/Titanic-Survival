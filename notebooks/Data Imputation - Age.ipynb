{
 "cells": [
  {
   "cell_type": "markdown",
   "metadata": {},
   "source": [
    "# Data Imputation - Age"
   ]
  },
  {
   "cell_type": "code",
   "execution_count": 1,
   "metadata": {},
   "outputs": [],
   "source": [
    "import pandas as pd\n",
    "\n",
    "df = pd.read_csv(\"../data/raw/train.csv\")\n",
    "dfX = df.drop('Survived', axis=1)\n",
    "dfy = df.Survived"
   ]
  },
  {
   "cell_type": "code",
   "execution_count": 2,
   "metadata": {},
   "outputs": [],
   "source": [
    "import sys\n",
    "sys.path.append(\"../\")\n",
    "from titansurv.plotting import plot_missprop"
   ]
  },
  {
   "cell_type": "code",
   "execution_count": 3,
   "metadata": {},
   "outputs": [
    {
     "data": {
      "text/plain": [
       "PassengerId    0.000000\n",
       "Pclass         0.000000\n",
       "Name           0.000000\n",
       "Sex            0.000000\n",
       "Age            0.198653\n",
       "SibSp          0.000000\n",
       "Parch          0.000000\n",
       "Ticket         0.000000\n",
       "Fare           0.000000\n",
       "Cabin          0.771044\n",
       "Embarked       0.002245\n",
       "dtype: float64"
      ]
     },
     "execution_count": 3,
     "metadata": {},
     "output_type": "execute_result"
    },
    {
     "data": {
      "image/png": "[encoded data removed]",
      "text/plain": [
       "<Figure size 864x576 with 1 Axes>"
      ]
     },
     "metadata": {
      "needs_background": "light"
     },
     "output_type": "display_data"
    }
   ],
   "source": [
    "plot_missprop(dfX)"
   ]
  },
  {
   "cell_type": "code",
   "execution_count": 4,
   "metadata": {},
   "outputs": [],
   "source": [
    "from titansurv.prepare import drop_NA_Embarked"
   ]
  },
  {
   "cell_type": "code",
   "execution_count": 5,
   "metadata": {},
   "outputs": [],
   "source": [
    "from sklearn.impute import KNNImputer"
   ]
  },
  {
   "cell_type": "code",
   "execution_count": 6,
   "metadata": {},
   "outputs": [
    {
     "name": "stderr",
     "output_type": "stream",
     "text": [
      "../titansurv/pipeline/data_pipeline.py:43: UserWarning: Please set the data first using set_data method!\n",
      "  warnings.warn('Please set the data first using set_data method!')\n"
     ]
    }
   ],
   "source": [
    "from titansurv.pipeline import pipeline1 as dp\n",
    "from titansurv.utils import print_params"
   ]
  },
  {
   "cell_type": "code",
   "execution_count": 7,
   "metadata": {},
   "outputs": [
    {
     "data": {
      "text/markdown": [
       "The following were the preprocessing steps used: \n",
       "1. **Embarked**: Dropped NA rows and applied OneHotEncoding\n",
       "2. **Age** : Applied Mean Imputation and Mean Normalization\n",
       "3. **Fare**: Mean Normalization\n",
       "4. **Sex**: OneHotEncoding\n",
       "5. **Name**: Categorised into ['Mr', 'Mrs', 'Miss', 'Master', 'Special']<br/> \n",
       "    5.1 Rename [Mlle, Ms] -> Miss      \n",
       "    5.2 Rename [Mme] -> Mrs     \n",
       "    5.3 Put the Rest -> Special     \n",
       "    Then performed OneHotEncoding\n",
       "6. **Ticket** categorized into [1: numeric, 0: else] <br/>\n",
       "    6.1 Remove special characters but not space <br/>\n",
       "    6.2 Replace numeric strings by 'numeric' <br/>\n",
       "    6.3 Split on space and keep the first item <br/>\n",
       " Then applied binarizer for [1: numeric, 0: else]\n",
       "7. **SibSp** binned into [0, 1, >1] and applied OneHotEncoding\n",
       "8. **Parch** binned into [0, 1, >1] and applied OneHotEncoding\n",
       "\n",
       "Tuned ML model: **RandomForestClassifier** using GridSearchCV"
      ],
      "text/plain": [
       "<IPython.core.display.Markdown object>"
      ]
     },
     "metadata": {},
     "output_type": "display_data"
    }
   ],
   "source": [
    "dp.get_description(markdown=True)"
   ]
  },
  {
   "cell_type": "code",
   "execution_count": 8,
   "metadata": {},
   "outputs": [],
   "source": [
    "dp.set_data(df)"
   ]
  },
  {
   "cell_type": "code",
   "execution_count": 9,
   "metadata": {},
   "outputs": [
    {
     "name": "stdout",
     "output_type": "stream",
     "text": [
      "['data',\n",
      " 'description',\n",
      " 'mlmodel',\n",
      " 'prepare_data__memory',\n",
      " 'prepare_data__steps',\n",
      " 'prepare_data__verbose',\n",
      " 'prepare_data__nan_drpr',\n",
      " 'prepare_data__nan_drpr__key',\n",
      " 'prepare_data',\n",
      " 'preprocess_data',\n",
      " 'ycol',\n",
      " 'preprocessing',\n",
      " 'train',\n",
      " 'preprocessing__n_jobs',\n",
      " 'preprocessing__remainder',\n",
      " 'preprocessing__sparse_threshold',\n",
      " 'preprocessing__transformer_weights',\n",
      " 'preprocessing__transformers',\n",
      " 'preprocessing__verbose',\n",
      " 'preprocessing__enc',\n",
      " 'preprocessing__imp_scaler',\n",
      " 'preprocessing__scaler',\n",
      " 'preprocessing__pre_Name',\n",
      " 'preprocessing__pre_Cabin',\n",
      " 'preprocessing__pre_Ticket',\n",
      " 'preprocessing__Pre_SibSp',\n",
      " 'preprocessing__Pre_Parch',\n",
      " 'preprocessing__enc__categories',\n",
      " 'preprocessing__enc__drop',\n",
      " 'preprocessing__enc__dtype',\n",
      " 'preprocessing__enc__handle_unknown',\n",
      " 'preprocessing__enc__sparse',\n",
      " 'preprocessing__imp_scaler__memory',\n",
      " 'preprocessing__imp_scaler__steps',\n",
      " 'preprocessing__imp_scaler__verbose',\n",
      " 'preprocessing__imp_scaler__imp',\n",
      " 'preprocessing__imp_scaler__scaler',\n",
      " 'preprocessing__imp_scaler__imp__add_indicator',\n",
      " 'preprocessing__imp_scaler__imp__copy',\n",
      " 'preprocessing__imp_scaler__imp__fill_value',\n",
      " 'preprocessing__imp_scaler__imp__missing_values',\n",
      " 'preprocessing__imp_scaler__imp__strategy',\n",
      " 'preprocessing__imp_scaler__imp__verbose',\n",
      " 'preprocessing__imp_scaler__scaler__copy',\n",
      " 'preprocessing__imp_scaler__scaler__with_mean',\n",
      " 'preprocessing__imp_scaler__scaler__with_std',\n",
      " 'preprocessing__scaler__copy',\n",
      " 'preprocessing__scaler__with_mean',\n",
      " 'preprocessing__scaler__with_std',\n",
      " 'preprocessing__pre_Name__memory',\n",
      " 'preprocessing__pre_Name__steps',\n",
      " 'preprocessing__pre_Name__verbose',\n",
      " 'preprocessing__pre_Name__featurize',\n",
      " 'preprocessing__pre_Name__enc',\n",
      " 'preprocessing__pre_Name__featurize__accept_sparse',\n",
      " 'preprocessing__pre_Name__featurize__check_inverse',\n",
      " 'preprocessing__pre_Name__featurize__func',\n",
      " 'preprocessing__pre_Name__featurize__inv_kw_args',\n",
      " 'preprocessing__pre_Name__featurize__inverse_func',\n",
      " 'preprocessing__pre_Name__featurize__kw_args',\n",
      " 'preprocessing__pre_Name__featurize__validate',\n",
      " 'preprocessing__pre_Name__enc__categories',\n",
      " 'preprocessing__pre_Name__enc__drop',\n",
      " 'preprocessing__pre_Name__enc__dtype',\n",
      " 'preprocessing__pre_Name__enc__handle_unknown',\n",
      " 'preprocessing__pre_Name__enc__sparse',\n",
      " 'preprocessing__pre_Cabin__memory',\n",
      " 'preprocessing__pre_Cabin__steps',\n",
      " 'preprocessing__pre_Cabin__verbose',\n",
      " 'preprocessing__pre_Cabin__featurize',\n",
      " 'preprocessing__pre_Cabin__enc',\n",
      " 'preprocessing__pre_Cabin__featurize__accept_sparse',\n",
      " 'preprocessing__pre_Cabin__featurize__check_inverse',\n",
      " 'preprocessing__pre_Cabin__featurize__func',\n",
      " 'preprocessing__pre_Cabin__featurize__inv_kw_args',\n",
      " 'preprocessing__pre_Cabin__featurize__inverse_func',\n",
      " 'preprocessing__pre_Cabin__featurize__kw_args',\n",
      " 'preprocessing__pre_Cabin__featurize__validate',\n",
      " 'preprocessing__pre_Cabin__enc__categories',\n",
      " 'preprocessing__pre_Cabin__enc__drop',\n",
      " 'preprocessing__pre_Cabin__enc__dtype',\n",
      " 'preprocessing__pre_Cabin__enc__handle_unknown',\n",
      " 'preprocessing__pre_Cabin__enc__sparse',\n",
      " 'preprocessing__pre_Ticket__memory',\n",
      " 'preprocessing__pre_Ticket__steps',\n",
      " 'preprocessing__pre_Ticket__verbose',\n",
      " 'preprocessing__pre_Ticket__featurize',\n",
      " 'preprocessing__pre_Ticket__binarizer',\n",
      " 'preprocessing__pre_Ticket__featurize__accept_sparse',\n",
      " 'preprocessing__pre_Ticket__featurize__check_inverse',\n",
      " 'preprocessing__pre_Ticket__featurize__func',\n",
      " 'preprocessing__pre_Ticket__featurize__inv_kw_args',\n",
      " 'preprocessing__pre_Ticket__featurize__inverse_func',\n",
      " 'preprocessing__pre_Ticket__featurize__kw_args',\n",
      " 'preprocessing__pre_Ticket__featurize__validate',\n",
      " 'preprocessing__pre_Ticket__binarizer__accept_sparse',\n",
      " 'preprocessing__pre_Ticket__binarizer__check_inverse',\n",
      " 'preprocessing__pre_Ticket__binarizer__func',\n",
      " 'preprocessing__pre_Ticket__binarizer__inv_kw_args',\n",
      " 'preprocessing__pre_Ticket__binarizer__inverse_func',\n",
      " 'preprocessing__pre_Ticket__binarizer__kw_args',\n",
      " 'preprocessing__pre_Ticket__binarizer__validate',\n",
      " 'preprocessing__Pre_SibSp__memory',\n",
      " 'preprocessing__Pre_SibSp__steps',\n",
      " 'preprocessing__Pre_SibSp__verbose',\n",
      " 'preprocessing__Pre_SibSp__binner',\n",
      " 'preprocessing__Pre_SibSp__enc',\n",
      " 'preprocessing__Pre_SibSp__binner__accept_sparse',\n",
      " 'preprocessing__Pre_SibSp__binner__check_inverse',\n",
      " 'preprocessing__Pre_SibSp__binner__func',\n",
      " 'preprocessing__Pre_SibSp__binner__inv_kw_args',\n",
      " 'preprocessing__Pre_SibSp__binner__inverse_func',\n",
      " 'preprocessing__Pre_SibSp__binner__kw_args',\n",
      " 'preprocessing__Pre_SibSp__binner__validate',\n",
      " 'preprocessing__Pre_SibSp__enc__categories',\n",
      " 'preprocessing__Pre_SibSp__enc__drop',\n",
      " 'preprocessing__Pre_SibSp__enc__dtype',\n",
      " 'preprocessing__Pre_SibSp__enc__handle_unknown',\n",
      " 'preprocessing__Pre_SibSp__enc__sparse',\n",
      " 'preprocessing__Pre_Parch__memory',\n",
      " 'preprocessing__Pre_Parch__steps',\n",
      " 'preprocessing__Pre_Parch__verbose',\n",
      " 'preprocessing__Pre_Parch__binner',\n",
      " 'preprocessing__Pre_Parch__enc',\n",
      " 'preprocessing__Pre_Parch__binner__accept_sparse',\n",
      " 'preprocessing__Pre_Parch__binner__check_inverse',\n",
      " 'preprocessing__Pre_Parch__binner__func',\n",
      " 'preprocessing__Pre_Parch__binner__inv_kw_args',\n",
      " 'preprocessing__Pre_Parch__binner__inverse_func',\n",
      " 'preprocessing__Pre_Parch__binner__kw_args',\n",
      " 'preprocessing__Pre_Parch__binner__validate',\n",
      " 'preprocessing__Pre_Parch__enc__categories',\n",
      " 'preprocessing__Pre_Parch__enc__drop',\n",
      " 'preprocessing__Pre_Parch__enc__dtype',\n",
      " 'preprocessing__Pre_Parch__enc__handle_unknown',\n",
      " 'preprocessing__Pre_Parch__enc__sparse',\n",
      " 'train__bootstrap',\n",
      " 'train__ccp_alpha',\n",
      " 'train__class_weight',\n",
      " 'train__criterion',\n",
      " 'train__max_depth',\n",
      " 'train__max_features',\n",
      " 'train__max_leaf_nodes',\n",
      " 'train__max_samples',\n",
      " 'train__min_impurity_decrease',\n",
      " 'train__min_impurity_split',\n",
      " 'train__min_samples_leaf',\n",
      " 'train__min_samples_split',\n",
      " 'train__min_weight_fraction_leaf',\n",
      " 'train__n_estimators',\n",
      " 'train__n_jobs',\n",
      " 'train__oob_score',\n",
      " 'train__random_state',\n",
      " 'train__verbose',\n",
      " 'train__warm_start']\n"
     ]
    }
   ],
   "source": [
    "print_params(dp)"
   ]
  },
  {
   "cell_type": "markdown",
   "metadata": {},
   "source": [
    "## Try different imputers for Age\n",
    "\n",
    "1. SimpleImputer\n",
    "2. KNNImputer\n",
    "3. IterativeImputer"
   ]
  },
  {
   "cell_type": "code",
   "execution_count": 10,
   "metadata": {},
   "outputs": [],
   "source": [
    "from sklearn.ensemble import RandomForestClassifier\n",
    "from sklearn.experimental import enable_iterative_imputer\n",
    "from sklearn.impute import IterativeImputer, KNNImputer, SimpleImputer\n",
    "from sklearn.model_selection import GridSearchCV\n",
    "import numpy as np"
   ]
  },
  {
   "cell_type": "markdown",
   "metadata": {},
   "source": [
    "### Can't use IterativeImputer this way in the current pipeline"
   ]
  },
  {
   "cell_type": "code",
   "execution_count": 11,
   "metadata": {},
   "outputs": [],
   "source": [
    "param_grid = [\n",
    "    {\n",
    "        'preprocessing__imp_scaler__imp': [KNNImputer()],\n",
    "        'preprocessing__imp_scaler__imp__n_neighbors': range(3, 15, 2)\n",
    "    }, \n",
    "    {\n",
    "        'preprocessing__imp_scaler__imp': [SimpleImputer()],\n",
    "        'preprocessing__imp_scaler__imp__strategy': ['mean', 'median']\n",
    "    }]"
   ]
  },
  {
   "cell_type": "code",
   "execution_count": 12,
   "metadata": {},
   "outputs": [
    {
     "data": {
      "text/plain": [
       "GridSearchCV(cv=5, error_score=nan,\n",
       "             ('estimator', DataPipeline),\n",
       "             iid='deprecated', n_jobs=None,\n",
       "             param_grid=[{'preprocessing__imp_scaler__imp': [KNNImputer(add_indicator=False,\n",
       "                                                                        copy=True,\n",
       "                                                                        metric='nan_euclidean',\n",
       "                                                                        missing_values=nan,\n",
       "                                                                        n_neighbors=13,\n",
       "                                                                        weights='uniform')],\n",
       "                          'preprocessing__imp_scaler__imp__n_neighbors': range(3, 15, 2)},\n",
       "                         {'preprocessing__imp_scaler__imp': [SimpleImputer(add_indicator=False,\n",
       "                                                                           copy=True,\n",
       "                                                                           fill_value=None,\n",
       "                                                                           missing_values=nan,\n",
       "                                                                           strategy='mean',\n",
       "                                                                           verbose=0)],\n",
       "                          'preprocessing__imp_scaler__imp__strategy': ['mean',\n",
       "                                                                       'median']}],\n",
       "             pre_dispatch='2*n_jobs', refit=True, return_train_score=False,\n",
       "             scoring=None, verbose=0)"
      ]
     },
     "execution_count": 12,
     "metadata": {},
     "output_type": "execute_result"
    }
   ],
   "source": [
    "grid = GridSearchCV(dp, param_grid, cv=5)\n",
    "dfX_prep, dfy_prep = dp.prepare()\n",
    "grid.fit(dfX_prep, dfy_prep)"
   ]
  },
  {
   "cell_type": "code",
   "execution_count": 13,
   "metadata": {
    "scrolled": true
   },
   "outputs": [
    {
     "name": "stdout",
     "output_type": "stream",
     "text": [
      "0.8133117501428299\n",
      "{'preprocessing__imp_scaler__imp': KNNImputer(add_indicator=False, copy=True, metric='nan_euclidean',\n",
      "           missing_values=nan, n_neighbors=13, weights='uniform'), 'preprocessing__imp_scaler__imp__n_neighbors': 13}\n"
     ]
    }
   ],
   "source": [
    "print(grid.best_score_)\n",
    "print(grid.best_params_)"
   ]
  },
  {
   "cell_type": "markdown",
   "metadata": {},
   "source": [
    "## Using IterativeImputer "
   ]
  },
  {
   "cell_type": "markdown",
   "metadata": {},
   "source": [
    "To enable this on our current ```DataPipeline```, we need to modify it as following:\n",
    "- ~Remove the ```NaNDropper``` step for the ```Embarked``` column as IterativeImputer will do it on it's own~ \n",
    "   We can't do that since we will be using OneHotEncoder on it\n",
    "- Remove the Imputation from the Age column or any subsequent steps\n",
    "- After the other columns are preprocessed, Use ```IterativeImputer``` on the whole dataset"
   ]
  },
  {
   "cell_type": "markdown",
   "metadata": {},
   "source": [
    "### Let's see the datapipeline we have"
   ]
  },
  {
   "cell_type": "code",
   "execution_count": 12,
   "metadata": {},
   "outputs": [],
   "source": [
    "# print_params(dp)"
   ]
  },
  {
   "cell_type": "markdown",
   "metadata": {},
   "source": [
    "### Bypassing the ```NaNDropper``` step\n",
    "I can write a class that just takes in a dataframe and returns the dataframe intact"
   ]
  },
  {
   "cell_type": "code",
   "execution_count": 13,
   "metadata": {},
   "outputs": [],
   "source": [
    "from sklearn.base import BaseEstimator\n",
    "from sklearn.pipeline import Pipeline\n"
   ]
  },
  {
   "cell_type": "code",
   "execution_count": 14,
   "metadata": {},
   "outputs": [],
   "source": [
    "class NoPrepare(BaseEstimator):\n",
    "    \n",
    "    def __init__(self):\n",
    "        pass\n",
    "    \n",
    "    def fit(self, X, y=None):\n",
    "        return self\n",
    "    \n",
    "    def transform(self, X, y=None):\n",
    "        if y is None:\n",
    "            return X\n",
    "        else:\n",
    "            return X, y\n",
    "    \n",
    "    def fit_transform(self, X, y=None):\n",
    "        return self.fit(X, y).transform(X, y)"
   ]
  },
  {
   "cell_type": "code",
   "execution_count": 15,
   "metadata": {},
   "outputs": [],
   "source": [
    "# NoPrepare().fit_transform(dfX)"
   ]
  },
  {
   "cell_type": "code",
   "execution_count": 16,
   "metadata": {},
   "outputs": [],
   "source": [
    "# dp.prepare_data = Pipeline([\n",
    "#     ('no_prepare', NoPrepare())])"
   ]
  },
  {
   "cell_type": "code",
   "execution_count": 17,
   "metadata": {},
   "outputs": [],
   "source": [
    "# dp.prepare()"
   ]
  },
  {
   "cell_type": "markdown",
   "metadata": {},
   "source": [
    "## Removing the ```impute_scaler``` step from the ```Age``` column"
   ]
  },
  {
   "cell_type": "code",
   "execution_count": 18,
   "metadata": {},
   "outputs": [
    {
     "name": "stdout",
     "output_type": "stream",
     "text": [
      "['data',\n",
      " 'description',\n",
      " 'mlmodel',\n",
      " 'prepare_data__memory',\n",
      " 'prepare_data__steps',\n",
      " 'prepare_data__verbose',\n",
      " 'prepare_data__nan_drpr',\n",
      " 'prepare_data__nan_drpr__key',\n",
      " 'prepare_data',\n",
      " 'preprocess_data',\n",
      " 'ycol',\n",
      " 'preprocessing',\n",
      " 'train',\n",
      " 'preprocessing__n_jobs',\n",
      " 'preprocessing__remainder',\n",
      " 'preprocessing__sparse_threshold',\n",
      " 'preprocessing__transformer_weights',\n",
      " 'preprocessing__transformers',\n",
      " 'preprocessing__verbose',\n",
      " 'preprocessing__enc',\n",
      " 'preprocessing__imp_scaler',\n",
      " 'preprocessing__scaler',\n",
      " 'preprocessing__pre_Name',\n",
      " 'preprocessing__pre_Cabin',\n",
      " 'preprocessing__pre_Ticket',\n",
      " 'preprocessing__Pre_SibSp',\n",
      " 'preprocessing__Pre_Parch',\n",
      " 'preprocessing__enc__categories',\n",
      " 'preprocessing__enc__drop',\n",
      " 'preprocessing__enc__dtype',\n",
      " 'preprocessing__enc__handle_unknown',\n",
      " 'preprocessing__enc__sparse',\n",
      " 'preprocessing__imp_scaler__memory',\n",
      " 'preprocessing__imp_scaler__steps',\n",
      " 'preprocessing__imp_scaler__verbose',\n",
      " 'preprocessing__imp_scaler__imp',\n",
      " 'preprocessing__imp_scaler__scaler',\n",
      " 'preprocessing__imp_scaler__imp__add_indicator',\n",
      " 'preprocessing__imp_scaler__imp__copy',\n",
      " 'preprocessing__imp_scaler__imp__fill_value',\n",
      " 'preprocessing__imp_scaler__imp__missing_values',\n",
      " 'preprocessing__imp_scaler__imp__strategy',\n",
      " 'preprocessing__imp_scaler__imp__verbose',\n",
      " 'preprocessing__imp_scaler__scaler__copy',\n",
      " 'preprocessing__imp_scaler__scaler__with_mean',\n",
      " 'preprocessing__imp_scaler__scaler__with_std',\n",
      " 'preprocessing__scaler__copy',\n",
      " 'preprocessing__scaler__with_mean',\n",
      " 'preprocessing__scaler__with_std',\n",
      " 'preprocessing__pre_Name__memory',\n",
      " 'preprocessing__pre_Name__steps',\n",
      " 'preprocessing__pre_Name__verbose',\n",
      " 'preprocessing__pre_Name__featurize',\n",
      " 'preprocessing__pre_Name__enc',\n",
      " 'preprocessing__pre_Name__featurize__accept_sparse',\n",
      " 'preprocessing__pre_Name__featurize__check_inverse',\n",
      " 'preprocessing__pre_Name__featurize__func',\n",
      " 'preprocessing__pre_Name__featurize__inv_kw_args',\n",
      " 'preprocessing__pre_Name__featurize__inverse_func',\n",
      " 'preprocessing__pre_Name__featurize__kw_args',\n",
      " 'preprocessing__pre_Name__featurize__validate',\n",
      " 'preprocessing__pre_Name__enc__categories',\n",
      " 'preprocessing__pre_Name__enc__drop',\n",
      " 'preprocessing__pre_Name__enc__dtype',\n",
      " 'preprocessing__pre_Name__enc__handle_unknown',\n",
      " 'preprocessing__pre_Name__enc__sparse',\n",
      " 'preprocessing__pre_Cabin__memory',\n",
      " 'preprocessing__pre_Cabin__steps',\n",
      " 'preprocessing__pre_Cabin__verbose',\n",
      " 'preprocessing__pre_Cabin__featurize',\n",
      " 'preprocessing__pre_Cabin__enc',\n",
      " 'preprocessing__pre_Cabin__featurize__accept_sparse',\n",
      " 'preprocessing__pre_Cabin__featurize__check_inverse',\n",
      " 'preprocessing__pre_Cabin__featurize__func',\n",
      " 'preprocessing__pre_Cabin__featurize__inv_kw_args',\n",
      " 'preprocessing__pre_Cabin__featurize__inverse_func',\n",
      " 'preprocessing__pre_Cabin__featurize__kw_args',\n",
      " 'preprocessing__pre_Cabin__featurize__validate',\n",
      " 'preprocessing__pre_Cabin__enc__categories',\n",
      " 'preprocessing__pre_Cabin__enc__drop',\n",
      " 'preprocessing__pre_Cabin__enc__dtype',\n",
      " 'preprocessing__pre_Cabin__enc__handle_unknown',\n",
      " 'preprocessing__pre_Cabin__enc__sparse',\n",
      " 'preprocessing__pre_Ticket__memory',\n",
      " 'preprocessing__pre_Ticket__steps',\n",
      " 'preprocessing__pre_Ticket__verbose',\n",
      " 'preprocessing__pre_Ticket__featurize',\n",
      " 'preprocessing__pre_Ticket__binarizer',\n",
      " 'preprocessing__pre_Ticket__featurize__accept_sparse',\n",
      " 'preprocessing__pre_Ticket__featurize__check_inverse',\n",
      " 'preprocessing__pre_Ticket__featurize__func',\n",
      " 'preprocessing__pre_Ticket__featurize__inv_kw_args',\n",
      " 'preprocessing__pre_Ticket__featurize__inverse_func',\n",
      " 'preprocessing__pre_Ticket__featurize__kw_args',\n",
      " 'preprocessing__pre_Ticket__featurize__validate',\n",
      " 'preprocessing__pre_Ticket__binarizer__accept_sparse',\n",
      " 'preprocessing__pre_Ticket__binarizer__check_inverse',\n",
      " 'preprocessing__pre_Ticket__binarizer__func',\n",
      " 'preprocessing__pre_Ticket__binarizer__inv_kw_args',\n",
      " 'preprocessing__pre_Ticket__binarizer__inverse_func',\n",
      " 'preprocessing__pre_Ticket__binarizer__kw_args',\n",
      " 'preprocessing__pre_Ticket__binarizer__validate',\n",
      " 'preprocessing__Pre_SibSp__memory',\n",
      " 'preprocessing__Pre_SibSp__steps',\n",
      " 'preprocessing__Pre_SibSp__verbose',\n",
      " 'preprocessing__Pre_SibSp__binner',\n",
      " 'preprocessing__Pre_SibSp__enc',\n",
      " 'preprocessing__Pre_SibSp__binner__accept_sparse',\n",
      " 'preprocessing__Pre_SibSp__binner__check_inverse',\n",
      " 'preprocessing__Pre_SibSp__binner__func',\n",
      " 'preprocessing__Pre_SibSp__binner__inv_kw_args',\n",
      " 'preprocessing__Pre_SibSp__binner__inverse_func',\n",
      " 'preprocessing__Pre_SibSp__binner__kw_args',\n",
      " 'preprocessing__Pre_SibSp__binner__validate',\n",
      " 'preprocessing__Pre_SibSp__enc__categories',\n",
      " 'preprocessing__Pre_SibSp__enc__drop',\n",
      " 'preprocessing__Pre_SibSp__enc__dtype',\n",
      " 'preprocessing__Pre_SibSp__enc__handle_unknown',\n",
      " 'preprocessing__Pre_SibSp__enc__sparse',\n",
      " 'preprocessing__Pre_Parch__memory',\n",
      " 'preprocessing__Pre_Parch__steps',\n",
      " 'preprocessing__Pre_Parch__verbose',\n",
      " 'preprocessing__Pre_Parch__binner',\n",
      " 'preprocessing__Pre_Parch__enc',\n",
      " 'preprocessing__Pre_Parch__binner__accept_sparse',\n",
      " 'preprocessing__Pre_Parch__binner__check_inverse',\n",
      " 'preprocessing__Pre_Parch__binner__func',\n",
      " 'preprocessing__Pre_Parch__binner__inv_kw_args',\n",
      " 'preprocessing__Pre_Parch__binner__inverse_func',\n",
      " 'preprocessing__Pre_Parch__binner__kw_args',\n",
      " 'preprocessing__Pre_Parch__binner__validate',\n",
      " 'preprocessing__Pre_Parch__enc__categories',\n",
      " 'preprocessing__Pre_Parch__enc__drop',\n",
      " 'preprocessing__Pre_Parch__enc__dtype',\n",
      " 'preprocessing__Pre_Parch__enc__handle_unknown',\n",
      " 'preprocessing__Pre_Parch__enc__sparse',\n",
      " 'train__bootstrap',\n",
      " 'train__ccp_alpha',\n",
      " 'train__class_weight',\n",
      " 'train__criterion',\n",
      " 'train__max_depth',\n",
      " 'train__max_features',\n",
      " 'train__max_leaf_nodes',\n",
      " 'train__max_samples',\n",
      " 'train__min_impurity_decrease',\n",
      " 'train__min_impurity_split',\n",
      " 'train__min_samples_leaf',\n",
      " 'train__min_samples_split',\n",
      " 'train__min_weight_fraction_leaf',\n",
      " 'train__n_estimators',\n",
      " 'train__n_jobs',\n",
      " 'train__oob_score',\n",
      " 'train__random_state',\n",
      " 'train__verbose',\n",
      " 'train__warm_start']\n"
     ]
    }
   ],
   "source": [
    "print_params(dp)"
   ]
  },
  {
   "cell_type": "code",
   "execution_count": 19,
   "metadata": {},
   "outputs": [],
   "source": [
    "class NoPrepare(BaseEstimator):\n",
    "    \n",
    "    def __init__(self):\n",
    "        pass\n",
    "    \n",
    "    def fit(self, X, y=None):\n",
    "        return self\n",
    "    \n",
    "    def transform(self, X, y=None):\n",
    "        return X\n",
    "    \n",
    "    def fit_transform(self, X, y=None):\n",
    "        return self.fit(X, y).transform(X, y)"
   ]
  },
  {
   "cell_type": "code",
   "execution_count": 20,
   "metadata": {},
   "outputs": [
    {
     "data": {
      "text/html": [
       "<div>\n",
       "<style scoped>\n",
       "    .dataframe tbody tr th:only-of-type {\n",
       "        vertical-align: middle;\n",
       "    }\n",
       "\n",
       "    .dataframe tbody tr th {\n",
       "        vertical-align: top;\n",
       "    }\n",
       "\n",
       "    .dataframe thead th {\n",
       "        text-align: right;\n",
       "    }\n",
       "</style>\n",
       "<table border=\"1\" class=\"dataframe\">\n",
       "  <thead>\n",
       "    <tr style=\"text-align: right;\">\n",
       "      <th></th>\n",
       "      <th>Age</th>\n",
       "    </tr>\n",
       "  </thead>\n",
       "  <tbody>\n",
       "    <tr>\n",
       "      <th>0</th>\n",
       "      <td>22.0</td>\n",
       "    </tr>\n",
       "    <tr>\n",
       "      <th>1</th>\n",
       "      <td>38.0</td>\n",
       "    </tr>\n",
       "    <tr>\n",
       "      <th>2</th>\n",
       "      <td>26.0</td>\n",
       "    </tr>\n",
       "    <tr>\n",
       "      <th>3</th>\n",
       "      <td>35.0</td>\n",
       "    </tr>\n",
       "    <tr>\n",
       "      <th>4</th>\n",
       "      <td>35.0</td>\n",
       "    </tr>\n",
       "    <tr>\n",
       "      <th>...</th>\n",
       "      <td>...</td>\n",
       "    </tr>\n",
       "    <tr>\n",
       "      <th>886</th>\n",
       "      <td>27.0</td>\n",
       "    </tr>\n",
       "    <tr>\n",
       "      <th>887</th>\n",
       "      <td>19.0</td>\n",
       "    </tr>\n",
       "    <tr>\n",
       "      <th>888</th>\n",
       "      <td>NaN</td>\n",
       "    </tr>\n",
       "    <tr>\n",
       "      <th>889</th>\n",
       "      <td>26.0</td>\n",
       "    </tr>\n",
       "    <tr>\n",
       "      <th>890</th>\n",
       "      <td>32.0</td>\n",
       "    </tr>\n",
       "  </tbody>\n",
       "</table>\n",
       "<p>891 rows × 1 columns</p>\n",
       "</div>"
      ],
      "text/plain": [
       "      Age\n",
       "0    22.0\n",
       "1    38.0\n",
       "2    26.0\n",
       "3    35.0\n",
       "4    35.0\n",
       "..    ...\n",
       "886  27.0\n",
       "887  19.0\n",
       "888   NaN\n",
       "889  26.0\n",
       "890  32.0\n",
       "\n",
       "[891 rows x 1 columns]"
      ]
     },
     "execution_count": 20,
     "metadata": {},
     "output_type": "execute_result"
    }
   ],
   "source": [
    "NoPrepare().fit_transform(df.loc[:, ['Age']])"
   ]
  },
  {
   "cell_type": "markdown",
   "metadata": {},
   "source": [
    "~```preprocessing__imp_scaler```~ ---**BUG** ---  ~```preprocess_data__imp_scaler```~ ---**BUG** --- is the specific hyperparameter we want to remove. \n",
    "\n",
    "We can do that using\n",
    "```NoPrepare```"
   ]
  },
  {
   "cell_type": "code",
   "execution_count": 21,
   "metadata": {},
   "outputs": [],
   "source": [
    "# dp.set_params(**{'preprocessing__imp_scaler': NoPrepare()})"
   ]
  },
  {
   "cell_type": "markdown",
   "metadata": {},
   "source": [
    "We can modify the ```preprocess_data``` column transformer to set ```imp_scalar``` to ```NoPrepare()```\n"
   ]
  },
  {
   "cell_type": "code",
   "execution_count": 22,
   "metadata": {},
   "outputs": [],
   "source": [
    "from titansurv.preprocessing.transformers import modify_transformer_est\n",
    "\n",
    "dp.preprocess_data = modify_transformer_est(dp.preprocess_data, imp_scaler=NoPrepare())"
   ]
  },
  {
   "cell_type": "code",
   "execution_count": 23,
   "metadata": {},
   "outputs": [
    {
     "data": {
      "text/plain": [
       "array([[  1.,   0.,   1., ...,   0.,   1.,   3.],\n",
       "       [  0.,   0.,   0., ...,   0.,   2.,   1.],\n",
       "       [  0.,   0.,   1., ...,   0.,   3.,   3.],\n",
       "       ...,\n",
       "       [  0.,   0.,   1., ...,   1., 889.,   3.],\n",
       "       [  1.,   0.,   0., ...,   0., 890.,   1.],\n",
       "       [  1.,   1.,   0., ...,   0., 891.,   3.]])"
      ]
     },
     "execution_count": 23,
     "metadata": {},
     "output_type": "execute_result"
    }
   ],
   "source": [
    "dp.prepare()\n",
    "dp.preprocess()"
   ]
  },
  {
   "cell_type": "markdown",
   "metadata": {},
   "source": [
    "Let's check if the preprocessed data has ```NaN``` values as expected in the ```Age``` column"
   ]
  },
  {
   "cell_type": "code",
   "execution_count": 24,
   "metadata": {},
   "outputs": [
    {
     "data": {
      "text/plain": [
       "True"
      ]
     },
     "execution_count": 24,
     "metadata": {},
     "output_type": "execute_result"
    }
   ],
   "source": [
    "np.isnan(dp.preprocess()).any()"
   ]
  },
  {
   "cell_type": "markdown",
   "metadata": {},
   "source": [
    "So the ```prepare``` and ```preprocess``` steps are working fine. "
   ]
  },
  {
   "cell_type": "markdown",
   "metadata": {},
   "source": [
    "### Now we need to add an extra step of ```IterativeImputer``` after the ```preprocess``` step."
   ]
  },
  {
   "cell_type": "markdown",
   "metadata": {},
   "source": [
    "You can use any regressor as an ```estimator``` in ```IterativeImputer``` like ```LinearRegression```, ```Ridge```, ```RandomForestRegressor``` etc"
   ]
  },
  {
   "cell_type": "code",
   "execution_count": 25,
   "metadata": {},
   "outputs": [],
   "source": [
    "from sklearn.tree import DecisionTreeRegressor\n",
    "from sklearn.compose import make_column_transformer\n",
    "from sklearn.preprocessing import StandardScaler"
   ]
  },
  {
   "cell_type": "code",
   "execution_count": 26,
   "metadata": {},
   "outputs": [],
   "source": [
    "preprocess_data = dp.preprocess_data\n",
    "modified_preprocess = Pipeline([\n",
    "    ('preprocess', preprocess_data),\n",
    "    ('impute', IterativeImputer(DecisionTreeRegressor()))\n",
    "]\n",
    ")\n",
    "\n",
    "dp.preprocess_data = modified_preprocess"
   ]
  },
  {
   "cell_type": "code",
   "execution_count": 27,
   "metadata": {},
   "outputs": [
    {
     "data": {
      "text/plain": [
       "array([[  1.,   0.,   1., ...,   0.,   1.,   3.],\n",
       "       [  0.,   0.,   0., ...,   0.,   2.,   1.],\n",
       "       [  0.,   0.,   1., ...,   0.,   3.,   3.],\n",
       "       ...,\n",
       "       [  0.,   0.,   1., ...,   1., 889.,   3.],\n",
       "       [  1.,   0.,   0., ...,   0., 890.,   1.],\n",
       "       [  1.,   1.,   0., ...,   0., 891.,   3.]])"
      ]
     },
     "execution_count": 27,
     "metadata": {},
     "output_type": "execute_result"
    }
   ],
   "source": [
    "dp.prepare()\n",
    "dp.preprocess()"
   ]
  },
  {
   "cell_type": "markdown",
   "metadata": {},
   "source": [
    "Let's check if the preprocessed data has no ```NaN``` values as expected after applying ```IterativeImputer```"
   ]
  },
  {
   "cell_type": "code",
   "execution_count": 28,
   "metadata": {},
   "outputs": [
    {
     "data": {
      "text/plain": [
       "False"
      ]
     },
     "execution_count": 28,
     "metadata": {},
     "output_type": "execute_result"
    }
   ],
   "source": [
    "np.isnan(dp.preprocess()).any()"
   ]
  },
  {
   "cell_type": "markdown",
   "metadata": {},
   "source": [
    "### Now let us try fitting our modified ```DataPipeline``` "
   ]
  },
  {
   "cell_type": "code",
   "execution_count": 29,
   "metadata": {},
   "outputs": [
    {
     "data": {
      "text/plain": [
       "1.0"
      ]
     },
     "execution_count": 29,
     "metadata": {},
     "output_type": "execute_result"
    }
   ],
   "source": [
    "dp.fit()\n",
    "dp.score()"
   ]
  },
  {
   "cell_type": "markdown",
   "metadata": {},
   "source": [
    "So this works!"
   ]
  },
  {
   "cell_type": "markdown",
   "metadata": {},
   "source": [
    "#### Let's check our crossvalidated accuracy"
   ]
  },
  {
   "cell_type": "code",
   "execution_count": 30,
   "metadata": {},
   "outputs": [],
   "source": [
    "dfX_pre, dfy_pre = dp.prepare()"
   ]
  },
  {
   "cell_type": "code",
   "execution_count": 31,
   "metadata": {},
   "outputs": [
    {
     "data": {
      "text/plain": [
       "0.8043102901034723"
      ]
     },
     "execution_count": 31,
     "metadata": {},
     "output_type": "execute_result"
    }
   ],
   "source": [
    "from sklearn.model_selection import cross_val_score\n",
    "cross_val_score(dp,dfX_pre, dfy_pre).mean()"
   ]
  },
  {
   "cell_type": "markdown",
   "metadata": {},
   "source": [
    "## Hyperparamater tuning using ```GridSearchCV```"
   ]
  },
  {
   "cell_type": "code",
   "execution_count": 33,
   "metadata": {},
   "outputs": [],
   "source": [
    "%%time \n",
    "\n",
    "from sklearn.model_selection import GridSearchCV\n",
    "\n",
    "max_features = [2, 4, 6]\n",
    "n_estimators = [10, 50, 100, 125]\n",
    "min_samples_split = [2, 5, 10, 20]\n",
    "max_depth = [None, 5, 10, 25]\n",
    "min_samples_leaf = [1, 2, 5]\n",
    "\n",
    "param_grid = {\n",
    "    'train': [RandomForestClassifier()],\n",
    "    'train__max_features': max_features,\n",
    "    'train__n_estimators': n_estimators,\n",
    "    'train__min_samples_split': min_samples_split,\n",
    "    'train__max_depth': max_depth,\n",
    "    'train__min_samples_leaf': min_samples_leaf\n",
    "}\n",
    "\n",
    "grid = GridSearchCV(dp, param_grid)\n",
    "grid.fit(dfX, dfy)\n",
    "\n",
    "print(grid.best_score)\n",
    "print(grid.best_params_)\n"
   ]
  },
  {
   "cell_type": "markdown",
   "metadata": {},
   "source": [
    "## Custom Imputation Strategy by Regressing \n",
    "\n",
    " - I will use the ```DataFrameMapper``` from the ```sklearn-pandas``` library.\n",
    " - Using the ```DataFrameMapper``` will allow me to preserve the names of the dataframe.\n",
    " - Then I can easily impute the ```Age``` column by regressing against the other columns (leaving out predictant i.e. ```Survived```)\n",
    " \n",
    "  To impute the ```Age``` column we need to \n",
    "  - Generate a preprocessed ```DataFrame``` using the ```DataFrameMapper``` so that I can identify the Age column\n",
    "  - Divide the preprocessed ```DataFrame``` into two parts,\n",
    "       - ```train``` set contains all rows with  ```No NA``` Age in them\n",
    "       - ```test``` set contains the rows with ```NA``` Age in them \n",
    "  - ```Age``` is our ```y```, and the rest of the columns ```X```"
   ]
  },
  {
   "cell_type": "code",
   "execution_count": 34,
   "metadata": {},
   "outputs": [],
   "source": [
    "from titansurv.featurization import FE_Cabin, FE_Name, FE_Parch, FE_SibSp, FE_Ticket\n",
    "from titansurv.pipeline.pipeline1 import imp_scale, pre_Cabin, pre_Name, pre_Parch, pre_Ticket, pre_SibSp, binarizer\n",
    "from sklearn.preprocessing import StandardScaler, FunctionTransformer, OneHotEncoder\n",
    "from sklearn.compose import ColumnTransformer\n",
    "\n",
    "from sklearn_pandas import DataFrameMapper"
   ]
  },
  {
   "cell_type": "markdown",
   "metadata": {},
   "source": [
    "We need a function that converts this i.e. ```ColumnTransformer```"
   ]
  },
  {
   "cell_type": "code",
   "execution_count": 35,
   "metadata": {},
   "outputs": [],
   "source": [
    "preprocess_data = ColumnTransformer([\n",
    "    ('enc', OneHotEncoder(drop='first'), ['Sex', 'Embarked']),\n",
    "#     ('imp_scaler', imp_scale, ['Age']), # Removing this\n",
    "    ('scaler', StandardScaler(), ['Fare']),\n",
    "    ('pre_Name', pre_Name, 'Name'),\n",
    "    ('pre_Cabin', pre_Cabin, 'Cabin'),\n",
    "    ('pre_Ticket', pre_Ticket, 'Ticket'),\n",
    "    ('Pre_SibSp', pre_SibSp, ['SibSp']),\n",
    "    ('Pre_Parch', pre_Parch, ['Parch'])\n",
    "], 'passthrough')"
   ]
  },
  {
   "cell_type": "markdown",
   "metadata": {},
   "source": [
    "to this i.e. ```DataFrameMapper```"
   ]
  },
  {
   "cell_type": "code",
   "execution_count": 36,
   "metadata": {},
   "outputs": [],
   "source": [
    " mapper_df = DataFrameMapper([\n",
    "     ('pet', OneHotEncoder()),\n",
    "     (['children'],StandardScaler())], \n",
    "     df_out=True)"
   ]
  },
  {
   "cell_type": "markdown",
   "metadata": {},
   "source": [
    "### Function to convert ```ColumnTransformer``` to ```DataframeMapper```"
   ]
  },
  {
   "cell_type": "code",
   "execution_count": 37,
   "metadata": {},
   "outputs": [],
   "source": [
    "def colmntrnsfrmr_to_dfmapper(col_trnsfrmr, **kwargs):\n",
    "    '''Converts ColumnTransformer instance to a DataFrameMapper instance\n",
    "    \n",
    "    Caution: The remainder functionality is not yet implemented\n",
    "    '''\n",
    "    dfmapper_input = []\n",
    "    for (name, trnsfrmr, cols) in col_trnsfrmr.transformers:\n",
    "        dfmapper_input.append((cols, trnsfrmr))\n",
    "        \n",
    "    return DataFrameMapper(dfmapper_input, **kwargs)"
   ]
  },
  {
   "cell_type": "code",
   "execution_count": 38,
   "metadata": {},
   "outputs": [],
   "source": [
    "preprocess_data_dfm = colmntrnsfrmr_to_dfmapper(preprocess_data, df_out=True, input_df=True)"
   ]
  },
  {
   "cell_type": "markdown",
   "metadata": {},
   "source": [
    "Since the ```remainder='passthrough'``` is not yet implemented, we need to explicity \n",
    "append the passthrough step for ```Age``` by setting the transformer to ```None```"
   ]
  },
  {
   "cell_type": "code",
   "execution_count": 39,
   "metadata": {},
   "outputs": [],
   "source": [
    "preprocess_data_dfm.features = preprocess_data_dfm.features + [('Age', None)]"
   ]
  },
  {
   "cell_type": "code",
   "execution_count": 40,
   "metadata": {},
   "outputs": [
    {
     "data": {
      "text/html": [
       "<div>\n",
       "<style scoped>\n",
       "    .dataframe tbody tr th:only-of-type {\n",
       "        vertical-align: middle;\n",
       "    }\n",
       "\n",
       "    .dataframe tbody tr th {\n",
       "        vertical-align: top;\n",
       "    }\n",
       "\n",
       "    .dataframe thead th {\n",
       "        text-align: right;\n",
       "    }\n",
       "</style>\n",
       "<table border=\"1\" class=\"dataframe\">\n",
       "  <thead>\n",
       "    <tr style=\"text-align: right;\">\n",
       "      <th></th>\n",
       "      <th>Sex_Embarked_x0_male</th>\n",
       "      <th>Sex_Embarked_x1_Q</th>\n",
       "      <th>Sex_Embarked_x1_S</th>\n",
       "      <th>Fare</th>\n",
       "      <th>Name_0</th>\n",
       "      <th>Name_1</th>\n",
       "      <th>Name_2</th>\n",
       "      <th>Name_3</th>\n",
       "      <th>Cabin_0</th>\n",
       "      <th>Cabin_1</th>\n",
       "      <th>...</th>\n",
       "      <th>Cabin_4</th>\n",
       "      <th>Cabin_5</th>\n",
       "      <th>Cabin_6</th>\n",
       "      <th>Cabin_7</th>\n",
       "      <th>Ticket</th>\n",
       "      <th>SibSp_0</th>\n",
       "      <th>SibSp_1</th>\n",
       "      <th>Parch_0</th>\n",
       "      <th>Parch_1</th>\n",
       "      <th>Age</th>\n",
       "    </tr>\n",
       "  </thead>\n",
       "  <tbody>\n",
       "    <tr>\n",
       "      <th>0</th>\n",
       "      <td>1.0</td>\n",
       "      <td>0.0</td>\n",
       "      <td>1.0</td>\n",
       "      <td>-0.500240</td>\n",
       "      <td>0.0</td>\n",
       "      <td>0.0</td>\n",
       "      <td>0.0</td>\n",
       "      <td>0.0</td>\n",
       "      <td>0.0</td>\n",
       "      <td>0.0</td>\n",
       "      <td>...</td>\n",
       "      <td>0.0</td>\n",
       "      <td>0.0</td>\n",
       "      <td>0.0</td>\n",
       "      <td>1.0</td>\n",
       "      <td>0</td>\n",
       "      <td>1.0</td>\n",
       "      <td>0.0</td>\n",
       "      <td>0.0</td>\n",
       "      <td>0.0</td>\n",
       "      <td>22.0</td>\n",
       "    </tr>\n",
       "    <tr>\n",
       "      <th>1</th>\n",
       "      <td>0.0</td>\n",
       "      <td>0.0</td>\n",
       "      <td>0.0</td>\n",
       "      <td>0.788947</td>\n",
       "      <td>1.0</td>\n",
       "      <td>0.0</td>\n",
       "      <td>0.0</td>\n",
       "      <td>0.0</td>\n",
       "      <td>0.0</td>\n",
       "      <td>1.0</td>\n",
       "      <td>...</td>\n",
       "      <td>0.0</td>\n",
       "      <td>0.0</td>\n",
       "      <td>0.0</td>\n",
       "      <td>0.0</td>\n",
       "      <td>0</td>\n",
       "      <td>1.0</td>\n",
       "      <td>0.0</td>\n",
       "      <td>0.0</td>\n",
       "      <td>0.0</td>\n",
       "      <td>38.0</td>\n",
       "    </tr>\n",
       "    <tr>\n",
       "      <th>2</th>\n",
       "      <td>0.0</td>\n",
       "      <td>0.0</td>\n",
       "      <td>1.0</td>\n",
       "      <td>-0.486650</td>\n",
       "      <td>0.0</td>\n",
       "      <td>1.0</td>\n",
       "      <td>0.0</td>\n",
       "      <td>0.0</td>\n",
       "      <td>0.0</td>\n",
       "      <td>0.0</td>\n",
       "      <td>...</td>\n",
       "      <td>0.0</td>\n",
       "      <td>0.0</td>\n",
       "      <td>0.0</td>\n",
       "      <td>1.0</td>\n",
       "      <td>0</td>\n",
       "      <td>0.0</td>\n",
       "      <td>0.0</td>\n",
       "      <td>0.0</td>\n",
       "      <td>0.0</td>\n",
       "      <td>26.0</td>\n",
       "    </tr>\n",
       "    <tr>\n",
       "      <th>3</th>\n",
       "      <td>0.0</td>\n",
       "      <td>0.0</td>\n",
       "      <td>1.0</td>\n",
       "      <td>0.422861</td>\n",
       "      <td>1.0</td>\n",
       "      <td>0.0</td>\n",
       "      <td>0.0</td>\n",
       "      <td>0.0</td>\n",
       "      <td>0.0</td>\n",
       "      <td>1.0</td>\n",
       "      <td>...</td>\n",
       "      <td>0.0</td>\n",
       "      <td>0.0</td>\n",
       "      <td>0.0</td>\n",
       "      <td>0.0</td>\n",
       "      <td>1</td>\n",
       "      <td>1.0</td>\n",
       "      <td>0.0</td>\n",
       "      <td>0.0</td>\n",
       "      <td>0.0</td>\n",
       "      <td>35.0</td>\n",
       "    </tr>\n",
       "    <tr>\n",
       "      <th>4</th>\n",
       "      <td>1.0</td>\n",
       "      <td>0.0</td>\n",
       "      <td>1.0</td>\n",
       "      <td>-0.484133</td>\n",
       "      <td>0.0</td>\n",
       "      <td>0.0</td>\n",
       "      <td>0.0</td>\n",
       "      <td>0.0</td>\n",
       "      <td>0.0</td>\n",
       "      <td>0.0</td>\n",
       "      <td>...</td>\n",
       "      <td>0.0</td>\n",
       "      <td>0.0</td>\n",
       "      <td>0.0</td>\n",
       "      <td>1.0</td>\n",
       "      <td>1</td>\n",
       "      <td>0.0</td>\n",
       "      <td>0.0</td>\n",
       "      <td>0.0</td>\n",
       "      <td>0.0</td>\n",
       "      <td>35.0</td>\n",
       "    </tr>\n",
       "    <tr>\n",
       "      <th>...</th>\n",
       "      <td>...</td>\n",
       "      <td>...</td>\n",
       "      <td>...</td>\n",
       "      <td>...</td>\n",
       "      <td>...</td>\n",
       "      <td>...</td>\n",
       "      <td>...</td>\n",
       "      <td>...</td>\n",
       "      <td>...</td>\n",
       "      <td>...</td>\n",
       "      <td>...</td>\n",
       "      <td>...</td>\n",
       "      <td>...</td>\n",
       "      <td>...</td>\n",
       "      <td>...</td>\n",
       "      <td>...</td>\n",
       "      <td>...</td>\n",
       "      <td>...</td>\n",
       "      <td>...</td>\n",
       "      <td>...</td>\n",
       "      <td>...</td>\n",
       "    </tr>\n",
       "    <tr>\n",
       "      <th>886</th>\n",
       "      <td>1.0</td>\n",
       "      <td>0.0</td>\n",
       "      <td>1.0</td>\n",
       "      <td>-0.384475</td>\n",
       "      <td>0.0</td>\n",
       "      <td>0.0</td>\n",
       "      <td>0.0</td>\n",
       "      <td>1.0</td>\n",
       "      <td>0.0</td>\n",
       "      <td>0.0</td>\n",
       "      <td>...</td>\n",
       "      <td>0.0</td>\n",
       "      <td>0.0</td>\n",
       "      <td>0.0</td>\n",
       "      <td>1.0</td>\n",
       "      <td>1</td>\n",
       "      <td>0.0</td>\n",
       "      <td>0.0</td>\n",
       "      <td>0.0</td>\n",
       "      <td>0.0</td>\n",
       "      <td>27.0</td>\n",
       "    </tr>\n",
       "    <tr>\n",
       "      <th>887</th>\n",
       "      <td>0.0</td>\n",
       "      <td>0.0</td>\n",
       "      <td>1.0</td>\n",
       "      <td>-0.042213</td>\n",
       "      <td>0.0</td>\n",
       "      <td>1.0</td>\n",
       "      <td>0.0</td>\n",
       "      <td>0.0</td>\n",
       "      <td>1.0</td>\n",
       "      <td>0.0</td>\n",
       "      <td>...</td>\n",
       "      <td>0.0</td>\n",
       "      <td>0.0</td>\n",
       "      <td>0.0</td>\n",
       "      <td>0.0</td>\n",
       "      <td>1</td>\n",
       "      <td>0.0</td>\n",
       "      <td>0.0</td>\n",
       "      <td>0.0</td>\n",
       "      <td>0.0</td>\n",
       "      <td>19.0</td>\n",
       "    </tr>\n",
       "    <tr>\n",
       "      <th>888</th>\n",
       "      <td>0.0</td>\n",
       "      <td>0.0</td>\n",
       "      <td>1.0</td>\n",
       "      <td>-0.174084</td>\n",
       "      <td>0.0</td>\n",
       "      <td>1.0</td>\n",
       "      <td>0.0</td>\n",
       "      <td>0.0</td>\n",
       "      <td>0.0</td>\n",
       "      <td>0.0</td>\n",
       "      <td>...</td>\n",
       "      <td>0.0</td>\n",
       "      <td>0.0</td>\n",
       "      <td>0.0</td>\n",
       "      <td>1.0</td>\n",
       "      <td>0</td>\n",
       "      <td>1.0</td>\n",
       "      <td>0.0</td>\n",
       "      <td>0.0</td>\n",
       "      <td>1.0</td>\n",
       "      <td>NaN</td>\n",
       "    </tr>\n",
       "    <tr>\n",
       "      <th>889</th>\n",
       "      <td>1.0</td>\n",
       "      <td>0.0</td>\n",
       "      <td>0.0</td>\n",
       "      <td>-0.042213</td>\n",
       "      <td>0.0</td>\n",
       "      <td>0.0</td>\n",
       "      <td>0.0</td>\n",
       "      <td>0.0</td>\n",
       "      <td>0.0</td>\n",
       "      <td>1.0</td>\n",
       "      <td>...</td>\n",
       "      <td>0.0</td>\n",
       "      <td>0.0</td>\n",
       "      <td>0.0</td>\n",
       "      <td>0.0</td>\n",
       "      <td>1</td>\n",
       "      <td>0.0</td>\n",
       "      <td>0.0</td>\n",
       "      <td>0.0</td>\n",
       "      <td>0.0</td>\n",
       "      <td>26.0</td>\n",
       "    </tr>\n",
       "    <tr>\n",
       "      <th>890</th>\n",
       "      <td>1.0</td>\n",
       "      <td>1.0</td>\n",
       "      <td>0.0</td>\n",
       "      <td>-0.490173</td>\n",
       "      <td>0.0</td>\n",
       "      <td>0.0</td>\n",
       "      <td>0.0</td>\n",
       "      <td>0.0</td>\n",
       "      <td>0.0</td>\n",
       "      <td>0.0</td>\n",
       "      <td>...</td>\n",
       "      <td>0.0</td>\n",
       "      <td>0.0</td>\n",
       "      <td>0.0</td>\n",
       "      <td>1.0</td>\n",
       "      <td>1</td>\n",
       "      <td>0.0</td>\n",
       "      <td>0.0</td>\n",
       "      <td>0.0</td>\n",
       "      <td>0.0</td>\n",
       "      <td>32.0</td>\n",
       "    </tr>\n",
       "  </tbody>\n",
       "</table>\n",
       "<p>889 rows × 22 columns</p>\n",
       "</div>"
      ],
      "text/plain": [
       "     Sex_Embarked_x0_male  Sex_Embarked_x1_Q  Sex_Embarked_x1_S      Fare  \\\n",
       "0                     1.0                0.0                1.0 -0.500240   \n",
       "1                     0.0                0.0                0.0  0.788947   \n",
       "2                     0.0                0.0                1.0 -0.486650   \n",
       "3                     0.0                0.0                1.0  0.422861   \n",
       "4                     1.0                0.0                1.0 -0.484133   \n",
       "..                    ...                ...                ...       ...   \n",
       "886                   1.0                0.0                1.0 -0.384475   \n",
       "887                   0.0                0.0                1.0 -0.042213   \n",
       "888                   0.0                0.0                1.0 -0.174084   \n",
       "889                   1.0                0.0                0.0 -0.042213   \n",
       "890                   1.0                1.0                0.0 -0.490173   \n",
       "\n",
       "     Name_0  Name_1  Name_2  Name_3  Cabin_0  Cabin_1  ...  Cabin_4  Cabin_5  \\\n",
       "0       0.0     0.0     0.0     0.0      0.0      0.0  ...      0.0      0.0   \n",
       "1       1.0     0.0     0.0     0.0      0.0      1.0  ...      0.0      0.0   \n",
       "2       0.0     1.0     0.0     0.0      0.0      0.0  ...      0.0      0.0   \n",
       "3       1.0     0.0     0.0     0.0      0.0      1.0  ...      0.0      0.0   \n",
       "4       0.0     0.0     0.0     0.0      0.0      0.0  ...      0.0      0.0   \n",
       "..      ...     ...     ...     ...      ...      ...  ...      ...      ...   \n",
       "886     0.0     0.0     0.0     1.0      0.0      0.0  ...      0.0      0.0   \n",
       "887     0.0     1.0     0.0     0.0      1.0      0.0  ...      0.0      0.0   \n",
       "888     0.0     1.0     0.0     0.0      0.0      0.0  ...      0.0      0.0   \n",
       "889     0.0     0.0     0.0     0.0      0.0      1.0  ...      0.0      0.0   \n",
       "890     0.0     0.0     0.0     0.0      0.0      0.0  ...      0.0      0.0   \n",
       "\n",
       "     Cabin_6  Cabin_7  Ticket  SibSp_0  SibSp_1  Parch_0  Parch_1   Age  \n",
       "0        0.0      1.0       0      1.0      0.0      0.0      0.0  22.0  \n",
       "1        0.0      0.0       0      1.0      0.0      0.0      0.0  38.0  \n",
       "2        0.0      1.0       0      0.0      0.0      0.0      0.0  26.0  \n",
       "3        0.0      0.0       1      1.0      0.0      0.0      0.0  35.0  \n",
       "4        0.0      1.0       1      0.0      0.0      0.0      0.0  35.0  \n",
       "..       ...      ...     ...      ...      ...      ...      ...   ...  \n",
       "886      0.0      1.0       1      0.0      0.0      0.0      0.0  27.0  \n",
       "887      0.0      0.0       1      0.0      0.0      0.0      0.0  19.0  \n",
       "888      0.0      1.0       0      1.0      0.0      0.0      1.0   NaN  \n",
       "889      0.0      0.0       1      0.0      0.0      0.0      0.0  26.0  \n",
       "890      0.0      1.0       1      0.0      0.0      0.0      0.0  32.0  \n",
       "\n",
       "[889 rows x 22 columns]"
      ]
     },
     "execution_count": 40,
     "metadata": {},
     "output_type": "execute_result"
    }
   ],
   "source": [
    "dfX_preproc = preprocess_data_dfm.fit_transform(dfX_pre)\n",
    "dfX_preproc"
   ]
  },
  {
   "cell_type": "markdown",
   "metadata": {},
   "source": [
    "**Note:** Since in the original ```preprocess_data``` ```ColumnTransformer```, since \n",
    "we performed the ```OneHotEncoding``` jointly for ```Sex``` and ```Embarked```, as \n",
    "```python  \n",
    "('enc', OneHotEncoder(drop='first'), ['Sex', 'Embarked'])\n",
    "```\n",
    "So the column names we get are \n",
    "- ```Sex_Embarked_x0_male``` - which actually refers just ```Sex='Male'``` \n",
    "- ```Sex_Embarked_x1_Q``` - which actually refers just ```Embarked='Q'```"
   ]
  },
  {
   "cell_type": "markdown",
   "metadata": {},
   "source": [
    "**WOW! This actually worked!!!** But we can make our transformers more suited for these tasks by implementing a ```get_feature_names``` for each transformer we define"
   ]
  },
  {
   "cell_type": "markdown",
   "metadata": {},
   "source": [
    "### Create an estimator to impute  missing values based on supervised methods"
   ]
  },
  {
   "cell_type": "markdown",
   "metadata": {},
   "source": [
    "```cross_val_score``` doesn't take input as a ```DataFrame```, so we need to provide a ```df_out``` argument"
   ]
  },
  {
   "cell_type": "code",
   "execution_count": 115,
   "metadata": {},
   "outputs": [],
   "source": [
    "from sklearn.base import BaseEstimator\n",
    "\n",
    "# TODO: Add support for lower and upper bounds?\n",
    "class SupervisedImputer(BaseEstimator):\n",
    "    '''Perform supervised imputation using any estimator\n",
    "    \n",
    "    Note: Currently only one column imputation is supported\n",
    "    \n",
    "    Parameters\n",
    "    ----------\n",
    "    \n",
    "    estimator: an estimator object\n",
    "    \n",
    "    key_NA: str\n",
    "        the column to impute provided as a string\n",
    "        \n",
    "    keys_nonNA: list\n",
    "        the regressors for the imputation provided as a list of column keys\n",
    "        \n",
    "    df_out: bool default=False\n",
    "        whether to return a dataframe or not\n",
    "    '''\n",
    "    \n",
    "    def __init__(self ,estimator, key_NA, keys_nonNA=None, df_out=False):\n",
    "        self.estimator = estimator\n",
    "        self.key_NA = key_NA\n",
    "        self.keys_nonNA = keys_nonNA\n",
    "        self._has_no_NA = False\n",
    "        self.df_out = df_out\n",
    "        \n",
    "        \n",
    "    def fit(self, X, y=None, *args, **kwargs):\n",
    "        \n",
    "        X = X.dropna(subset=[self.key_NA])\n",
    "        y = X.loc[:, self.key_NA]\n",
    "        \n",
    "        if self.keys_nonNA is None:\n",
    "            X = X.drop(self.key_NA, axis=1)\n",
    "        else:\n",
    "            X = X.loc[:, self.keys_nonNA]\n",
    "                    \n",
    "        self.estimator.fit(X, y)\n",
    "        \n",
    "        return self\n",
    "        \n",
    "        \n",
    "    def transform(self, X, y=None, *args, **kwargs):\n",
    "        y = X.loc[:, self.key_NA]\n",
    "        y_is_NA = y.isna()\n",
    "        \n",
    "        if not y_is_NA.any():\n",
    "            return X        \n",
    "        \n",
    "        X =  X.copy()\n",
    "        X_NA = X.loc[y_is_NA, :].drop(self.key_NA, axis=1)\n",
    "        X.loc[y_is_NA, self.key_NA] = self.estimator.predict(X_NA)\n",
    "        \n",
    "        if not self.df_out:\n",
    "            return X.values\n",
    "        \n",
    "        return X\n",
    "    \n",
    "    def fit_transform(self, X, y=None, *args, **kwargs):\n",
    "        return self.fit(X, y, *args, **kwargs).transform(X, y, *args, **kwargs)"
   ]
  },
  {
   "cell_type": "code",
   "execution_count": 116,
   "metadata": {},
   "outputs": [],
   "source": [
    "from sklearn.linear_model import Ridge"
   ]
  },
  {
   "cell_type": "markdown",
   "metadata": {},
   "source": [
    "Supervised imputation with ```Ridge``` regression. We should possibly be able to tune it's ```hyperparameters``` too."
   ]
  },
  {
   "cell_type": "code",
   "execution_count": 117,
   "metadata": {},
   "outputs": [
    {
     "data": {
      "text/plain": [
       "SupervisedImputer(df_out=False,\n",
       "                  estimator=Ridge(alpha=1.0, copy_X=True, fit_intercept=True,\n",
       "                                  max_iter=None, normalize=False,\n",
       "                                  random_state=None, solver='auto', tol=0.001),\n",
       "                  key_NA='Age', keys_nonNA=None)"
      ]
     },
     "execution_count": 117,
     "metadata": {},
     "output_type": "execute_result"
    }
   ],
   "source": [
    "sup_imp = SupervisedImputer(Ridge(), 'Age')\n",
    "sup_imp"
   ]
  },
  {
   "cell_type": "code",
   "execution_count": 118,
   "metadata": {},
   "outputs": [
    {
     "data": {
      "text/plain": [
       "array([[ 1.        ,  0.        ,  1.        , ...,  0.        ,\n",
       "         0.        , 22.        ],\n",
       "       [ 0.        ,  0.        ,  0.        , ...,  0.        ,\n",
       "         0.        , 38.        ],\n",
       "       [ 0.        ,  0.        ,  1.        , ...,  0.        ,\n",
       "         0.        , 26.        ],\n",
       "       ...,\n",
       "       [ 0.        ,  0.        ,  1.        , ...,  0.        ,\n",
       "         1.        , 16.48266917],\n",
       "       [ 1.        ,  0.        ,  0.        , ...,  0.        ,\n",
       "         0.        , 26.        ],\n",
       "       [ 1.        ,  1.        ,  0.        , ...,  0.        ,\n",
       "         0.        , 32.        ]])"
      ]
     },
     "execution_count": 118,
     "metadata": {},
     "output_type": "execute_result"
    }
   ],
   "source": [
    "sup_imp.fit_transform(dfX_preproc)"
   ]
  },
  {
   "cell_type": "code",
   "execution_count": 133,
   "metadata": {},
   "outputs": [],
   "source": [
    "from sklearn.ensemble import RandomForestRegressor"
   ]
  },
  {
   "cell_type": "markdown",
   "metadata": {},
   "source": [
    "Supervised imputation with ```RandomForestRegressor```"
   ]
  },
  {
   "cell_type": "code",
   "execution_count": 134,
   "metadata": {},
   "outputs": [
    {
     "data": {
      "text/plain": [
       "array([[ 1.        ,  0.        ,  1.        , ...,  0.        ,\n",
       "         0.        , 22.        ],\n",
       "       [ 0.        ,  0.        ,  0.        , ...,  0.        ,\n",
       "         0.        , 38.        ],\n",
       "       [ 0.        ,  0.        ,  1.        , ...,  0.        ,\n",
       "         0.        , 26.        ],\n",
       "       ...,\n",
       "       [ 0.        ,  0.        ,  1.        , ...,  0.        ,\n",
       "         1.        ,  8.38516667],\n",
       "       [ 1.        ,  0.        ,  0.        , ...,  0.        ,\n",
       "         0.        , 26.        ],\n",
       "       [ 1.        ,  1.        ,  0.        , ...,  0.        ,\n",
       "         0.        , 32.        ]])"
      ]
     },
     "execution_count": 134,
     "metadata": {},
     "output_type": "execute_result"
    }
   ],
   "source": [
    "modified = Pipeline([\n",
    "    ('preprocess', preprocess_data_dfm),\n",
    "    ('impute', SupervisedImputer(RandomForestRegressor(), 'Age'))\n",
    "])\n",
    "\n",
    "modified.fit_transform(dfX_pre)"
   ]
  },
  {
   "cell_type": "code",
   "execution_count": 135,
   "metadata": {},
   "outputs": [],
   "source": [
    "dp.preprocess_data = modified"
   ]
  },
  {
   "cell_type": "code",
   "execution_count": 136,
   "metadata": {},
   "outputs": [
    {
     "data": {
      "text/plain": [
       "array([[ 1.    ,  0.    ,  1.    , ...,  0.    ,  0.    , 22.    ],\n",
       "       [ 0.    ,  0.    ,  0.    , ...,  0.    ,  0.    , 38.    ],\n",
       "       [ 0.    ,  0.    ,  1.    , ...,  0.    ,  0.    , 26.    ],\n",
       "       ...,\n",
       "       [ 0.    ,  0.    ,  1.    , ...,  0.    ,  1.    ,  7.7265],\n",
       "       [ 1.    ,  0.    ,  0.    , ...,  0.    ,  0.    , 26.    ],\n",
       "       [ 1.    ,  1.    ,  0.    , ...,  0.    ,  0.    , 32.    ]])"
      ]
     },
     "execution_count": 136,
     "metadata": {},
     "output_type": "execute_result"
    }
   ],
   "source": [
    "dfX_pre, dfy_pre = dp.prepare()\n",
    "dp.preprocess()"
   ]
  },
  {
   "cell_type": "markdown",
   "metadata": {},
   "source": [
    "```train score```"
   ]
  },
  {
   "cell_type": "code",
   "execution_count": 137,
   "metadata": {},
   "outputs": [
    {
     "data": {
      "text/plain": [
       "0.9910011248593926"
      ]
     },
     "execution_count": 137,
     "metadata": {},
     "output_type": "execute_result"
    }
   ],
   "source": [
    "dp.fit().score()"
   ]
  },
  {
   "cell_type": "markdown",
   "metadata": {},
   "source": [
    "```crossvalidated accuracy```"
   ]
  },
  {
   "cell_type": "code",
   "execution_count": 138,
   "metadata": {},
   "outputs": [
    {
     "data": {
      "text/plain": [
       "0.8065511331175014"
      ]
     },
     "execution_count": 138,
     "metadata": {},
     "output_type": "execute_result"
    }
   ],
   "source": [
    "cross_val_score(dp, dfX_pre, dfy_pre).mean()"
   ]
  },
  {
   "cell_type": "markdown",
   "metadata": {},
   "source": [
    "Looks like ```DataFrameMapper``` doesn't include ```hyperparameters``` of the ```nested transformers```"
   ]
  },
  {
   "cell_type": "code",
   "execution_count": 147,
   "metadata": {},
   "outputs": [
    {
     "name": "stdout",
     "output_type": "stream",
     "text": [
      "['data',\n",
      " 'description',\n",
      " 'mlmodel',\n",
      " 'prepare_data__memory',\n",
      " 'prepare_data__steps',\n",
      " 'prepare_data__verbose',\n",
      " 'prepare_data__nan_drpr',\n",
      " 'prepare_data__nan_drpr__key',\n",
      " 'prepare_data',\n",
      " 'preprocess_data',\n",
      " 'ycol',\n",
      " 'preprocessing',\n",
      " 'train',\n",
      " 'preprocessing__memory',\n",
      " 'preprocessing__steps',\n",
      " 'preprocessing__verbose',\n",
      " 'preprocessing__preprocess',\n",
      " 'preprocessing__impute',\n",
      " 'preprocessing__preprocess__default',\n",
      " 'preprocessing__preprocess__df_out',\n",
      " 'preprocessing__preprocess__features',\n",
      " 'preprocessing__preprocess__input_df',\n",
      " 'preprocessing__preprocess__sparse',\n",
      " 'preprocessing__impute__df_out',\n",
      " 'preprocessing__impute__estimator__bootstrap',\n",
      " 'preprocessing__impute__estimator__ccp_alpha',\n",
      " 'preprocessing__impute__estimator__criterion',\n",
      " 'preprocessing__impute__estimator__max_depth',\n",
      " 'preprocessing__impute__estimator__max_features',\n",
      " 'preprocessing__impute__estimator__max_leaf_nodes',\n",
      " 'preprocessing__impute__estimator__max_samples',\n",
      " 'preprocessing__impute__estimator__min_impurity_decrease',\n",
      " 'preprocessing__impute__estimator__min_impurity_split',\n",
      " 'preprocessing__impute__estimator__min_samples_leaf',\n",
      " 'preprocessing__impute__estimator__min_samples_split',\n",
      " 'preprocessing__impute__estimator__min_weight_fraction_leaf',\n",
      " 'preprocessing__impute__estimator__n_estimators',\n",
      " 'preprocessing__impute__estimator__n_jobs',\n",
      " 'preprocessing__impute__estimator__oob_score',\n",
      " 'preprocessing__impute__estimator__random_state',\n",
      " 'preprocessing__impute__estimator__verbose',\n",
      " 'preprocessing__impute__estimator__warm_start',\n",
      " 'preprocessing__impute__estimator',\n",
      " 'preprocessing__impute__key_NA',\n",
      " 'preprocessing__impute__keys_nonNA',\n",
      " 'train__bootstrap',\n",
      " 'train__ccp_alpha',\n",
      " 'train__class_weight',\n",
      " 'train__criterion',\n",
      " 'train__max_depth',\n",
      " 'train__max_features',\n",
      " 'train__max_leaf_nodes',\n",
      " 'train__max_samples',\n",
      " 'train__min_impurity_decrease',\n",
      " 'train__min_impurity_split',\n",
      " 'train__min_samples_leaf',\n",
      " 'train__min_samples_split',\n",
      " 'train__min_weight_fraction_leaf',\n",
      " 'train__n_estimators',\n",
      " 'train__n_jobs',\n",
      " 'train__oob_score',\n",
      " 'train__random_state',\n",
      " 'train__verbose',\n",
      " 'train__warm_start']\n"
     ]
    }
   ],
   "source": [
    "print_params(dp)"
   ]
  },
  {
   "cell_type": "code",
   "execution_count": 146,
   "metadata": {},
   "outputs": [],
   "source": [
    "%autoreload 2"
   ]
  }
 ],
 "metadata": {
  "kernelspec": {
   "display_name": "Python [conda env:titansurv] *",
   "language": "python",
   "name": "conda-env-titansurv-py"
  },
  "language_info": {
   "codemirror_mode": {
    "name": "ipython",
    "version": 3
   },
   "file_extension": ".py",
   "mimetype": "text/x-python",
   "name": "python",
   "nbconvert_exporter": "python",
   "pygments_lexer": "ipython3",
   "version": "3.8.2"
  },
  "toc": {
   "base_numbering": 1,
   "nav_menu": {},
   "number_sections": true,
   "sideBar": true,
   "skip_h1_title": false,
   "title_cell": "Table of Contents",
   "title_sidebar": "Contents",
   "toc_cell": false,
   "toc_position": {},
   "toc_section_display": true,
   "toc_window_display": false
  }
 },
 "nbformat": 4,
 "nbformat_minor": 2
}
