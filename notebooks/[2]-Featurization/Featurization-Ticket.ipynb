{
 "cells": [
  {
   "cell_type": "markdown",
   "metadata": {},
   "source": [
    "# Featurization - `Ticket`"
   ]
  },
  {
   "cell_type": "markdown",
   "metadata": {},
   "source": [
    "1. Remove special characters but not space\n",
    "2. replace numeric strings by 'numeric'\n",
    "3. split on space and keep the first item"
   ]
  },
  {
   "cell_type": "code",
   "execution_count": 25,
   "metadata": {
    "ExecuteTime": {
     "end_time": "2020-05-12T07:10:07.625422Z",
     "start_time": "2020-05-12T07:10:07.615731Z"
    }
   },
   "outputs": [],
   "source": [
    "import pandas as pd"
   ]
  },
  {
   "cell_type": "code",
   "execution_count": 26,
   "metadata": {
    "ExecuteTime": {
     "end_time": "2020-05-12T07:10:08.146216Z",
     "start_time": "2020-05-12T07:10:08.126345Z"
    }
   },
   "outputs": [],
   "source": [
    "df = pd.read_csv(\"../../data/raw/train.csv\")\n",
    "dfX = df.drop(['Survived', 'PassengerId'], axis=1)\n",
    "dfy = df.Survived"
   ]
  },
  {
   "cell_type": "code",
   "execution_count": 27,
   "metadata": {
    "ExecuteTime": {
     "end_time": "2020-05-12T07:10:08.498349Z",
     "start_time": "2020-05-12T07:10:08.489277Z"
    }
   },
   "outputs": [
    {
     "data": {
      "text/plain": [
       "0             A/5 21171\n",
       "1              PC 17599\n",
       "2      STON/O2. 3101282\n",
       "3                113803\n",
       "4                373450\n",
       "             ...       \n",
       "886              211536\n",
       "887              112053\n",
       "888          W./C. 6607\n",
       "889              111369\n",
       "890              370376\n",
       "Name: Ticket, Length: 891, dtype: object"
      ]
     },
     "execution_count": 27,
     "metadata": {},
     "output_type": "execute_result"
    }
   ],
   "source": [
    "df.Ticket"
   ]
  },
  {
   "cell_type": "markdown",
   "metadata": {},
   "source": [
    "## Function to extract the ticket type"
   ]
  },
  {
   "cell_type": "code",
   "execution_count": 33,
   "metadata": {
    "ExecuteTime": {
     "end_time": "2020-05-12T07:11:01.240163Z",
     "start_time": "2020-05-12T07:11:01.214065Z"
    }
   },
   "outputs": [],
   "source": [
    "def extract_ticket_type(x):\n",
    "    '''\n",
    "    1. Remove special characters but not space\n",
    "    2. replace numeric strings by 'numeric'\n",
    "    3. split on space and keep the first item\n",
    "\n",
    "    '''\n",
    "    x = x.str.replace(r'[^A-Za-z0-9\\s]+', '')\n",
    "    \n",
    "    def replace(v):\n",
    "        if not v.isdigit():\n",
    "            return v.split(' ')[0]\n",
    "        else:\n",
    "            return 'numeric'\n",
    "        \n",
    "    x = x.apply(replace)\n",
    "    \n",
    "    return pd.DataFrame(x)"
   ]
  },
  {
   "cell_type": "code",
   "execution_count": 34,
   "metadata": {
    "ExecuteTime": {
     "end_time": "2020-05-12T07:11:01.713844Z",
     "start_time": "2020-05-12T07:11:01.679674Z"
    }
   },
   "outputs": [
    {
     "data": {
      "text/plain": [
       "0           A5\n",
       "1           PC\n",
       "2       STONO2\n",
       "3      numeric\n",
       "4      numeric\n",
       "        ...   \n",
       "886    numeric\n",
       "887    numeric\n",
       "888         WC\n",
       "889    numeric\n",
       "890    numeric\n",
       "Name: Ticket, Length: 891, dtype: object"
      ]
     },
     "execution_count": 34,
     "metadata": {},
     "output_type": "execute_result"
    }
   ],
   "source": [
    "ticket_type = extract_ticket_type(df.Ticket).Ticket\n",
    "ticket_type"
   ]
  },
  {
   "cell_type": "code",
   "execution_count": 35,
   "metadata": {
    "ExecuteTime": {
     "end_time": "2020-05-12T07:11:03.197019Z",
     "start_time": "2020-05-12T07:11:03.162372Z"
    },
    "scrolled": true
   },
   "outputs": [
    {
     "data": {
      "text/plain": [
       "numeric    661\n",
       "PC          60\n",
       "CA          41\n",
       "A5          21\n",
       "SOTONOQ     15\n",
       "STONO       12\n",
       "WC          10\n",
       "SCPARIS      7\n",
       "A4           7\n",
       "SOC          6\n",
       "STONO2       6\n",
       "FCC          5\n",
       "C            5\n",
       "SCParis      4\n",
       "LINE         4\n",
       "SCAH         3\n",
       "SOPP         3\n",
       "WEP          3\n",
       "PP           3\n",
       "SWPP         2\n",
       "SOTONO2      2\n",
       "PPP          2\n",
       "AS           1\n",
       "FC           1\n",
       "Fa           1\n",
       "SOP          1\n",
       "CASOTON      1\n",
       "SP           1\n",
       "SCOW         1\n",
       "SC           1\n",
       "SCA4         1\n",
       "Name: Ticket, dtype: int64"
      ]
     },
     "execution_count": 35,
     "metadata": {},
     "output_type": "execute_result"
    }
   ],
   "source": [
    "ticket_type.value_counts()"
   ]
  },
  {
   "cell_type": "code",
   "execution_count": 36,
   "metadata": {
    "ExecuteTime": {
     "end_time": "2020-05-12T07:11:04.007685Z",
     "start_time": "2020-05-12T07:11:03.998274Z"
    }
   },
   "outputs": [],
   "source": [
    "from src.utils import group_low_count_cat"
   ]
  },
  {
   "cell_type": "code",
   "execution_count": 37,
   "metadata": {
    "ExecuteTime": {
     "end_time": "2020-05-12T07:11:05.207014Z",
     "start_time": "2020-05-12T07:11:05.156474Z"
    }
   },
   "outputs": [
    {
     "data": {
      "text/plain": [
       "Index(['numeric', 'other', 'PC', 'CA', 'A5'], dtype='object')"
      ]
     },
     "execution_count": 37,
     "metadata": {},
     "output_type": "execute_result"
    }
   ],
   "source": [
    "group_low_count_cat(ticket_type, 15, 'other').index"
   ]
  },
  {
   "cell_type": "markdown",
   "metadata": {},
   "source": [
    "## Modified function\n",
    "### So now we can modify our function to group these categories"
   ]
  },
  {
   "cell_type": "code",
   "execution_count": 41,
   "metadata": {
    "ExecuteTime": {
     "end_time": "2020-05-12T07:15:11.705739Z",
     "start_time": "2020-05-12T07:15:11.661210Z"
    }
   },
   "outputs": [],
   "source": [
    "def extract_ticket_type(x, only_numeric=False, exclude_thresh=None):\n",
    "    '''\n",
    "    1. Remove special characters but not space\n",
    "    2. replace numeric strings by 'numeric'\n",
    "    3. split on space and keep the first item\n",
    "    4. Group all categories into 'other' excluding above {exclude_thresh}\n",
    "    5. Put rest into 'other'\n",
    "    '''\n",
    "    x = x.str.replace(r'[^A-Za-z0-9\\s]+', '')\n",
    "    \n",
    "    def replace(v):\n",
    "        if not v.isdigit():\n",
    "            return v.split(' ')[0]\n",
    "        else:\n",
    "            return 'numeric'\n",
    "     \n",
    "    x = x.apply(replace)\n",
    "        \n",
    "    if only_numeric:\n",
    "        x.loc[~x.isin(['numeric'])] = 'other'\n",
    "        return pd.DataFrame(x)\n",
    "    \n",
    "    elif exclude_thresh is not None:\n",
    "        if exclude_thresh <= 10:\n",
    "            cat = ['PC', 'CA', 'A5', 'SOTONOQ', 'STONO']\n",
    "        elif exclude_thresh <= 12:\n",
    "            cat = ['PC', 'CA', 'A5', 'SOTONOQ']\n",
    "        elif exclude_thresh <= 15:\n",
    "            cat = ['PC', 'CA', 'A5']\n",
    "            \n",
    "        x.loc[~x.isin(['numeric'] + cat)] = 'other'    \n",
    "    \n",
    "    return pd.DataFrame(x)"
   ]
  },
  {
   "cell_type": "markdown",
   "metadata": {},
   "source": [
    "### Default behaviour"
   ]
  },
  {
   "cell_type": "code",
   "execution_count": 42,
   "metadata": {
    "ExecuteTime": {
     "end_time": "2020-05-12T07:15:12.497707Z",
     "start_time": "2020-05-12T07:15:12.453250Z"
    }
   },
   "outputs": [
    {
     "data": {
      "text/html": [
       "<div>\n",
       "<style scoped>\n",
       "    .dataframe tbody tr th:only-of-type {\n",
       "        vertical-align: middle;\n",
       "    }\n",
       "\n",
       "    .dataframe tbody tr th {\n",
       "        vertical-align: top;\n",
       "    }\n",
       "\n",
       "    .dataframe thead th {\n",
       "        text-align: right;\n",
       "    }\n",
       "</style>\n",
       "<table border=\"1\" class=\"dataframe\">\n",
       "  <thead>\n",
       "    <tr style=\"text-align: right;\">\n",
       "      <th></th>\n",
       "      <th>Ticket</th>\n",
       "    </tr>\n",
       "  </thead>\n",
       "  <tbody>\n",
       "    <tr>\n",
       "      <th>0</th>\n",
       "      <td>A5</td>\n",
       "    </tr>\n",
       "    <tr>\n",
       "      <th>1</th>\n",
       "      <td>PC</td>\n",
       "    </tr>\n",
       "    <tr>\n",
       "      <th>2</th>\n",
       "      <td>STONO2</td>\n",
       "    </tr>\n",
       "    <tr>\n",
       "      <th>3</th>\n",
       "      <td>numeric</td>\n",
       "    </tr>\n",
       "    <tr>\n",
       "      <th>4</th>\n",
       "      <td>numeric</td>\n",
       "    </tr>\n",
       "    <tr>\n",
       "      <th>...</th>\n",
       "      <td>...</td>\n",
       "    </tr>\n",
       "    <tr>\n",
       "      <th>886</th>\n",
       "      <td>numeric</td>\n",
       "    </tr>\n",
       "    <tr>\n",
       "      <th>887</th>\n",
       "      <td>numeric</td>\n",
       "    </tr>\n",
       "    <tr>\n",
       "      <th>888</th>\n",
       "      <td>WC</td>\n",
       "    </tr>\n",
       "    <tr>\n",
       "      <th>889</th>\n",
       "      <td>numeric</td>\n",
       "    </tr>\n",
       "    <tr>\n",
       "      <th>890</th>\n",
       "      <td>numeric</td>\n",
       "    </tr>\n",
       "  </tbody>\n",
       "</table>\n",
       "<p>891 rows × 1 columns</p>\n",
       "</div>"
      ],
      "text/plain": [
       "      Ticket\n",
       "0         A5\n",
       "1         PC\n",
       "2     STONO2\n",
       "3    numeric\n",
       "4    numeric\n",
       "..       ...\n",
       "886  numeric\n",
       "887  numeric\n",
       "888       WC\n",
       "889  numeric\n",
       "890  numeric\n",
       "\n",
       "[891 rows x 1 columns]"
      ]
     },
     "execution_count": 42,
     "metadata": {},
     "output_type": "execute_result"
    }
   ],
   "source": [
    "extract_ticket_type(df.Ticket)"
   ]
  },
  {
   "cell_type": "markdown",
   "metadata": {},
   "source": [
    "### only_numeric"
   ]
  },
  {
   "cell_type": "code",
   "execution_count": 43,
   "metadata": {
    "ExecuteTime": {
     "end_time": "2020-05-12T07:15:51.170298Z",
     "start_time": "2020-05-12T07:15:51.123802Z"
    }
   },
   "outputs": [
    {
     "data": {
      "text/plain": [
       "numeric    661\n",
       "other      230\n",
       "Name: Ticket, dtype: int64"
      ]
     },
     "execution_count": 43,
     "metadata": {},
     "output_type": "execute_result"
    }
   ],
   "source": [
    "extract_ticket_type(df.Ticket, only_numeric=True).Ticket.value_counts()"
   ]
  },
  {
   "cell_type": "markdown",
   "metadata": {},
   "source": [
    "### select a threshold"
   ]
  },
  {
   "cell_type": "code",
   "execution_count": 44,
   "metadata": {
    "ExecuteTime": {
     "end_time": "2020-05-12T07:15:54.210878Z",
     "start_time": "2020-05-12T07:15:54.163023Z"
    }
   },
   "outputs": [
    {
     "data": {
      "text/plain": [
       "numeric    661\n",
       "other       81\n",
       "PC          60\n",
       "CA          41\n",
       "A5          21\n",
       "SOTONOQ     15\n",
       "STONO       12\n",
       "Name: Ticket, dtype: int64"
      ]
     },
     "execution_count": 44,
     "metadata": {},
     "output_type": "execute_result"
    }
   ],
   "source": [
    "extract_ticket_type(df.Ticket, exclude_thresh=10).Ticket.value_counts()"
   ]
  },
  {
   "cell_type": "markdown",
   "metadata": {},
   "source": [
    "## Custom `Transformer ` for Extracting the Ticket type"
   ]
  },
  {
   "cell_type": "code",
   "execution_count": 74,
   "metadata": {
    "ExecuteTime": {
     "end_time": "2020-05-12T08:57:10.481547Z",
     "start_time": "2020-05-12T08:57:10.470932Z"
    }
   },
   "outputs": [],
   "source": [
    "from sklearn.base import BaseEstimator, TransformerMixin\n",
    "from sklearn.preprocessing import OneHotEncoder\n",
    "from sklearn.compose import make_column_transformer"
   ]
  },
  {
   "cell_type": "code",
   "execution_count": 75,
   "metadata": {
    "ExecuteTime": {
     "end_time": "2020-05-12T08:57:10.725700Z",
     "start_time": "2020-05-12T08:57:10.691078Z"
    }
   },
   "outputs": [],
   "source": [
    "class TicketTypeExtractor(BaseEstimator, TransformerMixin):\n",
    "    \n",
    "    def __init__(self,  only_numeric=False, exclude_thresh=10, drop='auto', \n",
    "                 handle_unknown='prespecify', sparse=False):\n",
    "        self.exclude_thresh = exclude_thresh\n",
    "        self.only_numeric = only_numeric\n",
    "        self.handle_unknown = handle_unknown\n",
    "        self.drop = drop\n",
    "        self.sparse = sparse\n",
    "        \n",
    "    @staticmethod\n",
    "    def replace(v):\n",
    "        if not v.isdigit():\n",
    "            return v.split(' ')[0]\n",
    "        else:\n",
    "            return 'numeric'\n",
    "        \n",
    "        \n",
    "    def fit(self, X, y=None):\n",
    "            \n",
    "        if self.only_numeric:\n",
    "            self.cat = ['numeric', 'other']\n",
    "        else:\n",
    "            if self.exclude_thresh <= 10:\n",
    "                self.exclude_cat = ['PC', 'CA', 'A5', 'SOTONOQ', 'STONO']\n",
    "            elif self.exclude_thresh <= 12:\n",
    "                self.exclude_cat = ['PC', 'CA', 'A5', 'SOTONOQ']\n",
    "            elif self.exclude_thresh <= 15:\n",
    "                self.exclude_cat = ['PC', 'CA', 'A5']\n",
    "                                \n",
    "            self.cat = self.exclude_cat + ['numeric', 'other']\n",
    "            \n",
    "        try:    \n",
    "            name = X.name \n",
    "        except AttributeError:\n",
    "            name = 'Ticket'\n",
    "            \n",
    "            \n",
    "        dummy_df = pd.DataFrame({name: ['numeric']})\n",
    "        \n",
    "        self.ohe = OneHotEncoder(categories=[self.cat], drop=['other']).fit(dummy_df)\n",
    "        \n",
    "        return self\n",
    "    \n",
    "    def transform(self, X):\n",
    "        X = X.apply(self.replace)\n",
    "        \n",
    "        if self.only_numeric:\n",
    "            X.loc[~X.isin(['numeric'])] = 'other'\n",
    "\n",
    "        X.loc[~X.isin(['numeric'] + self.cat)] = 'other'\n",
    "    \n",
    "        \n",
    "        return self.ohe.fit_transform(pd.DataFrame(X))\n",
    "    \n",
    "    def get_feature_names(self, input_features=None):\n",
    "        return self.ohe.get_feature_names(input_features)\n",
    "    \n",
    "    "
   ]
  },
  {
   "cell_type": "code",
   "execution_count": 76,
   "metadata": {
    "ExecuteTime": {
     "end_time": "2020-05-12T08:57:10.915682Z",
     "start_time": "2020-05-12T08:57:10.908455Z"
    }
   },
   "outputs": [],
   "source": [
    "from sklearn_pandas import DataFrameMapper"
   ]
  },
  {
   "cell_type": "code",
   "execution_count": 77,
   "metadata": {
    "ExecuteTime": {
     "end_time": "2020-05-12T08:57:11.338866Z",
     "start_time": "2020-05-12T08:57:11.300394Z"
    }
   },
   "outputs": [
    {
     "data": {
      "text/html": [
       "<div>\n",
       "<style scoped>\n",
       "    .dataframe tbody tr th:only-of-type {\n",
       "        vertical-align: middle;\n",
       "    }\n",
       "\n",
       "    .dataframe tbody tr th {\n",
       "        vertical-align: top;\n",
       "    }\n",
       "\n",
       "    .dataframe thead th {\n",
       "        text-align: right;\n",
       "    }\n",
       "</style>\n",
       "<table border=\"1\" class=\"dataframe\">\n",
       "  <thead>\n",
       "    <tr style=\"text-align: right;\">\n",
       "      <th></th>\n",
       "      <th>Ticket_x0_PC</th>\n",
       "      <th>Ticket_x0_CA</th>\n",
       "      <th>Ticket_x0_A5</th>\n",
       "      <th>Ticket_x0_SOTONOQ</th>\n",
       "      <th>Ticket_x0_STONO</th>\n",
       "      <th>Ticket_x0_numeric</th>\n",
       "    </tr>\n",
       "  </thead>\n",
       "  <tbody>\n",
       "    <tr>\n",
       "      <th>0</th>\n",
       "      <td>0.0</td>\n",
       "      <td>0.0</td>\n",
       "      <td>0.0</td>\n",
       "      <td>0.0</td>\n",
       "      <td>0.0</td>\n",
       "      <td>1.0</td>\n",
       "    </tr>\n",
       "  </tbody>\n",
       "</table>\n",
       "</div>"
      ],
      "text/plain": [
       "   Ticket_x0_PC  Ticket_x0_CA  Ticket_x0_A5  Ticket_x0_SOTONOQ  \\\n",
       "0           0.0           0.0           0.0                0.0   \n",
       "\n",
       "   Ticket_x0_STONO  Ticket_x0_numeric  \n",
       "0              0.0                1.0  "
      ]
     },
     "execution_count": 77,
     "metadata": {},
     "output_type": "execute_result"
    }
   ],
   "source": [
    "dfm = DataFrameMapper([('Ticket', TicketTypeExtractor())], input_df=True, df_out=True)\n",
    "dfm.fit(df).transform(pd.DataFrame({'Ticket': ['numeric']}))"
   ]
  },
  {
   "cell_type": "code",
   "execution_count": 78,
   "metadata": {
    "ExecuteTime": {
     "end_time": "2020-05-12T08:57:11.522837Z",
     "start_time": "2020-05-12T08:57:11.508168Z"
    }
   },
   "outputs": [
    {
     "data": {
      "text/plain": [
       "<1x6 sparse matrix of type '<class 'numpy.float64'>'\n",
       "\twith 1 stored elements in Compressed Sparse Row format>"
      ]
     },
     "execution_count": 78,
     "metadata": {},
     "output_type": "execute_result"
    }
   ],
   "source": [
    "TicketTypeExtractor(only_numeric=False).fit(df['Ticket']).transform(pd.Series(['numeric']))"
   ]
  },
  {
   "cell_type": "code",
   "execution_count": 79,
   "metadata": {
    "ExecuteTime": {
     "end_time": "2020-05-12T08:57:11.756656Z",
     "start_time": "2020-05-12T08:57:11.727990Z"
    }
   },
   "outputs": [
    {
     "data": {
      "text/plain": [
       "<891x6 sparse matrix of type '<class 'numpy.float64'>'\n",
       "\twith 727 stored elements in Compressed Sparse Row format>"
      ]
     },
     "execution_count": 79,
     "metadata": {},
     "output_type": "execute_result"
    }
   ],
   "source": [
    "TicketTypeExtractor().fit_transform(df.Ticket)"
   ]
  },
  {
   "cell_type": "code",
   "execution_count": 81,
   "metadata": {
    "ExecuteTime": {
     "end_time": "2020-05-12T08:57:42.213781Z",
     "start_time": "2020-05-12T08:57:42.192423Z"
    }
   },
   "outputs": [
    {
     "data": {
      "text/plain": [
       "<891x6 sparse matrix of type '<class 'numpy.float64'>'\n",
       "\twith 727 stored elements in Compressed Sparse Row format>"
      ]
     },
     "execution_count": 81,
     "metadata": {},
     "output_type": "execute_result"
    }
   ],
   "source": [
    "make_column_transformer((TicketTypeExtractor(), 'Ticket')).fit_transform(df)"
   ]
  }
 ],
 "metadata": {
  "kernelspec": {
   "display_name": "Python [conda env:titansurv] *",
   "language": "python",
   "name": "conda-env-titansurv-py"
  },
  "language_info": {
   "codemirror_mode": {
    "name": "ipython",
    "version": 3
   },
   "file_extension": ".py",
   "mimetype": "text/x-python",
   "name": "python",
   "nbconvert_exporter": "python",
   "pygments_lexer": "ipython3",
   "version": "3.8.2"
  }
 },
 "nbformat": 4,
 "nbformat_minor": 4
}
