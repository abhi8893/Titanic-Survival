{
 "cells": [
  {
   "cell_type": "markdown",
   "metadata": {},
   "source": [
    "# Featurization - `Name` "
   ]
  },
  {
   "cell_type": "code",
   "execution_count": 860,
   "metadata": {
    "ExecuteTime": {
     "end_time": "2020-05-12T08:08:49.966921Z",
     "start_time": "2020-05-12T08:08:49.959288Z"
    }
   },
   "outputs": [],
   "source": [
    "import pandas as pd\n",
    "import numpy as np\n",
    "import re"
   ]
  },
  {
   "cell_type": "code",
   "execution_count": 861,
   "metadata": {
    "ExecuteTime": {
     "end_time": "2020-05-12T08:08:50.425066Z",
     "start_time": "2020-05-12T08:08:50.421375Z"
    }
   },
   "outputs": [],
   "source": [
    "from sklearn.pipeline import Pipeline, make_pipeline\n",
    "from sklearn.compose import ColumnTransformer, make_column_transformer\n",
    "from sklearn.preprocessing import FunctionTransformer"
   ]
  },
  {
   "cell_type": "code",
   "execution_count": 862,
   "metadata": {
    "ExecuteTime": {
     "end_time": "2020-05-12T08:08:51.059658Z",
     "start_time": "2020-05-12T08:08:51.019904Z"
    }
   },
   "outputs": [],
   "source": [
    "df = pd.read_csv(\"../../data/raw/train.csv\").drop('PassengerId', axis=1)\n",
    "dfX = df.drop('Survived', axis=1)\n",
    "dfy = df.Survived"
   ]
  },
  {
   "cell_type": "code",
   "execution_count": 863,
   "metadata": {
    "ExecuteTime": {
     "end_time": "2020-05-12T08:08:55.136604Z",
     "start_time": "2020-05-12T08:08:55.131190Z"
    }
   },
   "outputs": [],
   "source": [
    "# because can't use lambda\n",
    "def has_pattern(x, pattern, grp):\n",
    "    res = re.search(pattern, x)\n",
    "    if grp is None:\n",
    "        return res\n",
    "    else:\n",
    "        return res.group(grp)"
   ]
  },
  {
   "cell_type": "code",
   "execution_count": 864,
   "metadata": {
    "ExecuteTime": {
     "end_time": "2020-05-12T08:08:59.969844Z",
     "start_time": "2020-05-12T08:08:59.963237Z"
    }
   },
   "outputs": [],
   "source": [
    "def is_df(x):\n",
    "    return type(x) is pd.DataFrame"
   ]
  },
  {
   "cell_type": "code",
   "execution_count": 865,
   "metadata": {
    "ExecuteTime": {
     "end_time": "2020-05-12T08:09:00.340970Z",
     "start_time": "2020-05-12T08:09:00.333300Z"
    }
   },
   "outputs": [],
   "source": [
    "def get_title(x, pattern=r'([A-Z][a-z]+)\\.'):\n",
    "    if is_df(x):\n",
    "        raise NotImplementedError('Please provide a Series')\n",
    "    else:    \n",
    "        x = x.apply(has_pattern, pattern=pattern, grp=1)\n",
    "        \n",
    "    x.replace(['Mlle', 'Ms'], 'Miss', inplace=True)\n",
    "    x.replace(['Mme'], 'Mrs', inplace=True)\n",
    "    return x"
   ]
  },
  {
   "cell_type": "code",
   "execution_count": 866,
   "metadata": {
    "ExecuteTime": {
     "end_time": "2020-05-12T08:09:00.900994Z",
     "start_time": "2020-05-12T08:09:00.856847Z"
    }
   },
   "outputs": [
    {
     "data": {
      "text/plain": [
       "0        Mr\n",
       "1       Mrs\n",
       "2      Miss\n",
       "3       Mrs\n",
       "4        Mr\n",
       "       ... \n",
       "886     Rev\n",
       "887    Miss\n",
       "888    Miss\n",
       "889      Mr\n",
       "890      Mr\n",
       "Name: Name, Length: 891, dtype: object"
      ]
     },
     "execution_count": 866,
     "metadata": {},
     "output_type": "execute_result"
    }
   ],
   "source": [
    "titles = get_title(df.Name)\n",
    "titles"
   ]
  },
  {
   "cell_type": "code",
   "execution_count": 867,
   "metadata": {
    "ExecuteTime": {
     "end_time": "2020-05-12T08:09:01.316460Z",
     "start_time": "2020-05-12T08:09:01.292709Z"
    }
   },
   "outputs": [
    {
     "data": {
      "text/plain": [
       "Mr          False\n",
       "Miss        False\n",
       "Mrs         False\n",
       "Master      False\n",
       "Dr           True\n",
       "Rev          True\n",
       "Major        True\n",
       "Col          True\n",
       "Lady         True\n",
       "Capt         True\n",
       "Countess     True\n",
       "Don          True\n",
       "Sir          True\n",
       "Jonkheer     True\n",
       "Name: Name, dtype: bool"
      ]
     },
     "execution_count": 867,
     "metadata": {},
     "output_type": "execute_result"
    }
   ],
   "source": [
    "counts = titles.value_counts()\n",
    "counts < 10"
   ]
  },
  {
   "cell_type": "code",
   "execution_count": 868,
   "metadata": {
    "ExecuteTime": {
     "end_time": "2020-05-12T08:09:03.097644Z",
     "start_time": "2020-05-12T08:09:03.074628Z"
    }
   },
   "outputs": [
    {
     "data": {
      "text/plain": [
       "0           Mr\n",
       "1          Mrs\n",
       "2         Miss\n",
       "3          Mrs\n",
       "4           Mr\n",
       "        ...   \n",
       "886    Special\n",
       "887       Miss\n",
       "888       Miss\n",
       "889         Mr\n",
       "890         Mr\n",
       "Name: Name, Length: 891, dtype: object"
      ]
     },
     "execution_count": 868,
     "metadata": {},
     "output_type": "execute_result"
    }
   ],
   "source": [
    "titles.apply(lambda x: 'Special' if counts[x] < 10 else x)"
   ]
  },
  {
   "cell_type": "code",
   "execution_count": 869,
   "metadata": {
    "ExecuteTime": {
     "end_time": "2020-05-12T08:09:03.714187Z",
     "start_time": "2020-05-12T08:09:03.699221Z"
    }
   },
   "outputs": [],
   "source": [
    "def group_cat(x, setval, thresh):\n",
    "    counts = x.value_counts()\n",
    "    def replace(v):\n",
    "        return (setval if counts[v] <= thresh else v)\n",
    "    \n",
    "    return x.apply(replace)"
   ]
  },
  {
   "cell_type": "code",
   "execution_count": 870,
   "metadata": {
    "ExecuteTime": {
     "end_time": "2020-05-12T08:09:04.373476Z",
     "start_time": "2020-05-12T08:09:04.330122Z"
    }
   },
   "outputs": [
    {
     "data": {
      "text/plain": [
       "0           Mr\n",
       "1          Mrs\n",
       "2         Miss\n",
       "3          Mrs\n",
       "4           Mr\n",
       "        ...   \n",
       "886    Special\n",
       "887       Miss\n",
       "888       Miss\n",
       "889         Mr\n",
       "890         Mr\n",
       "Name: Name, Length: 891, dtype: object"
      ]
     },
     "execution_count": 870,
     "metadata": {},
     "output_type": "execute_result"
    }
   ],
   "source": [
    "group_cat(titles, 'Special', 10)"
   ]
  },
  {
   "cell_type": "code",
   "execution_count": 871,
   "metadata": {
    "ExecuteTime": {
     "end_time": "2020-05-12T08:09:04.726937Z",
     "start_time": "2020-05-12T08:09:04.718109Z"
    }
   },
   "outputs": [],
   "source": [
    "def is_df(x):\n",
    "    return type(x) is pd.DataFrame"
   ]
  },
  {
   "cell_type": "code",
   "execution_count": 872,
   "metadata": {
    "ExecuteTime": {
     "end_time": "2020-05-12T08:09:05.139669Z",
     "start_time": "2020-05-12T08:09:05.123644Z"
    }
   },
   "outputs": [],
   "source": [
    "x = df.loc[:, ['Name', 'Name']]"
   ]
  },
  {
   "cell_type": "code",
   "execution_count": 873,
   "metadata": {
    "ExecuteTime": {
     "end_time": "2020-05-12T08:09:11.304728Z",
     "start_time": "2020-05-12T08:09:11.299647Z"
    }
   },
   "outputs": [],
   "source": [
    "def get_title(x, pattern=r'([A-Z][a-z]+)\\.', grp_cats=True, return_df=True):\n",
    "    \n",
    "    '''\n",
    "    Extract the title from the name and into [Mr, Mrs, Miss, Master, {other}]\n",
    "    \n",
    "    TODO: Implement for return_df='auto' series -> series, dataframe -> dataframe\n",
    "    '''\n",
    "    \n",
    "    if is_df(x):\n",
    "        return x.apply(get_title, return_df=False, axis=0)\n",
    "        \n",
    "        \n",
    "    x = x.apply(has_pattern, pattern=pattern, grp=1)\n",
    "        \n",
    "    x.replace(['Mlle', 'Ms'], 'Miss', inplace=True)\n",
    "    x.replace(['Mme'], 'Mrs', inplace=True)\n",
    "    if grp_cats:\n",
    "        x.loc[~x.isin(['Mr', 'Mrs', 'Miss', 'Master'])] = 'other'\n",
    "    \n",
    "        \n",
    "    if return_df:\n",
    "        return pd.DataFrame(x)\n",
    "    else:\n",
    "        return x\n"
   ]
  },
  {
   "cell_type": "code",
   "execution_count": 878,
   "metadata": {
    "ExecuteTime": {
     "end_time": "2020-05-12T08:17:11.854385Z",
     "start_time": "2020-05-12T08:17:11.831135Z"
    }
   },
   "outputs": [
    {
     "data": {
      "text/plain": [
       "Mr          517\n",
       "Miss        185\n",
       "Mrs         126\n",
       "Master       40\n",
       "Dr            7\n",
       "Rev           6\n",
       "Major         2\n",
       "Col           2\n",
       "Lady          1\n",
       "Capt          1\n",
       "Countess      1\n",
       "Don           1\n",
       "Sir           1\n",
       "Jonkheer      1\n",
       "Name: Name, dtype: int64"
      ]
     },
     "execution_count": 878,
     "metadata": {},
     "output_type": "execute_result"
    }
   ],
   "source": [
    "get_title(df.loc[:, 'Name'], grp_cats=False, return_df=True).Name.value_counts()"
   ]
  },
  {
   "cell_type": "code",
   "execution_count": 934,
   "metadata": {
    "ExecuteTime": {
     "end_time": "2020-05-12T08:56:10.643701Z",
     "start_time": "2020-05-12T08:56:10.617319Z"
    }
   },
   "outputs": [],
   "source": [
    "class NameTitleExtractor(BaseEstimator, TransformerMixin):\n",
    "    \n",
    "    '''\n",
    "    Extracts the titles from the name\n",
    "    \n",
    "    Parameters\n",
    "    ----------\n",
    "    \n",
    "    # TODO: implement passing any excluding categories\n",
    "    \n",
    "    exclude_cat_type: str, default: 'type1', options: ['type1', 'type2'] \n",
    "        which type of categories to exclude from grouping to 'other'\n",
    "    '''\n",
    "    \n",
    "    exclude_cat_opts = {\n",
    "        'type1': ['Mr', 'Mrs', 'Miss', 'Master'],\n",
    "        'type2': ['Mr', 'Mrs', 'Miss', 'Master', 'Dr', 'Rev']\n",
    "    }\n",
    "    \n",
    "    def __init__(self, exclude_cat_type='type1', sparse=False, pattern=r'([A-Z][a-z]+)\\.'):\n",
    "        self.exclude_cat_type = exclude_cat_type\n",
    "        self.exclude_cat = self.exclude_cat_opts[exclude_cat_type]\n",
    "        self.cat = self.exclude_cat + ['other']\n",
    "        self.pattern = pattern\n",
    "        self.sparse = sparse\n",
    "        self.ohe = OneHotEncoder([self.cat], drop=['other'], sparse=sparse)\n",
    "        \n",
    "    def fit(self, X, y=None):\n",
    "                    \n",
    "        try:    \n",
    "            name = X.name \n",
    "        except AttributeError:\n",
    "            name = 'Name'\n",
    "            \n",
    "        dummy_df = pd.DataFrame({name: ['Mr']})\n",
    "        self.ohe.fit(dummy_df)\n",
    "        \n",
    "        return self\n",
    "    \n",
    "    def transform(self, X):\n",
    "        X = X.apply(has_pattern, pattern=self.pattern, grp=1)\n",
    "\n",
    "        X.replace(['Mlle', 'Ms'], 'Miss', inplace=True)\n",
    "        X.replace(['Mme'], 'Mrs', inplace=True)\n",
    "       \n",
    "        X.loc[~X.isin(self.exclude_cat)] = 'other'\n",
    "            \n",
    "        return self.ohe.transform(pd.DataFrame(X))\n",
    "    \n",
    "    \n",
    "    def get_feature_names(self, input_features):\n",
    "        return self.ohe.get_feature_names(input_features)\n",
    "\n",
    "\n",
    "            "
   ]
  },
  {
   "cell_type": "code",
   "execution_count": 935,
   "metadata": {
    "ExecuteTime": {
     "end_time": "2020-05-12T08:56:11.314426Z",
     "start_time": "2020-05-12T08:56:11.273100Z"
    }
   },
   "outputs": [
    {
     "data": {
      "text/plain": [
       "(891, 4)"
      ]
     },
     "execution_count": 935,
     "metadata": {},
     "output_type": "execute_result"
    }
   ],
   "source": [
    "NameTitleExtractor('type1').fit(df).transform(df.Name).shape"
   ]
  },
  {
   "cell_type": "code",
   "execution_count": 936,
   "metadata": {
    "ExecuteTime": {
     "end_time": "2020-05-12T08:56:11.539080Z",
     "start_time": "2020-05-12T08:56:11.502326Z"
    }
   },
   "outputs": [
    {
     "data": {
      "text/plain": [
       "(891, 6)"
      ]
     },
     "execution_count": 936,
     "metadata": {},
     "output_type": "execute_result"
    }
   ],
   "source": [
    "NameTitleExtractor('type2').fit(1).transform(df.Name).shape"
   ]
  },
  {
   "cell_type": "code",
   "execution_count": 937,
   "metadata": {
    "ExecuteTime": {
     "end_time": "2020-05-12T08:56:11.756159Z",
     "start_time": "2020-05-12T08:56:11.707188Z"
    }
   },
   "outputs": [
    {
     "data": {
      "text/plain": [
       "array([[1., 0., 0., 0.],\n",
       "       [0., 1., 0., 0.],\n",
       "       [0., 0., 1., 0.],\n",
       "       ...,\n",
       "       [0., 0., 1., 0.],\n",
       "       [1., 0., 0., 0.],\n",
       "       [1., 0., 0., 0.]])"
      ]
     },
     "execution_count": 937,
     "metadata": {},
     "output_type": "execute_result"
    }
   ],
   "source": [
    "make_column_transformer((NameTitleExtractor(), 'Name')).fit_transform(df)"
   ]
  },
  {
   "cell_type": "code",
   "execution_count": 724,
   "metadata": {
    "ExecuteTime": {
     "end_time": "2020-05-11T18:14:59.413056Z",
     "start_time": "2020-05-11T18:14:59.390388Z"
    }
   },
   "outputs": [],
   "source": [
    "pre1 = Pipeline([\n",
    "    ('nan_drpr', NaNDropper(['Embarked']))\n",
    "])\n",
    "\n",
    "dfX_pre, dfy_pre = pre1.fit_transform(dfX, dfy)"
   ]
  },
  {
   "cell_type": "code",
   "execution_count": 725,
   "metadata": {
    "ExecuteTime": {
     "end_time": "2020-05-11T18:14:59.811468Z",
     "start_time": "2020-05-11T18:14:59.805714Z"
    }
   },
   "outputs": [],
   "source": [
    "from sklearn.preprocessing import OneHotEncoder, StandardScaler, LabelBinarizer, LabelEncoder, FunctionTransformer\n",
    "from sklearn.impute import SimpleImputer\n",
    "from sklearn.compose import ColumnTransformer\n",
    "from sklearn.pipeline import make_pipeline"
   ]
  },
  {
   "cell_type": "code",
   "execution_count": 726,
   "metadata": {
    "ExecuteTime": {
     "end_time": "2020-05-11T18:15:00.638389Z",
     "start_time": "2020-05-11T18:15:00.628215Z"
    }
   },
   "outputs": [],
   "source": [
    "def FE_SibSp(arr: np.array):\n",
    "    arr = arr.copy()\n",
    "    arr[arr>1] = 2\n",
    "    if len(arr.shape) == 1:\n",
    "        arr = arr.reshape(-1, 1)\n",
    "    return arr"
   ]
  },
  {
   "cell_type": "code",
   "execution_count": 727,
   "metadata": {
    "ExecuteTime": {
     "end_time": "2020-05-11T18:15:01.411039Z",
     "start_time": "2020-05-11T18:15:01.404078Z"
    }
   },
   "outputs": [],
   "source": [
    "def FE_Parch(arr: np.array):\n",
    "    arr = arr.copy()\n",
    "    arr[arr>1] = 2\n",
    "    if len(arr.shape) == 1:\n",
    "        arr = arr.reshape(-1, 1)\n",
    "    return arr"
   ]
  },
  {
   "cell_type": "markdown",
   "metadata": {},
   "source": [
    "The following were the preprocessing steps used: \n",
    "1. **Embarked**: Dropped NA rows and applied OneHotEncoding\n",
    "2. **Age** : Applied Mean Imputation and Mean Normalization\n",
    "3. **Fare**: Mean Normalization\n",
    "4. **Sex**: OneHotEncoding\n",
    "5. **Name**: Categorised into ['Mr', 'Mrs', 'Miss', 'Master', 'Special']<br/> \n",
    "    5.1 Rename [Mlle, Ms] -> Miss      \n",
    "    5.2 Rename [Mme] -> Mrs     \n",
    "    5.3 Put the Rest -> Special     \n",
    "    Then performed OneHotEncoding\n",
    "6. **Ticket** categorized into [1: numeric, 0: else] <br/>\n",
    "    6.1 Remove special characters but not space <br/>\n",
    "    6.2 Replace numeric strings by 'numeric' <br/>\n",
    "    6.3 Split on space and keep the first item <br/>\n",
    " Then applied binarizer for [1: numeric, 0: else]\n",
    "7. **SibSp** binned into [0, 1, >1] and applied OneHotEncoding\n",
    "8. **Parch** binned into [0, 1, >1] and applied OneHotEncoding\n",
    "\n",
    "Tuned ML model: **RandomForestClassifier** using GridSearchCV"
   ]
  },
  {
   "cell_type": "code",
   "execution_count": 728,
   "metadata": {
    "ExecuteTime": {
     "end_time": "2020-05-11T18:15:03.928591Z",
     "start_time": "2020-05-11T18:15:03.920590Z"
    }
   },
   "outputs": [],
   "source": [
    "from sklearn.linear_model import LogisticRegression, RidgeClassifier\n",
    "from sklearn.neighbors import KNeighborsClassifier\n",
    "from sklearn.tree import DecisionTreeClassifier\n",
    "from sklearn.svm import SVC\n",
    "from sklearn.ensemble import RandomForestClassifier, BaggingClassifier"
   ]
  },
  {
   "cell_type": "code",
   "execution_count": 746,
   "metadata": {
    "ExecuteTime": {
     "end_time": "2020-05-11T18:20:41.995493Z",
     "start_time": "2020-05-11T18:20:41.975289Z"
    }
   },
   "outputs": [
    {
     "data": {
      "text/plain": [
       "<891x7 sparse matrix of type '<class 'numpy.float64'>'\n",
       "\twith 891 stored elements in Compressed Sparse Row format>"
      ]
     },
     "execution_count": 746,
     "metadata": {},
     "output_type": "execute_result"
    }
   ],
   "source": [
    "pre_Ticket.fit_transform(df.Ticket)"
   ]
  },
  {
   "cell_type": "code",
   "execution_count": 777,
   "metadata": {
    "ExecuteTime": {
     "end_time": "2020-05-11T18:28:25.969061Z",
     "start_time": "2020-05-11T18:28:25.922971Z"
    }
   },
   "outputs": [
    {
     "data": {
      "text/plain": [
       "Mr        517\n",
       "Miss      185\n",
       "Mrs       126\n",
       "Master     40\n",
       "other      23\n",
       "Name: Name, dtype: int64"
      ]
     },
     "execution_count": 777,
     "metadata": {},
     "output_type": "execute_result"
    }
   ],
   "source": [
    "FE_Name_1.fit_transform(df.Name).Name.value_counts()"
   ]
  },
  {
   "cell_type": "code",
   "execution_count": 938,
   "metadata": {
    "ExecuteTime": {
     "end_time": "2020-05-12T12:41:18.844578Z",
     "start_time": "2020-05-12T12:41:18.823184Z"
    }
   },
   "outputs": [],
   "source": [
    "prepare_data = Pipeline([\n",
    "    ('nan_drpr', NaNDropper(['Embarked']))\n",
    "])\n",
    "\n",
    "imp = Pipeline([\n",
    "    ('imp', SimpleImputer())\n",
    "], 'passthrough')\n",
    "\n",
    "# TODO: I should not hardcode these\n",
    "pre_Name = NameTitleExtractor()\n",
    "\n",
    "# TODO: Implement modify pipeline function for DRY\n",
    "pre_Cabin = FE_Cabin_1\n",
    "pre_Ticket = FE_Ticket_1\n",
    "\n",
    "pre_SibSp = Pipeline([\n",
    "    ('binner', FunctionTransformer(FE_SibSp)),\n",
    "    ('enc', OneHotEncoder(drop='first', sparse=False))\n",
    "])\n",
    "\n",
    "pre_Parch = Pipeline([\n",
    "    ('binner', FunctionTransformer(FE_Parch)),\n",
    "    ('enc', OneHotEncoder(drop='first', sparse=False))\n",
    "])\n",
    "\n",
    "\n",
    "preprocess = ColumnTransformer([\n",
    "    ('enc', OneHotEncoder(drop='first'), ['Sex', 'Embarked']),\n",
    "    ('imp', imp, ['Age']),\n",
    "    ('pre_Name', pre_Name, 'Name'),\n",
    "    ('pre_Cabin', pre_Cabin, 'Cabin'),\n",
    "    ('pre_Ticket', pre_Ticket, 'Ticket'),\n",
    "    ('Pre_SibSp', pre_SibSp, ['SibSp']),\n",
    "    ('Pre_Parch', pre_Parch, ['Parch'])\n",
    "], \n",
    "    'passthrough')\n",
    "\n",
    "\n",
    " \n",
    "\n",
    "preprocess_data = Pipeline([\n",
    "    ('clmn_trnsfrm', preprocess),\n",
    "    ('scale', StandardScaler())\n",
    "])\n",
    "\n",
    "mlmodel = RandomForestClassifier()\n"
   ]
  },
  {
   "cell_type": "code",
   "execution_count": 939,
   "metadata": {
    "ExecuteTime": {
     "end_time": "2020-05-12T12:41:19.612528Z",
     "start_time": "2020-05-12T12:41:19.570241Z"
    }
   },
   "outputs": [
    {
     "name": "stdout",
     "output_type": "stream",
     "text": [
      "['memory',\n",
      " 'steps',\n",
      " 'verbose',\n",
      " 'clmn_trnsfrm',\n",
      " 'scale',\n",
      " 'clmn_trnsfrm__n_jobs',\n",
      " 'clmn_trnsfrm__remainder',\n",
      " 'clmn_trnsfrm__sparse_threshold',\n",
      " 'clmn_trnsfrm__transformer_weights',\n",
      " 'clmn_trnsfrm__transformers',\n",
      " 'clmn_trnsfrm__verbose',\n",
      " 'clmn_trnsfrm__enc',\n",
      " 'clmn_trnsfrm__imp',\n",
      " 'clmn_trnsfrm__pre_Name',\n",
      " 'clmn_trnsfrm__pre_Cabin',\n",
      " 'clmn_trnsfrm__pre_Ticket',\n",
      " 'clmn_trnsfrm__Pre_SibSp',\n",
      " 'clmn_trnsfrm__Pre_Parch',\n",
      " 'clmn_trnsfrm__enc__categories',\n",
      " 'clmn_trnsfrm__enc__drop',\n",
      " 'clmn_trnsfrm__enc__dtype',\n",
      " 'clmn_trnsfrm__enc__handle_unknown',\n",
      " 'clmn_trnsfrm__enc__sparse',\n",
      " 'clmn_trnsfrm__imp__memory',\n",
      " 'clmn_trnsfrm__imp__steps',\n",
      " 'clmn_trnsfrm__imp__verbose',\n",
      " 'clmn_trnsfrm__imp__imp',\n",
      " 'clmn_trnsfrm__imp__imp__add_indicator',\n",
      " 'clmn_trnsfrm__imp__imp__copy',\n",
      " 'clmn_trnsfrm__imp__imp__fill_value',\n",
      " 'clmn_trnsfrm__imp__imp__missing_values',\n",
      " 'clmn_trnsfrm__imp__imp__strategy',\n",
      " 'clmn_trnsfrm__imp__imp__verbose',\n",
      " 'clmn_trnsfrm__pre_Name__exclude_cat_type',\n",
      " 'clmn_trnsfrm__pre_Name__pattern',\n",
      " 'clmn_trnsfrm__pre_Name__sparse',\n",
      " 'clmn_trnsfrm__pre_Cabin__memory',\n",
      " 'clmn_trnsfrm__pre_Cabin__steps',\n",
      " 'clmn_trnsfrm__pre_Cabin__verbose',\n",
      " 'clmn_trnsfrm__pre_Cabin__first_letter',\n",
      " 'clmn_trnsfrm__pre_Cabin__enc',\n",
      " 'clmn_trnsfrm__pre_Cabin__first_letter__accept_sparse',\n",
      " 'clmn_trnsfrm__pre_Cabin__first_letter__check_inverse',\n",
      " 'clmn_trnsfrm__pre_Cabin__first_letter__func',\n",
      " 'clmn_trnsfrm__pre_Cabin__first_letter__inv_kw_args',\n",
      " 'clmn_trnsfrm__pre_Cabin__first_letter__inverse_func',\n",
      " 'clmn_trnsfrm__pre_Cabin__first_letter__kw_args',\n",
      " 'clmn_trnsfrm__pre_Cabin__first_letter__validate',\n",
      " 'clmn_trnsfrm__pre_Cabin__enc__categories',\n",
      " 'clmn_trnsfrm__pre_Cabin__enc__drop',\n",
      " 'clmn_trnsfrm__pre_Cabin__enc__dtype',\n",
      " 'clmn_trnsfrm__pre_Cabin__enc__handle_unknown',\n",
      " 'clmn_trnsfrm__pre_Cabin__enc__sparse',\n",
      " 'clmn_trnsfrm__pre_Ticket__memory',\n",
      " 'clmn_trnsfrm__pre_Ticket__steps',\n",
      " 'clmn_trnsfrm__pre_Ticket__verbose',\n",
      " 'clmn_trnsfrm__pre_Ticket__extract_title',\n",
      " 'clmn_trnsfrm__pre_Ticket__enc',\n",
      " 'clmn_trnsfrm__pre_Ticket__extract_title__accept_sparse',\n",
      " 'clmn_trnsfrm__pre_Ticket__extract_title__check_inverse',\n",
      " 'clmn_trnsfrm__pre_Ticket__extract_title__func',\n",
      " 'clmn_trnsfrm__pre_Ticket__extract_title__inv_kw_args',\n",
      " 'clmn_trnsfrm__pre_Ticket__extract_title__inverse_func',\n",
      " 'clmn_trnsfrm__pre_Ticket__extract_title__kw_args',\n",
      " 'clmn_trnsfrm__pre_Ticket__extract_title__validate',\n",
      " 'clmn_trnsfrm__pre_Ticket__enc__categories',\n",
      " 'clmn_trnsfrm__pre_Ticket__enc__drop',\n",
      " 'clmn_trnsfrm__pre_Ticket__enc__dtype',\n",
      " 'clmn_trnsfrm__pre_Ticket__enc__handle_unknown',\n",
      " 'clmn_trnsfrm__pre_Ticket__enc__sparse',\n",
      " 'clmn_trnsfrm__Pre_SibSp__memory',\n",
      " 'clmn_trnsfrm__Pre_SibSp__steps',\n",
      " 'clmn_trnsfrm__Pre_SibSp__verbose',\n",
      " 'clmn_trnsfrm__Pre_SibSp__binner',\n",
      " 'clmn_trnsfrm__Pre_SibSp__enc',\n",
      " 'clmn_trnsfrm__Pre_SibSp__binner__accept_sparse',\n",
      " 'clmn_trnsfrm__Pre_SibSp__binner__check_inverse',\n",
      " 'clmn_trnsfrm__Pre_SibSp__binner__func',\n",
      " 'clmn_trnsfrm__Pre_SibSp__binner__inv_kw_args',\n",
      " 'clmn_trnsfrm__Pre_SibSp__binner__inverse_func',\n",
      " 'clmn_trnsfrm__Pre_SibSp__binner__kw_args',\n",
      " 'clmn_trnsfrm__Pre_SibSp__binner__validate',\n",
      " 'clmn_trnsfrm__Pre_SibSp__enc__categories',\n",
      " 'clmn_trnsfrm__Pre_SibSp__enc__drop',\n",
      " 'clmn_trnsfrm__Pre_SibSp__enc__dtype',\n",
      " 'clmn_trnsfrm__Pre_SibSp__enc__handle_unknown',\n",
      " 'clmn_trnsfrm__Pre_SibSp__enc__sparse',\n",
      " 'clmn_trnsfrm__Pre_Parch__memory',\n",
      " 'clmn_trnsfrm__Pre_Parch__steps',\n",
      " 'clmn_trnsfrm__Pre_Parch__verbose',\n",
      " 'clmn_trnsfrm__Pre_Parch__binner',\n",
      " 'clmn_trnsfrm__Pre_Parch__enc',\n",
      " 'clmn_trnsfrm__Pre_Parch__binner__accept_sparse',\n",
      " 'clmn_trnsfrm__Pre_Parch__binner__check_inverse',\n",
      " 'clmn_trnsfrm__Pre_Parch__binner__func',\n",
      " 'clmn_trnsfrm__Pre_Parch__binner__inv_kw_args',\n",
      " 'clmn_trnsfrm__Pre_Parch__binner__inverse_func',\n",
      " 'clmn_trnsfrm__Pre_Parch__binner__kw_args',\n",
      " 'clmn_trnsfrm__Pre_Parch__binner__validate',\n",
      " 'clmn_trnsfrm__Pre_Parch__enc__categories',\n",
      " 'clmn_trnsfrm__Pre_Parch__enc__drop',\n",
      " 'clmn_trnsfrm__Pre_Parch__enc__dtype',\n",
      " 'clmn_trnsfrm__Pre_Parch__enc__handle_unknown',\n",
      " 'clmn_trnsfrm__Pre_Parch__enc__sparse',\n",
      " 'scale__copy',\n",
      " 'scale__with_mean',\n",
      " 'scale__with_std']\n"
     ]
    }
   ],
   "source": [
    "from src.utils import print_params\n",
    "print_params(preprocess_data)"
   ]
  },
  {
   "cell_type": "code",
   "execution_count": 940,
   "metadata": {
    "ExecuteTime": {
     "end_time": "2020-05-12T12:41:20.076756Z",
     "start_time": "2020-05-12T12:41:20.026500Z"
    }
   },
   "outputs": [
    {
     "data": {
      "text/plain": [
       "(889, 28)"
      ]
     },
     "execution_count": 940,
     "metadata": {},
     "output_type": "execute_result"
    }
   ],
   "source": [
    "preprocess_data.fit_transform(dfX_pre).shape"
   ]
  },
  {
   "cell_type": "code",
   "execution_count": 941,
   "metadata": {
    "ExecuteTime": {
     "end_time": "2020-05-12T12:41:20.556198Z",
     "start_time": "2020-05-12T12:41:20.548106Z"
    }
   },
   "outputs": [],
   "source": [
    "pipe = Pipeline([\n",
    "    ('preprocessing', preprocess_data),\n",
    "    ('ml', mlmodel)\n",
    "])"
   ]
  },
  {
   "cell_type": "markdown",
   "metadata": {},
   "source": [
    "## Fit the score and get the training score\n",
    "\n",
    "pipe.fit(dfX_pre, dfy_pre)\n",
    "pipe.score(dfX_pre, dfy_pre)\n",
    "\n",
    "## Crossvalidate\n",
    "\n",
    "from sklearn.model_selection import cross_val_score, StratifiedKFold\n",
    "skf = StratifiedKFold(n_splits=5)\n",
    "\n",
    "cross_val_score(pipe, dfX_pre, dfy_pre).mean()\n",
    "\n",
    "## Try various different ML models\n",
    "\n",
    "from sklearn.model_selection import GridSearchCV\n",
    "\n",
    "models = [\n",
    "    RidgeClassifier(),\n",
    "    LogisticRegression(solver=\"liblinear\"),  # liblinear is better for small datasets\n",
    "    KNeighborsClassifier(),\n",
    "    DecisionTreeClassifier(random_state=1),\n",
    "    SVC(),\n",
    "    RandomForestClassifier(random_state=1),\n",
    "    BaggingClassifier(random_state=1)\n",
    "]\n",
    "\n",
    "param_grid = {'ml': [RidgeClassifier()], 'ml__alpha' : [0.01, 0.1, 1, 10, 100]}\n",
    "\n",
    "grid_search = GridSearchCV(pipe, param_grid, cv=skf)\n",
    "grid_search.fit(dfX_pre, dfy_pre)\n",
    "\n",
    "print(grid_search.best_score_)\n",
    "print(grid_search.best_params_)\n",
    "\n",
    "import seaborn as sns"
   ]
  },
  {
   "cell_type": "code",
   "execution_count": 81,
   "metadata": {
    "ExecuteTime": {
     "end_time": "2020-05-11T10:03:44.734259Z",
     "start_time": "2020-05-11T10:03:44.698771Z"
    }
   },
   "outputs": [
    {
     "data": {
      "text/html": [
       "<div>\n",
       "<style scoped>\n",
       "    .dataframe tbody tr th:only-of-type {\n",
       "        vertical-align: middle;\n",
       "    }\n",
       "\n",
       "    .dataframe tbody tr th {\n",
       "        vertical-align: top;\n",
       "    }\n",
       "\n",
       "    .dataframe thead th {\n",
       "        text-align: right;\n",
       "    }\n",
       "</style>\n",
       "<table border=\"1\" class=\"dataframe\">\n",
       "  <thead>\n",
       "    <tr style=\"text-align: right;\">\n",
       "      <th></th>\n",
       "      <th>mean_fit_time</th>\n",
       "      <th>std_fit_time</th>\n",
       "      <th>mean_score_time</th>\n",
       "      <th>std_score_time</th>\n",
       "      <th>param_ml</th>\n",
       "      <th>param_ml__alpha</th>\n",
       "      <th>params</th>\n",
       "      <th>split0_test_score</th>\n",
       "      <th>split1_test_score</th>\n",
       "      <th>split2_test_score</th>\n",
       "      <th>split3_test_score</th>\n",
       "      <th>split4_test_score</th>\n",
       "      <th>mean_test_score</th>\n",
       "      <th>std_test_score</th>\n",
       "      <th>rank_test_score</th>\n",
       "    </tr>\n",
       "  </thead>\n",
       "  <tbody>\n",
       "    <tr>\n",
       "      <th>4</th>\n",
       "      <td>0.029259</td>\n",
       "      <td>0.003821</td>\n",
       "      <td>0.016488</td>\n",
       "      <td>0.000349</td>\n",
       "      <td>RidgeClassifier(alpha=10, class_weight=None, c...</td>\n",
       "      <td>10</td>\n",
       "      <td>{'ml': RidgeClassifier(alpha=10, class_weight=...</td>\n",
       "      <td>0.837079</td>\n",
       "      <td>0.831461</td>\n",
       "      <td>0.820225</td>\n",
       "      <td>0.786517</td>\n",
       "      <td>0.858757</td>\n",
       "      <td>0.826808</td>\n",
       "      <td>0.023726</td>\n",
       "      <td>1</td>\n",
       "    </tr>\n",
       "    <tr>\n",
       "      <th>1</th>\n",
       "      <td>0.027910</td>\n",
       "      <td>0.000424</td>\n",
       "      <td>0.016241</td>\n",
       "      <td>0.000382</td>\n",
       "      <td>RidgeClassifier(alpha=10, class_weight=None, c...</td>\n",
       "      <td>0.01</td>\n",
       "      <td>{'ml': RidgeClassifier(alpha=10, class_weight=...</td>\n",
       "      <td>0.837079</td>\n",
       "      <td>0.831461</td>\n",
       "      <td>0.814607</td>\n",
       "      <td>0.792135</td>\n",
       "      <td>0.853107</td>\n",
       "      <td>0.825678</td>\n",
       "      <td>0.020801</td>\n",
       "      <td>2</td>\n",
       "    </tr>\n",
       "    <tr>\n",
       "      <th>2</th>\n",
       "      <td>0.027727</td>\n",
       "      <td>0.000636</td>\n",
       "      <td>0.016170</td>\n",
       "      <td>0.000448</td>\n",
       "      <td>RidgeClassifier(alpha=10, class_weight=None, c...</td>\n",
       "      <td>0.1</td>\n",
       "      <td>{'ml': RidgeClassifier(alpha=10, class_weight=...</td>\n",
       "      <td>0.837079</td>\n",
       "      <td>0.831461</td>\n",
       "      <td>0.814607</td>\n",
       "      <td>0.792135</td>\n",
       "      <td>0.853107</td>\n",
       "      <td>0.825678</td>\n",
       "      <td>0.020801</td>\n",
       "      <td>2</td>\n",
       "    </tr>\n",
       "    <tr>\n",
       "      <th>3</th>\n",
       "      <td>0.028884</td>\n",
       "      <td>0.002199</td>\n",
       "      <td>0.017029</td>\n",
       "      <td>0.001150</td>\n",
       "      <td>RidgeClassifier(alpha=10, class_weight=None, c...</td>\n",
       "      <td>1</td>\n",
       "      <td>{'ml': RidgeClassifier(alpha=10, class_weight=...</td>\n",
       "      <td>0.837079</td>\n",
       "      <td>0.831461</td>\n",
       "      <td>0.814607</td>\n",
       "      <td>0.792135</td>\n",
       "      <td>0.853107</td>\n",
       "      <td>0.825678</td>\n",
       "      <td>0.020801</td>\n",
       "      <td>2</td>\n",
       "    </tr>\n",
       "    <tr>\n",
       "      <th>5</th>\n",
       "      <td>0.027161</td>\n",
       "      <td>0.000456</td>\n",
       "      <td>0.016297</td>\n",
       "      <td>0.000325</td>\n",
       "      <td>RidgeClassifier(alpha=10, class_weight=None, c...</td>\n",
       "      <td>100</td>\n",
       "      <td>{'ml': RidgeClassifier(alpha=10, class_weight=...</td>\n",
       "      <td>0.837079</td>\n",
       "      <td>0.820225</td>\n",
       "      <td>0.825843</td>\n",
       "      <td>0.786517</td>\n",
       "      <td>0.847458</td>\n",
       "      <td>0.823424</td>\n",
       "      <td>0.020699</td>\n",
       "      <td>5</td>\n",
       "    </tr>\n",
       "  </tbody>\n",
       "</table>\n",
       "</div>"
      ],
      "text/plain": [
       "   mean_fit_time  std_fit_time  mean_score_time  std_score_time  \\\n",
       "4       0.029259      0.003821         0.016488        0.000349   \n",
       "1       0.027910      0.000424         0.016241        0.000382   \n",
       "2       0.027727      0.000636         0.016170        0.000448   \n",
       "3       0.028884      0.002199         0.017029        0.001150   \n",
       "5       0.027161      0.000456         0.016297        0.000325   \n",
       "\n",
       "                                            param_ml param_ml__alpha  \\\n",
       "4  RidgeClassifier(alpha=10, class_weight=None, c...              10   \n",
       "1  RidgeClassifier(alpha=10, class_weight=None, c...            0.01   \n",
       "2  RidgeClassifier(alpha=10, class_weight=None, c...             0.1   \n",
       "3  RidgeClassifier(alpha=10, class_weight=None, c...               1   \n",
       "5  RidgeClassifier(alpha=10, class_weight=None, c...             100   \n",
       "\n",
       "                                              params  split0_test_score  \\\n",
       "4  {'ml': RidgeClassifier(alpha=10, class_weight=...           0.837079   \n",
       "1  {'ml': RidgeClassifier(alpha=10, class_weight=...           0.837079   \n",
       "2  {'ml': RidgeClassifier(alpha=10, class_weight=...           0.837079   \n",
       "3  {'ml': RidgeClassifier(alpha=10, class_weight=...           0.837079   \n",
       "5  {'ml': RidgeClassifier(alpha=10, class_weight=...           0.837079   \n",
       "\n",
       "   split1_test_score  split2_test_score  split3_test_score  split4_test_score  \\\n",
       "4           0.831461           0.820225           0.786517           0.858757   \n",
       "1           0.831461           0.814607           0.792135           0.853107   \n",
       "2           0.831461           0.814607           0.792135           0.853107   \n",
       "3           0.831461           0.814607           0.792135           0.853107   \n",
       "5           0.820225           0.825843           0.786517           0.847458   \n",
       "\n",
       "   mean_test_score  std_test_score  rank_test_score  \n",
       "4         0.826808        0.023726                1  \n",
       "1         0.825678        0.020801                2  \n",
       "2         0.825678        0.020801                2  \n",
       "3         0.825678        0.020801                2  \n",
       "5         0.823424        0.020699                5  "
      ]
     },
     "execution_count": 81,
     "metadata": {},
     "output_type": "execute_result"
    }
   ],
   "source": [
    "res = pd.DataFrame(grid_search.cv_results_).sort_values('rank_test_score')\n",
    "res.head()"
   ]
  },
  {
   "cell_type": "code",
   "execution_count": 82,
   "metadata": {
    "ExecuteTime": {
     "end_time": "2020-05-11T10:03:45.169815Z",
     "start_time": "2020-05-11T10:03:45.159240Z"
    }
   },
   "outputs": [],
   "source": [
    "from src.plotting import plot_grid_results"
   ]
  },
  {
   "cell_type": "code",
   "execution_count": 83,
   "metadata": {
    "ExecuteTime": {
     "end_time": "2020-05-11T10:03:45.825119Z",
     "start_time": "2020-05-11T10:03:45.653031Z"
    }
   },
   "outputs": [
    {
     "data": {
      "text/plain": [
       "<matplotlib.axes._subplots.AxesSubplot at 0x7fe70fad41f0>"
      ]
     },
     "execution_count": 83,
     "metadata": {},
     "output_type": "execute_result"
    },
    {
     "data": {
      "image/png": "[encoded data removed]",
      "text/plain": [
       "<Figure size 432x288 with 1 Axes>"
      ]
     },
     "metadata": {
      "needs_background": "light"
     },
     "output_type": "display_data"
    }
   ],
   "source": [
    "sns.lineplot(x='param_ml__alpha', y='mean_test_score', data=res)"
   ]
  },
  {
   "cell_type": "code",
   "execution_count": 49,
   "metadata": {
    "ExecuteTime": {
     "end_time": "2020-05-11T10:00:39.488927Z",
     "start_time": "2020-05-11T10:00:39.482578Z"
    }
   },
   "outputs": [],
   "source": [
    "plot_grid_results(plot_grid_results(grid_search, 'clf', 'score');grid_search, 'clf', 'score');"
   ]
  },
  {
   "cell_type": "code",
   "execution_count": 126,
   "metadata": {
    "ExecuteTime": {
     "end_time": "2020-05-10T08:09:05.633561Z",
     "start_time": "2020-05-10T08:09:05.455213Z"
    }
   },
   "outputs": [
    {
     "data": {
      "image/png": "[encoded data removed]",
      "text/plain": [
       "<Figure size 864x576 with 1 Axes>"
      ]
     },
     "metadata": {
      "needs_background": "light"
     },
     "output_type": "display_data"
    }
   ],
   "source": [
    "plot_grid_results(grid_search, 'clf', 'time');"
   ]
  }
 ],
 "metadata": {
  "kernelspec": {
   "display_name": "Python [conda env:titansurv] *",
   "language": "python",
   "name": "conda-env-titansurv-py"
  },
  "language_info": {
   "codemirror_mode": {
    "name": "ipython",
    "version": 3
   },
   "file_extension": ".py",
   "mimetype": "text/x-python",
   "name": "python",
   "nbconvert_exporter": "python",
   "pygments_lexer": "ipython3",
   "version": "3.8.2"
  }
 },
 "nbformat": 4,
 "nbformat_minor": 4
}
