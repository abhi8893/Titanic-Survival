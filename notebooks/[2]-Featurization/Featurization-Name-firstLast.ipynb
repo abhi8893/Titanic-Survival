{
 "cells": [
  {
   "cell_type": "markdown",
   "metadata": {},
   "source": [
    "# `Featurization`-Name-firstLast"
   ]
  },
  {
   "cell_type": "code",
   "execution_count": 1,
   "metadata": {
    "ExecuteTime": {
     "end_time": "2020-05-17T16:13:00.160825Z",
     "start_time": "2020-05-17T16:13:00.155900Z"
    }
   },
   "outputs": [],
   "source": [
    "from src.utils import load_data"
   ]
  },
  {
   "cell_type": "code",
   "execution_count": 5,
   "metadata": {
    "ExecuteTime": {
     "end_time": "2020-05-17T16:15:19.828838Z",
     "start_time": "2020-05-17T16:15:19.803946Z"
    }
   },
   "outputs": [],
   "source": [
    "dfX, dfy = load_data(return_X_y=True)"
   ]
  },
  {
   "cell_type": "code",
   "execution_count": 6,
   "metadata": {
    "ExecuteTime": {
     "end_time": "2020-05-17T16:15:27.080885Z",
     "start_time": "2020-05-17T16:15:27.069964Z"
    }
   },
   "outputs": [],
   "source": [
    "name = dfX.Name"
   ]
  },
  {
   "cell_type": "code",
   "execution_count": 12,
   "metadata": {
    "ExecuteTime": {
     "end_time": "2020-05-17T16:16:37.509336Z",
     "start_time": "2020-05-17T16:16:37.466245Z"
    }
   },
   "outputs": [
    {
     "data": {
      "text/plain": [
       "Andersson    9\n",
       "Sage         7\n",
       "Skoog        6\n",
       "Goodwin      6\n",
       "Johnson      6\n",
       "            ..\n",
       "Humblen      1\n",
       "Ayoub        1\n",
       "Moussa       1\n",
       "Nosworthy    1\n",
       "Robbins      1\n",
       "Name: Name, Length: 667, dtype: int64"
      ]
     },
     "execution_count": 12,
     "metadata": {},
     "output_type": "execute_result"
    }
   ],
   "source": [
    "name.str.split(',').str[0].value_counts()"
   ]
  },
  {
   "cell_type": "code",
   "execution_count": null,
   "metadata": {},
   "outputs": [],
   "source": []
  }
 ],
 "metadata": {
  "kernelspec": {
   "display_name": "Python [conda env:titansurv] *",
   "language": "python",
   "name": "conda-env-titansurv-py"
  },
  "language_info": {
   "codemirror_mode": {
    "name": "ipython",
    "version": 3
   },
   "file_extension": ".py",
   "mimetype": "text/x-python",
   "name": "python",
   "nbconvert_exporter": "python",
   "pygments_lexer": "ipython3",
   "version": "3.8.2"
  }
 },
 "nbformat": 4,
 "nbformat_minor": 4
}
