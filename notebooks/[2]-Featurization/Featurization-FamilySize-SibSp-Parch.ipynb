{
 "cells": [
  {
   "cell_type": "markdown",
   "metadata": {},
   "source": [
    "# `Featurization` - FamilySize"
   ]
  },
  {
   "cell_type": "code",
   "execution_count": 1,
   "metadata": {
    "ExecuteTime": {
     "end_time": "2020-05-16T09:26:19.501173Z",
     "start_time": "2020-05-16T09:26:18.729777Z"
    }
   },
   "outputs": [],
   "source": [
    "from src.utils import load_data\n",
    "import pandas as pd\n",
    "dfX, dfy = load_data(return_X_y=True)"
   ]
  },
  {
   "cell_type": "code",
   "execution_count": 2,
   "metadata": {
    "ExecuteTime": {
     "end_time": "2020-05-16T09:26:19.507857Z",
     "start_time": "2020-05-16T09:26:19.503593Z"
    }
   },
   "outputs": [],
   "source": [
    "def adder(df):\n",
    "    return pd.DataFrame(df.sum(axis=1))"
   ]
  },
  {
   "cell_type": "code",
   "execution_count": 3,
   "metadata": {
    "ExecuteTime": {
     "end_time": "2020-05-16T09:26:19.519177Z",
     "start_time": "2020-05-16T09:26:19.510398Z"
    }
   },
   "outputs": [],
   "source": [
    "from sklearn.preprocessing import FunctionTransformer\n",
    "from sklearn.base import clone\n",
    "add_columns = FunctionTransformer(adder)\n",
    "family_size = clone(add_columns)\n",
    "\n",
    "def get_feature_names(self):\n",
    "    return 'FamilySize'\n",
    "\n",
    "family_size.get_feature_names = get_feature_names"
   ]
  },
  {
   "cell_type": "code",
   "execution_count": 4,
   "metadata": {
    "ExecuteTime": {
     "end_time": "2020-05-16T09:26:19.759918Z",
     "start_time": "2020-05-16T09:26:19.715442Z"
    }
   },
   "outputs": [
    {
     "data": {
      "text/html": [
       "<div>\n",
       "<style scoped>\n",
       "    .dataframe tbody tr th:only-of-type {\n",
       "        vertical-align: middle;\n",
       "    }\n",
       "\n",
       "    .dataframe tbody tr th {\n",
       "        vertical-align: top;\n",
       "    }\n",
       "\n",
       "    .dataframe thead th {\n",
       "        text-align: right;\n",
       "    }\n",
       "</style>\n",
       "<table border=\"1\" class=\"dataframe\">\n",
       "  <thead>\n",
       "    <tr style=\"text-align: right;\">\n",
       "      <th></th>\n",
       "      <th>0</th>\n",
       "    </tr>\n",
       "  </thead>\n",
       "  <tbody>\n",
       "    <tr>\n",
       "      <th>0</th>\n",
       "      <td>1</td>\n",
       "    </tr>\n",
       "    <tr>\n",
       "      <th>1</th>\n",
       "      <td>1</td>\n",
       "    </tr>\n",
       "    <tr>\n",
       "      <th>2</th>\n",
       "      <td>0</td>\n",
       "    </tr>\n",
       "    <tr>\n",
       "      <th>3</th>\n",
       "      <td>1</td>\n",
       "    </tr>\n",
       "    <tr>\n",
       "      <th>4</th>\n",
       "      <td>0</td>\n",
       "    </tr>\n",
       "    <tr>\n",
       "      <th>...</th>\n",
       "      <td>...</td>\n",
       "    </tr>\n",
       "    <tr>\n",
       "      <th>886</th>\n",
       "      <td>0</td>\n",
       "    </tr>\n",
       "    <tr>\n",
       "      <th>887</th>\n",
       "      <td>0</td>\n",
       "    </tr>\n",
       "    <tr>\n",
       "      <th>888</th>\n",
       "      <td>3</td>\n",
       "    </tr>\n",
       "    <tr>\n",
       "      <th>889</th>\n",
       "      <td>0</td>\n",
       "    </tr>\n",
       "    <tr>\n",
       "      <th>890</th>\n",
       "      <td>0</td>\n",
       "    </tr>\n",
       "  </tbody>\n",
       "</table>\n",
       "<p>891 rows × 1 columns</p>\n",
       "</div>"
      ],
      "text/plain": [
       "     0\n",
       "0    1\n",
       "1    1\n",
       "2    0\n",
       "3    1\n",
       "4    0\n",
       "..  ..\n",
       "886  0\n",
       "887  0\n",
       "888  3\n",
       "889  0\n",
       "890  0\n",
       "\n",
       "[891 rows x 1 columns]"
      ]
     },
     "execution_count": 4,
     "metadata": {},
     "output_type": "execute_result"
    }
   ],
   "source": [
    "family_size.fit_transform(dfX.loc[:, ['SibSp', 'Parch']])"
   ]
  },
  {
   "cell_type": "markdown",
   "metadata": {},
   "source": [
    "## Let's try it in a pipeline (dp1)"
   ]
  },
  {
   "cell_type": "code",
   "execution_count": 5,
   "metadata": {
    "ExecuteTime": {
     "end_time": "2020-05-16T09:26:20.329978Z",
     "start_time": "2020-05-16T09:26:20.234757Z"
    }
   },
   "outputs": [],
   "source": [
    "from sklearn.preprocessing import OneHotEncoder, StandardScaler\n",
    "from sklearn.compose import ColumnTransformer\n",
    "from sklearn.pipeline import Pipeline\n",
    "from sklearn.impute import SimpleImputer\n",
    "from sklearn.svm import SVC\n",
    "from sklearn.ensemble import RandomForestClassifier\n",
    "from sklearn.neighbors import KNeighborsClassifier"
   ]
  },
  {
   "cell_type": "code",
   "execution_count": 6,
   "metadata": {
    "ExecuteTime": {
     "end_time": "2020-05-16T09:26:20.526484Z",
     "start_time": "2020-05-16T09:26:20.515601Z"
    }
   },
   "outputs": [],
   "source": [
    "imp_enc = Pipeline([\n",
    "    ('imp', SimpleImputer(strategy='most_frequent')),\n",
    "    ('enc', OneHotEncoder(drop='first'))\n",
    "])\n",
    "\n",
    "clmn_trnsfrm = ColumnTransformer([\n",
    "    ('clmn_drp', 'drop', ['Name', 'Ticket', 'Cabin']),\n",
    "    ('enc', OneHotEncoder(drop='first'), ['Sex']),\n",
    "    ('imp_enc', imp_enc, ['Embarked']),\n",
    "    ('imp', SimpleImputer(), ['Age', 'Fare']),\n",
    "    ('pass', 'passthrough', ['SibSp', 'Parch']),\n",
    "    ('familysize', family_size, ['SibSp', 'Parch'])\n",
    "], 'passthrough')\n",
    "\n",
    "\n",
    "preprocess_data = Pipeline([\n",
    "    ('clmn_trnsfrm', clmn_trnsfrm),\n",
    "    ('scale', StandardScaler())\n",
    "])"
   ]
  },
  {
   "cell_type": "code",
   "execution_count": 9,
   "metadata": {
    "ExecuteTime": {
     "end_time": "2020-05-16T09:26:33.877005Z",
     "start_time": "2020-05-16T09:26:33.849955Z"
    }
   },
   "outputs": [],
   "source": [
    "from src.featurization import NameTitleExtractor, CabinTypeExtractor, TicketTypeExtractor\n",
    "from src.featurization import SibSpBinner, ParchBinner\n",
    "\n",
    "\n",
    "imp_enc = Pipeline([\n",
    "    ('imp', SimpleImputer(strategy='most_frequent')),\n",
    "    ('enc', OneHotEncoder(drop='first'))\n",
    "])\n",
    "\n",
    "\n",
    "preprocess_noscale = ColumnTransformer([\n",
    "    ('enc', OneHotEncoder(drop='first'), ['Sex']),\n",
    "    ('imp_enc', imp_enc, ['Embarked']),\n",
    "    ('imp', SimpleImputer(), ['Age', 'Fare']),\n",
    "    ('pre_Name', NameTitleExtractor(), 'Name'),\n",
    "    ('pre_Cabin', CabinTypeExtractor(), 'Cabin'),\n",
    "    ('pre_Ticket', TicketTypeExtractor(), 'Ticket'),\n",
    "    ('Pre_SibSp', SibSpBinner(), ['SibSp']),\n",
    "    ('Pre_Parch', ParchBinner(), ['Parch']),\n",
    "    ('familysize', family_size, ['SibSp', 'Parch'])\n",
    "], \n",
    "    'passthrough')\n",
    "\n",
    "preprocess_data = Pipeline([\n",
    "    ('clmn_trnsfrm', preprocess_noscale),\n",
    "    ('scale', StandardScaler())\n",
    "])\n"
   ]
  },
  {
   "cell_type": "code",
   "execution_count": 10,
   "metadata": {
    "ExecuteTime": {
     "end_time": "2020-05-16T09:26:34.519848Z",
     "start_time": "2020-05-16T09:26:34.455023Z"
    }
   },
   "outputs": [
    {
     "data": {
      "text/plain": [
       "(891, 26)"
      ]
     },
     "execution_count": 10,
     "metadata": {},
     "output_type": "execute_result"
    }
   ],
   "source": [
    "preprocess_data.fit_transform(dfX).shape"
   ]
  },
  {
   "cell_type": "code",
   "execution_count": 11,
   "metadata": {
    "ExecuteTime": {
     "end_time": "2020-05-16T09:26:34.934048Z",
     "start_time": "2020-05-16T09:26:34.927368Z"
    }
   },
   "outputs": [],
   "source": [
    "from sklearn.model_selection import cross_val_score, StratifiedKFold, GridSearchCV\n",
    "skf = StratifiedKFold()"
   ]
  },
  {
   "cell_type": "code",
   "execution_count": 12,
   "metadata": {
    "ExecuteTime": {
     "end_time": "2020-05-16T09:26:35.398944Z",
     "start_time": "2020-05-16T09:26:35.394752Z"
    }
   },
   "outputs": [],
   "source": [
    "def get_training_cv_score(pipe, dfX, dfy):\n",
    "    print(f'Training score: {pipe.score(dfX, dfy)}')\n",
    "    print(f'crossvalidation score: {cross_val_score(pipe, dfX, dfy, cv=skf).mean()}')"
   ]
  },
  {
   "cell_type": "code",
   "execution_count": 13,
   "metadata": {
    "ExecuteTime": {
     "end_time": "2020-05-16T09:26:38.385840Z",
     "start_time": "2020-05-16T09:26:35.892835Z"
    }
   },
   "outputs": [
    {
     "name": "stdout",
     "output_type": "stream",
     "text": [
      "Training score: 1.0\n",
      "crossvalidation score: 0.8092398468394952\n"
     ]
    }
   ],
   "source": [
    "mlmodel = RandomForestClassifier()\n",
    "pipe = Pipeline([\n",
    "    ('preprocess', preprocess_data),\n",
    "    ('ml', mlmodel)\n",
    "])\n",
    "pipe.fit(dfX, dfy)\n",
    "get_training_cv_score(pipe, dfX, dfy)"
   ]
  },
  {
   "cell_type": "markdown",
   "metadata": {},
   "source": [
    "## Let's check if adding this feature helped"
   ]
  },
  {
   "cell_type": "code",
   "execution_count": 14,
   "metadata": {
    "ExecuteTime": {
     "end_time": "2020-05-16T09:26:41.196428Z",
     "start_time": "2020-05-16T09:26:41.190514Z"
    }
   },
   "outputs": [],
   "source": [
    "def get_best_param_score(search):\n",
    "    print(f'Best param: {search.best_params_}')\n",
    "    print(f'Best score: {search.best_score_}')"
   ]
  },
  {
   "cell_type": "code",
   "execution_count": 16,
   "metadata": {
    "ExecuteTime": {
     "end_time": "2020-05-16T09:28:06.984521Z",
     "start_time": "2020-05-16T09:28:02.597939Z"
    }
   },
   "outputs": [
    {
     "name": "stdout",
     "output_type": "stream",
     "text": [
      "Best param: {'preprocess__clmn_trnsfrm__familysize': 'drop'}\n",
      "Best score: 0.8148327160881301\n"
     ]
    }
   ],
   "source": [
    "param_grid = {'preprocess__clmn_trnsfrm__familysize': [family_size, 'drop']}\n",
    "search = GridSearchCV(pipe, param_grid, cv=skf)\n",
    "search.fit(dfX, dfy)\n",
    "get_best_param_score(search)"
   ]
  },
  {
   "cell_type": "markdown",
   "metadata": {},
   "source": [
    "### So we got the best score when we dropped both i.e. didn't include SibSp and Parch and also didn't add FamilySize"
   ]
  },
  {
   "cell_type": "code",
   "execution_count": 161,
   "metadata": {
    "ExecuteTime": {
     "end_time": "2020-05-16T08:55:54.580769Z",
     "start_time": "2020-05-16T08:55:54.523217Z"
    }
   },
   "outputs": [
    {
     "data": {
      "text/html": [
       "<div>\n",
       "<style scoped>\n",
       "    .dataframe tbody tr th:only-of-type {\n",
       "        vertical-align: middle;\n",
       "    }\n",
       "\n",
       "    .dataframe tbody tr th {\n",
       "        vertical-align: top;\n",
       "    }\n",
       "\n",
       "    .dataframe thead th {\n",
       "        text-align: right;\n",
       "    }\n",
       "</style>\n",
       "<table border=\"1\" class=\"dataframe\">\n",
       "  <thead>\n",
       "    <tr style=\"text-align: right;\">\n",
       "      <th></th>\n",
       "      <th>mean_fit_time</th>\n",
       "      <th>std_fit_time</th>\n",
       "      <th>mean_score_time</th>\n",
       "      <th>std_score_time</th>\n",
       "      <th>param_preprocess__clmn_trnsfrm__familysize</th>\n",
       "      <th>param_preprocess__clmn_trnsfrm__pass</th>\n",
       "      <th>params</th>\n",
       "      <th>split0_test_score</th>\n",
       "      <th>split1_test_score</th>\n",
       "      <th>split2_test_score</th>\n",
       "      <th>split3_test_score</th>\n",
       "      <th>split4_test_score</th>\n",
       "      <th>mean_test_score</th>\n",
       "      <th>std_test_score</th>\n",
       "      <th>rank_test_score</th>\n",
       "    </tr>\n",
       "  </thead>\n",
       "  <tbody>\n",
       "    <tr>\n",
       "      <th>0</th>\n",
       "      <td>0.025853</td>\n",
       "      <td>0.005915</td>\n",
       "      <td>0.008016</td>\n",
       "      <td>0.000773</td>\n",
       "      <td>FunctionTransformer(accept_sparse=False, check...</td>\n",
       "      <td>drop</td>\n",
       "      <td>{'preprocess__clmn_trnsfrm__familysize': Funct...</td>\n",
       "      <td>0.810056</td>\n",
       "      <td>0.820225</td>\n",
       "      <td>0.808989</td>\n",
       "      <td>0.797753</td>\n",
       "      <td>0.842697</td>\n",
       "      <td>0.815944</td>\n",
       "      <td>0.015153</td>\n",
       "      <td>4</td>\n",
       "    </tr>\n",
       "    <tr>\n",
       "      <th>1</th>\n",
       "      <td>0.024351</td>\n",
       "      <td>0.000693</td>\n",
       "      <td>0.007805</td>\n",
       "      <td>0.000325</td>\n",
       "      <td>FunctionTransformer(accept_sparse=False, check...</td>\n",
       "      <td>passthrough</td>\n",
       "      <td>{'preprocess__clmn_trnsfrm__familysize': Funct...</td>\n",
       "      <td>0.815642</td>\n",
       "      <td>0.820225</td>\n",
       "      <td>0.820225</td>\n",
       "      <td>0.808989</td>\n",
       "      <td>0.837079</td>\n",
       "      <td>0.820432</td>\n",
       "      <td>0.009285</td>\n",
       "      <td>2</td>\n",
       "    </tr>\n",
       "    <tr>\n",
       "      <th>2</th>\n",
       "      <td>0.020870</td>\n",
       "      <td>0.000876</td>\n",
       "      <td>0.006584</td>\n",
       "      <td>0.000582</td>\n",
       "      <td>drop</td>\n",
       "      <td>drop</td>\n",
       "      <td>{'preprocess__clmn_trnsfrm__familysize': 'drop...</td>\n",
       "      <td>0.804469</td>\n",
       "      <td>0.831461</td>\n",
       "      <td>0.848315</td>\n",
       "      <td>0.792135</td>\n",
       "      <td>0.831461</td>\n",
       "      <td>0.821568</td>\n",
       "      <td>0.020346</td>\n",
       "      <td>1</td>\n",
       "    </tr>\n",
       "    <tr>\n",
       "      <th>3</th>\n",
       "      <td>0.022072</td>\n",
       "      <td>0.000623</td>\n",
       "      <td>0.008098</td>\n",
       "      <td>0.000661</td>\n",
       "      <td>drop</td>\n",
       "      <td>passthrough</td>\n",
       "      <td>{'preprocess__clmn_trnsfrm__familysize': 'drop...</td>\n",
       "      <td>0.821229</td>\n",
       "      <td>0.820225</td>\n",
       "      <td>0.814607</td>\n",
       "      <td>0.797753</td>\n",
       "      <td>0.848315</td>\n",
       "      <td>0.820426</td>\n",
       "      <td>0.016287</td>\n",
       "      <td>3</td>\n",
       "    </tr>\n",
       "  </tbody>\n",
       "</table>\n",
       "</div>"
      ],
      "text/plain": [
       "   mean_fit_time  std_fit_time  ...  std_test_score  rank_test_score\n",
       "0       0.025853      0.005915  ...        0.015153                4\n",
       "1       0.024351      0.000693  ...        0.009285                2\n",
       "2       0.020870      0.000876  ...        0.020346                1\n",
       "3       0.022072      0.000623  ...        0.016287                3\n",
       "\n",
       "[4 rows x 15 columns]"
      ]
     },
     "execution_count": 161,
     "metadata": {},
     "output_type": "execute_result"
    }
   ],
   "source": [
    "res = pd.DataFrame(search.cv_results_)\n",
    "res.head()"
   ]
  },
  {
   "cell_type": "markdown",
   "metadata": {},
   "source": [
    "## Let's compare these scores"
   ]
  },
  {
   "cell_type": "code",
   "execution_count": 164,
   "metadata": {
    "ExecuteTime": {
     "end_time": "2020-05-16T08:55:58.140681Z",
     "start_time": "2020-05-16T08:55:58.106568Z"
    }
   },
   "outputs": [],
   "source": [
    "familysize_labs = (res['param_preprocess__clmn_trnsfrm__familysize']\n",
    "                   .apply(lambda x: x if x == 'drop' else 'familysize')\n",
    "                  )\n",
    "\n",
    "labs = (familysize_labs.str.cat(res['param_preprocess__clmn_trnsfrm__pass'], sep=' + '))\n",
    "labs = labs[res['rank_test_score'].sort_values().index]"
   ]
  },
  {
   "cell_type": "code",
   "execution_count": 165,
   "metadata": {
    "ExecuteTime": {
     "end_time": "2020-05-16T08:55:58.725707Z",
     "start_time": "2020-05-16T08:55:58.565986Z"
    }
   },
   "outputs": [
    {
     "data": {
      "image/png": "[encoded data removed]",
      "text/plain": [
       "<Figure size 864x288 with 1 Axes>"
      ]
     },
     "metadata": {
      "needs_background": "light"
     },
     "output_type": "display_data"
    }
   ],
   "source": [
    "import seaborn as sns\n",
    "import matplotlib.pyplot as plt\n",
    "plt.figure(figsize=(12, 4))\n",
    "g = sns.barplot(x='rank_test_score', y='mean_test_score', data=res)\n",
    "g.set_xticklabels(labs);"
   ]
  },
  {
   "cell_type": "markdown",
   "metadata": {},
   "source": [
    "### So we got the best score when we dropped both i.e. didn't include SibSp and Parch and also didn't add FamilySize"
   ]
  }
 ],
 "metadata": {
  "kernelspec": {
   "display_name": "Python [conda env:titansurv] *",
   "language": "python",
   "name": "conda-env-titansurv-py"
  },
  "language_info": {
   "codemirror_mode": {
    "name": "ipython",
    "version": 3
   },
   "file_extension": ".py",
   "mimetype": "text/x-python",
   "name": "python",
   "nbconvert_exporter": "python",
   "pygments_lexer": "ipython3",
   "version": "3.8.2"
  }
 },
 "nbformat": 4,
 "nbformat_minor": 4
}
