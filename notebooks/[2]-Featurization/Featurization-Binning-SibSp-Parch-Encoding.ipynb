{
 "cells": [
  {
   "cell_type": "markdown",
   "metadata": {},
   "source": [
    "# Experimenting with binning SibSp and Parch"
   ]
  },
  {
   "cell_type": "code",
   "execution_count": 122,
   "metadata": {
    "ExecuteTime": {
     "end_time": "2020-05-10T06:01:19.684217Z",
     "start_time": "2020-05-10T06:01:19.680951Z"
    }
   },
   "outputs": [],
   "source": [
    "from sklearn.base import BaseEstimator, ClassifierMixin\n",
    "import pandas as pd\n",
    "import numpy as np\n",
    "from sklearn.preprocessing import FunctionTransformer"
   ]
  },
  {
   "cell_type": "code",
   "execution_count": 123,
   "metadata": {
    "ExecuteTime": {
     "end_time": "2020-05-10T06:01:19.906431Z",
     "start_time": "2020-05-10T06:01:19.887972Z"
    }
   },
   "outputs": [],
   "source": [
    "df = pd.read_csv(\"../data/raw/train.csv\").drop('PassengerId', axis=1)\n",
    "dfX = df.drop([\"Survived\"], axis=1)\n",
    "dfy = df.Survived\n"
   ]
  },
  {
   "cell_type": "code",
   "execution_count": 124,
   "metadata": {
    "ExecuteTime": {
     "end_time": "2020-05-10T06:01:20.169776Z",
     "start_time": "2020-05-10T06:01:20.126518Z"
    }
   },
   "outputs": [
    {
     "data": {
      "text/html": [
       "<div>\n",
       "<style scoped>\n",
       "    .dataframe tbody tr th:only-of-type {\n",
       "        vertical-align: middle;\n",
       "    }\n",
       "\n",
       "    .dataframe tbody tr th {\n",
       "        vertical-align: top;\n",
       "    }\n",
       "\n",
       "    .dataframe thead th {\n",
       "        text-align: right;\n",
       "    }\n",
       "</style>\n",
       "<table border=\"1\" class=\"dataframe\">\n",
       "  <thead>\n",
       "    <tr style=\"text-align: right;\">\n",
       "      <th></th>\n",
       "      <th>Survived</th>\n",
       "      <th>Pclass</th>\n",
       "      <th>Name</th>\n",
       "      <th>Sex</th>\n",
       "      <th>Age</th>\n",
       "      <th>SibSp</th>\n",
       "      <th>Parch</th>\n",
       "      <th>Ticket</th>\n",
       "      <th>Fare</th>\n",
       "      <th>Cabin</th>\n",
       "      <th>Embarked</th>\n",
       "    </tr>\n",
       "  </thead>\n",
       "  <tbody>\n",
       "    <tr>\n",
       "      <th>0</th>\n",
       "      <td>0</td>\n",
       "      <td>3</td>\n",
       "      <td>Braund, Mr. Owen Harris</td>\n",
       "      <td>male</td>\n",
       "      <td>22.0</td>\n",
       "      <td>1</td>\n",
       "      <td>0</td>\n",
       "      <td>A/5 21171</td>\n",
       "      <td>7.2500</td>\n",
       "      <td>NaN</td>\n",
       "      <td>S</td>\n",
       "    </tr>\n",
       "    <tr>\n",
       "      <th>1</th>\n",
       "      <td>1</td>\n",
       "      <td>1</td>\n",
       "      <td>Cumings, Mrs. John Bradley (Florence Briggs Th...</td>\n",
       "      <td>female</td>\n",
       "      <td>38.0</td>\n",
       "      <td>1</td>\n",
       "      <td>0</td>\n",
       "      <td>PC 17599</td>\n",
       "      <td>71.2833</td>\n",
       "      <td>C85</td>\n",
       "      <td>C</td>\n",
       "    </tr>\n",
       "    <tr>\n",
       "      <th>2</th>\n",
       "      <td>1</td>\n",
       "      <td>3</td>\n",
       "      <td>Heikkinen, Miss. Laina</td>\n",
       "      <td>female</td>\n",
       "      <td>26.0</td>\n",
       "      <td>0</td>\n",
       "      <td>0</td>\n",
       "      <td>STON/O2. 3101282</td>\n",
       "      <td>7.9250</td>\n",
       "      <td>NaN</td>\n",
       "      <td>S</td>\n",
       "    </tr>\n",
       "    <tr>\n",
       "      <th>3</th>\n",
       "      <td>1</td>\n",
       "      <td>1</td>\n",
       "      <td>Futrelle, Mrs. Jacques Heath (Lily May Peel)</td>\n",
       "      <td>female</td>\n",
       "      <td>35.0</td>\n",
       "      <td>1</td>\n",
       "      <td>0</td>\n",
       "      <td>113803</td>\n",
       "      <td>53.1000</td>\n",
       "      <td>C123</td>\n",
       "      <td>S</td>\n",
       "    </tr>\n",
       "    <tr>\n",
       "      <th>4</th>\n",
       "      <td>0</td>\n",
       "      <td>3</td>\n",
       "      <td>Allen, Mr. William Henry</td>\n",
       "      <td>male</td>\n",
       "      <td>35.0</td>\n",
       "      <td>0</td>\n",
       "      <td>0</td>\n",
       "      <td>373450</td>\n",
       "      <td>8.0500</td>\n",
       "      <td>NaN</td>\n",
       "      <td>S</td>\n",
       "    </tr>\n",
       "    <tr>\n",
       "      <th>...</th>\n",
       "      <td>...</td>\n",
       "      <td>...</td>\n",
       "      <td>...</td>\n",
       "      <td>...</td>\n",
       "      <td>...</td>\n",
       "      <td>...</td>\n",
       "      <td>...</td>\n",
       "      <td>...</td>\n",
       "      <td>...</td>\n",
       "      <td>...</td>\n",
       "      <td>...</td>\n",
       "    </tr>\n",
       "    <tr>\n",
       "      <th>886</th>\n",
       "      <td>0</td>\n",
       "      <td>2</td>\n",
       "      <td>Montvila, Rev. Juozas</td>\n",
       "      <td>male</td>\n",
       "      <td>27.0</td>\n",
       "      <td>0</td>\n",
       "      <td>0</td>\n",
       "      <td>211536</td>\n",
       "      <td>13.0000</td>\n",
       "      <td>NaN</td>\n",
       "      <td>S</td>\n",
       "    </tr>\n",
       "    <tr>\n",
       "      <th>887</th>\n",
       "      <td>1</td>\n",
       "      <td>1</td>\n",
       "      <td>Graham, Miss. Margaret Edith</td>\n",
       "      <td>female</td>\n",
       "      <td>19.0</td>\n",
       "      <td>0</td>\n",
       "      <td>0</td>\n",
       "      <td>112053</td>\n",
       "      <td>30.0000</td>\n",
       "      <td>B42</td>\n",
       "      <td>S</td>\n",
       "    </tr>\n",
       "    <tr>\n",
       "      <th>888</th>\n",
       "      <td>0</td>\n",
       "      <td>3</td>\n",
       "      <td>Johnston, Miss. Catherine Helen \"Carrie\"</td>\n",
       "      <td>female</td>\n",
       "      <td>NaN</td>\n",
       "      <td>1</td>\n",
       "      <td>2</td>\n",
       "      <td>W./C. 6607</td>\n",
       "      <td>23.4500</td>\n",
       "      <td>NaN</td>\n",
       "      <td>S</td>\n",
       "    </tr>\n",
       "    <tr>\n",
       "      <th>889</th>\n",
       "      <td>1</td>\n",
       "      <td>1</td>\n",
       "      <td>Behr, Mr. Karl Howell</td>\n",
       "      <td>male</td>\n",
       "      <td>26.0</td>\n",
       "      <td>0</td>\n",
       "      <td>0</td>\n",
       "      <td>111369</td>\n",
       "      <td>30.0000</td>\n",
       "      <td>C148</td>\n",
       "      <td>C</td>\n",
       "    </tr>\n",
       "    <tr>\n",
       "      <th>890</th>\n",
       "      <td>0</td>\n",
       "      <td>3</td>\n",
       "      <td>Dooley, Mr. Patrick</td>\n",
       "      <td>male</td>\n",
       "      <td>32.0</td>\n",
       "      <td>0</td>\n",
       "      <td>0</td>\n",
       "      <td>370376</td>\n",
       "      <td>7.7500</td>\n",
       "      <td>NaN</td>\n",
       "      <td>Q</td>\n",
       "    </tr>\n",
       "  </tbody>\n",
       "</table>\n",
       "<p>891 rows × 11 columns</p>\n",
       "</div>"
      ],
      "text/plain": [
       "     Survived  Pclass                                               Name  \\\n",
       "0           0       3                            Braund, Mr. Owen Harris   \n",
       "1           1       1  Cumings, Mrs. John Bradley (Florence Briggs Th...   \n",
       "2           1       3                             Heikkinen, Miss. Laina   \n",
       "3           1       1       Futrelle, Mrs. Jacques Heath (Lily May Peel)   \n",
       "4           0       3                           Allen, Mr. William Henry   \n",
       "..        ...     ...                                                ...   \n",
       "886         0       2                              Montvila, Rev. Juozas   \n",
       "887         1       1                       Graham, Miss. Margaret Edith   \n",
       "888         0       3           Johnston, Miss. Catherine Helen \"Carrie\"   \n",
       "889         1       1                              Behr, Mr. Karl Howell   \n",
       "890         0       3                                Dooley, Mr. Patrick   \n",
       "\n",
       "        Sex   Age  SibSp  Parch            Ticket     Fare Cabin Embarked  \n",
       "0      male  22.0      1      0         A/5 21171   7.2500   NaN        S  \n",
       "1    female  38.0      1      0          PC 17599  71.2833   C85        C  \n",
       "2    female  26.0      0      0  STON/O2. 3101282   7.9250   NaN        S  \n",
       "3    female  35.0      1      0            113803  53.1000  C123        S  \n",
       "4      male  35.0      0      0            373450   8.0500   NaN        S  \n",
       "..      ...   ...    ...    ...               ...      ...   ...      ...  \n",
       "886    male  27.0      0      0            211536  13.0000   NaN        S  \n",
       "887  female  19.0      0      0            112053  30.0000   B42        S  \n",
       "888  female   NaN      1      2        W./C. 6607  23.4500   NaN        S  \n",
       "889    male  26.0      0      0            111369  30.0000  C148        C  \n",
       "890    male  32.0      0      0            370376   7.7500   NaN        Q  \n",
       "\n",
       "[891 rows x 11 columns]"
      ]
     },
     "execution_count": 124,
     "metadata": {},
     "output_type": "execute_result"
    }
   ],
   "source": [
    "df"
   ]
  },
  {
   "cell_type": "code",
   "execution_count": 125,
   "metadata": {
    "ExecuteTime": {
     "end_time": "2020-05-10T06:01:20.347833Z",
     "start_time": "2020-05-10T06:01:20.324630Z"
    }
   },
   "outputs": [
    {
     "data": {
      "text/plain": [
       "0    608\n",
       "1    209\n",
       "2     28\n",
       "4     18\n",
       "3     16\n",
       "8      7\n",
       "5      5\n",
       "Name: SibSp, dtype: int64"
      ]
     },
     "execution_count": 125,
     "metadata": {},
     "output_type": "execute_result"
    }
   ],
   "source": [
    "df.SibSp.value_counts()"
   ]
  },
  {
   "cell_type": "code",
   "execution_count": 126,
   "metadata": {
    "ExecuteTime": {
     "end_time": "2020-05-10T06:01:20.564652Z",
     "start_time": "2020-05-10T06:01:20.547512Z"
    }
   },
   "outputs": [],
   "source": [
    "def FE_SibSp(arr: np.array):\n",
    "#     arr = arr.copy()\n",
    "    arr[arr>1] = 2\n",
    "    if len(arr.shape) == 1:\n",
    "        arr = arr.reshape(-1, 1)\n",
    "    return arr"
   ]
  },
  {
   "cell_type": "code",
   "execution_count": 127,
   "metadata": {
    "ExecuteTime": {
     "end_time": "2020-05-10T06:01:20.779065Z",
     "start_time": "2020-05-10T06:01:20.761829Z"
    }
   },
   "outputs": [
    {
     "data": {
      "text/plain": [
       "0    678\n",
       "1    118\n",
       "2     80\n",
       "5      5\n",
       "3      5\n",
       "4      4\n",
       "6      1\n",
       "Name: Parch, dtype: int64"
      ]
     },
     "execution_count": 127,
     "metadata": {},
     "output_type": "execute_result"
    }
   ],
   "source": [
    "df.Parch.value_counts()"
   ]
  },
  {
   "cell_type": "code",
   "execution_count": 128,
   "metadata": {
    "ExecuteTime": {
     "end_time": "2020-05-10T06:01:21.017756Z",
     "start_time": "2020-05-10T06:01:20.996128Z"
    }
   },
   "outputs": [],
   "source": [
    "def FE_Parch(arr: np.array):\n",
    "    arr = arr.copy()\n",
    "    arr[arr>1] = 2\n",
    "    if len(arr.shape) == 1:\n",
    "        arr = arr.reshape(-1, 1)\n",
    "    return arr"
   ]
  },
  {
   "cell_type": "code",
   "execution_count": 129,
   "metadata": {
    "ExecuteTime": {
     "end_time": "2020-05-10T06:01:21.240315Z",
     "start_time": "2020-05-10T06:01:21.230019Z"
    }
   },
   "outputs": [],
   "source": [
    "from src.preprocessing import NaNDropper\n",
    "from sklearn.pipeline import Pipeline"
   ]
  },
  {
   "cell_type": "code",
   "execution_count": 130,
   "metadata": {
    "ExecuteTime": {
     "end_time": "2020-05-10T06:01:21.538245Z",
     "start_time": "2020-05-10T06:01:21.509654Z"
    }
   },
   "outputs": [],
   "source": [
    "prepare_data = Pipeline([\n",
    "    ('nan_drpr', NaNDropper(['Embarked']))\n",
    "])\n",
    "\n",
    "dfX_pre, dfy_pre = prepare_data.fit_transform(dfX, dfy)"
   ]
  },
  {
   "cell_type": "code",
   "execution_count": 131,
   "metadata": {
    "ExecuteTime": {
     "end_time": "2020-05-10T06:01:21.883628Z",
     "start_time": "2020-05-10T06:01:21.874583Z"
    }
   },
   "outputs": [],
   "source": [
    "from sklearn.preprocessing import OneHotEncoder, StandardScaler\n",
    "from sklearn.impute import SimpleImputer\n",
    "from sklearn.compose import ColumnTransformer"
   ]
  },
  {
   "cell_type": "code",
   "execution_count": 132,
   "metadata": {
    "ExecuteTime": {
     "end_time": "2020-05-10T06:01:22.283883Z",
     "start_time": "2020-05-10T06:01:22.242052Z"
    }
   },
   "outputs": [],
   "source": [
    "imp_scale = Pipeline([\n",
    "    ('imp', SimpleImputer()),\n",
    "    ('scaler', StandardScaler())\n",
    "], 'passthrough')\n",
    "\n",
    "bin_enc_1 = Pipeline([\n",
    "    ('binner', FunctionTransformer(FE_SibSp)),\n",
    "    ('enc', OneHotEncoder(drop='first'))\n",
    "])\n",
    "\n",
    "bin_enc_2 = Pipeline([\n",
    "    ('binner', FunctionTransformer(FE_Parch)),\n",
    "    ('enc', OneHotEncoder(drop='first'))\n",
    "])\n",
    "\n",
    "\n",
    "preprocess_data = ColumnTransformer([\n",
    "        ('clmn_drpr', 'drop', ['Name', 'Ticket', 'Cabin']),\n",
    "        ('enc', OneHotEncoder(drop='first'), ['Sex', 'Embarked']),\n",
    "        ('imp_scaler', imp_scale, ['Age', 'Fare']),\n",
    "        ('bin_enc_1', bin_enc_1, ['SibSp']),\n",
    "        ('bin_enc_2', bin_enc_2, ['Parch'])\n",
    "    ], 'passthrough')"
   ]
  },
  {
   "cell_type": "code",
   "execution_count": 159,
   "metadata": {
    "ExecuteTime": {
     "end_time": "2020-05-10T06:36:57.933338Z",
     "start_time": "2020-05-10T06:36:57.892736Z"
    }
   },
   "outputs": [
    {
     "data": {
      "text/plain": [
       "(889, 10)"
      ]
     },
     "execution_count": 159,
     "metadata": {},
     "output_type": "execute_result"
    }
   ],
   "source": [
    "preprocess_data.fit_transform(dfX_pre, dfy_pre).shape"
   ]
  },
  {
   "cell_type": "code",
   "execution_count": 160,
   "metadata": {
    "ExecuteTime": {
     "end_time": "2020-05-10T06:36:59.201781Z",
     "start_time": "2020-05-10T06:36:59.196591Z"
    }
   },
   "outputs": [],
   "source": [
    "from sklearn.linear_model import LogisticRegression, RidgeClassifier\n",
    "from sklearn.neighbors import KNeighborsClassifier\n",
    "from sklearn.tree import DecisionTreeClassifier\n",
    "from sklearn.svm import SVC\n",
    "from sklearn.ensemble import RandomForestClassifier, BaggingClassifier"
   ]
  },
  {
   "cell_type": "code",
   "execution_count": 161,
   "metadata": {
    "ExecuteTime": {
     "end_time": "2020-05-10T06:36:59.649544Z",
     "start_time": "2020-05-10T06:36:59.639968Z"
    }
   },
   "outputs": [],
   "source": [
    "pipe = Pipeline([\n",
    "    ('preprocess', preprocess_data),\n",
    "    ('clf', RandomForestClassifier(random_state=1))\n",
    "])"
   ]
  },
  {
   "cell_type": "code",
   "execution_count": 162,
   "metadata": {
    "ExecuteTime": {
     "end_time": "2020-05-10T06:37:00.505072Z",
     "start_time": "2020-05-10T06:37:00.258786Z"
    }
   },
   "outputs": [],
   "source": [
    "pipe.fit(dfX_pre, dfy_pre);"
   ]
  },
  {
   "cell_type": "code",
   "execution_count": 163,
   "metadata": {
    "ExecuteTime": {
     "end_time": "2020-05-10T06:37:00.797753Z",
     "start_time": "2020-05-10T06:37:00.757472Z"
    }
   },
   "outputs": [
    {
     "data": {
      "text/plain": [
       "0.9820022497187851"
      ]
     },
     "execution_count": 163,
     "metadata": {},
     "output_type": "execute_result"
    }
   ],
   "source": [
    "pipe.score(dfX_pre, dfy_pre)"
   ]
  },
  {
   "cell_type": "code",
   "execution_count": 164,
   "metadata": {
    "ExecuteTime": {
     "end_time": "2020-05-10T06:37:02.155658Z",
     "start_time": "2020-05-10T06:37:01.283310Z"
    }
   },
   "outputs": [
    {
     "data": {
      "text/plain": [
       "0.7998032120865867"
      ]
     },
     "execution_count": 164,
     "metadata": {},
     "output_type": "execute_result"
    }
   ],
   "source": [
    "from sklearn.model_selection import cross_val_score\n",
    "from sklearn.model_selection import StratifiedKFold\n",
    "skf = StratifiedKFold(n_splits=5, random_state=1, shuffle=True)\n",
    "cross_val_score(pipe, dfX_pre, dfy_pre, cv=skf).mean()"
   ]
  },
  {
   "cell_type": "code",
   "execution_count": 165,
   "metadata": {
    "ExecuteTime": {
     "end_time": "2020-05-10T06:37:02.161910Z",
     "start_time": "2020-05-10T06:37:02.157678Z"
    }
   },
   "outputs": [],
   "source": [
    "from src.utils import print_params"
   ]
  },
  {
   "cell_type": "code",
   "execution_count": 166,
   "metadata": {
    "ExecuteTime": {
     "end_time": "2020-05-10T06:37:02.375569Z",
     "start_time": "2020-05-10T06:37:02.357451Z"
    },
    "collapsed": true
   },
   "outputs": [
    {
     "name": "stdout",
     "output_type": "stream",
     "text": [
      "['memory',\n",
      " 'steps',\n",
      " 'verbose',\n",
      " 'preprocess',\n",
      " 'clf',\n",
      " 'preprocess__n_jobs',\n",
      " 'preprocess__remainder',\n",
      " 'preprocess__sparse_threshold',\n",
      " 'preprocess__transformer_weights',\n",
      " 'preprocess__transformers',\n",
      " 'preprocess__verbose',\n",
      " 'preprocess__clmn_drpr',\n",
      " 'preprocess__enc',\n",
      " 'preprocess__imp_scaler',\n",
      " 'preprocess__bin_enc_1',\n",
      " 'preprocess__bin_enc_2',\n",
      " 'preprocess__enc__categories',\n",
      " 'preprocess__enc__drop',\n",
      " 'preprocess__enc__dtype',\n",
      " 'preprocess__enc__handle_unknown',\n",
      " 'preprocess__enc__sparse',\n",
      " 'preprocess__imp_scaler__memory',\n",
      " 'preprocess__imp_scaler__steps',\n",
      " 'preprocess__imp_scaler__verbose',\n",
      " 'preprocess__imp_scaler__imp',\n",
      " 'preprocess__imp_scaler__scaler',\n",
      " 'preprocess__imp_scaler__imp__add_indicator',\n",
      " 'preprocess__imp_scaler__imp__copy',\n",
      " 'preprocess__imp_scaler__imp__fill_value',\n",
      " 'preprocess__imp_scaler__imp__missing_values',\n",
      " 'preprocess__imp_scaler__imp__strategy',\n",
      " 'preprocess__imp_scaler__imp__verbose',\n",
      " 'preprocess__imp_scaler__scaler__copy',\n",
      " 'preprocess__imp_scaler__scaler__with_mean',\n",
      " 'preprocess__imp_scaler__scaler__with_std',\n",
      " 'preprocess__bin_enc_1__memory',\n",
      " 'preprocess__bin_enc_1__steps',\n",
      " 'preprocess__bin_enc_1__verbose',\n",
      " 'preprocess__bin_enc_1__binner',\n",
      " 'preprocess__bin_enc_1__enc',\n",
      " 'preprocess__bin_enc_1__binner__accept_sparse',\n",
      " 'preprocess__bin_enc_1__binner__check_inverse',\n",
      " 'preprocess__bin_enc_1__binner__func',\n",
      " 'preprocess__bin_enc_1__binner__inv_kw_args',\n",
      " 'preprocess__bin_enc_1__binner__inverse_func',\n",
      " 'preprocess__bin_enc_1__binner__kw_args',\n",
      " 'preprocess__bin_enc_1__binner__validate',\n",
      " 'preprocess__bin_enc_1__enc__categories',\n",
      " 'preprocess__bin_enc_1__enc__drop',\n",
      " 'preprocess__bin_enc_1__enc__dtype',\n",
      " 'preprocess__bin_enc_1__enc__handle_unknown',\n",
      " 'preprocess__bin_enc_1__enc__sparse',\n",
      " 'preprocess__bin_enc_2__memory',\n",
      " 'preprocess__bin_enc_2__steps',\n",
      " 'preprocess__bin_enc_2__verbose',\n",
      " 'preprocess__bin_enc_2__binner',\n",
      " 'preprocess__bin_enc_2__enc',\n",
      " 'preprocess__bin_enc_2__binner__accept_sparse',\n",
      " 'preprocess__bin_enc_2__binner__check_inverse',\n",
      " 'preprocess__bin_enc_2__binner__func',\n",
      " 'preprocess__bin_enc_2__binner__inv_kw_args',\n",
      " 'preprocess__bin_enc_2__binner__inverse_func',\n",
      " 'preprocess__bin_enc_2__binner__kw_args',\n",
      " 'preprocess__bin_enc_2__binner__validate',\n",
      " 'preprocess__bin_enc_2__enc__categories',\n",
      " 'preprocess__bin_enc_2__enc__drop',\n",
      " 'preprocess__bin_enc_2__enc__dtype',\n",
      " 'preprocess__bin_enc_2__enc__handle_unknown',\n",
      " 'preprocess__bin_enc_2__enc__sparse',\n",
      " 'clf__bootstrap',\n",
      " 'clf__ccp_alpha',\n",
      " 'clf__class_weight',\n",
      " 'clf__criterion',\n",
      " 'clf__max_depth',\n",
      " 'clf__max_features',\n",
      " 'clf__max_leaf_nodes',\n",
      " 'clf__max_samples',\n",
      " 'clf__min_impurity_decrease',\n",
      " 'clf__min_impurity_split',\n",
      " 'clf__min_samples_leaf',\n",
      " 'clf__min_samples_split',\n",
      " 'clf__min_weight_fraction_leaf',\n",
      " 'clf__n_estimators',\n",
      " 'clf__n_jobs',\n",
      " 'clf__oob_score',\n",
      " 'clf__random_state',\n",
      " 'clf__verbose',\n",
      " 'clf__warm_start']\n"
     ]
    }
   ],
   "source": [
    "print_params(pipe)"
   ]
  },
  {
   "cell_type": "markdown",
   "metadata": {},
   "source": [
    "## Try various models with the default hyperparameters\n"
   ]
  },
  {
   "cell_type": "code",
   "execution_count": 167,
   "metadata": {
    "ExecuteTime": {
     "end_time": "2020-05-10T06:37:03.322521Z",
     "start_time": "2020-05-10T06:37:03.318811Z"
    }
   },
   "outputs": [],
   "source": [
    "from sklearn.model_selection import GridSearchCV"
   ]
  },
  {
   "cell_type": "code",
   "execution_count": 168,
   "metadata": {
    "ExecuteTime": {
     "end_time": "2020-05-10T06:37:04.160339Z",
     "start_time": "2020-05-10T06:37:04.146894Z"
    }
   },
   "outputs": [],
   "source": [
    "models = [\n",
    "    RidgeClassifier(),\n",
    "    LogisticRegression(solver=\"liblinear\"),  # liblinear is better for small datasets\n",
    "    KNeighborsClassifier(),\n",
    "    DecisionTreeClassifier(random_state=1),\n",
    "    SVC(),\n",
    "    RandomForestClassifier(random_state=1),\n",
    "    BaggingClassifier(random_state=1)\n",
    "]\n",
    "\n",
    "param_grid = {'clf': models}"
   ]
  },
  {
   "cell_type": "code",
   "execution_count": 169,
   "metadata": {
    "ExecuteTime": {
     "end_time": "2020-05-10T06:37:06.410640Z",
     "start_time": "2020-05-10T06:37:04.600422Z"
    }
   },
   "outputs": [],
   "source": [
    "grid = GridSearchCV(pipe, param_grid, cv=skf)\n",
    "grid.fit(dfX_pre, dfy_pre);"
   ]
  },
  {
   "cell_type": "code",
   "execution_count": 170,
   "metadata": {
    "ExecuteTime": {
     "end_time": "2020-05-10T06:37:06.954916Z",
     "start_time": "2020-05-10T06:37:06.943342Z"
    }
   },
   "outputs": [
    {
     "name": "stdout",
     "output_type": "stream",
     "text": [
      "{'clf': SVC(C=1.0, break_ties=False, cache_size=200, class_weight=None, coef0=0.0,\n",
      "    decision_function_shape='ovr', degree=3, gamma='scale', kernel='rbf',\n",
      "    max_iter=-1, probability=False, random_state=None, shrinking=True,\n",
      "    tol=0.001, verbose=False)}\n",
      "0.8155398971624453\n"
     ]
    }
   ],
   "source": [
    "print(grid.best_params_)\n",
    "print(grid.best_score_)"
   ]
  },
  {
   "cell_type": "markdown",
   "metadata": {},
   "source": [
    "So I can get \\~82% accuracy by no hyperparameter tuning in the pipeline by using `SVC`. Nice! :D <br/>\n",
    "\n",
    "<font color='red'>DOUBT</font>: Do I need to separately see the OOB accuracy for `RandomForestClassifier`?"
   ]
  },
  {
   "cell_type": "code",
   "execution_count": 171,
   "metadata": {
    "ExecuteTime": {
     "end_time": "2020-05-10T10:32:56.738697Z",
     "start_time": "2020-05-10T10:32:56.732106Z"
    }
   },
   "outputs": [],
   "source": [
    "import seaborn as sns"
   ]
  },
  {
   "cell_type": "code",
   "execution_count": 172,
   "metadata": {
    "ExecuteTime": {
     "end_time": "2020-05-10T10:32:56.969489Z",
     "start_time": "2020-05-10T10:32:56.933725Z"
    }
   },
   "outputs": [
    {
     "data": {
      "text/html": [
       "<div>\n",
       "<style scoped>\n",
       "    .dataframe tbody tr th:only-of-type {\n",
       "        vertical-align: middle;\n",
       "    }\n",
       "\n",
       "    .dataframe tbody tr th {\n",
       "        vertical-align: top;\n",
       "    }\n",
       "\n",
       "    .dataframe thead th {\n",
       "        text-align: right;\n",
       "    }\n",
       "</style>\n",
       "<table border=\"1\" class=\"dataframe\">\n",
       "  <thead>\n",
       "    <tr style=\"text-align: right;\">\n",
       "      <th></th>\n",
       "      <th>mean_fit_time</th>\n",
       "      <th>std_fit_time</th>\n",
       "      <th>mean_score_time</th>\n",
       "      <th>std_score_time</th>\n",
       "      <th>param_clf</th>\n",
       "      <th>params</th>\n",
       "      <th>split0_test_score</th>\n",
       "      <th>split1_test_score</th>\n",
       "      <th>split2_test_score</th>\n",
       "      <th>split3_test_score</th>\n",
       "      <th>split4_test_score</th>\n",
       "      <th>mean_test_score</th>\n",
       "      <th>std_test_score</th>\n",
       "      <th>rank_test_score</th>\n",
       "    </tr>\n",
       "  </thead>\n",
       "  <tbody>\n",
       "    <tr>\n",
       "      <th>4</th>\n",
       "      <td>0.023921</td>\n",
       "      <td>0.000621</td>\n",
       "      <td>0.008962</td>\n",
       "      <td>0.000172</td>\n",
       "      <td>SVC(C=1.0, break_ties=False, cache_size=200, c...</td>\n",
       "      <td>{'clf': SVC(C=1.0, break_ties=False, cache_siz...</td>\n",
       "      <td>0.853933</td>\n",
       "      <td>0.831461</td>\n",
       "      <td>0.775281</td>\n",
       "      <td>0.786517</td>\n",
       "      <td>0.830508</td>\n",
       "      <td>0.815540</td>\n",
       "      <td>0.029714</td>\n",
       "      <td>1</td>\n",
       "    </tr>\n",
       "    <tr>\n",
       "      <th>1</th>\n",
       "      <td>0.017446</td>\n",
       "      <td>0.000369</td>\n",
       "      <td>0.008669</td>\n",
       "      <td>0.000279</td>\n",
       "      <td>LogisticRegression(C=1.0, class_weight=None, d...</td>\n",
       "      <td>{'clf': LogisticRegression(C=1.0, class_weight...</td>\n",
       "      <td>0.842697</td>\n",
       "      <td>0.814607</td>\n",
       "      <td>0.747191</td>\n",
       "      <td>0.797753</td>\n",
       "      <td>0.847458</td>\n",
       "      <td>0.809941</td>\n",
       "      <td>0.036300</td>\n",
       "      <td>2</td>\n",
       "    </tr>\n",
       "    <tr>\n",
       "      <th>6</th>\n",
       "      <td>0.029444</td>\n",
       "      <td>0.000715</td>\n",
       "      <td>0.008238</td>\n",
       "      <td>0.000243</td>\n",
       "      <td>BaggingClassifier(base_estimator=None, bootstr...</td>\n",
       "      <td>{'clf': BaggingClassifier(base_estimator=None,...</td>\n",
       "      <td>0.792135</td>\n",
       "      <td>0.859551</td>\n",
       "      <td>0.764045</td>\n",
       "      <td>0.803371</td>\n",
       "      <td>0.830508</td>\n",
       "      <td>0.809922</td>\n",
       "      <td>0.032713</td>\n",
       "      <td>3</td>\n",
       "    </tr>\n",
       "    <tr>\n",
       "      <th>0</th>\n",
       "      <td>0.024410</td>\n",
       "      <td>0.010320</td>\n",
       "      <td>0.011802</td>\n",
       "      <td>0.005636</td>\n",
       "      <td>RidgeClassifier(alpha=1.0, class_weight=None, ...</td>\n",
       "      <td>{'clf': RidgeClassifier(alpha=1.0, class_weigh...</td>\n",
       "      <td>0.848315</td>\n",
       "      <td>0.803371</td>\n",
       "      <td>0.741573</td>\n",
       "      <td>0.803371</td>\n",
       "      <td>0.836158</td>\n",
       "      <td>0.806557</td>\n",
       "      <td>0.037049</td>\n",
       "      <td>4</td>\n",
       "    </tr>\n",
       "    <tr>\n",
       "      <th>2</th>\n",
       "      <td>0.014541</td>\n",
       "      <td>0.001261</td>\n",
       "      <td>0.013692</td>\n",
       "      <td>0.001640</td>\n",
       "      <td>KNeighborsClassifier(algorithm='auto', leaf_si...</td>\n",
       "      <td>{'clf': KNeighborsClassifier(algorithm='auto',...</td>\n",
       "      <td>0.820225</td>\n",
       "      <td>0.825843</td>\n",
       "      <td>0.758427</td>\n",
       "      <td>0.803371</td>\n",
       "      <td>0.813559</td>\n",
       "      <td>0.804285</td>\n",
       "      <td>0.024119</td>\n",
       "      <td>5</td>\n",
       "    </tr>\n",
       "  </tbody>\n",
       "</table>\n",
       "</div>"
      ],
      "text/plain": [
       "   mean_fit_time  std_fit_time  mean_score_time  std_score_time  \\\n",
       "4       0.023921      0.000621         0.008962        0.000172   \n",
       "1       0.017446      0.000369         0.008669        0.000279   \n",
       "6       0.029444      0.000715         0.008238        0.000243   \n",
       "0       0.024410      0.010320         0.011802        0.005636   \n",
       "2       0.014541      0.001261         0.013692        0.001640   \n",
       "\n",
       "                                           param_clf  \\\n",
       "4  SVC(C=1.0, break_ties=False, cache_size=200, c...   \n",
       "1  LogisticRegression(C=1.0, class_weight=None, d...   \n",
       "6  BaggingClassifier(base_estimator=None, bootstr...   \n",
       "0  RidgeClassifier(alpha=1.0, class_weight=None, ...   \n",
       "2  KNeighborsClassifier(algorithm='auto', leaf_si...   \n",
       "\n",
       "                                              params  split0_test_score  \\\n",
       "4  {'clf': SVC(C=1.0, break_ties=False, cache_siz...           0.853933   \n",
       "1  {'clf': LogisticRegression(C=1.0, class_weight...           0.842697   \n",
       "6  {'clf': BaggingClassifier(base_estimator=None,...           0.792135   \n",
       "0  {'clf': RidgeClassifier(alpha=1.0, class_weigh...           0.848315   \n",
       "2  {'clf': KNeighborsClassifier(algorithm='auto',...           0.820225   \n",
       "\n",
       "   split1_test_score  split2_test_score  split3_test_score  split4_test_score  \\\n",
       "4           0.831461           0.775281           0.786517           0.830508   \n",
       "1           0.814607           0.747191           0.797753           0.847458   \n",
       "6           0.859551           0.764045           0.803371           0.830508   \n",
       "0           0.803371           0.741573           0.803371           0.836158   \n",
       "2           0.825843           0.758427           0.803371           0.813559   \n",
       "\n",
       "   mean_test_score  std_test_score  rank_test_score  \n",
       "4         0.815540        0.029714                1  \n",
       "1         0.809941        0.036300                2  \n",
       "6         0.809922        0.032713                3  \n",
       "0         0.806557        0.037049                4  \n",
       "2         0.804285        0.024119                5  "
      ]
     },
     "execution_count": 172,
     "metadata": {},
     "output_type": "execute_result"
    }
   ],
   "source": [
    "res = pd.DataFrame(grid.cv_results_).sort_values('rank_test_score')\n",
    "res.head()"
   ]
  },
  {
   "cell_type": "code",
   "execution_count": 173,
   "metadata": {
    "ExecuteTime": {
     "end_time": "2020-05-10T10:32:57.185614Z",
     "start_time": "2020-05-10T10:32:57.181218Z"
    }
   },
   "outputs": [],
   "source": [
    "from src.plotting import plot_grid_results"
   ]
  },
  {
   "cell_type": "code",
   "execution_count": 174,
   "metadata": {
    "ExecuteTime": {
     "end_time": "2020-05-10T10:32:57.632305Z",
     "start_time": "2020-05-10T10:32:57.423319Z"
    }
   },
   "outputs": [
    {
     "data": {
      "image/png": "[encoded data removed]",
      "text/plain": [
       "<Figure size 864x576 with 1 Axes>"
      ]
     },
     "metadata": {
      "needs_background": "light"
     },
     "output_type": "display_data"
    }
   ],
   "source": [
    "plot_grid_results(grid, 'clf', 'score');"
   ]
  },
  {
   "cell_type": "code",
   "execution_count": 175,
   "metadata": {
    "ExecuteTime": {
     "end_time": "2020-05-10T10:32:57.852533Z",
     "start_time": "2020-05-10T10:32:57.641538Z"
    }
   },
   "outputs": [
    {
     "data": {
      "image/png": "[encoded data removed]",
      "text/plain": [
       "<Figure size 864x576 with 1 Axes>"
      ]
     },
     "metadata": {
      "needs_background": "light"
     },
     "output_type": "display_data"
    }
   ],
   "source": [
    "plot_grid_results(grid, 'clf', 'time');"
   ]
  }
 ],
 "metadata": {
  "kernelspec": {
   "display_name": "Python [conda env:titansurv] *",
   "language": "python",
   "name": "conda-env-titansurv-py"
  },
  "language_info": {
   "codemirror_mode": {
    "name": "ipython",
    "version": 3
   },
   "file_extension": ".py",
   "mimetype": "text/x-python",
   "name": "python",
   "nbconvert_exporter": "python",
   "pygments_lexer": "ipython3",
   "version": "3.8.2"
  }
 },
 "nbformat": 4,
 "nbformat_minor": 4
}
