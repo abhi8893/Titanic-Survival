{
 "cells": [
  {
   "cell_type": "markdown",
   "metadata": {},
   "source": [
    "# Featurization - `Cabin`"
   ]
  },
  {
   "cell_type": "code",
   "execution_count": 1,
   "metadata": {
    "ExecuteTime": {
     "end_time": "2020-05-12T07:21:17.381800Z",
     "start_time": "2020-05-12T07:21:17.078076Z"
    }
   },
   "outputs": [],
   "source": [
    "import pandas as pd"
   ]
  },
  {
   "cell_type": "code",
   "execution_count": 2,
   "metadata": {
    "ExecuteTime": {
     "end_time": "2020-05-12T07:22:08.753779Z",
     "start_time": "2020-05-12T07:22:08.702918Z"
    }
   },
   "outputs": [],
   "source": [
    "df = pd.read_csv(\"../../data/raw/train.csv\")\n",
    "dfX = df.drop(['Survived', 'PassengerId'], axis=1)\n",
    "dfy = df.Survived"
   ]
  },
  {
   "cell_type": "code",
   "execution_count": 3,
   "metadata": {
    "ExecuteTime": {
     "end_time": "2020-05-12T07:22:15.158038Z",
     "start_time": "2020-05-12T07:22:15.098924Z"
    }
   },
   "outputs": [
    {
     "data": {
      "text/plain": [
       "0       True\n",
       "1      False\n",
       "2       True\n",
       "3      False\n",
       "4       True\n",
       "       ...  \n",
       "886     True\n",
       "887    False\n",
       "888     True\n",
       "889    False\n",
       "890     True\n",
       "Name: Cabin, Length: 891, dtype: bool"
      ]
     },
     "execution_count": 3,
     "metadata": {},
     "output_type": "execute_result"
    }
   ],
   "source": [
    "df.Cabin.isna()"
   ]
  },
  {
   "cell_type": "code",
   "execution_count": 4,
   "metadata": {
    "ExecuteTime": {
     "end_time": "2020-05-12T07:22:30.469050Z",
     "start_time": "2020-05-12T07:22:30.446811Z"
    }
   },
   "outputs": [],
   "source": [
    "def extract_first_letter(x):\n",
    "    \n",
    "    '''\n",
    "    Extracts the first letter of the cabin and fills NaN as 'NC' (No cabin)\n",
    "    '''\n",
    "    \n",
    "    col1 = x.str[0].fillna('NC')\n",
    "    \n",
    "    return pd.DataFrame(col1)"
   ]
  },
  {
   "cell_type": "code",
   "execution_count": 5,
   "metadata": {
    "ExecuteTime": {
     "end_time": "2020-05-12T07:22:56.158792Z",
     "start_time": "2020-05-12T07:22:56.091497Z"
    }
   },
   "outputs": [
    {
     "data": {
      "text/html": [
       "<div>\n",
       "<style scoped>\n",
       "    .dataframe tbody tr th:only-of-type {\n",
       "        vertical-align: middle;\n",
       "    }\n",
       "\n",
       "    .dataframe tbody tr th {\n",
       "        vertical-align: top;\n",
       "    }\n",
       "\n",
       "    .dataframe thead th {\n",
       "        text-align: right;\n",
       "    }\n",
       "</style>\n",
       "<table border=\"1\" class=\"dataframe\">\n",
       "  <thead>\n",
       "    <tr style=\"text-align: right;\">\n",
       "      <th></th>\n",
       "      <th>Pclass</th>\n",
       "      <th>Name</th>\n",
       "      <th>Sex</th>\n",
       "      <th>Age</th>\n",
       "      <th>SibSp</th>\n",
       "      <th>Parch</th>\n",
       "      <th>Ticket</th>\n",
       "      <th>Fare</th>\n",
       "      <th>Cabin</th>\n",
       "      <th>Embarked</th>\n",
       "    </tr>\n",
       "  </thead>\n",
       "  <tbody>\n",
       "    <tr>\n",
       "      <th>339</th>\n",
       "      <td>1</td>\n",
       "      <td>Blackwell, Mr. Stephen Weart</td>\n",
       "      <td>male</td>\n",
       "      <td>45.0</td>\n",
       "      <td>0</td>\n",
       "      <td>0</td>\n",
       "      <td>113784</td>\n",
       "      <td>35.5</td>\n",
       "      <td>T</td>\n",
       "      <td>S</td>\n",
       "    </tr>\n",
       "  </tbody>\n",
       "</table>\n",
       "</div>"
      ],
      "text/plain": [
       "     Pclass                          Name   Sex   Age  SibSp  Parch  Ticket  \\\n",
       "339       1  Blackwell, Mr. Stephen Weart  male  45.0      0      0  113784   \n",
       "\n",
       "     Fare Cabin Embarked  \n",
       "339  35.5     T        S  "
      ]
     },
     "execution_count": 5,
     "metadata": {},
     "output_type": "execute_result"
    }
   ],
   "source": [
    "dfX.loc[df.Cabin == 'T']"
   ]
  },
  {
   "cell_type": "markdown",
   "metadata": {},
   "source": [
    "Need to make a function which groups such that the minimum count is `thresh`"
   ]
  },
  {
   "cell_type": "markdown",
   "metadata": {},
   "source": [
    "We can include these steps in identifying the categorical groups while making the pipeline. \n",
    "Something like a helper pipeline to make a preprocessing pipeline"
   ]
  },
  {
   "cell_type": "code",
   "execution_count": 13,
   "metadata": {
    "ExecuteTime": {
     "end_time": "2020-05-12T07:25:32.111598Z",
     "start_time": "2020-05-12T07:25:32.079728Z"
    }
   },
   "outputs": [],
   "source": [
    "def get_low_count_groups(x, thresh, return_new_grps=False, setval=None, sort=False):\n",
    "    '''\n",
    "    Get groups such that the aggregate count is atleast {thresh}\n",
    "    '''\n",
    "    counts = x.value_counts().sort_values(ascending=True)\n",
    "    gt_thresh = counts.cumsum() >= thresh\n",
    "    first_occur = gt_thresh.searchsorted(True)\n",
    "    \n",
    "    if not return_new_grps:\n",
    "        res = counts.index[:(first_occur)].tolist()\n",
    "        if sort:\n",
    "            res.sort()\n",
    "    else:\n",
    "        res = counts.index[(first_occur+1):].tolist()\n",
    "        if sort:\n",
    "            res = sorted(res) + ['other']\n",
    "            \n",
    "    return res\n",
    "    "
   ]
  },
  {
   "cell_type": "code",
   "execution_count": 22,
   "metadata": {
    "ExecuteTime": {
     "end_time": "2020-05-12T07:30:16.733843Z",
     "start_time": "2020-05-12T07:30:16.688242Z"
    }
   },
   "outputs": [
    {
     "data": {
      "text/plain": [
       "NC    687\n",
       "C      59\n",
       "B      47\n",
       "D      33\n",
       "E      32\n",
       "A      15\n",
       "F      13\n",
       "G       4\n",
       "T       1\n",
       "Name: Cabin, dtype: int64"
      ]
     },
     "execution_count": 22,
     "metadata": {},
     "output_type": "execute_result"
    }
   ],
   "source": [
    "cabin_type = extract_first_letter(df.Cabin).Cabin\n",
    "cabin_type.value_counts()"
   ]
  },
  {
   "cell_type": "code",
   "execution_count": 23,
   "metadata": {
    "ExecuteTime": {
     "end_time": "2020-05-12T07:30:20.780490Z",
     "start_time": "2020-05-12T07:30:20.749690Z"
    }
   },
   "outputs": [
    {
     "data": {
      "text/plain": [
       "['T', 'G']"
      ]
     },
     "execution_count": 23,
     "metadata": {},
     "output_type": "execute_result"
    }
   ],
   "source": [
    "get_low_count_groups(cabin_type, 10)"
   ]
  },
  {
   "cell_type": "code",
   "execution_count": 24,
   "metadata": {
    "ExecuteTime": {
     "end_time": "2020-05-12T07:30:25.837218Z",
     "start_time": "2020-05-12T07:30:25.798595Z"
    }
   },
   "outputs": [
    {
     "data": {
      "text/plain": [
       "['A', 'B', 'C', 'D', 'E', 'NC', 'other']"
      ]
     },
     "execution_count": 24,
     "metadata": {},
     "output_type": "execute_result"
    }
   ],
   "source": [
    "get_low_count_groups(cabin_type, 10, True, 'other', True)"
   ]
  },
  {
   "cell_type": "code",
   "execution_count": 19,
   "metadata": {
    "ExecuteTime": {
     "end_time": "2020-05-12T07:28:39.801705Z",
     "start_time": "2020-05-12T07:28:39.784745Z"
    }
   },
   "outputs": [],
   "source": [
    "from src.utils import group_low_count_cat"
   ]
  },
  {
   "cell_type": "code",
   "execution_count": 27,
   "metadata": {
    "ExecuteTime": {
     "end_time": "2020-05-12T07:31:23.340789Z",
     "start_time": "2020-05-12T07:31:23.294269Z"
    }
   },
   "outputs": [
    {
     "data": {
      "text/plain": [
       "['A', 'B', 'C', 'D', 'E', 'NC', 'other']"
      ]
     },
     "execution_count": 27,
     "metadata": {},
     "output_type": "execute_result"
    }
   ],
   "source": [
    "sorted(group_low_count_cat(cabin_type, 10, 'other').index.tolist())"
   ]
  },
  {
   "cell_type": "markdown",
   "metadata": {},
   "source": [
    "Now we can remake the original `extract_first_letter` or make the `FE_Cabin` transformer by chaining in a `Pipeline`"
   ]
  },
  {
   "cell_type": "code",
   "execution_count": 17,
   "metadata": {
    "ExecuteTime": {
     "end_time": "2020-05-12T07:27:54.358937Z",
     "start_time": "2020-05-12T07:27:54.342085Z"
    }
   },
   "outputs": [],
   "source": [
    "def extract_first_letter_Cabin(x, grp_cat=False):\n",
    "    \n",
    "    '''\n",
    "    Extracts the first letter of the cabin and fills NaN as 'NC' (No cabin)\n",
    "    Parameters:\n",
    "    -----------\n",
    "    grp_cat: bool, default: False\n",
    "        whether to group some categories to 'other'\n",
    "        Encode with categories ['A', 'B', 'C', 'D', 'E', 'NC', 'other']\n",
    "        \n",
    "    '''\n",
    "    \n",
    "    x = x.str[0].fillna('NC')\n",
    "    if grp_cat:\n",
    "        x.loc[~x.isin(['A', 'B', 'C', 'D', 'E', 'NC'])] = 'other'\n",
    "    \n",
    "    return pd.DataFrame(x)\n",
    "  "
   ]
  },
  {
   "cell_type": "code",
   "execution_count": 73,
   "metadata": {
    "ExecuteTime": {
     "end_time": "2020-05-12T08:58:50.462933Z",
     "start_time": "2020-05-12T08:58:50.454866Z"
    }
   },
   "outputs": [],
   "source": [
    "from sklearn.base import BaseEstimator, TransformerMixin\n",
    "from sklearn.preprocessing import OneHotEncoder\n",
    "from sklearn.compose import make_column_transformer"
   ]
  },
  {
   "cell_type": "code",
   "execution_count": 82,
   "metadata": {
    "ExecuteTime": {
     "end_time": "2020-05-12T13:21:10.218713Z",
     "start_time": "2020-05-12T13:21:10.205371Z"
    }
   },
   "outputs": [],
   "source": [
    "class CabinTypeExtractor(BaseEstimator, TransformerMixin):\n",
    "    \n",
    "    def __init__(self, grp_cat=True, sparse=False):\n",
    "        self.grp_cat = grp_cat\n",
    "        \n",
    "        if self.grp_cat:\n",
    "            self.exclude_cat = ['A', 'B', 'C', 'D', 'E', 'NC']\n",
    "            self.cat = self.exclude_cat + ['other']\n",
    "            self.ohe = OneHotEncoder([self.cat], drop=['other'], sparse=sparse)\n",
    "        else:\n",
    "            self.cat = ['A', 'B', 'C', 'D', 'E', 'F', 'G', 'T', 'NC']\n",
    "            self.ohe = OneHotEncoder([self.cat], drop=['T'], sparse=sparse)\n",
    "            \n",
    "        self.sparse = sparse\n",
    "        \n",
    "    def fit(self, X, y=None):\n",
    "                    \n",
    "        try:    \n",
    "            name = X.name \n",
    "        except AttributeError:\n",
    "            name = 'Cabin'\n",
    "            \n",
    "        dummy_df = pd.DataFrame({name: ['A']})\n",
    "        \n",
    "        self.ohe.fit(dummy_df)\n",
    "        \n",
    "        return self\n",
    "    \n",
    "    \n",
    "    def transform(self, X):\n",
    "        X = X.str[0].fillna('NC')\n",
    "        if self.grp_cat:\n",
    "            X.loc[~X.isin(self.exclude_cat)] = 'other'\n",
    "\n",
    "        return self.ohe.transform(pd.DataFrame(X))\n",
    "    \n",
    "    def get_feature_names(self, input_features):\n",
    "        return self.ohe.get_feature_names(input_features)\n",
    "\n"
   ]
  },
  {
   "cell_type": "code",
   "execution_count": 83,
   "metadata": {
    "ExecuteTime": {
     "end_time": "2020-05-12T13:21:10.516244Z",
     "start_time": "2020-05-12T13:21:10.493578Z"
    }
   },
   "outputs": [
    {
     "data": {
      "text/plain": [
       "array([[0., 0., 0., 0., 0., 1.],\n",
       "       [0., 0., 1., 0., 0., 0.],\n",
       "       [0., 0., 0., 0., 0., 1.],\n",
       "       ...,\n",
       "       [0., 0., 0., 0., 0., 1.],\n",
       "       [0., 0., 1., 0., 0., 0.],\n",
       "       [0., 0., 0., 0., 0., 1.]])"
      ]
     },
     "execution_count": 83,
     "metadata": {},
     "output_type": "execute_result"
    }
   ],
   "source": [
    "CabinTypeExtractor(grp_cat=True).fit_transform(df.Cabin)"
   ]
  },
  {
   "cell_type": "code",
   "execution_count": 84,
   "metadata": {
    "ExecuteTime": {
     "end_time": "2020-05-12T13:21:11.210759Z",
     "start_time": "2020-05-12T13:21:11.186519Z"
    }
   },
   "outputs": [
    {
     "data": {
      "text/plain": [
       "array(['Cabin_A', 'Cabin_B', 'Cabin_C', 'Cabin_D', 'Cabin_E', 'Cabin_NC'],\n",
       "      dtype=object)"
      ]
     },
     "execution_count": 84,
     "metadata": {},
     "output_type": "execute_result"
    }
   ],
   "source": [
    "CabinTypeExtractor().fit(df.Cabin).get_feature_names(['Cabin'])"
   ]
  },
  {
   "cell_type": "code",
   "execution_count": 85,
   "metadata": {
    "ExecuteTime": {
     "end_time": "2020-05-12T13:21:11.764996Z",
     "start_time": "2020-05-12T13:21:11.720730Z"
    }
   },
   "outputs": [
    {
     "data": {
      "text/plain": [
       "array([[0., 0., 0., 0., 0., 1.],\n",
       "       [0., 0., 1., 0., 0., 0.],\n",
       "       [0., 0., 0., 0., 0., 1.],\n",
       "       ...,\n",
       "       [0., 0., 0., 0., 0., 1.],\n",
       "       [0., 0., 1., 0., 0., 0.],\n",
       "       [0., 0., 0., 0., 0., 1.]])"
      ]
     },
     "execution_count": 85,
     "metadata": {},
     "output_type": "execute_result"
    }
   ],
   "source": [
    "make_column_transformer((CabinTypeExtractor(), 'Cabin')).fit_transform(df)"
   ]
  },
  {
   "cell_type": "code",
   "execution_count": 18,
   "metadata": {
    "ExecuteTime": {
     "end_time": "2020-05-12T07:28:08.013397Z",
     "start_time": "2020-05-12T07:28:07.949732Z"
    }
   },
   "outputs": [
    {
     "data": {
      "text/html": [
       "<div>\n",
       "<style scoped>\n",
       "    .dataframe tbody tr th:only-of-type {\n",
       "        vertical-align: middle;\n",
       "    }\n",
       "\n",
       "    .dataframe tbody tr th {\n",
       "        vertical-align: top;\n",
       "    }\n",
       "\n",
       "    .dataframe thead th {\n",
       "        text-align: right;\n",
       "    }\n",
       "</style>\n",
       "<table border=\"1\" class=\"dataframe\">\n",
       "  <thead>\n",
       "    <tr style=\"text-align: right;\">\n",
       "      <th></th>\n",
       "      <th>Cabin</th>\n",
       "    </tr>\n",
       "  </thead>\n",
       "  <tbody>\n",
       "    <tr>\n",
       "      <th>0</th>\n",
       "      <td>NC</td>\n",
       "    </tr>\n",
       "    <tr>\n",
       "      <th>1</th>\n",
       "      <td>C</td>\n",
       "    </tr>\n",
       "    <tr>\n",
       "      <th>2</th>\n",
       "      <td>NC</td>\n",
       "    </tr>\n",
       "    <tr>\n",
       "      <th>3</th>\n",
       "      <td>C</td>\n",
       "    </tr>\n",
       "    <tr>\n",
       "      <th>4</th>\n",
       "      <td>NC</td>\n",
       "    </tr>\n",
       "    <tr>\n",
       "      <th>...</th>\n",
       "      <td>...</td>\n",
       "    </tr>\n",
       "    <tr>\n",
       "      <th>886</th>\n",
       "      <td>NC</td>\n",
       "    </tr>\n",
       "    <tr>\n",
       "      <th>887</th>\n",
       "      <td>B</td>\n",
       "    </tr>\n",
       "    <tr>\n",
       "      <th>888</th>\n",
       "      <td>NC</td>\n",
       "    </tr>\n",
       "    <tr>\n",
       "      <th>889</th>\n",
       "      <td>C</td>\n",
       "    </tr>\n",
       "    <tr>\n",
       "      <th>890</th>\n",
       "      <td>NC</td>\n",
       "    </tr>\n",
       "  </tbody>\n",
       "</table>\n",
       "<p>891 rows × 1 columns</p>\n",
       "</div>"
      ],
      "text/plain": [
       "    Cabin\n",
       "0      NC\n",
       "1       C\n",
       "2      NC\n",
       "3       C\n",
       "4      NC\n",
       "..    ...\n",
       "886    NC\n",
       "887     B\n",
       "888    NC\n",
       "889     C\n",
       "890    NC\n",
       "\n",
       "[891 rows x 1 columns]"
      ]
     },
     "execution_count": 18,
     "metadata": {},
     "output_type": "execute_result"
    }
   ],
   "source": [
    "extract_first_letter_Cabin(df.Cabin, True)"
   ]
  },
  {
   "cell_type": "code",
   "execution_count": null,
   "metadata": {},
   "outputs": [],
   "source": [
    "def group_low_count_cat(x, thresh, setval):\n",
    "\n",
    "    '''Group categories with counts less than {thresh},\n",
    "    and rename them to {setval}\n",
    "\n",
    "    Parameters\n",
    "    ----------\n",
    "    \n",
    "    x: pd.Series\n",
    "        A pandas series with discrete entries\n",
    "        \n",
    "    thresh: int\n",
    "        Minimum count of a low count category\n",
    "\n",
    "    setval: object\n",
    "        New value to set for the merged categories\n",
    "\n",
    "    '''\n",
    "    counts = x.value_counts()\n",
    "\n",
    "    cat_grp = counts[counts <= thresh].index.tolist()\n",
    "\n",
    "    counts = counts[::-1] \n",
    "\n",
    "    gt_thresh = counts.cumsum() >= thresh\n",
    "\n",
    "    first_occur = gt_thresh.searchsorted(True)\n",
    "\n",
    "    add_cat = gt_thresh.index[first_occur]\n",
    "\n",
    "    cat_grp = cat_grp + [add_cat]\n",
    "\n",
    "    def replace(v):\n",
    "        if v in cat_grp:\n",
    "            return setval\n",
    "        else:\n",
    "            return v\n",
    "\n",
    "    return pd.DataFrame(x.apply(replace).value_counts())\n",
    "\n",
    "x = get_title(df.Name).Name\n",
    "group_low_count_cat(x, 10, 'other')"
   ]
  }
 ],
 "metadata": {
  "kernelspec": {
   "display_name": "Python [conda env:titansurv] *",
   "language": "python",
   "name": "conda-env-titansurv-py"
  },
  "language_info": {
   "codemirror_mode": {
    "name": "ipython",
    "version": 3
   },
   "file_extension": ".py",
   "mimetype": "text/x-python",
   "name": "python",
   "nbconvert_exporter": "python",
   "pygments_lexer": "ipython3",
   "version": "3.8.2"
  }
 },
 "nbformat": 4,
 "nbformat_minor": 4
}
