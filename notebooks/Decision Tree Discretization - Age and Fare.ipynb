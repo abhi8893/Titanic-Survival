{
 "cells": [
  {
   "cell_type": "markdown",
   "metadata": {},
   "source": [
    "# Discretization using Decision Trees"
   ]
  },
  {
   "cell_type": "markdown",
   "metadata": {},
   "source": [
    "[Discretization using Decision Trees](https://towardsdatascience.com/discretisation-using-decision-trees-21910483fa4b)\n",
    "\n",
    "[Supervised and Unsupervised Discretization of Continuous Features](http://ai.stanford.edu/~ronnyk/disc.pdf)"
   ]
  },
  {
   "cell_type": "code",
   "execution_count": 2,
   "metadata": {
    "ExecuteTime": {
     "end_time": "2020-04-27T08:26:16.642891Z",
     "start_time": "2020-04-27T08:26:16.633600Z"
    }
   },
   "outputs": [],
   "source": [
    "from sklearn.tree import DecisionTreeClassifier\n",
    "import pandas as pd\n",
    "import numpy as np\n",
    "from sklearn.base import BaseEstimator, ClassifierMixin"
   ]
  },
  {
   "cell_type": "code",
   "execution_count": 167,
   "metadata": {
    "ExecuteTime": {
     "end_time": "2020-04-27T18:11:32.219331Z",
     "start_time": "2020-04-27T18:11:32.196310Z"
    }
   },
   "outputs": [],
   "source": [
    "import os \n",
    "import sys\n",
    "\n",
    "sys.path.append(\"../\")\n",
    "\n",
    "from titansurv.preprocessing import AutoFitTrans, ColumnDropper, NaNDropper"
   ]
  },
  {
   "cell_type": "code",
   "execution_count": 35,
   "metadata": {
    "ExecuteTime": {
     "end_time": "2020-04-27T09:36:55.904628Z",
     "start_time": "2020-04-27T09:36:55.884068Z"
    }
   },
   "outputs": [
    {
     "data": {
      "text/html": [
       "<div>\n",
       "<style scoped>\n",
       "    .dataframe tbody tr th:only-of-type {\n",
       "        vertical-align: middle;\n",
       "    }\n",
       "\n",
       "    .dataframe tbody tr th {\n",
       "        vertical-align: top;\n",
       "    }\n",
       "\n",
       "    .dataframe thead th {\n",
       "        text-align: right;\n",
       "    }\n",
       "</style>\n",
       "<table border=\"1\" class=\"dataframe\">\n",
       "  <thead>\n",
       "    <tr style=\"text-align: right;\">\n",
       "      <th></th>\n",
       "      <th>PassengerId</th>\n",
       "      <th>Survived</th>\n",
       "      <th>Pclass</th>\n",
       "      <th>Name</th>\n",
       "      <th>Sex</th>\n",
       "      <th>Age</th>\n",
       "      <th>SibSp</th>\n",
       "      <th>Parch</th>\n",
       "      <th>Ticket</th>\n",
       "      <th>Fare</th>\n",
       "      <th>Cabin</th>\n",
       "      <th>Embarked</th>\n",
       "    </tr>\n",
       "  </thead>\n",
       "  <tbody>\n",
       "    <tr>\n",
       "      <td>0</td>\n",
       "      <td>1</td>\n",
       "      <td>0</td>\n",
       "      <td>3</td>\n",
       "      <td>Braund, Mr. Owen Harris</td>\n",
       "      <td>male</td>\n",
       "      <td>22.0</td>\n",
       "      <td>1</td>\n",
       "      <td>0</td>\n",
       "      <td>A/5 21171</td>\n",
       "      <td>7.2500</td>\n",
       "      <td>NaN</td>\n",
       "      <td>S</td>\n",
       "    </tr>\n",
       "    <tr>\n",
       "      <td>1</td>\n",
       "      <td>2</td>\n",
       "      <td>1</td>\n",
       "      <td>1</td>\n",
       "      <td>Cumings, Mrs. John Bradley (Florence Briggs Th...</td>\n",
       "      <td>female</td>\n",
       "      <td>38.0</td>\n",
       "      <td>1</td>\n",
       "      <td>0</td>\n",
       "      <td>PC 17599</td>\n",
       "      <td>71.2833</td>\n",
       "      <td>C85</td>\n",
       "      <td>C</td>\n",
       "    </tr>\n",
       "    <tr>\n",
       "      <td>2</td>\n",
       "      <td>3</td>\n",
       "      <td>1</td>\n",
       "      <td>3</td>\n",
       "      <td>Heikkinen, Miss. Laina</td>\n",
       "      <td>female</td>\n",
       "      <td>26.0</td>\n",
       "      <td>0</td>\n",
       "      <td>0</td>\n",
       "      <td>STON/O2. 3101282</td>\n",
       "      <td>7.9250</td>\n",
       "      <td>NaN</td>\n",
       "      <td>S</td>\n",
       "    </tr>\n",
       "    <tr>\n",
       "      <td>3</td>\n",
       "      <td>4</td>\n",
       "      <td>1</td>\n",
       "      <td>1</td>\n",
       "      <td>Futrelle, Mrs. Jacques Heath (Lily May Peel)</td>\n",
       "      <td>female</td>\n",
       "      <td>35.0</td>\n",
       "      <td>1</td>\n",
       "      <td>0</td>\n",
       "      <td>113803</td>\n",
       "      <td>53.1000</td>\n",
       "      <td>C123</td>\n",
       "      <td>S</td>\n",
       "    </tr>\n",
       "    <tr>\n",
       "      <td>4</td>\n",
       "      <td>5</td>\n",
       "      <td>0</td>\n",
       "      <td>3</td>\n",
       "      <td>Allen, Mr. William Henry</td>\n",
       "      <td>male</td>\n",
       "      <td>35.0</td>\n",
       "      <td>0</td>\n",
       "      <td>0</td>\n",
       "      <td>373450</td>\n",
       "      <td>8.0500</td>\n",
       "      <td>NaN</td>\n",
       "      <td>S</td>\n",
       "    </tr>\n",
       "  </tbody>\n",
       "</table>\n",
       "</div>"
      ],
      "text/plain": [
       "   PassengerId  Survived  Pclass  \\\n",
       "0            1         0       3   \n",
       "1            2         1       1   \n",
       "2            3         1       3   \n",
       "3            4         1       1   \n",
       "4            5         0       3   \n",
       "\n",
       "                                                Name     Sex   Age  SibSp  \\\n",
       "0                            Braund, Mr. Owen Harris    male  22.0      1   \n",
       "1  Cumings, Mrs. John Bradley (Florence Briggs Th...  female  38.0      1   \n",
       "2                             Heikkinen, Miss. Laina  female  26.0      0   \n",
       "3       Futrelle, Mrs. Jacques Heath (Lily May Peel)  female  35.0      1   \n",
       "4                           Allen, Mr. William Henry    male  35.0      0   \n",
       "\n",
       "   Parch            Ticket     Fare Cabin Embarked  \n",
       "0      0         A/5 21171   7.2500   NaN        S  \n",
       "1      0          PC 17599  71.2833   C85        C  \n",
       "2      0  STON/O2. 3101282   7.9250   NaN        S  \n",
       "3      0            113803  53.1000  C123        S  \n",
       "4      0            373450   8.0500   NaN        S  "
      ]
     },
     "execution_count": 35,
     "metadata": {},
     "output_type": "execute_result"
    }
   ],
   "source": [
    "df = pd.read_csv(\"../data/raw/train.csv\")\n",
    "df.head()"
   ]
  },
  {
   "cell_type": "code",
   "execution_count": 44,
   "metadata": {},
   "outputs": [],
   "source": [
    "dfX = df.drop('Survived', axis=1)\n",
    "dfy = df.Survived"
   ]
  },
  {
   "cell_type": "markdown",
   "metadata": {},
   "source": [
    "Function to make columns ready for DecisionTree "
   ]
  },
  {
   "cell_type": "code",
   "execution_count": 6,
   "metadata": {
    "ExecuteTime": {
     "end_time": "2020-04-27T08:11:35.483071Z",
     "start_time": "2020-04-27T08:11:35.467574Z"
    }
   },
   "outputs": [],
   "source": [
    "# TODO: Make it work for the case when x is a list\n",
    "def select_clmns_dt(x, y, df):\n",
    "    '''Ready columns for Decision Tree\n",
    "    '''\n",
    "    df = df.loc[:, [x, y]].dropna()\n",
    "    X = df.iloc[:, 0].values.reshape(-1, 1) \n",
    "    y = df.iloc[:, -1].values\n",
    "    \n",
    "    return X, y"
   ]
  },
  {
   "cell_type": "markdown",
   "metadata": {},
   "source": [
    "Extract Columns"
   ]
  },
  {
   "cell_type": "code",
   "execution_count": 7,
   "metadata": {
    "ExecuteTime": {
     "end_time": "2020-04-27T08:11:44.389214Z",
     "start_time": "2020-04-27T08:11:44.368883Z"
    }
   },
   "outputs": [],
   "source": [
    "X, y = select_clmns_dt('Age', 'Survived', df)"
   ]
  },
  {
   "cell_type": "markdown",
   "metadata": {},
   "source": [
    "Fit DecisionTree"
   ]
  },
  {
   "cell_type": "code",
   "execution_count": 8,
   "metadata": {
    "ExecuteTime": {
     "end_time": "2020-04-27T08:11:47.207891Z",
     "start_time": "2020-04-27T08:11:47.185359Z"
    }
   },
   "outputs": [
    {
     "data": {
      "text/plain": [
       "DecisionTreeClassifier(ccp_alpha=0.0, class_weight=None, criterion='gini',\n",
       "                       max_depth=2, max_features=None, max_leaf_nodes=None,\n",
       "                       min_impurity_decrease=0.0, min_impurity_split=None,\n",
       "                       min_samples_leaf=1, min_samples_split=2,\n",
       "                       min_weight_fraction_leaf=0.0, presort='deprecated',\n",
       "                       random_state=None, splitter='best')"
      ]
     },
     "execution_count": 8,
     "metadata": {},
     "output_type": "execute_result"
    }
   ],
   "source": [
    "dt = DecisionTreeClassifier(max_depth=2)\n",
    "dt.fit(X, y)"
   ]
  },
  {
   "cell_type": "markdown",
   "metadata": {},
   "source": [
    "Import required libraries to visualize the tree"
   ]
  },
  {
   "cell_type": "code",
   "execution_count": 9,
   "metadata": {
    "ExecuteTime": {
     "end_time": "2020-04-27T08:11:48.578921Z",
     "start_time": "2020-04-27T08:11:48.563816Z"
    }
   },
   "outputs": [],
   "source": [
    "from io import StringIO\n",
    "import pydot\n",
    "from IPython.display import Image\n",
    "from sklearn.tree import export_graphviz"
   ]
  },
  {
   "cell_type": "markdown",
   "metadata": {},
   "source": [
    "Maybe make this into a draw_decision_tree function?"
   ]
  },
  {
   "cell_type": "code",
   "execution_count": 10,
   "metadata": {
    "ExecuteTime": {
     "end_time": "2020-04-27T08:11:49.118460Z",
     "start_time": "2020-04-27T08:11:48.986837Z"
    }
   },
   "outputs": [
    {
     "data": {
      "image/png": "[encoded data removed]",
      "text/plain": [
       "<IPython.core.display.Image object>"
      ]
     },
     "execution_count": 10,
     "metadata": {},
     "output_type": "execute_result"
    }
   ],
   "source": [
    "out = StringIO() # create output-object\n",
    "export_graphviz(dt, out_file=out, feature_names=['Age']) # export dotdata to object\n",
    "graph = pydot.graph_from_dot_data(out.getvalue())[0] # make a graph from dotdata\n",
    "Image(graph.create_png()) # create png byte data from graph and visualize using Image\n"
   ]
  },
  {
   "cell_type": "markdown",
   "metadata": {},
   "source": [
    "We have got 4 bins here, <br/> \n",
    "1. $\\leq 0.96$\n",
    "2. $\\ (0.96, 6.5]$\n",
    "3. $(6.5, 63.5]$\n",
    "4. $\\gt 63.5$\n",
    "\n",
    "But these bins aren't the best, so we can tune the various hyperparameters and find the best bin for both."
   ]
  },
  {
   "cell_type": "markdown",
   "metadata": {},
   "source": [
    "First let us classify the categories. Every unique probability corresponds to a specific bin"
   ]
  },
  {
   "cell_type": "code",
   "execution_count": 11,
   "metadata": {
    "ExecuteTime": {
     "end_time": "2020-04-27T08:11:50.343635Z",
     "start_time": "2020-04-27T08:11:50.323900Z"
    }
   },
   "outputs": [],
   "source": [
    "df1 = df.loc[:, ['Age', 'Survived']]"
   ]
  },
  {
   "cell_type": "code",
   "execution_count": 12,
   "metadata": {
    "ExecuteTime": {
     "end_time": "2020-04-27T08:11:50.738596Z",
     "start_time": "2020-04-27T08:11:50.719454Z"
    }
   },
   "outputs": [
    {
     "name": "stdout",
     "output_type": "stream",
     "text": [
      "Input contains NaN, infinity or a value too large for dtype('float32').\n"
     ]
    }
   ],
   "source": [
    "try:\n",
    "    df1['Age_tree'] = dt.predict_proba(df1.Age.values.reshape(-1, 1))[:, 0]\n",
    "except ValueError as e:\n",
    "    print(e)\n"
   ]
  },
  {
   "cell_type": "markdown",
   "metadata": {},
   "source": [
    "But as Decision Tree won't handle missing values, for now, we will impute the missing value with Mean"
   ]
  },
  {
   "cell_type": "code",
   "execution_count": 13,
   "metadata": {
    "ExecuteTime": {
     "end_time": "2020-04-27T08:12:03.363202Z",
     "start_time": "2020-04-27T08:12:03.349230Z"
    }
   },
   "outputs": [],
   "source": [
    "from sklearn.impute import SimpleImputer"
   ]
  },
  {
   "cell_type": "code",
   "execution_count": 14,
   "metadata": {
    "ExecuteTime": {
     "end_time": "2020-04-27T08:12:03.810585Z",
     "start_time": "2020-04-27T08:12:03.798660Z"
    }
   },
   "outputs": [],
   "source": [
    "imp = SimpleImputer()\n",
    "X = imp.fit_transform(df.Age.values.reshape(-1, 1))\n",
    "y = df.Survived"
   ]
  },
  {
   "cell_type": "code",
   "execution_count": 15,
   "metadata": {
    "ExecuteTime": {
     "end_time": "2020-04-27T08:12:04.489312Z",
     "start_time": "2020-04-27T08:12:04.460432Z"
    }
   },
   "outputs": [],
   "source": [
    "dt = DecisionTreeClassifier(max_depth=2).fit(X, y)"
   ]
  },
  {
   "cell_type": "code",
   "execution_count": 16,
   "metadata": {
    "ExecuteTime": {
     "end_time": "2020-04-27T08:14:17.574928Z",
     "start_time": "2020-04-27T08:14:17.549061Z"
    }
   },
   "outputs": [
    {
     "data": {
      "text/html": [
       "<div>\n",
       "<style scoped>\n",
       "    .dataframe tbody tr th:only-of-type {\n",
       "        vertical-align: middle;\n",
       "    }\n",
       "\n",
       "    .dataframe tbody tr th {\n",
       "        vertical-align: top;\n",
       "    }\n",
       "\n",
       "    .dataframe thead th {\n",
       "        text-align: right;\n",
       "    }\n",
       "</style>\n",
       "<table border=\"1\" class=\"dataframe\">\n",
       "  <thead>\n",
       "    <tr style=\"text-align: right;\">\n",
       "      <th></th>\n",
       "      <th>Age</th>\n",
       "      <th>Survived</th>\n",
       "      <th>Age_tree</th>\n",
       "    </tr>\n",
       "  </thead>\n",
       "  <tbody>\n",
       "    <tr>\n",
       "      <td>0</td>\n",
       "      <td>22.0</td>\n",
       "      <td>0</td>\n",
       "      <td>0.629362</td>\n",
       "    </tr>\n",
       "    <tr>\n",
       "      <td>1</td>\n",
       "      <td>38.0</td>\n",
       "      <td>1</td>\n",
       "      <td>0.629362</td>\n",
       "    </tr>\n",
       "    <tr>\n",
       "      <td>2</td>\n",
       "      <td>26.0</td>\n",
       "      <td>1</td>\n",
       "      <td>0.629362</td>\n",
       "    </tr>\n",
       "    <tr>\n",
       "      <td>3</td>\n",
       "      <td>35.0</td>\n",
       "      <td>1</td>\n",
       "      <td>0.629362</td>\n",
       "    </tr>\n",
       "    <tr>\n",
       "      <td>4</td>\n",
       "      <td>35.0</td>\n",
       "      <td>0</td>\n",
       "      <td>0.629362</td>\n",
       "    </tr>\n",
       "  </tbody>\n",
       "</table>\n",
       "</div>"
      ],
      "text/plain": [
       "    Age  Survived  Age_tree\n",
       "0  22.0         0  0.629362\n",
       "1  38.0         1  0.629362\n",
       "2  26.0         1  0.629362\n",
       "3  35.0         1  0.629362\n",
       "4  35.0         0  0.629362"
      ]
     },
     "execution_count": 16,
     "metadata": {},
     "output_type": "execute_result"
    }
   ],
   "source": [
    "df1 = pd.DataFrame({'Age': X.ravel(), 'Survived': y})\n",
    "df1['Age_tree'] = dt.predict_proba(X)[:, 0]\n",
    "df1.head()"
   ]
  },
  {
   "cell_type": "code",
   "execution_count": 17,
   "metadata": {
    "ExecuteTime": {
     "end_time": "2020-04-27T08:14:18.195908Z",
     "start_time": "2020-04-27T08:14:18.144709Z"
    }
   },
   "outputs": [
    {
     "data": {
      "text/html": [
       "<div>\n",
       "<style scoped>\n",
       "    .dataframe tbody tr th:only-of-type {\n",
       "        vertical-align: middle;\n",
       "    }\n",
       "\n",
       "    .dataframe tbody tr th {\n",
       "        vertical-align: top;\n",
       "    }\n",
       "\n",
       "    .dataframe thead th {\n",
       "        text-align: right;\n",
       "    }\n",
       "</style>\n",
       "<table border=\"1\" class=\"dataframe\">\n",
       "  <thead>\n",
       "    <tr style=\"text-align: right;\">\n",
       "      <th></th>\n",
       "      <th>min</th>\n",
       "      <th>max</th>\n",
       "    </tr>\n",
       "    <tr>\n",
       "      <th>Age_tree</th>\n",
       "      <th></th>\n",
       "      <th></th>\n",
       "    </tr>\n",
       "  </thead>\n",
       "  <tbody>\n",
       "    <tr>\n",
       "      <td>0.000000</td>\n",
       "      <td>0.42</td>\n",
       "      <td>0.92</td>\n",
       "    </tr>\n",
       "    <tr>\n",
       "      <td>0.350000</td>\n",
       "      <td>1.00</td>\n",
       "      <td>6.00</td>\n",
       "    </tr>\n",
       "    <tr>\n",
       "      <td>0.629362</td>\n",
       "      <td>7.00</td>\n",
       "      <td>63.00</td>\n",
       "    </tr>\n",
       "    <tr>\n",
       "      <td>0.923077</td>\n",
       "      <td>64.00</td>\n",
       "      <td>80.00</td>\n",
       "    </tr>\n",
       "  </tbody>\n",
       "</table>\n",
       "</div>"
      ],
      "text/plain": [
       "            min    max\n",
       "Age_tree              \n",
       "0.000000   0.42   0.92\n",
       "0.350000   1.00   6.00\n",
       "0.629362   7.00  63.00\n",
       "0.923077  64.00  80.00"
      ]
     },
     "execution_count": 17,
     "metadata": {},
     "output_type": "execute_result"
    }
   ],
   "source": [
    "res = df1.groupby('Age_tree').Age.aggregate([min, max], axis=0)\n",
    "res"
   ]
  },
  {
   "cell_type": "code",
   "execution_count": 18,
   "metadata": {
    "ExecuteTime": {
     "end_time": "2020-04-27T08:18:43.681889Z",
     "start_time": "2020-04-27T08:18:43.659770Z"
    }
   },
   "outputs": [
    {
     "data": {
      "text/plain": [
       "{0.0: 0, 0.35: 1, 0.6293622141997594: 2, 0.9230769230769231: 3}"
      ]
     },
     "execution_count": 18,
     "metadata": {},
     "output_type": "execute_result"
    }
   ],
   "source": [
    "cat_codes = dict(zip(res.index, np.argsort(res['min']).values))\n",
    "cat_codes"
   ]
  },
  {
   "cell_type": "code",
   "execution_count": 19,
   "metadata": {
    "ExecuteTime": {
     "end_time": "2020-04-27T08:20:04.956563Z",
     "start_time": "2020-04-27T08:20:04.929443Z"
    }
   },
   "outputs": [
    {
     "data": {
      "text/html": [
       "<div>\n",
       "<style scoped>\n",
       "    .dataframe tbody tr th:only-of-type {\n",
       "        vertical-align: middle;\n",
       "    }\n",
       "\n",
       "    .dataframe tbody tr th {\n",
       "        vertical-align: top;\n",
       "    }\n",
       "\n",
       "    .dataframe thead th {\n",
       "        text-align: right;\n",
       "    }\n",
       "</style>\n",
       "<table border=\"1\" class=\"dataframe\">\n",
       "  <thead>\n",
       "    <tr style=\"text-align: right;\">\n",
       "      <th></th>\n",
       "      <th>Age</th>\n",
       "      <th>Survived</th>\n",
       "      <th>Age_tree</th>\n",
       "      <th>Age_code</th>\n",
       "    </tr>\n",
       "  </thead>\n",
       "  <tbody>\n",
       "    <tr>\n",
       "      <td>0</td>\n",
       "      <td>22.0</td>\n",
       "      <td>0</td>\n",
       "      <td>0.629362</td>\n",
       "      <td>2</td>\n",
       "    </tr>\n",
       "    <tr>\n",
       "      <td>1</td>\n",
       "      <td>38.0</td>\n",
       "      <td>1</td>\n",
       "      <td>0.629362</td>\n",
       "      <td>2</td>\n",
       "    </tr>\n",
       "    <tr>\n",
       "      <td>2</td>\n",
       "      <td>26.0</td>\n",
       "      <td>1</td>\n",
       "      <td>0.629362</td>\n",
       "      <td>2</td>\n",
       "    </tr>\n",
       "    <tr>\n",
       "      <td>3</td>\n",
       "      <td>35.0</td>\n",
       "      <td>1</td>\n",
       "      <td>0.629362</td>\n",
       "      <td>2</td>\n",
       "    </tr>\n",
       "    <tr>\n",
       "      <td>4</td>\n",
       "      <td>35.0</td>\n",
       "      <td>0</td>\n",
       "      <td>0.629362</td>\n",
       "      <td>2</td>\n",
       "    </tr>\n",
       "  </tbody>\n",
       "</table>\n",
       "</div>"
      ],
      "text/plain": [
       "    Age  Survived  Age_tree  Age_code\n",
       "0  22.0         0  0.629362         2\n",
       "1  38.0         1  0.629362         2\n",
       "2  26.0         1  0.629362         2\n",
       "3  35.0         1  0.629362         2\n",
       "4  35.0         0  0.629362         2"
      ]
     },
     "execution_count": 19,
     "metadata": {},
     "output_type": "execute_result"
    }
   ],
   "source": [
    "df1['Age_code'] = df1.Age_tree.map(cat_codes)\n",
    "df1.head()"
   ]
  },
  {
   "cell_type": "code",
   "execution_count": 20,
   "metadata": {
    "ExecuteTime": {
     "end_time": "2020-04-27T09:34:57.996996Z",
     "start_time": "2020-04-27T09:34:57.979578Z"
    }
   },
   "outputs": [],
   "source": [
    "from sklearn.preprocessing import OneHotEncoder\n",
    "from sklearn.pipeline import Pipeline\n",
    "from sklearn.compose import ColumnTransformer\n",
    "from sklearn.impute import SimpleImputer"
   ]
  },
  {
   "cell_type": "code",
   "execution_count": 21,
   "metadata": {
    "ExecuteTime": {
     "end_time": "2020-04-27T08:23:10.932048Z",
     "start_time": "2020-04-27T08:23:10.856248Z"
    }
   },
   "outputs": [
    {
     "data": {
      "text/html": [
       "<div>\n",
       "<style scoped>\n",
       "    .dataframe tbody tr th:only-of-type {\n",
       "        vertical-align: middle;\n",
       "    }\n",
       "\n",
       "    .dataframe tbody tr th {\n",
       "        vertical-align: top;\n",
       "    }\n",
       "\n",
       "    .dataframe thead th {\n",
       "        text-align: right;\n",
       "    }\n",
       "</style>\n",
       "<table border=\"1\" class=\"dataframe\">\n",
       "  <thead>\n",
       "    <tr style=\"text-align: right;\">\n",
       "      <th>Age_code</th>\n",
       "      <th>0</th>\n",
       "      <th>1</th>\n",
       "      <th>2</th>\n",
       "      <th>3</th>\n",
       "      <th>All</th>\n",
       "    </tr>\n",
       "    <tr>\n",
       "      <th>Survived</th>\n",
       "      <th></th>\n",
       "      <th></th>\n",
       "      <th></th>\n",
       "      <th></th>\n",
       "      <th></th>\n",
       "    </tr>\n",
       "  </thead>\n",
       "  <tbody>\n",
       "    <tr>\n",
       "      <td>0</td>\n",
       "      <td>0.000000</td>\n",
       "      <td>0.015713</td>\n",
       "      <td>0.586981</td>\n",
       "      <td>0.013468</td>\n",
       "      <td>0.616162</td>\n",
       "    </tr>\n",
       "    <tr>\n",
       "      <td>1</td>\n",
       "      <td>0.007856</td>\n",
       "      <td>0.029181</td>\n",
       "      <td>0.345679</td>\n",
       "      <td>0.001122</td>\n",
       "      <td>0.383838</td>\n",
       "    </tr>\n",
       "    <tr>\n",
       "      <td>All</td>\n",
       "      <td>0.007856</td>\n",
       "      <td>0.044893</td>\n",
       "      <td>0.932660</td>\n",
       "      <td>0.014590</td>\n",
       "      <td>1.000000</td>\n",
       "    </tr>\n",
       "  </tbody>\n",
       "</table>\n",
       "</div>"
      ],
      "text/plain": [
       "Age_code         0         1         2         3       All\n",
       "Survived                                                  \n",
       "0         0.000000  0.015713  0.586981  0.013468  0.616162\n",
       "1         0.007856  0.029181  0.345679  0.001122  0.383838\n",
       "All       0.007856  0.044893  0.932660  0.014590  1.000000"
      ]
     },
     "execution_count": 21,
     "metadata": {},
     "output_type": "execute_result"
    }
   ],
   "source": [
    "pd.crosstab(df1.Survived, df1.Age_code, margins=True, normalize=True)"
   ]
  },
  {
   "cell_type": "code",
   "execution_count": 54,
   "metadata": {
    "ExecuteTime": {
     "end_time": "2020-04-27T09:32:28.746512Z",
     "start_time": "2020-04-27T09:32:28.720671Z"
    }
   },
   "outputs": [],
   "source": [
    "?DecisionTreeClassifier"
   ]
  },
  {
   "cell_type": "markdown",
   "metadata": {},
   "source": [
    "We can write a transformer which uses Decision Tree to Discretize column(s)"
   ]
  },
  {
   "cell_type": "code",
   "execution_count": 87,
   "metadata": {},
   "outputs": [],
   "source": [
    "from sklearn.preprocessing import OrdinalEncoder"
   ]
  },
  {
   "cell_type": "code",
   "execution_count": 116,
   "metadata": {
    "ExecuteTime": {
     "end_time": "2020-04-27T09:44:08.560241Z",
     "start_time": "2020-04-27T09:44:08.542771Z"
    }
   },
   "outputs": [],
   "source": [
    "# NOTE: I have impl\n",
    "class DecisionTreeDiscretizer(DecisionTreeClassifier):\n",
    "    \n",
    "    def __init__(self, criterion='gini',\n",
    "                        splitter='best',\n",
    "                        max_depth=None,\n",
    "                        min_samples_split=2,\n",
    "                        min_samples_leaf=1,\n",
    "                        min_weight_fraction_leaf=0.0,\n",
    "                        max_features=None,\n",
    "                        random_state=None,\n",
    "                        max_leaf_nodes=None,\n",
    "                        min_impurity_decrease=0.0,\n",
    "                        min_impurity_split=None,\n",
    "                        class_weight=None,\n",
    "                        presort='deprecated',\n",
    "                        ccp_alpha=0.0):\n",
    "        \n",
    "        self.criterion = criterion\n",
    "        self.splitter = splitter\n",
    "        self.max_depth = max_depth\n",
    "        self.min_samples_split = min_samples_split\n",
    "        self.min_samples_leaf = min_samples_leaf\n",
    "        self.min_weight_fraction_leaf = min_weight_fraction_leaf\n",
    "        self.max_features = max_features\n",
    "        self.random_state = random_state\n",
    "        self.max_leaf_nodes = max_leaf_nodes\n",
    "        self.min_impurity_decrease = min_impurity_decrease\n",
    "        self.min_impurity_split = min_impurity_split\n",
    "        self.class_weight = class_weight\n",
    "        self.presort = presort\n",
    "        self.ccp_alpha = ccp_alpha\n",
    "\n",
    "        \n",
    "    def transform(self, X, y=None):\n",
    "        prob = self.predict_proba(X)\n",
    "        return OneHotEncoder(drop='first', sparse=False).fit_transform(prob)\n",
    "    \n",
    "    def fit_transform(self, X, y):\n",
    "        return self.fit(X, y).transform(X)\n"
   ]
  },
  {
   "cell_type": "code",
   "execution_count": 117,
   "metadata": {
    "ExecuteTime": {
     "end_time": "2020-04-27T14:02:13.289777Z",
     "start_time": "2020-04-27T14:02:13.284089Z"
    }
   },
   "outputs": [],
   "source": [
    "from sklearn.pipeline import make_pipeline\n",
    "from sklearn.compose import make_column_transformer"
   ]
  },
  {
   "cell_type": "markdown",
   "metadata": {},
   "source": [
    "Certain things to note:\n",
    "\n",
    "1. For sequential operations on columns I have to use Pipelines\n",
    "2. ColumnTransformer applies it's operations in parallel so if two steps are dependent it will be erroneous\n",
    "3. column transformers expects numpy array and outputs numpy array, hence no label identifiers\n",
    "4. If I use sequential operations I have to recode the logic of the transformers so as to enable passing of\n",
    "   key label identifiers\n",
    "   \n",
    "Here is what I think for a specific pipeline I should do:\n",
    "1. Divide the pipeline into three steps: Preprocessing_pre, Preprocessing, Model fitting\n",
    "2. Combine the Preprocessing, Model fitting into a single Pipeline\n",
    "3. Divide the Preprocessing_pre into parallel and sequential steps\n",
    "4. Better to do the sequential steps using pandas if a recoding of logic is required, and package it into a general function to create multiple sub-pipelines\n",
    "5. Dedicate a separate notebook for each?"
   ]
  },
  {
   "cell_type": "code",
   "execution_count": 118,
   "metadata": {
    "ExecuteTime": {
     "end_time": "2020-04-27T18:17:41.082317Z",
     "start_time": "2020-04-27T18:17:41.070663Z"
    }
   },
   "outputs": [],
   "source": [
    "encoder_cat_pipeline = Pipeline([\n",
    "    ('imp', SimpleImputer()),\n",
    "    ('discretizer', DecisionTreeDiscretizer())\n",
    "])\n",
    "\n",
    "\n",
    "preprocess = ColumnTransformer([\n",
    "    ('imp_enc', encoder_cat_pipeline, ['Age']),\n",
    "    ('dropper', 'drop', ['Embarked'])\n",
    "], remainder='passthrough')\n"
   ]
  },
  {
   "cell_type": "code",
   "execution_count": 119,
   "metadata": {},
   "outputs": [],
   "source": [
    "dfX_notna, dfy_notna = NaNDropper(['Age']).fit(dfX, dfy).transform(dfX, dfy)"
   ]
  },
  {
   "cell_type": "code",
   "execution_count": 120,
   "metadata": {},
   "outputs": [
    {
     "data": {
      "text/plain": [
       "array([[0., 0., 0., ..., 0., 0., 0.],\n",
       "       [0., 0., 0., ..., 0., 0., 0.],\n",
       "       [0., 0., 0., ..., 0., 0., 0.],\n",
       "       ...,\n",
       "       [0., 0., 0., ..., 0., 0., 0.],\n",
       "       [0., 0., 0., ..., 0., 0., 0.],\n",
       "       [0., 0., 0., ..., 0., 0., 0.]])"
      ]
     },
     "execution_count": 120,
     "metadata": {},
     "output_type": "execute_result"
    }
   ],
   "source": [
    "DecisionTreeDiscretizer().fit_transform(dfX_notna.Age.values.reshape(-1, 1), dfy_notna)"
   ]
  },
  {
   "cell_type": "code",
   "execution_count": 121,
   "metadata": {
    "ExecuteTime": {
     "end_time": "2020-04-27T18:17:42.719069Z",
     "start_time": "2020-04-27T18:17:42.675194Z"
    }
   },
   "outputs": [
    {
     "data": {
      "text/plain": [
       "array([[0.0, 0.0, 0.0, ..., 'A/5 21171', 7.25, nan],\n",
       "       [0.0, 0.0, 0.0, ..., 'PC 17599', 71.2833, 'C85'],\n",
       "       [0.0, 0.0, 0.0, ..., 'STON/O2. 3101282', 7.925, nan],\n",
       "       ...,\n",
       "       [0.0, 0.0, 0.0, ..., 'W./C. 6607', 23.45, nan],\n",
       "       [0.0, 0.0, 0.0, ..., '111369', 30.0, 'C148'],\n",
       "       [0.0, 0.0, 0.0, ..., '370376', 7.75, nan]], dtype=object)"
      ]
     },
     "execution_count": 121,
     "metadata": {},
     "output_type": "execute_result"
    }
   ],
   "source": [
    "preprocess.fit_transform(dfX, dfy)"
   ]
  },
  {
   "cell_type": "code",
   "execution_count": 124,
   "metadata": {},
   "outputs": [
    {
     "name": "stdout",
     "output_type": "stream",
     "text": [
      "['n_jobs',\n",
      " 'remainder',\n",
      " 'sparse_threshold',\n",
      " 'transformer_weights',\n",
      " 'transformers',\n",
      " 'verbose',\n",
      " 'imp_enc',\n",
      " 'dropper',\n",
      " 'imp_enc__memory',\n",
      " 'imp_enc__steps',\n",
      " 'imp_enc__verbose',\n",
      " 'imp_enc__imp',\n",
      " 'imp_enc__discretizer',\n",
      " 'imp_enc__imp__add_indicator',\n",
      " 'imp_enc__imp__copy',\n",
      " 'imp_enc__imp__fill_value',\n",
      " 'imp_enc__imp__missing_values',\n",
      " 'imp_enc__imp__strategy',\n",
      " 'imp_enc__imp__verbose',\n",
      " 'imp_enc__discretizer__ccp_alpha',\n",
      " 'imp_enc__discretizer__class_weight',\n",
      " 'imp_enc__discretizer__criterion',\n",
      " 'imp_enc__discretizer__max_depth',\n",
      " 'imp_enc__discretizer__max_features',\n",
      " 'imp_enc__discretizer__max_leaf_nodes',\n",
      " 'imp_enc__discretizer__min_impurity_decrease',\n",
      " 'imp_enc__discretizer__min_impurity_split',\n",
      " 'imp_enc__discretizer__min_samples_leaf',\n",
      " 'imp_enc__discretizer__min_samples_split',\n",
      " 'imp_enc__discretizer__min_weight_fraction_leaf',\n",
      " 'imp_enc__discretizer__presort',\n",
      " 'imp_enc__discretizer__random_state',\n",
      " 'imp_enc__discretizer__splitter']\n"
     ]
    }
   ],
   "source": [
    "from titansurv.utils import print_params\n",
    "print_params(preprocess)"
   ]
  },
  {
   "cell_type": "markdown",
   "metadata": {},
   "source": [
    "Let's see if we can tune the hyperparameters of the DecisionTreeDiscretizer just for Age vs Survived"
   ]
  },
  {
   "cell_type": "code",
   "execution_count": 123,
   "metadata": {},
   "outputs": [],
   "source": [
    "from sklearn.model_selection import GridSearchCV"
   ]
  },
  {
   "cell_type": "code",
   "execution_count": 126,
   "metadata": {},
   "outputs": [
    {
     "ename": "TypeError",
     "evalue": "If no scoring is specified, the estimator passed should have a 'score' method. The estimator ColumnTransformer(n_jobs=None, remainder='passthrough', sparse_threshold=0.3,\n                  transformer_weights=None,\n                  transformers=[('imp_enc',\n                                 Pipeline(memory=None,\n                                          steps=[('imp',\n                                                  SimpleImputer(add_indicator=False,\n                                                                copy=True,\n                                                                fill_value=None,\n                                                                missing_values=nan,\n                                                                strategy='mean',\n                                                                verbose=0)),\n                                                 ('discretizer',\n                                                  DecisionTreeDiscretizer(ccp_alpha=0.0,\n                                                                          class_weight=None,\n                                                                          criterion='gini',\n                                                                          max_depth=None,\n                                                                          max_features=None,\n                                                                          max_leaf_nodes=None,\n                                                                          min_impurity_decrease=0.0,\n                                                                          min_impurity_split=None,\n                                                                          min_samples_leaf=1,\n                                                                          min_samples_split=2,\n                                                                          min_weight_fraction_leaf=0.0,\n                                                                          presort='deprecated',\n                                                                          random_state=None,\n                                                                          splitter='best'))],\n                                          verbose=False),\n                                 ['Age']),\n                                ('dropper', 'drop', ['Embarked'])],\n                  verbose=False) does not.",
     "output_type": "error",
     "traceback": [
      "\u001b[0;31m---------------------------------------------------------------------------\u001b[0m",
      "\u001b[0;31mTypeError\u001b[0m                                 Traceback (most recent call last)",
      "\u001b[0;32m<ipython-input-126-179e58f102a3>\u001b[0m in \u001b[0;36m<module>\u001b[0;34m\u001b[0m\n\u001b[1;32m      2\u001b[0m \u001b[0mparam_grid\u001b[0m \u001b[0;34m=\u001b[0m \u001b[0;34m{\u001b[0m\u001b[0;34m'imp_enc__discretizer__max_features'\u001b[0m \u001b[0;34m:\u001b[0m \u001b[0mmax_features\u001b[0m\u001b[0;34m}\u001b[0m\u001b[0;34m\u001b[0m\u001b[0;34m\u001b[0m\u001b[0m\n\u001b[1;32m      3\u001b[0m \u001b[0mgrid\u001b[0m \u001b[0;34m=\u001b[0m \u001b[0mGridSearchCV\u001b[0m\u001b[0;34m(\u001b[0m\u001b[0mpreprocess\u001b[0m\u001b[0;34m,\u001b[0m \u001b[0mparam_grid\u001b[0m\u001b[0;34m)\u001b[0m\u001b[0;34m\u001b[0m\u001b[0;34m\u001b[0m\u001b[0m\n\u001b[0;32m----> 4\u001b[0;31m \u001b[0mgrid\u001b[0m\u001b[0;34m.\u001b[0m\u001b[0mfit\u001b[0m\u001b[0;34m(\u001b[0m\u001b[0mdfX\u001b[0m\u001b[0;34m,\u001b[0m \u001b[0mdfy\u001b[0m\u001b[0;34m)\u001b[0m\u001b[0;34m\u001b[0m\u001b[0;34m\u001b[0m\u001b[0m\n\u001b[0m",
      "\u001b[0;32m~/miniconda3/envs/ds/lib/python3.7/site-packages/sklearn/model_selection/_search.py\u001b[0m in \u001b[0;36mfit\u001b[0;34m(self, X, y, groups, **fit_params)\u001b[0m\n\u001b[1;32m    627\u001b[0m \u001b[0;34m\u001b[0m\u001b[0m\n\u001b[1;32m    628\u001b[0m         scorers, self.multimetric_ = _check_multimetric_scoring(\n\u001b[0;32m--> 629\u001b[0;31m             self.estimator, scoring=self.scoring)\n\u001b[0m\u001b[1;32m    630\u001b[0m \u001b[0;34m\u001b[0m\u001b[0m\n\u001b[1;32m    631\u001b[0m         \u001b[0;32mif\u001b[0m \u001b[0mself\u001b[0m\u001b[0;34m.\u001b[0m\u001b[0mmultimetric_\u001b[0m\u001b[0;34m:\u001b[0m\u001b[0;34m\u001b[0m\u001b[0;34m\u001b[0m\u001b[0m\n",
      "\u001b[0;32m~/miniconda3/envs/ds/lib/python3.7/site-packages/sklearn/metrics/_scorer.py\u001b[0m in \u001b[0;36m_check_multimetric_scoring\u001b[0;34m(estimator, scoring)\u001b[0m\n\u001b[1;32m    471\u001b[0m     if callable(scoring) or scoring is None or isinstance(scoring,\n\u001b[1;32m    472\u001b[0m                                                           str):\n\u001b[0;32m--> 473\u001b[0;31m         \u001b[0mscorers\u001b[0m \u001b[0;34m=\u001b[0m \u001b[0;34m{\u001b[0m\u001b[0;34m\"score\"\u001b[0m\u001b[0;34m:\u001b[0m \u001b[0mcheck_scoring\u001b[0m\u001b[0;34m(\u001b[0m\u001b[0mestimator\u001b[0m\u001b[0;34m,\u001b[0m \u001b[0mscoring\u001b[0m\u001b[0;34m=\u001b[0m\u001b[0mscoring\u001b[0m\u001b[0;34m)\u001b[0m\u001b[0;34m}\u001b[0m\u001b[0;34m\u001b[0m\u001b[0;34m\u001b[0m\u001b[0m\n\u001b[0m\u001b[1;32m    474\u001b[0m         \u001b[0;32mreturn\u001b[0m \u001b[0mscorers\u001b[0m\u001b[0;34m,\u001b[0m \u001b[0;32mFalse\u001b[0m\u001b[0;34m\u001b[0m\u001b[0;34m\u001b[0m\u001b[0m\n\u001b[1;32m    475\u001b[0m     \u001b[0;32melse\u001b[0m\u001b[0;34m:\u001b[0m\u001b[0;34m\u001b[0m\u001b[0;34m\u001b[0m\u001b[0m\n",
      "\u001b[0;32m~/miniconda3/envs/ds/lib/python3.7/site-packages/sklearn/metrics/_scorer.py\u001b[0m in \u001b[0;36mcheck_scoring\u001b[0;34m(estimator, scoring, allow_none)\u001b[0m\n\u001b[1;32m    424\u001b[0m                 \u001b[0;34m\"If no scoring is specified, the estimator passed should \"\u001b[0m\u001b[0;34m\u001b[0m\u001b[0;34m\u001b[0m\u001b[0m\n\u001b[1;32m    425\u001b[0m                 \u001b[0;34m\"have a 'score' method. The estimator %r does not.\"\u001b[0m\u001b[0;34m\u001b[0m\u001b[0;34m\u001b[0m\u001b[0m\n\u001b[0;32m--> 426\u001b[0;31m                 % estimator)\n\u001b[0m\u001b[1;32m    427\u001b[0m     \u001b[0;32melif\u001b[0m \u001b[0misinstance\u001b[0m\u001b[0;34m(\u001b[0m\u001b[0mscoring\u001b[0m\u001b[0;34m,\u001b[0m \u001b[0mIterable\u001b[0m\u001b[0;34m)\u001b[0m\u001b[0;34m:\u001b[0m\u001b[0;34m\u001b[0m\u001b[0;34m\u001b[0m\u001b[0m\n\u001b[1;32m    428\u001b[0m         raise ValueError(\"For evaluating multiple scores, use \"\n",
      "\u001b[0;31mTypeError\u001b[0m: If no scoring is specified, the estimator passed should have a 'score' method. The estimator ColumnTransformer(n_jobs=None, remainder='passthrough', sparse_threshold=0.3,\n                  transformer_weights=None,\n                  transformers=[('imp_enc',\n                                 Pipeline(memory=None,\n                                          steps=[('imp',\n                                                  SimpleImputer(add_indicator=False,\n                                                                copy=True,\n                                                                fill_value=None,\n                                                                missing_values=nan,\n                                                                strategy='mean',\n                                                                verbose=0)),\n                                                 ('discretizer',\n                                                  DecisionTreeDiscretizer(ccp_alpha=0.0,\n                                                                          class_weight=None,\n                                                                          criterion='gini',\n                                                                          max_depth=None,\n                                                                          max_features=None,\n                                                                          max_leaf_nodes=None,\n                                                                          min_impurity_decrease=0.0,\n                                                                          min_impurity_split=None,\n                                                                          min_samples_leaf=1,\n                                                                          min_samples_split=2,\n                                                                          min_weight_fraction_leaf=0.0,\n                                                                          presort='deprecated',\n                                                                          random_state=None,\n                                                                          splitter='best'))],\n                                          verbose=False),\n                                 ['Age']),\n                                ('dropper', 'drop', ['Embarked'])],\n                  verbose=False) does not."
     ]
    }
   ],
   "source": [
    "max_features = ['sqrt', 'log2']\n",
    "param_grid = {'imp_enc__discretizer__max_features' : max_features}\n",
    "grid = GridSearchCV(preprocess, param_grid)\n",
    "grid.fit(dfX, dfy)"
   ]
  },
  {
   "cell_type": "markdown",
   "metadata": {},
   "source": [
    "This won't work as our last step in the pipeline should have a predict method and a scoring method. So we need to make DecisionTreeDiscretizer our last step"
   ]
  },
  {
   "cell_type": "code",
   "execution_count": 138,
   "metadata": {},
   "outputs": [],
   "source": [
    "class ColumnSelector(BaseEstimator, ClassifierMixin):\n",
    "    \n",
    "    def __init__(self):\n",
    "        pass\n",
    "    \n",
    "    def fit(self, X, y=None):\n",
    "        return self\n",
    "    \n",
    "    def transform(self, X):\n",
    "        return X\n"
   ]
  },
  {
   "cell_type": "code",
   "execution_count": 146,
   "metadata": {},
   "outputs": [],
   "source": [
    "preprocess = ColumnTransformer([\n",
    "    ('imp', SimpleImputer(), ['Age']),\n",
    "], remainder='drop')\n",
    "\n",
    "pipe = Pipeline([\n",
    "    ('preprocess', preprocess),\n",
    "    ('discretizer', DecisionTreeDiscretizer())\n",
    "])"
   ]
  },
  {
   "cell_type": "code",
   "execution_count": 149,
   "metadata": {},
   "outputs": [
    {
     "name": "stdout",
     "output_type": "stream",
     "text": [
      "['memory',\n",
      " 'steps',\n",
      " 'verbose',\n",
      " 'preprocess',\n",
      " 'discretizer',\n",
      " 'preprocess__n_jobs',\n",
      " 'preprocess__remainder',\n",
      " 'preprocess__sparse_threshold',\n",
      " 'preprocess__transformer_weights',\n",
      " 'preprocess__transformers',\n",
      " 'preprocess__verbose',\n",
      " 'preprocess__imp',\n",
      " 'preprocess__imp__add_indicator',\n",
      " 'preprocess__imp__copy',\n",
      " 'preprocess__imp__fill_value',\n",
      " 'preprocess__imp__missing_values',\n",
      " 'preprocess__imp__strategy',\n",
      " 'preprocess__imp__verbose',\n",
      " 'discretizer__ccp_alpha',\n",
      " 'discretizer__class_weight',\n",
      " 'discretizer__criterion',\n",
      " 'discretizer__max_depth',\n",
      " 'discretizer__max_features',\n",
      " 'discretizer__max_leaf_nodes',\n",
      " 'discretizer__min_impurity_decrease',\n",
      " 'discretizer__min_impurity_split',\n",
      " 'discretizer__min_samples_leaf',\n",
      " 'discretizer__min_samples_split',\n",
      " 'discretizer__min_weight_fraction_leaf',\n",
      " 'discretizer__presort',\n",
      " 'discretizer__random_state',\n",
      " 'discretizer__splitter']\n"
     ]
    }
   ],
   "source": [
    "print_params(pipe)"
   ]
  },
  {
   "cell_type": "code",
   "execution_count": 165,
   "metadata": {},
   "outputs": [],
   "source": [
    "min_samples_split = [2, 5, 10, 20]\n",
    "max_depth = [None, 5, 10, 25, 50, 100]\n",
    "min_samples_leaf = [1, 2, 5, 10]\n",
    "\n",
    "param_grid = {\n",
    "    'discretizer': [DecisionTreeDiscretizer()],\n",
    "    'discretizer__min_samples_split': min_samples_split,\n",
    "    'discretizer__max_depth': max_depth,\n",
    "    'discretizer__min_samples_leaf': min_samples_leaf,\n",
    "}"
   ]
  },
  {
   "cell_type": "code",
   "execution_count": 166,
   "metadata": {},
   "outputs": [
    {
     "name": "stdout",
     "output_type": "stream",
     "text": [
      "CPU times: user 4.58 s, sys: 0 ns, total: 4.58 s\n",
      "Wall time: 4.61 s\n"
     ]
    },
    {
     "data": {
      "text/plain": [
       "GridSearchCV(cv=None, error_score=nan,\n",
       "             estimator=Pipeline(memory=None,\n",
       "                                steps=[('preprocess',\n",
       "                                        ColumnTransformer(n_jobs=None,\n",
       "                                                          remainder='drop',\n",
       "                                                          sparse_threshold=0.3,\n",
       "                                                          transformer_weights=None,\n",
       "                                                          transformers=[('imp',\n",
       "                                                                         SimpleImputer(add_indicator=False,\n",
       "                                                                                       copy=True,\n",
       "                                                                                       fill_value=None,\n",
       "                                                                                       missing_values=nan,\n",
       "                                                                                       strategy='mean',\n",
       "                                                                                       verbose=0),\n",
       "                                                                         ['Age'])],\n",
       "                                                          verbose=False)),\n",
       "                                       ('discretizer',...\n",
       "                                                                 min_impurity_split=None,\n",
       "                                                                 min_samples_leaf=5,\n",
       "                                                                 min_samples_split=2,\n",
       "                                                                 min_weight_fraction_leaf=0.0,\n",
       "                                                                 presort='deprecated',\n",
       "                                                                 random_state=None,\n",
       "                                                                 splitter='best')],\n",
       "                         'discretizer__max_depth': [None, 5, 10, 25, 50, 100],\n",
       "                         'discretizer__min_samples_leaf': [1, 2, 5, 10],\n",
       "                         'discretizer__min_samples_split': [2, 5, 10, 20]},\n",
       "             pre_dispatch='2*n_jobs', refit=True, return_train_score=False,\n",
       "             scoring=None, verbose=0)"
      ]
     },
     "execution_count": 166,
     "metadata": {},
     "output_type": "execute_result"
    }
   ],
   "source": [
    "%%time\n",
    "grid = GridSearchCV(pipe, param_grid)\n",
    "grid.fit(dfX, dfy)"
   ]
  },
  {
   "cell_type": "code",
   "execution_count": 160,
   "metadata": {},
   "outputs": [
    {
     "name": "stdout",
     "output_type": "stream",
     "text": [
      "{'discretizer': DecisionTreeDiscretizer(ccp_alpha=0.0, class_weight=None, criterion='gini',\n",
      "                        max_depth=5, max_features='sqrt', max_leaf_nodes=None,\n",
      "                        min_impurity_decrease=0.0, min_impurity_split=None,\n",
      "                        min_samples_leaf=5, min_samples_split=2,\n",
      "                        min_weight_fraction_leaf=0.0, presort='deprecated',\n",
      "                        random_state=None, splitter='best'), 'discretizer__max_depth': 5, 'discretizer__max_features': 'sqrt', 'discretizer__min_samples_leaf': 5, 'discretizer__min_samples_split': 2}\n",
      "0.6307576423325593\n"
     ]
    }
   ],
   "source": [
    "print(grid.best_params_)\n",
    "print(grid.best_score_)"
   ]
  },
  {
   "cell_type": "code",
   "execution_count": 1,
   "metadata": {},
   "outputs": [],
   "source": [
    "from sklearn.preprocessing import LabelEncoder"
   ]
  },
  {
   "cell_type": "code",
   "execution_count": 8,
   "metadata": {},
   "outputs": [
    {
     "data": {
      "text/plain": [
       "array([0, 1])"
      ]
     },
     "execution_count": 8,
     "metadata": {},
     "output_type": "execute_result"
    }
   ],
   "source": [
    "LabelEncoder().fit([1, 2, 1]).transform([[1], [2]])"
   ]
  }
 ],
 "metadata": {
  "kernelspec": {
   "display_name": "Python [conda env:titansurv] *",
   "language": "python",
   "name": "conda-env-titansurv-py"
  },
  "language_info": {
   "codemirror_mode": {
    "name": "ipython",
    "version": 3
   },
   "file_extension": ".py",
   "mimetype": "text/x-python",
   "name": "python",
   "nbconvert_exporter": "python",
   "pygments_lexer": "ipython3",
   "version": "3.8.2"
  },
  "toc": {
   "base_numbering": 1,
   "nav_menu": {},
   "number_sections": true,
   "sideBar": true,
   "skip_h1_title": false,
   "title_cell": "Table of Contents",
   "title_sidebar": "Contents",
   "toc_cell": false,
   "toc_position": {},
   "toc_section_display": true,
   "toc_window_display": false
  }
 },
 "nbformat": 4,
 "nbformat_minor": 2
}
