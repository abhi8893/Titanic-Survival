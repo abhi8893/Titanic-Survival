{
 "cells": [
  {
   "cell_type": "markdown",
   "metadata": {},
   "source": [
    "# Exploratory Data Analyses: Titanic Survival Dataset\n"
   ]
  },
  {
   "cell_type": "markdown",
   "metadata": {},
   "source": [
    "**GOAL**: The goal of this challenge is to predict the passengers who survived the Titanic shipwreck. <br/>\n",
    "\n",
    "So our goal is to build a predictive model using the various characteristics of a passenger i.e. age, gender, socio-economic status, ticket details etc\n",
    "\n",
    "[Kaggle Challenge webpage](https://www.kaggle.com/c/titanic/overview)"
   ]
  },
  {
   "cell_type": "markdown",
   "metadata": {},
   "source": [
    "## Data Description:\n",
    "![](references/Titanic_descr.png)\n",
    "\n",
    "\n",
    "**Variable Notes** <br/>\n",
    "**pclass**: A proxy for socio-economic status (SES)\n",
    "- 1st = Upper\n",
    "- 2nd = Middle\n",
    "- 3rd = Lower\n",
    "\n",
    "**age**: Age is fractional if less than 1. If the age is estimated, is it in the form of xx.5\n",
    "\n",
    "**sibsp**: The dataset defines family relations in this way...\n",
    "\n",
    "**Sibling** = brother, sister, stepbrother, stepsister\n",
    "\n",
    "**Spouse** = husband, wife (mistresses and fiancés were ignored)\n",
    "\n",
    "**parch**: The dataset defines family relations in this way...\n",
    "\n",
    "**Parent** = mother, father\n",
    "\n",
    "**Child** = daughter, son, stepdaughter, stepson <br/>\n",
    "Some children travelled only with a nanny, therefore parch=0 for them."
   ]
  },
  {
   "cell_type": "markdown",
   "metadata": {},
   "source": [
    "## Import the required libraries"
   ]
  },
  {
   "cell_type": "code",
   "execution_count": 1,
   "metadata": {
    "ExecuteTime": {
     "end_time": "2020-04-25T07:11:15.153049Z",
     "start_time": "2020-04-25T07:11:14.513673Z"
    }
   },
   "outputs": [],
   "source": [
    "# Data analysis\n",
    "import pandas as pd\n",
    "import numpy as np\n",
    "\n",
    "# Data visualization\n",
    "import matplotlib.pyplot as plt\n",
    "import seaborn as sns\n",
    "import missingno # missing data"
   ]
  },
  {
   "cell_type": "markdown",
   "metadata": {
    "ExecuteTime": {
     "end_time": "2020-04-24T08:33:17.469860Z",
     "start_time": "2020-04-24T08:33:17.353453Z"
    }
   },
   "source": [
    "## Load in the dataset"
   ]
  },
  {
   "cell_type": "code",
   "execution_count": 2,
   "metadata": {
    "ExecuteTime": {
     "end_time": "2020-04-25T10:16:27.961847Z",
     "start_time": "2020-04-25T10:16:27.931870Z"
    }
   },
   "outputs": [
    {
     "data": {
      "text/html": [
       "<div>\n",
       "<style scoped>\n",
       "    .dataframe tbody tr th:only-of-type {\n",
       "        vertical-align: middle;\n",
       "    }\n",
       "\n",
       "    .dataframe tbody tr th {\n",
       "        vertical-align: top;\n",
       "    }\n",
       "\n",
       "    .dataframe thead th {\n",
       "        text-align: right;\n",
       "    }\n",
       "</style>\n",
       "<table border=\"1\" class=\"dataframe\">\n",
       "  <thead>\n",
       "    <tr style=\"text-align: right;\">\n",
       "      <th></th>\n",
       "      <th>PassengerId</th>\n",
       "      <th>Survived</th>\n",
       "      <th>Pclass</th>\n",
       "      <th>Name</th>\n",
       "      <th>Sex</th>\n",
       "      <th>Age</th>\n",
       "      <th>SibSp</th>\n",
       "      <th>Parch</th>\n",
       "      <th>Ticket</th>\n",
       "      <th>Fare</th>\n",
       "      <th>Cabin</th>\n",
       "      <th>Embarked</th>\n",
       "    </tr>\n",
       "  </thead>\n",
       "  <tbody>\n",
       "    <tr>\n",
       "      <td>0</td>\n",
       "      <td>1</td>\n",
       "      <td>0</td>\n",
       "      <td>3</td>\n",
       "      <td>Braund, Mr. Owen Harris</td>\n",
       "      <td>male</td>\n",
       "      <td>22.0</td>\n",
       "      <td>1</td>\n",
       "      <td>0</td>\n",
       "      <td>A/5 21171</td>\n",
       "      <td>7.2500</td>\n",
       "      <td>NaN</td>\n",
       "      <td>S</td>\n",
       "    </tr>\n",
       "    <tr>\n",
       "      <td>1</td>\n",
       "      <td>2</td>\n",
       "      <td>1</td>\n",
       "      <td>1</td>\n",
       "      <td>Cumings, Mrs. John Bradley (Florence Briggs Th...</td>\n",
       "      <td>female</td>\n",
       "      <td>38.0</td>\n",
       "      <td>1</td>\n",
       "      <td>0</td>\n",
       "      <td>PC 17599</td>\n",
       "      <td>71.2833</td>\n",
       "      <td>C85</td>\n",
       "      <td>C</td>\n",
       "    </tr>\n",
       "    <tr>\n",
       "      <td>2</td>\n",
       "      <td>3</td>\n",
       "      <td>1</td>\n",
       "      <td>3</td>\n",
       "      <td>Heikkinen, Miss. Laina</td>\n",
       "      <td>female</td>\n",
       "      <td>26.0</td>\n",
       "      <td>0</td>\n",
       "      <td>0</td>\n",
       "      <td>STON/O2. 3101282</td>\n",
       "      <td>7.9250</td>\n",
       "      <td>NaN</td>\n",
       "      <td>S</td>\n",
       "    </tr>\n",
       "    <tr>\n",
       "      <td>3</td>\n",
       "      <td>4</td>\n",
       "      <td>1</td>\n",
       "      <td>1</td>\n",
       "      <td>Futrelle, Mrs. Jacques Heath (Lily May Peel)</td>\n",
       "      <td>female</td>\n",
       "      <td>35.0</td>\n",
       "      <td>1</td>\n",
       "      <td>0</td>\n",
       "      <td>113803</td>\n",
       "      <td>53.1000</td>\n",
       "      <td>C123</td>\n",
       "      <td>S</td>\n",
       "    </tr>\n",
       "    <tr>\n",
       "      <td>4</td>\n",
       "      <td>5</td>\n",
       "      <td>0</td>\n",
       "      <td>3</td>\n",
       "      <td>Allen, Mr. William Henry</td>\n",
       "      <td>male</td>\n",
       "      <td>35.0</td>\n",
       "      <td>0</td>\n",
       "      <td>0</td>\n",
       "      <td>373450</td>\n",
       "      <td>8.0500</td>\n",
       "      <td>NaN</td>\n",
       "      <td>S</td>\n",
       "    </tr>\n",
       "  </tbody>\n",
       "</table>\n",
       "</div>"
      ],
      "text/plain": [
       "   PassengerId  Survived  Pclass  \\\n",
       "0            1         0       3   \n",
       "1            2         1       1   \n",
       "2            3         1       3   \n",
       "3            4         1       1   \n",
       "4            5         0       3   \n",
       "\n",
       "                                                Name     Sex   Age  SibSp  \\\n",
       "0                            Braund, Mr. Owen Harris    male  22.0      1   \n",
       "1  Cumings, Mrs. John Bradley (Florence Briggs Th...  female  38.0      1   \n",
       "2                             Heikkinen, Miss. Laina  female  26.0      0   \n",
       "3       Futrelle, Mrs. Jacques Heath (Lily May Peel)  female  35.0      1   \n",
       "4                           Allen, Mr. William Henry    male  35.0      0   \n",
       "\n",
       "   Parch            Ticket     Fare Cabin Embarked  \n",
       "0      0         A/5 21171   7.2500   NaN        S  \n",
       "1      0          PC 17599  71.2833   C85        C  \n",
       "2      0  STON/O2. 3101282   7.9250   NaN        S  \n",
       "3      0            113803  53.1000  C123        S  \n",
       "4      0            373450   8.0500   NaN        S  "
      ]
     },
     "execution_count": 2,
     "metadata": {},
     "output_type": "execute_result"
    }
   ],
   "source": [
    "df = pd.read_csv(\"../data/raw/train.csv\")\n",
    "df.head()"
   ]
  },
  {
   "cell_type": "markdown",
   "metadata": {},
   "source": [
    "Things we can identify from the **df.info** method:\n",
    "1. The number of non-null entries in each column\n",
    "2. the datatype of each column, and the frequency of each datatype\n",
    "3. The number of rows, index type and the number of columns\n",
    "4. memory usage: also try \"deep\" option"
   ]
  },
  {
   "cell_type": "code",
   "execution_count": 3,
   "metadata": {
    "ExecuteTime": {
     "end_time": "2020-04-25T07:11:16.303290Z",
     "start_time": "2020-04-25T07:11:16.296010Z"
    }
   },
   "outputs": [
    {
     "name": "stdout",
     "output_type": "stream",
     "text": [
      "<class 'pandas.core.frame.DataFrame'>\n",
      "RangeIndex: 891 entries, 0 to 890\n",
      "Data columns (total 12 columns):\n",
      "PassengerId    891 non-null int64\n",
      "Survived       891 non-null int64\n",
      "Pclass         891 non-null int64\n",
      "Name           891 non-null object\n",
      "Sex            891 non-null object\n",
      "Age            714 non-null float64\n",
      "SibSp          891 non-null int64\n",
      "Parch          891 non-null int64\n",
      "Ticket         891 non-null object\n",
      "Fare           891 non-null float64\n",
      "Cabin          204 non-null object\n",
      "Embarked       889 non-null object\n",
      "dtypes: float64(2), int64(5), object(5)\n",
      "memory usage: 83.7+ KB\n"
     ]
    }
   ],
   "source": [
    "df.info()"
   ]
  },
  {
   "cell_type": "code",
   "execution_count": 4,
   "metadata": {
    "ExecuteTime": {
     "end_time": "2020-04-25T07:11:16.733137Z",
     "start_time": "2020-04-25T07:11:16.727025Z"
    }
   },
   "outputs": [
    {
     "name": "stdout",
     "output_type": "stream",
     "text": [
      "The number of rows are 891\n",
      "The number of columns are 12\n"
     ]
    }
   ],
   "source": [
    "# Overly complicated way of printing the number of rows and columns\n",
    "list(map(lambda l: print(f\"The number of {l[0]} are {l[1]}\"),  \n",
    "         zip([\"rows\", \"columns\"], df.shape)));"
   ]
  },
  {
   "cell_type": "code",
   "execution_count": 5,
   "metadata": {
    "ExecuteTime": {
     "end_time": "2020-04-25T07:11:17.140188Z",
     "start_time": "2020-04-25T07:11:17.134331Z"
    }
   },
   "outputs": [],
   "source": [
    "# Candidate of automatic report generator\n",
    "# print rows and columns\n",
    "\n",
    "def print_row_columns(df):\n",
    "    nrow, ncol = df.shape\n",
    "    print(f'The number of rows are {nrow}')\n",
    "    print(f'The number of columns are {ncol}')\n",
    "    \n",
    "    return nrow, ncol"
   ]
  },
  {
   "cell_type": "code",
   "execution_count": 6,
   "metadata": {
    "ExecuteTime": {
     "end_time": "2020-04-25T07:11:17.572203Z",
     "start_time": "2020-04-25T07:11:17.567453Z"
    }
   },
   "outputs": [
    {
     "name": "stdout",
     "output_type": "stream",
     "text": [
      "The number of rows are 891\n",
      "The number of columns are 12\n"
     ]
    }
   ],
   "source": [
    "nrow, ncol = print_row_columns(df)"
   ]
  },
  {
   "cell_type": "markdown",
   "metadata": {},
   "source": [
    "## Frame the basic analyses we can do\n",
    "\n",
    "1. Look at the datatypes of each column and ascertain if<br/>\n",
    "    1.1. we need to change the datatype <br/>\n",
    "    1.2. we need to perform some encoding like OneHotEncoding\n",
    "    \n",
    "2. Check if there is a space or any discrepancy in column names and if they can be renamed?\n",
    "3. Check and visualize the missing values in each column <br/>\n",
    "    3.1. Remove the missing values or, <br/>\n",
    "    3.2. A strategy to impute the missing values\n",
    "   "
   ]
  },
  {
   "cell_type": "markdown",
   "metadata": {},
   "source": [
    "### Let's look at the missing values"
   ]
  },
  {
   "cell_type": "markdown",
   "metadata": {},
   "source": [
    "**Age** has 17% and **Cabin** has 77% missing values"
   ]
  },
  {
   "cell_type": "code",
   "execution_count": 7,
   "metadata": {
    "ExecuteTime": {
     "end_time": "2020-04-25T07:11:19.137115Z",
     "start_time": "2020-04-25T07:11:19.128626Z"
    }
   },
   "outputs": [
    {
     "data": {
      "text/plain": [
       "PassengerId    0.000000\n",
       "Survived       0.000000\n",
       "Pclass         0.000000\n",
       "Name           0.000000\n",
       "Sex            0.000000\n",
       "Age            0.198653\n",
       "SibSp          0.000000\n",
       "Parch          0.000000\n",
       "Ticket         0.000000\n",
       "Fare           0.000000\n",
       "Cabin          0.771044\n",
       "Embarked       0.002245\n",
       "dtype: float64"
      ]
     },
     "execution_count": 7,
     "metadata": {},
     "output_type": "execute_result"
    }
   ],
   "source": [
    "miss_prop = df.isna().sum()/nrow\n",
    "miss_prop"
   ]
  },
  {
   "cell_type": "code",
   "execution_count": 8,
   "metadata": {
    "ExecuteTime": {
     "end_time": "2020-04-25T07:11:19.567947Z",
     "start_time": "2020-04-25T07:11:19.561750Z"
    }
   },
   "outputs": [],
   "source": [
    "def plot_missprop(df):\n",
    "    miss_prop = df.isna().mean()\n",
    "    fig, ax = plt.subplots(figsize=(12, 8))\n",
    "    miss_prop.plot(kind=\"bar\", ax=ax)\n",
    "    ax.set_title(\"Missing Proportions\", fontdict=dict(size=20, weight=\"bold\"))\n",
    "    \n",
    "    return(miss_prop)"
   ]
  },
  {
   "cell_type": "markdown",
   "metadata": {},
   "source": [
    "**Age** has \\~20% and **Cabin** has 77% missing values"
   ]
  },
  {
   "cell_type": "code",
   "execution_count": 12,
   "metadata": {
    "ExecuteTime": {
     "end_time": "2020-04-25T07:11:20.667110Z",
     "start_time": "2020-04-25T07:11:20.456293Z"
    }
   },
   "outputs": [
    {
     "data": {
      "image/png": "[encoded data removed]",
      "text/plain": [
       "<Figure size 864x576 with 1 Axes>"
      ]
     },
     "metadata": {
      "needs_background": "light"
     },
     "output_type": "display_data"
    }
   ],
   "source": [
    "plot_missprop(df);"
   ]
  },
  {
   "cell_type": "markdown",
   "metadata": {},
   "source": [
    "Look at the missing values using the visualization from the missingno library <br/>\n",
    "Here also we can see Age and Cabin having substantial amount of missing values, and very little is missing in Embarked"
   ]
  },
  {
   "cell_type": "code",
   "execution_count": 13,
   "metadata": {
    "ExecuteTime": {
     "end_time": "2020-04-25T07:11:21.981525Z",
     "start_time": "2020-04-25T07:11:21.552172Z"
    }
   },
   "outputs": [
    {
     "data": {
      "text/plain": [
       "<matplotlib.axes._subplots.AxesSubplot at 0x7fc30df718d0>"
      ]
     },
     "execution_count": 13,
     "metadata": {},
     "output_type": "execute_result"
    },
    {
     "data": {
      "image/png": "[encoded data removed]",
      "text/plain": [
       "<Figure size 1800x720 with 2 Axes>"
      ]
     },
     "metadata": {
      "needs_background": "light"
     },
     "output_type": "display_data"
    }
   ],
   "source": [
    "missingno.matrix(df)"
   ]
  },
  {
   "cell_type": "code",
   "execution_count": 14,
   "metadata": {
    "ExecuteTime": {
     "end_time": "2020-04-25T07:11:22.132321Z",
     "start_time": "2020-04-25T07:11:22.128883Z"
    }
   },
   "outputs": [],
   "source": [
    "actual_prop = 1 - miss_prop"
   ]
  },
  {
   "cell_type": "markdown",
   "metadata": {},
   "source": [
    "### Look at the datatypes of each"
   ]
  },
  {
   "cell_type": "code",
   "execution_count": 15,
   "metadata": {
    "ExecuteTime": {
     "end_time": "2020-04-25T07:11:23.551584Z",
     "start_time": "2020-04-25T07:11:23.540106Z"
    }
   },
   "outputs": [
    {
     "data": {
      "text/plain": [
       "PassengerId      int64\n",
       "Survived         int64\n",
       "Pclass           int64\n",
       "Name            object\n",
       "Sex             object\n",
       "Age            float64\n",
       "SibSp            int64\n",
       "Parch            int64\n",
       "Ticket          object\n",
       "Fare           float64\n",
       "Cabin           object\n",
       "Embarked        object\n",
       "dtype: object"
      ]
     },
     "execution_count": 15,
     "metadata": {},
     "output_type": "execute_result"
    }
   ],
   "source": [
    "df.dtypes"
   ]
  },
  {
   "cell_type": "markdown",
   "metadata": {},
   "source": [
    "Basically the lower the unique proportion, more confident we are to treat it as a categorical variable but with a <br/> \n",
    "**CAUTION**: Check if it actually is a ordinal variable so that we don't accidently apply OneHotEncoding."
   ]
  },
  {
   "cell_type": "code",
   "execution_count": 16,
   "metadata": {
    "ExecuteTime": {
     "end_time": "2020-04-25T07:11:25.274989Z",
     "start_time": "2020-04-25T07:11:25.265679Z"
    }
   },
   "outputs": [],
   "source": [
    "def get_unique(df, prop=False):\n",
    "    if prop:\n",
    "        return df.apply(lambda x: x.nunique()/(actual_prop[x.name]*nrow), \"index\")\n",
    "    else:\n",
    "        return df.apply(lambda x: x.nunique(), \"index\")"
   ]
  },
  {
   "cell_type": "markdown",
   "metadata": {},
   "source": [
    "1. Looks like **PassengerId**, **Name**, **Ticket** are categorical but way too many categories in the raw form, maybe we can perform some text-analytics to lower extract a pattern and group certain categories?\n",
    "2. **Survived** is definitely categorical and that is infact what we want to predict\n",
    "3. We can apply OneHotEncoding directly to **Sex**, **Embarked**\n",
    "4. Should We apply OneHotEncoding to **Pclass** given that it can be treated as an ordinal variable as well?\n",
    "5. **Cabin** is also a categorical variable and we may apply OneHotEncoding directly or we may try to club certain categories using some text analytics as the unique proportion is a bit high, but there are also a lot of missing values so we need to see it's usefulness\n",
    "6. Note that **Age** and **Fare** are obviously a continous variable but we can try to convert them to ordinal categorical and see if our accuracy improves\n",
    "7. **SibSp** and **Parch** are already ordinal categorical"
   ]
  },
  {
   "cell_type": "code",
   "execution_count": 17,
   "metadata": {
    "ExecuteTime": {
     "end_time": "2020-04-25T07:11:26.485357Z",
     "start_time": "2020-04-25T07:11:26.458130Z"
    }
   },
   "outputs": [
    {
     "data": {
      "text/plain": [
       "PassengerId    1.000000\n",
       "Survived       0.002245\n",
       "Pclass         0.003367\n",
       "Name           1.000000\n",
       "Sex            0.002245\n",
       "Age            0.123249\n",
       "SibSp          0.007856\n",
       "Parch          0.007856\n",
       "Ticket         0.764310\n",
       "Fare           0.278339\n",
       "Cabin          0.720588\n",
       "Embarked       0.003375\n",
       "dtype: float64"
      ]
     },
     "execution_count": 17,
     "metadata": {},
     "output_type": "execute_result"
    }
   ],
   "source": [
    "get_unique(df, prop=True)"
   ]
  },
  {
   "cell_type": "markdown",
   "metadata": {},
   "source": [
    "### Target variable: Survived\n",
    "\n",
    "Survived: 1 for yes, 0 for no <br/>\n",
    "This is the variable we are trying to predict"
   ]
  },
  {
   "cell_type": "markdown",
   "metadata": {},
   "source": [
    "Let's see how many passengers survived. <br/>\n",
    "So we have an **Imbalanced dataset**, maybe we can exploit some imbalanced learning algorithms.<br/>\n",
    "Try looking into [imbalanced-learn](t.ly/bWSU)"
   ]
  },
  {
   "cell_type": "code",
   "execution_count": 18,
   "metadata": {
    "ExecuteTime": {
     "end_time": "2020-04-25T07:11:29.218994Z",
     "start_time": "2020-04-25T07:11:29.096713Z"
    }
   },
   "outputs": [
    {
     "name": "stdout",
     "output_type": "stream",
     "text": [
      "The number of passengers who survived:\n",
      "0    549\n",
      "1    342\n",
      "Name: Survived, dtype: int64\n",
      "\n",
      "The proportion of passengers who survived:\n",
      "0    0.616162\n",
      "1    0.383838\n",
      "Name: Survived, dtype: float64\n",
      "\n"
     ]
    },
    {
     "data": {
      "image/png": "[encoded data removed]",
      "text/plain": [
       "<Figure size 1440x72 with 1 Axes>"
      ]
     },
     "metadata": {
      "needs_background": "light"
     },
     "output_type": "display_data"
    }
   ],
   "source": [
    "fig = plt.figure(figsize=(20, 1))\n",
    "sns.countplot(y='Survived', data=df)\n",
    "print(\"The number of passengers who survived:\\n\", \n",
    "      df.Survived.value_counts(), \"\\n\", sep=\"\")\n",
    "print(\"The proportion of passengers who survived:\\n\", \n",
    "      df.Survived.value_counts(normalize=True), \"\\n\", sep=\"\")\n"
   ]
  },
  {
   "cell_type": "code",
   "execution_count": 19,
   "metadata": {
    "ExecuteTime": {
     "end_time": "2020-04-25T07:11:29.627899Z",
     "start_time": "2020-04-25T07:11:29.619105Z"
    }
   },
   "outputs": [],
   "source": [
    "import random\n",
    "import string\n",
    "\n",
    "def randString(length=5):\n",
    "    letters = string.ascii_lowercase + string.ascii_uppercase + string.digits\n",
    "    return ''.join((random.choice(letters) for i in range(length)))"
   ]
  },
  {
   "cell_type": "code",
   "execution_count": 20,
   "metadata": {
    "ExecuteTime": {
     "end_time": "2020-04-25T07:11:34.731613Z",
     "start_time": "2020-04-25T07:11:34.721343Z"
    }
   },
   "outputs": [
    {
     "data": {
      "text/plain": [
       "'d9JaO'"
      ]
     },
     "execution_count": 20,
     "metadata": {},
     "output_type": "execute_result"
    }
   ],
   "source": [
    "randString(5)"
   ]
  },
  {
   "cell_type": "code",
   "execution_count": 21,
   "metadata": {
    "ExecuteTime": {
     "end_time": "2020-04-25T07:11:35.355335Z",
     "start_time": "2020-04-25T07:11:35.343053Z"
    }
   },
   "outputs": [],
   "source": [
    "def plot_count(series, dropna=False):\n",
    "    val_cnts = series.value_counts(dropna=dropna)\n",
    "    fig = plt.figure(figsize=(20, 1))\n",
    "    \n",
    "    if not dropna:\n",
    "        try:\n",
    "            series = series.fillna('NaN')\n",
    "        except ValueError: # fill value must be in category error\n",
    "            pass\n",
    "        \n",
    "    g = sns.countplot(y=series)\n",
    "    \n",
    "    print(\"The frequency of each category:\\n\", \n",
    "          val_cnts, \"\\n\", sep=\"\")\n",
    "    print(\"The proportion of each category:\\n\", \n",
    "          val_cnts/series.size, \"\\n\", sep=\"\")\n",
    "    \n",
    "    return g"
   ]
  },
  {
   "cell_type": "markdown",
   "metadata": {},
   "source": [
    "**So these are the possible approaches we can try:**\n",
    "1. Discretize certain continuous variables into bins:<br/>\n",
    "    1.1. df_bin for binned version<br/>\n",
    "    1.2. df_con for continuous version<br/>\n",
    "    1.3. maybe try a mix of them and also how many bins to keep<br/>\n",
    "2. Impute missing values or discard them\n",
    "3. Try imbalanced learning algorithms"
   ]
  },
  {
   "cell_type": "markdown",
   "metadata": {},
   "source": [
    "### Feature exploration\n",
    "\n",
    "1. Look at the distribution of each variable\n",
    "2. Look at how each variable relates to the target variable\n",
    "3. Look at how one variable interacts with another variable <br/>\n",
    "    3.1. In case of continuous variable this may involve binning"
   ]
  },
  {
   "cell_type": "markdown",
   "metadata": {},
   "source": [
    "#### Pclass\n",
    "A proxy for socio-economic status (SES)\n",
    "- 1st = Upper\n",
    "- 2nd = Middle\n",
    "- 3rd = Lower\n"
   ]
  },
  {
   "cell_type": "markdown",
   "metadata": {},
   "source": [
    "Let's see how the three categories are distributed:\n",
    "\n",
    "So we have the highest percentage of Lower class (\\~55%), then Upper class (\\~24%) and then Lower Class (~20%)\n"
   ]
  },
  {
   "cell_type": "code",
   "execution_count": 22,
   "metadata": {
    "ExecuteTime": {
     "end_time": "2020-04-25T07:11:39.703966Z",
     "start_time": "2020-04-25T07:11:39.584769Z"
    }
   },
   "outputs": [
    {
     "name": "stdout",
     "output_type": "stream",
     "text": [
      "The frequency of each category:\n",
      "3    491\n",
      "1    216\n",
      "2    184\n",
      "Name: Pclass, dtype: int64\n",
      "\n",
      "The proportion of each category:\n",
      "3    0.551066\n",
      "1    0.242424\n",
      "2    0.206510\n",
      "Name: Pclass, dtype: float64\n",
      "\n"
     ]
    },
    {
     "data": {
      "image/png": "[encoded data removed]",
      "text/plain": [
       "<Figure size 1440x72 with 1 Axes>"
      ]
     },
     "metadata": {
      "needs_background": "light"
     },
     "output_type": "display_data"
    }
   ],
   "source": [
    "plot_count(df['Pclass']);"
   ]
  },
  {
   "cell_type": "markdown",
   "metadata": {},
   "source": [
    "Let's see the survival probability accross the three classes. \n",
    " - The highest chances of survival are in Pclass 1 (lower class), followed by 2 and then lowest in 3"
   ]
  },
  {
   "cell_type": "code",
   "execution_count": 23,
   "metadata": {
    "ExecuteTime": {
     "end_time": "2020-04-25T07:11:41.631770Z",
     "start_time": "2020-04-25T07:11:41.412695Z"
    }
   },
   "outputs": [
    {
     "data": {
      "image/png": "[encoded data removed]",
      "text/plain": [
       "<Figure size 360x360 with 1 Axes>"
      ]
     },
     "metadata": {
      "needs_background": "light"
     },
     "output_type": "display_data"
    }
   ],
   "source": [
    "g = sns.catplot(x='Pclass', y='Survived', kind='bar', data=df)\n",
    "g.despine(left=True)\n",
    "g.set_ylabels('survival probability');"
   ]
  },
  {
   "cell_type": "code",
   "execution_count": 24,
   "metadata": {
    "ExecuteTime": {
     "end_time": "2020-04-25T10:17:50.399256Z",
     "start_time": "2020-04-25T10:17:50.392768Z"
    }
   },
   "outputs": [],
   "source": [
    "def plot_prob(x, y, data=None):\n",
    "    if data is None:\n",
    "        data = pd.concat([x, y], axis=1)\n",
    "        x, y = data.columns\n",
    "        data = data.dropna()\n",
    "    \n",
    "    \n",
    "    g = sns.catplot(x, y, kind='bar', data=data)\n",
    "    g.despine(left=True)\n",
    "    g.set_ylabels(f'{y} probability')\n",
    "    \n",
    "    return g"
   ]
  },
  {
   "cell_type": "markdown",
   "metadata": {},
   "source": [
    "#### Sex"
   ]
  },
  {
   "cell_type": "markdown",
   "metadata": {},
   "source": [
    "See the counts of both Male and Female <br/>\n",
    "So we have way more Males (\\~ 65%) than females (\\~ 35%)"
   ]
  },
  {
   "cell_type": "code",
   "execution_count": 25,
   "metadata": {
    "ExecuteTime": {
     "end_time": "2020-04-25T07:11:45.188944Z",
     "start_time": "2020-04-25T07:11:45.043750Z"
    }
   },
   "outputs": [
    {
     "name": "stdout",
     "output_type": "stream",
     "text": [
      "The frequency of each category:\n",
      "male      577\n",
      "female    314\n",
      "Name: Sex, dtype: int64\n",
      "\n",
      "The proportion of each category:\n",
      "male      0.647587\n",
      "female    0.352413\n",
      "Name: Sex, dtype: float64\n",
      "\n"
     ]
    },
    {
     "data": {
      "text/plain": [
       "<matplotlib.axes._subplots.AxesSubplot at 0x7fc30dcd6950>"
      ]
     },
     "execution_count": 25,
     "metadata": {},
     "output_type": "execute_result"
    },
    {
     "data": {
      "image/png": "[encoded data removed]",
      "text/plain": [
       "<Figure size 1440x72 with 1 Axes>"
      ]
     },
     "metadata": {
      "needs_background": "light"
     },
     "output_type": "display_data"
    }
   ],
   "source": [
    "plot_count(df['Sex'])"
   ]
  },
  {
   "cell_type": "markdown",
   "metadata": {},
   "source": [
    "Let's see the survival probability for both the genders <br/>\n",
    "emales have way more chance of surviving (~ 75%) than the males (~ 19%).\n",
    "\n",
    "**NOTE**: This is conditional probability. So my predictive model could be , if it is a Female predict Survival with 0.74 probability and if is a male predict Survival with 0.19 probability\n"
   ]
  },
  {
   "cell_type": "code",
   "execution_count": 26,
   "metadata": {
    "ExecuteTime": {
     "end_time": "2020-04-24T13:48:55.990973Z",
     "start_time": "2020-04-24T13:48:55.975607Z"
    }
   },
   "outputs": [
    {
     "data": {
      "text/plain": [
       "Sex\n",
       "female    0.742038\n",
       "male      0.188908\n",
       "Name: Survived, dtype: float64"
      ]
     },
     "execution_count": 26,
     "metadata": {},
     "output_type": "execute_result"
    }
   ],
   "source": [
    "df.groupby('Sex').Survived.mean()"
   ]
  },
  {
   "cell_type": "code",
   "execution_count": 27,
   "metadata": {
    "ExecuteTime": {
     "end_time": "2020-04-24T13:39:50.504260Z",
     "start_time": "2020-04-24T13:39:50.305244Z"
    }
   },
   "outputs": [
    {
     "data": {
      "image/png": "[encoded data removed]",
      "text/plain": [
       "<Figure size 360x360 with 1 Axes>"
      ]
     },
     "metadata": {
      "needs_background": "light"
     },
     "output_type": "display_data"
    }
   ],
   "source": [
    "plot_prob('Sex', 'Survived', df);"
   ]
  },
  {
   "cell_type": "markdown",
   "metadata": {},
   "source": [
    "#### SibSp\n",
    "\n",
    "\\# of Siblings/Spouses aboard the Titanic"
   ]
  },
  {
   "cell_type": "markdown",
   "metadata": {},
   "source": [
    "Let's see the counts:\n",
    "1. Most people don't have any siblings/spouses aboard\n",
    "2. This is followed by 1 sibling/spouse\n",
    "3. Then finally 4,3,8,5"
   ]
  },
  {
   "cell_type": "code",
   "execution_count": 28,
   "metadata": {
    "ExecuteTime": {
     "end_time": "2020-04-24T13:51:15.207610Z",
     "start_time": "2020-04-24T13:51:15.041619Z"
    }
   },
   "outputs": [
    {
     "name": "stdout",
     "output_type": "stream",
     "text": [
      "The frequency of each category:\n",
      "0    608\n",
      "1    209\n",
      "2     28\n",
      "4     18\n",
      "3     16\n",
      "8      7\n",
      "5      5\n",
      "Name: SibSp, dtype: int64\n",
      "\n",
      "The proportion of each category:\n",
      "0    0.682379\n",
      "1    0.234568\n",
      "2    0.031425\n",
      "4    0.020202\n",
      "3    0.017957\n",
      "8    0.007856\n",
      "5    0.005612\n",
      "Name: SibSp, dtype: float64\n",
      "\n"
     ]
    },
    {
     "data": {
      "text/plain": [
       "<matplotlib.axes._subplots.AxesSubplot at 0x7fc30dbc8c50>"
      ]
     },
     "execution_count": 28,
     "metadata": {},
     "output_type": "execute_result"
    },
    {
     "data": {
      "image/png": "[encoded data removed]",
      "text/plain": [
       "<Figure size 1440x72 with 1 Axes>"
      ]
     },
     "metadata": {
      "needs_background": "light"
     },
     "output_type": "display_data"
    }
   ],
   "source": [
    "plot_count(df['SibSp'])"
   ]
  },
  {
   "cell_type": "markdown",
   "metadata": {},
   "source": [
    "We can maybe look at grouping the categories as 0, 1, and >1 since there are very few in higher number category"
   ]
  },
  {
   "cell_type": "markdown",
   "metadata": {},
   "source": [
    "Let's look at how the survival probability varies. <br/>\n",
    "See how highly variable the estimates are in the higher categories because of a small sample size."
   ]
  },
  {
   "cell_type": "code",
   "execution_count": 29,
   "metadata": {
    "ExecuteTime": {
     "end_time": "2020-04-24T13:59:50.783578Z",
     "start_time": "2020-04-24T13:59:50.505497Z"
    }
   },
   "outputs": [
    {
     "data": {
      "text/plain": [
       "<seaborn.axisgrid.FacetGrid at 0x7fc30d9a7390>"
      ]
     },
     "execution_count": 29,
     "metadata": {},
     "output_type": "execute_result"
    },
    {
     "data": {
      "image/png": "[encoded data removed]",
      "text/plain": [
       "<Figure size 360x360 with 1 Axes>"
      ]
     },
     "metadata": {
      "needs_background": "light"
     },
     "output_type": "display_data"
    }
   ],
   "source": [
    "plot_prob('SibSp', 'Survived', df)"
   ]
  },
  {
   "cell_type": "markdown",
   "metadata": {},
   "source": [
    "Let's group the categories as 0, 1 and >1, we can compare the performance in both the scenarios. <br/>\n",
    "The idea is to create a separate pipeline for each type of analysis I can think"
   ]
  },
  {
   "cell_type": "code",
   "execution_count": 30,
   "metadata": {
    "ExecuteTime": {
     "end_time": "2020-04-25T07:15:54.568746Z",
     "start_time": "2020-04-25T07:15:54.559839Z"
    }
   },
   "outputs": [],
   "source": [
    "def FE_SibSp(series, bins=[0, 1]):\n",
    "    bins_arg = bins + [bins[-1] + 1, series.max()+1]\n",
    "    res = pd.cut(series, bins_arg, right=False)\n",
    "    res.cat.categories = bins + [f'>{bins[-1]}']\n",
    "    # NOTE: Use df.SibSp.cat.codes to access the numeric codes \n",
    "    \n",
    "    return res"
   ]
  },
  {
   "cell_type": "code",
   "execution_count": 31,
   "metadata": {
    "ExecuteTime": {
     "end_time": "2020-04-25T07:16:50.561082Z",
     "start_time": "2020-04-25T07:16:50.544858Z"
    }
   },
   "outputs": [],
   "source": [
    "# As a good practice should I keep the original df intact?\n",
    "# USE ONLY ONCE\n",
    "SibSp = FE_SibSp(df.SibSp)"
   ]
  },
  {
   "cell_type": "code",
   "execution_count": 32,
   "metadata": {
    "ExecuteTime": {
     "end_time": "2020-04-25T07:17:23.900250Z",
     "start_time": "2020-04-25T07:17:23.882824Z"
    }
   },
   "outputs": [
    {
     "data": {
      "text/plain": [
       "True"
      ]
     },
     "execution_count": 32,
     "metadata": {},
     "output_type": "execute_result"
    }
   ],
   "source": [
    "# Verify that the '>1' code is indeed coded as 2, so in the final model building process we can pass it like this\n",
    "(SibSp.cat.codes[SibSp == '>1'] == 2).all()"
   ]
  },
  {
   "cell_type": "code",
   "execution_count": 33,
   "metadata": {
    "ExecuteTime": {
     "end_time": "2020-04-25T07:18:12.037768Z",
     "start_time": "2020-04-25T07:18:11.908398Z"
    }
   },
   "outputs": [
    {
     "name": "stdout",
     "output_type": "stream",
     "text": [
      "The frequency of each category:\n",
      "0     608\n",
      "1     209\n",
      ">1     74\n",
      "Name: SibSp, dtype: int64\n",
      "\n",
      "The proportion of each category:\n",
      "0     0.682379\n",
      "1     0.234568\n",
      ">1    0.083053\n",
      "Name: SibSp, dtype: float64\n",
      "\n"
     ]
    },
    {
     "data": {
      "image/png": "[encoded data removed]",
      "text/plain": [
       "<Figure size 1440x72 with 1 Axes>"
      ]
     },
     "metadata": {
      "needs_background": "light"
     },
     "output_type": "display_data"
    }
   ],
   "source": [
    "plot_count(SibSp);"
   ]
  },
  {
   "cell_type": "code",
   "execution_count": 34,
   "metadata": {
    "ExecuteTime": {
     "end_time": "2020-04-25T07:20:02.601596Z",
     "start_time": "2020-04-25T07:20:02.393968Z"
    }
   },
   "outputs": [
    {
     "data": {
      "image/png": "[encoded data removed]",
      "text/plain": [
       "<Figure size 360x360 with 1 Axes>"
      ]
     },
     "metadata": {
      "needs_background": "light"
     },
     "output_type": "display_data"
    }
   ],
   "source": [
    "plot_prob(SibSp, df.Survived);"
   ]
  },
  {
   "cell_type": "markdown",
   "metadata": {},
   "source": [
    "#### Parch\n",
    "\\# of parents/children aboard the Titanic"
   ]
  },
  {
   "cell_type": "markdown",
   "metadata": {
    "ExecuteTime": {
     "end_time": "2020-04-24T15:20:19.020294Z",
     "start_time": "2020-04-24T15:20:19.005941Z"
    }
   },
   "source": [
    "Let's see the counts:\n",
    "1. Majority people have no Parents or children i.e. this hints that the most of the age group is around the 20-30s who are a bunch of young people travelling solo or with their friends\n",
    "2. Again higher categories have very few number of people, and we can club these groups together to form 0, 1, >1"
   ]
  },
  {
   "cell_type": "code",
   "execution_count": 35,
   "metadata": {
    "ExecuteTime": {
     "end_time": "2020-04-24T15:21:19.326185Z",
     "start_time": "2020-04-24T15:21:19.158412Z"
    }
   },
   "outputs": [
    {
     "name": "stdout",
     "output_type": "stream",
     "text": [
      "The frequency of each category:\n",
      "0    678\n",
      "1    118\n",
      "2     80\n",
      "5      5\n",
      "3      5\n",
      "4      4\n",
      "6      1\n",
      "Name: Parch, dtype: int64\n",
      "\n",
      "The proportion of each category:\n",
      "0    0.760943\n",
      "1    0.132435\n",
      "2    0.089787\n",
      "5    0.005612\n",
      "3    0.005612\n",
      "4    0.004489\n",
      "6    0.001122\n",
      "Name: Parch, dtype: float64\n",
      "\n"
     ]
    },
    {
     "data": {
      "text/plain": [
       "<matplotlib.axes._subplots.AxesSubplot at 0x7fc30d58bb10>"
      ]
     },
     "execution_count": 35,
     "metadata": {},
     "output_type": "execute_result"
    },
    {
     "data": {
      "image/png": "[encoded data removed]",
      "text/plain": [
       "<Figure size 1440x72 with 1 Axes>"
      ]
     },
     "metadata": {
      "needs_background": "light"
     },
     "output_type": "display_data"
    }
   ],
   "source": [
    "plot_count(df['Parch'])"
   ]
  },
  {
   "cell_type": "code",
   "execution_count": 36,
   "metadata": {
    "ExecuteTime": {
     "end_time": "2020-04-25T07:23:30.877161Z",
     "start_time": "2020-04-25T07:23:30.869046Z"
    }
   },
   "outputs": [],
   "source": [
    "def FE_Parch(series, bins=[0, 1]):\n",
    "    bins_arg = bins + [bins[-1] + 1, series.max()+1]\n",
    "    res = pd.cut(series, bins_arg, right=False)\n",
    "    res.cat.categories = bins + [f'>{bins[-1]}']\n",
    "    # NOTE: Use df.SibSp.cat.codes to access the numeric codes \n",
    "    \n",
    "    return res"
   ]
  },
  {
   "cell_type": "code",
   "execution_count": 37,
   "metadata": {
    "ExecuteTime": {
     "end_time": "2020-04-25T07:24:18.345545Z",
     "start_time": "2020-04-25T07:24:18.324169Z"
    }
   },
   "outputs": [
    {
     "data": {
      "text/plain": [
       "0       0\n",
       "1       0\n",
       "2       0\n",
       "3       0\n",
       "4       0\n",
       "       ..\n",
       "886     0\n",
       "887     0\n",
       "888    >1\n",
       "889     0\n",
       "890     0\n",
       "Name: Parch, Length: 891, dtype: category\n",
       "Categories (3, object): [0 < 1 < >1]"
      ]
     },
     "execution_count": 37,
     "metadata": {},
     "output_type": "execute_result"
    }
   ],
   "source": [
    "Parch = FE_Parch(df.Parch, [0, 1])\n",
    "Parch"
   ]
  },
  {
   "cell_type": "code",
   "execution_count": 38,
   "metadata": {
    "ExecuteTime": {
     "end_time": "2020-04-25T07:24:19.366996Z",
     "start_time": "2020-04-25T07:24:19.232781Z"
    }
   },
   "outputs": [
    {
     "name": "stdout",
     "output_type": "stream",
     "text": [
      "The frequency of each category:\n",
      "0     678\n",
      "1     118\n",
      ">1     95\n",
      "Name: Parch, dtype: int64\n",
      "\n",
      "The proportion of each category:\n",
      "0     0.760943\n",
      "1     0.132435\n",
      ">1    0.106622\n",
      "Name: Parch, dtype: float64\n",
      "\n"
     ]
    },
    {
     "data": {
      "image/png": "[encoded data removed]",
      "text/plain": [
       "<Figure size 1440x72 with 1 Axes>"
      ]
     },
     "metadata": {
      "needs_background": "light"
     },
     "output_type": "display_data"
    }
   ],
   "source": [
    "plot_count(Parch);"
   ]
  },
  {
   "cell_type": "markdown",
   "metadata": {},
   "source": [
    "So the survival is lowest when the person has 0 parent or children, and highest when they have 1 children"
   ]
  },
  {
   "cell_type": "code",
   "execution_count": 39,
   "metadata": {
    "ExecuteTime": {
     "end_time": "2020-04-25T07:24:21.275480Z",
     "start_time": "2020-04-25T07:24:21.073675Z"
    }
   },
   "outputs": [
    {
     "data": {
      "image/png": "[encoded data removed]",
      "text/plain": [
       "<Figure size 360x360 with 1 Axes>"
      ]
     },
     "metadata": {
      "needs_background": "light"
     },
     "output_type": "display_data"
    }
   ],
   "source": [
    "plot_prob(Parch, df.Survived);"
   ]
  },
  {
   "cell_type": "markdown",
   "metadata": {},
   "source": [
    "#### Age"
   ]
  },
  {
   "cell_type": "markdown",
   "metadata": {},
   "source": [
    "Let's visualize the missing values in the Age column"
   ]
  },
  {
   "cell_type": "code",
   "execution_count": 40,
   "metadata": {
    "ExecuteTime": {
     "end_time": "2020-04-24T17:02:08.929142Z",
     "start_time": "2020-04-24T17:02:08.899688Z"
    }
   },
   "outputs": [
    {
     "data": {
      "text/plain": [
       "0.19865319865319866"
      ]
     },
     "execution_count": 40,
     "metadata": {},
     "output_type": "execute_result"
    }
   ],
   "source": [
    "miss_prop.Age"
   ]
  },
  {
   "cell_type": "code",
   "execution_count": 41,
   "metadata": {
    "ExecuteTime": {
     "end_time": "2020-04-24T17:01:33.073343Z",
     "start_time": "2020-04-24T17:01:32.746862Z"
    }
   },
   "outputs": [
    {
     "data": {
      "text/plain": [
       "<matplotlib.axes._subplots.AxesSubplot at 0x7fc30d8f1190>"
      ]
     },
     "execution_count": 41,
     "metadata": {},
     "output_type": "execute_result"
    },
    {
     "data": {
      "image/png": "[encoded data removed]",
      "text/plain": [
       "<Figure size 1800x720 with 2 Axes>"
      ]
     },
     "metadata": {
      "needs_background": "light"
     },
     "output_type": "display_data"
    }
   ],
   "source": [
    "missingno.matrix(pd.DataFrame(df.Age))"
   ]
  },
  {
   "cell_type": "code",
   "execution_count": 42,
   "metadata": {
    "ExecuteTime": {
     "end_time": "2020-04-24T16:57:42.310293Z",
     "start_time": "2020-04-24T16:57:42.110040Z"
    }
   },
   "outputs": [
    {
     "data": {
      "text/plain": [
       "<matplotlib.axes._subplots.AxesSubplot at 0x7fc30d8456d0>"
      ]
     },
     "execution_count": 42,
     "metadata": {},
     "output_type": "execute_result"
    },
    {
     "data": {
      "image/png": "[encoded data removed]",
      "text/plain": [
       "<Figure size 432x288 with 1 Axes>"
      ]
     },
     "metadata": {
      "needs_background": "light"
     },
     "output_type": "display_data"
    }
   ],
   "source": [
    "sns.distplot(df.Age.dropna())"
   ]
  },
  {
   "cell_type": "markdown",
   "metadata": {},
   "source": [
    "Is the age distribution different for those who survived and those who didn't?<br/>"
   ]
  },
  {
   "cell_type": "code",
   "execution_count": 43,
   "metadata": {
    "ExecuteTime": {
     "end_time": "2020-04-24T17:17:59.800235Z",
     "start_time": "2020-04-24T17:17:59.457579Z"
    }
   },
   "outputs": [
    {
     "data": {
      "image/png": "[encoded data removed]",
      "text/plain": [
       "<Figure size 432x216 with 2 Axes>"
      ]
     },
     "metadata": {
      "needs_background": "light"
     },
     "output_type": "display_data"
    }
   ],
   "source": [
    "g = sns.FacetGrid(df, col=\"Survived\")\n",
    "g.map(sns.distplot, \"Age\");"
   ]
  },
  {
   "cell_type": "markdown",
   "metadata": {},
   "source": [
    "There are a lot more people surviving in the younger ages, but this is hard to interpret"
   ]
  },
  {
   "cell_type": "markdown",
   "metadata": {},
   "source": [
    "Let's break the age into 5 bins"
   ]
  },
  {
   "cell_type": "code",
   "execution_count": 44,
   "metadata": {
    "ExecuteTime": {
     "end_time": "2020-04-25T07:56:14.187262Z",
     "start_time": "2020-04-25T07:56:14.179203Z"
    }
   },
   "outputs": [],
   "source": [
    "def FE_Age(series, bins=[0, 5, 10, 15, 20, 30, 50, 100]):\n",
    "    return pd.cut(series, bins, right=True)"
   ]
  },
  {
   "cell_type": "code",
   "execution_count": 45,
   "metadata": {
    "ExecuteTime": {
     "end_time": "2020-04-25T07:56:26.325117Z",
     "start_time": "2020-04-25T07:56:26.306079Z"
    }
   },
   "outputs": [
    {
     "data": {
      "text/plain": [
       "(30.0, 50.0]     241\n",
       "(20.0, 30.0]     230\n",
       "NaN              177\n",
       "(15.0, 20.0]      96\n",
       "(50.0, 100.0]     64\n",
       "(0.0, 5.0]        44\n",
       "(5.0, 10.0]       20\n",
       "(10.0, 15.0]      19\n",
       "Name: Age, dtype: int64"
      ]
     },
     "execution_count": 45,
     "metadata": {},
     "output_type": "execute_result"
    }
   ],
   "source": [
    "Age = FE_Age(df.Age)\n",
    "Age.value_counts(dropna=False)"
   ]
  },
  {
   "cell_type": "code",
   "execution_count": 46,
   "metadata": {
    "ExecuteTime": {
     "end_time": "2020-04-25T07:56:30.373102Z",
     "start_time": "2020-04-25T07:56:30.203498Z"
    }
   },
   "outputs": [
    {
     "name": "stdout",
     "output_type": "stream",
     "text": [
      "The frequency of each category:\n",
      "(30.0, 50.0]     241\n",
      "(20.0, 30.0]     230\n",
      "NaN              177\n",
      "(15.0, 20.0]      96\n",
      "(50.0, 100.0]     64\n",
      "(0.0, 5.0]        44\n",
      "(5.0, 10.0]       20\n",
      "(10.0, 15.0]      19\n",
      "Name: Age, dtype: int64\n",
      "\n",
      "The proportion of each category:\n",
      "(30.0, 50.0]     0.270483\n",
      "(20.0, 30.0]     0.258137\n",
      "NaN              0.198653\n",
      "(15.0, 20.0]     0.107744\n",
      "(50.0, 100.0]    0.071829\n",
      "(0.0, 5.0]       0.049383\n",
      "(5.0, 10.0]      0.022447\n",
      "(10.0, 15.0]     0.021324\n",
      "Name: Age, dtype: float64\n",
      "\n"
     ]
    },
    {
     "data": {
      "image/png": "[encoded data removed]",
      "text/plain": [
       "<Figure size 1440x72 with 1 Axes>"
      ]
     },
     "metadata": {
      "needs_background": "light"
     },
     "output_type": "display_data"
    }
   ],
   "source": [
    "plot_count(Age);"
   ]
  },
  {
   "cell_type": "code",
   "execution_count": 47,
   "metadata": {
    "ExecuteTime": {
     "end_time": "2020-04-25T07:56:36.575577Z",
     "start_time": "2020-04-25T07:56:36.291956Z"
    }
   },
   "outputs": [
    {
     "data": {
      "text/plain": [
       "<seaborn.axisgrid.FacetGrid at 0x7fc30cf8ca50>"
      ]
     },
     "execution_count": 47,
     "metadata": {},
     "output_type": "execute_result"
    },
    {
     "data": {
      "image/png": "[encoded data removed]",
      "text/plain": [
       "<Figure size 360x360 with 1 Axes>"
      ]
     },
     "metadata": {
      "needs_background": "light"
     },
     "output_type": "display_data"
    }
   ],
   "source": [
    "plot_prob(Age, df['Survived'])"
   ]
  },
  {
   "cell_type": "markdown",
   "metadata": {},
   "source": [
    "The survival rate seems to be highest in the infant age group (0-5], followed by (10-15], and seems to be roughly the same for other age groups but with varying degrees of confidence. <br/>\n",
    "\n",
    "For now I can keep it as a continuous variable, although it doesn't hurt to experiment with converting it to categorical. <br/>\n",
    "Check out [Discretization with Decision Trees](https://towardsdatascience.com/discretisation-using-decision-trees-21910483fa4b)"
   ]
  },
  {
   "cell_type": "markdown",
   "metadata": {},
   "source": [
    "#### Fare"
   ]
  },
  {
   "cell_type": "markdown",
   "metadata": {},
   "source": [
    "Let's see the distribution of Fare"
   ]
  },
  {
   "cell_type": "code",
   "execution_count": 48,
   "metadata": {
    "ExecuteTime": {
     "end_time": "2020-04-25T09:27:18.395473Z",
     "start_time": "2020-04-25T09:27:18.181266Z"
    }
   },
   "outputs": [
    {
     "data": {
      "image/png": "[encoded data removed]",
      "text/plain": [
       "<Figure size 432x288 with 1 Axes>"
      ]
     },
     "metadata": {
      "needs_background": "light"
     },
     "output_type": "display_data"
    }
   ],
   "source": [
    "sns.distplot(df.Fare);"
   ]
  },
  {
   "cell_type": "markdown",
   "metadata": {},
   "source": [
    "How does the distribution differ between those who Survived and those who didn't?\n",
    "\n",
    "[How to change figuresize using seaborn](https://stackoverflow.com/questions/26163702/how-to-change-figuresize-using-seaborn-factorplot)"
   ]
  },
  {
   "cell_type": "code",
   "execution_count": 49,
   "metadata": {
    "ExecuteTime": {
     "end_time": "2020-04-24T18:33:50.394951Z",
     "start_time": "2020-04-24T18:33:49.968380Z"
    }
   },
   "outputs": [
    {
     "data": {
      "image/png": "[encoded data removed]",
      "text/plain": [
       "<Figure size 720x360 with 2 Axes>"
      ]
     },
     "metadata": {
      "needs_background": "light"
     },
     "output_type": "display_data"
    }
   ],
   "source": [
    "g = sns.FacetGrid(df, col=\"Survived\", height=5)\n",
    "g.map(sns.distplot, 'Fare', kde=False);"
   ]
  },
  {
   "cell_type": "markdown",
   "metadata": {},
   "source": [
    "It seems in a certain age group in the young ages there was a high probability of dying but it's not entirely clear from here."
   ]
  },
  {
   "cell_type": "markdown",
   "metadata": {},
   "source": [
    "Looks like there are some people with 0 Fare. "
   ]
  },
  {
   "cell_type": "code",
   "execution_count": 50,
   "metadata": {
    "ExecuteTime": {
     "end_time": "2020-04-24T18:59:04.636873Z",
     "start_time": "2020-04-24T18:59:04.629195Z"
    }
   },
   "outputs": [
    {
     "data": {
      "text/plain": [
       "15"
      ]
     },
     "execution_count": 50,
     "metadata": {},
     "output_type": "execute_result"
    }
   ],
   "source": [
    "(df.Fare == 0).sum()"
   ]
  },
  {
   "cell_type": "markdown",
   "metadata": {},
   "source": [
    "Every one of them was male and looks like just 1 out of 15 survived. Seems like they worked on the ship and helped the passengers first before getting themselves to safety, and hence died."
   ]
  },
  {
   "cell_type": "code",
   "execution_count": 51,
   "metadata": {
    "ExecuteTime": {
     "end_time": "2020-04-24T19:03:25.533348Z",
     "start_time": "2020-04-24T19:03:25.497852Z"
    }
   },
   "outputs": [
    {
     "data": {
      "text/html": [
       "<div>\n",
       "<style scoped>\n",
       "    .dataframe tbody tr th:only-of-type {\n",
       "        vertical-align: middle;\n",
       "    }\n",
       "\n",
       "    .dataframe tbody tr th {\n",
       "        vertical-align: top;\n",
       "    }\n",
       "\n",
       "    .dataframe thead th {\n",
       "        text-align: right;\n",
       "    }\n",
       "</style>\n",
       "<table border=\"1\" class=\"dataframe\">\n",
       "  <thead>\n",
       "    <tr style=\"text-align: right;\">\n",
       "      <th></th>\n",
       "      <th>PassengerId</th>\n",
       "      <th>Survived</th>\n",
       "      <th>Pclass</th>\n",
       "      <th>Name</th>\n",
       "      <th>Sex</th>\n",
       "      <th>Age</th>\n",
       "      <th>SibSp</th>\n",
       "      <th>Parch</th>\n",
       "      <th>Ticket</th>\n",
       "      <th>Fare</th>\n",
       "      <th>Cabin</th>\n",
       "      <th>Embarked</th>\n",
       "    </tr>\n",
       "  </thead>\n",
       "  <tbody>\n",
       "    <tr>\n",
       "      <td>179</td>\n",
       "      <td>180</td>\n",
       "      <td>0</td>\n",
       "      <td>3</td>\n",
       "      <td>Leonard, Mr. Lionel</td>\n",
       "      <td>male</td>\n",
       "      <td>36.0</td>\n",
       "      <td>0</td>\n",
       "      <td>0</td>\n",
       "      <td>LINE</td>\n",
       "      <td>0.0</td>\n",
       "      <td>NaN</td>\n",
       "      <td>S</td>\n",
       "    </tr>\n",
       "    <tr>\n",
       "      <td>263</td>\n",
       "      <td>264</td>\n",
       "      <td>0</td>\n",
       "      <td>1</td>\n",
       "      <td>Harrison, Mr. William</td>\n",
       "      <td>male</td>\n",
       "      <td>40.0</td>\n",
       "      <td>0</td>\n",
       "      <td>0</td>\n",
       "      <td>112059</td>\n",
       "      <td>0.0</td>\n",
       "      <td>B94</td>\n",
       "      <td>S</td>\n",
       "    </tr>\n",
       "    <tr>\n",
       "      <td>271</td>\n",
       "      <td>272</td>\n",
       "      <td>1</td>\n",
       "      <td>3</td>\n",
       "      <td>Tornquist, Mr. William Henry</td>\n",
       "      <td>male</td>\n",
       "      <td>25.0</td>\n",
       "      <td>0</td>\n",
       "      <td>0</td>\n",
       "      <td>LINE</td>\n",
       "      <td>0.0</td>\n",
       "      <td>NaN</td>\n",
       "      <td>S</td>\n",
       "    </tr>\n",
       "    <tr>\n",
       "      <td>277</td>\n",
       "      <td>278</td>\n",
       "      <td>0</td>\n",
       "      <td>2</td>\n",
       "      <td>Parkes, Mr. Francis \"Frank\"</td>\n",
       "      <td>male</td>\n",
       "      <td>NaN</td>\n",
       "      <td>0</td>\n",
       "      <td>0</td>\n",
       "      <td>239853</td>\n",
       "      <td>0.0</td>\n",
       "      <td>NaN</td>\n",
       "      <td>S</td>\n",
       "    </tr>\n",
       "    <tr>\n",
       "      <td>302</td>\n",
       "      <td>303</td>\n",
       "      <td>0</td>\n",
       "      <td>3</td>\n",
       "      <td>Johnson, Mr. William Cahoone Jr</td>\n",
       "      <td>male</td>\n",
       "      <td>19.0</td>\n",
       "      <td>0</td>\n",
       "      <td>0</td>\n",
       "      <td>LINE</td>\n",
       "      <td>0.0</td>\n",
       "      <td>NaN</td>\n",
       "      <td>S</td>\n",
       "    </tr>\n",
       "    <tr>\n",
       "      <td>413</td>\n",
       "      <td>414</td>\n",
       "      <td>0</td>\n",
       "      <td>2</td>\n",
       "      <td>Cunningham, Mr. Alfred Fleming</td>\n",
       "      <td>male</td>\n",
       "      <td>NaN</td>\n",
       "      <td>0</td>\n",
       "      <td>0</td>\n",
       "      <td>239853</td>\n",
       "      <td>0.0</td>\n",
       "      <td>NaN</td>\n",
       "      <td>S</td>\n",
       "    </tr>\n",
       "    <tr>\n",
       "      <td>466</td>\n",
       "      <td>467</td>\n",
       "      <td>0</td>\n",
       "      <td>2</td>\n",
       "      <td>Campbell, Mr. William</td>\n",
       "      <td>male</td>\n",
       "      <td>NaN</td>\n",
       "      <td>0</td>\n",
       "      <td>0</td>\n",
       "      <td>239853</td>\n",
       "      <td>0.0</td>\n",
       "      <td>NaN</td>\n",
       "      <td>S</td>\n",
       "    </tr>\n",
       "    <tr>\n",
       "      <td>481</td>\n",
       "      <td>482</td>\n",
       "      <td>0</td>\n",
       "      <td>2</td>\n",
       "      <td>Frost, Mr. Anthony Wood \"Archie\"</td>\n",
       "      <td>male</td>\n",
       "      <td>NaN</td>\n",
       "      <td>0</td>\n",
       "      <td>0</td>\n",
       "      <td>239854</td>\n",
       "      <td>0.0</td>\n",
       "      <td>NaN</td>\n",
       "      <td>S</td>\n",
       "    </tr>\n",
       "    <tr>\n",
       "      <td>597</td>\n",
       "      <td>598</td>\n",
       "      <td>0</td>\n",
       "      <td>3</td>\n",
       "      <td>Johnson, Mr. Alfred</td>\n",
       "      <td>male</td>\n",
       "      <td>49.0</td>\n",
       "      <td>0</td>\n",
       "      <td>0</td>\n",
       "      <td>LINE</td>\n",
       "      <td>0.0</td>\n",
       "      <td>NaN</td>\n",
       "      <td>S</td>\n",
       "    </tr>\n",
       "    <tr>\n",
       "      <td>633</td>\n",
       "      <td>634</td>\n",
       "      <td>0</td>\n",
       "      <td>1</td>\n",
       "      <td>Parr, Mr. William Henry Marsh</td>\n",
       "      <td>male</td>\n",
       "      <td>NaN</td>\n",
       "      <td>0</td>\n",
       "      <td>0</td>\n",
       "      <td>112052</td>\n",
       "      <td>0.0</td>\n",
       "      <td>NaN</td>\n",
       "      <td>S</td>\n",
       "    </tr>\n",
       "    <tr>\n",
       "      <td>674</td>\n",
       "      <td>675</td>\n",
       "      <td>0</td>\n",
       "      <td>2</td>\n",
       "      <td>Watson, Mr. Ennis Hastings</td>\n",
       "      <td>male</td>\n",
       "      <td>NaN</td>\n",
       "      <td>0</td>\n",
       "      <td>0</td>\n",
       "      <td>239856</td>\n",
       "      <td>0.0</td>\n",
       "      <td>NaN</td>\n",
       "      <td>S</td>\n",
       "    </tr>\n",
       "    <tr>\n",
       "      <td>732</td>\n",
       "      <td>733</td>\n",
       "      <td>0</td>\n",
       "      <td>2</td>\n",
       "      <td>Knight, Mr. Robert J</td>\n",
       "      <td>male</td>\n",
       "      <td>NaN</td>\n",
       "      <td>0</td>\n",
       "      <td>0</td>\n",
       "      <td>239855</td>\n",
       "      <td>0.0</td>\n",
       "      <td>NaN</td>\n",
       "      <td>S</td>\n",
       "    </tr>\n",
       "    <tr>\n",
       "      <td>806</td>\n",
       "      <td>807</td>\n",
       "      <td>0</td>\n",
       "      <td>1</td>\n",
       "      <td>Andrews, Mr. Thomas Jr</td>\n",
       "      <td>male</td>\n",
       "      <td>39.0</td>\n",
       "      <td>0</td>\n",
       "      <td>0</td>\n",
       "      <td>112050</td>\n",
       "      <td>0.0</td>\n",
       "      <td>A36</td>\n",
       "      <td>S</td>\n",
       "    </tr>\n",
       "    <tr>\n",
       "      <td>815</td>\n",
       "      <td>816</td>\n",
       "      <td>0</td>\n",
       "      <td>1</td>\n",
       "      <td>Fry, Mr. Richard</td>\n",
       "      <td>male</td>\n",
       "      <td>NaN</td>\n",
       "      <td>0</td>\n",
       "      <td>0</td>\n",
       "      <td>112058</td>\n",
       "      <td>0.0</td>\n",
       "      <td>B102</td>\n",
       "      <td>S</td>\n",
       "    </tr>\n",
       "    <tr>\n",
       "      <td>822</td>\n",
       "      <td>823</td>\n",
       "      <td>0</td>\n",
       "      <td>1</td>\n",
       "      <td>Reuchlin, Jonkheer. John George</td>\n",
       "      <td>male</td>\n",
       "      <td>38.0</td>\n",
       "      <td>0</td>\n",
       "      <td>0</td>\n",
       "      <td>19972</td>\n",
       "      <td>0.0</td>\n",
       "      <td>NaN</td>\n",
       "      <td>S</td>\n",
       "    </tr>\n",
       "  </tbody>\n",
       "</table>\n",
       "</div>"
      ],
      "text/plain": [
       "     PassengerId  Survived  Pclass                              Name   Sex  \\\n",
       "179          180         0       3               Leonard, Mr. Lionel  male   \n",
       "263          264         0       1             Harrison, Mr. William  male   \n",
       "271          272         1       3      Tornquist, Mr. William Henry  male   \n",
       "277          278         0       2       Parkes, Mr. Francis \"Frank\"  male   \n",
       "302          303         0       3   Johnson, Mr. William Cahoone Jr  male   \n",
       "413          414         0       2    Cunningham, Mr. Alfred Fleming  male   \n",
       "466          467         0       2             Campbell, Mr. William  male   \n",
       "481          482         0       2  Frost, Mr. Anthony Wood \"Archie\"  male   \n",
       "597          598         0       3               Johnson, Mr. Alfred  male   \n",
       "633          634         0       1     Parr, Mr. William Henry Marsh  male   \n",
       "674          675         0       2        Watson, Mr. Ennis Hastings  male   \n",
       "732          733         0       2              Knight, Mr. Robert J  male   \n",
       "806          807         0       1            Andrews, Mr. Thomas Jr  male   \n",
       "815          816         0       1                  Fry, Mr. Richard  male   \n",
       "822          823         0       1   Reuchlin, Jonkheer. John George  male   \n",
       "\n",
       "      Age  SibSp  Parch  Ticket  Fare Cabin Embarked  \n",
       "179  36.0      0      0    LINE   0.0   NaN        S  \n",
       "263  40.0      0      0  112059   0.0   B94        S  \n",
       "271  25.0      0      0    LINE   0.0   NaN        S  \n",
       "277   NaN      0      0  239853   0.0   NaN        S  \n",
       "302  19.0      0      0    LINE   0.0   NaN        S  \n",
       "413   NaN      0      0  239853   0.0   NaN        S  \n",
       "466   NaN      0      0  239853   0.0   NaN        S  \n",
       "481   NaN      0      0  239854   0.0   NaN        S  \n",
       "597  49.0      0      0    LINE   0.0   NaN        S  \n",
       "633   NaN      0      0  112052   0.0   NaN        S  \n",
       "674   NaN      0      0  239856   0.0   NaN        S  \n",
       "732   NaN      0      0  239855   0.0   NaN        S  \n",
       "806  39.0      0      0  112050   0.0   A36        S  \n",
       "815   NaN      0      0  112058   0.0  B102        S  \n",
       "822  38.0      0      0   19972   0.0   NaN        S  "
      ]
     },
     "execution_count": 51,
     "metadata": {},
     "output_type": "execute_result"
    }
   ],
   "source": [
    "df.loc[df.Fare == 0, :]"
   ]
  },
  {
   "cell_type": "markdown",
   "metadata": {},
   "source": [
    "Or I can try Discretization with Decision Trees for Fare as well"
   ]
  },
  {
   "cell_type": "code",
   "execution_count": 52,
   "metadata": {
    "ExecuteTime": {
     "end_time": "2020-04-25T08:04:50.745648Z",
     "start_time": "2020-04-25T08:04:50.735255Z"
    }
   },
   "outputs": [],
   "source": [
    "def FE_Fare(series, bins=[-10, 0, 50, 100, 200]):\n",
    "    res = pd.cut(series, bins + [int(series.max()+1)], right=True)\n",
    "    res.cat.categories = [0] + res.cat.categories.to_list()[1:]\n",
    "    return res"
   ]
  },
  {
   "cell_type": "code",
   "execution_count": 53,
   "metadata": {
    "ExecuteTime": {
     "end_time": "2020-04-25T08:06:04.548379Z",
     "start_time": "2020-04-25T08:06:04.531164Z"
    }
   },
   "outputs": [],
   "source": [
    "Fare = FE_Fare(df.Fare, bins=[-10, 0, 10, 20, 50, 100, 200])"
   ]
  },
  {
   "cell_type": "code",
   "execution_count": 54,
   "metadata": {
    "ExecuteTime": {
     "end_time": "2020-04-25T08:06:05.583512Z",
     "start_time": "2020-04-25T08:06:05.424992Z"
    }
   },
   "outputs": [
    {
     "name": "stdout",
     "output_type": "stream",
     "text": [
      "The frequency of each category:\n",
      "(0, 10]       321\n",
      "(20, 50]      216\n",
      "(10, 20]      179\n",
      "(50, 100]     107\n",
      "(100, 200]     33\n",
      "(200, 513]     20\n",
      "0              15\n",
      "Name: Fare, dtype: int64\n",
      "\n",
      "The proportion of each category:\n",
      "(0, 10]       0.360269\n",
      "(20, 50]      0.242424\n",
      "(10, 20]      0.200898\n",
      "(50, 100]     0.120090\n",
      "(100, 200]    0.037037\n",
      "(200, 513]    0.022447\n",
      "0             0.016835\n",
      "Name: Fare, dtype: float64\n",
      "\n"
     ]
    },
    {
     "data": {
      "image/png": "[encoded data removed]",
      "text/plain": [
       "<Figure size 1440x72 with 1 Axes>"
      ]
     },
     "metadata": {
      "needs_background": "light"
     },
     "output_type": "display_data"
    }
   ],
   "source": [
    "plot_count(Fare);"
   ]
  },
  {
   "cell_type": "code",
   "execution_count": 55,
   "metadata": {
    "ExecuteTime": {
     "end_time": "2020-04-25T08:06:17.361430Z",
     "start_time": "2020-04-25T08:06:17.073060Z"
    }
   },
   "outputs": [
    {
     "data": {
      "image/png": "[encoded data removed]",
      "text/plain": [
       "<Figure size 864x288 with 1 Axes>"
      ]
     },
     "metadata": {
      "needs_background": "light"
     },
     "output_type": "display_data"
    }
   ],
   "source": [
    "g = plot_prob(Fare, df['Survived'])\n",
    "g.fig.set_size_inches(12, 4)"
   ]
  },
  {
   "cell_type": "markdown",
   "metadata": {},
   "source": [
    "So generally higher the Fare was paid more were the chances of survival"
   ]
  },
  {
   "cell_type": "markdown",
   "metadata": {},
   "source": [
    "#### Cabin"
   ]
  },
  {
   "cell_type": "code",
   "execution_count": 56,
   "metadata": {
    "ExecuteTime": {
     "end_time": "2020-04-25T08:09:44.545891Z",
     "start_time": "2020-04-25T08:09:44.532589Z"
    }
   },
   "outputs": [
    {
     "data": {
      "text/plain": [
       "0     NaN\n",
       "1     C85\n",
       "2     NaN\n",
       "3    C123\n",
       "4     NaN\n",
       "Name: Cabin, dtype: object"
      ]
     },
     "execution_count": 56,
     "metadata": {},
     "output_type": "execute_result"
    }
   ],
   "source": [
    "df.Cabin.head()"
   ]
  },
  {
   "cell_type": "markdown",
   "metadata": {},
   "source": [
    "Let's visualize the missing values"
   ]
  },
  {
   "cell_type": "code",
   "execution_count": 57,
   "metadata": {
    "ExecuteTime": {
     "end_time": "2020-04-25T08:10:29.307026Z",
     "start_time": "2020-04-25T08:10:28.986492Z"
    }
   },
   "outputs": [
    {
     "data": {
      "image/png": "[encoded data removed]",
      "text/plain": [
       "<Figure size 1800x720 with 2 Axes>"
      ]
     },
     "metadata": {
      "needs_background": "light"
     },
     "output_type": "display_data"
    }
   ],
   "source": [
    "missingno.matrix(pd.DataFrame(df.Cabin));"
   ]
  },
  {
   "cell_type": "markdown",
   "metadata": {},
   "source": [
    "The passengers having missing value for Cabin are those that didn't have a cabin, maybe making them more susceptible to not surviving?"
   ]
  },
  {
   "cell_type": "markdown",
   "metadata": {},
   "source": [
    "Let's see if having a Cabin had an effect on Survival probability"
   ]
  },
  {
   "cell_type": "code",
   "execution_count": 58,
   "metadata": {
    "ExecuteTime": {
     "end_time": "2020-04-25T08:14:46.686441Z",
     "start_time": "2020-04-25T08:14:46.682278Z"
    }
   },
   "outputs": [],
   "source": [
    "has_Cabin = ~df.Cabin.isna()"
   ]
  },
  {
   "cell_type": "markdown",
   "metadata": {},
   "source": [
    "Most passengers didn't have a Cabin"
   ]
  },
  {
   "cell_type": "code",
   "execution_count": 59,
   "metadata": {
    "ExecuteTime": {
     "end_time": "2020-04-25T09:26:28.962213Z",
     "start_time": "2020-04-25T09:26:28.834237Z"
    }
   },
   "outputs": [
    {
     "name": "stdout",
     "output_type": "stream",
     "text": [
      "The frequency of each category:\n",
      "False    687\n",
      "True     204\n",
      "Name: Cabin, dtype: int64\n",
      "\n",
      "The proportion of each category:\n",
      "False    0.771044\n",
      "True     0.228956\n",
      "Name: Cabin, dtype: float64\n",
      "\n"
     ]
    },
    {
     "data": {
      "image/png": "[encoded data removed]",
      "text/plain": [
       "<Figure size 1440x72 with 1 Axes>"
      ]
     },
     "metadata": {
      "needs_background": "light"
     },
     "output_type": "display_data"
    }
   ],
   "source": [
    "plot_count(has_Cabin);"
   ]
  },
  {
   "cell_type": "code",
   "execution_count": 60,
   "metadata": {
    "ExecuteTime": {
     "end_time": "2020-04-25T08:30:26.572260Z",
     "start_time": "2020-04-25T08:30:26.379298Z"
    }
   },
   "outputs": [
    {
     "name": "stdout",
     "output_type": "stream",
     "text": [
      "Cabin\n",
      "False    0.299854\n",
      "True     0.666667\n",
      "Name: Survived, dtype: float64\n"
     ]
    },
    {
     "data": {
      "image/png": "[encoded data removed]",
      "text/plain": [
       "<Figure size 360x360 with 1 Axes>"
      ]
     },
     "metadata": {
      "needs_background": "light"
     },
     "output_type": "display_data"
    }
   ],
   "source": [
    "print(df.Survived.groupby(has_Cabin).mean())\n",
    "plot_prob(has_Cabin, df.Survived);"
   ]
  },
  {
   "cell_type": "markdown",
   "metadata": {},
   "source": [
    "Not having a Cabin definitely impacted the Survival Chances. Note that these are conditional probabilities, i.e. given a person has Cabin there is \\~66.66% chance he survives, and given that a person does not have a Cabin there is \\~30% chance of surviving (AND NOT \\~(100-66.66)%)"
   ]
  },
  {
   "cell_type": "markdown",
   "metadata": {},
   "source": [
    "How do the entries in the Cabin look like?\n",
    "\n",
    "1. The entry nan corresponds to the passenger not having a Cabin\n",
    "2. The first letter of the Cabin might be important, [A, B, C, D, E, F] as it corresponds to deck level\n",
    "3. Some have purchased multiple Cabins? "
   ]
  },
  {
   "cell_type": "markdown",
   "metadata": {},
   "source": [
    "![](references/Titanic_Cabin_cutaway.png)"
   ]
  },
  {
   "cell_type": "code",
   "execution_count": 61,
   "metadata": {
    "ExecuteTime": {
     "end_time": "2020-04-25T08:35:15.977883Z",
     "start_time": "2020-04-25T08:35:15.966903Z"
    }
   },
   "outputs": [
    {
     "data": {
      "text/plain": [
       "array([nan, 'C85', 'C123', 'E46', 'G6', 'C103', 'D56', 'A6',\n",
       "       'C23 C25 C27', 'B78', 'D33', 'B30', 'C52', 'B28', 'C83', 'F33',\n",
       "       'F G73', 'E31', 'A5', 'D10 D12', 'D26', 'C110', 'B58 B60', 'E101',\n",
       "       'F E69', 'D47', 'B86', 'F2', 'C2', 'E33', 'B19', 'A7', 'C49', 'F4',\n",
       "       'A32', 'B4', 'B80', 'A31', 'D36', 'D15', 'C93', 'C78', 'D35',\n",
       "       'C87', 'B77', 'E67', 'B94', 'C125', 'C99', 'C118', 'D7', 'A19',\n",
       "       'B49', 'D', 'C22 C26', 'C106', 'C65', 'E36', 'C54',\n",
       "       'B57 B59 B63 B66', 'C7', 'E34', 'C32', 'B18', 'C124', 'C91', 'E40',\n",
       "       'T', 'C128', 'D37', 'B35', 'E50', 'C82', 'B96 B98', 'E10', 'E44',\n",
       "       'A34', 'C104', 'C111', 'C92', 'E38', 'D21', 'E12', 'E63', 'A14',\n",
       "       'B37', 'C30', 'D20', 'B79', 'E25', 'D46', 'B73', 'C95', 'B38',\n",
       "       'B39', 'B22', 'C86', 'C70', 'A16', 'C101', 'C68', 'A10', 'E68',\n",
       "       'B41', 'A20', 'D19', 'D50', 'D9', 'A23', 'B50', 'A26', 'D48',\n",
       "       'E58', 'C126', 'B71', 'B51 B53 B55', 'D49', 'B5', 'B20', 'F G63',\n",
       "       'C62 C64', 'E24', 'C90', 'C45', 'E8', 'B101', 'D45', 'C46', 'D30',\n",
       "       'E121', 'D11', 'E77', 'F38', 'B3', 'D6', 'B82 B84', 'D17', 'A36',\n",
       "       'B102', 'B69', 'E49', 'C47', 'D28', 'E17', 'A24', 'C50', 'B42',\n",
       "       'C148'], dtype=object)"
      ]
     },
     "execution_count": 61,
     "metadata": {},
     "output_type": "execute_result"
    }
   ],
   "source": [
    "df.Cabin.unique()"
   ]
  },
  {
   "cell_type": "markdown",
   "metadata": {},
   "source": [
    "Does Pclass roughly match with the deck levels?  Higher Deck levels corresponding to Upper class, then Middle and the lower decks to lower class?"
   ]
  },
  {
   "cell_type": "code",
   "execution_count": 62,
   "metadata": {
    "ExecuteTime": {
     "end_time": "2020-04-25T08:46:10.541887Z",
     "start_time": "2020-04-25T08:46:10.526441Z"
    }
   },
   "outputs": [
    {
     "data": {
      "text/plain": [
       "0      No Cabin\n",
       "1             C\n",
       "2      No Cabin\n",
       "3             C\n",
       "4      No Cabin\n",
       "         ...   \n",
       "886    No Cabin\n",
       "887           B\n",
       "888    No Cabin\n",
       "889           C\n",
       "890    No Cabin\n",
       "Name: Cabin, Length: 891, dtype: object"
      ]
     },
     "execution_count": 62,
     "metadata": {},
     "output_type": "execute_result"
    }
   ],
   "source": [
    "cabin_class = df.Cabin.str[0].fillna('No Cabin')\n",
    "cabin_class"
   ]
  },
  {
   "cell_type": "markdown",
   "metadata": {},
   "source": [
    "1. Lower class Pclass = 3 and Middle Class Pclass = 2, almost all had missing Cabin i.e. No Cabin\n",
    "2. Upper class occupied mostly Cabins A to E, with A being the richest? Does the Fare correspond to Cabin?\n",
    "3. However notice, that classifying the missing Cabin as No Cabin for these Upper class might be wrong.\n",
    "4. Since this feature is highly Associated with Pclass, including it or not might not make a huge difference."
   ]
  },
  {
   "cell_type": "code",
   "execution_count": 63,
   "metadata": {
    "ExecuteTime": {
     "end_time": "2020-04-25T08:47:06.575346Z",
     "start_time": "2020-04-25T08:47:06.535587Z"
    }
   },
   "outputs": [
    {
     "data": {
      "text/html": [
       "<div>\n",
       "<style scoped>\n",
       "    .dataframe tbody tr th:only-of-type {\n",
       "        vertical-align: middle;\n",
       "    }\n",
       "\n",
       "    .dataframe tbody tr th {\n",
       "        vertical-align: top;\n",
       "    }\n",
       "\n",
       "    .dataframe thead th {\n",
       "        text-align: right;\n",
       "    }\n",
       "</style>\n",
       "<table border=\"1\" class=\"dataframe\">\n",
       "  <thead>\n",
       "    <tr style=\"text-align: right;\">\n",
       "      <th>Cabin</th>\n",
       "      <th>A</th>\n",
       "      <th>B</th>\n",
       "      <th>C</th>\n",
       "      <th>D</th>\n",
       "      <th>E</th>\n",
       "      <th>F</th>\n",
       "      <th>G</th>\n",
       "      <th>No Cabin</th>\n",
       "      <th>T</th>\n",
       "    </tr>\n",
       "    <tr>\n",
       "      <th>Pclass</th>\n",
       "      <th></th>\n",
       "      <th></th>\n",
       "      <th></th>\n",
       "      <th></th>\n",
       "      <th></th>\n",
       "      <th></th>\n",
       "      <th></th>\n",
       "      <th></th>\n",
       "      <th></th>\n",
       "    </tr>\n",
       "  </thead>\n",
       "  <tbody>\n",
       "    <tr>\n",
       "      <td>1</td>\n",
       "      <td>15</td>\n",
       "      <td>47</td>\n",
       "      <td>59</td>\n",
       "      <td>29</td>\n",
       "      <td>25</td>\n",
       "      <td>0</td>\n",
       "      <td>0</td>\n",
       "      <td>40</td>\n",
       "      <td>1</td>\n",
       "    </tr>\n",
       "    <tr>\n",
       "      <td>2</td>\n",
       "      <td>0</td>\n",
       "      <td>0</td>\n",
       "      <td>0</td>\n",
       "      <td>4</td>\n",
       "      <td>4</td>\n",
       "      <td>8</td>\n",
       "      <td>0</td>\n",
       "      <td>168</td>\n",
       "      <td>0</td>\n",
       "    </tr>\n",
       "    <tr>\n",
       "      <td>3</td>\n",
       "      <td>0</td>\n",
       "      <td>0</td>\n",
       "      <td>0</td>\n",
       "      <td>0</td>\n",
       "      <td>3</td>\n",
       "      <td>5</td>\n",
       "      <td>4</td>\n",
       "      <td>479</td>\n",
       "      <td>0</td>\n",
       "    </tr>\n",
       "  </tbody>\n",
       "</table>\n",
       "</div>"
      ],
      "text/plain": [
       "Cabin    A   B   C   D   E  F  G  No Cabin  T\n",
       "Pclass                                       \n",
       "1       15  47  59  29  25  0  0        40  1\n",
       "2        0   0   0   4   4  8  0       168  0\n",
       "3        0   0   0   0   3  5  4       479  0"
      ]
     },
     "execution_count": 63,
     "metadata": {},
     "output_type": "execute_result"
    }
   ],
   "source": [
    "pd.crosstab(df.Pclass, cabin_class)"
   ]
  },
  {
   "cell_type": "markdown",
   "metadata": {},
   "source": [
    "It's obvious to see that these two variables are associated but still we can conduct a $\\chi^2$ test of independence "
   ]
  },
  {
   "cell_type": "code",
   "execution_count": 64,
   "metadata": {
    "ExecuteTime": {
     "end_time": "2020-04-25T09:04:15.457785Z",
     "start_time": "2020-04-25T09:04:15.453173Z"
    }
   },
   "outputs": [],
   "source": [
    "from scipy.stats import chi2_contingency"
   ]
  },
  {
   "cell_type": "code",
   "execution_count": 65,
   "metadata": {
    "ExecuteTime": {
     "end_time": "2020-04-25T09:05:01.528434Z",
     "start_time": "2020-04-25T09:05:01.494776Z"
    }
   },
   "outputs": [
    {
     "data": {
      "text/html": [
       "<div>\n",
       "<style scoped>\n",
       "    .dataframe tbody tr th:only-of-type {\n",
       "        vertical-align: middle;\n",
       "    }\n",
       "\n",
       "    .dataframe tbody tr th {\n",
       "        vertical-align: top;\n",
       "    }\n",
       "\n",
       "    .dataframe thead th {\n",
       "        text-align: right;\n",
       "    }\n",
       "</style>\n",
       "<table border=\"1\" class=\"dataframe\">\n",
       "  <thead>\n",
       "    <tr style=\"text-align: right;\">\n",
       "      <th>Cabin</th>\n",
       "      <th>A</th>\n",
       "      <th>B</th>\n",
       "      <th>C</th>\n",
       "      <th>D</th>\n",
       "      <th>E</th>\n",
       "      <th>F</th>\n",
       "      <th>G</th>\n",
       "      <th>No Cabin</th>\n",
       "    </tr>\n",
       "    <tr>\n",
       "      <th>Pclass</th>\n",
       "      <th></th>\n",
       "      <th></th>\n",
       "      <th></th>\n",
       "      <th></th>\n",
       "      <th></th>\n",
       "      <th></th>\n",
       "      <th></th>\n",
       "      <th></th>\n",
       "    </tr>\n",
       "  </thead>\n",
       "  <tbody>\n",
       "    <tr>\n",
       "      <td>1</td>\n",
       "      <td>15</td>\n",
       "      <td>47</td>\n",
       "      <td>59</td>\n",
       "      <td>29</td>\n",
       "      <td>25</td>\n",
       "      <td>0</td>\n",
       "      <td>0</td>\n",
       "      <td>40</td>\n",
       "    </tr>\n",
       "    <tr>\n",
       "      <td>2</td>\n",
       "      <td>0</td>\n",
       "      <td>0</td>\n",
       "      <td>0</td>\n",
       "      <td>4</td>\n",
       "      <td>4</td>\n",
       "      <td>8</td>\n",
       "      <td>0</td>\n",
       "      <td>168</td>\n",
       "    </tr>\n",
       "    <tr>\n",
       "      <td>3</td>\n",
       "      <td>0</td>\n",
       "      <td>0</td>\n",
       "      <td>0</td>\n",
       "      <td>0</td>\n",
       "      <td>3</td>\n",
       "      <td>5</td>\n",
       "      <td>4</td>\n",
       "      <td>479</td>\n",
       "    </tr>\n",
       "  </tbody>\n",
       "</table>\n",
       "</div>"
      ],
      "text/plain": [
       "Cabin    A   B   C   D   E  F  G  No Cabin\n",
       "Pclass                                    \n",
       "1       15  47  59  29  25  0  0        40\n",
       "2        0   0   0   4   4  8  0       168\n",
       "3        0   0   0   0   3  5  4       479"
      ]
     },
     "execution_count": 65,
     "metadata": {},
     "output_type": "execute_result"
    }
   ],
   "source": [
    "tab = pd.crosstab(df.Pclass, cabin_class)\n",
    "tab.drop(\"T\", axis=1, inplace=True)\n",
    "tab"
   ]
  },
  {
   "cell_type": "markdown",
   "metadata": {},
   "source": [
    "We got a very high $\\chi^2_{stat} \\approx 650.8$ and a very low pvalue. So definitely these two variables are associated."
   ]
  },
  {
   "cell_type": "code",
   "execution_count": 66,
   "metadata": {
    "ExecuteTime": {
     "end_time": "2020-04-25T09:05:17.856751Z",
     "start_time": "2020-04-25T09:05:17.840451Z"
    },
    "scrolled": true
   },
   "outputs": [
    {
     "data": {
      "text/plain": [
       "(650.7819779833426,\n",
       " 8.121703595150516e-130,\n",
       " 14,\n",
       " array([[  3.62359551,  11.35393258,  14.25280899,   7.97191011,\n",
       "           7.73033708,   3.14044944,   0.96629213, 165.96067416],\n",
       "        [  3.1011236 ,   9.71685393,  12.19775281,   6.82247191,\n",
       "           6.61573034,   2.68764045,   0.82696629, 142.03146067],\n",
       "        [  8.2752809 ,  25.92921348,  32.5494382 ,  18.20561798,\n",
       "          17.65393258,   7.17191011,   2.20674157, 379.00786517]]))"
      ]
     },
     "execution_count": 66,
     "metadata": {},
     "output_type": "execute_result"
    }
   ],
   "source": [
    "chi2_contingency(tab.values)"
   ]
  },
  {
   "cell_type": "markdown",
   "metadata": {},
   "source": [
    "Does Higher Fare correspond to the Higher Cabin Class?"
   ]
  },
  {
   "cell_type": "code",
   "execution_count": 67,
   "metadata": {
    "ExecuteTime": {
     "end_time": "2020-04-25T09:25:10.931747Z",
     "start_time": "2020-04-25T09:25:10.917720Z"
    }
   },
   "outputs": [],
   "source": [
    "from pandas.api.types import CategoricalDtype\n",
    "cabin_cat = CategoricalDtype(['A', 'B', 'C', 'D', 'E', 'F', 'No Cabin'], ordered=True)\n",
    "cabin_class = cabin_class.astype(cabin_cat)"
   ]
  },
  {
   "cell_type": "code",
   "execution_count": 138,
   "metadata": {
    "ExecuteTime": {
     "end_time": "2020-04-25T09:40:31.027710Z",
     "start_time": "2020-04-25T09:40:30.791148Z"
    }
   },
   "outputs": [
    {
     "data": {
      "image/png": "[encoded data removed]",
      "text/plain": [
       "<Figure size 432x288 with 1 Axes>"
      ]
     },
     "metadata": {
      "needs_background": "light"
     },
     "output_type": "display_data"
    }
   ],
   "source": [
    "sns.barplot(x=cabin_class, y=df.Fare);"
   ]
  },
  {
   "cell_type": "markdown",
   "metadata": {
    "ExecuteTime": {
     "end_time": "2020-04-25T09:25:46.878233Z",
     "start_time": "2020-04-25T09:25:46.864726Z"
    }
   },
   "source": [
    "The Fares seem to be in the order B > C > D > E > A > No Cabin > F"
   ]
  },
  {
   "cell_type": "code",
   "execution_count": 140,
   "metadata": {
    "ExecuteTime": {
     "end_time": "2020-04-25T09:42:24.882428Z",
     "start_time": "2020-04-25T09:42:24.738355Z"
    }
   },
   "outputs": [
    {
     "name": "stdout",
     "output_type": "stream",
     "text": [
      "The frequency of each category:\n",
      "No Cabin    687\n",
      "C            59\n",
      "B            47\n",
      "D            33\n",
      "E            32\n",
      "A            15\n",
      "F            13\n",
      "NaN           5\n",
      "Name: Cabin, dtype: int64\n",
      "\n",
      "The proportion of each category:\n",
      "No Cabin    0.771044\n",
      "C           0.066218\n",
      "B           0.052750\n",
      "D           0.037037\n",
      "E           0.035915\n",
      "A           0.016835\n",
      "F           0.014590\n",
      "NaN         0.005612\n",
      "Name: Cabin, dtype: float64\n",
      "\n"
     ]
    },
    {
     "data": {
      "image/png": "[encoded data removed]",
      "text/plain": [
       "<Figure size 1440x72 with 1 Axes>"
      ]
     },
     "metadata": {
      "needs_background": "light"
     },
     "output_type": "display_data"
    }
   ],
   "source": [
    "plot_count(cabin_class);"
   ]
  },
  {
   "cell_type": "markdown",
   "metadata": {},
   "source": [
    "So most had No Cabin, followed by C, B, D, E, A, F"
   ]
  },
  {
   "cell_type": "code",
   "execution_count": 142,
   "metadata": {
    "ExecuteTime": {
     "end_time": "2020-04-25T09:43:33.697009Z",
     "start_time": "2020-04-25T09:43:33.423693Z"
    }
   },
   "outputs": [
    {
     "data": {
      "image/png": "[encoded data removed]",
      "text/plain": [
       "<Figure size 360x360 with 1 Axes>"
      ]
     },
     "metadata": {
      "needs_background": "light"
     },
     "output_type": "display_data"
    }
   ],
   "source": [
    "plot_prob(cabin_class, df.Survived);"
   ]
  },
  {
   "cell_type": "markdown",
   "metadata": {},
   "source": [
    "The only thing we can definitely conclude is that passengers with No Cabin had the least Survival chances, rest of the estimates are too variable to reach a definite conclusion"
   ]
  },
  {
   "cell_type": "markdown",
   "metadata": {},
   "source": [
    "#### Name"
   ]
  },
  {
   "cell_type": "code",
   "execution_count": 143,
   "metadata": {
    "ExecuteTime": {
     "end_time": "2020-04-25T09:47:35.126758Z",
     "start_time": "2020-04-25T09:47:35.111712Z"
    }
   },
   "outputs": [
    {
     "data": {
      "text/plain": [
       "0                              Braund, Mr. Owen Harris\n",
       "1    Cumings, Mrs. John Bradley (Florence Briggs Th...\n",
       "2                               Heikkinen, Miss. Laina\n",
       "3         Futrelle, Mrs. Jacques Heath (Lily May Peel)\n",
       "4                             Allen, Mr. William Henry\n",
       "Name: Name, dtype: object"
      ]
     },
     "execution_count": 143,
     "metadata": {},
     "output_type": "execute_result"
    }
   ],
   "source": [
    "df.Name.head()"
   ]
  },
  {
   "cell_type": "markdown",
   "metadata": {},
   "source": [
    "Let's extract their titles"
   ]
  },
  {
   "cell_type": "code",
   "execution_count": 146,
   "metadata": {
    "ExecuteTime": {
     "end_time": "2020-04-25T09:49:22.748011Z",
     "start_time": "2020-04-25T09:49:22.740869Z"
    }
   },
   "outputs": [],
   "source": [
    "import re"
   ]
  },
  {
   "cell_type": "code",
   "execution_count": 150,
   "metadata": {
    "ExecuteTime": {
     "end_time": "2020-04-25T09:50:01.927175Z",
     "start_time": "2020-04-25T09:50:01.914274Z"
    }
   },
   "outputs": [
    {
     "data": {
      "text/plain": [
       "0        Mr\n",
       "1       Mrs\n",
       "2      Miss\n",
       "3       Mrs\n",
       "4        Mr\n",
       "       ... \n",
       "886     Rev\n",
       "887    Miss\n",
       "888    Miss\n",
       "889      Mr\n",
       "890      Mr\n",
       "Name: Name, Length: 891, dtype: object"
      ]
     },
     "execution_count": 150,
     "metadata": {},
     "output_type": "execute_result"
    }
   ],
   "source": [
    "titles = df.Name.apply(lambda x: re.search(' ([A-Z][a-z]+)\\.', x).group(1))\n",
    "titles"
   ]
  },
  {
   "cell_type": "code",
   "execution_count": 155,
   "metadata": {
    "ExecuteTime": {
     "end_time": "2020-04-25T09:52:56.281116Z",
     "start_time": "2020-04-25T09:52:56.066133Z"
    }
   },
   "outputs": [
    {
     "name": "stdout",
     "output_type": "stream",
     "text": [
      "The frequency of each category:\n",
      "Mr          517\n",
      "Miss        182\n",
      "Mrs         125\n",
      "Master       40\n",
      "Dr            7\n",
      "Rev           6\n",
      "Col           2\n",
      "Mlle          2\n",
      "Major         2\n",
      "Lady          1\n",
      "Ms            1\n",
      "Countess      1\n",
      "Don           1\n",
      "Capt          1\n",
      "Jonkheer      1\n",
      "Sir           1\n",
      "Mme           1\n",
      "Name: Name, dtype: int64\n",
      "\n",
      "The proportion of each category:\n",
      "Mr          0.580247\n",
      "Miss        0.204265\n",
      "Mrs         0.140292\n",
      "Master      0.044893\n",
      "Dr          0.007856\n",
      "Rev         0.006734\n",
      "Col         0.002245\n",
      "Mlle        0.002245\n",
      "Major       0.002245\n",
      "Lady        0.001122\n",
      "Ms          0.001122\n",
      "Countess    0.001122\n",
      "Don         0.001122\n",
      "Capt        0.001122\n",
      "Jonkheer    0.001122\n",
      "Sir         0.001122\n",
      "Mme         0.001122\n",
      "Name: Name, dtype: float64\n",
      "\n"
     ]
    },
    {
     "data": {
      "image/png": "[encoded data removed]",
      "text/plain": [
       "<Figure size 864x576 with 1 Axes>"
      ]
     },
     "metadata": {
      "needs_background": "light"
     },
     "output_type": "display_data"
    }
   ],
   "source": [
    "g = plot_count(titles)\n",
    "g.figure.set_size_inches(12, 8)"
   ]
  },
  {
   "cell_type": "markdown",
   "metadata": {},
   "source": [
    "1. Rename [Mlle, Ms] -> Miss\n",
    "2. Rename [Mme] -> Mrs\n",
    "3. Put the Rest -> Special"
   ]
  },
  {
   "cell_type": "code",
   "execution_count": 159,
   "metadata": {
    "ExecuteTime": {
     "end_time": "2020-04-25T10:02:51.737927Z",
     "start_time": "2020-04-25T10:02:51.730376Z"
    }
   },
   "outputs": [],
   "source": [
    "titles.replace(['Mlle', 'Ms'], 'Miss', inplace=True)\n",
    "titles.replace(['Mme'], 'Mrs', inplace=True)"
   ]
  },
  {
   "cell_type": "code",
   "execution_count": 160,
   "metadata": {
    "ExecuteTime": {
     "end_time": "2020-04-25T10:02:54.145803Z",
     "start_time": "2020-04-25T10:02:54.134101Z"
    }
   },
   "outputs": [
    {
     "data": {
      "text/plain": [
       "0        Mr\n",
       "1       Mrs\n",
       "2      Miss\n",
       "3       Mrs\n",
       "4        Mr\n",
       "       ... \n",
       "886     Rev\n",
       "887    Miss\n",
       "888    Miss\n",
       "889      Mr\n",
       "890      Mr\n",
       "Name: Name, Length: 891, dtype: object"
      ]
     },
     "execution_count": 160,
     "metadata": {},
     "output_type": "execute_result"
    }
   ],
   "source": [
    "titles"
   ]
  },
  {
   "cell_type": "code",
   "execution_count": 165,
   "metadata": {
    "ExecuteTime": {
     "end_time": "2020-04-25T10:04:42.256416Z",
     "start_time": "2020-04-25T10:04:42.250786Z"
    }
   },
   "outputs": [],
   "source": [
    "titles.loc[~titles.isin(['Mr', 'Mrs', 'Miss', 'Master'])] = 'Special'"
   ]
  },
  {
   "cell_type": "code",
   "execution_count": 167,
   "metadata": {
    "ExecuteTime": {
     "end_time": "2020-04-25T10:04:56.554985Z",
     "start_time": "2020-04-25T10:04:56.425083Z"
    }
   },
   "outputs": [
    {
     "name": "stdout",
     "output_type": "stream",
     "text": [
      "The frequency of each category:\n",
      "Mr         517\n",
      "Miss       185\n",
      "Mrs        126\n",
      "Master      40\n",
      "Special     23\n",
      "Name: Name, dtype: int64\n",
      "\n",
      "The proportion of each category:\n",
      "Mr         0.580247\n",
      "Miss       0.207632\n",
      "Mrs        0.141414\n",
      "Master     0.044893\n",
      "Special    0.025814\n",
      "Name: Name, dtype: float64\n",
      "\n"
     ]
    },
    {
     "data": {
      "image/png": "[encoded data removed]",
      "text/plain": [
       "<Figure size 1440x72 with 1 Axes>"
      ]
     },
     "metadata": {
      "needs_background": "light"
     },
     "output_type": "display_data"
    }
   ],
   "source": [
    "plot_count(titles);"
   ]
  },
  {
   "cell_type": "code",
   "execution_count": 170,
   "metadata": {
    "ExecuteTime": {
     "end_time": "2020-04-25T10:09:31.025776Z",
     "start_time": "2020-04-25T10:09:30.775971Z"
    }
   },
   "outputs": [
    {
     "data": {
      "image/png": "[encoded data removed]",
      "text/plain": [
       "<Figure size 360x360 with 1 Axes>"
      ]
     },
     "metadata": {
      "needs_background": "light"
     },
     "output_type": "display_data"
    }
   ],
   "source": [
    "plot_prob(titles, df.Survived);"
   ]
  },
  {
   "cell_type": "markdown",
   "metadata": {},
   "source": [
    "Mr survival chances are very low, Females (Mrs, Miss) had the highest survival chances, followed by Master then Special"
   ]
  },
  {
   "cell_type": "markdown",
   "metadata": {},
   "source": [
    "#### Embarked"
   ]
  },
  {
   "cell_type": "code",
   "execution_count": 194,
   "metadata": {
    "ExecuteTime": {
     "end_time": "2020-04-25T10:16:35.552080Z",
     "start_time": "2020-04-25T10:16:35.543495Z"
    }
   },
   "outputs": [
    {
     "data": {
      "text/plain": [
       "0      S\n",
       "1      C\n",
       "2      S\n",
       "3      S\n",
       "4      S\n",
       "      ..\n",
       "886    S\n",
       "887    S\n",
       "888    S\n",
       "889    C\n",
       "890    Q\n",
       "Name: Embarked, Length: 891, dtype: object"
      ]
     },
     "execution_count": 194,
     "metadata": {},
     "output_type": "execute_result"
    }
   ],
   "source": [
    "df.Embarked"
   ]
  },
  {
   "cell_type": "code",
   "execution_count": 195,
   "metadata": {
    "ExecuteTime": {
     "end_time": "2020-04-25T10:16:36.100387Z",
     "start_time": "2020-04-25T10:16:35.913231Z"
    },
    "scrolled": true
   },
   "outputs": [
    {
     "name": "stdout",
     "output_type": "stream",
     "text": [
      "The frequency of each category:\n",
      "S      644\n",
      "C      168\n",
      "Q       77\n",
      "NaN      2\n",
      "Name: Embarked, dtype: int64\n",
      "\n",
      "The proportion of each category:\n",
      "S      0.722783\n",
      "C      0.188552\n",
      "Q      0.086420\n",
      "NaN    0.002245\n",
      "Name: Embarked, dtype: float64\n",
      "\n"
     ]
    },
    {
     "data": {
      "image/png": "[encoded data removed]",
      "text/plain": [
       "<Figure size 1440x72 with 1 Axes>"
      ]
     },
     "metadata": {
      "needs_background": "light"
     },
     "output_type": "display_data"
    }
   ],
   "source": [
    "plot_count(df.Embarked);"
   ]
  },
  {
   "cell_type": "markdown",
   "metadata": {},
   "source": [
    "Most Embarked at Port S, then C, then Q"
   ]
  },
  {
   "cell_type": "code",
   "execution_count": 200,
   "metadata": {
    "ExecuteTime": {
     "end_time": "2020-04-25T10:17:56.592275Z",
     "start_time": "2020-04-25T10:17:56.321405Z"
    }
   },
   "outputs": [
    {
     "data": {
      "image/png": "[encoded data removed]",
      "text/plain": [
       "<Figure size 360x360 with 1 Axes>"
      ]
     },
     "metadata": {
      "needs_background": "light"
     },
     "output_type": "display_data"
    }
   ],
   "source": [
    "plot_prob('Embarked', 'Survived', df);"
   ]
  },
  {
   "cell_type": "markdown",
   "metadata": {},
   "source": [
    "Highest probability of survival was for Port C, then Port Q, then Port S"
   ]
  },
  {
   "cell_type": "markdown",
   "metadata": {},
   "source": [
    "#### Ticket"
   ]
  },
  {
   "cell_type": "code",
   "execution_count": 210,
   "metadata": {
    "ExecuteTime": {
     "end_time": "2020-04-25T10:38:46.779697Z",
     "start_time": "2020-04-25T10:38:46.768050Z"
    }
   },
   "outputs": [
    {
     "data": {
      "text/plain": [
       "0             A/5 21171\n",
       "1              PC 17599\n",
       "2      STON/O2. 3101282\n",
       "3                113803\n",
       "4                373450\n",
       "             ...       \n",
       "886              211536\n",
       "887              112053\n",
       "888          W./C. 6607\n",
       "889              111369\n",
       "890              370376\n",
       "Name: Ticket, Length: 891, dtype: object"
      ]
     },
     "execution_count": 210,
     "metadata": {},
     "output_type": "execute_result"
    }
   ],
   "source": [
    "df.Ticket"
   ]
  },
  {
   "cell_type": "code",
   "execution_count": 214,
   "metadata": {
    "ExecuteTime": {
     "end_time": "2020-04-25T10:39:28.340343Z",
     "start_time": "2020-04-25T10:39:28.326271Z"
    }
   },
   "outputs": [],
   "source": [
    "ticket_type = df.Ticket.str.strip().str.split(' ').str[0]\n"
   ]
  },
  {
   "cell_type": "code",
   "execution_count": 217,
   "metadata": {
    "ExecuteTime": {
     "end_time": "2020-04-25T10:39:52.089462Z",
     "start_time": "2020-04-25T10:39:52.082251Z"
    }
   },
   "outputs": [],
   "source": [
    "ticket_type.loc[ticket_type.str.isdigit()] = 'other'"
   ]
  },
  {
   "cell_type": "code",
   "execution_count": 221,
   "metadata": {
    "ExecuteTime": {
     "end_time": "2020-04-25T10:47:05.610217Z",
     "start_time": "2020-04-25T10:47:05.600469Z"
    }
   },
   "outputs": [
    {
     "data": {
      "text/plain": [
       "0          A/5\n",
       "1           PC\n",
       "2      STON/O2\n",
       "3        other\n",
       "4        other\n",
       "        ...   \n",
       "886      other\n",
       "887      other\n",
       "888        W/C\n",
       "889      other\n",
       "890      other\n",
       "Name: Ticket, Length: 891, dtype: object"
      ]
     },
     "execution_count": 221,
     "metadata": {},
     "output_type": "execute_result"
    }
   ],
   "source": [
    "ticket_type = ticket_type.str.replace(r'\\.', '')\n",
    "ticket_type"
   ]
  },
  {
   "cell_type": "code",
   "execution_count": 225,
   "metadata": {
    "ExecuteTime": {
     "end_time": "2020-04-25T10:47:48.131946Z",
     "start_time": "2020-04-25T10:47:48.125173Z"
    }
   },
   "outputs": [],
   "source": [
    "ticket_type = ticket_type.str.upper()\n"
   ]
  },
  {
   "cell_type": "code",
   "execution_count": 227,
   "metadata": {
    "ExecuteTime": {
     "end_time": "2020-04-25T10:47:53.158932Z",
     "start_time": "2020-04-25T10:47:52.874073Z"
    }
   },
   "outputs": [
    {
     "name": "stdout",
     "output_type": "stream",
     "text": [
      "The frequency of each category:\n",
      "OTHER       661\n",
      "PC           60\n",
      "CA           41\n",
      "A/5          19\n",
      "SOTON/OQ     15\n",
      "STON/O       12\n",
      "SC/PARIS     11\n",
      "W/C          10\n",
      "A/4           6\n",
      "STON/O2       6\n",
      "SOC           5\n",
      "FCC           5\n",
      "C             5\n",
      "LINE          4\n",
      "SC/AH         3\n",
      "SO/PP         3\n",
      "PP            3\n",
      "SOTON/O2      2\n",
      "WE/P          2\n",
      "A5            2\n",
      "SW/PP         2\n",
      "P/PP          2\n",
      "WEP           1\n",
      "CA/SOTON      1\n",
      "SC/A4         1\n",
      "FA            1\n",
      "A4            1\n",
      "FC            1\n",
      "SC            1\n",
      "SO/C          1\n",
      "A/S           1\n",
      "SOP           1\n",
      "SCO/W         1\n",
      "SP            1\n",
      "Name: Ticket, dtype: int64\n",
      "\n",
      "The proportion of each category:\n",
      "OTHER       0.741863\n",
      "PC          0.067340\n",
      "CA          0.046016\n",
      "A/5         0.021324\n",
      "SOTON/OQ    0.016835\n",
      "STON/O      0.013468\n",
      "SC/PARIS    0.012346\n",
      "W/C         0.011223\n",
      "A/4         0.006734\n",
      "STON/O2     0.006734\n",
      "SOC         0.005612\n",
      "FCC         0.005612\n",
      "C           0.005612\n",
      "LINE        0.004489\n",
      "SC/AH       0.003367\n",
      "SO/PP       0.003367\n",
      "PP          0.003367\n",
      "SOTON/O2    0.002245\n",
      "WE/P        0.002245\n",
      "A5          0.002245\n",
      "SW/PP       0.002245\n",
      "P/PP        0.002245\n",
      "WEP         0.001122\n",
      "CA/SOTON    0.001122\n",
      "SC/A4       0.001122\n",
      "FA          0.001122\n",
      "A4          0.001122\n",
      "FC          0.001122\n",
      "SC          0.001122\n",
      "SO/C        0.001122\n",
      "A/S         0.001122\n",
      "SOP         0.001122\n",
      "SCO/W       0.001122\n",
      "SP          0.001122\n",
      "Name: Ticket, dtype: float64\n",
      "\n"
     ]
    },
    {
     "data": {
      "text/plain": [
       "<matplotlib.axes._subplots.AxesSubplot at 0x7fec8fd30050>"
      ]
     },
     "execution_count": 227,
     "metadata": {},
     "output_type": "execute_result"
    },
    {
     "data": {
      "image/png": "[encoded data removed]",
      "text/plain": [
       "<Figure size 1440x72 with 1 Axes>"
      ]
     },
     "metadata": {
      "needs_background": "light"
     },
     "output_type": "display_data"
    }
   ],
   "source": [
    "plot_count(ticket_type)"
   ]
  },
  {
   "cell_type": "markdown",
   "metadata": {},
   "source": [
    "Too many categories. Might want to dedicate a separate notebook for extracting good features"
   ]
  },
  {
   "cell_type": "code",
   "execution_count": 232,
   "metadata": {
    "ExecuteTime": {
     "end_time": "2020-04-25T10:50:05.039824Z",
     "start_time": "2020-04-25T10:50:04.380174Z"
    }
   },
   "outputs": [
    {
     "data": {
      "image/png": "[encoded data removed]",
      "text/plain": [
       "<Figure size 1440x576 with 1 Axes>"
      ]
     },
     "metadata": {
      "needs_background": "light"
     },
     "output_type": "display_data"
    }
   ],
   "source": [
    "g = plot_prob(ticket_type, df.Survived)\n",
    "g.fig.set_size_inches(20, 8)"
   ]
  }
 ],
 "metadata": {
  "kernelspec": {
   "display_name": "Python [conda env:ds]",
   "language": "python",
   "name": "conda-env-ds-py"
  },
  "language_info": {
   "codemirror_mode": {
    "name": "ipython",
    "version": 3
   },
   "file_extension": ".py",
   "mimetype": "text/x-python",
   "name": "python",
   "nbconvert_exporter": "python",
   "pygments_lexer": "ipython3",
   "version": "3.7.4"
  },
  "toc": {
   "base_numbering": 1,
   "nav_menu": {},
   "number_sections": true,
   "sideBar": true,
   "skip_h1_title": false,
   "title_cell": "Table of Contents",
   "title_sidebar": "Contents",
   "toc_cell": false,
   "toc_position": {},
   "toc_section_display": true,
   "toc_window_display": false
  }
 },
 "nbformat": 4,
 "nbformat_minor": 2
}
