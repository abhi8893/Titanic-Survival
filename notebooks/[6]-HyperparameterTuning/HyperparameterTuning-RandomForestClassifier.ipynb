{
 "cells": [
  {
   "cell_type": "markdown",
   "metadata": {},
   "source": [
    "# `RandomForestClassifier` - HyperparameterTuning"
   ]
  },
  {
   "cell_type": "code",
   "execution_count": 32,
   "metadata": {
    "ExecuteTime": {
     "end_time": "2020-05-17T11:02:55.337281Z",
     "start_time": "2020-05-17T11:02:55.318639Z"
    }
   },
   "outputs": [],
   "source": [
    "from sklearn.ensemble import RandomForestClassifier\n",
    "from src.preprocessing import Passthrough\n",
    "from sklearn.pipeline import Pipeline, make_pipeline\n",
    "from src.utils import print_params\n",
    "from sklearn.model_selection import cross_val_score, GridSearchCV, RandomizedSearchCV\n",
    "from sklearn.model_selection import StratifiedKFold\n",
    "import seaborn as sns\n",
    "\n",
    "import matplotlib.pyplot as plt"
   ]
  },
  {
   "cell_type": "markdown",
   "metadata": {},
   "source": [
    "## Load the data"
   ]
  },
  {
   "cell_type": "code",
   "execution_count": 33,
   "metadata": {
    "ExecuteTime": {
     "end_time": "2020-05-17T11:02:56.138267Z",
     "start_time": "2020-05-17T11:02:56.106169Z"
    }
   },
   "outputs": [],
   "source": [
    "import pandas as pd\n",
    "import numpy as np\n",
    "from src.utils import load_data\n",
    "df = load_data()\n",
    "dfX, dfy = load_data(return_X_y=True)"
   ]
  },
  {
   "cell_type": "markdown",
   "metadata": {},
   "source": [
    "## Import the `DataPipeline`"
   ]
  },
  {
   "cell_type": "code",
   "execution_count": 34,
   "metadata": {
    "ExecuteTime": {
     "end_time": "2020-05-17T11:02:56.573464Z",
     "start_time": "2020-05-17T11:02:56.565277Z"
    }
   },
   "outputs": [],
   "source": [
    "from src.pipeline import dp2 as dp"
   ]
  },
  {
   "cell_type": "code",
   "execution_count": 35,
   "metadata": {
    "ExecuteTime": {
     "end_time": "2020-05-17T11:02:56.756860Z",
     "start_time": "2020-05-17T11:02:56.751182Z"
    }
   },
   "outputs": [
    {
     "data": {
      "text/markdown": [
       "\n",
       "1. `Embarked`: Dropped NA rows and applied OneHotEncoding\n",
       "2. `Age`: Mean imputation with SimpleImputer \n",
       "3. `Sex`: OneHotEncoding\n",
       "4. `Name`: Categorised into ['Mr', 'Mrs', 'Miss', 'Master', 'Special']<br/> \n",
       "    5.1 Rename [Mlle, Ms] -> Miss      \n",
       "    5.2 Rename [Mme] -> Mrs     \n",
       "    5.3 Put the Rest -> other     \n",
       "    Then performed OneHotEncoding\n",
       "5. `Ticket`: categorized into [1: numeric, 0: else] <br/>\n",
       "    6.1 Remove special characters but not space <br/>\n",
       "    6.2 Replace numeric strings by 'numeric' <br/>\n",
       "    6.3 Split on space and keep the first item <br/>\n",
       " Then applied binarizer for [1: numeric, 0: else]\n",
       "6. `SibSp`: binned into [0, 1, >1] using SibSpBinner\n",
       "7. `Parch`: binned into [0, 1, >1] using ParchBinner\n",
       "8. Scaling all features at the last using StandardScaler\n",
       "\n",
       "**MLmodel:** `SVC`\n"
      ],
      "text/plain": [
       "<IPython.core.display.Markdown object>"
      ]
     },
     "metadata": {},
     "output_type": "display_data"
    }
   ],
   "source": [
    "dp.get_description(markdown=True)"
   ]
  },
  {
   "cell_type": "code",
   "execution_count": 36,
   "metadata": {
    "ExecuteTime": {
     "end_time": "2020-05-17T11:02:56.968522Z",
     "start_time": "2020-05-17T11:02:56.960673Z"
    }
   },
   "outputs": [],
   "source": [
    "dp.mlmodel = RandomForestClassifier(random_state=1, oob_score=True)\n",
    "pipe = dp.get_pipeline()"
   ]
  },
  {
   "cell_type": "markdown",
   "metadata": {},
   "source": [
    "## Fit the `RandomForestClassifer` and get the `tree`"
   ]
  },
  {
   "cell_type": "code",
   "execution_count": 146,
   "metadata": {
    "ExecuteTime": {
     "end_time": "2020-05-17T15:21:26.276791Z",
     "start_time": "2020-05-17T15:21:26.266699Z"
    }
   },
   "outputs": [],
   "source": [
    "from src.utils import get_training_cv_score, get_best_param_score\n",
    "from sklearn.model_selection import RepeatedStratifiedKFold\n",
    "skf = StratifiedKFold(n_splits=5)\n",
    "rskf = RepeatedStratifiedKFold(n_repeats=3, random_state=1)\n",
    "import sklearn"
   ]
  },
  {
   "cell_type": "code",
   "execution_count": 45,
   "metadata": {
    "ExecuteTime": {
     "end_time": "2020-05-17T12:46:09.301594Z",
     "start_time": "2020-05-17T12:46:09.035726Z"
    }
   },
   "outputs": [],
   "source": [
    "pipe.fit(dfX, dfy);"
   ]
  },
  {
   "cell_type": "code",
   "execution_count": 46,
   "metadata": {
    "ExecuteTime": {
     "end_time": "2020-05-17T12:46:09.851000Z",
     "start_time": "2020-05-17T12:46:09.842359Z"
    }
   },
   "outputs": [],
   "source": [
    "ml = pipe.named_steps['ml']"
   ]
  },
  {
   "cell_type": "code",
   "execution_count": 47,
   "metadata": {
    "ExecuteTime": {
     "end_time": "2020-05-17T12:46:10.415746Z",
     "start_time": "2020-05-17T12:46:10.400459Z"
    }
   },
   "outputs": [
    {
     "data": {
      "text/plain": [
       "0.819304152637486"
      ]
     },
     "execution_count": 47,
     "metadata": {},
     "output_type": "execute_result"
    }
   ],
   "source": [
    "ml.oob_score_"
   ]
  },
  {
   "cell_type": "code",
   "execution_count": 147,
   "metadata": {
    "ExecuteTime": {
     "end_time": "2020-05-17T15:21:27.581537Z",
     "start_time": "2020-05-17T15:21:27.572088Z"
    }
   },
   "outputs": [
    {
     "data": {
      "text/plain": [
       "['accuracy',\n",
       " 'adjusted_mutual_info_score',\n",
       " 'adjusted_rand_score',\n",
       " 'average_precision',\n",
       " 'balanced_accuracy',\n",
       " 'completeness_score',\n",
       " 'explained_variance',\n",
       " 'f1',\n",
       " 'f1_macro',\n",
       " 'f1_micro',\n",
       " 'f1_samples',\n",
       " 'f1_weighted',\n",
       " 'fowlkes_mallows_score',\n",
       " 'homogeneity_score',\n",
       " 'jaccard',\n",
       " 'jaccard_macro',\n",
       " 'jaccard_micro',\n",
       " 'jaccard_samples',\n",
       " 'jaccard_weighted',\n",
       " 'max_error',\n",
       " 'mutual_info_score',\n",
       " 'neg_brier_score',\n",
       " 'neg_log_loss',\n",
       " 'neg_mean_absolute_error',\n",
       " 'neg_mean_gamma_deviance',\n",
       " 'neg_mean_poisson_deviance',\n",
       " 'neg_mean_squared_error',\n",
       " 'neg_mean_squared_log_error',\n",
       " 'neg_median_absolute_error',\n",
       " 'neg_root_mean_squared_error',\n",
       " 'normalized_mutual_info_score',\n",
       " 'precision',\n",
       " 'precision_macro',\n",
       " 'precision_micro',\n",
       " 'precision_samples',\n",
       " 'precision_weighted',\n",
       " 'r2',\n",
       " 'recall',\n",
       " 'recall_macro',\n",
       " 'recall_micro',\n",
       " 'recall_samples',\n",
       " 'recall_weighted',\n",
       " 'roc_auc',\n",
       " 'roc_auc_ovo',\n",
       " 'roc_auc_ovo_weighted',\n",
       " 'roc_auc_ovr',\n",
       " 'roc_auc_ovr_weighted',\n",
       " 'v_measure_score']"
      ]
     },
     "execution_count": 147,
     "metadata": {},
     "output_type": "execute_result"
    }
   ],
   "source": [
    "sorted(sklearn.metrics.SCORERS.keys())"
   ]
  },
  {
   "cell_type": "code",
   "execution_count": 150,
   "metadata": {
    "ExecuteTime": {
     "end_time": "2020-05-17T15:22:21.530834Z",
     "start_time": "2020-05-17T15:22:19.280580Z"
    }
   },
   "outputs": [
    {
     "name": "stdout",
     "output_type": "stream",
     "text": [
      "Training score: 0.9012345679012346\n",
      "crossvalidation score: 0.7602224181479184\n"
     ]
    }
   ],
   "source": [
    "get_training_cv_score(pipe, dfX, dfy, cv=skf, scoring='f1')"
   ]
  },
  {
   "cell_type": "markdown",
   "metadata": {},
   "source": [
    "## Generate the `param_grid`"
   ]
  },
  {
   "cell_type": "code",
   "execution_count": 151,
   "metadata": {
    "ExecuteTime": {
     "end_time": "2020-05-17T15:27:39.590006Z",
     "start_time": "2020-05-17T15:27:39.572582Z"
    }
   },
   "outputs": [],
   "source": [
    "from src.tune import load_hyperparams_mlmodel\n",
    "from sklearn.model_selection import ParameterGrid\n",
    "from src.utils import get_training_cv_score, get_best_param_score"
   ]
  },
  {
   "cell_type": "code",
   "execution_count": 152,
   "metadata": {
    "ExecuteTime": {
     "end_time": "2020-05-17T15:27:41.097124Z",
     "start_time": "2020-05-17T15:27:41.045403Z"
    }
   },
   "outputs": [
    {
     "data": {
      "text/plain": [
       "{'ml': [RandomForestClassifier(bootstrap=True, ccp_alpha=0.0, class_weight=None,\n",
       "                         criterion='gini', max_depth=None, max_features='auto',\n",
       "                         max_leaf_nodes=None, max_samples=None,\n",
       "                         min_impurity_decrease=0.0, min_impurity_split=None,\n",
       "                         min_samples_leaf=1, min_samples_split=2,\n",
       "                         min_weight_fraction_leaf=0.0, n_estimators=100,\n",
       "                         n_jobs=None, oob_score=False, random_state=None,\n",
       "                         verbose=0, warm_start=False)],\n",
       " 'ml__max_depth': array([ 4.,  7., 12., 21., 35.]),\n",
       " 'ml__min_samples_split': [0.01, 0.03, 0.05, 0.07, 0.1, 0.2],\n",
       " 'ml__min_samples_leaf': [2, 5, 10, 20, 40],\n",
       " 'ml__max_features': ['sqrt', 'log2', None, 0.1, 0.3, 0.5, 0.7],\n",
       " 'ml__bootstrap': [True, False],\n",
       " 'ml__n_estimators': [10, 50, 100, 500, 1000],\n",
       " 'ml__oob_score': [True, False]}"
      ]
     },
     "execution_count": 152,
     "metadata": {},
     "output_type": "execute_result"
    }
   ],
   "source": [
    "hyperparams = load_hyperparams_mlmodel()\n",
    "hyperparams['RandomForestClassifier']"
   ]
  },
  {
   "cell_type": "code",
   "execution_count": 154,
   "metadata": {
    "ExecuteTime": {
     "end_time": "2020-05-17T15:30:03.300009Z",
     "start_time": "2020-05-17T15:30:03.293864Z"
    }
   },
   "outputs": [],
   "source": [
    "param_grid = {'ml': [RandomForestClassifier(random_state=1)],\n",
    "              'ml__max_depth': [4.0, 6.0, 8.0, 12.0, 16.0, None],\n",
    "              'ml__min_samples_split': [2, 5, 10],\n",
    "              'ml__min_samples_leaf': [2, 5, 10, 20, 40],\n",
    "              'ml__max_features': ['sqrt'],\n",
    "              'ml__n_estimators': [10, 50, 100, 200]\n",
    "             }"
   ]
  },
  {
   "cell_type": "markdown",
   "metadata": {},
   "source": [
    "### Check the length of the `param_grid`. Is it too big for `GridSearchCV`?"
   ]
  },
  {
   "cell_type": "code",
   "execution_count": 155,
   "metadata": {
    "ExecuteTime": {
     "end_time": "2020-05-17T15:30:03.946861Z",
     "start_time": "2020-05-17T15:30:03.938592Z"
    }
   },
   "outputs": [
    {
     "data": {
      "text/plain": [
       "360"
      ]
     },
     "execution_count": 155,
     "metadata": {},
     "output_type": "execute_result"
    }
   ],
   "source": [
    "len(ParameterGrid(param_grid))"
   ]
  },
  {
   "cell_type": "markdown",
   "metadata": {},
   "source": [
    "## `RandomizedSearchCV`"
   ]
  },
  {
   "cell_type": "code",
   "execution_count": 157,
   "metadata": {
    "ExecuteTime": {
     "end_time": "2020-05-17T15:45:04.958900Z",
     "start_time": "2020-05-17T15:31:53.706624Z"
    }
   },
   "outputs": [
    {
     "name": "stdout",
     "output_type": "stream",
     "text": [
      "Best param: {'ml': RandomForestClassifier(bootstrap=True, ccp_alpha=0.0, class_weight=None,\n",
      "                       criterion='gini', max_depth=12.0, max_features='sqrt',\n",
      "                       max_leaf_nodes=None, max_samples=None,\n",
      "                       min_impurity_decrease=0.0, min_impurity_split=None,\n",
      "                       min_samples_leaf=2, min_samples_split=5,\n",
      "                       min_weight_fraction_leaf=0.0, n_estimators=10,\n",
      "                       n_jobs=None, oob_score=False, random_state=1, verbose=0,\n",
      "                       warm_start=False), 'ml__max_depth': 12.0, 'ml__max_features': 'sqrt', 'ml__min_samples_leaf': 2, 'ml__min_samples_split': 5, 'ml__n_estimators': 10}\n",
      "Best score: 0.7671135478757983\n",
      "CPU times: user 12min 52s, sys: 4.58 s, total: 12min 56s\n",
      "Wall time: 13min 11s\n"
     ]
    }
   ],
   "source": [
    "%%time\n",
    "grid_search = GridSearchCV(pipe, param_grid, cv=skf, return_train_score=True, \n",
    "                           scoring=['accuracy', 'f1', 'roc_auc', \n",
    "                                    'precision', 'recall'], refit='f1')\n",
    "grid_search.fit(dfX, dfy)\n",
    "get_best_param_score(grid_search)"
   ]
  },
  {
   "cell_type": "code",
   "execution_count": 158,
   "metadata": {
    "ExecuteTime": {
     "end_time": "2020-05-17T15:45:12.059662Z",
     "start_time": "2020-05-17T15:45:11.461630Z"
    }
   },
   "outputs": [
    {
     "name": "stdout",
     "output_type": "stream",
     "text": [
      "Training score: 0.9012345679012346\n",
      "crossvalidation score: 0.8350260498399347\n"
     ]
    }
   ],
   "source": [
    "pipe = grid_search.best_estimator_\n",
    "get_training_cv_score(pipe, dfX, dfy, cv=skf)"
   ]
  },
  {
   "cell_type": "code",
   "execution_count": 303,
   "metadata": {
    "ExecuteTime": {
     "end_time": "2020-05-17T16:32:30.448736Z",
     "start_time": "2020-05-17T16:32:30.420258Z"
    }
   },
   "outputs": [],
   "source": [
    "from src.featurization import NameTitleExtractor, CabinTypeExtractor, TicketTypeExtractor\n",
    "from src.featurization import SibSpBinner, ParchBinner \n",
    "from sklearn.preprocessing import OneHotEncoder, StandardScaler, FunctionTransformer\n",
    "from sklearn.impute import SimpleImputer\n",
    "from sklearn.compose import ColumnTransformer\n",
    "from sklearn.pipeline import Pipeline\n",
    "from sklearn.svm import SVC\n",
    "from src.preprocessing import NaNDropper\n",
    "from sklearn.feature_selection import SelectFromModel, SelectKBest\n",
    "from sklearn.svm import LinearSVC, SVC\n",
    "\n",
    "from src.featurization import familySize, numCabin\n",
    "\n",
    "\n",
    "prepare_data = Pipeline([\n",
    "    ('nan_drpr', NaNDropper(['Embarked']))\n",
    "])\n",
    "\n",
    "\n",
    "imp_enc = Pipeline([\n",
    "    ('imp', SimpleImputer(strategy='most_frequent')),\n",
    "    ('enc', OneHotEncoder())\n",
    "])\n",
    "\n",
    "\n",
    "preprocess_noscale = ColumnTransformer([\n",
    "    ('enc', OneHotEncoder(drop='first'), ['Sex']),\n",
    "    ('imp_enc', imp_enc, ['Embarked']),\n",
    "    ('imp', SimpleImputer(), ['Age', 'Fare']),\n",
    "    ('pre_Name', NameTitleExtractor(), 'Name'),\n",
    "    ('cabin_type', CabinTypeExtractor(), 'Cabin'),\n",
    "    ('pre_Ticket', 'drop', 'Ticket'),\n",
    "    ('pre_SibSp', SibSpBinner(), ['SibSp']),\n",
    "    ('pre_Parch', ParchBinner(), ['Parch']),\n",
    "#     ('familySize', familySize, ['SibSp', 'Parch']),\n",
    "    ('numCabin', numCabin, 'Cabin')\n",
    "], \n",
    "    'passthrough')\n",
    "\n",
    "preprocess_data = Pipeline([\n",
    "    ('clmn_trnsfrm', preprocess_noscale),\n",
    "    ('scale', StandardScaler()),\n",
    "#     ('feat_sel', SelectFromModel(LinearSVC(penalty='l1', dual=False)))\n",
    "])"
   ]
  },
  {
   "cell_type": "code",
   "execution_count": 308,
   "metadata": {
    "ExecuteTime": {
     "end_time": "2020-05-17T16:32:54.619652Z",
     "start_time": "2020-05-17T16:32:54.608473Z"
    }
   },
   "outputs": [],
   "source": [
    "pipe.set_params(preprocess=preprocess_data);"
   ]
  },
  {
   "cell_type": "code",
   "execution_count": 309,
   "metadata": {
    "ExecuteTime": {
     "end_time": "2020-05-17T16:32:55.218130Z",
     "start_time": "2020-05-17T16:32:55.097171Z"
    }
   },
   "outputs": [],
   "source": [
    "pipe.fit(dfX, dfy);"
   ]
  },
  {
   "cell_type": "code",
   "execution_count": 310,
   "metadata": {
    "ExecuteTime": {
     "end_time": "2020-05-17T16:32:56.164256Z",
     "start_time": "2020-05-17T16:32:55.642378Z"
    }
   },
   "outputs": [
    {
     "name": "stdout",
     "output_type": "stream",
     "text": [
      "Training score: 0.856341189674523\n",
      "crossvalidation score: 0.824913690289373\n"
     ]
    }
   ],
   "source": [
    "get_training_cv_score(pipe, dfX, dfy, cv=skf, scoring='accuracy')"
   ]
  },
  {
   "cell_type": "code",
   "execution_count": 82,
   "metadata": {
    "ExecuteTime": {
     "end_time": "2020-05-17T13:13:00.640806Z",
     "start_time": "2020-05-17T13:13:00.556585Z"
    }
   },
   "outputs": [
    {
     "data": {
      "text/html": [
       "<div>\n",
       "<style scoped>\n",
       "    .dataframe tbody tr th:only-of-type {\n",
       "        vertical-align: middle;\n",
       "    }\n",
       "\n",
       "    .dataframe tbody tr th {\n",
       "        vertical-align: top;\n",
       "    }\n",
       "\n",
       "    .dataframe thead th {\n",
       "        text-align: right;\n",
       "    }\n",
       "</style>\n",
       "<table border=\"1\" class=\"dataframe\">\n",
       "  <thead>\n",
       "    <tr style=\"text-align: right;\">\n",
       "      <th></th>\n",
       "      <th>mean_fit_time</th>\n",
       "      <th>std_fit_time</th>\n",
       "      <th>mean_score_time</th>\n",
       "      <th>std_score_time</th>\n",
       "      <th>param_ml</th>\n",
       "      <th>param_ml__max_depth</th>\n",
       "      <th>param_ml__max_features</th>\n",
       "      <th>param_ml__min_samples_leaf</th>\n",
       "      <th>param_ml__min_samples_split</th>\n",
       "      <th>param_ml__n_estimators</th>\n",
       "      <th>params</th>\n",
       "      <th>split0_test_score</th>\n",
       "      <th>split1_test_score</th>\n",
       "      <th>split2_test_score</th>\n",
       "      <th>split3_test_score</th>\n",
       "      <th>split4_test_score</th>\n",
       "      <th>mean_test_score</th>\n",
       "      <th>std_test_score</th>\n",
       "      <th>rank_test_score</th>\n",
       "    </tr>\n",
       "  </thead>\n",
       "  <tbody>\n",
       "    <tr>\n",
       "      <th>0</th>\n",
       "      <td>0.046805</td>\n",
       "      <td>0.016277</td>\n",
       "      <td>0.018404</td>\n",
       "      <td>0.001603</td>\n",
       "      <td>(DecisionTreeClassifier(ccp_alpha=0.0, class_w...</td>\n",
       "      <td>4</td>\n",
       "      <td>sqrt</td>\n",
       "      <td>2</td>\n",
       "      <td>2</td>\n",
       "      <td>10</td>\n",
       "      <td>{'ml': (DecisionTreeClassifier(ccp_alpha=0.0, ...</td>\n",
       "      <td>0.748603</td>\n",
       "      <td>0.808989</td>\n",
       "      <td>0.803371</td>\n",
       "      <td>0.780899</td>\n",
       "      <td>0.808989</td>\n",
       "      <td>0.790170</td>\n",
       "      <td>0.023222</td>\n",
       "      <td>317</td>\n",
       "    </tr>\n",
       "    <tr>\n",
       "      <th>1</th>\n",
       "      <td>0.085171</td>\n",
       "      <td>0.000549</td>\n",
       "      <td>0.020508</td>\n",
       "      <td>0.000649</td>\n",
       "      <td>(DecisionTreeClassifier(ccp_alpha=0.0, class_w...</td>\n",
       "      <td>4</td>\n",
       "      <td>sqrt</td>\n",
       "      <td>2</td>\n",
       "      <td>2</td>\n",
       "      <td>50</td>\n",
       "      <td>{'ml': (DecisionTreeClassifier(ccp_alpha=0.0, ...</td>\n",
       "      <td>0.832402</td>\n",
       "      <td>0.820225</td>\n",
       "      <td>0.814607</td>\n",
       "      <td>0.780899</td>\n",
       "      <td>0.837079</td>\n",
       "      <td>0.817042</td>\n",
       "      <td>0.019798</td>\n",
       "      <td>109</td>\n",
       "    </tr>\n",
       "    <tr>\n",
       "      <th>2</th>\n",
       "      <td>0.147496</td>\n",
       "      <td>0.009309</td>\n",
       "      <td>0.026879</td>\n",
       "      <td>0.003377</td>\n",
       "      <td>(DecisionTreeClassifier(ccp_alpha=0.0, class_w...</td>\n",
       "      <td>4</td>\n",
       "      <td>sqrt</td>\n",
       "      <td>2</td>\n",
       "      <td>2</td>\n",
       "      <td>100</td>\n",
       "      <td>{'ml': (DecisionTreeClassifier(ccp_alpha=0.0, ...</td>\n",
       "      <td>0.832402</td>\n",
       "      <td>0.820225</td>\n",
       "      <td>0.820225</td>\n",
       "      <td>0.780899</td>\n",
       "      <td>0.842697</td>\n",
       "      <td>0.819289</td>\n",
       "      <td>0.020954</td>\n",
       "      <td>81</td>\n",
       "    </tr>\n",
       "    <tr>\n",
       "      <th>3</th>\n",
       "      <td>0.264358</td>\n",
       "      <td>0.009485</td>\n",
       "      <td>0.030988</td>\n",
       "      <td>0.000861</td>\n",
       "      <td>(DecisionTreeClassifier(ccp_alpha=0.0, class_w...</td>\n",
       "      <td>4</td>\n",
       "      <td>sqrt</td>\n",
       "      <td>2</td>\n",
       "      <td>2</td>\n",
       "      <td>200</td>\n",
       "      <td>{'ml': (DecisionTreeClassifier(ccp_alpha=0.0, ...</td>\n",
       "      <td>0.815642</td>\n",
       "      <td>0.820225</td>\n",
       "      <td>0.820225</td>\n",
       "      <td>0.780899</td>\n",
       "      <td>0.837079</td>\n",
       "      <td>0.814814</td>\n",
       "      <td>0.018467</td>\n",
       "      <td>138</td>\n",
       "    </tr>\n",
       "    <tr>\n",
       "      <th>4</th>\n",
       "      <td>0.037328</td>\n",
       "      <td>0.000789</td>\n",
       "      <td>0.017205</td>\n",
       "      <td>0.000810</td>\n",
       "      <td>(DecisionTreeClassifier(ccp_alpha=0.0, class_w...</td>\n",
       "      <td>4</td>\n",
       "      <td>sqrt</td>\n",
       "      <td>2</td>\n",
       "      <td>5</td>\n",
       "      <td>10</td>\n",
       "      <td>{'ml': (DecisionTreeClassifier(ccp_alpha=0.0, ...</td>\n",
       "      <td>0.737430</td>\n",
       "      <td>0.808989</td>\n",
       "      <td>0.803371</td>\n",
       "      <td>0.797753</td>\n",
       "      <td>0.808989</td>\n",
       "      <td>0.791306</td>\n",
       "      <td>0.027258</td>\n",
       "      <td>316</td>\n",
       "    </tr>\n",
       "  </tbody>\n",
       "</table>\n",
       "</div>"
      ],
      "text/plain": [
       "   mean_fit_time  std_fit_time  mean_score_time  std_score_time  \\\n",
       "0       0.046805      0.016277         0.018404        0.001603   \n",
       "1       0.085171      0.000549         0.020508        0.000649   \n",
       "2       0.147496      0.009309         0.026879        0.003377   \n",
       "3       0.264358      0.009485         0.030988        0.000861   \n",
       "4       0.037328      0.000789         0.017205        0.000810   \n",
       "\n",
       "                                            param_ml param_ml__max_depth  \\\n",
       "0  (DecisionTreeClassifier(ccp_alpha=0.0, class_w...                   4   \n",
       "1  (DecisionTreeClassifier(ccp_alpha=0.0, class_w...                   4   \n",
       "2  (DecisionTreeClassifier(ccp_alpha=0.0, class_w...                   4   \n",
       "3  (DecisionTreeClassifier(ccp_alpha=0.0, class_w...                   4   \n",
       "4  (DecisionTreeClassifier(ccp_alpha=0.0, class_w...                   4   \n",
       "\n",
       "  param_ml__max_features param_ml__min_samples_leaf  \\\n",
       "0                   sqrt                          2   \n",
       "1                   sqrt                          2   \n",
       "2                   sqrt                          2   \n",
       "3                   sqrt                          2   \n",
       "4                   sqrt                          2   \n",
       "\n",
       "  param_ml__min_samples_split param_ml__n_estimators  \\\n",
       "0                           2                     10   \n",
       "1                           2                     50   \n",
       "2                           2                    100   \n",
       "3                           2                    200   \n",
       "4                           5                     10   \n",
       "\n",
       "                                              params  split0_test_score  \\\n",
       "0  {'ml': (DecisionTreeClassifier(ccp_alpha=0.0, ...           0.748603   \n",
       "1  {'ml': (DecisionTreeClassifier(ccp_alpha=0.0, ...           0.832402   \n",
       "2  {'ml': (DecisionTreeClassifier(ccp_alpha=0.0, ...           0.832402   \n",
       "3  {'ml': (DecisionTreeClassifier(ccp_alpha=0.0, ...           0.815642   \n",
       "4  {'ml': (DecisionTreeClassifier(ccp_alpha=0.0, ...           0.737430   \n",
       "\n",
       "   split1_test_score  split2_test_score  split3_test_score  split4_test_score  \\\n",
       "0           0.808989           0.803371           0.780899           0.808989   \n",
       "1           0.820225           0.814607           0.780899           0.837079   \n",
       "2           0.820225           0.820225           0.780899           0.842697   \n",
       "3           0.820225           0.820225           0.780899           0.837079   \n",
       "4           0.808989           0.803371           0.797753           0.808989   \n",
       "\n",
       "   mean_test_score  std_test_score  rank_test_score  \n",
       "0         0.790170        0.023222              317  \n",
       "1         0.817042        0.019798              109  \n",
       "2         0.819289        0.020954               81  \n",
       "3         0.814814        0.018467              138  \n",
       "4         0.791306        0.027258              316  "
      ]
     },
     "execution_count": 82,
     "metadata": {},
     "output_type": "execute_result"
    }
   ],
   "source": [
    "res = pd.DataFrame(grid_search.cv_results_)\n",
    "res.head()"
   ]
  },
  {
   "cell_type": "code",
   "execution_count": 83,
   "metadata": {
    "ExecuteTime": {
     "end_time": "2020-05-17T13:13:02.977996Z",
     "start_time": "2020-05-17T13:13:02.774721Z"
    }
   },
   "outputs": [
    {
     "data": {
      "text/plain": [
       "<matplotlib.axes._subplots.AxesSubplot at 0x7fb205754a00>"
      ]
     },
     "execution_count": 83,
     "metadata": {},
     "output_type": "execute_result"
    },
    {
     "data": {
      "image/png": "[encoded data removed]",
      "text/plain": [
       "<Figure size 432x288 with 1 Axes>"
      ]
     },
     "metadata": {
      "needs_background": "light"
     },
     "output_type": "display_data"
    }
   ],
   "source": [
    "sns.boxplot(x='param_ml__max_depth', y='mean_test_score', data=res)"
   ]
  },
  {
   "cell_type": "code",
   "execution_count": 84,
   "metadata": {
    "ExecuteTime": {
     "end_time": "2020-05-17T13:13:23.056281Z",
     "start_time": "2020-05-17T13:13:22.883629Z"
    }
   },
   "outputs": [
    {
     "data": {
      "text/plain": [
       "<matplotlib.axes._subplots.AxesSubplot at 0x7fb205f7dcd0>"
      ]
     },
     "execution_count": 84,
     "metadata": {},
     "output_type": "execute_result"
    },
    {
     "data": {
      "image/png": "[encoded data removed]",
      "text/plain": [
       "<Figure size 432x288 with 1 Axes>"
      ]
     },
     "metadata": {
      "needs_background": "light"
     },
     "output_type": "display_data"
    }
   ],
   "source": [
    "sns.boxplot(x='param_ml__min_samples_leaf', y='mean_test_score', data=res)"
   ]
  },
  {
   "cell_type": "code",
   "execution_count": 90,
   "metadata": {
    "ExecuteTime": {
     "end_time": "2020-05-17T13:17:07.121185Z",
     "start_time": "2020-05-17T13:17:06.975762Z"
    }
   },
   "outputs": [
    {
     "data": {
      "text/plain": [
       "<matplotlib.axes._subplots.AxesSubplot at 0x7fb20488e700>"
      ]
     },
     "execution_count": 90,
     "metadata": {},
     "output_type": "execute_result"
    },
    {
     "data": {
      "image/png": "[encoded data removed]",
      "text/plain": [
       "<Figure size 432x288 with 1 Axes>"
      ]
     },
     "metadata": {
      "needs_background": "light"
     },
     "output_type": "display_data"
    }
   ],
   "source": [
    "sns.boxplot(x='param_ml__min_samples_split', y='mean_test_score', data=res)"
   ]
  },
  {
   "cell_type": "code",
   "execution_count": 92,
   "metadata": {
    "ExecuteTime": {
     "end_time": "2020-05-17T13:17:20.658905Z",
     "start_time": "2020-05-17T13:17:20.486546Z"
    }
   },
   "outputs": [
    {
     "data": {
      "text/plain": [
       "<matplotlib.axes._subplots.AxesSubplot at 0x7fb204893e80>"
      ]
     },
     "execution_count": 92,
     "metadata": {},
     "output_type": "execute_result"
    },
    {
     "data": {
      "image/png": "[encoded data removed]",
      "text/plain": [
       "<Figure size 432x288 with 1 Axes>"
      ]
     },
     "metadata": {
      "needs_background": "light"
     },
     "output_type": "display_data"
    }
   ],
   "source": [
    "sns.boxplot(x='param_ml__n_estimators', y='mean_test_score', data=res)"
   ]
  },
  {
   "cell_type": "code",
   "execution_count": 85,
   "metadata": {
    "ExecuteTime": {
     "end_time": "2020-05-17T13:13:36.915582Z",
     "start_time": "2020-05-17T13:13:36.892869Z"
    }
   },
   "outputs": [],
   "source": [
    "def plot_joint_heatmap(gs, x, y, values='mean_test_score', **kwargs):\n",
    "    pvt = res.pivot_table(values=values, \n",
    "                          index=f'param_{x}', \n",
    "                          columns=f'param_{y}')\n",
    "    \n",
    "    return sns.heatmap(pvt)\n",
    "    \n",
    "def plot_joint_heatmap_model(gs, x, y, model_step='ml', values='mean_test_score', **kwargs):\n",
    "    return plot_joint_heatmap(gs, x=f'{model_step}__{x}',\n",
    "                              y=f'{model_step}__{y}', values=values, **kwargs)\n",
    "    "
   ]
  },
  {
   "cell_type": "code",
   "execution_count": 87,
   "metadata": {
    "ExecuteTime": {
     "end_time": "2020-05-17T13:13:43.018920Z",
     "start_time": "2020-05-17T13:13:42.778978Z"
    }
   },
   "outputs": [
    {
     "data": {
      "text/plain": [
       "<matplotlib.axes._subplots.AxesSubplot at 0x7fb2052b0fd0>"
      ]
     },
     "execution_count": 87,
     "metadata": {},
     "output_type": "execute_result"
    },
    {
     "data": {
      "image/png": "[encoded data removed]",
      "text/plain": [
       "<Figure size 432x288 with 2 Axes>"
      ]
     },
     "metadata": {
      "needs_background": "light"
     },
     "output_type": "display_data"
    }
   ],
   "source": [
    "plot_joint_heatmap_model(grid_search, 'max_depth', 'min_samples_leaf')"
   ]
  },
  {
   "cell_type": "code",
   "execution_count": 88,
   "metadata": {
    "ExecuteTime": {
     "end_time": "2020-05-17T13:13:53.757054Z",
     "start_time": "2020-05-17T13:13:53.547424Z"
    }
   },
   "outputs": [
    {
     "data": {
      "text/plain": [
       "<matplotlib.axes._subplots.AxesSubplot at 0x7fb2050dcdf0>"
      ]
     },
     "execution_count": 88,
     "metadata": {},
     "output_type": "execute_result"
    },
    {
     "data": {
      "image/png": "[encoded data removed]",
      "text/plain": [
       "<Figure size 432x288 with 2 Axes>"
      ]
     },
     "metadata": {
      "needs_background": "light"
     },
     "output_type": "display_data"
    }
   ],
   "source": [
    "plot_joint_heatmap_model(grid_search, 'min_samples_split', 'min_samples_leaf')"
   ]
  },
  {
   "cell_type": "code",
   "execution_count": 112,
   "metadata": {
    "ExecuteTime": {
     "end_time": "2020-05-17T13:21:49.504148Z",
     "start_time": "2020-05-17T13:21:47.824489Z"
    }
   },
   "outputs": [
    {
     "name": "stdout",
     "output_type": "stream",
     "text": [
      "Training score: 0.9012345679012346\n",
      "crossvalidation score: 0.8294017952419811\n"
     ]
    }
   ],
   "source": [
    "get_training_cv_score(pipe, dfX, dfy, cv=skf)"
   ]
  },
  {
   "cell_type": "code",
   "execution_count": 113,
   "metadata": {
    "ExecuteTime": {
     "end_time": "2020-05-17T13:22:30.251975Z",
     "start_time": "2020-05-17T13:22:30.237291Z"
    }
   },
   "outputs": [
    {
     "name": "stdout",
     "output_type": "stream",
     "text": [
      "['bootstrap',\n",
      " 'ccp_alpha',\n",
      " 'class_weight',\n",
      " 'criterion',\n",
      " 'max_depth',\n",
      " 'max_features',\n",
      " 'max_leaf_nodes',\n",
      " 'max_samples',\n",
      " 'min_impurity_decrease',\n",
      " 'min_impurity_split',\n",
      " 'min_samples_leaf',\n",
      " 'min_samples_split',\n",
      " 'min_weight_fraction_leaf',\n",
      " 'n_estimators',\n",
      " 'n_jobs',\n",
      " 'oob_score',\n",
      " 'random_state',\n",
      " 'verbose',\n",
      " 'warm_start']\n"
     ]
    }
   ],
   "source": [
    "from src.utils import print_params\n",
    "print_params(pipe.named_steps['ml'])"
   ]
  },
  {
   "cell_type": "code",
   "execution_count": 104,
   "metadata": {
    "ExecuteTime": {
     "end_time": "2020-05-17T13:19:17.415474Z",
     "start_time": "2020-05-17T13:19:15.663858Z"
    }
   },
   "outputs": [
    {
     "name": "stdout",
     "output_type": "stream",
     "text": [
      "Training score: 0.9012345679012346\n",
      "crossvalidation score: 0.8294017952419811\n"
     ]
    }
   ],
   "source": [
    "get_training_cv_score(pipe, dfX, dfy, cv=skf)"
   ]
  },
  {
   "cell_type": "code",
   "execution_count": 135,
   "metadata": {
    "ExecuteTime": {
     "end_time": "2020-05-17T13:29:22.890817Z",
     "start_time": "2020-05-17T13:29:20.904594Z"
    }
   },
   "outputs": [
    {
     "name": "stdout",
     "output_type": "stream",
     "text": [
      "Best param: {'ml__min_samples_leaf': 2}\n",
      "Best score: 0.8294017952419811\n"
     ]
    }
   ],
   "source": [
    "gs = GridSearchCV(pipe, {'ml__min_samples_leaf': [2]}, cv=skf).fit(dfX, dfy)\n",
    "get_best_param_score(gs)"
   ]
  },
  {
   "cell_type": "code",
   "execution_count": 140,
   "metadata": {
    "ExecuteTime": {
     "end_time": "2020-05-17T13:31:17.321997Z",
     "start_time": "2020-05-17T13:31:17.306836Z"
    }
   },
   "outputs": [],
   "source": [
    "from src.utils import create_submission, get_submission_name"
   ]
  },
  {
   "cell_type": "code",
   "execution_count": 137,
   "metadata": {
    "ExecuteTime": {
     "end_time": "2020-05-17T13:30:45.813878Z",
     "start_time": "2020-05-17T13:30:45.779479Z"
    }
   },
   "outputs": [],
   "source": [
    "from src.utils import load_data\n",
    "dfX_test = load_data('test')"
   ]
  },
  {
   "cell_type": "code",
   "execution_count": 138,
   "metadata": {
    "ExecuteTime": {
     "end_time": "2020-05-17T13:30:50.192067Z",
     "start_time": "2020-05-17T13:30:50.141385Z"
    }
   },
   "outputs": [],
   "source": [
    "pred = pipe.predict(dfX_test)"
   ]
  },
  {
   "cell_type": "code",
   "execution_count": 142,
   "metadata": {
    "ExecuteTime": {
     "end_time": "2020-05-17T13:32:27.544190Z",
     "start_time": "2020-05-17T13:32:27.540148Z"
    }
   },
   "outputs": [],
   "source": [
    "outname = get_submission_name(dp, True)"
   ]
  },
  {
   "cell_type": "code",
   "execution_count": 143,
   "metadata": {
    "ExecuteTime": {
     "end_time": "2020-05-17T13:32:38.004709Z",
     "start_time": "2020-05-17T13:32:37.954139Z"
    }
   },
   "outputs": [
    {
     "name": "stdout",
     "output_type": "stream",
     "text": [
      "Created submission file at /home/abhi/main/coding/Python-code/mygit/Titanic-Survival/data/submission/dp2_1705201902_submission.csv\n"
     ]
    },
    {
     "data": {
      "text/html": [
       "<div>\n",
       "<style scoped>\n",
       "    .dataframe tbody tr th:only-of-type {\n",
       "        vertical-align: middle;\n",
       "    }\n",
       "\n",
       "    .dataframe tbody tr th {\n",
       "        vertical-align: top;\n",
       "    }\n",
       "\n",
       "    .dataframe thead th {\n",
       "        text-align: right;\n",
       "    }\n",
       "</style>\n",
       "<table border=\"1\" class=\"dataframe\">\n",
       "  <thead>\n",
       "    <tr style=\"text-align: right;\">\n",
       "      <th></th>\n",
       "      <th>PassengerId</th>\n",
       "      <th>Survived</th>\n",
       "    </tr>\n",
       "  </thead>\n",
       "  <tbody>\n",
       "    <tr>\n",
       "      <th>0</th>\n",
       "      <td>892</td>\n",
       "      <td>0</td>\n",
       "    </tr>\n",
       "    <tr>\n",
       "      <th>1</th>\n",
       "      <td>893</td>\n",
       "      <td>0</td>\n",
       "    </tr>\n",
       "    <tr>\n",
       "      <th>2</th>\n",
       "      <td>894</td>\n",
       "      <td>0</td>\n",
       "    </tr>\n",
       "    <tr>\n",
       "      <th>3</th>\n",
       "      <td>895</td>\n",
       "      <td>0</td>\n",
       "    </tr>\n",
       "    <tr>\n",
       "      <th>4</th>\n",
       "      <td>896</td>\n",
       "      <td>0</td>\n",
       "    </tr>\n",
       "    <tr>\n",
       "      <th>...</th>\n",
       "      <td>...</td>\n",
       "      <td>...</td>\n",
       "    </tr>\n",
       "    <tr>\n",
       "      <th>413</th>\n",
       "      <td>1305</td>\n",
       "      <td>0</td>\n",
       "    </tr>\n",
       "    <tr>\n",
       "      <th>414</th>\n",
       "      <td>1306</td>\n",
       "      <td>1</td>\n",
       "    </tr>\n",
       "    <tr>\n",
       "      <th>415</th>\n",
       "      <td>1307</td>\n",
       "      <td>0</td>\n",
       "    </tr>\n",
       "    <tr>\n",
       "      <th>416</th>\n",
       "      <td>1308</td>\n",
       "      <td>0</td>\n",
       "    </tr>\n",
       "    <tr>\n",
       "      <th>417</th>\n",
       "      <td>1309</td>\n",
       "      <td>1</td>\n",
       "    </tr>\n",
       "  </tbody>\n",
       "</table>\n",
       "<p>418 rows × 2 columns</p>\n",
       "</div>"
      ],
      "text/plain": [
       "     PassengerId  Survived\n",
       "0            892         0\n",
       "1            893         0\n",
       "2            894         0\n",
       "3            895         0\n",
       "4            896         0\n",
       "..           ...       ...\n",
       "413         1305         0\n",
       "414         1306         1\n",
       "415         1307         0\n",
       "416         1308         0\n",
       "417         1309         1\n",
       "\n",
       "[418 rows x 2 columns]"
      ]
     },
     "execution_count": 143,
     "metadata": {},
     "output_type": "execute_result"
    }
   ],
   "source": [
    "create_submission(pred, outname)"
   ]
  },
  {
   "cell_type": "markdown",
   "metadata": {},
   "source": [
    "## See how these best params perform in the other pipeline"
   ]
  },
  {
   "cell_type": "code",
   "execution_count": 73,
   "metadata": {
    "ExecuteTime": {
     "end_time": "2020-05-17T13:10:22.773316Z",
     "start_time": "2020-05-17T13:10:22.762083Z"
    }
   },
   "outputs": [],
   "source": [
    "from src.pipeline import dp1 "
   ]
  },
  {
   "cell_type": "code",
   "execution_count": 75,
   "metadata": {
    "ExecuteTime": {
     "end_time": "2020-05-17T13:11:25.819728Z",
     "start_time": "2020-05-17T13:11:25.807598Z"
    }
   },
   "outputs": [],
   "source": [
    "dp1.mlmodel = RandomForestClassifier(random_state=1)\n",
    "pipe1 = dp1.get_pipeline()"
   ]
  },
  {
   "cell_type": "markdown",
   "metadata": {},
   "source": [
    "### Training score and crossvalidate accuracy with best params of dp1"
   ]
  },
  {
   "cell_type": "code",
   "execution_count": 77,
   "metadata": {
    "ExecuteTime": {
     "end_time": "2020-05-17T13:11:38.181199Z",
     "start_time": "2020-05-17T13:11:35.456750Z"
    }
   },
   "outputs": [
    {
     "name": "stdout",
     "output_type": "stream",
     "text": [
      "Training score: 1.0\n",
      "crossvalidation score: 0.8241709036888248\n"
     ]
    }
   ],
   "source": [
    "pipe1.fit(dfX, dfy)\n",
    "get_training_cv_score(pipe1, dfX, dfy, cv=rskf)"
   ]
  },
  {
   "cell_type": "code",
   "execution_count": 78,
   "metadata": {
    "ExecuteTime": {
     "end_time": "2020-05-17T13:11:54.001467Z",
     "start_time": "2020-05-17T13:11:53.990589Z"
    }
   },
   "outputs": [],
   "source": [
    "pipe1.set_params(**grid_search.best_params_);"
   ]
  },
  {
   "cell_type": "markdown",
   "metadata": {
    "ExecuteTime": {
     "end_time": "2020-05-16T19:49:56.690537Z",
     "start_time": "2020-05-16T19:49:56.652933Z"
    }
   },
   "source": [
    "### Training score and crossvalidate accuracy with best params of dp1"
   ]
  },
  {
   "cell_type": "code",
   "execution_count": 81,
   "metadata": {
    "ExecuteTime": {
     "end_time": "2020-05-17T13:12:07.778325Z",
     "start_time": "2020-05-17T13:12:07.575715Z"
    }
   },
   "outputs": [
    {
     "name": "stdout",
     "output_type": "stream",
     "text": [
      "Training score: 0.9113355780022446\n",
      "crossvalidation score: 0.8215617349821104\n"
     ]
    }
   ],
   "source": [
    "pipe1.fit(dfX, dfy)\n",
    "get_training_cv_score(pipe1, dfX, dfy, cv=skf)"
   ]
  },
  {
   "cell_type": "markdown",
   "metadata": {},
   "source": [
    "### Performing new `GridSearchCV` for dp2"
   ]
  },
  {
   "cell_type": "markdown",
   "metadata": {},
   "source": [
    "dp2 has more redundant features aka more overfitting, hence we can try\n",
    "- lesser max_depth\n",
    "- lesser max_features\n",
    "- higher min_samples_leaf\n",
    "- higher min_samples_split"
   ]
  },
  {
   "cell_type": "code",
   "execution_count": 108,
   "metadata": {
    "ExecuteTime": {
     "end_time": "2020-05-17T08:19:10.134444Z",
     "start_time": "2020-05-17T08:17:45.811583Z"
    }
   },
   "outputs": [
    {
     "name": "stdout",
     "output_type": "stream",
     "text": [
      "Best param: {'ml': DecisionTreeClassifier(ccp_alpha=0.0, class_weight=None, criterion='gini',\n",
      "                       max_depth=12.0, max_features=0.8, max_leaf_nodes=None,\n",
      "                       min_impurity_decrease=0.0, min_impurity_split=None,\n",
      "                       min_samples_leaf=10, min_samples_split=2,\n",
      "                       min_weight_fraction_leaf=0.0, presort='deprecated',\n",
      "                       random_state=None, splitter='best'), 'ml__max_depth': 12.0, 'ml__max_features': 0.8, 'ml__min_samples_leaf': 10, 'ml__min_samples_split': 2}\n",
      "Best score: 0.8282656455966354\n",
      "CPU times: user 1min 23s, sys: 181 ms, total: 1min 23s\n",
      "Wall time: 1min 24s\n"
     ]
    }
   ],
   "source": [
    "%%time\n",
    "gs = GridSearchCV(pipe2, param_grid, cv=skf).fit(dfX, dfy)\n",
    "\n",
    "get_best_param_score(gs)"
   ]
  },
  {
   "cell_type": "code",
   "execution_count": 177,
   "metadata": {
    "ExecuteTime": {
     "end_time": "2020-05-17T08:50:28.946670Z",
     "start_time": "2020-05-17T08:50:28.937395Z"
    }
   },
   "outputs": [],
   "source": [
    "pipe2 = gs.best_estimator_"
   ]
  },
  {
   "cell_type": "code",
   "execution_count": 188,
   "metadata": {
    "ExecuteTime": {
     "end_time": "2020-05-17T08:51:48.617224Z",
     "start_time": "2020-05-17T08:51:44.048680Z"
    }
   },
   "outputs": [
    {
     "data": {
      "text/plain": [
       "<module 'matplotlib.pyplot' from '/home/abhi/miniconda3/envs/titansurv/lib/python3.8/site-packages/matplotlib/pyplot.py'>"
      ]
     },
     "execution_count": 188,
     "metadata": {},
     "output_type": "execute_result"
    },
    {
     "data": {
      "image/png": "[encoded data removed]",
      "text/plain": [
       "<Figure size 1440x360 with 3 Axes>"
      ]
     },
     "metadata": {
      "needs_background": "light"
     },
     "output_type": "display_data"
    }
   ],
   "source": [
    "plot_learning_curve(pipe2, 'Learning curve', dfX, dfy, cv=skf, train_sizes=np.linspace(0.1, 1.0, 10))"
   ]
  },
  {
   "cell_type": "markdown",
   "metadata": {},
   "source": [
    "## Keep a record of a file to store best params of every model you tune"
   ]
  },
  {
   "cell_type": "code",
   "execution_count": 60,
   "metadata": {
    "ExecuteTime": {
     "end_time": "2020-05-17T07:37:22.582088Z",
     "start_time": "2020-05-17T07:37:22.530673Z"
    }
   },
   "outputs": [],
   "source": [
    "from sklearn.model_selection import learning_curve\n",
    "from sklearn.model_selection import ShuffleSplit\n",
    "\n",
    "\n",
    "def plot_learning_curve(estimator, title, X, y, axes=None, ylim=None, cv=None,\n",
    "                        n_jobs=None, train_sizes=np.linspace(.1, 1.0, 5)):\n",
    "    \"\"\"\n",
    "    Generate 3 plots: the test and training learning curve, the training\n",
    "    samples vs fit times curve, the fit times vs score curve.\n",
    "\n",
    "    Parameters\n",
    "    ----------\n",
    "    estimator : object type that implements the \"fit\" and \"predict\" methods\n",
    "        An object of that type which is cloned for each validation.\n",
    "\n",
    "    title : string\n",
    "        Title for the chart.\n",
    "\n",
    "    X : array-like, shape (n_samples, n_features)\n",
    "        Training vector, where n_samples is the number of samples and\n",
    "        n_features is the number of features.\n",
    "\n",
    "    y : array-like, shape (n_samples) or (n_samples, n_features), optional\n",
    "        Target relative to X for classification or regression;\n",
    "        None for unsupervised learning.\n",
    "\n",
    "    axes : array of 3 axes, optional (default=None)\n",
    "        Axes to use for plotting the curves.\n",
    "\n",
    "    ylim : tuple, shape (ymin, ymax), optional\n",
    "        Defines minimum and maximum yvalues plotted.\n",
    "\n",
    "    cv : int, cross-validation generator or an iterable, optional\n",
    "        Determines the cross-validation splitting strategy.\n",
    "        Possible inputs for cv are:\n",
    "\n",
    "          - None, to use the default 5-fold cross-validation,\n",
    "          - integer, to specify the number of folds.\n",
    "          - :term:`CV splitter`,\n",
    "          - An iterable yielding (train, test) splits as arrays of indices.\n",
    "\n",
    "        For integer/None inputs, if ``y`` is binary or multiclass,\n",
    "        :class:`StratifiedKFold` used. If the estimator is not a classifier\n",
    "        or if ``y`` is neither binary nor multiclass, :class:`KFold` is used.\n",
    "\n",
    "        Refer :ref:`User Guide <cross_validation>` for the various\n",
    "        cross-validators that can be used here.\n",
    "\n",
    "    n_jobs : int or None, optional (default=None)\n",
    "        Number of jobs to run in parallel.\n",
    "        ``None`` means 1 unless in a :obj:`joblib.parallel_backend` context.\n",
    "        ``-1`` means using all processors. See :term:`Glossary <n_jobs>`\n",
    "        for more details.\n",
    "\n",
    "    train_sizes : array-like, shape (n_ticks,), dtype float or int\n",
    "        Relative or absolute numbers of training examples that will be used to\n",
    "        generate the learning curve. If the dtype is float, it is regarded as a\n",
    "        fraction of the maximum size of the training set (that is determined\n",
    "        by the selected validation method), i.e. it has to be within (0, 1].\n",
    "        Otherwise it is interpreted as absolute sizes of the training sets.\n",
    "        Note that for classification the number of samples usually have to\n",
    "        be big enough to contain at least one sample from each class.\n",
    "        (default: np.linspace(0.1, 1.0, 5))\n",
    "    \"\"\"\n",
    "    if axes is None:\n",
    "        _, axes = plt.subplots(1, 3, figsize=(20, 5))\n",
    "\n",
    "    axes[0].set_title(title)\n",
    "    if ylim is not None:\n",
    "        axes[0].set_ylim(*ylim)\n",
    "    axes[0].set_xlabel(\"Training examples\")\n",
    "    axes[0].set_ylabel(\"Score\")\n",
    "\n",
    "    train_sizes, train_scores, test_scores, fit_times, _ = \\\n",
    "        learning_curve(estimator, X, y, cv=cv, n_jobs=n_jobs,\n",
    "                       train_sizes=train_sizes,\n",
    "                       return_times=True)\n",
    "    train_scores_mean = np.mean(train_scores, axis=1)\n",
    "    train_scores_std = np.std(train_scores, axis=1)\n",
    "    test_scores_mean = np.mean(test_scores, axis=1)\n",
    "    test_scores_std = np.std(test_scores, axis=1)\n",
    "    fit_times_mean = np.mean(fit_times, axis=1)\n",
    "    fit_times_std = np.std(fit_times, axis=1)\n",
    "\n",
    "    # Plot learning curve\n",
    "    axes[0].grid()\n",
    "    axes[0].fill_between(train_sizes, train_scores_mean - train_scores_std,\n",
    "                         train_scores_mean + train_scores_std, alpha=0.1,\n",
    "                         color=\"r\")\n",
    "    axes[0].fill_between(train_sizes, test_scores_mean - test_scores_std,\n",
    "                         test_scores_mean + test_scores_std, alpha=0.1,\n",
    "                         color=\"g\")\n",
    "    axes[0].plot(train_sizes, train_scores_mean, 'o-', color=\"r\",\n",
    "                 label=\"Training score\")\n",
    "    axes[0].plot(train_sizes, test_scores_mean, 'o-', color=\"g\",\n",
    "                 label=\"Cross-validation score\")\n",
    "    axes[0].legend(loc=\"best\")\n",
    "\n",
    "    # Plot n_samples vs fit_times\n",
    "    axes[1].grid()\n",
    "    axes[1].plot(train_sizes, fit_times_mean, 'o-')\n",
    "    axes[1].fill_between(train_sizes, fit_times_mean - fit_times_std,\n",
    "                         fit_times_mean + fit_times_std, alpha=0.1)\n",
    "    axes[1].set_xlabel(\"Training examples\")\n",
    "    axes[1].set_ylabel(\"fit_times\")\n",
    "    axes[1].set_title(\"Scalability of the model\")\n",
    "\n",
    "    # Plot fit_time vs score\n",
    "    axes[2].grid()\n",
    "    axes[2].plot(fit_times_mean, test_scores_mean, 'o-')\n",
    "    axes[2].fill_between(fit_times_mean, test_scores_mean - test_scores_std,\n",
    "                         test_scores_mean + test_scores_std, alpha=0.1)\n",
    "    axes[2].set_xlabel(\"fit_times\")\n",
    "    axes[2].set_ylabel(\"Score\")\n",
    "    axes[2].set_title(\"Performance of the model\")\n",
    "\n",
    "    return plt"
   ]
  }
 ],
 "metadata": {
  "kernelspec": {
   "display_name": "Python [conda env:titansurv] *",
   "language": "python",
   "name": "conda-env-titansurv-py"
  },
  "language_info": {
   "codemirror_mode": {
    "name": "ipython",
    "version": 3
   },
   "file_extension": ".py",
   "mimetype": "text/x-python",
   "name": "python",
   "nbconvert_exporter": "python",
   "pygments_lexer": "ipython3",
   "version": "3.8.2"
  }
 },
 "nbformat": 4,
 "nbformat_minor": 4
}
